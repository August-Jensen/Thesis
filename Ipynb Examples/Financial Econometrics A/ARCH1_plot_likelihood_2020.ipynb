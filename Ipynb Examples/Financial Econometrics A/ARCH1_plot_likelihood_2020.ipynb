{
 "cells": [
  {
   "cell_type": "code",
   "execution_count": 52,
   "metadata": {},
   "outputs": [],
   "source": [
    "#Importing packages we need\n",
    "from numpy import genfromtxt #This is used to loading a csv-file as a numpy array\n",
    "import numpy as np\n",
    "import scipy.optimize as opt #used to numerically optimize\n",
    "import matplotlib.pyplot as plt #pyplot is used to plot the data\n",
    "import pandas as pd\n",
    "from matplotlib import cm"
   ]
  },
  {
   "cell_type": "code",
   "execution_count": 53,
   "metadata": {},
   "outputs": [],
   "source": [
    "#Loading data (here we use the data we simulated in our earlier script)\n",
    "\n",
    "#Locate my folder -insert your own folder here (remember Python dont understand spaces so use underscore '_')\n",
    "my_folder='C:/Users/xxx'\n",
    "x_val = genfromtxt(my_folder+'ARCH1sim.csv', delimiter=',') #loading the csv data and storing it as a np array"
   ]
  },
  {
   "cell_type": "code",
   "execution_count": 54,
   "metadata": {},
   "outputs": [],
   "source": [
    "def ARCH11_filter(omega, alpha,x_values): #function to find sigma^2 from observations\n",
    "    T=len(x_values)\n",
    "    \n",
    "    #Define the series sigma^2_t (sigma2) as empty variables we assign values to later. \n",
    "    sigma2=np.empty(T)\n",
    "    \n",
    "    sigma2[0]=1\n",
    "    \n",
    "    for t in range(1,T):\n",
    "        sigma2[t]=omega + alpha*x_values[t-1]**2\n",
    "    \n",
    "    return sigma2\n",
    "\n",
    "def ARCH11_likelihood(omega,alpha):\n",
    "    \n",
    "    sigma2=ARCH11_filter(omega, alpha, x_val)\n",
    "    \n",
    "    LogL=np.sum(-np.log(sigma2)-x_val**2/sigma2) #Constants have been removed from the expression\n",
    "    \n",
    "    return LogL"
   ]
  },
  {
   "cell_type": "code",
   "execution_count": 55,
   "metadata": {},
   "outputs": [],
   "source": [
    "grid_alp=np.array([0.1,0.3,0.35,0.4,0.5,0.9,1.5,3]) #defining the grid\n",
    "n=len(grid_alp) #length of grid\n",
    "log_values=np.zeros(n) #the number of values above"
   ]
  },
  {
   "cell_type": "code",
   "execution_count": 56,
   "metadata": {},
   "outputs": [],
   "source": [
    "omega=1\n",
    "for i in range(n):\n",
    "    log_values[i]=ARCH11_likelihood(omega,grid_alp[i])"
   ]
  },
  {
   "cell_type": "code",
   "execution_count": 57,
   "metadata": {},
   "outputs": [
    {
     "data": {
      "text/plain": [
       "[<matplotlib.lines.Line2D at 0x14d6f53ce88>]"
      ]
     },
     "execution_count": 57,
     "metadata": {},
     "output_type": "execute_result"
    },
    {
     "data": {
      "image/png": "[encoded data removed]",
      "text/plain": [
       "<Figure size 432x288 with 1 Axes>"
      ]
     },
     "metadata": {
      "needs_background": "light"
     },
     "output_type": "display_data"
    }
   ],
   "source": [
    "plt.plot(grid_alp,log_values)"
   ]
  },
  {
   "cell_type": "code",
   "execution_count": null,
   "metadata": {},
   "outputs": [],
   "source": []
  },
  {
   "cell_type": "code",
   "execution_count": null,
   "metadata": {},
   "outputs": [],
   "source": []
  },
  {
   "cell_type": "code",
   "execution_count": null,
   "metadata": {},
   "outputs": [],
   "source": []
  },
  {
   "cell_type": "code",
   "execution_count": null,
   "metadata": {},
   "outputs": [],
   "source": []
  }
 ],
 "metadata": {
  "kernelspec": {
   "display_name": "Python 3 (ipykernel)",
   "language": "python",
   "name": "python3"
  },
  "language_info": {
   "codemirror_mode": {
    "name": "ipython",
    "version": 3
   },
   "file_extension": ".py",
   "mimetype": "text/x-python",
   "name": "python",
   "nbconvert_exporter": "python",
   "pygments_lexer": "ipython3",
   "version": "3.11.6"
  }
 },
 "nbformat": 4,
 "nbformat_minor": 4
}
