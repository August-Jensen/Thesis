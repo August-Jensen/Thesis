{
 "cells": [
  {
   "cell_type": "markdown",
   "metadata": {},
   "source": [
    "# Sample Template"
   ]
  },
  {
   "cell_type": "markdown",
   "metadata": {},
   "source": [
    "Here is some sample text, and a first block of code"
   ]
  },
  {
   "cell_type": "code",
   "execution_count": 18,
   "metadata": {},
   "outputs": [
    {
     "data": {
      "text/html": [
       "<div>\n",
       "<style scoped>\n",
       "    .dataframe tbody tr th:only-of-type {\n",
       "        vertical-align: middle;\n",
       "    }\n",
       "\n",
       "    .dataframe tbody tr th {\n",
       "        vertical-align: top;\n",
       "    }\n",
       "\n",
       "    .dataframe thead th {\n",
       "        text-align: right;\n",
       "    }\n",
       "</style>\n",
       "<table border=\"1\" class=\"dataframe\">\n",
       "  <thead>\n",
       "    <tr style=\"text-align: right;\">\n",
       "      <th></th>\n",
       "      <th>Unnamed: 0.1</th>\n",
       "      <th>Unnamed: 0</th>\n",
       "      <th>Date</th>\n",
       "      <th>Return</th>\n",
       "      <th>pct</th>\n",
       "      <th>Cum</th>\n",
       "    </tr>\n",
       "  </thead>\n",
       "  <tbody>\n",
       "    <tr>\n",
       "      <th>0</th>\n",
       "      <td>0</td>\n",
       "      <td>0</td>\n",
       "      <td>1950-01-04</td>\n",
       "      <td>0.000000</td>\n",
       "      <td>0.000000</td>\n",
       "      <td>0.000000</td>\n",
       "    </tr>\n",
       "    <tr>\n",
       "      <th>1</th>\n",
       "      <td>1</td>\n",
       "      <td>1</td>\n",
       "      <td>1950-01-05</td>\n",
       "      <td>0.004737</td>\n",
       "      <td>0.473654</td>\n",
       "      <td>0.004737</td>\n",
       "    </tr>\n",
       "    <tr>\n",
       "      <th>2</th>\n",
       "      <td>2</td>\n",
       "      <td>2</td>\n",
       "      <td>1950-01-06</td>\n",
       "      <td>0.002949</td>\n",
       "      <td>0.294898</td>\n",
       "      <td>0.007686</td>\n",
       "    </tr>\n",
       "    <tr>\n",
       "      <th>3</th>\n",
       "      <td>3</td>\n",
       "      <td>3</td>\n",
       "      <td>1950-01-09</td>\n",
       "      <td>0.005872</td>\n",
       "      <td>0.587201</td>\n",
       "      <td>0.013558</td>\n",
       "    </tr>\n",
       "    <tr>\n",
       "      <th>4</th>\n",
       "      <td>4</td>\n",
       "      <td>4</td>\n",
       "      <td>1950-01-10</td>\n",
       "      <td>-0.002932</td>\n",
       "      <td>-0.293163</td>\n",
       "      <td>0.010626</td>\n",
       "    </tr>\n",
       "    <tr>\n",
       "      <th>...</th>\n",
       "      <td>...</td>\n",
       "      <td>...</td>\n",
       "      <td>...</td>\n",
       "      <td>...</td>\n",
       "      <td>...</td>\n",
       "      <td>...</td>\n",
       "    </tr>\n",
       "    <tr>\n",
       "      <th>18444</th>\n",
       "      <td>18444</td>\n",
       "      <td>18444</td>\n",
       "      <td>2023-04-24</td>\n",
       "      <td>0.000851</td>\n",
       "      <td>0.085122</td>\n",
       "      <td>5.503385</td>\n",
       "    </tr>\n",
       "    <tr>\n",
       "      <th>18445</th>\n",
       "      <td>18445</td>\n",
       "      <td>18445</td>\n",
       "      <td>2023-04-25</td>\n",
       "      <td>-0.015937</td>\n",
       "      <td>-1.593718</td>\n",
       "      <td>5.487448</td>\n",
       "    </tr>\n",
       "    <tr>\n",
       "      <th>18446</th>\n",
       "      <td>18446</td>\n",
       "      <td>18446</td>\n",
       "      <td>2023-04-26</td>\n",
       "      <td>-0.003849</td>\n",
       "      <td>-0.384858</td>\n",
       "      <td>5.483599</td>\n",
       "    </tr>\n",
       "    <tr>\n",
       "      <th>18447</th>\n",
       "      <td>18447</td>\n",
       "      <td>18447</td>\n",
       "      <td>2023-04-27</td>\n",
       "      <td>0.019377</td>\n",
       "      <td>1.937719</td>\n",
       "      <td>5.502977</td>\n",
       "    </tr>\n",
       "    <tr>\n",
       "      <th>18448</th>\n",
       "      <td>18448</td>\n",
       "      <td>18448</td>\n",
       "      <td>2023-04-28</td>\n",
       "      <td>0.008219</td>\n",
       "      <td>0.821933</td>\n",
       "      <td>5.511196</td>\n",
       "    </tr>\n",
       "  </tbody>\n",
       "</table>\n",
       "<p>18449 rows × 6 columns</p>\n",
       "</div>"
      ],
      "text/plain": [
       "       Unnamed: 0.1  Unnamed: 0        Date    Return       pct       Cum\n",
       "0                 0           0  1950-01-04  0.000000  0.000000  0.000000\n",
       "1                 1           1  1950-01-05  0.004737  0.473654  0.004737\n",
       "2                 2           2  1950-01-06  0.002949  0.294898  0.007686\n",
       "3                 3           3  1950-01-09  0.005872  0.587201  0.013558\n",
       "4                 4           4  1950-01-10 -0.002932 -0.293163  0.010626\n",
       "...             ...         ...         ...       ...       ...       ...\n",
       "18444         18444       18444  2023-04-24  0.000851  0.085122  5.503385\n",
       "18445         18445       18445  2023-04-25 -0.015937 -1.593718  5.487448\n",
       "18446         18446       18446  2023-04-26 -0.003849 -0.384858  5.483599\n",
       "18447         18447       18447  2023-04-27  0.019377  1.937719  5.502977\n",
       "18448         18448       18448  2023-04-28  0.008219  0.821933  5.511196\n",
       "\n",
       "[18449 rows x 6 columns]"
      ]
     },
     "execution_count": 18,
     "metadata": {},
     "output_type": "execute_result"
    }
   ],
   "source": [
    "import numpy as np\n",
    "import pandas as pd\n",
    "import matplotlib.pyplot as plt\n",
    "from scipy.stats import norm\n",
    "df = pd.read_csv('SP.csv', sep=';')\n",
    "df"
   ]
  },
  {
   "cell_type": "code",
   "execution_count": 16,
   "metadata": {},
   "outputs": [],
   "source": [
    "def hamilton_filter(x, transition_matrix, initial_state_probs, initial_params):\n",
    "    n = len(x)\n",
    "    num_states = len(initial_state_probs)\n",
    "\n",
    "    # Parameters for each state\n",
    "    mu = initial_params['mu']\n",
    "    phi = initial_params['phi']\n",
    "    sigma = initial_params['sigma']\n",
    "\n",
    "    # Initialize probabilities and likelihoods\n",
    "    filtered_probs = np.zeros((n, num_states))\n",
    "    predicted_probs = np.zeros((n, num_states))\n",
    "    filtered_probs[0] = initial_state_probs\n",
    "\n",
    "    for t in range(1, n):\n",
    "        # Prediction step\n",
    "        predicted_probs[t] = transition_matrix @ filtered_probs[t-1]\n",
    "\n",
    "        # Update step\n",
    "        likelihoods = np.array([norm.pdf(x[t], mu[s] + phi[s] * x[t-1], np.sqrt(sigma[s])) for s in range(num_states)])\n",
    "        updated_probs = predicted_probs[t] * likelihoods\n",
    "        filtered_probs[t] = updated_probs / np.sum(updated_probs)\n",
    "\n",
    "    return filtered_probs, predicted_probs\n",
    "\n",
    "def backward_smoothing(filtered_probs, predicted_probs, transition_matrix):\n",
    "    n, num_states = filtered_probs.shape\n",
    "    smoothed_probs = np.zeros_like(filtered_probs)\n",
    "    smoothed_probs[-1] = filtered_probs[-1]\n",
    "\n",
    "    for t in range(n-2, -1, -1):\n",
    "        smoothing_factor = (transition_matrix * (smoothed_probs[t+1] / predicted_probs[t+1])).sum(axis=1)\n",
    "        smoothed_probs[t] = filtered_probs[t] * smoothing_factor\n",
    "        smoothed_probs[t] /= np.sum(smoothed_probs[t])  # normalize\n",
    "\n",
    "    return smoothed_probs"
   ]
  },
  {
   "cell_type": "markdown",
   "metadata": {},
   "source": [
    "## A second heading"
   ]
  },
  {
   "cell_type": "markdown",
   "metadata": {},
   "source": [
    "and some more text"
   ]
  },
  {
   "cell_type": "code",
   "execution_count": 17,
   "metadata": {},
   "outputs": [
    {
     "name": "stdout",
     "output_type": "stream",
     "text": [
      "[[0.5 0.5]]\n",
      "[[0.5 0.5]]\n"
     ]
    }
   ],
   "source": [
    "\n",
    "# Example usage\n",
    "x = np.array([df['Return']])  # Replace with your data\n",
    "transition_matrix = np.array([[0.9, 0.1], [0.1, 0.9]])  # Example transition probabilities\n",
    "initial_state_probs = np.array([0.5, 0.5])  # Initial state probabilities\n",
    "initial_params = {'mu': [0, 1], 'phi': [0.5, 0.5], 'sigma': [1, 2]}  # Initial parameter guesses\n",
    "\n",
    "filtered_probs, predicted_probs = hamilton_filter(x, transition_matrix, initial_state_probs, initial_params)\n",
    "smoothed_probs = backward_smoothing(filtered_probs, predicted_probs, transition_matrix)\n",
    "\n",
    "# Output the filtered probabilities\n",
    "print(filtered_probs)\n",
    "\n",
    "# Output the smoothed probabilities\n",
    "print(smoothed_probs)"
   ]
  },
  {
   "cell_type": "code",
   "execution_count": 15,
   "metadata": {},
   "outputs": [
    {
     "data": {
      "image/png": "[encoded data removed]",
      "text/plain": [
       "<Figure size 1200x600 with 1 Axes>"
      ]
     },
     "metadata": {},
     "output_type": "display_data"
    }
   ],
   "source": [
    "# Plotting the smoothed probabilities\n",
    "plt.figure(figsize=(12, 6))\n",
    "plt.plot(smoothed_probs[:, 0], label='Probability of State 0')\n",
    "plt.plot(smoothed_probs[:, 1], label='Probability of State 1')\n",
    "plt.title('Smoothed State Probabilities over Time')\n",
    "plt.xlabel('Time')\n",
    "plt.ylabel('Probability')\n",
    "plt.legend()\n",
    "plt.show()"
   ]
  }
 ],
 "metadata": {
  "kernelspec": {
   "display_name": "Python 3 (ipykernel)",
   "language": "python",
   "name": "python3"
  },
  "language_info": {
   "codemirror_mode": {
    "name": "ipython",
    "version": 3
   },
   "file_extension": ".py",
   "mimetype": "text/x-python",
   "name": "python",
   "nbconvert_exporter": "python",
   "pygments_lexer": "ipython3",
   "version": "3.11.6"
  }
 },
 "nbformat": 4,
 "nbformat_minor": 4
}
