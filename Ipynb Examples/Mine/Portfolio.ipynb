{
 "cells": [
  {
   "cell_type": "markdown",
   "id": "8ce9da01-eca2-4147-8ee9-4b3aee33fdfc",
   "metadata": {},
   "source": [
    "# Portfolio Example\n"
   ]
  },
  {
   "cell_type": "code",
   "execution_count": 36,
   "id": "25b7204f-1501-4b87-9999-beb1e213cb34",
   "metadata": {},
   "outputs": [],
   "source": [
    "import numpy as np\n",
    "import pandas as pd\n",
    "import matplotlib.pyplot as plt\n",
    "import yfinance as yf\n",
    "\n",
    "class Stock:\n",
    "    def __init__(self,name, symbol):\n",
    "        self.symbol = symbol\n",
    "        self.name = name\n",
    "        self.price = None\n",
    "        self.currency = None\n",
    "        self.fetch_data()\n",
    "\n",
    "    def fetch_data(self):\n",
    "        stock_data = yf.Ticker(self.symbol)\n",
    "        print(stock_data.info())\n",
    "        hist = stock_data.history(period=\"1d\")\n",
    "        if not hist.empty and 'currency' in stock_data.info:\n",
    "            self.price = hist['Close'][-1]\n",
    "            self.currency = stock_data.info['currency']\n",
    "            self.convert_to_dkk()\n",
    "        else:\n",
    "            print(f\"No data found for symbol: {self.symbol}\")\n",
    "\n",
    "    def convert_to_dkk(self):\n",
    "        if self.currency == \"EUR\":\n",
    "            self.price *= 7.5\n",
    "            self.currency = \"DKK\"\n",
    "\n",
    "class Portfolio:\n",
    "    def __init__(self):\n",
    "        self.stocks = []\n",
    "        self.total_value = 0\n",
    "\n",
    "    def add_stock(self, stock, quantity):\n",
    "        stock_value = stock.price * quantity\n",
    "        self.stocks.append((stock, stock_value))\n",
    "        self.total_value += stock_value\n",
    "\n",
    "    def display_portfolio(self):\n",
    "        print(\"Portfolio Contents:\")\n",
    "        for stock, value in self.stocks:\n",
    "            weight = value / self.total_value\n",
    "            print(f\"Stock: {stock.name}, Symbol: {stock.symbol}, Price: {stock.price}, Value: {value}, Weight: {weight:.2%}\")\n"
   ]
  },
  {
   "cell_type": "code",
   "execution_count": 37,
   "id": "1d13e7da-a363-4a20-983e-ecff45061f59",
   "metadata": {},
   "outputs": [
    {
     "ename": "HTTPError",
     "evalue": "404 Client Error: Not Found for url: https://query2.finance.yahoo.com/v6/finance/quoteSummary/DIS?modules=financialData&modules=quoteType&modules=defaultKeyStatistics&modules=assetProfile&modules=summaryDetail&ssl=true",
     "output_type": "error",
     "traceback": [
      "\u001b[0;31m---------------------------------------------------------------------------\u001b[0m",
      "\u001b[0;31mHTTPError\u001b[0m                                 Traceback (most recent call last)",
      "Cell \u001b[0;32mIn[37], line 2\u001b[0m\n\u001b[1;32m      1\u001b[0m \u001b[38;5;66;03m# Creating some stocks\u001b[39;00m\n\u001b[0;32m----> 2\u001b[0m disney \u001b[38;5;241m=\u001b[39m \u001b[43mStock\u001b[49m\u001b[43m(\u001b[49m\u001b[38;5;124;43m'\u001b[39;49m\u001b[38;5;124;43mWalt Disney\u001b[39;49m\u001b[38;5;124;43m'\u001b[39;49m\u001b[43m,\u001b[49m\u001b[43m \u001b[49m\u001b[38;5;124;43m'\u001b[39;49m\u001b[38;5;124;43mDIS\u001b[39;49m\u001b[38;5;124;43m'\u001b[39;49m\u001b[43m,\u001b[49m\u001b[43m \u001b[49m\u001b[43m)\u001b[49m\n\u001b[1;32m      3\u001b[0m maersk \u001b[38;5;241m=\u001b[39m Stock(\u001b[38;5;124m\"\u001b[39m\u001b[38;5;124mAA. P. Moller Maersk A/S\u001b[39m\u001b[38;5;124m\"\u001b[39m, \u001b[38;5;124m\"\u001b[39m\u001b[38;5;124mMAERSK-B.CO\u001b[39m\u001b[38;5;124m\"\u001b[39m)\n\u001b[1;32m      4\u001b[0m bavarian \u001b[38;5;241m=\u001b[39m Stock(\u001b[38;5;124m'\u001b[39m\u001b[38;5;124mBavarian Nordic A/S\u001b[39m\u001b[38;5;124m'\u001b[39m, \u001b[38;5;124m'\u001b[39m\u001b[38;5;124mBAVA.CO\u001b[39m\u001b[38;5;124m'\u001b[39m, )\n",
      "Cell \u001b[0;32mIn[36], line 12\u001b[0m, in \u001b[0;36mStock.__init__\u001b[0;34m(self, name, symbol)\u001b[0m\n\u001b[1;32m     10\u001b[0m \u001b[38;5;28mself\u001b[39m\u001b[38;5;241m.\u001b[39mprice \u001b[38;5;241m=\u001b[39m \u001b[38;5;28;01mNone\u001b[39;00m\n\u001b[1;32m     11\u001b[0m \u001b[38;5;28mself\u001b[39m\u001b[38;5;241m.\u001b[39mcurrency \u001b[38;5;241m=\u001b[39m \u001b[38;5;28;01mNone\u001b[39;00m\n\u001b[0;32m---> 12\u001b[0m \u001b[38;5;28;43mself\u001b[39;49m\u001b[38;5;241;43m.\u001b[39;49m\u001b[43mfetch_data\u001b[49m\u001b[43m(\u001b[49m\u001b[43m)\u001b[49m\n",
      "Cell \u001b[0;32mIn[36], line 16\u001b[0m, in \u001b[0;36mStock.fetch_data\u001b[0;34m(self)\u001b[0m\n\u001b[1;32m     14\u001b[0m \u001b[38;5;28;01mdef\u001b[39;00m \u001b[38;5;21mfetch_data\u001b[39m(\u001b[38;5;28mself\u001b[39m):\n\u001b[1;32m     15\u001b[0m     stock_data \u001b[38;5;241m=\u001b[39m yf\u001b[38;5;241m.\u001b[39mTicker(\u001b[38;5;28mself\u001b[39m\u001b[38;5;241m.\u001b[39msymbol)\n\u001b[0;32m---> 16\u001b[0m     \u001b[38;5;28mprint\u001b[39m(\u001b[43mstock_data\u001b[49m\u001b[38;5;241;43m.\u001b[39;49m\u001b[43minfo\u001b[49m())\n\u001b[1;32m     17\u001b[0m     hist \u001b[38;5;241m=\u001b[39m stock_data\u001b[38;5;241m.\u001b[39mhistory(period\u001b[38;5;241m=\u001b[39m\u001b[38;5;124m\"\u001b[39m\u001b[38;5;124m1d\u001b[39m\u001b[38;5;124m\"\u001b[39m)\n\u001b[1;32m     18\u001b[0m     \u001b[38;5;28;01mif\u001b[39;00m \u001b[38;5;129;01mnot\u001b[39;00m hist\u001b[38;5;241m.\u001b[39mempty \u001b[38;5;129;01mand\u001b[39;00m \u001b[38;5;124m'\u001b[39m\u001b[38;5;124mcurrency\u001b[39m\u001b[38;5;124m'\u001b[39m \u001b[38;5;129;01min\u001b[39;00m stock_data\u001b[38;5;241m.\u001b[39minfo:\n",
      "File \u001b[0;32m~/.venvs/jupyter/lib/python3.11/site-packages/yfinance/ticker.py:142\u001b[0m, in \u001b[0;36mTicker.info\u001b[0;34m(self)\u001b[0m\n\u001b[1;32m    140\u001b[0m \u001b[38;5;129m@property\u001b[39m\n\u001b[1;32m    141\u001b[0m \u001b[38;5;28;01mdef\u001b[39;00m \u001b[38;5;21minfo\u001b[39m(\u001b[38;5;28mself\u001b[39m) \u001b[38;5;241m-\u001b[39m\u001b[38;5;241m>\u001b[39m \u001b[38;5;28mdict\u001b[39m:\n\u001b[0;32m--> 142\u001b[0m     \u001b[38;5;28;01mreturn\u001b[39;00m \u001b[38;5;28;43mself\u001b[39;49m\u001b[38;5;241;43m.\u001b[39;49m\u001b[43mget_info\u001b[49m\u001b[43m(\u001b[49m\u001b[43m)\u001b[49m\n",
      "File \u001b[0;32m~/.venvs/jupyter/lib/python3.11/site-packages/yfinance/base.py:1736\u001b[0m, in \u001b[0;36mTickerBase.get_info\u001b[0;34m(self, proxy)\u001b[0m\n\u001b[1;32m   1734\u001b[0m \u001b[38;5;28;01mdef\u001b[39;00m \u001b[38;5;21mget_info\u001b[39m(\u001b[38;5;28mself\u001b[39m, proxy\u001b[38;5;241m=\u001b[39m\u001b[38;5;28;01mNone\u001b[39;00m) \u001b[38;5;241m-\u001b[39m\u001b[38;5;241m>\u001b[39m \u001b[38;5;28mdict\u001b[39m:\n\u001b[1;32m   1735\u001b[0m     \u001b[38;5;28mself\u001b[39m\u001b[38;5;241m.\u001b[39m_quote\u001b[38;5;241m.\u001b[39mproxy \u001b[38;5;241m=\u001b[39m proxy\n\u001b[0;32m-> 1736\u001b[0m     data \u001b[38;5;241m=\u001b[39m \u001b[38;5;28;43mself\u001b[39;49m\u001b[38;5;241;43m.\u001b[39;49m\u001b[43m_quote\u001b[49m\u001b[38;5;241;43m.\u001b[39;49m\u001b[43minfo\u001b[49m\n\u001b[1;32m   1737\u001b[0m     \u001b[38;5;28;01mreturn\u001b[39;00m data\n",
      "File \u001b[0;32m~/.venvs/jupyter/lib/python3.11/site-packages/yfinance/scrapers/quote.py:571\u001b[0m, in \u001b[0;36mQuote.info\u001b[0;34m(self)\u001b[0m\n\u001b[1;32m    568\u001b[0m \u001b[38;5;129m@property\u001b[39m\n\u001b[1;32m    569\u001b[0m \u001b[38;5;28;01mdef\u001b[39;00m \u001b[38;5;21minfo\u001b[39m(\u001b[38;5;28mself\u001b[39m) \u001b[38;5;241m-\u001b[39m\u001b[38;5;241m>\u001b[39m \u001b[38;5;28mdict\u001b[39m:\n\u001b[1;32m    570\u001b[0m     \u001b[38;5;28;01mif\u001b[39;00m \u001b[38;5;28mself\u001b[39m\u001b[38;5;241m.\u001b[39m_info \u001b[38;5;129;01mis\u001b[39;00m \u001b[38;5;28;01mNone\u001b[39;00m:\n\u001b[0;32m--> 571\u001b[0m         \u001b[38;5;28;43mself\u001b[39;49m\u001b[38;5;241;43m.\u001b[39;49m\u001b[43m_fetch\u001b[49m\u001b[43m(\u001b[49m\u001b[38;5;28;43mself\u001b[39;49m\u001b[38;5;241;43m.\u001b[39;49m\u001b[43mproxy\u001b[49m\u001b[43m)\u001b[49m\n\u001b[1;32m    572\u001b[0m         \u001b[38;5;28mself\u001b[39m\u001b[38;5;241m.\u001b[39m_fetch_complementary(\u001b[38;5;28mself\u001b[39m\u001b[38;5;241m.\u001b[39mproxy)\n\u001b[1;32m    574\u001b[0m     \u001b[38;5;28;01mreturn\u001b[39;00m \u001b[38;5;28mself\u001b[39m\u001b[38;5;241m.\u001b[39m_info\n",
      "File \u001b[0;32m~/.venvs/jupyter/lib/python3.11/site-packages/yfinance/scrapers/quote.py:600\u001b[0m, in \u001b[0;36mQuote._fetch\u001b[0;34m(self, proxy)\u001b[0m\n\u001b[1;32m    598\u001b[0m modules \u001b[38;5;241m=\u001b[39m [\u001b[38;5;124m'\u001b[39m\u001b[38;5;124mfinancialData\u001b[39m\u001b[38;5;124m'\u001b[39m, \u001b[38;5;124m'\u001b[39m\u001b[38;5;124mquoteType\u001b[39m\u001b[38;5;124m'\u001b[39m, \u001b[38;5;124m'\u001b[39m\u001b[38;5;124mdefaultKeyStatistics\u001b[39m\u001b[38;5;124m'\u001b[39m, \u001b[38;5;124m'\u001b[39m\u001b[38;5;124massetProfile\u001b[39m\u001b[38;5;124m'\u001b[39m, \u001b[38;5;124m'\u001b[39m\u001b[38;5;124msummaryDetail\u001b[39m\u001b[38;5;124m'\u001b[39m]\n\u001b[1;32m    599\u001b[0m params_dict \u001b[38;5;241m=\u001b[39m {\u001b[38;5;124m\"\u001b[39m\u001b[38;5;124mmodules\u001b[39m\u001b[38;5;124m\"\u001b[39m: modules, \u001b[38;5;124m\"\u001b[39m\u001b[38;5;124mssl\u001b[39m\u001b[38;5;124m\"\u001b[39m: \u001b[38;5;124m\"\u001b[39m\u001b[38;5;124mtrue\u001b[39m\u001b[38;5;124m\"\u001b[39m}\n\u001b[0;32m--> 600\u001b[0m result \u001b[38;5;241m=\u001b[39m \u001b[38;5;28;43mself\u001b[39;49m\u001b[38;5;241;43m.\u001b[39;49m\u001b[43m_data\u001b[49m\u001b[38;5;241;43m.\u001b[39;49m\u001b[43mget_raw_json\u001b[49m\u001b[43m(\u001b[49m\n\u001b[1;32m    601\u001b[0m \u001b[43m    \u001b[49m\u001b[43m_BASIC_URL_\u001b[49m\u001b[43m \u001b[49m\u001b[38;5;241;43m+\u001b[39;49m\u001b[43m \u001b[49m\u001b[38;5;124;43mf\u001b[39;49m\u001b[38;5;124;43m\"\u001b[39;49m\u001b[38;5;124;43m/\u001b[39;49m\u001b[38;5;132;43;01m{\u001b[39;49;00m\u001b[38;5;28;43mself\u001b[39;49m\u001b[38;5;241;43m.\u001b[39;49m\u001b[43m_data\u001b[49m\u001b[38;5;241;43m.\u001b[39;49m\u001b[43mticker\u001b[49m\u001b[38;5;132;43;01m}\u001b[39;49;00m\u001b[38;5;124;43m\"\u001b[39;49m\u001b[43m,\u001b[49m\u001b[43m \u001b[49m\u001b[43mparams\u001b[49m\u001b[38;5;241;43m=\u001b[39;49m\u001b[43mparams_dict\u001b[49m\u001b[43m,\u001b[49m\u001b[43m \u001b[49m\u001b[43mproxy\u001b[49m\u001b[38;5;241;43m=\u001b[39;49m\u001b[43mproxy\u001b[49m\n\u001b[1;32m    602\u001b[0m \u001b[43m\u001b[49m\u001b[43m)\u001b[49m\n\u001b[1;32m    603\u001b[0m result[\u001b[38;5;124m\"\u001b[39m\u001b[38;5;124mquoteSummary\u001b[39m\u001b[38;5;124m\"\u001b[39m][\u001b[38;5;124m\"\u001b[39m\u001b[38;5;124mresult\u001b[39m\u001b[38;5;124m\"\u001b[39m][\u001b[38;5;241m0\u001b[39m][\u001b[38;5;124m\"\u001b[39m\u001b[38;5;124msymbol\u001b[39m\u001b[38;5;124m\"\u001b[39m] \u001b[38;5;241m=\u001b[39m \u001b[38;5;28mself\u001b[39m\u001b[38;5;241m.\u001b[39m_data\u001b[38;5;241m.\u001b[39mticker\n\u001b[1;32m    604\u001b[0m query1_info \u001b[38;5;241m=\u001b[39m \u001b[38;5;28mnext\u001b[39m(\n\u001b[1;32m    605\u001b[0m     (info \u001b[38;5;28;01mfor\u001b[39;00m info \u001b[38;5;129;01min\u001b[39;00m result\u001b[38;5;241m.\u001b[39mget(\u001b[38;5;124m\"\u001b[39m\u001b[38;5;124mquoteSummary\u001b[39m\u001b[38;5;124m\"\u001b[39m, {})\u001b[38;5;241m.\u001b[39mget(\u001b[38;5;124m\"\u001b[39m\u001b[38;5;124mresult\u001b[39m\u001b[38;5;124m\"\u001b[39m, []) \u001b[38;5;28;01mif\u001b[39;00m info[\u001b[38;5;124m\"\u001b[39m\u001b[38;5;124msymbol\u001b[39m\u001b[38;5;124m\"\u001b[39m] \u001b[38;5;241m==\u001b[39m \u001b[38;5;28mself\u001b[39m\u001b[38;5;241m.\u001b[39m_data\u001b[38;5;241m.\u001b[39mticker),\n\u001b[1;32m    606\u001b[0m     \u001b[38;5;28;01mNone\u001b[39;00m,\n\u001b[1;32m    607\u001b[0m )\n",
      "File \u001b[0;32m~/.venvs/jupyter/lib/python3.11/site-packages/yfinance/data.py:75\u001b[0m, in \u001b[0;36mTickerData.get_raw_json\u001b[0;34m(self, url, user_agent_headers, params, proxy, timeout)\u001b[0m\n\u001b[1;32m     73\u001b[0m \u001b[38;5;28;01mdef\u001b[39;00m \u001b[38;5;21mget_raw_json\u001b[39m(\u001b[38;5;28mself\u001b[39m, url, user_agent_headers\u001b[38;5;241m=\u001b[39m\u001b[38;5;28;01mNone\u001b[39;00m, params\u001b[38;5;241m=\u001b[39m\u001b[38;5;28;01mNone\u001b[39;00m, proxy\u001b[38;5;241m=\u001b[39m\u001b[38;5;28;01mNone\u001b[39;00m, timeout\u001b[38;5;241m=\u001b[39m\u001b[38;5;241m30\u001b[39m):\n\u001b[1;32m     74\u001b[0m     response \u001b[38;5;241m=\u001b[39m \u001b[38;5;28mself\u001b[39m\u001b[38;5;241m.\u001b[39mget(url, user_agent_headers\u001b[38;5;241m=\u001b[39muser_agent_headers, params\u001b[38;5;241m=\u001b[39mparams, proxy\u001b[38;5;241m=\u001b[39mproxy, timeout\u001b[38;5;241m=\u001b[39mtimeout)\n\u001b[0;32m---> 75\u001b[0m     \u001b[43mresponse\u001b[49m\u001b[38;5;241;43m.\u001b[39;49m\u001b[43mraise_for_status\u001b[49m\u001b[43m(\u001b[49m\u001b[43m)\u001b[49m\n\u001b[1;32m     76\u001b[0m     \u001b[38;5;28;01mreturn\u001b[39;00m response\u001b[38;5;241m.\u001b[39mjson()\n",
      "File \u001b[0;32m~/.venvs/jupyter/lib/python3.11/site-packages/requests/models.py:1021\u001b[0m, in \u001b[0;36mResponse.raise_for_status\u001b[0;34m(self)\u001b[0m\n\u001b[1;32m   1016\u001b[0m     http_error_msg \u001b[38;5;241m=\u001b[39m (\n\u001b[1;32m   1017\u001b[0m         \u001b[38;5;124mf\u001b[39m\u001b[38;5;124m\"\u001b[39m\u001b[38;5;132;01m{\u001b[39;00m\u001b[38;5;28mself\u001b[39m\u001b[38;5;241m.\u001b[39mstatus_code\u001b[38;5;132;01m}\u001b[39;00m\u001b[38;5;124m Server Error: \u001b[39m\u001b[38;5;132;01m{\u001b[39;00mreason\u001b[38;5;132;01m}\u001b[39;00m\u001b[38;5;124m for url: \u001b[39m\u001b[38;5;132;01m{\u001b[39;00m\u001b[38;5;28mself\u001b[39m\u001b[38;5;241m.\u001b[39murl\u001b[38;5;132;01m}\u001b[39;00m\u001b[38;5;124m\"\u001b[39m\n\u001b[1;32m   1018\u001b[0m     )\n\u001b[1;32m   1020\u001b[0m \u001b[38;5;28;01mif\u001b[39;00m http_error_msg:\n\u001b[0;32m-> 1021\u001b[0m     \u001b[38;5;28;01mraise\u001b[39;00m HTTPError(http_error_msg, response\u001b[38;5;241m=\u001b[39m\u001b[38;5;28mself\u001b[39m)\n",
      "\u001b[0;31mHTTPError\u001b[0m: 404 Client Error: Not Found for url: https://query2.finance.yahoo.com/v6/finance/quoteSummary/DIS?modules=financialData&modules=quoteType&modules=defaultKeyStatistics&modules=assetProfile&modules=summaryDetail&ssl=true"
     ]
    }
   ],
   "source": [
    "# Creating some stocks\n",
    "disney = Stock('Walt Disney', 'DIS', )\n",
    "maersk = Stock(\"AA. P. Moller Maersk A/S\", \"MAERSK-B.CO\")\n",
    "bavarian = Stock('Bavarian Nordic A/S', 'BAVA.CO', )\n",
    "carlsberg = Stock('Carlsberg B', 'CARL-B.CO', )\n",
    "dsv = Stock('DSV', 'DSV.CO', )\n",
    "novo = Stock('Novo Nordisk B', 'NOVO-B.CO', )\n",
    "\n",
    "unitedhealth = Stock('UnitedHealth Group Inc.', 'UNH', )\n",
    "IE00B0M62X26 = Stock('iShares EUR Inflation Linked Gov Bond UCITS ETF', 'IBCI.DE', )\n",
    "IE00B4L5ZY03 = Stock('iShares € Corp Bond ex-Financials 1-5yr ESG UCITS ETF EUR (Dist)', 'EUNS.DE', )\n",
    "IE00B1XNHC34 = Stock('iShares Global Clean Energy UCITS ETF USD (Dist)', 'IQQH.DE')\n",
    "IE00B7J7TB45 = Stock('iShares Global Corp Bond UCITS ETF USD (Dist)', 'CORC.SW')\n",
    "\n",
    "# bavarian = Stock('', '', )\n",
    "# bavarian = Stock('', '', )\n",
    "# bavarian = Stock('', '', )\n",
    "# bavarian = Stock('', '', )\n",
    "# bavarian = Stock('', '', )\n",
    "# bavarian = Stock('', '', )\n",
    "# bavarian = Stock('', '', )\n",
    "# bavarian = Stock('', '', )\n",
    "# bavarian = Stock('', '', )\n",
    "# bavarian = Stock('', '', )\n",
    "# bavarian = Stock('', '', )\n",
    "# bavarian = Stock('', '', )\n",
    "# bavarian = Stock('', '', )\n",
    "# bavarian = Stock('', '', )\n",
    "# bavarian = Stock('', '', )\n",
    "\n",
    "# stock2 = Stock(\"Microsoft Corp\", \"MSFT\", 250)\n",
    "\n",
    "# Creating a portfolio and adding stocks\n",
    "portfolio = Portfolio()\n",
    "portfolio.add_stock(disney,100)\n",
    "portfolio.add_stock(maersk,14)\n",
    "portfolio.add_stock(bavarian,400)\n",
    "portfolio.add_stock(carlsberg,100)\n",
    "portfolio.add_stock(dsv,150)\n",
    "portfolio.add_stock(novo,450)\n",
    "\n",
    "portfolio.add_stock(unitedhealth,30)\n",
    "portfolio.add_stock(IE00B0M62X26,100)\n",
    "portfolio.add_stock(IE00B4L5ZY03,1000)\n",
    "portfolio.add_stock(IE00B1XNHC34,4000)\n",
    "portfolio.add_stock(IE00B7J7TB45,700)\n",
    "# Displaying the portfolio\n",
    "portfolio.display_portfolio()"
   ]
  },
  {
   "cell_type": "code",
   "execution_count": 1,
   "id": "09684a27-5c18-493a-a401-5a797c2752d1",
   "metadata": {},
   "outputs": [
    {
     "data": {
      "application/vnd.jupyter.widget-view+json": {
       "model_id": "3ed07652bdfb4b7e9e2cb93eed862f42",
       "version_major": 2,
       "version_minor": 0
      },
      "text/plain": [
       "interactive(children=(FloatSlider(value=0.33, description='Weight 1:', max=1.0, step=0.01), FloatSlider(value=…"
      ]
     },
     "metadata": {},
     "output_type": "display_data"
    },
    {
     "data": {
      "text/plain": [
       "<function __main__.update_plot(w1, w2, w3)>"
      ]
     },
     "execution_count": 1,
     "metadata": {},
     "output_type": "execute_result"
    }
   ],
   "source": [
    "import numpy as np\n",
    "import matplotlib.pyplot as plt\n",
    "from ipywidgets import interact, FloatSlider\n",
    "import ipywidgets as widgets\n",
    "\n",
    "# Initial setup based on the previous calculations\n",
    "expected_returns = np.array([0.10, 0.12, 0.14])\n",
    "std_devs = np.array([0.15, 0.20, 0.25])\n",
    "correlation_matrix = np.array([[1, 0.8, 0.65],\n",
    "                               [0.8, 1, 0.75],\n",
    "                               [0.65, 0.75, 1]])\n",
    "cov_matrix = np.outer(std_devs, std_devs) * correlation_matrix\n",
    "\n",
    "# Function to update plot based on weights\n",
    "def update_plot(w1, w2, w3):\n",
    "    weights = np.array([w1, w2, w3])\n",
    "    portfolio_return = np.dot(weights, expected_returns)\n",
    "    portfolio_variance = np.dot(weights.T, np.dot(cov_matrix, weights))\n",
    "    portfolio_volatility = np.sqrt(portfolio_variance)\n",
    "    \n",
    "    # Re-plotting the efficient frontier\n",
    "    plt.figure(figsize=(10, 6))\n",
    "    plt.scatter(portfolio_volatility, portfolio_return, c='red', marker='*', s=100, label='Your Portfolio')\n",
    "    plt.grid(True)\n",
    "    plt.xlabel('Expected Volatility')\n",
    "    plt.ylabel('Expected Return')\n",
    "    plt.title('Efficient Frontier with Your Portfolio')\n",
    "    plt.legend()\n",
    "    plt.show()\n",
    "\n",
    "# Create sliders for input\n",
    "w1_slider = FloatSlider(value=0.33, min=0, max=1.0, step=0.01, description='Weight 1:')\n",
    "w2_slider = FloatSlider(value=0.33, min=0, max=1.0, step=0.01, description='Weight 2:')\n",
    "w3_slider = FloatSlider(value=0.34, min=0, max=1.0, step=0.01, description='Weight 3:')\n",
    "\n",
    "# Display the interactive sliders\n",
    "interact(update_plot, w1=w1_slider, w2=w2_slider, w3=w3_slider)\n"
   ]
  },
  {
   "cell_type": "code",
   "execution_count": null,
   "id": "19fb38d9-780e-4d44-9e24-4cb505870772",
   "metadata": {},
   "outputs": [],
   "source": []
  },
  {
   "cell_type": "code",
   "execution_count": null,
   "id": "6a1fb86d-d387-4622-a30f-e6b13e90578a",
   "metadata": {},
   "outputs": [],
   "source": []
  },
  {
   "cell_type": "code",
   "execution_count": null,
   "id": "c029a94e-aac8-4c8d-abb4-a499f573a36a",
   "metadata": {},
   "outputs": [],
   "source": []
  }
 ],
 "metadata": {
  "kernelspec": {
   "display_name": "Python 3 (ipykernel)",
   "language": "python",
   "name": "python3"
  },
  "language_info": {
   "codemirror_mode": {
    "name": "ipython",
    "version": 3
   },
   "file_extension": ".py",
   "mimetype": "text/x-python",
   "name": "python",
   "nbconvert_exporter": "python",
   "pygments_lexer": "ipython3",
   "version": "3.11.6"
  }
 },
 "nbformat": 4,
 "nbformat_minor": 5
}
