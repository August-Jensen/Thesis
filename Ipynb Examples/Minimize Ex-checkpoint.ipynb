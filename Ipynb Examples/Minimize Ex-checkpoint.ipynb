{
 "cells": [
  {
   "cell_type": "markdown",
   "id": "ce932f69-146b-47e9-89e8-c39f8b74ba84",
   "metadata": {},
   "source": [
    "# Comparing ARCH and scipy minimize"
   ]
  },
  {
   "cell_type": "code",
   "execution_count": null,
   "id": "16a0b6ea-fb12-46cb-807a-cf5fb38157a9",
   "metadata": {},
   "outputs": [],
   "source": [
    "import numpy as np\n",
    "import pandas as pd\n",
    "import arch\n",
    "import matplotlib.pyplot as plt\n",
    "import matplotlib.dates as mdates\n",
    "import seaborn as sns\n",
    "from scipy.optimize import minimize\n"
   ]
  },
  {
   "cell_type": "code",
   "execution_count": null,
   "id": "1c4d65a2-f103-4b52-8160-ed4cce47caa0",
   "metadata": {},
   "outputs": [],
   "source": [
    "data = pd.read_csv('SP.csv', sep=';')\n",
    "\n",
    "data['Date'] = pd.to_datetime(data['Date'])\n",
    "data = data.iloc[500:1000]\n",
    "plt.figure(figsize=(15, 6))\n",
    "plt.plot(data['Date'], data['Return'])\n",
    "plt.xlabel('Year')\n",
    "plt.ylabel('Returns')\n",
    "plt.title('Daily Returns from 1950 to Present')\n",
    "# Setting x-axis to show only the years\n",
    "plt.gca().xaxis.set_major_locator(mdates.YearLocator())\n",
    "plt.gca().xaxis.set_major_formatter(mdates.DateFormatter('%Y'))\n",
    "plt.xticks(rotation=45)\n",
    "plt.tight_layout()\n",
    "\n",
    "plt.show()\n",
    "y = data['Return']"
   ]
  },
  {
   "cell_type": "code",
   "execution_count": null,
   "id": "951c878f-c368-4bab-81f4-40f2bece846f",
   "metadata": {},
   "outputs": [],
   "source": []
  },
  {
   "cell_type": "code",
   "execution_count": null,
   "id": "ee243b14-07fc-4045-a54a-653d230ff659",
   "metadata": {},
   "outputs": [],
   "source": []
  },
  {
   "cell_type": "code",
   "execution_count": null,
   "id": "226e10ce-e94a-47ff-a938-0ee78d33e1ab",
   "metadata": {},
   "outputs": [],
   "source": []
  },
  {
   "cell_type": "code",
   "execution_count": null,
   "id": "92068c20-7168-4679-b02b-81ec9dd60a32",
   "metadata": {},
   "outputs": [],
   "source": []
  },
  {
   "cell_type": "code",
   "execution_count": null,
   "id": "d8e69922-f65e-4261-8264-3524df05e0c3",
   "metadata": {},
   "outputs": [],
   "source": []
  },
  {
   "cell_type": "code",
   "execution_count": null,
   "id": "96da1c1f-f5b9-4770-a776-bba173777f00",
   "metadata": {},
   "outputs": [],
   "source": []
  }
 ],
 "metadata": {
  "kernelspec": {
   "display_name": "Python 3 (ipykernel)",
   "language": "python",
   "name": "python3"
  },
  "language_info": {
   "codemirror_mode": {
    "name": "ipython",
    "version": 3
   },
   "file_extension": ".py",
   "mimetype": "text/x-python",
   "name": "python",
   "nbconvert_exporter": "python",
   "pygments_lexer": "ipython3",
   "version": "3.11.6"
  }
 },
 "nbformat": 4,
 "nbformat_minor": 5
}
