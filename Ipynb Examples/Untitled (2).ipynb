{
 "cells": [
  {
   "cell_type": "code",
   "execution_count": 1,
   "id": "37ee6878-2487-4983-8527-7b9aee68d70c",
   "metadata": {},
   "outputs": [
    {
     "name": "stdout",
     "output_type": "stream",
     "text": [
      "[*********************100%%**********************]  1 of 1 completed\n",
      "5033\n"
     ]
    },
    {
     "name": "stderr",
     "output_type": "stream",
     "text": [
      "/tmp/ipykernel_115776/3529603525.py:40: DeprecationWarning: Starting with ImageIO v3 the behavior of this function will switch to that of iio.v3.imread. To keep the current behavior (and make this warning disappear) use `import imageio.v2 as imageio` or call `imageio.v2.imread` directly.\n",
      "  images.append(imageio.imread(filename))\n"
     ]
    },
    {
     "name": "stdout",
     "output_type": "stream",
     "text": [
      "GIF created successfully.\n"
     ]
    }
   ],
   "source": [
    "import yfinance as yf\n",
    "import matplotlib.pyplot as plt\n",
    "import os\n",
    "import imageio\n",
    "\n",
    "# Download S&P 500 data\n",
    "sp500 = yf.download('^GSPC', start=\"2004-01-01\", end=\"2024-01-01\")\n",
    "length=len(sp500)\n",
    "print(length)\n",
    "# Directory for saving images\n",
    "os.makedirs('sp500_plots', exist_ok=True)\n",
    "\n",
    "# Determine the center of the time series\n",
    "center = len(sp500) // 2\n",
    "half_window = 25  # Half of the initial window size\n",
    "\n",
    "# Loop to create and save plots\n",
    "for i in range(center):  # Adjust range as needed\n",
    "    window = 50 + i\n",
    "    start_idx = max(center - half_window - i//2, 0)\n",
    "    end_idx = min(center + half_window + i//2, len(sp500))\n",
    "\n",
    "    # Plotting\n",
    "    plt.figure(figsize=(10, 6))\n",
    "    plt.plot(sp500.iloc[start_idx:end_idx].Close)\n",
    "    plt.title(f\"S&P 500 - Centered {window}-day Window\")\n",
    "    plt.xlabel(\"Date\")\n",
    "    plt.ylabel(\"Close Price\")\n",
    "    plt.tight_layout()\n",
    "\n",
    "    # Save plot\n",
    "    filename = f'sp500_plots/plot_{i:03d}.png'\n",
    "    plt.savefig(filename)\n",
    "    plt.close()\n",
    "\n",
    "# Create GIF\n",
    "images = []\n",
    "for i in range(center):  # Adjust range as needed\n",
    "    filename = f'sp500_plots/plot_{i:03d}.png'\n",
    "    images.append(imageio.imread(filename))\n",
    "\n",
    "imageio.mimsave('sp500_time_series_2.gif', images, duration=0.05)\n",
    "\n",
    "print(\"GIF created successfully.\")\n"
   ]
  },
  {
   "cell_type": "code",
   "execution_count": 2,
   "id": "58ff6a4b-e5fc-4478-9e86-73465ba28df0",
   "metadata": {},
   "outputs": [
    {
     "name": "stderr",
     "output_type": "stream",
     "text": [
      "/tmp/ipykernel_115776/363328416.py:5: DeprecationWarning: Starting with ImageIO v3 the behavior of this function will switch to that of iio.v3.imread. To keep the current behavior (and make this warning disappear) use `import imageio.v2 as imageio` or call `imageio.v2.imread` directly.\n",
      "  images.append(imageio.imread(filename))\n"
     ]
    },
    {
     "name": "stdout",
     "output_type": "stream",
     "text": [
      "AAA\n",
      "GIF created successfully.\n"
     ]
    }
   ],
   "source": [
    "\n",
    "# Create GIF\n",
    "images = []\n",
    "for i in range(2000):  # Adjust range as needed\n",
    "    filename = f'sp500_plots/plot_{i:03d}.png'\n",
    "    images.append(imageio.imread(filename))\n",
    "print(\"AAA\")\n",
    "imageio.mimsave('sp500_time_series_3.gif', images, duration=0.01)\n",
    "\n",
    "print(\"GIF created successfully.\")\n"
   ]
  }
 ],
 "metadata": {
  "kernelspec": {
   "display_name": "Python 3 (ipykernel)",
   "language": "python",
   "name": "python3"
  },
  "language_info": {
   "codemirror_mode": {
    "name": "ipython",
    "version": 3
   },
   "file_extension": ".py",
   "mimetype": "text/x-python",
   "name": "python",
   "nbconvert_exporter": "python",
   "pygments_lexer": "ipython3",
   "version": "3.11.6"
  }
 },
 "nbformat": 4,
 "nbformat_minor": 5
}
