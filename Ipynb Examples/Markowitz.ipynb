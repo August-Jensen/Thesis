{
 "cells": [
  {
   "cell_type": "markdown",
   "id": "0484373e-fd81-4ff2-b6e7-b3c04012481e",
   "metadata": {},
   "source": []
  },
  {
   "cell_type": "markdown",
   "id": "1530a7df-3ba0-44f2-b964-cb4bbd27d9a3",
   "metadata": {},
   "source": [
    "# Makrowitz Portfolio Optimization \n",
    "For the following assets\n",
    "- MSCI Core Index\n",
    "- MSCI ACWI Index\n",
    "- MSCI Small Cap Index\n",
    "- Ishares Bonds <5 years\n",
    "- Ishares Bonds 15+ years"
   ]
  },
  {
   "cell_type": "code",
   "execution_count": 20,
   "id": "ab462af3-a02f-4beb-9af8-39ddb880b2d1",
   "metadata": {},
   "outputs": [
    {
     "name": "stdout",
     "output_type": "stream",
     "text": [
      "[*********************100%%**********************]  1 of 1 completed\n",
      "[*********************100%%**********************]  1 of 1 completed\n",
      "[*********************100%%**********************]  1 of 1 completed\n",
      "[*********************100%%**********************]  1 of 1 completed\n",
      "[*********************100%%**********************]  1 of 1 completed\n",
      "[*********************100%%**********************]  1 of 1 completed\n",
      "                ACWI       IJR       EEM      IEMG       SHY       TLT\n",
      "Date                                                                  \n",
      "2019-02-06  0.000000  0.000000  0.000000  0.000000  0.000000  0.000000\n",
      "2019-02-07 -0.010517 -0.008937 -0.010091 -0.009762  0.000717  0.006588\n",
      "2019-02-08 -0.000290 -0.000520 -0.005677 -0.005311  0.000358  0.004259\n",
      "2019-02-11 -0.001304  0.008167 -0.003326 -0.003359 -0.000358 -0.003931\n",
      "2019-02-12  0.012254  0.013466  0.008295  0.008866 -0.000119 -0.002547\n",
      "...              ...       ...       ...       ...       ...       ...\n",
      "2024-01-30 -0.001643 -0.005048 -0.007999 -0.007166 -0.000608  0.009025\n",
      "2024-01-31 -0.013045 -0.025724 -0.005455 -0.004530  0.001824  0.009772\n",
      "2024-02-01  0.012368  0.010997  0.009592  0.009450  0.001486  0.019426\n",
      "2024-02-02  0.004057 -0.004384 -0.002842 -0.003482 -0.003169 -0.022336\n",
      "2024-02-05 -0.003863 -0.015886  0.001293  0.001640 -0.001955 -0.020400\n",
      "\n",
      "[1258 rows x 6 columns]\n"
     ]
    }
   ],
   "source": [
    "import yfinance as yf\n",
    "import pandas as pd\n",
    "\n",
    "# Define the tickers\n",
    "tickers = ['ACWI', 'IJR', 'EEM', 'IEMG', 'SHY', 'TLT']  # Example tickers, replace with actual ones if different\n",
    "\n",
    "# Fetch historical data for the past 5 years\n",
    "end_date = pd.Timestamp.now()\n",
    "start_date = end_date - pd.DateOffset(years=5)\n",
    "\n",
    "# Create an empty DataFrame to store the close prices\n",
    "close_prices = pd.DataFrame()\n",
    "\n",
    "for ticker in tickers:\n",
    "    # Fetch the historical data\n",
    "    data = yf.download(ticker, start=start_date, end=end_date)\n",
    "    # Extract the Adjusted Close prices\n",
    "    close_prices[ticker] = data['Adj Close']\n",
    "\n",
    "close_prices.dropna(inplace=True)  # Drop any rows with missing data\n",
    "returns = np.log(close_prices)\n",
    "returns = returns.diff().fillna(0)\n",
    "print(returns)  # Show the first few rows of the data\n"
   ]
  },
  {
   "cell_type": "markdown",
   "id": "cd973622-42cf-492e-ad52-cbea29d0d9b4",
   "metadata": {},
   "source": [
    "### Scipy Minimize"
   ]
  },
  {
   "cell_type": "code",
   "execution_count": 25,
   "id": "f15f5687-f599-40eb-b718-7ca1b740cec0",
   "metadata": {},
   "outputs": [
    {
     "name": "stdout",
     "output_type": "stream",
     "text": [
      "Optimized Portfolio Weights:\n",
      "[0.    0.001 0.    0.    0.999 0.   ]\n"
     ]
    }
   ],
   "source": [
    "import numpy as np\n",
    "from scipy.optimize import minimize\n",
    "\n",
    "# Number of assets\n",
    "n_assets = len(tickers)\n",
    "\n",
    "# Portfolio return\n",
    "def portfolio_return(weights):\n",
    "    return np.dot(weights, expected_returns)\n",
    "\n",
    "# Portfolio volatility\n",
    "def portfolio_volatility(weights):\n",
    "    return np.sqrt(np.dot(weights.T, np.dot(cov_matrix, weights)))\n",
    "\n",
    "# The negative Sharpe ratio (assuming risk-free rate = 0 for simplicity)\n",
    "def neg_sharpe_ratio(weights):\n",
    "    return -portfolio_return(weights) / portfolio_volatility(weights)\n",
    "\n",
    "# The constraint that the sum of weights is 1 (equality constraint)\n",
    "constraints = ({'type': 'eq', 'fun': lambda x: np.sum(x) - 1})\n",
    "\n",
    "# The bounds for each weight, ensuring no short selling\n",
    "bounds = tuple((0, 1) for asset in range(n_assets))\n",
    "\n",
    "# Initial guess\n",
    "initial_guess = np.array(n_assets * [1. / n_assets])\n",
    "\n",
    "# Perform the optimization\n",
    "opt_result = minimize(neg_sharpe_ratio, initial_guess, method='SLSQP', bounds=bounds, constraints=constraints)\n",
    "\n",
    "# Optimized weights\n",
    "optimized_weights = opt_result.x\n",
    "\n",
    "print(\"Optimized Portfolio Weights:\")\n",
    "print(optimized_weights.round(4))\n"
   ]
  }
 ],
 "metadata": {
  "kernelspec": {
   "display_name": "Python 3 (ipykernel)",
   "language": "python",
   "name": "python3"
  },
  "language_info": {
   "codemirror_mode": {
    "name": "ipython",
    "version": 3
   },
   "file_extension": ".py",
   "mimetype": "text/x-python",
   "name": "python",
   "nbconvert_exporter": "python",
   "pygments_lexer": "ipython3",
   "version": "3.11.6"
  }
 },
 "nbformat": 4,
 "nbformat_minor": 5
}
