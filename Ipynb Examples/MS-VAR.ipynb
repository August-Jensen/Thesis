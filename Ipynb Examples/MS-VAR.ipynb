{
 "cells": [
  {
   "cell_type": "code",
   "execution_count": 1,
   "id": "5d1bc154-d488-4edd-9d67-b1d0a1bbf07a",
   "metadata": {
    "editable": true,
    "slideshow": {
     "slide_type": ""
    },
    "tags": []
   },
   "outputs": [],
   "source": [
    "import numpy as np\n",
    "import pandas as pd\n",
    "import matplotlib.pyplot as plt\n",
    "import yfinance as yf\n",
    "import statsmodels.api as sm\n",
    "from datetime import datetime\n",
    "from pandas_datareader.data import DataReader\n",
    "from statsmodels.tsa.regime_switching import markov_switching\n",
    "import hmms\n",
    "\n",
    "from hmmlearn import hmm\n"
   ]
  },
  {
   "cell_type": "markdown",
   "id": "dbdf71dc-35ea-470d-9619-24f7a75caadd",
   "metadata": {},
   "source": [
    "# Get Data \n",
    "For 10 year treasury bonds, FTSE and 30 year treasurt bonds"
   ]
  },
  {
   "cell_type": "code",
   "execution_count": 2,
   "id": "b6d17632-0048-465e-8f95-bc6e557d6c13",
   "metadata": {},
   "outputs": [
    {
     "name": "stdout",
     "output_type": "stream",
     "text": [
      "[*********************100%%**********************]  1 of 1 completed\n",
      "[*********************100%%**********************]  1 of 1 completed\n"
     ]
    }
   ],
   "source": [
    "from datetime import datetime\n",
    "start_date = datetime(1900, 1, 1)\n",
    "end_date = datetime.now()\n",
    "ftse_all_world_data = yf.download('VT', period='max', interval='1mo')\n",
    "treasury_bond_15yr_data = yf.download('TLH',period='max', interval='1mo')\n",
    "\n"
   ]
  },
  {
   "cell_type": "code",
   "execution_count": 3,
   "id": "09c07d97-b860-4c90-9540-d405a8c8d91d",
   "metadata": {},
   "outputs": [
    {
     "name": "stdout",
     "output_type": "stream",
     "text": [
      "                  Open        High        Low       Close   Adj Close  \\\n",
      "Date                                                                    \n",
      "2008-07-01   49.130001   49.689999  46.340000   48.209999   34.741230   \n",
      "2008-08-01   48.189999   50.020000  46.139999   47.320000   34.099865   \n",
      "2008-09-01   47.320000   47.689999  35.849998   43.009998   30.993986   \n",
      "2008-10-01   41.590000   42.830002  29.000000   33.790001   24.349846   \n",
      "2008-11-01   34.650002   35.990002  26.600000   31.490000   22.692406   \n",
      "...                ...         ...        ...         ...         ...   \n",
      "2023-07-01   97.059998  100.730003  94.970001  100.589996  100.168800   \n",
      "2023-08-01  100.080002  100.209999  94.230003   97.730003   97.320778   \n",
      "2023-09-01   98.529999   98.639999  92.129997   93.180000   92.789825   \n",
      "2023-10-01   92.989998   94.709999  88.739998   90.459999   90.459999   \n",
      "2023-11-01   90.650002   98.360001  90.519997   98.330002   98.330002   \n",
      "\n",
      "              Volume  \n",
      "Date                  \n",
      "2008-07-01    743400  \n",
      "2008-08-01    719900  \n",
      "2008-09-01   1610800  \n",
      "2008-10-01   3581500  \n",
      "2008-11-01   2968700  \n",
      "...              ...  \n",
      "2023-07-01  22519400  \n",
      "2023-08-01  30583600  \n",
      "2023-09-01  30307000  \n",
      "2023-10-01  56229900  \n",
      "2023-11-01  30048188  \n",
      "\n",
      "[185 rows x 6 columns]\n",
      "                  Open        High         Low       Close   Adj Close  \\\n",
      "Date                                                                     \n",
      "2007-02-01   99.339996  102.540001   99.300003  101.900002   64.568390   \n",
      "2007-03-01  101.839996  102.290001  100.760002  100.760002   64.010422   \n",
      "2007-04-01  100.779999  101.139999   99.500000  100.959999   64.367348   \n",
      "2007-05-01  100.930000  101.089996   98.629997   98.949997   63.339897   \n",
      "2007-06-01   98.320000   98.419998   95.389999   97.860001   62.883804   \n",
      "...                ...         ...         ...         ...         ...   \n",
      "2023-07-01  110.459999  111.050003  106.910004  108.339996  106.509270   \n",
      "2023-08-01  106.970001  107.129997  101.839996  105.599998  104.128601   \n",
      "2023-09-01  104.870003  106.959999   97.120003   98.470001   97.458679   \n",
      "2023-10-01   97.480003   98.269997   93.080002   94.180000   93.506714   \n",
      "2023-11-01   94.500000  101.050003   94.430000   99.599998   99.599998   \n",
      "\n",
      "              Volume  \n",
      "Date                  \n",
      "2007-02-01    206100  \n",
      "2007-03-01    223400  \n",
      "2007-04-01    293700  \n",
      "2007-05-01    157900  \n",
      "2007-06-01    322100  \n",
      "...              ...  \n",
      "2023-07-01  25807000  \n",
      "2023-08-01  20439200  \n",
      "2023-09-01  28278900  \n",
      "2023-10-01  40903000  \n",
      "2023-11-01  19231657  \n",
      "\n",
      "[202 rows x 6 columns]\n"
     ]
    }
   ],
   "source": [
    "print(ftse_all_world_data)\n",
    "print(treasury_bond_15yr_data)"
   ]
  },
  {
   "cell_type": "markdown",
   "id": "f0ed429e-3ec0-4989-9564-6e82379e47f3",
   "metadata": {},
   "source": [
    "# Prepare Data"
   ]
  },
  {
   "cell_type": "code",
   "execution_count": 4,
   "id": "30ee101e-7975-431a-9561-7b4d7e4b3900",
   "metadata": {},
   "outputs": [
    {
     "name": "stdout",
     "output_type": "stream",
     "text": [
      "              Stocks     Bonds\n",
      "Date                          \n",
      "2008-07-01  3.875566  4.655483\n",
      "2008-08-01  3.856933  4.670302\n",
      "2008-09-01  3.761433  4.669271\n",
      "2008-10-01  3.520165  4.627030\n",
      "2008-11-01  3.449670  4.734530\n",
      "...              ...       ...\n",
      "2023-07-01  4.611053  4.685274\n",
      "2023-08-01  4.582209  4.659658\n",
      "2023-09-01  4.534533  4.589752\n",
      "2023-10-01  4.504908  4.545208\n",
      "2023-11-01  4.588329  4.601162\n",
      "\n",
      "[185 rows x 2 columns]               Stocks     Bonds\n",
      "Date                          \n",
      "2008-08-01 -0.018633  0.014819\n",
      "2008-09-01 -0.095500 -0.001031\n",
      "2008-10-01 -0.241268 -0.042242\n",
      "2008-11-01 -0.070495  0.107501\n",
      "2008-12-01  0.046231  0.066289\n",
      "...              ...       ...\n",
      "2023-07-01  0.036548 -0.022182\n",
      "2023-08-01 -0.028844 -0.025616\n",
      "2023-09-01 -0.047675 -0.069906\n",
      "2023-10-01 -0.029625 -0.044544\n",
      "2023-11-01  0.083421  0.055954\n",
      "\n",
      "[184 rows x 2 columns]\n"
     ]
    }
   ],
   "source": [
    "frame_1 = pd.DataFrame()\n",
    "frame_1['Stocks'] = (ftse_all_world_data['Close'])\n",
    "frame_1['Bonds'] = (treasury_bond_15yr_data['Close'])\n",
    "frame = np.log(frame_1)\n",
    "df = frame.diff()[1:]\n",
    "print(frame,df)\n"
   ]
  },
  {
   "cell_type": "markdown",
   "id": "73dac889-da2b-4c67-957d-80b741823c3d",
   "metadata": {},
   "source": [
    "# MS-VAR"
   ]
  },
  {
   "cell_type": "code",
   "execution_count": 5,
   "id": "34069fd4-6118-415f-9659-9d1923560a5f",
   "metadata": {},
   "outputs": [],
   "source": [
    "# Assuming df is your DataFrame and it contains one-dimensional observations\n",
    "data = df.values\n"
   ]
  },
  {
   "cell_type": "code",
   "execution_count": 6,
   "id": "05b8c1f4-dbb9-46de-b0c6-9645399eec45",
   "metadata": {},
   "outputs": [
    {
     "data": {
      "text/html": [
       "<style>#sk-container-id-1 {color: black;}#sk-container-id-1 pre{padding: 0;}#sk-container-id-1 div.sk-toggleable {background-color: white;}#sk-container-id-1 label.sk-toggleable__label {cursor: pointer;display: block;width: 100%;margin-bottom: 0;padding: 0.3em;box-sizing: border-box;text-align: center;}#sk-container-id-1 label.sk-toggleable__label-arrow:before {content: \"▸\";float: left;margin-right: 0.25em;color: #696969;}#sk-container-id-1 label.sk-toggleable__label-arrow:hover:before {color: black;}#sk-container-id-1 div.sk-estimator:hover label.sk-toggleable__label-arrow:before {color: black;}#sk-container-id-1 div.sk-toggleable__content {max-height: 0;max-width: 0;overflow: hidden;text-align: left;background-color: #f0f8ff;}#sk-container-id-1 div.sk-toggleable__content pre {margin: 0.2em;color: black;border-radius: 0.25em;background-color: #f0f8ff;}#sk-container-id-1 input.sk-toggleable__control:checked~div.sk-toggleable__content {max-height: 200px;max-width: 100%;overflow: auto;}#sk-container-id-1 input.sk-toggleable__control:checked~label.sk-toggleable__label-arrow:before {content: \"▾\";}#sk-container-id-1 div.sk-estimator input.sk-toggleable__control:checked~label.sk-toggleable__label {background-color: #d4ebff;}#sk-container-id-1 div.sk-label input.sk-toggleable__control:checked~label.sk-toggleable__label {background-color: #d4ebff;}#sk-container-id-1 input.sk-hidden--visually {border: 0;clip: rect(1px 1px 1px 1px);clip: rect(1px, 1px, 1px, 1px);height: 1px;margin: -1px;overflow: hidden;padding: 0;position: absolute;width: 1px;}#sk-container-id-1 div.sk-estimator {font-family: monospace;background-color: #f0f8ff;border: 1px dotted black;border-radius: 0.25em;box-sizing: border-box;margin-bottom: 0.5em;}#sk-container-id-1 div.sk-estimator:hover {background-color: #d4ebff;}#sk-container-id-1 div.sk-parallel-item::after {content: \"\";width: 100%;border-bottom: 1px solid gray;flex-grow: 1;}#sk-container-id-1 div.sk-label:hover label.sk-toggleable__label {background-color: #d4ebff;}#sk-container-id-1 div.sk-serial::before {content: \"\";position: absolute;border-left: 1px solid gray;box-sizing: border-box;top: 0;bottom: 0;left: 50%;z-index: 0;}#sk-container-id-1 div.sk-serial {display: flex;flex-direction: column;align-items: center;background-color: white;padding-right: 0.2em;padding-left: 0.2em;position: relative;}#sk-container-id-1 div.sk-item {position: relative;z-index: 1;}#sk-container-id-1 div.sk-parallel {display: flex;align-items: stretch;justify-content: center;background-color: white;position: relative;}#sk-container-id-1 div.sk-item::before, #sk-container-id-1 div.sk-parallel-item::before {content: \"\";position: absolute;border-left: 1px solid gray;box-sizing: border-box;top: 0;bottom: 0;left: 50%;z-index: -1;}#sk-container-id-1 div.sk-parallel-item {display: flex;flex-direction: column;z-index: 1;position: relative;background-color: white;}#sk-container-id-1 div.sk-parallel-item:first-child::after {align-self: flex-end;width: 50%;}#sk-container-id-1 div.sk-parallel-item:last-child::after {align-self: flex-start;width: 50%;}#sk-container-id-1 div.sk-parallel-item:only-child::after {width: 0;}#sk-container-id-1 div.sk-dashed-wrapped {border: 1px dashed gray;margin: 0 0.4em 0.5em 0.4em;box-sizing: border-box;padding-bottom: 0.4em;background-color: white;}#sk-container-id-1 div.sk-label label {font-family: monospace;font-weight: bold;display: inline-block;line-height: 1.2em;}#sk-container-id-1 div.sk-label-container {text-align: center;}#sk-container-id-1 div.sk-container {/* jupyter's `normalize.less` sets `[hidden] { display: none; }` but bootstrap.min.css set `[hidden] { display: none !important; }` so we also need the `!important` here to be able to override the default hidden behavior on the sphinx rendered scikit-learn.org. See: https://github.com/scikit-learn/scikit-learn/issues/21755 */display: inline-block !important;position: relative;}#sk-container-id-1 div.sk-text-repr-fallback {display: none;}</style><div id=\"sk-container-id-1\" class=\"sk-top-container\"><div class=\"sk-text-repr-fallback\"><pre>GaussianHMM(n_components=3)</pre><b>In a Jupyter environment, please rerun this cell to show the HTML representation or trust the notebook. <br />On GitHub, the HTML representation is unable to render, please try loading this page with nbviewer.org.</b></div><div class=\"sk-container\" hidden><div class=\"sk-item\"><div class=\"sk-estimator sk-toggleable\"><input class=\"sk-toggleable__control sk-hidden--visually\" id=\"sk-estimator-id-1\" type=\"checkbox\" checked><label for=\"sk-estimator-id-1\" class=\"sk-toggleable__label sk-toggleable__label-arrow\">GaussianHMM</label><div class=\"sk-toggleable__content\"><pre>GaussianHMM(n_components=3)</pre></div></div></div></div></div>"
      ],
      "text/plain": [
       "GaussianHMM(n_components=3)"
      ]
     },
     "execution_count": 6,
     "metadata": {},
     "output_type": "execute_result"
    }
   ],
   "source": [
    "# Number of states\n",
    "num_states = 3\n",
    "\n",
    "# Create a Gaussian HMM\n",
    "model = hmm.GaussianHMM(n_components=num_states, covariance_type=\"diag\")\n",
    "\n",
    "# Fit the model to your data\n",
    "model.fit(data)\n"
   ]
  },
  {
   "cell_type": "code",
   "execution_count": 7,
   "id": "a5bd2aa1-bfff-4c4e-85fd-b1f074063989",
   "metadata": {},
   "outputs": [
    {
     "name": "stdout",
     "output_type": "stream",
     "text": [
      "Transition matrix:\n",
      "[[0.9528126  0.04403629 0.00315111]\n",
      " [0.4214324  0.04449224 0.53407536]\n",
      " [0.00383251 0.47159178 0.52457571]]\n",
      "Means and variances of each state:\n",
      "State 0: mean = [ 0.00965582 -0.00098446], variance = [[0.00134915 0.        ]\n",
      " [0.         0.0005697 ]]\n",
      "State 1: mean = [0.01868886 0.00985897], variance = [[0.00541063 0.        ]\n",
      " [0.         0.0023549 ]]\n",
      "State 2: mean = [-0.04751043 -0.0037187 ], variance = [[0.00729128 0.        ]\n",
      " [0.         0.0030212 ]]\n",
      "Hidden states:\n",
      "[2 2 2 2 1 2 2 1 2 1 0 0 0 0 0 0 0 0 0 0 0 0 0 0 0 0 0 0 0 0 0 0 0 0 0 0 1\n",
      " 2 1 0 0 0 0 0 0 0 0 0 0 0 0 0 0 0 0 0 0 0 0 0 0 0 0 0 0 0 0 0 0 0 0 0 0 0\n",
      " 0 0 0 0 0 0 0 0 0 0 0 0 0 0 0 0 0 0 0 0 0 0 0 0 0 0 0 0 0 0 0 0 0 0 0 0 0\n",
      " 0 0 0 0 0 0 0 0 0 0 0 0 0 0 0 0 0 0 0 0 0 0 0 0 0 0 1 2 2 1 0 0 0 0 0 0 0\n",
      " 0 0 0 0 0 0 0 0 0 0 0 0 0 0 0 1 2 1 2 1 2 2 2 1 2 1 0 0 0 0 0 0 0 1 2 1]\n",
      "Log likelihood of the model:\n",
      "708.3018523943575\n",
      "Generated samples (10):\n",
      "[[-0.02677531 -0.11130855]\n",
      " [ 0.08900734  0.05473725]\n",
      " [ 0.10321859  0.07252722]\n",
      " [ 0.09626501 -0.07108911]\n",
      " [ 0.02632662 -0.00037857]\n",
      " [ 0.03736121 -0.04805706]\n",
      " [ 0.05857492 -0.00018126]\n",
      " [-0.04619634  0.04291421]\n",
      " [ 0.01402273 -0.00966291]\n",
      " [-0.03988219 -0.00929539]]\n"
     ]
    }
   ],
   "source": [
    "print(\"Transition matrix:\")\n",
    "print(model.transmat_)\n",
    "print(\"Means and variances of each state:\")\n",
    "for i in range(num_states):\n",
    "    print(f\"State {i}: mean = {model.means_[i]}, variance = {model.covars_[i]}\")\n",
    "hidden_states = model.predict(data)  \n",
    "print(\"Hidden states:\")\n",
    "print(hidden_states)\n",
    "log_likelihood = model.score(data)\n",
    "print(\"Log likelihood of the model:\")\n",
    "print(log_likelihood)\n",
    "n_samples = 10\n",
    "samples, _ = model.sample(n_samples)\n",
    "print(f\"Generated samples ({n_samples}):\")\n",
    "print(samples)\n"
   ]
  }
 ],
 "metadata": {
  "kernelspec": {
   "display_name": "Python 3 (ipykernel)",
   "language": "python",
   "name": "python3"
  },
  "language_info": {
   "codemirror_mode": {
    "name": "ipython",
    "version": 3
   },
   "file_extension": ".py",
   "mimetype": "text/x-python",
   "name": "python",
   "nbconvert_exporter": "python",
   "pygments_lexer": "ipython3",
   "version": "3.11.6"
  }
 },
 "nbformat": 4,
 "nbformat_minor": 5
}
