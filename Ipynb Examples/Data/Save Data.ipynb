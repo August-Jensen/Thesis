{
 "cells": [
  {
   "cell_type": "code",
   "execution_count": 3,
   "id": "fa8982ba-8cbe-434e-8933-c78dd20b9bdf",
   "metadata": {},
   "outputs": [
    {
     "name": "stdout",
     "output_type": "stream",
     "text": [
      "CSV file has been created successfully.\n"
     ]
    }
   ],
   "source": [
    "import os\n",
    "import pandas as pd\n",
    "import json\n",
    "\n",
    "# Helper function to read a JSON file and return a DataFrame\n",
    "def json_to_df(filepath):\n",
    "    with open(filepath, 'r') as f:\n",
    "        data = json.load(f)\n",
    "    \n",
    "    # Extract 'pricePoints' and convert to DataFrame\n",
    "    df = pd.DataFrame(data['pricePoints'])\n",
    "    \n",
    "    # Convert 'timeStamp' to datetime and set as index\n",
    "    df['timeStamp'] = pd.to_datetime(df['timeStamp'], unit='ms')\n",
    "    df.set_index('timeStamp', inplace=True)\n",
    "    \n",
    "    # Return DataFrame with only the 'last' column, renamed to the file's base name\n",
    "    filename = os.path.basename(filepath)\n",
    "    return df[['last']].rename(columns={'last': filename[:-5]})\n",
    "\n",
    "# Directory containing the JSON files\n",
    "directory = '.'  # Current directory; adjust if necessary\n",
    "\n",
    "# Get all JSON file paths\n",
    "json_files = [os.path.join(directory, f) for f in os.listdir(directory) if f.endswith('.json')]\n",
    "\n",
    "# Initialize an empty list to hold DataFrames\n",
    "dfs = []\n",
    "\n",
    "# Process each JSON file\n",
    "for file_path in json_files:\n",
    "    df = json_to_df(file_path)\n",
    "    dfs.append(df)\n",
    "\n",
    "# Concatenate all DataFrames horizontally, aligning on index\n",
    "all_data = pd.concat(dfs, axis=1)\n",
    "\n",
    "# Save the consolidated DataFrame to a CSV file\n",
    "all_data.to_csv('consolidated_data.csv')\n",
    "\n",
    "print(\"CSV file has been created successfully.\")\n"
   ]
  },
  {
   "cell_type": "code",
   "execution_count": 4,
   "id": "d77875b3-7727-4bc1-a931-c86aaa5b37fc",
   "metadata": {},
   "outputs": [
    {
     "name": "stdout",
     "output_type": "stream",
     "text": [
      "Processed CSV file has been created successfully.\n"
     ]
    }
   ],
   "source": [
    "import pandas as pd\n",
    "import numpy as np\n",
    "\n",
    "# Load the CSV file\n",
    "df = pd.read_csv('consolidated_data.csv', index_col=0, parse_dates=True)\n",
    "\n",
    "# Forward-fill missing values\n",
    "df_ffill = df.ffill()\n",
    "\n",
    "# Take the logarithm of the data\n",
    "df_log = np.log(df_ffill)\n",
    "\n",
    "# Compute the first difference\n",
    "df_diff = df_log.diff()\n",
    "\n",
    "# Drop NA values\n",
    "df_clean = df_diff.dropna()\n",
    "\n",
    "# Save the processed data to a new CSV file\n",
    "df_clean.to_csv('pm.csv')\n",
    "\n",
    "print(\"Processed CSV file has been created successfully.\")\n"
   ]
  }
 ],
 "metadata": {
  "kernelspec": {
   "display_name": "Python 3 (ipykernel)",
   "language": "python",
   "name": "python3"
  },
  "language_info": {
   "codemirror_mode": {
    "name": "ipython",
    "version": 3
   },
   "file_extension": ".py",
   "mimetype": "text/x-python",
   "name": "python",
   "nbconvert_exporter": "python",
   "pygments_lexer": "ipython3",
   "version": "3.11.6"
  }
 },
 "nbformat": 4,
 "nbformat_minor": 5
}
