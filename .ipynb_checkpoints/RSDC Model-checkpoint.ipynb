{
 "cells": [
  {
   "cell_type": "code",
   "execution_count": 1,
   "id": "3068094b-6fd3-4537-92e0-04932b0a2c48",
   "metadata": {},
   "outputs": [],
   "source": [
    "import pandas as pd\n",
    "import numpy as np\n",
    "import importlib\n",
    "import Filter"
   ]
  },
  {
   "cell_type": "code",
   "execution_count": 2,
   "id": "868a875c-12c4-43c5-bb52-9a2dc862267e",
   "metadata": {},
   "outputs": [
    {
     "ename": "NameError",
     "evalue": "name 'Base' is not defined",
     "output_type": "error",
     "traceback": [
      "\u001b[0;31m---------------------------------------------------------------------------\u001b[0m",
      "\u001b[0;31mNameError\u001b[0m                                 Traceback (most recent call last)",
      "Cell \u001b[0;32mIn[2], line 6\u001b[0m\n\u001b[1;32m      1\u001b[0m univariates \u001b[38;5;241m=\u001b[39m np\u001b[38;5;241m.\u001b[39marray([[\u001b[38;5;241m2.65430813e-04\u001b[39m, \u001b[38;5;241m1.41356236e-01\u001b[39m, \u001b[38;5;241m8.68148814e-01\u001b[39m],\n\u001b[1;32m      2\u001b[0m        [\u001b[38;5;241m3.34238198e-04\u001b[39m, \u001b[38;5;241m1.51006124e-01\u001b[39m, \u001b[38;5;241m8.54041060e-01\u001b[39m],\n\u001b[1;32m      3\u001b[0m        [\u001b[38;5;241m1.86947446e-04\u001b[39m, \u001b[38;5;241m7.92241125e-02\u001b[39m, \u001b[38;5;241m9.17634510e-01\u001b[39m],\n\u001b[1;32m      4\u001b[0m        [\u001b[38;5;241m2.38659610e-04\u001b[39m, \u001b[38;5;241m1.10057866e-01\u001b[39m, \u001b[38;5;241m8.98490443e-01\u001b[39m]])\n\u001b[1;32m      5\u001b[0m df \u001b[38;5;241m=\u001b[39m pd\u001b[38;5;241m.\u001b[39mread_csv(\u001b[38;5;124m'\u001b[39m\u001b[38;5;124mC4.csv\u001b[39m\u001b[38;5;124m'\u001b[39m)\n\u001b[0;32m----> 6\u001b[0m model \u001b[38;5;241m=\u001b[39m \u001b[43mBase\u001b[49m(df, univariates)\n\u001b[1;32m      7\u001b[0m model\u001b[38;5;241m.\u001b[39mfit()\n",
      "\u001b[0;31mNameError\u001b[0m: name 'Base' is not defined"
     ]
    }
   ],
   "source": [
    "from Filter import Base\n",
    "univariates = np.array([[2.65430813e-04, 1.41356236e-01, 8.68148814e-01],\n",
    "       [3.34238198e-04, 1.51006124e-01, 8.54041060e-01],\n",
    "       [1.86947446e-04, 7.92241125e-02, 9.17634510e-01],\n",
    "       [2.38659610e-04, 1.10057866e-01, 8.98490443e-01]])\n",
    "df = pd.read_csv('C4.csv')\n",
    "model = Base(df, univariates)\n",
    "model.fit()\n",
    "\n",
    "\n",
    "\n",
    "\n",
    "\n",
    "\n"
   ]
  },
  {
   "cell_type": "code",
   "execution_count": null,
   "id": "01cc431e-3c6b-4350-a826-bdaa02d1af27",
   "metadata": {},
   "outputs": [],
   "source": [
    "from importlib import reload\n",
    "reload(Filter)\n",
    "from Filter import Base\n",
    "model.plot_heatmaps()"
   ]
  },
  {
   "cell_type": "code",
   "execution_count": null,
   "id": "7f4e03e5-d856-4ecf-b40f-e983b337773a",
   "metadata": {},
   "outputs": [],
   "source": [
    "model.smoothing_step()"
   ]
  },
  {
   "cell_type": "code",
   "execution_count": null,
   "id": "99aa82c6-f19f-49ab-a5ef-cc3b331ed1db",
   "metadata": {},
   "outputs": [],
   "source": [
    "from importlib import reload\n",
    "reload(Filter)\n",
    "from Filter import Base\n",
    "model.plot_my_probabilities()"
   ]
  },
  {
   "cell_type": "code",
   "execution_count": null,
   "id": "20a0ef47-db13-4c7a-92b9-df65faada657",
   "metadata": {},
   "outputs": [],
   "source": []
  }
 ],
 "metadata": {
  "kernelspec": {
   "display_name": "Python 3 (ipykernel)",
   "language": "python",
   "name": "python3"
  },
  "language_info": {
   "codemirror_mode": {
    "name": "ipython",
    "version": 3
   },
   "file_extension": ".py",
   "mimetype": "text/x-python",
   "name": "python",
   "nbconvert_exporter": "python",
   "pygments_lexer": "ipython3",
   "version": "3.11.6"
  }
 },
 "nbformat": 4,
 "nbformat_minor": 5
}
