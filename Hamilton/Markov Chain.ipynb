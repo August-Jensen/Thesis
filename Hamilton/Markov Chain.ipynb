{
 "cells": [
  {
   "cell_type": "code",
   "execution_count": 27,
   "id": "77788745-f972-4cab-88d9-5a610b2c15fa",
   "metadata": {},
   "outputs": [
    {
     "data": {
      "text/plain": [
       "(array([0, 1, 0, 0]),\n",
       " array([[0.8       , 0.00408163, 0.00408163, ..., 0.00408163, 0.00408163,\n",
       "         0.00408163],\n",
       "        [0.00408163, 0.8       , 0.00408163, ..., 0.00408163, 0.00408163,\n",
       "         0.00408163],\n",
       "        [0.00408163, 0.00408163, 0.8       , ..., 0.00408163, 0.00408163,\n",
       "         0.00408163],\n",
       "        ...,\n",
       "        [0.00408163, 0.00408163, 0.00408163, ..., 0.8       , 0.00408163,\n",
       "         0.00408163],\n",
       "        [0.00408163, 0.00408163, 0.00408163, ..., 0.00408163, 0.8       ,\n",
       "         0.00408163],\n",
       "        [0.00408163, 0.00408163, 0.00408163, ..., 0.00408163, 0.00408163,\n",
       "         0.8       ]]))"
      ]
     },
     "execution_count": 27,
     "metadata": {},
     "output_type": "execute_result"
    }
   ],
   "source": [
    "import numpy as np\n",
    "def create_random_initial_prob_vector(n_states):\n",
    "    \"\"\"\n",
    "    Create an initial probability vector for n_states states with random probabilities.\n",
    "    \n",
    "    Parameters:\n",
    "    - n_states: int, the number of states in the Markov chain\n",
    "    \n",
    "    Returns:\n",
    "    - A numpy array representing the initial probability vector with random probabilities.\n",
    "    \"\"\"\n",
    "    random_probs = np.random.rand(n_states)\n",
    "    return random_probs / random_probs.sum()\n",
    "\n",
    "def create_random_transition_matrix(n_states):\n",
    "    \"\"\"\n",
    "    Create a transition matrix for a Markov chain with n_states states, where each state has random probabilities\n",
    "    of transitioning to any other state.\n",
    "    \n",
    "    Parameters:\n",
    "    - n_states: int, the number of states in the Markov chain\n",
    "    \n",
    "    Returns:\n",
    "    - A numpy array representing the transition matrix with random probabilities.\n",
    "    \"\"\"\n",
    "    matrix = np.random.rand(n_states, n_states)\n",
    "    return matrix / matrix.sum(axis=1)[:, None]\n",
    "def create_transition_matrix_with_diagonal(n_states, diagonal_value=0.95):\n",
    "    \"\"\"\n",
    "    Create a transition matrix for a Markov chain with n_states states, where the diagonal elements are set to a specific value,\n",
    "    indicating a high probability of staying in the same state, and the off-diagonal elements are evenly distributed to sum to 1 for each row.\n",
    "    \n",
    "    Parameters:\n",
    "    - n_states: int, the number of states in the Markov chain.\n",
    "    - diagonal_value: float, the value to set on the diagonal (default is 0.95).\n",
    "    \n",
    "    Returns:\n",
    "    - A numpy array representing the transition matrix with specified diagonal values and even distribution for off-diagonal elements.\n",
    "    \"\"\"\n",
    "    # Initialize the transition matrix with zeros\n",
    "    matrix = np.zeros((n_states, n_states))\n",
    "    \n",
    "    # Set the diagonal values\n",
    "    np.fill_diagonal(matrix, diagonal_value)\n",
    "    \n",
    "    # Calculate the off-diagonal values to ensure rows sum to 1\n",
    "    off_diagonal_value = (1 - diagonal_value) / (n_states - 1)\n",
    "    for i in range(n_states):\n",
    "        for j in range(n_states):\n",
    "            if i != j:\n",
    "                matrix[i, j] = off_diagonal_value\n",
    "                \n",
    "    return matrix\n",
    "\n",
    "\n",
    "n_states = 50\n",
    "# Example usage with random probabilities\n",
    "random_initial_prob_vector = np.array([0,1,0,0])#create_random_initial_prob_vector(n_states)\n",
    "random_transition_matrix = create_transition_matrix_with_diagonal(n_states, 0.8)\n",
    "random_initial_prob_vector, random_transition_matrix\n"
   ]
  },
  {
   "cell_type": "code",
   "execution_count": 28,
   "id": "06ee4147-6a06-44c1-931e-a7ad6403cac1",
   "metadata": {},
   "outputs": [
    {
     "ename": "ValueError",
     "evalue": "shapes (4,) and (50,50) not aligned: 4 (dim 0) != 50 (dim 0)",
     "output_type": "error",
     "traceback": [
      "\u001b[0;31m---------------------------------------------------------------------------\u001b[0m",
      "\u001b[0;31mValueError\u001b[0m                                Traceback (most recent call last)",
      "Cell \u001b[0;32mIn[28], line 35\u001b[0m\n\u001b[1;32m     32\u001b[0m     plt\u001b[38;5;241m.\u001b[39mshow()\n\u001b[1;32m     34\u001b[0m \u001b[38;5;66;03m# Using the previously generated random initial vector and transition matrix\u001b[39;00m\n\u001b[0;32m---> 35\u001b[0m \u001b[43msimulate_markov_chain_stacked\u001b[49m\u001b[43m(\u001b[49m\u001b[43mrandom_initial_prob_vector\u001b[49m\u001b[43m,\u001b[49m\u001b[43m \u001b[49m\u001b[43mrandom_transition_matrix\u001b[49m\u001b[43m,\u001b[49m\u001b[43m \u001b[49m\u001b[43msims\u001b[49m\u001b[38;5;241;43m=\u001b[39;49m\u001b[38;5;241;43m10\u001b[39;49m\u001b[43m)\u001b[49m\n",
      "Cell \u001b[0;32mIn[28], line 19\u001b[0m, in \u001b[0;36msimulate_markov_chain_stacked\u001b[0;34m(initial_prob_vector, transition_matrix, sims)\u001b[0m\n\u001b[1;32m     17\u001b[0m \u001b[38;5;66;03m# Simulate the Markov chain\u001b[39;00m\n\u001b[1;32m     18\u001b[0m \u001b[38;5;28;01mfor\u001b[39;00m i \u001b[38;5;129;01min\u001b[39;00m \u001b[38;5;28mrange\u001b[39m(sims):\n\u001b[0;32m---> 19\u001b[0m     current_prob_vector \u001b[38;5;241m=\u001b[39m \u001b[43mnp\u001b[49m\u001b[38;5;241;43m.\u001b[39;49m\u001b[43mdot\u001b[49m\u001b[43m(\u001b[49m\u001b[43mcurrent_prob_vector\u001b[49m\u001b[43m,\u001b[49m\u001b[43m \u001b[49m\u001b[43mtransition_matrix\u001b[49m\u001b[43m)\u001b[49m\n\u001b[1;32m     20\u001b[0m     state_probabilities[i, :] \u001b[38;5;241m=\u001b[39m current_prob_vector\n\u001b[1;32m     22\u001b[0m \u001b[38;5;66;03m# Plotting\u001b[39;00m\n",
      "\u001b[0;31mValueError\u001b[0m: shapes (4,) and (50,50) not aligned: 4 (dim 0) != 50 (dim 0)"
     ]
    }
   ],
   "source": [
    "def simulate_markov_chain_stacked(initial_prob_vector, transition_matrix, sims):\n",
    "    \"\"\"\n",
    "    Simulate the Markov chain for a given number of steps and plot the state probabilities over time\n",
    "    with areas shaded and stacked.\n",
    "    \n",
    "    Parameters:\n",
    "    - initial_prob_vector: numpy array, the initial probability vector.\n",
    "    - transition_matrix: numpy array, the transition matrix of the Markov chain.\n",
    "    - sims: int, the number of simulation steps.\n",
    "    \n",
    "    The function does not return anything but will plot the state probabilities over time with areas shaded and stacked.\n",
    "    \"\"\"\n",
    "    n_states = len(initial_prob_vector)\n",
    "    state_probabilities = np.zeros((sims, n_states))\n",
    "    current_prob_vector = initial_prob_vector\n",
    "    \n",
    "    # Simulate the Markov chain\n",
    "    for i in range(sims):\n",
    "        current_prob_vector = np.dot(current_prob_vector, transition_matrix)\n",
    "        state_probabilities[i, :] = current_prob_vector\n",
    "    \n",
    "    # Plotting\n",
    "    plt.figure(figsize=(10, 6))\n",
    "    labels = [f'State {i+1}' for i in range(n_states)]\n",
    "    plt.stackplot(range(sims), state_probabilities.T, labels=labels, alpha=0.8)\n",
    "    \n",
    "    plt.title('State Probabilities over Time (Stacked)')\n",
    "    plt.xlabel('Simulation Step')\n",
    "    plt.ylabel('Probability')\n",
    "    plt.legend(loc='upper left')\n",
    "    plt.grid(True)\n",
    "    plt.show()\n",
    "\n",
    "# Using the previously generated random initial vector and transition matrix\n",
    "simulate_markov_chain_stacked(random_initial_prob_vector, random_transition_matrix, sims=10)\n"
   ]
  }
 ],
 "metadata": {
  "kernelspec": {
   "display_name": "Python 3 (ipykernel)",
   "language": "python",
   "name": "python3"
  },
  "language_info": {
   "codemirror_mode": {
    "name": "ipython",
    "version": 3
   },
   "file_extension": ".py",
   "mimetype": "text/x-python",
   "name": "python",
   "nbconvert_exporter": "python",
   "pygments_lexer": "ipython3",
   "version": "3.11.6"
  }
 },
 "nbformat": 4,
 "nbformat_minor": 5
}
