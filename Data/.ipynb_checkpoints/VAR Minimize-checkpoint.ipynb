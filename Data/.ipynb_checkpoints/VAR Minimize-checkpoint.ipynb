{
 "cells": [
  {
   "cell_type": "code",
   "execution_count": 3,
   "id": "7bc2afb0-9d22-46a6-b2c1-1e33f9acced3",
   "metadata": {},
   "outputs": [
    {
     "name": "stdout",
     "output_type": "stream",
     "text": [
      "Vector of constants (A): [0. 0. 0.]\n",
      "Matrix of autoregressive parameters (B): [[0. 0. 0.]\n",
      " [0. 0. 0.]\n",
      " [0. 0. 0.]]\n"
     ]
    }
   ],
   "source": [
    "import numpy as np\n",
    "import pandas as pd\n",
    "from scipy.optimize import minimize\n",
    "\n",
    "# Load the dataset\n",
    "df = pd.read_csv('3.csv')\n",
    "\n",
    "# Convert the DataFrame to a NumPy array\n",
    "data = df.values\n",
    "\n",
    "# Set T and K\n",
    "T, K = data.shape\n",
    "K = 3  # Override K as per your requirement\n",
    "\n",
    "def create_parameters(K, p=1):\n",
    "    \"\"\"\n",
    "    Initializes the parameters for the VAR(p) model.\n",
    "    \n",
    "    Parameters:\n",
    "    - K: The number of time series.\n",
    "    - p: The order of the VAR model.\n",
    "    \n",
    "    Returns:\n",
    "    - A: The vector of constants for each time series (K-dimensional).\n",
    "    - B: The matrices of autoregressive parameters (KxK for each lag).\n",
    "    \"\"\"\n",
    "    A = np.zeros(K)  # Vector of constants\n",
    "    B = np.zeros((K, K * p))  # Autoregressive parameters for p lags\n",
    "    \n",
    "    return A, B\n",
    "\n",
    "# Example usage\n",
    "A, B = create_parameters(K)\n",
    "print(\"Vector of constants (A):\", A)\n",
    "print(\"Matrix of autoregressive parameters (B):\", B)\n"
   ]
  },
  {
   "cell_type": "code",
   "execution_count": null,
   "id": "ec4176fc-9024-49b2-b668-8a0c582ed965",
   "metadata": {},
   "outputs": [],
   "source": []
  },
  {
   "cell_type": "code",
   "execution_count": null,
   "id": "92696233-eeca-4870-9546-69c3af0e1f90",
   "metadata": {},
   "outputs": [],
   "source": []
  },
  {
   "cell_type": "code",
   "execution_count": null,
   "id": "4a1c2b1b-3c38-40c9-8822-69df485dc617",
   "metadata": {},
   "outputs": [],
   "source": []
  },
  {
   "cell_type": "code",
   "execution_count": null,
   "id": "d0cba9f5-39f5-483a-b0a8-5cf6972e936e",
   "metadata": {},
   "outputs": [],
   "source": []
  },
  {
   "cell_type": "code",
   "execution_count": null,
   "id": "1b9b255a-0e1e-481f-811b-d114a0bc7189",
   "metadata": {},
   "outputs": [],
   "source": []
  },
  {
   "cell_type": "code",
   "execution_count": null,
   "id": "c379c503-5255-4488-b0a4-dbcc6900b3c8",
   "metadata": {},
   "outputs": [],
   "source": []
  },
  {
   "cell_type": "code",
   "execution_count": null,
   "id": "e1ce88bb-5cd7-485e-9c85-f7f3c1c27669",
   "metadata": {},
   "outputs": [],
   "source": []
  }
 ],
 "metadata": {
  "kernelspec": {
   "display_name": "Python 3 (ipykernel)",
   "language": "python",
   "name": "python3"
  },
  "language_info": {
   "codemirror_mode": {
    "name": "ipython",
    "version": 3
   },
   "file_extension": ".py",
   "mimetype": "text/x-python",
   "name": "python",
   "nbconvert_exporter": "python",
   "pygments_lexer": "ipython3",
   "version": "3.11.6"
  }
 },
 "nbformat": 4,
 "nbformat_minor": 5
}
