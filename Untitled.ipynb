{
 "cells": [
  {
   "cell_type": "code",
   "execution_count": 4,
   "id": "de0c3b08-2a19-409c-805c-bb69b68cc3fd",
   "metadata": {},
   "outputs": [
    {
     "name": "stdout",
     "output_type": "stream",
     "text": [
      "Natural Transition Matrix:\n",
      "[[0.         1.22140276 1.34985881]\n",
      " [1.10517092 0.         1.4918247 ]\n",
      " [1.34985881 1.22140276 0.        ]]\n"
     ]
    }
   ],
   "source": [
    "import numpy as np\n",
    "def create_natural_transition_matrix(working_matrix, n_states):\n",
    "    natural_matrix = np.zeros_like(working_matrix)\n",
    "    \n",
    "    # Apply the strictly increasing function to non-diagonal elements\n",
    "    # and ensure row sums to 1 by adjusting the diagonal\n",
    "    for i in range(n_states):\n",
    "        row_sum = np.sum(working_matrix[i, :])  # Sum of non-diagonal elements\n",
    "        for j in range(n_states):\n",
    "            if i != j:\n",
    "                natural_matrix[i, j] = np.exp(working_matrix[i, j])\n",
    "            else:\n",
    "                natural_matrix[i, j] = 0  # Temporary value for diagonal\n",
    "        \n",
    "        non_diagonal_sum = np.sum(natural_matrix[i, :]) - natural_matrix[i, i]\n",
    "        natural_matrix[i, i] = max(0, 1 - non_diagonal_sum)  # Adjust diagonal\n",
    "        \n",
    "    return natural_matrix\n",
    "\n",
    "# Example: 3-state model\n",
    "n_states = 3\n",
    "working_matrix = np.array([[0, 0.2, 0.3], [0.1, 0, 0.4], [0.3, 0.2, 0]])\n",
    "natural_matrix = create_natural_transition_matrix(working_matrix, n_states)\n",
    "\n",
    "print(\"Natural Transition Matrix:\")\n",
    "print(natural_matrix)"
   ]
  },
  {
   "cell_type": "code",
   "execution_count": 5,
   "id": "2957cb53-6c62-4fef-b785-93288adc9185",
   "metadata": {},
   "outputs": [
    {
     "name": "stdout",
     "output_type": "stream",
     "text": [
      "Case 1: Single Number Input\n",
      "[[0.5  0.25 0.25]\n",
      " [0.25 0.5  0.25]\n",
      " [0.25 0.25 0.5 ]]\n",
      "\n",
      "Case 2: Series or Array Input\n",
      "[[0.5  0.25 0.25]\n",
      " [0.2  0.6  0.2 ]\n",
      " [0.15 0.15 0.7 ]]\n",
      "\n",
      "Case 3: Matrix Input\n"
     ]
    },
    {
     "ename": "ValueError",
     "evalue": "setting an array element with a sequence.",
     "output_type": "error",
     "traceback": [
      "\u001b[0;31m---------------------------------------------------------------------------\u001b[0m",
      "\u001b[0;31mTypeError\u001b[0m                                 Traceback (most recent call last)",
      "\u001b[0;31mTypeError\u001b[0m: only length-1 arrays can be converted to Python scalars",
      "\nThe above exception was the direct cause of the following exception:\n",
      "\u001b[0;31mValueError\u001b[0m                                Traceback (most recent call last)",
      "Cell \u001b[0;32mIn[5], line 49\u001b[0m\n\u001b[1;32m     47\u001b[0m \u001b[38;5;28mprint\u001b[39m(\u001b[38;5;124m\"\u001b[39m\u001b[38;5;130;01m\\n\u001b[39;00m\u001b[38;5;124mCase 3: Matrix Input\u001b[39m\u001b[38;5;124m\"\u001b[39m)\n\u001b[1;32m     48\u001b[0m working_matrix \u001b[38;5;241m=\u001b[39m np\u001b[38;5;241m.\u001b[39marray([[\u001b[38;5;241m0\u001b[39m, \u001b[38;5;241m0.2\u001b[39m, \u001b[38;5;241m0.3\u001b[39m], [\u001b[38;5;241m0.1\u001b[39m, \u001b[38;5;241m0\u001b[39m, \u001b[38;5;241m0.4\u001b[39m], [\u001b[38;5;241m0.3\u001b[39m, \u001b[38;5;241m0.2\u001b[39m, \u001b[38;5;241m0\u001b[39m]])\n\u001b[0;32m---> 49\u001b[0m matrix_3 \u001b[38;5;241m=\u001b[39m \u001b[43mcreate_natural_transition_matrix\u001b[49m\u001b[43m(\u001b[49m\u001b[43mworking_matrix\u001b[49m\u001b[43m,\u001b[49m\u001b[43m \u001b[49m\u001b[38;5;241;43m3\u001b[39;49m\u001b[43m)\u001b[49m\n\u001b[1;32m     50\u001b[0m \u001b[38;5;28mprint\u001b[39m(matrix_3)\n",
      "Cell \u001b[0;32mIn[5], line 15\u001b[0m, in \u001b[0;36mcreate_natural_transition_matrix\u001b[0;34m(input, n_states)\u001b[0m\n\u001b[1;32m     13\u001b[0m         off_diagonal \u001b[38;5;241m=\u001b[39m (\u001b[38;5;241m1\u001b[39m \u001b[38;5;241m-\u001b[39m \u001b[38;5;28minput\u001b[39m[i]) \u001b[38;5;241m/\u001b[39m (n_states \u001b[38;5;241m-\u001b[39m \u001b[38;5;241m1\u001b[39m)\n\u001b[1;32m     14\u001b[0m         matrix[i, :] \u001b[38;5;241m=\u001b[39m off_diagonal\n\u001b[0;32m---> 15\u001b[0m         \u001b[43mmatrix\u001b[49m\u001b[43m[\u001b[49m\u001b[43mi\u001b[49m\u001b[43m,\u001b[49m\u001b[43m \u001b[49m\u001b[43mi\u001b[49m\u001b[43m]\u001b[49m \u001b[38;5;241m=\u001b[39m \u001b[38;5;28minput\u001b[39m[i]\n\u001b[1;32m     17\u001b[0m \u001b[38;5;66;03m# Case 3: Input is a matrix\u001b[39;00m\n\u001b[1;32m     18\u001b[0m \u001b[38;5;28;01melif\u001b[39;00m \u001b[38;5;28misinstance\u001b[39m(\u001b[38;5;28minput\u001b[39m, np\u001b[38;5;241m.\u001b[39mndarray) \u001b[38;5;129;01mand\u001b[39;00m \u001b[38;5;28minput\u001b[39m\u001b[38;5;241m.\u001b[39mshape \u001b[38;5;241m==\u001b[39m (n_states, n_states):\n",
      "\u001b[0;31mValueError\u001b[0m: setting an array element with a sequence."
     ]
    }
   ],
   "source": [
    "import numpy as np\n",
    "\n",
    "def create_natural_transition_matrix(input, n_states):\n",
    "    # Case 1: Input is a single number\n",
    "    if isinstance(input, (int, float)) and 0 <= input <= 1:\n",
    "        matrix = np.full((n_states, n_states), (1 - input) / (n_states - 1))\n",
    "        np.fill_diagonal(matrix, input)\n",
    "    \n",
    "    # Case 2: Input is a series or numpy array\n",
    "    elif isinstance(input, (list, np.ndarray)) and len(input) == n_states:\n",
    "        matrix = np.zeros((n_states, n_states))\n",
    "        for i in range(n_states):\n",
    "            off_diagonal = (1 - input[i]) / (n_states - 1)\n",
    "            matrix[i, :] = off_diagonal\n",
    "            matrix[i, i] = input[i]\n",
    "    \n",
    "    # Case 3: Input is a matrix\n",
    "    elif isinstance(input, np.ndarray) and input.shape == (n_states, n_states):\n",
    "        matrix = np.zeros_like(input)\n",
    "        for i in range(n_states):\n",
    "            row_sum = np.sum(input[i, :]) - input[i, i]\n",
    "            scale = (1 - input[i, i]) / row_sum if row_sum != 0 else 0\n",
    "            for j in range(n_states):\n",
    "                if i != j:\n",
    "                    matrix[i, j] = input[i, j] * scale\n",
    "            matrix[i, i] = input[i, i]\n",
    "    \n",
    "    else:\n",
    "        raise ValueError(\"Invalid input type or dimensions do not match the expected n_states.\")\n",
    "        \n",
    "    return matrix\n",
    "\n",
    "# Example Usage:\n",
    "\n",
    "# Case 1: Single number\n",
    "print(\"Case 1: Single Number Input\")\n",
    "matrix_1 = create_natural_transition_matrix(0.5, 3)\n",
    "print(matrix_1)\n",
    "\n",
    "# Case 2: Series or Numpy Array\n",
    "print(\"\\nCase 2: Series or Array Input\")\n",
    "diagonal_values = [0.5, 0.6, 0.7]\n",
    "matrix_2 = create_natural_transition_matrix(diagonal_values, 3)\n",
    "print(matrix_2)\n",
    "\n",
    "# Case 3: Matrix\n",
    "print(\"\\nCase 3: Matrix Input\")\n",
    "working_matrix = np.array([[0, 0.2, 0.3], [0.1, 0, 0.4], [0.3, 0.2, 0]])\n",
    "matrix_3 = create_natural_transition_matrix(working_matrix, 3)\n",
    "print(matrix_3)\n"
   ]
  }
 ],
 "metadata": {
  "kernelspec": {
   "display_name": "Python 3 (ipykernel)",
   "language": "python",
   "name": "python3"
  },
  "language_info": {
   "codemirror_mode": {
    "name": "ipython",
    "version": 3
   },
   "file_extension": ".py",
   "mimetype": "text/x-python",
   "name": "python",
   "nbconvert_exporter": "python",
   "pygments_lexer": "ipython3",
   "version": "3.11.6"
  }
 },
 "nbformat": 4,
 "nbformat_minor": 5
}
