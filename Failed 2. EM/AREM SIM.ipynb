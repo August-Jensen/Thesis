{
 "cells": [
  {
   "cell_type": "markdown",
   "id": "aa7300f7-4224-4daa-96ce-04b036bcc6c9",
   "metadata": {},
   "source": []
  },
  {
   "cell_type": "code",
   "execution_count": 1,
   "id": "7a24ba04-77cd-4f4f-b3f5-e6f3f300c110",
   "metadata": {},
   "outputs": [
    {
     "name": "stderr",
     "output_type": "stream",
     "text": [
      "Processing:   0%|                                | 0/250 [00:00<?, ?iteration/s]"
     ]
    },
    {
     "name": "stdout",
     "output_type": "stream",
     "text": [
      "0\n"
     ]
    },
    {
     "name": "stderr",
     "output_type": "stream",
     "text": [
      "Processing:   0%|                      | 1/250 [00:46<3:11:20, 46.11s/iteration]"
     ]
    },
    {
     "name": "stdout",
     "output_type": "stream",
     "text": [
      "1\n"
     ]
    },
    {
     "name": "stderr",
     "output_type": "stream",
     "text": [
      "Processing:   1%|▏                     | 2/250 [02:23<5:15:03, 76.22s/iteration]"
     ]
    },
    {
     "name": "stdout",
     "output_type": "stream",
     "text": [
      "2\n"
     ]
    },
    {
     "name": "stderr",
     "output_type": "stream",
     "text": [
      "Processing:   1%|▎                     | 3/250 [04:08<6:08:37, 89.54s/iteration]"
     ]
    },
    {
     "name": "stdout",
     "output_type": "stream",
     "text": [
      "3\n"
     ]
    },
    {
     "name": "stderr",
     "output_type": "stream",
     "text": [
      "Processing:   2%|▎                     | 4/250 [05:52<6:29:57, 95.11s/iteration]"
     ]
    },
    {
     "name": "stdout",
     "output_type": "stream",
     "text": [
      "4\n"
     ]
    },
    {
     "name": "stderr",
     "output_type": "stream",
     "text": [
      "Processing:   2%|▍                     | 5/250 [07:31<6:34:51, 96.70s/iteration]"
     ]
    },
    {
     "name": "stdout",
     "output_type": "stream",
     "text": [
      "5\n"
     ]
    },
    {
     "name": "stderr",
     "output_type": "stream",
     "text": [
      "Processing:   2%|▌                     | 6/250 [09:09<6:35:04, 97.15s/iteration]"
     ]
    },
    {
     "name": "stdout",
     "output_type": "stream",
     "text": [
      "6\n"
     ]
    },
    {
     "name": "stderr",
     "output_type": "stream",
     "text": [
      "Processing:   3%|▌                     | 7/250 [09:48<5:15:23, 77.87s/iteration]"
     ]
    },
    {
     "name": "stdout",
     "output_type": "stream",
     "text": [
      "7\n"
     ]
    },
    {
     "name": "stderr",
     "output_type": "stream",
     "text": [
      "Processing:   3%|▋                     | 8/250 [11:26<5:39:50, 84.26s/iteration]"
     ]
    },
    {
     "name": "stdout",
     "output_type": "stream",
     "text": [
      "8\n"
     ]
    },
    {
     "name": "stderr",
     "output_type": "stream",
     "text": [
      "Processing:   4%|▊                     | 9/250 [13:06<5:58:39, 89.29s/iteration]"
     ]
    },
    {
     "name": "stdout",
     "output_type": "stream",
     "text": [
      "9\n"
     ]
    },
    {
     "name": "stderr",
     "output_type": "stream",
     "text": [
      "Processing:   4%|▊                    | 10/250 [14:42<6:04:55, 91.23s/iteration]"
     ]
    },
    {
     "name": "stdout",
     "output_type": "stream",
     "text": [
      "10\n"
     ]
    },
    {
     "name": "stderr",
     "output_type": "stream",
     "text": [
      "Processing:   4%|▉                    | 11/250 [15:24<5:03:51, 76.28s/iteration]"
     ]
    },
    {
     "name": "stdout",
     "output_type": "stream",
     "text": [
      "11\n"
     ]
    },
    {
     "name": "stderr",
     "output_type": "stream",
     "text": [
      "Processing:   5%|█                    | 12/250 [17:04<5:30:55, 83.43s/iteration]"
     ]
    },
    {
     "name": "stdout",
     "output_type": "stream",
     "text": [
      "12\n"
     ]
    },
    {
     "name": "stderr",
     "output_type": "stream",
     "text": [
      "Processing:   5%|█                    | 13/250 [18:43<5:48:17, 88.18s/iteration]"
     ]
    },
    {
     "name": "stdout",
     "output_type": "stream",
     "text": [
      "13\n"
     ]
    },
    {
     "name": "stderr",
     "output_type": "stream",
     "text": [
      "Processing:   6%|█▏                   | 14/250 [20:21<5:58:34, 91.16s/iteration]"
     ]
    },
    {
     "name": "stdout",
     "output_type": "stream",
     "text": [
      "14\n"
     ]
    },
    {
     "name": "stderr",
     "output_type": "stream",
     "text": [
      "Processing:   6%|█▎                   | 15/250 [21:05<5:01:34, 77.00s/iteration]"
     ]
    },
    {
     "name": "stdout",
     "output_type": "stream",
     "text": [
      "15\n"
     ]
    },
    {
     "name": "stderr",
     "output_type": "stream",
     "text": [
      "Processing:   6%|█▎                   | 16/250 [21:17<3:43:32, 57.32s/iteration]"
     ]
    },
    {
     "name": "stdout",
     "output_type": "stream",
     "text": [
      "16\n"
     ]
    },
    {
     "name": "stderr",
     "output_type": "stream",
     "text": [
      "Processing:   7%|█▍                   | 17/250 [22:53<4:28:25, 69.12s/iteration]"
     ]
    },
    {
     "name": "stdout",
     "output_type": "stream",
     "text": [
      "17\n"
     ]
    },
    {
     "name": "stderr",
     "output_type": "stream",
     "text": [
      "Processing:   7%|█▌                   | 18/250 [24:34<5:04:12, 78.68s/iteration]"
     ]
    },
    {
     "name": "stdout",
     "output_type": "stream",
     "text": [
      "18\n"
     ]
    },
    {
     "name": "stderr",
     "output_type": "stream",
     "text": [
      "Processing:   8%|█▌                   | 19/250 [25:22<4:27:33, 69.50s/iteration]"
     ]
    },
    {
     "name": "stdout",
     "output_type": "stream",
     "text": [
      "19\n"
     ]
    },
    {
     "name": "stderr",
     "output_type": "stream",
     "text": [
      "Processing:   8%|█▋                   | 20/250 [26:29<4:22:54, 68.58s/iteration]"
     ]
    },
    {
     "name": "stdout",
     "output_type": "stream",
     "text": [
      "20\n"
     ]
    },
    {
     "name": "stderr",
     "output_type": "stream",
     "text": [
      "Processing:   8%|█▊                   | 21/250 [26:58<3:36:40, 56.77s/iteration]"
     ]
    },
    {
     "name": "stdout",
     "output_type": "stream",
     "text": [
      "21\n"
     ]
    },
    {
     "name": "stderr",
     "output_type": "stream",
     "text": [
      "Processing:   9%|█▊                   | 22/250 [28:35<4:21:48, 68.90s/iteration]"
     ]
    },
    {
     "name": "stdout",
     "output_type": "stream",
     "text": [
      "22\n"
     ]
    },
    {
     "name": "stderr",
     "output_type": "stream",
     "text": [
      "Processing:   9%|█▉                   | 23/250 [29:51<4:28:45, 71.04s/iteration]"
     ]
    },
    {
     "name": "stdout",
     "output_type": "stream",
     "text": [
      "23\n"
     ]
    },
    {
     "name": "stderr",
     "output_type": "stream",
     "text": [
      "Processing:  10%|██                   | 24/250 [31:30<4:59:29, 79.51s/iteration]"
     ]
    },
    {
     "name": "stdout",
     "output_type": "stream",
     "text": [
      "24\n"
     ]
    },
    {
     "name": "stderr",
     "output_type": "stream",
     "text": [
      "Processing:  10%|██                   | 25/250 [33:12<5:22:55, 86.11s/iteration]"
     ]
    },
    {
     "name": "stdout",
     "output_type": "stream",
     "text": [
      "25\n"
     ]
    },
    {
     "name": "stderr",
     "output_type": "stream",
     "text": [
      "Processing:  10%|██▏                  | 26/250 [33:38<4:14:13, 68.10s/iteration]"
     ]
    },
    {
     "name": "stdout",
     "output_type": "stream",
     "text": [
      "26\n"
     ]
    },
    {
     "name": "stderr",
     "output_type": "stream",
     "text": [
      "Processing:  11%|██▎                  | 27/250 [35:04<4:33:01, 73.46s/iteration]"
     ]
    },
    {
     "name": "stdout",
     "output_type": "stream",
     "text": [
      "27\n"
     ]
    },
    {
     "name": "stderr",
     "output_type": "stream",
     "text": [
      "Processing:  11%|██▎                  | 28/250 [36:22<4:36:36, 74.76s/iteration]"
     ]
    },
    {
     "name": "stdout",
     "output_type": "stream",
     "text": [
      "28\n"
     ]
    },
    {
     "name": "stderr",
     "output_type": "stream",
     "text": [
      "Processing:  12%|██▍                  | 29/250 [37:50<4:50:41, 78.92s/iteration]"
     ]
    },
    {
     "name": "stdout",
     "output_type": "stream",
     "text": [
      "29\n"
     ]
    },
    {
     "name": "stderr",
     "output_type": "stream",
     "text": [
      "Processing:  12%|██▌                  | 30/250 [39:28<5:10:13, 84.61s/iteration]"
     ]
    },
    {
     "name": "stdout",
     "output_type": "stream",
     "text": [
      "30\n"
     ]
    },
    {
     "name": "stderr",
     "output_type": "stream",
     "text": [
      "Processing:  12%|██▌                  | 31/250 [41:03<5:19:41, 87.59s/iteration]"
     ]
    },
    {
     "name": "stdout",
     "output_type": "stream",
     "text": [
      "31\n"
     ]
    },
    {
     "name": "stderr",
     "output_type": "stream",
     "text": [
      "Processing:  13%|██▋                  | 32/250 [41:36<4:18:47, 71.23s/iteration]"
     ]
    },
    {
     "name": "stdout",
     "output_type": "stream",
     "text": [
      "32\n"
     ]
    },
    {
     "name": "stderr",
     "output_type": "stream",
     "text": [
      "Processing:  13%|██▊                  | 33/250 [41:51<3:17:13, 54.53s/iteration]"
     ]
    },
    {
     "name": "stdout",
     "output_type": "stream",
     "text": [
      "33\n"
     ]
    },
    {
     "name": "stderr",
     "output_type": "stream",
     "text": [
      "Processing:  14%|██▊                  | 34/250 [43:31<4:05:08, 68.10s/iteration]"
     ]
    },
    {
     "name": "stdout",
     "output_type": "stream",
     "text": [
      "34\n"
     ]
    },
    {
     "name": "stderr",
     "output_type": "stream",
     "text": [
      "Processing:  14%|██▉                  | 35/250 [45:09<4:36:28, 77.16s/iteration]"
     ]
    },
    {
     "name": "stdout",
     "output_type": "stream",
     "text": [
      "35\n"
     ]
    },
    {
     "name": "stderr",
     "output_type": "stream",
     "text": [
      "Processing:  14%|███                  | 36/250 [45:24<3:27:49, 58.27s/iteration]"
     ]
    },
    {
     "name": "stdout",
     "output_type": "stream",
     "text": [
      "36\n"
     ]
    },
    {
     "name": "stderr",
     "output_type": "stream",
     "text": [
      "Processing:  15%|███                  | 37/250 [46:57<4:03:41, 68.64s/iteration]"
     ]
    },
    {
     "name": "stdout",
     "output_type": "stream",
     "text": [
      "37\n"
     ]
    },
    {
     "name": "stderr",
     "output_type": "stream",
     "text": [
      "Processing:  15%|███▏                 | 38/250 [48:36<4:35:00, 77.83s/iteration]"
     ]
    },
    {
     "name": "stdout",
     "output_type": "stream",
     "text": [
      "38\n"
     ]
    },
    {
     "name": "stderr",
     "output_type": "stream",
     "text": [
      "Processing:  16%|███▎                 | 39/250 [50:05<4:46:10, 81.38s/iteration]"
     ]
    },
    {
     "name": "stdout",
     "output_type": "stream",
     "text": [
      "39\n"
     ]
    },
    {
     "name": "stderr",
     "output_type": "stream",
     "text": [
      "Processing:  16%|███▎                 | 40/250 [51:06<4:23:02, 75.16s/iteration]"
     ]
    },
    {
     "name": "stdout",
     "output_type": "stream",
     "text": [
      "40\n"
     ]
    },
    {
     "name": "stderr",
     "output_type": "stream",
     "text": [
      "Processing:  16%|███▍                 | 41/250 [51:41<3:40:01, 63.16s/iteration]"
     ]
    },
    {
     "name": "stdout",
     "output_type": "stream",
     "text": [
      "41\n"
     ]
    },
    {
     "name": "stderr",
     "output_type": "stream",
     "text": [
      "Processing:  17%|███▌                 | 42/250 [52:55<3:49:58, 66.34s/iteration]"
     ]
    },
    {
     "name": "stdout",
     "output_type": "stream",
     "text": [
      "42\n"
     ]
    },
    {
     "name": "stderr",
     "output_type": "stream",
     "text": [
      "Processing:  17%|███▌                 | 43/250 [53:52<3:39:37, 63.66s/iteration]"
     ]
    },
    {
     "name": "stdout",
     "output_type": "stream",
     "text": [
      "43\n"
     ]
    },
    {
     "name": "stderr",
     "output_type": "stream",
     "text": [
      "Processing:  18%|███▋                 | 44/250 [55:31<4:14:27, 74.12s/iteration]"
     ]
    },
    {
     "name": "stdout",
     "output_type": "stream",
     "text": [
      "44\n"
     ]
    },
    {
     "name": "stderr",
     "output_type": "stream",
     "text": [
      "Processing:  18%|███▊                 | 45/250 [57:08<4:37:08, 81.11s/iteration]"
     ]
    },
    {
     "name": "stdout",
     "output_type": "stream",
     "text": [
      "45\n"
     ]
    },
    {
     "name": "stderr",
     "output_type": "stream",
     "text": [
      "Processing:  18%|███▊                 | 46/250 [57:38<3:42:56, 65.57s/iteration]"
     ]
    },
    {
     "name": "stdout",
     "output_type": "stream",
     "text": [
      "46\n"
     ]
    },
    {
     "name": "stderr",
     "output_type": "stream",
     "text": [
      "Processing:  19%|███▉                 | 47/250 [57:59<2:56:57, 52.30s/iteration]"
     ]
    },
    {
     "name": "stdout",
     "output_type": "stream",
     "text": [
      "47\n"
     ]
    },
    {
     "name": "stderr",
     "output_type": "stream",
     "text": [
      "Processing:  19%|████                 | 48/250 [59:35<3:40:19, 65.44s/iteration]"
     ]
    },
    {
     "name": "stdout",
     "output_type": "stream",
     "text": [
      "48\n"
     ]
    },
    {
     "name": "stderr",
     "output_type": "stream",
     "text": [
      "Processing:  20%|███▋               | 49/250 [1:01:11<4:09:45, 74.55s/iteration]"
     ]
    },
    {
     "name": "stdout",
     "output_type": "stream",
     "text": [
      "49\n"
     ]
    },
    {
     "name": "stderr",
     "output_type": "stream",
     "text": [
      "Processing:  20%|███▊               | 50/250 [1:02:06<3:49:00, 68.70s/iteration]"
     ]
    },
    {
     "name": "stdout",
     "output_type": "stream",
     "text": [
      "50\n"
     ]
    },
    {
     "name": "stderr",
     "output_type": "stream",
     "text": [
      "Processing:  20%|███▉               | 51/250 [1:03:04<3:37:28, 65.57s/iteration]"
     ]
    },
    {
     "name": "stdout",
     "output_type": "stream",
     "text": [
      "51\n"
     ]
    },
    {
     "name": "stderr",
     "output_type": "stream",
     "text": [
      "Processing:  21%|███▉               | 52/250 [1:04:51<4:17:12, 77.94s/iteration]"
     ]
    },
    {
     "name": "stdout",
     "output_type": "stream",
     "text": [
      "52\n"
     ]
    },
    {
     "name": "stderr",
     "output_type": "stream",
     "text": [
      "Processing:  21%|████               | 53/250 [1:06:32<4:38:40, 84.88s/iteration]"
     ]
    },
    {
     "name": "stdout",
     "output_type": "stream",
     "text": [
      "53\n"
     ]
    },
    {
     "name": "stderr",
     "output_type": "stream",
     "text": [
      "Processing:  22%|████               | 54/250 [1:06:55<3:36:25, 66.25s/iteration]"
     ]
    },
    {
     "name": "stdout",
     "output_type": "stream",
     "text": [
      "54\n"
     ]
    },
    {
     "name": "stderr",
     "output_type": "stream",
     "text": [
      "Processing:  22%|████▏              | 55/250 [1:07:39<3:13:16, 59.47s/iteration]"
     ]
    },
    {
     "name": "stdout",
     "output_type": "stream",
     "text": [
      "55\n"
     ]
    },
    {
     "name": "stderr",
     "output_type": "stream",
     "text": [
      "Processing:  22%|████▎              | 56/250 [1:09:21<3:53:43, 72.28s/iteration]"
     ]
    },
    {
     "name": "stdout",
     "output_type": "stream",
     "text": [
      "56\n"
     ]
    },
    {
     "name": "stderr",
     "output_type": "stream",
     "text": [
      "Processing:  23%|████▎              | 57/250 [1:10:59<4:17:32, 80.06s/iteration]"
     ]
    },
    {
     "name": "stdout",
     "output_type": "stream",
     "text": [
      "57\n"
     ]
    },
    {
     "name": "stderr",
     "output_type": "stream",
     "text": [
      "Processing:  23%|████▍              | 58/250 [1:12:51<4:46:59, 89.68s/iteration]"
     ]
    },
    {
     "name": "stdout",
     "output_type": "stream",
     "text": [
      "58\n"
     ]
    },
    {
     "name": "stderr",
     "output_type": "stream",
     "text": [
      "Processing:  24%|████▍              | 59/250 [1:13:19<3:46:34, 71.17s/iteration]"
     ]
    },
    {
     "name": "stdout",
     "output_type": "stream",
     "text": [
      "59\n"
     ]
    },
    {
     "name": "stderr",
     "output_type": "stream",
     "text": [
      "Processing:  24%|████▌              | 60/250 [1:14:37<3:51:57, 73.25s/iteration]"
     ]
    },
    {
     "name": "stdout",
     "output_type": "stream",
     "text": [
      "60\n"
     ]
    },
    {
     "name": "stderr",
     "output_type": "stream",
     "text": [
      "Processing:  24%|████▋              | 61/250 [1:16:14<4:13:15, 80.40s/iteration]"
     ]
    },
    {
     "name": "stdout",
     "output_type": "stream",
     "text": [
      "61\n"
     ]
    },
    {
     "name": "stderr",
     "output_type": "stream",
     "text": [
      "Processing:  25%|████▋              | 62/250 [1:17:04<3:42:44, 71.09s/iteration]"
     ]
    },
    {
     "name": "stdout",
     "output_type": "stream",
     "text": [
      "62\n"
     ]
    },
    {
     "name": "stderr",
     "output_type": "stream",
     "text": [
      "Processing:  25%|████▊              | 63/250 [1:17:39<3:08:12, 60.39s/iteration]"
     ]
    },
    {
     "name": "stdout",
     "output_type": "stream",
     "text": [
      "63\n"
     ]
    },
    {
     "name": "stderr",
     "output_type": "stream",
     "text": [
      "Processing:  26%|████▊              | 64/250 [1:19:25<3:50:01, 74.20s/iteration]"
     ]
    },
    {
     "name": "stdout",
     "output_type": "stream",
     "text": [
      "64\n"
     ]
    },
    {
     "name": "stderr",
     "output_type": "stream",
     "text": [
      "Processing:  26%|████▉              | 65/250 [1:21:10<4:16:46, 83.28s/iteration]"
     ]
    },
    {
     "name": "stdout",
     "output_type": "stream",
     "text": [
      "65\n"
     ]
    },
    {
     "name": "stderr",
     "output_type": "stream",
     "text": [
      "Processing:  26%|█████              | 66/250 [1:22:56<4:36:11, 90.06s/iteration]"
     ]
    },
    {
     "name": "stdout",
     "output_type": "stream",
     "text": [
      "66\n"
     ]
    },
    {
     "name": "stderr",
     "output_type": "stream",
     "text": [
      "Processing:  27%|█████              | 67/250 [1:24:45<4:52:02, 95.75s/iteration]"
     ]
    },
    {
     "name": "stdout",
     "output_type": "stream",
     "text": [
      "67\n"
     ]
    },
    {
     "name": "stderr",
     "output_type": "stream",
     "text": [
      "Processing:  27%|█████▏             | 68/250 [1:26:34<5:02:39, 99.78s/iteration]"
     ]
    },
    {
     "name": "stdout",
     "output_type": "stream",
     "text": [
      "68\n"
     ]
    },
    {
     "name": "stderr",
     "output_type": "stream",
     "text": [
      "Processing:  28%|████▉             | 69/250 [1:28:15<5:01:40, 100.00s/iteration]"
     ]
    },
    {
     "name": "stdout",
     "output_type": "stream",
     "text": [
      "69\n"
     ]
    },
    {
     "name": "stderr",
     "output_type": "stream",
     "text": [
      "Processing:  28%|█████             | 70/250 [1:29:59<5:03:49, 101.27s/iteration]"
     ]
    },
    {
     "name": "stdout",
     "output_type": "stream",
     "text": [
      "70\n"
     ]
    },
    {
     "name": "stderr",
     "output_type": "stream",
     "text": [
      "Processing:  28%|█████▍             | 71/250 [1:31:14<4:38:53, 93.48s/iteration]"
     ]
    },
    {
     "name": "stdout",
     "output_type": "stream",
     "text": [
      "71\n"
     ]
    },
    {
     "name": "stderr",
     "output_type": "stream",
     "text": [
      "Processing:  29%|█████▍             | 72/250 [1:32:38<4:28:53, 90.64s/iteration]"
     ]
    },
    {
     "name": "stdout",
     "output_type": "stream",
     "text": [
      "72\n"
     ]
    },
    {
     "name": "stderr",
     "output_type": "stream",
     "text": [
      "Processing:  29%|█████▌             | 73/250 [1:33:03<3:29:13, 70.92s/iteration]"
     ]
    },
    {
     "name": "stdout",
     "output_type": "stream",
     "text": [
      "73\n"
     ]
    },
    {
     "name": "stderr",
     "output_type": "stream",
     "text": [
      "Processing:  30%|█████▌             | 74/250 [1:33:35<2:53:55, 59.29s/iteration]"
     ]
    },
    {
     "name": "stdout",
     "output_type": "stream",
     "text": [
      "74\n"
     ]
    },
    {
     "name": "stderr",
     "output_type": "stream",
     "text": [
      "Processing:  30%|█████▋             | 75/250 [1:33:58<2:21:14, 48.43s/iteration]"
     ]
    },
    {
     "name": "stdout",
     "output_type": "stream",
     "text": [
      "75\n"
     ]
    },
    {
     "name": "stderr",
     "output_type": "stream",
     "text": [
      "Processing:  30%|█████▊             | 76/250 [1:34:37<2:12:19, 45.63s/iteration]"
     ]
    },
    {
     "name": "stdout",
     "output_type": "stream",
     "text": [
      "76\n"
     ]
    },
    {
     "name": "stderr",
     "output_type": "stream",
     "text": [
      "Processing:  31%|█████▊             | 77/250 [1:35:39<2:25:07, 50.33s/iteration]"
     ]
    },
    {
     "name": "stdout",
     "output_type": "stream",
     "text": [
      "77\n"
     ]
    },
    {
     "name": "stderr",
     "output_type": "stream",
     "text": [
      "Processing:  31%|█████▉             | 78/250 [1:37:10<2:59:57, 62.78s/iteration]"
     ]
    },
    {
     "name": "stdout",
     "output_type": "stream",
     "text": [
      "78\n"
     ]
    },
    {
     "name": "stderr",
     "output_type": "stream",
     "text": [
      "Processing:  32%|██████             | 79/250 [1:37:28<2:20:25, 49.27s/iteration]"
     ]
    },
    {
     "name": "stdout",
     "output_type": "stream",
     "text": [
      "79\n"
     ]
    },
    {
     "name": "stderr",
     "output_type": "stream",
     "text": [
      "Processing:  32%|██████             | 80/250 [1:39:13<3:06:35, 65.85s/iteration]"
     ]
    },
    {
     "name": "stdout",
     "output_type": "stream",
     "text": [
      "80\n"
     ]
    },
    {
     "name": "stderr",
     "output_type": "stream",
     "text": [
      "Processing:  32%|██████▏            | 81/250 [1:40:55<3:36:08, 76.74s/iteration]"
     ]
    },
    {
     "name": "stdout",
     "output_type": "stream",
     "text": [
      "81\n"
     ]
    },
    {
     "name": "stderr",
     "output_type": "stream",
     "text": [
      "Processing:  33%|██████▏            | 82/250 [1:41:05<2:38:56, 56.77s/iteration]"
     ]
    },
    {
     "name": "stdout",
     "output_type": "stream",
     "text": [
      "82\n"
     ]
    },
    {
     "name": "stderr",
     "output_type": "stream",
     "text": [
      "Processing:  33%|██████▎            | 83/250 [1:42:51<3:19:22, 71.63s/iteration]"
     ]
    },
    {
     "name": "stdout",
     "output_type": "stream",
     "text": [
      "83\n"
     ]
    },
    {
     "name": "stderr",
     "output_type": "stream",
     "text": [
      "Processing:  34%|██████▍            | 84/250 [1:44:40<3:48:37, 82.63s/iteration]"
     ]
    },
    {
     "name": "stdout",
     "output_type": "stream",
     "text": [
      "84\n"
     ]
    },
    {
     "name": "stderr",
     "output_type": "stream",
     "text": [
      "Processing:  34%|██████▍            | 85/250 [1:46:28<4:08:08, 90.23s/iteration]"
     ]
    },
    {
     "name": "stdout",
     "output_type": "stream",
     "text": [
      "85\n"
     ]
    },
    {
     "name": "stderr",
     "output_type": "stream",
     "text": [
      "Processing:  34%|██████▌            | 86/250 [1:48:14<4:19:32, 94.95s/iteration]"
     ]
    },
    {
     "name": "stdout",
     "output_type": "stream",
     "text": [
      "86\n"
     ]
    },
    {
     "name": "stderr",
     "output_type": "stream",
     "text": [
      "Processing:  35%|██████▌            | 87/250 [1:50:02<4:28:34, 98.86s/iteration]"
     ]
    },
    {
     "name": "stdout",
     "output_type": "stream",
     "text": [
      "87\n"
     ]
    },
    {
     "name": "stderr",
     "output_type": "stream",
     "text": [
      "Processing:  35%|██████▎           | 88/250 [1:51:49<4:33:55, 101.45s/iteration]"
     ]
    },
    {
     "name": "stdout",
     "output_type": "stream",
     "text": [
      "88\n"
     ]
    },
    {
     "name": "stderr",
     "output_type": "stream",
     "text": [
      "Processing:  36%|██████▍           | 89/250 [1:53:38<4:37:54, 103.57s/iteration]"
     ]
    },
    {
     "name": "stdout",
     "output_type": "stream",
     "text": [
      "89\n"
     ]
    },
    {
     "name": "stderr",
     "output_type": "stream",
     "text": [
      "Processing:  36%|██████▊            | 90/250 [1:53:58<3:29:46, 78.66s/iteration]"
     ]
    },
    {
     "name": "stdout",
     "output_type": "stream",
     "text": [
      "90\n"
     ]
    },
    {
     "name": "stderr",
     "output_type": "stream",
     "text": [
      "Processing:  36%|██████▉            | 91/250 [1:55:14<3:26:29, 77.92s/iteration]"
     ]
    },
    {
     "name": "stdout",
     "output_type": "stream",
     "text": [
      "91\n"
     ]
    },
    {
     "name": "stderr",
     "output_type": "stream",
     "text": [
      "Processing:  37%|██████▉            | 92/250 [1:57:01<3:47:37, 86.44s/iteration]"
     ]
    },
    {
     "name": "stdout",
     "output_type": "stream",
     "text": [
      "92\n"
     ]
    },
    {
     "name": "stderr",
     "output_type": "stream",
     "text": [
      "Processing:  37%|███████            | 93/250 [1:58:47<4:01:28, 92.28s/iteration]"
     ]
    },
    {
     "name": "stdout",
     "output_type": "stream",
     "text": [
      "93\n"
     ]
    },
    {
     "name": "stderr",
     "output_type": "stream",
     "text": [
      "Processing:  38%|███████▏           | 94/250 [2:00:31<4:09:35, 95.99s/iteration]"
     ]
    },
    {
     "name": "stdout",
     "output_type": "stream",
     "text": [
      "94\n"
     ]
    },
    {
     "name": "stderr",
     "output_type": "stream",
     "text": [
      "Processing:  38%|███████▏           | 95/250 [2:00:48<3:06:23, 72.15s/iteration]"
     ]
    },
    {
     "name": "stdout",
     "output_type": "stream",
     "text": [
      "95\n"
     ]
    },
    {
     "name": "stderr",
     "output_type": "stream",
     "text": [
      "Processing:  38%|███████▎           | 96/250 [2:02:28<3:27:10, 80.72s/iteration]"
     ]
    },
    {
     "name": "stdout",
     "output_type": "stream",
     "text": [
      "96\n"
     ]
    },
    {
     "name": "stderr",
     "output_type": "stream",
     "text": [
      "Processing:  39%|███████▎           | 97/250 [2:04:19<3:48:43, 89.70s/iteration]"
     ]
    },
    {
     "name": "stdout",
     "output_type": "stream",
     "text": [
      "97\n"
     ]
    },
    {
     "name": "stderr",
     "output_type": "stream",
     "text": [
      "Processing:  39%|███████▍           | 98/250 [2:06:08<4:01:44, 95.43s/iteration]"
     ]
    },
    {
     "name": "stdout",
     "output_type": "stream",
     "text": [
      "98\n"
     ]
    },
    {
     "name": "stderr",
     "output_type": "stream",
     "text": [
      "Processing:  40%|███████▌           | 99/250 [2:07:54<4:08:33, 98.76s/iteration]"
     ]
    },
    {
     "name": "stdout",
     "output_type": "stream",
     "text": [
      "99\n"
     ]
    },
    {
     "name": "stderr",
     "output_type": "stream",
     "text": [
      "Processing:  40%|██████▊          | 100/250 [2:09:42<4:13:39, 101.47s/iteration]"
     ]
    },
    {
     "name": "stdout",
     "output_type": "stream",
     "text": [
      "100\n"
     ]
    },
    {
     "name": "stderr",
     "output_type": "stream",
     "text": [
      "Processing:  40%|██████▊          | 101/250 [2:11:26<4:13:28, 102.07s/iteration]"
     ]
    },
    {
     "name": "stdout",
     "output_type": "stream",
     "text": [
      "101\n"
     ]
    },
    {
     "name": "stderr",
     "output_type": "stream",
     "text": [
      "Processing:  41%|███████▎          | 102/250 [2:11:54<3:17:22, 80.02s/iteration]"
     ]
    },
    {
     "name": "stdout",
     "output_type": "stream",
     "text": [
      "102\n"
     ]
    },
    {
     "name": "stderr",
     "output_type": "stream",
     "text": [
      "Processing:  41%|███████▍          | 103/250 [2:13:43<3:37:18, 88.70s/iteration]"
     ]
    },
    {
     "name": "stdout",
     "output_type": "stream",
     "text": [
      "103\n"
     ]
    },
    {
     "name": "stderr",
     "output_type": "stream",
     "text": [
      "Processing:  42%|███████▍          | 104/250 [2:14:02<2:44:44, 67.70s/iteration]"
     ]
    },
    {
     "name": "stdout",
     "output_type": "stream",
     "text": [
      "104\n"
     ]
    },
    {
     "name": "stderr",
     "output_type": "stream",
     "text": [
      "Processing:  42%|███████▌          | 105/250 [2:14:50<2:29:08, 61.72s/iteration]"
     ]
    },
    {
     "name": "stdout",
     "output_type": "stream",
     "text": [
      "105\n"
     ]
    },
    {
     "name": "stderr",
     "output_type": "stream",
     "text": [
      "Processing:  42%|███████▋          | 106/250 [2:16:33<2:58:05, 74.21s/iteration]"
     ]
    },
    {
     "name": "stdout",
     "output_type": "stream",
     "text": [
      "106\n"
     ]
    },
    {
     "name": "stderr",
     "output_type": "stream",
     "text": [
      "Processing:  43%|███████▋          | 107/250 [2:17:36<2:48:44, 70.80s/iteration]"
     ]
    },
    {
     "name": "stdout",
     "output_type": "stream",
     "text": [
      "107\n"
     ]
    },
    {
     "name": "stderr",
     "output_type": "stream",
     "text": [
      "Processing:  43%|███████▊          | 108/250 [2:18:29<2:35:19, 65.63s/iteration]"
     ]
    },
    {
     "name": "stdout",
     "output_type": "stream",
     "text": [
      "108\n"
     ]
    },
    {
     "name": "stderr",
     "output_type": "stream",
     "text": [
      "Processing:  44%|███████▊          | 109/250 [2:20:11<2:59:16, 76.28s/iteration]"
     ]
    },
    {
     "name": "stdout",
     "output_type": "stream",
     "text": [
      "109\n"
     ]
    },
    {
     "name": "stderr",
     "output_type": "stream",
     "text": [
      "Processing:  44%|███████▉          | 110/250 [2:21:57<3:19:18, 85.42s/iteration]"
     ]
    },
    {
     "name": "stdout",
     "output_type": "stream",
     "text": [
      "110\n"
     ]
    },
    {
     "name": "stderr",
     "output_type": "stream",
     "text": [
      "Processing:  44%|███████▉          | 111/250 [2:22:31<2:41:45, 69.82s/iteration]"
     ]
    },
    {
     "name": "stdout",
     "output_type": "stream",
     "text": [
      "111\n"
     ]
    },
    {
     "name": "stderr",
     "output_type": "stream",
     "text": [
      "Processing:  45%|████████          | 112/250 [2:23:43<2:42:20, 70.59s/iteration]"
     ]
    },
    {
     "name": "stdout",
     "output_type": "stream",
     "text": [
      "112\n"
     ]
    },
    {
     "name": "stderr",
     "output_type": "stream",
     "text": [
      "Processing:  45%|████████▏         | 113/250 [2:24:17<2:16:11, 59.64s/iteration]"
     ]
    },
    {
     "name": "stdout",
     "output_type": "stream",
     "text": [
      "113\n"
     ]
    },
    {
     "name": "stderr",
     "output_type": "stream",
     "text": [
      "Processing:  46%|████████▏         | 114/250 [2:24:40<1:49:59, 48.53s/iteration]"
     ]
    },
    {
     "name": "stdout",
     "output_type": "stream",
     "text": [
      "114\n"
     ]
    },
    {
     "name": "stderr",
     "output_type": "stream",
     "text": [
      "Processing:  46%|████████▎         | 115/250 [2:25:37<1:55:14, 51.22s/iteration]"
     ]
    },
    {
     "name": "stdout",
     "output_type": "stream",
     "text": [
      "115\n"
     ]
    },
    {
     "name": "stderr",
     "output_type": "stream",
     "text": [
      "Processing:  46%|████████▎         | 116/250 [2:27:23<2:30:46, 67.51s/iteration]"
     ]
    },
    {
     "name": "stdout",
     "output_type": "stream",
     "text": [
      "116\n"
     ]
    },
    {
     "name": "stderr",
     "output_type": "stream",
     "text": [
      "Processing:  47%|████████▍         | 117/250 [2:28:32<2:30:57, 68.10s/iteration]"
     ]
    },
    {
     "name": "stdout",
     "output_type": "stream",
     "text": [
      "117\n"
     ]
    },
    {
     "name": "stderr",
     "output_type": "stream",
     "text": [
      "Processing:  47%|████████▍         | 118/250 [2:29:35<2:26:28, 66.58s/iteration]"
     ]
    },
    {
     "name": "stdout",
     "output_type": "stream",
     "text": [
      "118\n"
     ]
    },
    {
     "name": "stderr",
     "output_type": "stream",
     "text": [
      "Processing:  48%|████████▌         | 119/250 [2:31:31<2:57:35, 81.34s/iteration]"
     ]
    },
    {
     "name": "stdout",
     "output_type": "stream",
     "text": [
      "119\n"
     ]
    },
    {
     "name": "stderr",
     "output_type": "stream",
     "text": [
      "Processing:  48%|████████▋         | 120/250 [2:31:53<2:17:51, 63.63s/iteration]"
     ]
    },
    {
     "name": "stdout",
     "output_type": "stream",
     "text": [
      "120\n"
     ]
    },
    {
     "name": "stderr",
     "output_type": "stream",
     "text": [
      "Processing:  48%|████████▋         | 121/250 [2:32:52<2:13:32, 62.11s/iteration]"
     ]
    },
    {
     "name": "stdout",
     "output_type": "stream",
     "text": [
      "121\n"
     ]
    },
    {
     "name": "stderr",
     "output_type": "stream",
     "text": [
      "Processing:  49%|████████▊         | 122/250 [2:34:36<2:39:19, 74.68s/iteration]"
     ]
    },
    {
     "name": "stdout",
     "output_type": "stream",
     "text": [
      "122\n"
     ]
    },
    {
     "name": "stderr",
     "output_type": "stream",
     "text": [
      "Processing:  49%|████████▊         | 123/250 [2:34:58<2:04:53, 59.00s/iteration]"
     ]
    },
    {
     "name": "stdout",
     "output_type": "stream",
     "text": [
      "123\n"
     ]
    },
    {
     "name": "stderr",
     "output_type": "stream",
     "text": [
      "Processing:  50%|████████▉         | 124/250 [2:36:51<2:37:27, 74.98s/iteration]"
     ]
    },
    {
     "name": "stdout",
     "output_type": "stream",
     "text": [
      "124\n"
     ]
    },
    {
     "name": "stderr",
     "output_type": "stream",
     "text": [
      "Processing:  50%|█████████         | 125/250 [2:38:02<2:33:40, 73.77s/iteration]"
     ]
    },
    {
     "name": "stdout",
     "output_type": "stream",
     "text": [
      "125\n"
     ]
    },
    {
     "name": "stderr",
     "output_type": "stream",
     "text": [
      "Processing:  50%|█████████         | 126/250 [2:39:54<2:56:05, 85.21s/iteration]"
     ]
    },
    {
     "name": "stdout",
     "output_type": "stream",
     "text": [
      "126\n"
     ]
    },
    {
     "name": "stderr",
     "output_type": "stream",
     "text": [
      "Processing:  51%|█████████▏        | 127/250 [2:40:53<2:39:00, 77.57s/iteration]"
     ]
    },
    {
     "name": "stdout",
     "output_type": "stream",
     "text": [
      "127\n"
     ]
    },
    {
     "name": "stderr",
     "output_type": "stream",
     "text": [
      "Processing:  51%|█████████▏        | 128/250 [2:42:38<2:54:30, 85.82s/iteration]"
     ]
    },
    {
     "name": "stdout",
     "output_type": "stream",
     "text": [
      "128\n"
     ]
    },
    {
     "name": "stderr",
     "output_type": "stream",
     "text": [
      "Processing:  52%|█████████▎        | 129/250 [2:44:28<3:07:20, 92.90s/iteration]"
     ]
    },
    {
     "name": "stdout",
     "output_type": "stream",
     "text": [
      "129\n"
     ]
    },
    {
     "name": "stderr",
     "output_type": "stream",
     "text": [
      "Processing:  52%|█████████▎        | 130/250 [2:46:12<3:12:21, 96.18s/iteration]"
     ]
    },
    {
     "name": "stdout",
     "output_type": "stream",
     "text": [
      "130\n"
     ]
    },
    {
     "name": "stderr",
     "output_type": "stream",
     "text": [
      "Processing:  52%|█████████▍        | 131/250 [2:46:31<2:24:51, 73.04s/iteration]"
     ]
    },
    {
     "name": "stdout",
     "output_type": "stream",
     "text": [
      "131\n"
     ]
    },
    {
     "name": "stderr",
     "output_type": "stream",
     "text": [
      "Processing:  53%|█████████▌        | 132/250 [2:48:18<2:43:57, 83.37s/iteration]"
     ]
    },
    {
     "name": "stdout",
     "output_type": "stream",
     "text": [
      "132\n"
     ]
    },
    {
     "name": "stderr",
     "output_type": "stream",
     "text": [
      "Processing:  53%|█████████▌        | 133/250 [2:50:13<3:00:55, 92.78s/iteration]"
     ]
    },
    {
     "name": "stdout",
     "output_type": "stream",
     "text": [
      "133\n"
     ]
    },
    {
     "name": "stderr",
     "output_type": "stream",
     "text": [
      "Processing:  54%|█████████▋        | 134/250 [2:51:49<3:01:26, 93.85s/iteration]"
     ]
    },
    {
     "name": "stdout",
     "output_type": "stream",
     "text": [
      "134\n"
     ]
    },
    {
     "name": "stderr",
     "output_type": "stream",
     "text": [
      "Processing:  54%|█████████▋        | 135/250 [2:52:56<2:44:21, 85.75s/iteration]"
     ]
    },
    {
     "name": "stdout",
     "output_type": "stream",
     "text": [
      "135\n"
     ]
    },
    {
     "name": "stderr",
     "output_type": "stream",
     "text": [
      "Processing:  54%|█████████▊        | 136/250 [2:54:51<2:59:27, 94.45s/iteration]"
     ]
    },
    {
     "name": "stdout",
     "output_type": "stream",
     "text": [
      "136\n"
     ]
    },
    {
     "name": "stderr",
     "output_type": "stream",
     "text": [
      "Processing:  55%|█████████▎       | 137/250 [2:56:44<3:08:37, 100.15s/iteration]"
     ]
    },
    {
     "name": "stdout",
     "output_type": "stream",
     "text": [
      "137\n"
     ]
    },
    {
     "name": "stderr",
     "output_type": "stream",
     "text": [
      "Processing:  55%|█████████▉        | 138/250 [2:57:25<2:33:23, 82.18s/iteration]"
     ]
    },
    {
     "name": "stdout",
     "output_type": "stream",
     "text": [
      "138\n"
     ]
    },
    {
     "name": "stderr",
     "output_type": "stream",
     "text": [
      "Processing:  56%|██████████        | 139/250 [2:58:30<2:22:35, 77.07s/iteration]"
     ]
    },
    {
     "name": "stdout",
     "output_type": "stream",
     "text": [
      "139\n"
     ]
    },
    {
     "name": "stderr",
     "output_type": "stream",
     "text": [
      "Processing:  56%|██████████        | 140/250 [3:00:23<2:41:09, 87.90s/iteration]"
     ]
    },
    {
     "name": "stdout",
     "output_type": "stream",
     "text": [
      "140\n"
     ]
    },
    {
     "name": "stderr",
     "output_type": "stream",
     "text": [
      "Processing:  56%|██████████▏       | 141/250 [3:02:24<2:57:54, 97.93s/iteration]"
     ]
    },
    {
     "name": "stdout",
     "output_type": "stream",
     "text": [
      "141\n"
     ]
    },
    {
     "name": "stderr",
     "output_type": "stream",
     "text": [
      "Processing:  57%|█████████▋       | 142/250 [3:04:16<3:03:55, 102.18s/iteration]"
     ]
    },
    {
     "name": "stdout",
     "output_type": "stream",
     "text": [
      "142\n"
     ]
    },
    {
     "name": "stderr",
     "output_type": "stream",
     "text": [
      "Processing:  57%|██████████▎       | 143/250 [3:05:24<2:43:43, 91.81s/iteration]"
     ]
    },
    {
     "name": "stdout",
     "output_type": "stream",
     "text": [
      "143\n"
     ]
    },
    {
     "name": "stderr",
     "output_type": "stream",
     "text": [
      "Processing:  58%|██████████▎       | 144/250 [3:06:01<2:13:25, 75.52s/iteration]"
     ]
    },
    {
     "name": "stdout",
     "output_type": "stream",
     "text": [
      "144\n"
     ]
    },
    {
     "name": "stderr",
     "output_type": "stream",
     "text": [
      "Processing:  58%|██████████▍       | 145/250 [3:07:31<2:19:34, 79.75s/iteration]"
     ]
    },
    {
     "name": "stdout",
     "output_type": "stream",
     "text": [
      "145\n"
     ]
    },
    {
     "name": "stderr",
     "output_type": "stream",
     "text": [
      "Processing:  58%|██████████▌       | 146/250 [3:09:31<2:39:03, 91.77s/iteration]"
     ]
    },
    {
     "name": "stdout",
     "output_type": "stream",
     "text": [
      "146\n"
     ]
    },
    {
     "name": "stderr",
     "output_type": "stream",
     "text": [
      "Processing:  59%|██████████▌       | 147/250 [3:11:18<2:45:36, 96.47s/iteration]"
     ]
    },
    {
     "name": "stdout",
     "output_type": "stream",
     "text": [
      "147\n"
     ]
    },
    {
     "name": "stderr",
     "output_type": "stream",
     "text": [
      "Processing:  59%|██████████▋       | 148/250 [3:11:42<2:07:04, 74.75s/iteration]"
     ]
    },
    {
     "name": "stdout",
     "output_type": "stream",
     "text": [
      "148\n"
     ]
    },
    {
     "name": "stderr",
     "output_type": "stream",
     "text": [
      "Processing:  60%|██████████▋       | 149/250 [3:12:11<1:42:22, 60.81s/iteration]"
     ]
    },
    {
     "name": "stdout",
     "output_type": "stream",
     "text": [
      "149\n"
     ]
    },
    {
     "name": "stderr",
     "output_type": "stream",
     "text": [
      "Processing:  60%|██████████▊       | 150/250 [3:13:39<1:55:19, 69.19s/iteration]"
     ]
    },
    {
     "name": "stdout",
     "output_type": "stream",
     "text": [
      "150\n"
     ]
    },
    {
     "name": "stderr",
     "output_type": "stream",
     "text": [
      "Processing:  60%|██████████▊       | 151/250 [3:14:04<1:31:59, 55.75s/iteration]"
     ]
    },
    {
     "name": "stdout",
     "output_type": "stream",
     "text": [
      "151\n"
     ]
    },
    {
     "name": "stderr",
     "output_type": "stream",
     "text": [
      "Processing:  61%|██████████▉       | 152/250 [3:15:49<1:55:11, 70.53s/iteration]"
     ]
    },
    {
     "name": "stdout",
     "output_type": "stream",
     "text": [
      "152\n"
     ]
    },
    {
     "name": "stderr",
     "output_type": "stream",
     "text": [
      "Processing:  61%|███████████       | 153/250 [3:17:33<2:10:08, 80.50s/iteration]"
     ]
    },
    {
     "name": "stdout",
     "output_type": "stream",
     "text": [
      "153\n"
     ]
    },
    {
     "name": "stderr",
     "output_type": "stream",
     "text": [
      "Processing:  62%|███████████       | 154/250 [3:19:22<2:22:36, 89.13s/iteration]"
     ]
    },
    {
     "name": "stdout",
     "output_type": "stream",
     "text": [
      "154\n"
     ]
    },
    {
     "name": "stderr",
     "output_type": "stream",
     "text": [
      "Processing:  62%|███████████▏      | 155/250 [3:19:50<1:52:22, 70.97s/iteration]"
     ]
    },
    {
     "name": "stdout",
     "output_type": "stream",
     "text": [
      "155\n"
     ]
    },
    {
     "name": "stderr",
     "output_type": "stream",
     "text": [
      "Processing:  62%|███████████▏      | 156/250 [3:21:47<2:12:45, 84.73s/iteration]"
     ]
    },
    {
     "name": "stdout",
     "output_type": "stream",
     "text": [
      "156\n"
     ]
    },
    {
     "name": "stderr",
     "output_type": "stream",
     "text": [
      "Processing:  63%|███████████▎      | 157/250 [3:23:09<2:10:01, 83.89s/iteration]"
     ]
    },
    {
     "name": "stdout",
     "output_type": "stream",
     "text": [
      "157\n"
     ]
    },
    {
     "name": "stderr",
     "output_type": "stream",
     "text": [
      "Processing:  63%|███████████▍      | 158/250 [3:23:39<1:43:54, 67.76s/iteration]"
     ]
    },
    {
     "name": "stdout",
     "output_type": "stream",
     "text": [
      "158\n"
     ]
    },
    {
     "name": "stderr",
     "output_type": "stream",
     "text": [
      "Processing:  64%|███████████▍      | 159/250 [3:25:38<2:05:59, 83.07s/iteration]"
     ]
    },
    {
     "name": "stdout",
     "output_type": "stream",
     "text": [
      "159\n"
     ]
    },
    {
     "name": "stderr",
     "output_type": "stream",
     "text": [
      "Processing:  64%|███████████▌      | 160/250 [3:27:39<2:21:35, 94.40s/iteration]"
     ]
    },
    {
     "name": "stdout",
     "output_type": "stream",
     "text": [
      "160\n"
     ]
    },
    {
     "name": "stderr",
     "output_type": "stream",
     "text": [
      "Processing:  64%|██████████▉      | 161/250 [3:29:37<2:30:44, 101.62s/iteration]"
     ]
    },
    {
     "name": "stdout",
     "output_type": "stream",
     "text": [
      "161\n"
     ]
    },
    {
     "name": "stderr",
     "output_type": "stream",
     "text": [
      "Processing:  65%|███████████▋      | 162/250 [3:30:22<2:03:57, 84.51s/iteration]"
     ]
    },
    {
     "name": "stdout",
     "output_type": "stream",
     "text": [
      "162\n"
     ]
    },
    {
     "name": "stderr",
     "output_type": "stream",
     "text": [
      "Processing:  65%|███████████▋      | 163/250 [3:32:04<2:10:10, 89.78s/iteration]"
     ]
    },
    {
     "name": "stdout",
     "output_type": "stream",
     "text": [
      "163\n"
     ]
    },
    {
     "name": "stderr",
     "output_type": "stream",
     "text": [
      "Processing:  66%|███████████▊      | 164/250 [3:34:01<2:20:31, 98.04s/iteration]"
     ]
    },
    {
     "name": "stdout",
     "output_type": "stream",
     "text": [
      "164\n"
     ]
    },
    {
     "name": "stderr",
     "output_type": "stream",
     "text": [
      "Processing:  66%|███████████▏     | 165/250 [3:35:47<2:22:14, 100.41s/iteration]"
     ]
    },
    {
     "name": "stdout",
     "output_type": "stream",
     "text": [
      "165\n"
     ]
    },
    {
     "name": "stderr",
     "output_type": "stream",
     "text": [
      "Processing:  66%|███████████▉      | 166/250 [3:36:07<1:46:32, 76.10s/iteration]"
     ]
    },
    {
     "name": "stdout",
     "output_type": "stream",
     "text": [
      "166\n"
     ]
    },
    {
     "name": "stderr",
     "output_type": "stream",
     "text": [
      "Processing:  67%|████████████      | 167/250 [3:36:47<1:30:16, 65.26s/iteration]"
     ]
    },
    {
     "name": "stdout",
     "output_type": "stream",
     "text": [
      "167\n"
     ]
    },
    {
     "name": "stderr",
     "output_type": "stream",
     "text": [
      "Processing:  67%|████████████      | 168/250 [3:37:55<1:30:18, 66.08s/iteration]"
     ]
    },
    {
     "name": "stdout",
     "output_type": "stream",
     "text": [
      "168\n"
     ]
    },
    {
     "name": "stderr",
     "output_type": "stream",
     "text": [
      "Processing:  68%|████████████▏     | 169/250 [3:39:46<1:47:22, 79.54s/iteration]"
     ]
    },
    {
     "name": "stdout",
     "output_type": "stream",
     "text": [
      "169\n"
     ]
    },
    {
     "name": "stderr",
     "output_type": "stream",
     "text": [
      "Processing:  68%|████████████▏     | 170/250 [3:40:15<1:26:04, 64.56s/iteration]"
     ]
    },
    {
     "name": "stdout",
     "output_type": "stream",
     "text": [
      "170\n"
     ]
    },
    {
     "name": "stderr",
     "output_type": "stream",
     "text": [
      "Processing:  68%|████████████▎     | 171/250 [3:41:26<1:27:32, 66.49s/iteration]"
     ]
    },
    {
     "name": "stdout",
     "output_type": "stream",
     "text": [
      "171\n"
     ]
    },
    {
     "name": "stderr",
     "output_type": "stream",
     "text": [
      "Processing:  69%|████████████▍     | 172/250 [3:43:10<1:40:53, 77.61s/iteration]"
     ]
    },
    {
     "name": "stdout",
     "output_type": "stream",
     "text": [
      "172\n"
     ]
    },
    {
     "name": "stderr",
     "output_type": "stream",
     "text": [
      "Processing:  69%|████████████▍     | 173/250 [3:43:48<1:24:26, 65.80s/iteration]"
     ]
    },
    {
     "name": "stdout",
     "output_type": "stream",
     "text": [
      "173\n"
     ]
    },
    {
     "name": "stderr",
     "output_type": "stream",
     "text": [
      "Processing:  70%|████████████▌     | 174/250 [3:44:07<1:05:26, 51.66s/iteration]"
     ]
    },
    {
     "name": "stdout",
     "output_type": "stream",
     "text": [
      "174\n"
     ]
    },
    {
     "name": "stderr",
     "output_type": "stream",
     "text": [
      "Processing:  70%|██████████████      | 175/250 [3:44:26<52:28, 41.98s/iteration]"
     ]
    },
    {
     "name": "stdout",
     "output_type": "stream",
     "text": [
      "175\n"
     ]
    },
    {
     "name": "stderr",
     "output_type": "stream",
     "text": [
      "Processing:  70%|████████████▋     | 176/250 [3:46:10<1:14:45, 60.61s/iteration]"
     ]
    },
    {
     "name": "stdout",
     "output_type": "stream",
     "text": [
      "176\n"
     ]
    },
    {
     "name": "stderr",
     "output_type": "stream",
     "text": [
      "Processing:  71%|████████████▋     | 177/250 [3:47:06<1:12:03, 59.23s/iteration]"
     ]
    },
    {
     "name": "stdout",
     "output_type": "stream",
     "text": [
      "177\n"
     ]
    },
    {
     "name": "stderr",
     "output_type": "stream",
     "text": [
      "Processing:  71%|████████████▊     | 178/250 [3:48:50<1:27:00, 72.50s/iteration]"
     ]
    },
    {
     "name": "stdout",
     "output_type": "stream",
     "text": [
      "178\n"
     ]
    },
    {
     "name": "stderr",
     "output_type": "stream",
     "text": [
      "Processing:  72%|████████████▉     | 179/250 [3:49:41<1:18:14, 66.11s/iteration]"
     ]
    },
    {
     "name": "stdout",
     "output_type": "stream",
     "text": [
      "179\n"
     ]
    },
    {
     "name": "stderr",
     "output_type": "stream",
     "text": [
      "Processing:  72%|████████████▉     | 180/250 [3:51:21<1:29:04, 76.36s/iteration]"
     ]
    },
    {
     "name": "stdout",
     "output_type": "stream",
     "text": [
      "180\n"
     ]
    },
    {
     "name": "stderr",
     "output_type": "stream",
     "text": [
      "Processing:  72%|█████████████     | 181/250 [3:52:43<1:29:48, 78.10s/iteration]"
     ]
    },
    {
     "name": "stdout",
     "output_type": "stream",
     "text": [
      "181\n"
     ]
    },
    {
     "name": "stderr",
     "output_type": "stream",
     "text": [
      "Processing:  73%|█████████████     | 182/250 [3:53:50<1:24:46, 74.80s/iteration]"
     ]
    },
    {
     "name": "stdout",
     "output_type": "stream",
     "text": [
      "182\n"
     ]
    },
    {
     "name": "stderr",
     "output_type": "stream",
     "text": [
      "Processing:  73%|█████████████▏    | 183/250 [3:54:24<1:09:43, 62.44s/iteration]"
     ]
    },
    {
     "name": "stdout",
     "output_type": "stream",
     "text": [
      "183\n"
     ]
    },
    {
     "name": "stderr",
     "output_type": "stream",
     "text": [
      "Processing:  74%|█████████████▏    | 184/250 [3:56:03<1:20:43, 73.39s/iteration]"
     ]
    },
    {
     "name": "stdout",
     "output_type": "stream",
     "text": [
      "184\n"
     ]
    },
    {
     "name": "stderr",
     "output_type": "stream",
     "text": [
      "Processing:  74%|█████████████▎    | 185/250 [3:57:40<1:27:06, 80.41s/iteration]"
     ]
    },
    {
     "name": "stdout",
     "output_type": "stream",
     "text": [
      "185\n"
     ]
    },
    {
     "name": "stderr",
     "output_type": "stream",
     "text": [
      "Processing:  74%|█████████████▍    | 186/250 [3:59:19<1:31:40, 85.94s/iteration]"
     ]
    },
    {
     "name": "stdout",
     "output_type": "stream",
     "text": [
      "186\n"
     ]
    },
    {
     "name": "stderr",
     "output_type": "stream",
     "text": [
      "Processing:  75%|█████████████▍    | 187/250 [4:01:00<1:35:07, 90.60s/iteration]"
     ]
    },
    {
     "name": "stdout",
     "output_type": "stream",
     "text": [
      "187\n"
     ]
    },
    {
     "name": "stderr",
     "output_type": "stream",
     "text": [
      "Processing:  75%|█████████████▌    | 188/250 [4:02:40<1:36:26, 93.33s/iteration]"
     ]
    },
    {
     "name": "stdout",
     "output_type": "stream",
     "text": [
      "188\n"
     ]
    },
    {
     "name": "stderr",
     "output_type": "stream",
     "text": [
      "Processing:  76%|█████████████▌    | 189/250 [4:03:05<1:14:05, 72.88s/iteration]"
     ]
    },
    {
     "name": "stdout",
     "output_type": "stream",
     "text": [
      "189\n"
     ]
    },
    {
     "name": "stderr",
     "output_type": "stream",
     "text": [
      "Processing:  76%|█████████████▋    | 190/250 [4:03:51<1:04:52, 64.87s/iteration]"
     ]
    },
    {
     "name": "stdout",
     "output_type": "stream",
     "text": [
      "190\n"
     ]
    },
    {
     "name": "stderr",
     "output_type": "stream",
     "text": [
      "Processing:  76%|█████████████▊    | 191/250 [4:05:13<1:08:47, 69.96s/iteration]"
     ]
    },
    {
     "name": "stdout",
     "output_type": "stream",
     "text": [
      "191\n"
     ]
    },
    {
     "name": "stderr",
     "output_type": "stream",
     "text": [
      "Processing:  77%|█████████████▊    | 192/250 [4:06:50<1:15:39, 78.26s/iteration]"
     ]
    },
    {
     "name": "stdout",
     "output_type": "stream",
     "text": [
      "192\n"
     ]
    },
    {
     "name": "stderr",
     "output_type": "stream",
     "text": [
      "Processing:  77%|█████████████▉    | 193/250 [4:08:36<1:22:04, 86.40s/iteration]"
     ]
    },
    {
     "name": "stdout",
     "output_type": "stream",
     "text": [
      "193\n"
     ]
    },
    {
     "name": "stderr",
     "output_type": "stream",
     "text": [
      "Processing:  78%|█████████████▉    | 194/250 [4:09:31<1:11:49, 76.96s/iteration]"
     ]
    },
    {
     "name": "stdout",
     "output_type": "stream",
     "text": [
      "194\n"
     ]
    },
    {
     "name": "stderr",
     "output_type": "stream",
     "text": [
      "Processing:  78%|██████████████    | 195/250 [4:10:39<1:08:04, 74.27s/iteration]"
     ]
    },
    {
     "name": "stdout",
     "output_type": "stream",
     "text": [
      "195\n"
     ]
    },
    {
     "name": "stderr",
     "output_type": "stream",
     "text": [
      "Processing:  78%|██████████████    | 196/250 [4:12:19<1:13:53, 82.11s/iteration]"
     ]
    },
    {
     "name": "stdout",
     "output_type": "stream",
     "text": [
      "196\n"
     ]
    },
    {
     "name": "stderr",
     "output_type": "stream",
     "text": [
      "Processing:  79%|███████████████▊    | 197/250 [4:12:39<56:02, 63.44s/iteration]"
     ]
    },
    {
     "name": "stdout",
     "output_type": "stream",
     "text": [
      "197\n"
     ]
    },
    {
     "name": "stderr",
     "output_type": "stream",
     "text": [
      "Processing:  79%|██████████████▎   | 198/250 [4:14:25<1:06:03, 76.22s/iteration]"
     ]
    },
    {
     "name": "stdout",
     "output_type": "stream",
     "text": [
      "198\n"
     ]
    },
    {
     "name": "stderr",
     "output_type": "stream",
     "text": [
      "Processing:  80%|██████████████▎   | 199/250 [4:16:28<1:16:39, 90.19s/iteration]"
     ]
    },
    {
     "name": "stdout",
     "output_type": "stream",
     "text": [
      "199\n"
     ]
    },
    {
     "name": "stderr",
     "output_type": "stream",
     "text": [
      "Processing:  80%|██████████████▍   | 200/250 [4:18:18<1:20:04, 96.10s/iteration]"
     ]
    },
    {
     "name": "stdout",
     "output_type": "stream",
     "text": [
      "200\n"
     ]
    },
    {
     "name": "stderr",
     "output_type": "stream",
     "text": [
      "Processing:  80%|██████████████▍   | 201/250 [4:19:58<1:19:23, 97.21s/iteration]"
     ]
    },
    {
     "name": "stdout",
     "output_type": "stream",
     "text": [
      "201\n"
     ]
    },
    {
     "name": "stderr",
     "output_type": "stream",
     "text": [
      "Processing:  81%|██████████████▌   | 202/250 [4:20:42<1:05:01, 81.29s/iteration]"
     ]
    },
    {
     "name": "stdout",
     "output_type": "stream",
     "text": [
      "202\n"
     ]
    },
    {
     "name": "stderr",
     "output_type": "stream",
     "text": [
      "Processing:  81%|██████████████▌   | 203/250 [4:22:26<1:09:00, 88.09s/iteration]"
     ]
    },
    {
     "name": "stdout",
     "output_type": "stream",
     "text": [
      "203\n"
     ]
    },
    {
     "name": "stderr",
     "output_type": "stream",
     "text": [
      "Processing:  82%|████████████████▎   | 204/250 [4:23:04<56:04, 73.15s/iteration]"
     ]
    },
    {
     "name": "stdout",
     "output_type": "stream",
     "text": [
      "204\n"
     ]
    },
    {
     "name": "stderr",
     "output_type": "stream",
     "text": [
      "Processing:  82%|██████████████▊   | 205/250 [4:24:53<1:02:49, 83.76s/iteration]"
     ]
    },
    {
     "name": "stdout",
     "output_type": "stream",
     "text": [
      "205\n"
     ]
    },
    {
     "name": "stderr",
     "output_type": "stream",
     "text": [
      "Processing:  82%|██████████████▊   | 206/250 [4:26:38<1:06:07, 90.17s/iteration]"
     ]
    },
    {
     "name": "stdout",
     "output_type": "stream",
     "text": [
      "206\n"
     ]
    },
    {
     "name": "stderr",
     "output_type": "stream",
     "text": [
      "Processing:  83%|██████████████▉   | 207/250 [4:28:22<1:07:40, 94.42s/iteration]"
     ]
    },
    {
     "name": "stdout",
     "output_type": "stream",
     "text": [
      "207\n"
     ]
    },
    {
     "name": "stderr",
     "output_type": "stream",
     "text": [
      "Processing:  83%|████████████████▋   | 208/250 [4:28:40<50:02, 71.48s/iteration]"
     ]
    },
    {
     "name": "stdout",
     "output_type": "stream",
     "text": [
      "208\n"
     ]
    },
    {
     "name": "stderr",
     "output_type": "stream",
     "text": [
      "Processing:  84%|████████████████▋   | 209/250 [4:29:03<38:52, 56.89s/iteration]"
     ]
    },
    {
     "name": "stdout",
     "output_type": "stream",
     "text": [
      "209\n"
     ]
    },
    {
     "name": "stderr",
     "output_type": "stream",
     "text": [
      "Processing:  84%|████████████████▊   | 210/250 [4:29:55<37:03, 55.59s/iteration]"
     ]
    },
    {
     "name": "stdout",
     "output_type": "stream",
     "text": [
      "210\n"
     ]
    },
    {
     "name": "stderr",
     "output_type": "stream",
     "text": [
      "Processing:  84%|████████████████▉   | 211/250 [4:31:03<38:25, 59.11s/iteration]"
     ]
    },
    {
     "name": "stdout",
     "output_type": "stream",
     "text": [
      "211\n"
     ]
    },
    {
     "name": "stderr",
     "output_type": "stream",
     "text": [
      "Processing:  85%|████████████████▉   | 212/250 [4:32:42<45:00, 71.06s/iteration]"
     ]
    },
    {
     "name": "stdout",
     "output_type": "stream",
     "text": [
      "212\n"
     ]
    },
    {
     "name": "stderr",
     "output_type": "stream",
     "text": [
      "Processing:  85%|█████████████████   | 213/250 [4:34:28<50:17, 81.55s/iteration]"
     ]
    },
    {
     "name": "stdout",
     "output_type": "stream",
     "text": [
      "213\n"
     ]
    },
    {
     "name": "stderr",
     "output_type": "stream",
     "text": [
      "Processing:  86%|█████████████████   | 214/250 [4:34:47<37:39, 62.77s/iteration]"
     ]
    },
    {
     "name": "stdout",
     "output_type": "stream",
     "text": [
      "214\n"
     ]
    },
    {
     "name": "stderr",
     "output_type": "stream",
     "text": [
      "Processing:  86%|█████████████████▏  | 215/250 [4:36:28<43:20, 74.29s/iteration]"
     ]
    },
    {
     "name": "stdout",
     "output_type": "stream",
     "text": [
      "215\n"
     ]
    },
    {
     "name": "stderr",
     "output_type": "stream",
     "text": [
      "Processing:  86%|█████████████████▎  | 216/250 [4:38:10<46:51, 82.71s/iteration]"
     ]
    },
    {
     "name": "stdout",
     "output_type": "stream",
     "text": [
      "216\n"
     ]
    },
    {
     "name": "stderr",
     "output_type": "stream",
     "text": [
      "Processing:  87%|█████████████████▎  | 217/250 [4:38:56<39:27, 71.73s/iteration]"
     ]
    },
    {
     "name": "stdout",
     "output_type": "stream",
     "text": [
      "217\n"
     ]
    },
    {
     "name": "stderr",
     "output_type": "stream",
     "text": [
      "Processing:  87%|█████████████████▍  | 218/250 [4:40:38<43:04, 80.76s/iteration]"
     ]
    },
    {
     "name": "stdout",
     "output_type": "stream",
     "text": [
      "218\n"
     ]
    },
    {
     "name": "stderr",
     "output_type": "stream",
     "text": [
      "Processing:  88%|█████████████████▌  | 219/250 [4:42:33<47:01, 91.03s/iteration]"
     ]
    },
    {
     "name": "stdout",
     "output_type": "stream",
     "text": [
      "219\n"
     ]
    },
    {
     "name": "stderr",
     "output_type": "stream",
     "text": [
      "Processing:  88%|█████████████████▌  | 220/250 [4:43:25<39:40, 79.34s/iteration]"
     ]
    },
    {
     "name": "stdout",
     "output_type": "stream",
     "text": [
      "220\n"
     ]
    },
    {
     "name": "stderr",
     "output_type": "stream",
     "text": [
      "Processing:  88%|█████████████████▋  | 221/250 [4:45:06<41:25, 85.70s/iteration]"
     ]
    },
    {
     "name": "stdout",
     "output_type": "stream",
     "text": [
      "221\n"
     ]
    },
    {
     "name": "stderr",
     "output_type": "stream",
     "text": [
      "Processing:  89%|█████████████████▊  | 222/250 [4:45:28<31:03, 66.55s/iteration]"
     ]
    },
    {
     "name": "stdout",
     "output_type": "stream",
     "text": [
      "222\n"
     ]
    },
    {
     "name": "stderr",
     "output_type": "stream",
     "text": [
      "Processing:  89%|█████████████████▊  | 223/250 [4:46:01<25:33, 56.78s/iteration]"
     ]
    },
    {
     "name": "stdout",
     "output_type": "stream",
     "text": [
      "223\n"
     ]
    },
    {
     "name": "stderr",
     "output_type": "stream",
     "text": [
      "Processing:  90%|█████████████████▉  | 224/250 [4:47:03<25:10, 58.10s/iteration]"
     ]
    },
    {
     "name": "stdout",
     "output_type": "stream",
     "text": [
      "224\n"
     ]
    },
    {
     "name": "stderr",
     "output_type": "stream",
     "text": [
      "Processing:  90%|██████████████████  | 225/250 [4:48:09<25:10, 60.44s/iteration]"
     ]
    },
    {
     "name": "stdout",
     "output_type": "stream",
     "text": [
      "225\n"
     ]
    },
    {
     "name": "stderr",
     "output_type": "stream",
     "text": [
      "Processing:  90%|██████████████████  | 226/250 [4:49:56<29:45, 74.41s/iteration]"
     ]
    },
    {
     "name": "stdout",
     "output_type": "stream",
     "text": [
      "226\n"
     ]
    },
    {
     "name": "stderr",
     "output_type": "stream",
     "text": [
      "Processing:  91%|██████████████████▏ | 227/250 [4:51:49<32:58, 86.02s/iteration]"
     ]
    },
    {
     "name": "stdout",
     "output_type": "stream",
     "text": [
      "227\n"
     ]
    },
    {
     "name": "stderr",
     "output_type": "stream",
     "text": [
      "Processing:  91%|██████████████████▏ | 228/250 [4:52:10<24:24, 66.56s/iteration]"
     ]
    },
    {
     "name": "stdout",
     "output_type": "stream",
     "text": [
      "228\n"
     ]
    },
    {
     "name": "stderr",
     "output_type": "stream",
     "text": [
      "Processing:  92%|██████████████████▎ | 229/250 [4:53:53<27:08, 77.54s/iteration]"
     ]
    },
    {
     "name": "stdout",
     "output_type": "stream",
     "text": [
      "229\n"
     ]
    },
    {
     "name": "stderr",
     "output_type": "stream",
     "text": [
      "Processing:  92%|██████████████████▍ | 230/250 [4:54:11<19:52, 59.63s/iteration]"
     ]
    },
    {
     "name": "stdout",
     "output_type": "stream",
     "text": [
      "230\n"
     ]
    },
    {
     "name": "stderr",
     "output_type": "stream",
     "text": [
      "Processing:  92%|██████████████████▍ | 231/250 [4:56:06<24:10, 76.32s/iteration]"
     ]
    },
    {
     "name": "stdout",
     "output_type": "stream",
     "text": [
      "231\n"
     ]
    },
    {
     "name": "stderr",
     "output_type": "stream",
     "text": [
      "Processing:  93%|██████████████████▌ | 232/250 [4:57:53<25:40, 85.56s/iteration]"
     ]
    },
    {
     "name": "stdout",
     "output_type": "stream",
     "text": [
      "232\n"
     ]
    },
    {
     "name": "stderr",
     "output_type": "stream",
     "text": [
      "Processing:  93%|██████████████████▋ | 233/250 [4:58:16<18:52, 66.64s/iteration]"
     ]
    },
    {
     "name": "stdout",
     "output_type": "stream",
     "text": [
      "233\n"
     ]
    },
    {
     "name": "stderr",
     "output_type": "stream",
     "text": [
      "Processing:  94%|██████████████████▋ | 234/250 [4:59:56<20:26, 76.67s/iteration]"
     ]
    },
    {
     "name": "stdout",
     "output_type": "stream",
     "text": [
      "234\n"
     ]
    },
    {
     "name": "stderr",
     "output_type": "stream",
     "text": [
      "Processing:  94%|██████████████████▊ | 235/250 [5:01:34<20:48, 83.25s/iteration]"
     ]
    },
    {
     "name": "stdout",
     "output_type": "stream",
     "text": [
      "235\n"
     ]
    },
    {
     "name": "stderr",
     "output_type": "stream",
     "text": [
      "Processing:  94%|██████████████████▉ | 236/250 [5:03:15<20:36, 88.31s/iteration]"
     ]
    },
    {
     "name": "stdout",
     "output_type": "stream",
     "text": [
      "236\n"
     ]
    },
    {
     "name": "stderr",
     "output_type": "stream",
     "text": [
      "Processing:  95%|██████████████████▉ | 237/250 [5:03:46<15:27, 71.37s/iteration]"
     ]
    },
    {
     "name": "stdout",
     "output_type": "stream",
     "text": [
      "237\n"
     ]
    },
    {
     "name": "stderr",
     "output_type": "stream",
     "text": [
      "Processing:  95%|███████████████████ | 238/250 [5:05:25<15:53, 79.44s/iteration]"
     ]
    },
    {
     "name": "stdout",
     "output_type": "stream",
     "text": [
      "238\n"
     ]
    },
    {
     "name": "stderr",
     "output_type": "stream",
     "text": [
      "Processing:  96%|███████████████████ | 239/250 [5:06:31<13:49, 75.42s/iteration]"
     ]
    },
    {
     "name": "stdout",
     "output_type": "stream",
     "text": [
      "239\n"
     ]
    },
    {
     "name": "stderr",
     "output_type": "stream",
     "text": [
      "Processing:  96%|███████████████████▏| 240/250 [5:06:48<09:40, 58.04s/iteration]"
     ]
    },
    {
     "name": "stdout",
     "output_type": "stream",
     "text": [
      "240\n"
     ]
    },
    {
     "name": "stderr",
     "output_type": "stream",
     "text": [
      "Processing:  96%|███████████████████▎| 241/250 [5:08:29<10:38, 70.91s/iteration]"
     ]
    },
    {
     "name": "stdout",
     "output_type": "stream",
     "text": [
      "241\n"
     ]
    },
    {
     "name": "stderr",
     "output_type": "stream",
     "text": [
      "Processing:  97%|███████████████████▎| 242/250 [5:09:24<08:48, 66.05s/iteration]"
     ]
    },
    {
     "name": "stdout",
     "output_type": "stream",
     "text": [
      "242\n"
     ]
    },
    {
     "name": "stderr",
     "output_type": "stream",
     "text": [
      "Processing:  97%|███████████████████▍| 243/250 [5:09:34<05:45, 49.37s/iteration]"
     ]
    },
    {
     "name": "stdout",
     "output_type": "stream",
     "text": [
      "243\n"
     ]
    },
    {
     "name": "stderr",
     "output_type": "stream",
     "text": [
      "Processing:  98%|███████████████████▌| 244/250 [5:09:51<03:58, 39.72s/iteration]"
     ]
    },
    {
     "name": "stdout",
     "output_type": "stream",
     "text": [
      "244\n"
     ]
    },
    {
     "name": "stderr",
     "output_type": "stream",
     "text": [
      "Processing:  98%|███████████████████▌| 245/250 [5:11:32<04:50, 58.06s/iteration]"
     ]
    },
    {
     "name": "stdout",
     "output_type": "stream",
     "text": [
      "245\n"
     ]
    },
    {
     "name": "stderr",
     "output_type": "stream",
     "text": [
      "Processing:  98%|███████████████████▋| 246/250 [5:13:13<04:43, 70.96s/iteration]"
     ]
    },
    {
     "name": "stdout",
     "output_type": "stream",
     "text": [
      "246\n"
     ]
    },
    {
     "name": "stderr",
     "output_type": "stream",
     "text": [
      "Processing:  99%|███████████████████▊| 247/250 [5:14:52<03:58, 79.36s/iteration]"
     ]
    },
    {
     "name": "stdout",
     "output_type": "stream",
     "text": [
      "247\n"
     ]
    },
    {
     "name": "stderr",
     "output_type": "stream",
     "text": [
      "Processing:  99%|███████████████████▊| 248/250 [5:16:42<02:56, 88.46s/iteration]"
     ]
    },
    {
     "name": "stdout",
     "output_type": "stream",
     "text": [
      "248\n"
     ]
    },
    {
     "name": "stderr",
     "output_type": "stream",
     "text": [
      "Processing: 100%|███████████████████▉| 249/250 [5:18:24<01:32, 92.49s/iteration]"
     ]
    },
    {
     "name": "stdout",
     "output_type": "stream",
     "text": [
      "249\n"
     ]
    },
    {
     "name": "stderr",
     "output_type": "stream",
     "text": [
      "Processing: 100%|████████████████████| 250/250 [5:20:05<00:00, 76.82s/iteration]"
     ]
    },
    {
     "name": "stdout",
     "output_type": "stream",
     "text": [
      "[{'true_params': {'transition_matrix': array([[0.95, 0.05],\n",
      "       [0.05, 0.95]]), 'sigmas': array([2.15283059, 0.78905727]), 'mu': array([-0.09189078,  0.04153723]), 'phi': array([-0.68480437,  0.60405415])}, 'estimated_params': array([ 0.01      ,  0.99      ,  0.01429858,  0.01842773, -0.42690436,\n",
      "       -0.42418417,  1.85465176,  1.85818495])}, {'true_params': {'transition_matrix': array([[0.95, 0.05],\n",
      "       [0.05, 0.95]]), 'sigmas': array([1.10720158, 1.64183489]), 'mu': array([-0.07315931,  0.01587229]), 'phi': array([0.25180578, 0.88710288])}, 'estimated_params': array([ 0.01      ,  0.99      , -0.01208122, -0.01311376,  0.78912042,\n",
      "        0.78948925,  1.49465588,  1.49832298])}, {'true_params': {'transition_matrix': array([[0.95, 0.05],\n",
      "       [0.05, 0.95]]), 'sigmas': array([0.23598325, 0.29345122]), 'mu': array([0.0738427 , 0.01123949]), 'phi': array([-0.5167091,  0.0417232])}, 'estimated_params': array([ 0.01      ,  0.99      ,  0.03230935,  0.03304895, -0.22234405,\n",
      "       -0.22282448,  0.27765998,  0.27832647])}, {'true_params': {'transition_matrix': array([[0.95, 0.05],\n",
      "       [0.05, 0.95]]), 'sigmas': array([0.39295328, 0.22875682]), 'mu': array([ 0.03360589, -0.07154478]), 'phi': array([-0.5438431 , -0.84518556])}, 'estimated_params': array([ 0.01      ,  0.99      , -0.00696536, -0.00592411, -0.67374831,\n",
      "       -0.6758543 ,  0.3349724 ,  0.33535069])}, {'true_params': {'transition_matrix': array([[0.95, 0.05],\n",
      "       [0.05, 0.95]]), 'sigmas': array([2.20945474, 2.85709915]), 'mu': array([ 0.08987967, -0.07797797]), 'phi': array([-0.86284974,  0.72986105])}, 'estimated_params': array([ 0.01      ,  0.99      , -0.15337372, -0.16837825, -0.11721653,\n",
      "       -0.11721773,  4.28949168,  4.29911184])}, {'true_params': {'transition_matrix': array([[0.95, 0.05],\n",
      "       [0.05, 0.95]]), 'sigmas': array([0.89397844, 0.36142009]), 'mu': array([-0.08551546,  0.07013041]), 'phi': array([-0.58634732,  0.73225673])}, 'estimated_params': array([ 0.01      ,  0.99      ,  0.11445998,  0.11298191, -0.22151798,\n",
      "       -0.22241642,  0.83933549,  0.84125695])}, {'true_params': {'transition_matrix': array([[0.95, 0.05],\n",
      "       [0.05, 0.95]]), 'sigmas': array([2.51797946, 1.42777168]), 'mu': array([ 0.09779507, -0.0881669 ]), 'phi': array([-0.04316341, -0.75918422])}, 'estimated_params': array([ 0.01      ,  0.99      ,  0.02580489,  0.01393126, -0.37877323,\n",
      "       -0.37395594,  2.14399462,  2.14153929])}, {'true_params': {'transition_matrix': array([[0.95, 0.05],\n",
      "       [0.05, 0.95]]), 'sigmas': array([0.65605099, 2.55137493]), 'mu': array([-0.08724541,  0.02655011]), 'phi': array([0.89697751, 0.27345478])}, 'estimated_params': array([ 0.01      ,  0.99      , -0.15356709, -0.15106937,  0.46909357,\n",
      "        0.47034183,  2.0284808 ,  2.03354151])}, {'true_params': {'transition_matrix': array([[0.95, 0.05],\n",
      "       [0.05, 0.95]]), 'sigmas': array([1.10229075, 2.35791492]), 'mu': array([ 0.06282483, -0.07584077]), 'phi': array([0.08255826, 0.76633366])}, 'estimated_params': array([ 1.00000000e-02,  9.90000000e-01,  1.93284602e-03, -1.52036318e-02,\n",
      "        6.88617908e-01,  6.85097349e-01,  1.95099959e+00,  1.94177710e+00])}, {'true_params': {'transition_matrix': array([[0.95, 0.05],\n",
      "       [0.05, 0.95]]), 'sigmas': array([0.83512187, 0.95738001]), 'mu': array([-0.01536161,  0.03510628]), 'phi': array([0.34032503, 0.71980194])}, 'estimated_params': array([0.01      , 0.99      , 0.0150664 , 0.01164437, 0.58954834,\n",
      "       0.59199693, 0.91750557, 0.91843533])}, {'true_params': {'transition_matrix': array([[0.95, 0.05],\n",
      "       [0.05, 0.95]]), 'sigmas': array([0.97146015, 2.7467576 ]), 'mu': array([ 0.07847926, -0.08817765]), 'phi': array([-0.70973457, -0.11411735])}, 'estimated_params': array([ 0.01      ,  0.99      , -0.04092893, -0.03856049, -0.25744186,\n",
      "       -0.2551207 ,  2.12729985,  2.13242789])}, {'true_params': {'transition_matrix': array([[0.95, 0.05],\n",
      "       [0.05, 0.95]]), 'sigmas': array([0.21544163, 2.25749118]), 'mu': array([-0.07625526,  0.0283386 ]), 'phi': array([ 0.21816201, -0.8692198 ])}, 'estimated_params': array([ 0.01      ,  0.99      , -0.08619902, -0.07920629, -0.8366467 ,\n",
      "       -0.83658793,  1.68191992,  1.68575701])}, {'true_params': {'transition_matrix': array([[0.95, 0.05],\n",
      "       [0.05, 0.95]]), 'sigmas': array([2.82267274, 0.82031958]), 'mu': array([-0.02960987,  0.08783342]), 'phi': array([-0.07706901,  0.26207376])}, 'estimated_params': array([ 0.01      ,  0.99      ,  0.08564364,  0.06058008, -0.0291145 ,\n",
      "       -0.03732548,  2.16124306,  2.13344439])}, {'true_params': {'transition_matrix': array([[0.95, 0.05],\n",
      "       [0.05, 0.95]]), 'sigmas': array([0.8366801, 2.7828923]), 'mu': array([-0.09518651,  0.09868148]), 'phi': array([0.84837656, 0.50052312])}, 'estimated_params': array([ 0.01      ,  0.99      , -0.05925876, -0.04300044,  0.603844  ,\n",
      "        0.59597581,  2.11264958,  2.10963894])}, {'true_params': {'transition_matrix': array([[0.95, 0.05],\n",
      "       [0.05, 0.95]]), 'sigmas': array([1.61372619, 1.59424407]), 'mu': array([ 0.07697561, -0.05401706]), 'phi': array([ 0.51135424, -0.67039788])}, 'estimated_params': array([ 0.01      ,  0.99      ,  0.06625068,  0.0654724 , -0.18754617,\n",
      "       -0.18872001,  1.98423595,  1.98896867])}, {'true_params': {'transition_matrix': array([[0.95, 0.05],\n",
      "       [0.05, 0.95]]), 'sigmas': array([0.51578683, 2.64133336]), 'mu': array([0.09376027, 0.02765203]), 'phi': array([ 0.88633802, -0.05435489])}, 'estimated_params': array([0.01      , 0.99      , 0.25432186, 0.23649742, 0.22923218,\n",
      "       0.23789664, 2.09574978, 2.08853   ])}, {'true_params': {'transition_matrix': array([[0.95, 0.05],\n",
      "       [0.05, 0.95]]), 'sigmas': array([1.67928811, 0.94346583]), 'mu': array([-0.00302293, -0.09078309]), 'phi': array([ 0.19407316, -0.58757292])}, 'estimated_params': array([ 0.01      ,  0.99      , -0.03295469, -0.03050492, -0.06818933,\n",
      "       -0.0681363 ,  1.45966038,  1.46316168])}, {'true_params': {'transition_matrix': array([[0.95, 0.05],\n",
      "       [0.05, 0.95]]), 'sigmas': array([0.58557049, 2.26000503]), 'mu': array([-0.03939762,  0.04892789]), 'phi': array([-0.97108377, -0.21675563])}, 'estimated_params': array([ 0.01      ,  0.99      , -0.02468746, -0.01186012, -0.65263566,\n",
      "       -0.6391308 ,  1.81605932,  1.81293136])}, {'true_params': {'transition_matrix': array([[0.95, 0.05],\n",
      "       [0.05, 0.95]]), 'sigmas': array([1.77056417, 2.42767126]), 'mu': array([ 0.05144688, -0.03121951]), 'phi': array([ 0.47585139, -0.47463361])}, 'estimated_params': array([ 0.01      ,  0.99      ,  0.03437134,  0.04674868, -0.13752598,\n",
      "       -0.14009223,  2.39923126,  2.39858668])}, {'true_params': {'transition_matrix': array([[0.95, 0.05],\n",
      "       [0.05, 0.95]]), 'sigmas': array([2.79400192, 1.85311684]), 'mu': array([0.06034075, 0.00157804]), 'phi': array([ 0.99646893, -0.33984184])}, 'estimated_params': array([0.01      , 0.99      , 0.06892594, 0.08866464, 0.92522323,\n",
      "       0.92514963, 3.28543591, 3.29093237])}, {'true_params': {'transition_matrix': array([[0.95, 0.05],\n",
      "       [0.05, 0.95]]), 'sigmas': array([1.58316101, 2.2358782 ]), 'mu': array([-0.08857461, -0.00974446]), 'phi': array([-0.96202678,  0.05034678])}, 'estimated_params': array([ 0.01      ,  0.99      , -0.06021134, -0.04989752, -0.74885998,\n",
      "       -0.75026471,  2.44231462,  2.44320692])}, {'true_params': {'transition_matrix': array([[0.95, 0.05],\n",
      "       [0.05, 0.95]]), 'sigmas': array([2.02262636, 1.29702527]), 'mu': array([-0.06688498,  0.02267582]), 'phi': array([ 0.74161142, -0.62205686])}, 'estimated_params': array([ 0.01      ,  0.99      , -0.01663467, -0.02874477,  0.39365048,\n",
      "        0.39591344,  2.20240393,  2.20139553])}, {'true_params': {'transition_matrix': array([[0.95, 0.05],\n",
      "       [0.05, 0.95]]), 'sigmas': array([2.98918306, 0.3468892 ]), 'mu': array([-0.09784025, -0.02730881]), 'phi': array([-0.1015589 ,  0.99380698])}, 'estimated_params': array([0.01      , 0.99      , 0.00927945, 0.0128077 , 0.45234257,\n",
      "       0.45221837, 2.665491  , 2.67183966])}, {'true_params': {'transition_matrix': array([[0.95, 0.05],\n",
      "       [0.05, 0.95]]), 'sigmas': array([0.70090978, 0.33049367]), 'mu': array([-0.02910819,  0.08937433]), 'phi': array([ 0.38377883, -0.06011333])}, 'estimated_params': array([0.01      , 0.99      , 0.02677558, 0.02101918, 0.29965639,\n",
      "       0.28559388, 0.56070874, 0.55522247])}, {'true_params': {'transition_matrix': array([[0.95, 0.05],\n",
      "       [0.05, 0.95]]), 'sigmas': array([0.91172956, 2.60736599]), 'mu': array([-0.07817566,  0.03185156]), 'phi': array([ 0.10677093, -0.2984667 ])}, 'estimated_params': array([ 0.01      ,  0.99      , -0.04063597, -0.03703847, -0.22480529,\n",
      "       -0.2261771 ,  1.88678195,  1.89094766])}, {'true_params': {'transition_matrix': array([[0.95, 0.05],\n",
      "       [0.05, 0.95]]), 'sigmas': array([0.93035662, 2.9123828 ]), 'mu': array([-0.08151294,  0.09602249]), 'phi': array([0.10851991, 0.96820032])}, 'estimated_params': array([0.01      , 0.99      , 0.04086799, 0.05418494, 0.94242459,\n",
      "       0.9423848 , 2.33196479, 2.3356645 ])}, {'true_params': {'transition_matrix': array([[0.95, 0.05],\n",
      "       [0.05, 0.95]]), 'sigmas': array([1.06394273, 1.1337108 ]), 'mu': array([ 0.01295878, -0.09384924]), 'phi': array([ 0.88005332, -0.33059355])}, 'estimated_params': array([ 0.01      ,  0.99      , -0.01995395, -0.02419839,  0.56082264,\n",
      "        0.55892594,  1.45554923,  1.45790473])}, {'true_params': {'transition_matrix': array([[0.95, 0.05],\n",
      "       [0.05, 0.95]]), 'sigmas': array([2.61650279, 1.45593761]), 'mu': array([ 0.01656259, -0.09374929]), 'phi': array([ 0.57873267, -0.37865409])}, 'estimated_params': array([0.01      , 0.99      , 0.03987773, 0.04424542, 0.35764921,\n",
      "       0.35785451, 2.36505559, 2.37042093])}, {'true_params': {'transition_matrix': array([[0.95, 0.05],\n",
      "       [0.05, 0.95]]), 'sigmas': array([0.25509499, 1.42776395]), 'mu': array([ 0.08725169, -0.00074579]), 'phi': array([-0.43824336,  0.14914607])}, 'estimated_params': array([0.01      , 0.99      , 0.03239705, 0.03496802, 0.11143305,\n",
      "       0.1099641 , 1.08257425, 1.08468018])}, {'true_params': {'transition_matrix': array([[0.95, 0.05],\n",
      "       [0.05, 0.95]]), 'sigmas': array([1.51942047, 1.13941885]), 'mu': array([-0.00305981, -0.05595228]), 'phi': array([0.02941508, 0.93822201])}, 'estimated_params': array([ 0.01      ,  0.99      , -0.11499547, -0.11996362,  0.6862695 ,\n",
      "        0.68595046,  1.63505843,  1.6374826 ])}, {'true_params': {'transition_matrix': array([[0.95, 0.05],\n",
      "       [0.05, 0.95]]), 'sigmas': array([2.59141343, 0.82151084]), 'mu': array([0.08549686, 0.02987224]), 'phi': array([-0.70516204,  0.08777295])}, 'estimated_params': array([ 0.01      ,  0.99      ,  0.07030843,  0.06545151, -0.62245542,\n",
      "       -0.62167926,  1.94818942,  1.95266746])}, {'true_params': {'transition_matrix': array([[0.95, 0.05],\n",
      "       [0.05, 0.95]]), 'sigmas': array([1.2416095, 0.4024013]), 'mu': array([-0.08761265, -0.02009209]), 'phi': array([0.97888113, 0.66488585])}, 'estimated_params': array([ 0.01      ,  0.99      , -0.03295964, -0.03626857,  0.95166616,\n",
      "        0.9517594 ,  0.98361812,  0.9848831 ])}, {'true_params': {'transition_matrix': array([[0.95, 0.05],\n",
      "       [0.05, 0.95]]), 'sigmas': array([2.18899447, 0.95625103]), 'mu': array([ 0.09943605, -0.00179752]), 'phi': array([-0.76700188, -0.25341485])}, 'estimated_params': array([ 0.01      ,  0.99      ,  0.03223046,  0.03185225, -0.7089692 ,\n",
      "       -0.70989086,  1.75980552,  1.76383135])}, {'true_params': {'transition_matrix': array([[0.95, 0.05],\n",
      "       [0.05, 0.95]]), 'sigmas': array([0.5607907 , 0.30952117]), 'mu': array([-0.08855086,  0.07364371]), 'phi': array([-0.1987259, -0.9527318])}, 'estimated_params': array([ 0.01      ,  0.99      , -0.02616945, -0.02513739, -0.73032988,\n",
      "       -0.72881571,  0.53001731,  0.53109858])}, {'true_params': {'transition_matrix': array([[0.95, 0.05],\n",
      "       [0.05, 0.95]]), 'sigmas': array([2.01485488, 2.6072236 ]), 'mu': array([ 0.03070012, -0.06282742]), 'phi': array([-0.6181324 ,  0.24091675])}, 'estimated_params': array([ 0.01      ,  0.99      , -0.02906562, -0.04197474, -0.15040181,\n",
      "       -0.15676468,  2.60951734,  2.60976966])}, {'true_params': {'transition_matrix': array([[0.95, 0.05],\n",
      "       [0.05, 0.95]]), 'sigmas': array([0.76300195, 1.4567552 ]), 'mu': array([0.00719802, 0.07861919]), 'phi': array([-0.11657909,  0.23806518])}, 'estimated_params': array([0.01      , 0.99      , 0.02018741, 0.02292406, 0.16740019,\n",
      "       0.16658259, 1.19752759, 1.19972382])}, {'true_params': {'transition_matrix': array([[0.95, 0.05],\n",
      "       [0.05, 0.95]]), 'sigmas': array([0.18917927, 1.74771326]), 'mu': array([ 0.00829917, -0.06555064]), 'phi': array([-0.11145867,  0.8105745 ])}, 'estimated_params': array([ 0.01      ,  0.99      , -0.04531001, -0.0433737 ,  0.75689974,\n",
      "        0.75494907,  1.32434136,  1.32749792])}, {'true_params': {'transition_matrix': array([[0.95, 0.05],\n",
      "       [0.05, 0.95]]), 'sigmas': array([2.32783998, 1.67182396]), 'mu': array([ 0.07331227, -0.02725436]), 'phi': array([ 0.62650294, -0.80328077])}, 'estimated_params': array([ 0.01      ,  0.99      ,  0.09029835,  0.11129085, -0.0063076 ,\n",
      "        0.00539519,  2.90037516,  2.88722983])}, {'true_params': {'transition_matrix': array([[0.95, 0.05],\n",
      "       [0.05, 0.95]]), 'sigmas': array([1.05068958, 0.95917602]), 'mu': array([0.09840048, 0.01705626]), 'phi': array([-0.61161717, -0.18653528])}, 'estimated_params': array([ 0.01      ,  0.99      ,  0.0591316 ,  0.06857029, -0.45096581,\n",
      "       -0.45243534,  1.05298091,  1.04703285])}, {'true_params': {'transition_matrix': array([[0.95, 0.05],\n",
      "       [0.05, 0.95]]), 'sigmas': array([1.06348725, 2.62963687]), 'mu': array([ 0.09956706, -0.06728548]), 'phi': array([ 0.98729153, -0.27816927])}, 'estimated_params': array([0.01      , 0.99      , 0.25703596, 0.25443084, 0.62459471,\n",
      "       0.624444  , 2.98621825, 2.99334976])}, {'true_params': {'transition_matrix': array([[0.95, 0.05],\n",
      "       [0.05, 0.95]]), 'sigmas': array([0.8195322 , 0.46041162]), 'mu': array([0.09076695, 0.0094695 ]), 'phi': array([ 0.94381391, -0.3841141 ])}, 'estimated_params': array([0.01      , 0.99      , 0.08433202, 0.08177653, 0.85230504,\n",
      "       0.85406382, 0.89753101, 0.89934929])}, {'true_params': {'transition_matrix': array([[0.95, 0.05],\n",
      "       [0.05, 0.95]]), 'sigmas': array([1.24159468, 0.79227323]), 'mu': array([0.08530635, 0.02546864]), 'phi': array([-0.7852974 ,  0.27101783])}, 'estimated_params': array([ 0.01      ,  0.99      ,  0.08672484,  0.08849318, -0.58905786,\n",
      "       -0.58830519,  1.22734618,  1.23001381])}, {'true_params': {'transition_matrix': array([[0.95, 0.05],\n",
      "       [0.05, 0.95]]), 'sigmas': array([0.6621149 , 1.24283385]), 'mu': array([ 0.03724799, -0.03157576]), 'phi': array([-0.61954845,  0.12875657])}, 'estimated_params': array([ 0.01      ,  0.99      , -0.01943332, -0.02355136, -0.16060315,\n",
      "       -0.16249919,  1.04337432,  1.0442683 ])}, {'true_params': {'transition_matrix': array([[0.95, 0.05],\n",
      "       [0.05, 0.95]]), 'sigmas': array([0.3943325 , 2.85089971]), 'mu': array([-0.06958959,  0.02111454]), 'phi': array([ 0.73308944, -0.50705576])}, 'estimated_params': array([ 0.01      ,  0.99      , -0.19844253, -0.16973207, -0.34160966,\n",
      "       -0.3408532 ,  2.24791409,  2.23036077])}, {'true_params': {'transition_matrix': array([[0.95, 0.05],\n",
      "       [0.05, 0.95]]), 'sigmas': array([2.64425655, 2.38718015]), 'mu': array([-0.01567757,  0.07574778]), 'phi': array([-0.96817654, -0.42280432])}, 'estimated_params': array([ 0.01      ,  0.99      ,  0.0083328 ,  0.00677778, -0.88266394,\n",
      "       -0.88282611,  2.7306643 ,  2.73729224])}, {'true_params': {'transition_matrix': array([[0.95, 0.05],\n",
      "       [0.05, 0.95]]), 'sigmas': array([0.84844051, 1.12066274]), 'mu': array([-0.00785929, -0.09115832]), 'phi': array([-0.50649741,  0.22489907])}, 'estimated_params': array([ 0.01      ,  0.99      , -0.06286689, -0.06658045, -0.09645479,\n",
      "       -0.09996029,  1.07799809,  1.07950023])}, {'true_params': {'transition_matrix': array([[0.95, 0.05],\n",
      "       [0.05, 0.95]]), 'sigmas': array([1.79585715, 1.51074095]), 'mu': array([-0.03689972,  0.07859346]), 'phi': array([ 0.60799676, -0.43888253])}, 'estimated_params': array([0.01      , 0.99      , 0.00600007, 0.02059885, 0.19409778,\n",
      "       0.19768433, 1.94094265, 1.93483763])}, {'true_params': {'transition_matrix': array([[0.95, 0.05],\n",
      "       [0.05, 0.95]]), 'sigmas': array([0.91195411, 0.60657151]), 'mu': array([ 0.06420469, -0.05783174]), 'phi': array([ 0.11191677, -0.54617565])}, 'estimated_params': array([ 0.01      ,  0.99      ,  0.02116641,  0.01885282, -0.19208285,\n",
      "       -0.18870594,  0.81111176,  0.81213426])}, {'true_params': {'transition_matrix': array([[0.95, 0.05],\n",
      "       [0.05, 0.95]]), 'sigmas': array([0.92530473, 0.66388485]), 'mu': array([-0.09403238,  0.0237276 ]), 'phi': array([-0.90904028,  0.78478799])}, 'estimated_params': array([ 0.01      ,  0.99      ,  0.01499809,  0.02349493, -0.41697397,\n",
      "       -0.40947586,  1.45786031,  1.45682456])}, {'true_params': {'transition_matrix': array([[0.95, 0.05],\n",
      "       [0.05, 0.95]]), 'sigmas': array([0.31238679, 0.36180145]), 'mu': array([-0.04907163,  0.09651308]), 'phi': array([ 0.88567689, -0.26440232])}, 'estimated_params': array([ 0.01      ,  0.99      , -0.03949171, -0.03943582,  0.60759747,\n",
      "        0.60764231,  0.44824008,  0.44935011])}, {'true_params': {'transition_matrix': array([[0.95, 0.05],\n",
      "       [0.05, 0.95]]), 'sigmas': array([0.98081359, 1.46644353]), 'mu': array([-0.09727578,  0.0162474 ]), 'phi': array([ 0.37821443, -0.63193018])}, 'estimated_params': array([ 0.01      ,  0.99      , -0.07848179, -0.08448997, -0.34816174,\n",
      "       -0.34551229,  1.41847036,  1.41936226])}, {'true_params': {'transition_matrix': array([[0.95, 0.05],\n",
      "       [0.05, 0.95]]), 'sigmas': array([0.68059684, 0.32804829]), 'mu': array([ 0.0160498 , -0.08458418]), 'phi': array([0.01888936, 0.71944784])}, 'estimated_params': array([ 0.01      ,  0.99      , -0.08932046, -0.08819413,  0.3097906 ,\n",
      "        0.30960679,  0.58836581,  0.58963974])}, {'true_params': {'transition_matrix': array([[0.95, 0.05],\n",
      "       [0.05, 0.95]]), 'sigmas': array([1.99971917, 2.37722096]), 'mu': array([ 0.07625745, -0.06901592]), 'phi': array([-0.74066613,  0.5402423 ])}, 'estimated_params': array([ 0.01      ,  0.99      , -0.08012021, -0.05276319, -0.10033116,\n",
      "       -0.1086237 ,  2.90347543,  2.88624151])}, {'true_params': {'transition_matrix': array([[0.95, 0.05],\n",
      "       [0.05, 0.95]]), 'sigmas': array([0.98844226, 2.80051062]), 'mu': array([0.03650515, 0.09556919]), 'phi': array([ 0.42678327, -0.28612523])}, 'estimated_params': array([ 0.01      ,  0.99      ,  0.12756163,  0.12197947, -0.13589618,\n",
      "       -0.13763335,  2.16310313,  2.16555445])}, {'true_params': {'transition_matrix': array([[0.95, 0.05],\n",
      "       [0.05, 0.95]]), 'sigmas': array([0.33826154, 1.955768  ]), 'mu': array([ 0.04045337, -0.02169048]), 'phi': array([ 0.98720464, -0.40782071])}, 'estimated_params': array([0.01      , 0.99      , 0.37099587, 0.36415378, 0.24176526,\n",
      "       0.24420878, 2.05541717, 2.05902721])}, {'true_params': {'transition_matrix': array([[0.95, 0.05],\n",
      "       [0.05, 0.95]]), 'sigmas': array([2.04527547, 1.76029968]), 'mu': array([ 0.06128711, -0.01328397]), 'phi': array([-0.04484498, -0.84144226])}, 'estimated_params': array([ 0.01      ,  0.99      ,  0.03461823,  0.02816224, -0.56073102,\n",
      "       -0.55701203,  2.1499792 ,  2.15386134])}, {'true_params': {'transition_matrix': array([[0.95, 0.05],\n",
      "       [0.05, 0.95]]), 'sigmas': array([0.20444374, 1.37838982]), 'mu': array([ 0.02260162, -0.08704703]), 'phi': array([-0.3713261 ,  0.30297275])}, 'estimated_params': array([ 0.01      ,  0.99      , -0.04329817, -0.04384917,  0.2328747 ,\n",
      "        0.23287967,  0.9948839 ,  0.99735515])}, {'true_params': {'transition_matrix': array([[0.95, 0.05],\n",
      "       [0.05, 0.95]]), 'sigmas': array([2.97109241, 2.6534373 ]), 'mu': array([-0.08572088,  0.04579678]), 'phi': array([ 0.77081646, -0.09996295])}, 'estimated_params': array([0.01      , 0.99      , 0.02593538, 0.01856936, 0.52885735,\n",
      "       0.53353354, 3.16414749, 3.16530994])}, {'true_params': {'transition_matrix': array([[0.95, 0.05],\n",
      "       [0.05, 0.95]]), 'sigmas': array([0.91555232, 1.97916542]), 'mu': array([-0.01008928, -0.07814517]), 'phi': array([-0.53205502,  0.37490519])}, 'estimated_params': array([ 0.01      ,  0.99      , -0.03636654, -0.03173084,  0.1380972 ,\n",
      "        0.14243551,  1.64862135,  1.65187549])}, {'true_params': {'transition_matrix': array([[0.95, 0.05],\n",
      "       [0.05, 0.95]]), 'sigmas': array([1.84203456, 1.57937884]), 'mu': array([ 0.09178365, -0.09845605]), 'phi': array([ 0.3835154 , -0.12005557])}, 'estimated_params': array([0.01      , 0.99      , 0.04479064, 0.04196933, 0.18873146,\n",
      "       0.18883296, 1.77787766, 1.78174078])}, {'true_params': {'transition_matrix': array([[0.95, 0.05],\n",
      "       [0.05, 0.95]]), 'sigmas': array([1.71667189, 0.10364748]), 'mu': array([-0.05760168,  0.0355282 ]), 'phi': array([ 0.29240856, -0.55093972])}, 'estimated_params': array([ 0.01      ,  0.99      , -0.01439925, -0.0153399 ,  0.23457881,\n",
      "        0.23470575,  1.27522769,  1.27839292])}, {'true_params': {'transition_matrix': array([[0.95, 0.05],\n",
      "       [0.05, 0.95]]), 'sigmas': array([0.71565356, 1.93700873]), 'mu': array([ 0.09107677, -0.0954239 ]), 'phi': array([ 0.97222163, -0.98188686])}, 'estimated_params': array([ 0.01      ,  0.99      ,  0.67860356,  0.70902311, -0.33887363,\n",
      "       -0.3442641 ,  6.36336444,  6.3574497 ])}, {'true_params': {'transition_matrix': array([[0.95, 0.05],\n",
      "       [0.05, 0.95]]), 'sigmas': array([2.26565806, 1.05538521]), 'mu': array([ 0.02196508, -0.04098043]), 'phi': array([ 0.78584798, -0.2154926 ])}, 'estimated_params': array([ 0.01      ,  0.99      , -0.00607039, -0.0020604 ,  0.65837401,\n",
      "        0.65764411,  1.98740917,  1.99146351])}, {'true_params': {'transition_matrix': array([[0.95, 0.05],\n",
      "       [0.05, 0.95]]), 'sigmas': array([1.86544657, 1.65576222]), 'mu': array([ 0.09339047, -0.0142905 ]), 'phi': array([ 0.95374114, -0.47198518])}, 'estimated_params': array([0.01      , 0.99      , 0.12240822, 0.12623255, 0.72160327,\n",
      "       0.7218639 , 2.71100541, 2.7171748 ])}, {'true_params': {'transition_matrix': array([[0.95, 0.05],\n",
      "       [0.05, 0.95]]), 'sigmas': array([1.67155886, 0.36045547]), 'mu': array([-0.0460391 ,  0.06688575]), 'phi': array([ 0.43182269, -0.09644048])}, 'estimated_params': array([ 0.01      ,  0.99      , -0.00468672, -0.00723323,  0.37388481,\n",
      "        0.38032469,  1.25070719,  1.25299118])}, {'true_params': {'transition_matrix': array([[0.95, 0.05],\n",
      "       [0.05, 0.95]]), 'sigmas': array([2.94769529, 1.78290862]), 'mu': array([-0.0269309 , -0.08668023]), 'phi': array([0.90469251, 0.17509699])}, 'estimated_params': array([1.00000000e-02, 9.90000000e-01, 5.45128031e-03, 2.17518323e-03,\n",
      "       8.18608873e-01, 8.18032697e-01, 2.66640319e+00, 2.67280832e+00])}, {'true_params': {'transition_matrix': array([[0.95, 0.05],\n",
      "       [0.05, 0.95]]), 'sigmas': array([1.77308801, 2.58788799]), 'mu': array([-0.02626905,  0.03313268]), 'phi': array([-0.43888956,  0.6026012 ])}, 'estimated_params': array([0.01      , 0.99      , 0.03316036, 0.03520398, 0.28862389,\n",
      "       0.28852963, 2.55122565, 2.55745592])}, {'true_params': {'transition_matrix': array([[0.95, 0.05],\n",
      "       [0.05, 0.95]]), 'sigmas': array([2.1411441 , 0.37154907]), 'mu': array([-0.06004585,  0.02416349]), 'phi': array([ 0.48609645, -0.73372317])}, 'estimated_params': array([ 0.01      ,  0.99      , -0.04788781, -0.04443544,  0.361604  ,\n",
      "        0.36282833,  1.73073117,  1.73345014])}, {'true_params': {'transition_matrix': array([[0.95, 0.05],\n",
      "       [0.05, 0.95]]), 'sigmas': array([0.84578453, 0.72456325]), 'mu': array([0.00786088, 0.07186206]), 'phi': array([-0.73426858,  0.55607203])}, 'estimated_params': array([ 0.01      ,  0.99      ,  0.11484112,  0.1126647 , -0.30328324,\n",
      "       -0.3032344 ,  1.03685393,  1.03891175])}, {'true_params': {'transition_matrix': array([[0.95, 0.05],\n",
      "       [0.05, 0.95]]), 'sigmas': array([0.9436561 , 0.63231841]), 'mu': array([-0.05976759,  0.01027209]), 'phi': array([-0.58460617,  0.22731889])}, 'estimated_params': array([ 0.01      ,  0.99      , -0.01935247, -0.01669827, -0.37657818,\n",
      "       -0.37470108,  0.88423712,  0.88555929])}, {'true_params': {'transition_matrix': array([[0.95, 0.05],\n",
      "       [0.05, 0.95]]), 'sigmas': array([1.61915592, 0.85599604]), 'mu': array([ 0.05430343, -0.03331041]), 'phi': array([0.13924965, 0.51268143])}, 'estimated_params': array([ 1.00000000e-02,  9.90000000e-01, -1.80983445e-03, -4.32129765e-04,\n",
      "        2.66216815e-01,  2.65869158e-01,  1.29506391e+00,  1.29812484e+00])}, {'true_params': {'transition_matrix': array([[0.95, 0.05],\n",
      "       [0.05, 0.95]]), 'sigmas': array([0.3197149 , 2.12320587]), 'mu': array([ 0.07932182, -0.06951244]), 'phi': array([-0.26174895,  0.10913263])}, 'estimated_params': array([ 0.01      ,  0.99      , -0.00333196, -0.00564774,  0.07525969,\n",
      "        0.07583697,  1.47237339,  1.47581726])}, {'true_params': {'transition_matrix': array([[0.95, 0.05],\n",
      "       [0.05, 0.95]]), 'sigmas': array([1.69641374, 2.17425571]), 'mu': array([-0.05421341,  0.05348575]), 'phi': array([-0.10520153, -0.648977  ])}, 'estimated_params': array([ 0.01      ,  0.99      ,  0.02064139,  0.02318346, -0.49315596,\n",
      "       -0.49352666,  2.03617381,  2.04108903])}, {'true_params': {'transition_matrix': array([[0.95, 0.05],\n",
      "       [0.05, 0.95]]), 'sigmas': array([1.30728984, 1.89504766]), 'mu': array([-0.03847916,  0.0520671 ]), 'phi': array([ 0.02127016, -0.61525612])}, 'estimated_params': array([ 0.01      ,  0.99      , -0.02347157, -0.02600376, -0.43100323,\n",
      "       -0.42972803,  1.68438954,  1.6878846 ])}, {'true_params': {'transition_matrix': array([[0.95, 0.05],\n",
      "       [0.05, 0.95]]), 'sigmas': array([0.87415093, 1.69281966]), 'mu': array([ 0.01808936, -0.04288823]), 'phi': array([ 0.94660578, -0.80259748])}, 'estimated_params': array([ 0.01      ,  0.99      ,  0.2001931 ,  0.22725377, -0.05530073,\n",
      "       -0.06594381,  2.74595655,  2.73534901])}, {'true_params': {'transition_matrix': array([[0.95, 0.05],\n",
      "       [0.05, 0.95]]), 'sigmas': array([2.03850023, 0.41860195]), 'mu': array([ 0.04312829, -0.08900215]), 'phi': array([-0.57962655,  0.23374223])}, 'estimated_params': array([ 0.01      ,  0.99      , -0.04786717, -0.04677596, -0.52529222,\n",
      "       -0.52632831,  1.52762182,  1.53142369])}, {'true_params': {'transition_matrix': array([[0.95, 0.05],\n",
      "       [0.05, 0.95]]), 'sigmas': array([2.21092973, 1.26178422]), 'mu': array([-0.09291395,  0.09780352]), 'phi': array([-0.33750083,  0.17090375])}, 'estimated_params': array([ 0.01      ,  0.99      , -0.01563647, -0.01141799, -0.17781681,\n",
      "       -0.17671145,  1.79859705,  1.80063071])}, {'true_params': {'transition_matrix': array([[0.95, 0.05],\n",
      "       [0.05, 0.95]]), 'sigmas': array([2.22418192, 1.3439686 ]), 'mu': array([ 0.02330268, -0.09089309]), 'phi': array([0.90783741, 0.43155039])}, 'estimated_params': array([ 0.01      ,  0.99      , -0.00968071, -0.00674897,  0.8416757 ,\n",
      "        0.84132954,  1.90012633,  1.90435329])}, {'true_params': {'transition_matrix': array([[0.95, 0.05],\n",
      "       [0.05, 0.95]]), 'sigmas': array([0.91070326, 2.3497279 ]), 'mu': array([ 0.03452775, -0.01633455]), 'phi': array([0.43892567, 0.08762717])}, 'estimated_params': array([ 0.01      ,  0.99      , -0.0094337 , -0.01322258,  0.15590404,\n",
      "        0.15575372,  1.80821058,  1.81226487])}, {'true_params': {'transition_matrix': array([[0.95, 0.05],\n",
      "       [0.05, 0.95]]), 'sigmas': array([2.27901536, 2.40176177]), 'mu': array([ 0.06239994, -0.01454742]), 'phi': array([-0.43207584, -0.88904288])}, 'estimated_params': array([ 0.01      ,  0.99      ,  0.05606708,  0.04263031, -0.76918321,\n",
      "       -0.77895714,  2.46777131,  2.46734635])}, {'true_params': {'transition_matrix': array([[0.95, 0.05],\n",
      "       [0.05, 0.95]]), 'sigmas': array([2.8201907 , 0.84866252]), 'mu': array([-0.04284165,  0.09209515]), 'phi': array([0.69461981, 0.10843312])}, 'estimated_params': array([0.01      , 0.99      , 0.04939069, 0.04271999, 0.64913434,\n",
      "       0.64949785, 2.13203756, 2.1352106 ])}, {'true_params': {'transition_matrix': array([[0.95, 0.05],\n",
      "       [0.05, 0.95]]), 'sigmas': array([0.9297708 , 2.82446184]), 'mu': array([ 0.08843334, -0.04536535]), 'phi': array([ 0.42304666, -0.55567203])}, 'estimated_params': array([ 1.00000000e-02,  9.90000000e-01,  1.52349920e-03,  4.27053987e-03,\n",
      "       -4.07271573e-01, -4.08479976e-01,  2.29478805e+00,  2.29999649e+00])}, {'true_params': {'transition_matrix': array([[0.95, 0.05],\n",
      "       [0.05, 0.95]]), 'sigmas': array([2.73232031, 0.81372729]), 'mu': array([ 0.05100758, -0.069319  ]), 'phi': array([-0.85428098,  0.70814459])}, 'estimated_params': array([ 0.01      ,  0.99      , -0.18242966, -0.17479993, -0.62813486,\n",
      "       -0.62837388,  2.75189361,  2.7584948 ])}, {'true_params': {'transition_matrix': array([[0.95, 0.05],\n",
      "       [0.05, 0.95]]), 'sigmas': array([1.62163719, 0.86842364]), 'mu': array([-0.00753183,  0.09817461]), 'phi': array([ 0.73162601, -0.32904146])}, 'estimated_params': array([ 0.01      ,  0.99      ,  0.00581453, -0.00331261,  0.54423284,\n",
      "        0.53603213,  1.46969918,  1.46734749])}, {'true_params': {'transition_matrix': array([[0.95, 0.05],\n",
      "       [0.05, 0.95]]), 'sigmas': array([2.92969391, 2.55687551]), 'mu': array([-0.09396267,  0.05357149]), 'phi': array([0.53312842, 0.14907875])}, 'estimated_params': array([ 0.01      ,  0.99      , -0.05883303, -0.05406866,  0.39124765,\n",
      "        0.39269786,  2.79504494,  2.80053669])}, {'true_params': {'transition_matrix': array([[0.95, 0.05],\n",
      "       [0.05, 0.95]]), 'sigmas': array([2.33276505, 1.69181221]), 'mu': array([ 0.03452114, -0.06669878]), 'phi': array([ 0.94743805, -0.21333591])}, 'estimated_params': array([ 0.01      ,  0.99      , -0.01584756, -0.01259117,  0.83379258,\n",
      "        0.83329376,  2.59454401,  2.60070451])}, {'true_params': {'transition_matrix': array([[0.95, 0.05],\n",
      "       [0.05, 0.95]]), 'sigmas': array([1.0295204 , 1.27042838]), 'mu': array([ 0.06402245, -0.05533653]), 'phi': array([-0.69071352,  0.88568991])}, 'estimated_params': array([ 0.01      ,  0.99      , -0.10279243, -0.08473132,  0.46166504,\n",
      "        0.46508571,  1.92720753,  1.91491901])}, {'true_params': {'transition_matrix': array([[0.95, 0.05],\n",
      "       [0.05, 0.95]]), 'sigmas': array([0.35951985, 2.87252574]), 'mu': array([0.00537382, 0.07730558]), 'phi': array([-0.77479036,  0.20906209])}, 'estimated_params': array([0.01      , 0.99      , 0.03491152, 0.03205235, 0.06715317,\n",
      "       0.06687323, 2.15712377, 2.16251903])}, {'true_params': {'transition_matrix': array([[0.95, 0.05],\n",
      "       [0.05, 0.95]]), 'sigmas': array([0.68464731, 1.59606866]), 'mu': array([-0.07124685,  0.05947458]), 'phi': array([-0.98953224, -0.56076622])}, 'estimated_params': array([ 0.01      ,  0.99      , -0.01237471,  0.006105  , -0.85457564,\n",
      "       -0.86722187,  1.34125591,  1.3181522 ])}, {'true_params': {'transition_matrix': array([[0.95, 0.05],\n",
      "       [0.05, 0.95]]), 'sigmas': array([1.38965118, 1.17359225]), 'mu': array([ 0.05315055, -0.09863885]), 'phi': array([-0.78067037,  0.73760206])}, 'estimated_params': array([ 0.01      ,  0.99      , -0.13703616, -0.14810693, -0.15066829,\n",
      "       -0.13289191,  2.03676546,  2.03154696])}, {'true_params': {'transition_matrix': array([[0.95, 0.05],\n",
      "       [0.05, 0.95]]), 'sigmas': array([1.96804234, 1.23762565]), 'mu': array([-0.04582253,  0.08788154]), 'phi': array([-0.05030341,  0.57423385])}, 'estimated_params': array([0.01      , 0.99      , 0.0582249 , 0.07120331, 0.1829937 ,\n",
      "       0.17494159, 1.75787905, 1.75269547])}, {'true_params': {'transition_matrix': array([[0.95, 0.05],\n",
      "       [0.05, 0.95]]), 'sigmas': array([0.31881088, 1.52300739]), 'mu': array([-0.01736571,  0.07454128]), 'phi': array([ 0.73901784, -0.79750393])}, 'estimated_params': array([ 0.01      ,  0.99      ,  0.01795114,  0.01548227, -0.62986256,\n",
      "       -0.62951406,  1.38534986,  1.38850809])}, {'true_params': {'transition_matrix': array([[0.95, 0.05],\n",
      "       [0.05, 0.95]]), 'sigmas': array([0.30892317, 2.04276715]), 'mu': array([ 0.07330453, -0.00520431]), 'phi': array([-0.15465105, -0.70926012])}, 'estimated_params': array([ 0.01      ,  0.99      ,  0.0466957 ,  0.04493655, -0.68548053,\n",
      "       -0.68557488,  1.48227861,  1.48605732])}, {'true_params': {'transition_matrix': array([[0.95, 0.05],\n",
      "       [0.05, 0.95]]), 'sigmas': array([0.56939472, 1.30047349]), 'mu': array([ 0.09494691, -0.02879976]), 'phi': array([ 0.0036127 , -0.76893007])}, 'estimated_params': array([ 0.01      ,  0.99      ,  0.05901981,  0.05415483, -0.67578748,\n",
      "       -0.67276937,  1.08387013,  1.08458552])}, {'true_params': {'transition_matrix': array([[0.95, 0.05],\n",
      "       [0.05, 0.95]]), 'sigmas': array([1.53220358, 0.11564949]), 'mu': array([ 0.08497445, -0.04691952]), 'phi': array([ 0.17603878, -0.51073376])}, 'estimated_params': array([0.01      , 0.99      , 0.03033244, 0.03002746, 0.15256024,\n",
      "       0.15257896, 1.12296388, 1.12580699])}, {'true_params': {'transition_matrix': array([[0.95, 0.05],\n",
      "       [0.05, 0.95]]), 'sigmas': array([0.86032442, 0.87708721]), 'mu': array([ 0.07655423, -0.04732103]), 'phi': array([-0.50915392,  0.02752634])}, 'estimated_params': array([ 1.00000000e-02,  9.90000000e-01,  2.04549288e-03, -6.84117374e-04,\n",
      "       -2.52115484e-01, -2.52998223e-01,  9.09825257e-01,  9.12216719e-01])}, {'true_params': {'transition_matrix': array([[0.95, 0.05],\n",
      "       [0.05, 0.95]]), 'sigmas': array([1.55700867, 0.56184863]), 'mu': array([ 0.0652113 , -0.01428181]), 'phi': array([-0.96127588,  0.44619689])}, 'estimated_params': array([ 0.01      ,  0.99      ,  0.03918139,  0.04407774, -0.88983852,\n",
      "       -0.89303146,  1.49396181,  1.49605678])}, {'true_params': {'transition_matrix': array([[0.95, 0.05],\n",
      "       [0.05, 0.95]]), 'sigmas': array([1.24333647, 1.51397283]), 'mu': array([ 0.05497697, -0.05620191]), 'phi': array([-0.37921985,  0.45273349])}, 'estimated_params': array([0.01      , 0.99      , 0.00822545, 0.00681131, 0.11393818,\n",
      "       0.1127271 , 1.52585727, 1.52945784])}, {'true_params': {'transition_matrix': array([[0.95, 0.05],\n",
      "       [0.05, 0.95]]), 'sigmas': array([2.4252742 , 0.83871969]), 'mu': array([ 0.04408827, -0.01426569]), 'phi': array([-0.76978956, -0.4206253 ])}, 'estimated_params': array([ 0.01      ,  0.99      , -0.00943923,  0.00961298, -0.71419258,\n",
      "       -0.71895598,  1.82468743,  1.8049785 ])}, {'true_params': {'transition_matrix': array([[0.95, 0.05],\n",
      "       [0.05, 0.95]]), 'sigmas': array([0.16827831, 1.98354611]), 'mu': array([-0.01800441,  0.08058053]), 'phi': array([-0.85712175,  0.63196755])}, 'estimated_params': array([0.01      , 0.99      , 0.06742955, 0.04674887, 0.40512757,\n",
      "       0.39009807, 1.69163183, 1.6670686 ])}, {'true_params': {'transition_matrix': array([[0.95, 0.05],\n",
      "       [0.05, 0.95]]), 'sigmas': array([1.56903398, 0.13926641]), 'mu': array([ 0.09510759, -0.03955461]), 'phi': array([-0.92334815,  0.19087775])}, 'estimated_params': array([ 0.01      ,  0.99      , -0.01685759, -0.01623222, -0.88012226,\n",
      "       -0.87995558,  1.18534659,  1.18879606])}, {'true_params': {'transition_matrix': array([[0.95, 0.05],\n",
      "       [0.05, 0.95]]), 'sigmas': array([2.66907569, 1.97595977]), 'mu': array([-0.06598424,  0.00799275]), 'phi': array([-0.06728058, -0.47907817])}, 'estimated_params': array([ 0.01      ,  0.99      , -0.0293359 , -0.03496789, -0.23744595,\n",
      "       -0.24104449,  2.43341188,  2.43725083])}, {'true_params': {'transition_matrix': array([[0.95, 0.05],\n",
      "       [0.05, 0.95]]), 'sigmas': array([2.43767664, 2.8327122 ]), 'mu': array([-0.02480569,  0.07138874]), 'phi': array([-0.00236929, -0.95099979])}, 'estimated_params': array([ 0.01      ,  0.99      ,  0.06059176,  0.06635951, -0.81308225,\n",
      "       -0.81304995,  3.17952842,  3.18753776])}, {'true_params': {'transition_matrix': array([[0.95, 0.05],\n",
      "       [0.05, 0.95]]), 'sigmas': array([2.58578585, 1.31199517]), 'mu': array([ 0.05058   , -0.02909176]), 'phi': array([0.38648345, 0.08419664])}, 'estimated_params': array([0.01      , 0.99      , 0.00804483, 0.01326816, 0.3473946 ,\n",
      "       0.34934885, 2.08031712, 2.08498525])}, {'true_params': {'transition_matrix': array([[0.95, 0.05],\n",
      "       [0.05, 0.95]]), 'sigmas': array([2.6895711 , 2.48296177]), 'mu': array([-0.05807465,  0.09940065]), 'phi': array([-0.10181652,  0.48015615])}, 'estimated_params': array([0.01      , 0.99      , 0.05296285, 0.05216317, 0.1644363 ,\n",
      "       0.16742575, 2.6857547 , 2.69075331])}, {'true_params': {'transition_matrix': array([[0.95, 0.05],\n",
      "       [0.05, 0.95]]), 'sigmas': array([1.24127466, 1.03824395]), 'mu': array([-0.07617871,  0.03462567]), 'phi': array([ 0.66809467, -0.38170546])}, 'estimated_params': array([ 0.01      ,  0.99      , -0.06266188, -0.06858764,  0.32513527,\n",
      "        0.32618264,  1.33959169,  1.34030173])}, {'true_params': {'transition_matrix': array([[0.95, 0.05],\n",
      "       [0.05, 0.95]]), 'sigmas': array([2.05975772, 1.12423968]), 'mu': array([ 0.02434292, -0.02680281]), 'phi': array([-0.10453722, -0.68964834])}, 'estimated_params': array([ 0.01      ,  0.99      ,  0.02062464,  0.01216218, -0.32971516,\n",
      "       -0.3229038 ,  1.73468438,  1.73486069])}, {'true_params': {'transition_matrix': array([[0.95, 0.05],\n",
      "       [0.05, 0.95]]), 'sigmas': array([2.12627259, 2.93175588]), 'mu': array([-0.07727933,  0.06617909]), 'phi': array([-0.73680747, -0.36477668])}, 'estimated_params': array([ 1.00000000e-02,  9.90000000e-01,  2.10945366e-03,  1.22102150e-02,\n",
      "       -5.63218993e-01, -5.65405315e-01,  2.62198880e+00,  2.62545574e+00])}, {'true_params': {'transition_matrix': array([[0.95, 0.05],\n",
      "       [0.05, 0.95]]), 'sigmas': array([2.11615268, 0.14112098]), 'mu': array([ 0.08392618, -0.01501808]), 'phi': array([0.7299939 , 0.14491794])}, 'estimated_params': array([0.01      , 0.99      , 0.03238562, 0.03478217, 0.69027833,\n",
      "       0.69063916, 1.54476896, 1.5485366 ])}, {'true_params': {'transition_matrix': array([[0.95, 0.05],\n",
      "       [0.05, 0.95]]), 'sigmas': array([0.92602129, 0.55417238]), 'mu': array([ 0.0554877 , -0.00668082]), 'phi': array([-0.76248604,  0.45936222])}, 'estimated_params': array([ 0.01      ,  0.99      ,  0.04833016,  0.0432372 , -0.50755415,\n",
      "       -0.50247362,  0.92213518,  0.92144171])}, {'true_params': {'transition_matrix': array([[0.95, 0.05],\n",
      "       [0.05, 0.95]]), 'sigmas': array([2.60616935, 1.4575532 ]), 'mu': array([ 0.03498718, -0.0540893 ]), 'phi': array([0.35237911, 0.84837232])}, 'estimated_params': array([ 0.01      ,  0.99      , -0.05688695, -0.08248857,  0.57708115,\n",
      "        0.58687591,  2.24418704,  2.21925896])}, {'true_params': {'transition_matrix': array([[0.95, 0.05],\n",
      "       [0.05, 0.95]]), 'sigmas': array([1.52385149, 0.85562469]), 'mu': array([-0.06281664,  0.03538611]), 'phi': array([ 0.59324213, -0.93583828])}, 'estimated_params': array([ 0.01      ,  0.99      , -0.08175193, -0.0806403 , -0.35188222,\n",
      "       -0.35223467,  2.04386811,  2.04862783])}, {'true_params': {'transition_matrix': array([[0.95, 0.05],\n",
      "       [0.05, 0.95]]), 'sigmas': array([0.16640413, 2.26264045]), 'mu': array([-0.06335904,  0.00919413]), 'phi': array([-0.94867441, -0.3076921 ])}, 'estimated_params': array([ 0.01      ,  0.99      , -0.01601572, -0.01652992, -0.47472432,\n",
      "       -0.473895  ,  1.72291315,  1.72684197])}, {'true_params': {'transition_matrix': array([[0.95, 0.05],\n",
      "       [0.05, 0.95]]), 'sigmas': array([0.87141251, 2.76509431]), 'mu': array([-0.08332215,  0.02899552]), 'phi': array([ 0.25837557, -0.51406941])}, 'estimated_params': array([ 0.01      ,  0.99      , -0.07189768, -0.06902884, -0.40943681,\n",
      "       -0.40889874,  2.1812615 ,  2.18647549])}, {'true_params': {'transition_matrix': array([[0.95, 0.05],\n",
      "       [0.05, 0.95]]), 'sigmas': array([2.97129866, 1.40306038]), 'mu': array([-0.04938392,  0.00826629]), 'phi': array([-0.38102242, -0.00320958])}, 'estimated_params': array([ 0.01      ,  0.99      ,  0.03352492,  0.03558234, -0.32352675,\n",
      "       -0.32265096,  2.32390971,  2.32961065])}, {'true_params': {'transition_matrix': array([[0.95, 0.05],\n",
      "       [0.05, 0.95]]), 'sigmas': array([1.09485731, 2.10924895]), 'mu': array([0.03171996, 0.09085242]), 'phi': array([ 0.46300772, -0.95425435])}, 'estimated_params': array([ 0.01      ,  0.99      ,  0.11834785,  0.11681667, -0.87648316,\n",
      "       -0.87601001,  2.29199515,  2.2985617 ])}, {'true_params': {'transition_matrix': array([[0.95, 0.05],\n",
      "       [0.05, 0.95]]), 'sigmas': array([0.46664338, 2.84217123]), 'mu': array([ 0.06391818, -0.0716581 ]), 'phi': array([-0.96563068,  0.72712751])}, 'estimated_params': array([ 0.01      ,  0.99      , -0.08104677, -0.06758614,  0.0619239 ,\n",
      "        0.05988458,  3.58915238,  3.59123618])}, {'true_params': {'transition_matrix': array([[0.95, 0.05],\n",
      "       [0.05, 0.95]]), 'sigmas': array([0.27812213, 2.7412252 ]), 'mu': array([-0.01875866,  0.09905118]), 'phi': array([-0.71517245,  0.59312224])}, 'estimated_params': array([0.01      , 0.99      , 0.0668081 , 0.0699911 , 0.47666543,\n",
      "       0.47663782, 2.15817893, 2.16360891])}, {'true_params': {'transition_matrix': array([[0.95, 0.05],\n",
      "       [0.05, 0.95]]), 'sigmas': array([0.46828443, 0.60170291]), 'mu': array([0.02052429, 0.09755825]), 'phi': array([-0.6733277 ,  0.14781077])}, 'estimated_params': array([ 0.01      ,  0.99      ,  0.06712747,  0.07044032, -0.30001033,\n",
      "       -0.29672274,  0.59642184,  0.59733025])}, {'true_params': {'transition_matrix': array([[0.95, 0.05],\n",
      "       [0.05, 0.95]]), 'sigmas': array([2.64607369, 2.75209479]), 'mu': array([ 0.01711063, -0.03415293]), 'phi': array([-0.96505797,  0.50480303])}, 'estimated_params': array([ 0.68214284,  0.99      , -0.04498231, -0.04575394, -0.6786333 ,\n",
      "       -0.67951089,  1.00000552,  4.25429877])}, {'true_params': {'transition_matrix': array([[0.95, 0.05],\n",
      "       [0.05, 0.95]]), 'sigmas': array([1.30631626, 2.81336595]), 'mu': array([-0.03996528,  0.05338309]), 'phi': array([-0.8633241 , -0.08153866])}, 'estimated_params': array([ 0.01      ,  0.99      ,  0.05974067,  0.06950146, -0.43329106,\n",
      "       -0.43054045,  2.45185782,  2.45441311])}, {'true_params': {'transition_matrix': array([[0.95, 0.05],\n",
      "       [0.05, 0.95]]), 'sigmas': array([2.60116855, 2.8918872 ]), 'mu': array([ 0.0922099 , -0.07220612]), 'phi': array([-0.66061069,  0.44156965])}, 'estimated_params': array([ 0.01      ,  0.99      , -0.04575782, -0.04407857, -0.12207193,\n",
      "       -0.12252284,  3.34540374,  3.35305935])}, {'true_params': {'transition_matrix': array([[0.95, 0.05],\n",
      "       [0.05, 0.95]]), 'sigmas': array([2.04421644, 0.88197809]), 'mu': array([-0.00559891,  0.0864924 ]), 'phi': array([ 0.92659021, -0.61087949])}, 'estimated_params': array([ 0.01      ,  0.99      , -0.01432271, -0.00464812,  0.76332806,\n",
      "        0.76496327,  2.16533338,  2.16837655])}, {'true_params': {'transition_matrix': array([[0.95, 0.05],\n",
      "       [0.05, 0.95]]), 'sigmas': array([2.70838733, 1.66850055]), 'mu': array([-0.09100299,  0.02986274]), 'phi': array([ 0.13001432, -0.70053822])}, 'estimated_params': array([ 0.01      ,  0.99      ,  0.03359224,  0.01638337, -0.21632741,\n",
      "       -0.21911953,  2.53523129,  2.53016219])}, {'true_params': {'transition_matrix': array([[0.95, 0.05],\n",
      "       [0.05, 0.95]]), 'sigmas': array([0.87077318, 2.37107592]), 'mu': array([ 0.00668809, -0.08009679]), 'phi': array([-0.59711083, -0.15861271])}, 'estimated_params': array([ 0.01      ,  0.99      , -0.03460359, -0.03183999, -0.25612536,\n",
      "       -0.25741575,  1.80533948,  1.80952815])}, {'true_params': {'transition_matrix': array([[0.95, 0.05],\n",
      "       [0.05, 0.95]]), 'sigmas': array([1.37441689, 2.72535578]), 'mu': array([-0.03889759,  0.06577714]), 'phi': array([ 0.70763884, -0.91017874])}, 'estimated_params': array([ 0.01      ,  0.99      , -0.04902566, -0.06061663, -0.66841172,\n",
      "       -0.67114006,  3.44117469,  3.43346675])}, {'true_params': {'transition_matrix': array([[0.95, 0.05],\n",
      "       [0.05, 0.95]]), 'sigmas': array([1.19985362, 1.28231069]), 'mu': array([-0.05856399,  0.09240003]), 'phi': array([ 0.72716321, -0.29041737])}, 'estimated_params': array([ 0.01      ,  0.99      , -0.0309758 , -0.03456255,  0.35162203,\n",
      "        0.34984397,  1.46350827,  1.46625021])}, {'true_params': {'transition_matrix': array([[0.95, 0.05],\n",
      "       [0.05, 0.95]]), 'sigmas': array([1.48464115, 0.8813531 ]), 'mu': array([ 0.05289063, -0.06250981]), 'phi': array([ 0.73333672, -0.56310995])}, 'estimated_params': array([1.00000000e-02, 9.90000000e-01, 1.06064687e-03, 1.33231256e-02,\n",
      "       4.57752285e-01, 4.54139674e-01, 1.57335523e+00, 1.56826885e+00])}, {'true_params': {'transition_matrix': array([[0.95, 0.05],\n",
      "       [0.05, 0.95]]), 'sigmas': array([0.41724858, 0.44197974]), 'mu': array([0.08174793, 0.01171356]), 'phi': array([-0.12589719, -0.90951546])}, 'estimated_params': array([ 0.01      ,  0.99      ,  0.06804752,  0.0696084 , -0.73456811,\n",
      "       -0.73733232,  0.48228455,  0.4832515 ])}, {'true_params': {'transition_matrix': array([[0.95, 0.05],\n",
      "       [0.05, 0.95]]), 'sigmas': array([2.8642127 , 1.69845958]), 'mu': array([ 0.06418422, -0.06210679]), 'phi': array([-0.78331216,  0.13859999])}, 'estimated_params': array([ 0.01      ,  0.99      , -0.00714586,  0.0028123 , -0.61011671,\n",
      "       -0.61102733,  2.58239726,  2.58830102])}, {'true_params': {'transition_matrix': array([[0.95, 0.05],\n",
      "       [0.05, 0.95]]), 'sigmas': array([0.65091402, 2.55537896]), 'mu': array([ 0.02466793, -0.08396751]), 'phi': array([-0.79412715,  0.35301459])}, 'estimated_params': array([ 0.01      ,  0.99      , -0.04563951, -0.04747019,  0.07735399,\n",
      "        0.07833214,  2.11003151,  2.11527401])}, {'true_params': {'transition_matrix': array([[0.95, 0.05],\n",
      "       [0.05, 0.95]]), 'sigmas': array([2.55358073, 0.3599694 ]), 'mu': array([-0.05487365,  0.08335124]), 'phi': array([ 0.4148653 , -0.13770985])}, 'estimated_params': array([0.01      , 0.99      , 0.06411938, 0.04332335, 0.36074397,\n",
      "       0.35518167, 1.83550019, 1.81365074])}, {'true_params': {'transition_matrix': array([[0.95, 0.05],\n",
      "       [0.05, 0.95]]), 'sigmas': array([0.75083521, 0.1723163 ]), 'mu': array([-0.03180294,  0.08824126]), 'phi': array([-0.75751278,  0.83991813])}, 'estimated_params': array([ 0.01      ,  0.99      ,  0.28673764,  0.28890626, -0.32322348,\n",
      "       -0.3226442 ,  0.82899836,  0.83001608])}, {'true_params': {'transition_matrix': array([[0.95, 0.05],\n",
      "       [0.05, 0.95]]), 'sigmas': array([0.60985943, 1.17898411]), 'mu': array([-0.05695235,  0.08310961]), 'phi': array([-0.05386683,  0.30758326])}, 'estimated_params': array([0.01      , 0.99      , 0.01604659, 0.0211838 , 0.22716315,\n",
      "       0.23339143, 0.93498176, 0.93437248])}, {'true_params': {'transition_matrix': array([[0.95, 0.05],\n",
      "       [0.05, 0.95]]), 'sigmas': array([1.01645482, 1.9209111 ]), 'mu': array([-0.03714161,  0.09839952]), 'phi': array([-0.81511181, -0.00370244])}, 'estimated_params': array([ 0.01      ,  0.99      ,  0.07060969,  0.06407414, -0.37539926,\n",
      "       -0.3776635 ,  1.7130111 ,  1.71480449])}, {'true_params': {'transition_matrix': array([[0.95, 0.05],\n",
      "       [0.05, 0.95]]), 'sigmas': array([1.45571126, 1.45057257]), 'mu': array([ 0.05302563, -0.07387089]), 'phi': array([0.01958742, 0.95056105])}, 'estimated_params': array([ 0.01      ,  0.99      , -0.0963742 , -0.07719567,  0.83663139,\n",
      "        0.83837551,  1.74384457,  1.73390775])}, {'true_params': {'transition_matrix': array([[0.95, 0.05],\n",
      "       [0.05, 0.95]]), 'sigmas': array([2.8368184, 2.6987908]), 'mu': array([-0.01771521, -0.08620603]), 'phi': array([ 0.57591986, -0.7654316 ])}, 'estimated_params': array([ 0.01      ,  0.99      , -0.12479325, -0.08004004, -0.2288492 ,\n",
      "       -0.24377146,  3.72764902,  3.6842009 ])}, {'true_params': {'transition_matrix': array([[0.95, 0.05],\n",
      "       [0.05, 0.95]]), 'sigmas': array([1.70119394, 0.39536944]), 'mu': array([-0.02651699, -0.0960199 ]), 'phi': array([ 0.90724009, -0.87090258])}, 'estimated_params': array([ 0.01      ,  0.99      , -0.05447055, -0.06672804,  0.63543691,\n",
      "        0.63535825,  2.24383209,  2.24888723])}, {'true_params': {'transition_matrix': array([[0.95, 0.05],\n",
      "       [0.05, 0.95]]), 'sigmas': array([1.61701593, 1.29447531]), 'mu': array([-0.03322197,  0.09592899]), 'phi': array([-0.06146714, -0.4036171 ])}, 'estimated_params': array([ 1.00000000e-02,  9.90000000e-01,  9.66710854e-03,  2.37625322e-04,\n",
      "       -2.27834523e-01, -2.25309520e-01,  1.48106140e+00,  1.47918158e+00])}, {'true_params': {'transition_matrix': array([[0.95, 0.05],\n",
      "       [0.05, 0.95]]), 'sigmas': array([1.79147046, 2.05358465]), 'mu': array([-0.00734321, -0.06325407]), 'phi': array([0.40952423, 0.88922818])}, 'estimated_params': array([ 0.01      ,  0.99      , -0.01384137, -0.01221282,  0.76808686,\n",
      "        0.76779031,  2.04820908,  2.05316964])}, {'true_params': {'transition_matrix': array([[0.95, 0.05],\n",
      "       [0.05, 0.95]]), 'sigmas': array([2.76390246, 0.26188641]), 'mu': array([-0.09483128,  0.04157345]), 'phi': array([0.35690655, 0.98577275])}, 'estimated_params': array([0.01      , 0.99      , 0.1220795 , 0.11195252, 0.64705926,\n",
      "       0.64767687, 2.18773224, 2.18461886])}, {'true_params': {'transition_matrix': array([[0.95, 0.05],\n",
      "       [0.05, 0.95]]), 'sigmas': array([1.31929877, 2.09589288]), 'mu': array([ 0.0910435 , -0.09677162]), 'phi': array([ 0.89132934, -0.61764514])}, 'estimated_params': array([0.01      , 0.99      , 0.18782758, 0.18034609, 0.17037772,\n",
      "       0.17062555, 2.80455275, 2.80872582])}, {'true_params': {'transition_matrix': array([[0.95, 0.05],\n",
      "       [0.05, 0.95]]), 'sigmas': array([1.70907007, 2.24905384]), 'mu': array([-0.08866125,  0.07700516]), 'phi': array([0.46407332, 0.84088289])}, 'estimated_params': array([0.01      , 0.99      , 0.04345706, 0.04872451, 0.76349584,\n",
      "       0.76401615, 2.03992691, 2.04359665])}, {'true_params': {'transition_matrix': array([[0.95, 0.05],\n",
      "       [0.05, 0.95]]), 'sigmas': array([0.51259044, 2.59629053]), 'mu': array([ 0.00713897, -0.09502941]), 'phi': array([ 0.31262675, -0.31578274])}, 'estimated_params': array([ 0.01      ,  0.99      , -0.03844591, -0.04048821, -0.27316055,\n",
      "       -0.27320425,  1.94806016,  1.95274341])}, {'true_params': {'transition_matrix': array([[0.95, 0.05],\n",
      "       [0.05, 0.95]]), 'sigmas': array([1.63136245, 0.5395731 ]), 'mu': array([-0.05955256,  0.07910948]), 'phi': array([ 0.58252555, -0.24593674])}, 'estimated_params': array([ 1.00000000e-02,  9.90000000e-01, -6.64780719e-04, -2.22232087e-03,\n",
      "        4.62934470e-01,  4.63527022e-01,  1.24484320e+00,  1.24759542e+00])}, {'true_params': {'transition_matrix': array([[0.95, 0.05],\n",
      "       [0.05, 0.95]]), 'sigmas': array([2.45986449, 2.19625657]), 'mu': array([0.09360533, 0.02372249]), 'phi': array([0.00666264, 0.76909821])}, 'estimated_params': array([0.01      , 0.99      , 0.05446707, 0.03535359, 0.52971998,\n",
      "       0.52499412, 2.56963353, 2.56237376])}, {'true_params': {'transition_matrix': array([[0.95, 0.05],\n",
      "       [0.05, 0.95]]), 'sigmas': array([0.8016048 , 0.80781166]), 'mu': array([ 0.01636834, -0.06615991]), 'phi': array([-0.28436371,  0.37691185])}, 'estimated_params': array([ 0.01      ,  0.99      , -0.03610725, -0.03446076,  0.04271533,\n",
      "        0.03886247,  0.85500156,  0.8564558 ])}, {'true_params': {'transition_matrix': array([[0.95, 0.05],\n",
      "       [0.05, 0.95]]), 'sigmas': array([1.72450232, 2.19238791]), 'mu': array([-0.03382286,  0.09129086]), 'phi': array([ 0.00795907, -0.50008186])}, 'estimated_params': array([ 0.01      ,  0.99      , -0.00964507, -0.00758273, -0.31668182,\n",
      "       -0.3160799 ,  2.02270438,  2.02738153])}, {'true_params': {'transition_matrix': array([[0.95, 0.05],\n",
      "       [0.05, 0.95]]), 'sigmas': array([0.15316148, 1.69602021]), 'mu': array([ 0.06203769, -0.02562652]), 'phi': array([0.68889758, 0.01236859])}, 'estimated_params': array([0.01      , 0.99      , 0.05883306, 0.05937324, 0.10628821,\n",
      "       0.1059096 , 1.23078179, 1.2338772 ])}, {'true_params': {'transition_matrix': array([[0.95, 0.05],\n",
      "       [0.05, 0.95]]), 'sigmas': array([2.92989307, 0.90830915]), 'mu': array([ 0.01179909, -0.05011662]), 'phi': array([0.21578596, 0.85623776])}, 'estimated_params': array([ 0.01      ,  0.99      , -0.04063989, -0.04498996,  0.42986248,\n",
      "        0.43046088,  2.25460468,  2.26015562])}, {'true_params': {'transition_matrix': array([[0.95, 0.05],\n",
      "       [0.05, 0.95]]), 'sigmas': array([2.50597399, 1.8789813 ]), 'mu': array([ 0.04139812, -0.05677866]), 'phi': array([-0.5739697 ,  0.73218555])}, 'estimated_params': array([ 0.01      ,  0.99      , -0.09131889, -0.10179635,  0.02592173,\n",
      "        0.02155569,  2.89658138,  2.90060477])}, {'true_params': {'transition_matrix': array([[0.95, 0.05],\n",
      "       [0.05, 0.95]]), 'sigmas': array([0.95157001, 0.98157052]), 'mu': array([-0.07890525,  0.05777642]), 'phi': array([ 0.94888517, -0.49222786])}, 'estimated_params': array([ 0.01      ,  0.99      , -0.08670199, -0.08675407,  0.67619527,\n",
      "        0.67604165,  1.49912421,  1.50301668])}, {'true_params': {'transition_matrix': array([[0.95, 0.05],\n",
      "       [0.05, 0.95]]), 'sigmas': array([0.279709  , 1.91725429]), 'mu': array([-0.08966708, -0.01372065]), 'phi': array([-0.87443382, -0.3104702 ])}, 'estimated_params': array([ 0.01      ,  0.99      , -0.0505716 , -0.05162841, -0.41089241,\n",
      "       -0.41119834,  1.4074118 ,  1.41082121])}, {'true_params': {'transition_matrix': array([[0.95, 0.05],\n",
      "       [0.05, 0.95]]), 'sigmas': array([2.40763225, 1.55523567]), 'mu': array([0.01709652, 0.06882211]), 'phi': array([0.98601768, 0.65888197])}, 'estimated_params': array([ 0.01      ,  0.99      , -0.01244173, -0.0059024 ,  0.9450879 ,\n",
      "        0.94578021,  2.12155246,  2.12399516])}, {'true_params': {'transition_matrix': array([[0.95, 0.05],\n",
      "       [0.05, 0.95]]), 'sigmas': array([1.86972959, 1.50951276]), 'mu': array([0.09158229, 0.01871122]), 'phi': array([-0.9434364 , -0.11849416])}, 'estimated_params': array([ 0.01      ,  0.99      ,  0.0553957 ,  0.06294188, -0.8385626 ,\n",
      "       -0.83933453,  1.96894331,  1.97129119])}, {'true_params': {'transition_matrix': array([[0.95, 0.05],\n",
      "       [0.05, 0.95]]), 'sigmas': array([2.51822326, 2.56090595]), 'mu': array([ 0.07883332, -0.06804041]), 'phi': array([-0.39298344, -0.93581366])}, 'estimated_params': array([ 0.01      ,  0.99      ,  0.03250831,  0.00772048, -0.84656571,\n",
      "       -0.84104504,  2.77214323,  2.75866207])}, {'true_params': {'transition_matrix': array([[0.95, 0.05],\n",
      "       [0.05, 0.95]]), 'sigmas': array([1.63484314, 0.73921399]), 'mu': array([0.02033965, 0.0754483 ]), 'phi': array([ 0.36117178, -0.49451626])}, 'estimated_params': array([0.01      , 0.99      , 0.01264373, 0.01448785, 0.15741772,\n",
      "       0.15731536, 1.34810385, 1.35105064])}, {'true_params': {'transition_matrix': array([[0.95, 0.05],\n",
      "       [0.05, 0.95]]), 'sigmas': array([1.3579679, 0.2774002]), 'mu': array([0.03006735, 0.09386597]), 'phi': array([ 0.00841057, -0.4245839 ])}, 'estimated_params': array([ 0.01      ,  0.99      ,  0.05092402,  0.05096663, -0.01516267,\n",
      "       -0.01509081,  0.95993713,  0.96238949])}, {'true_params': {'transition_matrix': array([[0.95, 0.05],\n",
      "       [0.05, 0.95]]), 'sigmas': array([2.14854368, 1.90397285]), 'mu': array([-0.02969278, -0.0887234 ]), 'phi': array([-0.81131265,  0.85815664])}, 'estimated_params': array([ 0.01      ,  0.99      , -0.27305915, -0.27263747,  0.0249021 ,\n",
      "        0.02480318,  3.69258464,  3.70224469])}, {'true_params': {'transition_matrix': array([[0.95, 0.05],\n",
      "       [0.05, 0.95]]), 'sigmas': array([0.90242887, 2.24842469]), 'mu': array([-0.079937  ,  0.03989117]), 'phi': array([-0.32374109,  0.27261489])}, 'estimated_params': array([ 1.00000000e-02,  9.90000000e-01, -1.89137318e-02, -7.69127935e-04,\n",
      "        1.73509475e-01,  1.70977671e-01,  1.73138674e+00,  1.72106773e+00])}, {'true_params': {'transition_matrix': array([[0.95, 0.05],\n",
      "       [0.05, 0.95]]), 'sigmas': array([2.26984245, 1.95204323]), 'mu': array([-0.03630644,  0.05915851]), 'phi': array([ 0.84058255, -0.33361762])}, 'estimated_params': array([ 1.00000000e-02,  9.90000000e-01,  2.53680263e-03, -2.81384842e-02,\n",
      "        5.41620575e-01,  5.47294759e-01,  2.65509135e+00,  2.63246285e+00])}, {'true_params': {'transition_matrix': array([[0.95, 0.05],\n",
      "       [0.05, 0.95]]), 'sigmas': array([2.03560573, 1.98500309]), 'mu': array([-0.03642656,  0.03395737]), 'phi': array([-0.94677466, -0.30260397])}, 'estimated_params': array([ 0.01      ,  0.99      ,  0.00639816,  0.01683944, -0.84550871,\n",
      "       -0.84576006,  2.26021256,  2.26019931])}, {'true_params': {'transition_matrix': array([[0.95, 0.05],\n",
      "       [0.05, 0.95]]), 'sigmas': array([1.5323438 , 1.92638773]), 'mu': array([0.00909646, 0.0742527 ]), 'phi': array([-0.33260783,  0.76650478])}, 'estimated_params': array([0.01      , 0.99      , 0.0659799 , 0.06407564, 0.43281938,\n",
      "       0.43148808, 2.05051112, 2.05524655])}, {'true_params': {'transition_matrix': array([[0.95, 0.05],\n",
      "       [0.05, 0.95]]), 'sigmas': array([0.38764732, 2.18815072]), 'mu': array([-0.09580228, -0.04136766]), 'phi': array([-0.66372188,  0.91964255])}, 'estimated_params': array([ 0.01      ,  0.99      , -0.04000958, -0.04578283,  0.8530054 ,\n",
      "        0.84932547,  2.02741585,  2.0337213 ])}, {'true_params': {'transition_matrix': array([[0.95, 0.05],\n",
      "       [0.05, 0.95]]), 'sigmas': array([0.40197822, 1.82940508]), 'mu': array([ 0.05735616, -0.08204187]), 'phi': array([0.24103351, 0.85759101])}, 'estimated_params': array([ 0.01      ,  0.99      , -0.02830345, -0.02289378,  0.81761416,\n",
      "        0.82053322,  1.37199106,  1.37381135])}, {'true_params': {'transition_matrix': array([[0.95, 0.05],\n",
      "       [0.05, 0.95]]), 'sigmas': array([1.95087709, 1.31597317]), 'mu': array([ 0.07808979, -0.01762544]), 'phi': array([-0.05367346, -0.36780646])}, 'estimated_params': array([ 0.01      ,  0.99      ,  0.02224729,  0.01720828, -0.17189036,\n",
      "       -0.17591343,  1.66412661,  1.66675152])}, {'true_params': {'transition_matrix': array([[0.95, 0.05],\n",
      "       [0.05, 0.95]]), 'sigmas': array([2.83922827, 2.66884516]), 'mu': array([-0.00454695,  0.04931439]), 'phi': array([ 0.06090843, -0.67011007])}, 'estimated_params': array([ 0.01      ,  0.99      , -0.03680724, -0.03346637, -0.35861739,\n",
      "       -0.35782431,  2.98378593,  2.99116892])}, {'true_params': {'transition_matrix': array([[0.95, 0.05],\n",
      "       [0.05, 0.95]]), 'sigmas': array([2.6313734 , 2.92295524]), 'mu': array([ 0.02059914, -0.06893529]), 'phi': array([ 0.89646613, -0.43305035])}, 'estimated_params': array([0.01      , 0.99      , 0.07148218, 0.0805379 , 0.51697816,\n",
      "       0.5177709 , 3.8788646 , 3.88732171])}, {'true_params': {'transition_matrix': array([[0.95, 0.05],\n",
      "       [0.05, 0.95]]), 'sigmas': array([0.60371516, 2.77217994]), 'mu': array([-0.07192124,  0.02974829]), 'phi': array([-0.78180351,  0.79307878])}, 'estimated_params': array([0.01      , 0.99      , 0.00406719, 0.01029876, 0.58244082,\n",
      "       0.58221687, 2.67855392, 2.68595958])}, {'true_params': {'transition_matrix': array([[0.95, 0.05],\n",
      "       [0.05, 0.95]]), 'sigmas': array([1.31987358, 2.66374918]), 'mu': array([ 0.0669873 , -0.02824428]), 'phi': array([0.19564598, 0.68742344])}, 'estimated_params': array([0.01      , 0.99      , 0.01537604, 0.00564061, 0.60735917,\n",
      "       0.60803306, 2.18262929, 2.1863063 ])}, {'true_params': {'transition_matrix': array([[0.95, 0.05],\n",
      "       [0.05, 0.95]]), 'sigmas': array([2.79076059, 1.53492593]), 'mu': array([-0.01323183, -0.09638283]), 'phi': array([ 0.24502213, -0.16142127])}, 'estimated_params': array([ 0.01      ,  0.99      , -0.01724161, -0.03507128,  0.14834209,\n",
      "        0.14948782,  2.33113971,  2.32414654])}, {'true_params': {'transition_matrix': array([[0.95, 0.05],\n",
      "       [0.05, 0.95]]), 'sigmas': array([2.14497954, 2.97836474]), 'mu': array([-0.02799862,  0.08473423]), 'phi': array([ 0.11980226, -0.43589056])}, 'estimated_params': array([ 0.01      ,  0.99      ,  0.01745039,  0.03163919, -0.28520214,\n",
      "       -0.28805722,  2.70145877,  2.70341594])}, {'true_params': {'transition_matrix': array([[0.95, 0.05],\n",
      "       [0.05, 0.95]]), 'sigmas': array([2.6694979 , 0.68864803]), 'mu': array([-0.06015403,  0.09275063]), 'phi': array([-0.17757227,  0.22785832])}, 'estimated_params': array([ 0.01      ,  0.99      ,  0.07670288,  0.07631358, -0.12147956,\n",
      "       -0.12329936,  1.86525693,  1.86990576])}, {'true_params': {'transition_matrix': array([[0.95, 0.05],\n",
      "       [0.05, 0.95]]), 'sigmas': array([0.20427004, 0.14873431]), 'mu': array([-0.03205339, -0.09667497]), 'phi': array([ 0.32535253, -0.98205309])}, 'estimated_params': array([ 0.01      ,  0.99      , -0.08939202, -0.08895384, -0.78114428,\n",
      "       -0.78204874,  0.26966765,  0.27026443])}, {'true_params': {'transition_matrix': array([[0.95, 0.05],\n",
      "       [0.05, 0.95]]), 'sigmas': array([1.44160684, 2.74452351]), 'mu': array([ 0.07281096, -0.0154783 ]), 'phi': array([-0.90692373,  0.8830815 ])}, 'estimated_params': array([ 0.01      ,  0.99      , -0.10904003, -0.103814  ,  0.1642073 ,\n",
      "        0.16425451,  4.68089597,  4.69233423])}, {'true_params': {'transition_matrix': array([[0.95, 0.05],\n",
      "       [0.05, 0.95]]), 'sigmas': array([1.90150016, 1.11610632]), 'mu': array([0.09294924, 0.03906643]), 'phi': array([-0.64502403, -0.94733381])}, 'estimated_params': array([ 0.01      ,  0.99      ,  0.03464108,  0.02743039, -0.82117346,\n",
      "       -0.82434051,  1.60589048,  1.60664158])}, {'true_params': {'transition_matrix': array([[0.95, 0.05],\n",
      "       [0.05, 0.95]]), 'sigmas': array([0.77017093, 1.59913458]), 'mu': array([ 0.07818521, -0.09054934]), 'phi': array([-0.31371772, -0.63846106])}, 'estimated_params': array([ 0.01      ,  0.99      ,  0.01221462,  0.00932092, -0.5581857 ,\n",
      "       -0.55765831,  1.24567566,  1.24788235])}, {'true_params': {'transition_matrix': array([[0.95, 0.05],\n",
      "       [0.05, 0.95]]), 'sigmas': array([2.68589222, 2.82757029]), 'mu': array([-0.08047584, -0.01217215]), 'phi': array([0.90467196, 0.56074281])}, 'estimated_params': array([ 0.01      ,  0.99      , -0.00932884,  0.00619407,  0.79910533,\n",
      "        0.79796253,  2.85548918,  2.85364313])}, {'true_params': {'transition_matrix': array([[0.95, 0.05],\n",
      "       [0.05, 0.95]]), 'sigmas': array([1.7394177 , 0.22441547]), 'mu': array([ 0.07386248, -0.02101583]), 'phi': array([-0.32373002,  0.97829825])}, 'estimated_params': array([ 0.01      ,  0.99      , -0.07899557, -0.09226928,  0.23274905,\n",
      "        0.23600005,  1.66344881,  1.65556138])}, {'true_params': {'transition_matrix': array([[0.95, 0.05],\n",
      "       [0.05, 0.95]]), 'sigmas': array([2.46778454, 2.22591403]), 'mu': array([ 0.01597304, -0.09446143]), 'phi': array([-0.77803067,  0.72162018])}, 'estimated_params': array([ 0.01      ,  0.99      , -0.05891531, -0.09073858, -0.13014471,\n",
      "       -0.14282447,  3.59931214,  3.59050083])}, {'true_params': {'transition_matrix': array([[0.95, 0.05],\n",
      "       [0.05, 0.95]]), 'sigmas': array([1.03727499, 2.93525031]), 'mu': array([-0.09779629, -0.0419577 ]), 'phi': array([-0.21642874,  0.74227896])}, 'estimated_params': array([ 0.01      ,  0.99      , -0.049408  , -0.05443065,  0.62679996,\n",
      "        0.62694258,  2.37297098,  2.37847439])}, {'true_params': {'transition_matrix': array([[0.95, 0.05],\n",
      "       [0.05, 0.95]]), 'sigmas': array([2.21753975, 0.28287388]), 'mu': array([ 0.04216483, -0.02380694]), 'phi': array([ 0.34206427, -0.1592551 ])}, 'estimated_params': array([0.01      , 0.99      , 0.0130501 , 0.01310882, 0.30210084,\n",
      "       0.30204409, 1.5592676 , 1.56323574])}, {'true_params': {'transition_matrix': array([[0.95, 0.05],\n",
      "       [0.05, 0.95]]), 'sigmas': array([1.36968482, 1.53263322]), 'mu': array([-0.0787314 ,  0.03323756]), 'phi': array([-0.91922511,  0.75794163])}, 'estimated_params': array([ 0.01      ,  0.99      ,  0.04970082,  0.05381996, -0.35007096,\n",
      "       -0.34809951,  2.75240725,  2.75640964])}, {'true_params': {'transition_matrix': array([[0.95, 0.05],\n",
      "       [0.05, 0.95]]), 'sigmas': array([1.18411061, 1.91066483]), 'mu': array([-0.00692852, -0.06437157]), 'phi': array([ 0.67190822, -0.85713401])}, 'estimated_params': array([ 0.01      ,  0.99      ,  0.01371112,  0.03666153, -0.4971161 ,\n",
      "       -0.50433126,  2.3739692 ,  2.36082977])}, {'true_params': {'transition_matrix': array([[0.95, 0.05],\n",
      "       [0.05, 0.95]]), 'sigmas': array([2.12597166, 2.13672534]), 'mu': array([-0.08528303,  0.06568593]), 'phi': array([ 0.83012963, -0.11761692])}, 'estimated_params': array([ 0.01      ,  0.99      , -0.08607175, -0.08924773,  0.57169877,\n",
      "        0.57372244,  2.51459341,  2.52003873])}, {'true_params': {'transition_matrix': array([[0.95, 0.05],\n",
      "       [0.05, 0.95]]), 'sigmas': array([1.57852229, 2.73967212]), 'mu': array([-0.02643898,  0.04509772]), 'phi': array([ 0.82558232, -0.21896297])}, 'estimated_params': array([ 0.01      ,  0.99      ,  0.00633709, -0.01583622,  0.32751053,\n",
      "        0.31788996,  2.64715492,  2.63834738])}, {'true_params': {'transition_matrix': array([[0.95, 0.05],\n",
      "       [0.05, 0.95]]), 'sigmas': array([0.45150554, 0.68010038]), 'mu': array([-0.09328461,  0.09317318]), 'phi': array([ 0.65381527, -0.42363694])}, 'estimated_params': array([ 0.01      ,  0.99      , -0.07418783, -0.07310585,  0.05666878,\n",
      "        0.05539854,  0.70469575,  0.70599939])}, {'true_params': {'transition_matrix': array([[0.95, 0.05],\n",
      "       [0.05, 0.95]]), 'sigmas': array([0.10405311, 2.3148026 ]), 'mu': array([-0.03900685,  0.03236467]), 'phi': array([ 0.89599037, -0.32352742])}, 'estimated_params': array([ 0.01      ,  0.99      , -0.11465466, -0.10508439, -0.11544363,\n",
      "       -0.11421339,  1.88453765,  1.88824797])}, {'true_params': {'transition_matrix': array([[0.95, 0.05],\n",
      "       [0.05, 0.95]]), 'sigmas': array([2.42825485, 2.05830379]), 'mu': array([ 0.0287369 , -0.07070082]), 'phi': array([0.4364471 , 0.94041737])}, 'estimated_params': array([ 0.01      ,  0.99      , -0.06772398, -0.07333835,  0.79793863,\n",
      "        0.79744665,  2.44187468,  2.44657638])}, {'true_params': {'transition_matrix': array([[0.95, 0.05],\n",
      "       [0.05, 0.95]]), 'sigmas': array([2.37018344, 0.37082912]), 'mu': array([-0.05806641,  0.06223999]), 'phi': array([0.66735302, 0.32185574])}, 'estimated_params': array([0.01      , 0.99      , 0.00659683, 0.00552923, 0.6476519 ,\n",
      "       0.64670363, 1.74066687, 1.74489365])}, {'true_params': {'transition_matrix': array([[0.95, 0.05],\n",
      "       [0.05, 0.95]]), 'sigmas': array([0.67403517, 2.86865924]), 'mu': array([-0.09092868,  0.06954066]), 'phi': array([-0.44818572, -0.87662554])}, 'estimated_params': array([ 0.01      ,  0.99      , -0.02081913, -0.01367903, -0.82853244,\n",
      "       -0.82811873,  2.1469728 ,  2.15243447])}, {'true_params': {'transition_matrix': array([[0.95, 0.05],\n",
      "       [0.05, 0.95]]), 'sigmas': array([0.77641062, 1.96448776]), 'mu': array([ 0.09529281, -0.04019858]), 'phi': array([ 0.06107067, -0.64560491])}, 'estimated_params': array([ 0.01      ,  0.99      ,  0.06174253,  0.05604113, -0.56391067,\n",
      "       -0.56421614,  1.60473746,  1.60658645])}, {'true_params': {'transition_matrix': array([[0.95, 0.05],\n",
      "       [0.05, 0.95]]), 'sigmas': array([1.78227077, 0.88549804]), 'mu': array([-0.07633007,  0.046596  ]), 'phi': array([-0.79580072,  0.75634354])}, 'estimated_params': array([ 0.01      ,  0.99      ,  0.11712042,  0.12979812, -0.37471313,\n",
      "       -0.37250603,  2.11200956,  2.10932885])}, {'true_params': {'transition_matrix': array([[0.95, 0.05],\n",
      "       [0.05, 0.95]]), 'sigmas': array([2.98221977, 2.04938628]), 'mu': array([ 0.0638133 , -0.06292602]), 'phi': array([-0.32755666,  0.09343426])}, 'estimated_params': array([ 0.01      ,  0.99      ,  0.00547051, -0.0036906 , -0.19853504,\n",
      "       -0.20073285,  2.57434272,  2.57785359])}, {'true_params': {'transition_matrix': array([[0.95, 0.05],\n",
      "       [0.05, 0.95]]), 'sigmas': array([0.32726266, 2.66745533]), 'mu': array([0.01786666, 0.09174319]), 'phi': array([0.03596436, 0.7341648 ])}, 'estimated_params': array([0.01      , 0.99      , 0.05615126, 0.05745176, 0.71752231,\n",
      "       0.71812996, 1.93605093, 1.94065419])}, {'true_params': {'transition_matrix': array([[0.95, 0.05],\n",
      "       [0.05, 0.95]]), 'sigmas': array([2.20975031, 2.85861494]), 'mu': array([0.01682666, 0.08613051]), 'phi': array([ 0.23965196, -0.95253521])}, 'estimated_params': array([ 0.01      ,  0.99      ,  0.07248075,  0.07898244, -0.8260773 ,\n",
      "       -0.82655596,  3.30357525,  3.31312112])}, {'true_params': {'transition_matrix': array([[0.95, 0.05],\n",
      "       [0.05, 0.95]]), 'sigmas': array([1.30031792, 1.69134949]), 'mu': array([-0.08626714,  0.04803204]), 'phi': array([ 0.7952592 , -0.16677861])}, 'estimated_params': array([ 0.01      ,  0.99      , -0.08288369, -0.08932373,  0.42007815,\n",
      "        0.41819145,  1.7473069 ,  1.74956611])}, {'true_params': {'transition_matrix': array([[0.95, 0.05],\n",
      "       [0.05, 0.95]]), 'sigmas': array([1.34011676, 1.26930255]), 'mu': array([ 0.02260171, -0.09062972]), 'phi': array([-0.29463528,  0.43331428])}, 'estimated_params': array([ 0.01      ,  0.99      , -0.04322239, -0.03957197,  0.07074563,\n",
      "        0.0685103 ,  1.39037507,  1.39301919])}, {'true_params': {'transition_matrix': array([[0.95, 0.05],\n",
      "       [0.05, 0.95]]), 'sigmas': array([0.26267876, 0.47760876]), 'mu': array([ 0.06404024, -0.06514826]), 'phi': array([ 0.56527376, -0.00138168])}, 'estimated_params': array([0.01      , 0.99      , 0.02643678, 0.02751705, 0.23656363,\n",
      "       0.23581109, 0.40614207, 0.4069805 ])}, {'true_params': {'transition_matrix': array([[0.95, 0.05],\n",
      "       [0.05, 0.95]]), 'sigmas': array([0.95032126, 2.46889228]), 'mu': array([-0.02665016,  0.0861325 ]), 'phi': array([ 0.37109209, -0.72308902])}, 'estimated_params': array([ 0.01      ,  0.99      , -0.02977724, -0.02334438, -0.56786249,\n",
      "       -0.5646754 ,  2.0874102 ,  2.09086564])}, {'true_params': {'transition_matrix': array([[0.95, 0.05],\n",
      "       [0.05, 0.95]]), 'sigmas': array([0.59376698, 0.88740183]), 'mu': array([ 0.07568313, -0.089506  ]), 'phi': array([-0.82617097,  0.16883284])}, 'estimated_params': array([ 0.01      ,  0.99      , -0.03107217, -0.03310751, -0.33238575,\n",
      "       -0.33390909,  0.89198713,  0.89426814])}, {'true_params': {'transition_matrix': array([[0.95, 0.05],\n",
      "       [0.05, 0.95]]), 'sigmas': array([1.65131468, 0.90337901]), 'mu': array([0.09861376, 0.04539045]), 'phi': array([0.69599801, 0.00891897])}, 'estimated_params': array([0.01      , 0.99      , 0.07798778, 0.0824717 , 0.56636848,\n",
      "       0.56334758, 1.40676746, 1.40889731])}, {'true_params': {'transition_matrix': array([[0.95, 0.05],\n",
      "       [0.05, 0.95]]), 'sigmas': array([1.15596837, 1.81403883]), 'mu': array([-0.01866323,  0.04292407]), 'phi': array([-0.16137064,  0.46648268])}, 'estimated_params': array([0.01      , 0.99      , 0.02848782, 0.01329325, 0.30865471,\n",
      "       0.30900641, 1.57754123, 1.56667234])}, {'true_params': {'transition_matrix': array([[0.95, 0.05],\n",
      "       [0.05, 0.95]]), 'sigmas': array([0.54557313, 2.65282345]), 'mu': array([ 0.00178822, -0.05640664]), 'phi': array([-0.45982975,  0.4250581 ])}, 'estimated_params': array([ 0.01      ,  0.99      , -0.04274246, -0.04430082,  0.33085344,\n",
      "        0.33059053,  1.97739914,  1.98238337])}, {'true_params': {'transition_matrix': array([[0.95, 0.05],\n",
      "       [0.05, 0.95]]), 'sigmas': array([0.15757498, 0.75535589]), 'mu': array([-0.03376743,  0.04301457]), 'phi': array([ 0.70022874, -0.46591335])}, 'estimated_params': array([ 0.01      ,  0.99      , -0.0398782 , -0.03919127, -0.27237636,\n",
      "       -0.27144694,  0.61599275,  0.61664527])}, {'true_params': {'transition_matrix': array([[0.95, 0.05],\n",
      "       [0.05, 0.95]]), 'sigmas': array([2.44064299, 2.94349792]), 'mu': array([-0.0872867,  0.0018711]), 'phi': array([0.96351209, 0.25705516])}, 'estimated_params': array([ 0.01      ,  0.99      , -0.10451171, -0.11017226,  0.84609577,\n",
      "        0.8449849 ,  3.07618381,  3.08245457])}, {'true_params': {'transition_matrix': array([[0.95, 0.05],\n",
      "       [0.05, 0.95]]), 'sigmas': array([2.56904165, 2.54925948]), 'mu': array([ 0.03848979, -0.07267245]), 'phi': array([0.87099903, 0.1711258 ])}, 'estimated_params': array([0.01      , 0.99      , 0.05162815, 0.00386942, 0.73312554,\n",
      "       0.70548524, 2.83511638, 2.78823643])}, {'true_params': {'transition_matrix': array([[0.95, 0.05],\n",
      "       [0.05, 0.95]]), 'sigmas': array([0.57972118, 1.92910633]), 'mu': array([-0.06860988, -0.01111362]), 'phi': array([-0.73020056,  0.67945007])}, 'estimated_params': array([ 0.01      ,  0.99      , -0.00786651, -0.00284955,  0.47756971,\n",
      "        0.47657393,  1.76018664,  1.76286419])}, {'true_params': {'transition_matrix': array([[0.95, 0.05],\n",
      "       [0.05, 0.95]]), 'sigmas': array([0.81127768, 0.91491537]), 'mu': array([ 0.04559355, -0.04662634]), 'phi': array([ 0.74140719, -0.38989578])}, 'estimated_params': array([0.01      , 0.99      , 0.01158386, 0.00934942, 0.22506026,\n",
      "       0.22726176, 1.05525748, 1.05736008])}, {'true_params': {'transition_matrix': array([[0.95, 0.05],\n",
      "       [0.05, 0.95]]), 'sigmas': array([1.50855926, 2.53868262]), 'mu': array([ 0.06324142, -0.069562  ]), 'phi': array([-0.92346264, -0.37920829])}, 'estimated_params': array([ 0.01      ,  0.99      , -0.00994983, -0.01579356, -0.73137123,\n",
      "       -0.73232235,  2.23449732,  2.23957916])}, {'true_params': {'transition_matrix': array([[0.95, 0.05],\n",
      "       [0.05, 0.95]]), 'sigmas': array([1.45756959, 0.58419831]), 'mu': array([ 0.08293908, -0.01810868]), 'phi': array([-0.55380245, -0.85526701])}, 'estimated_params': array([ 0.01      ,  0.99      ,  0.03370559,  0.04748489, -0.64258912,\n",
      "       -0.6427599 ,  1.16933855,  1.15680282])}, {'true_params': {'transition_matrix': array([[0.95, 0.05],\n",
      "       [0.05, 0.95]]), 'sigmas': array([1.13576301, 0.71585314]), 'mu': array([-0.03412078,  0.02209232]), 'phi': array([-0.58248902,  0.50587644])}, 'estimated_params': array([ 0.01      ,  0.99      , -0.01089746, -0.00988349, -0.28461182,\n",
      "       -0.285982  ,  1.12359054,  1.12626343])}, {'true_params': {'transition_matrix': array([[0.95, 0.05],\n",
      "       [0.05, 0.95]]), 'sigmas': array([1.96537421, 1.00753569]), 'mu': array([ 0.07643271, -0.08503516]), 'phi': array([ 0.41225238, -0.44064289])}, 'estimated_params': array([0.01      , 0.99      , 0.04198013, 0.04454239, 0.20779363,\n",
      "       0.21021729, 1.68042651, 1.68423326])}, {'true_params': {'transition_matrix': array([[0.95, 0.05],\n",
      "       [0.05, 0.95]]), 'sigmas': array([1.21684234, 0.67320445]), 'mu': array([0.0013137 , 0.09353546]), 'phi': array([ 0.19652557, -0.36054318])}, 'estimated_params': array([0.01      , 0.99      , 0.03007587, 0.03331607, 0.04499721,\n",
      "       0.03585807, 1.01773474, 1.01929733])}, {'true_params': {'transition_matrix': array([[0.95, 0.05],\n",
      "       [0.05, 0.95]]), 'sigmas': array([0.17036762, 1.03950358]), 'mu': array([-0.08648584,  0.07254078]), 'phi': array([-0.45343408,  0.23371333])}, 'estimated_params': array([0.01      , 0.99      , 0.01915711, 0.01175516, 0.15875201,\n",
      "       0.16693283, 0.76620626, 0.7605358 ])}, {'true_params': {'transition_matrix': array([[0.95, 0.05],\n",
      "       [0.05, 0.95]]), 'sigmas': array([0.67214221, 2.10547484]), 'mu': array([ 0.04710588, -0.02514599]), 'phi': array([0.12300955, 0.83440303])}, 'estimated_params': array([0.01      , 0.99      , 0.00822201, 0.00605004, 0.78894986,\n",
      "       0.7880192 , 1.68532524, 1.68908797])}, {'true_params': {'transition_matrix': array([[0.95, 0.05],\n",
      "       [0.05, 0.95]]), 'sigmas': array([0.49523718, 1.28806501]), 'mu': array([ 0.05722323, -0.03562868]), 'phi': array([-3.19396673e-04,  5.04631332e-01])}, 'estimated_params': array([ 0.01      ,  0.99      , -0.01310914, -0.00937487,  0.42720172,\n",
      "        0.42700266,  0.98598588,  0.98557075])}, {'true_params': {'transition_matrix': array([[0.95, 0.05],\n",
      "       [0.05, 0.95]]), 'sigmas': array([0.63236674, 2.07881556]), 'mu': array([-0.08706609,  0.05048357]), 'phi': array([-0.19187766,  0.7308769 ])}, 'estimated_params': array([ 0.01      ,  0.99      , -0.00716831, -0.00272336,  0.64981872,\n",
      "        0.64606973,  1.64084798,  1.64390359])}, {'true_params': {'transition_matrix': array([[0.95, 0.05],\n",
      "       [0.05, 0.95]]), 'sigmas': array([0.1766642 , 0.10616274]), 'mu': array([-0.09843796,  0.09333592]), 'phi': array([0.34476223, 0.7466649 ])}, 'estimated_params': array([0.01      , 0.99      , 0.01531338, 0.01626815, 0.8039998 ,\n",
      "       0.8068678 , 0.17229683, 0.17202672])}, {'true_params': {'transition_matrix': array([[0.95, 0.05],\n",
      "       [0.05, 0.95]]), 'sigmas': array([0.29716412, 2.6772881 ]), 'mu': array([0.02147405, 0.09950976]), 'phi': array([ 0.04519583, -0.75852061])}, 'estimated_params': array([ 0.01      ,  0.99      ,  0.06722566,  0.06944545, -0.7171846 ,\n",
      "       -0.71707978,  1.9504759 ,  1.95513315])}, {'true_params': {'transition_matrix': array([[0.95, 0.05],\n",
      "       [0.05, 0.95]]), 'sigmas': array([0.18794222, 2.97007276]), 'mu': array([-0.06530914,  0.09225535]), 'phi': array([ 0.4810904 , -0.95608568])}, 'estimated_params': array([ 0.01      ,  0.99      , -0.03646304, -0.03537045, -0.92156868,\n",
      "       -0.9214558 ,  2.45441455,  2.46164549])}, {'true_params': {'transition_matrix': array([[0.95, 0.05],\n",
      "       [0.05, 0.95]]), 'sigmas': array([2.31021619, 2.74948788]), 'mu': array([-0.03817438,  0.04291273]), 'phi': array([-0.85200896, -0.16372249])}, 'estimated_params': array([ 0.01      ,  0.99      , -0.00915716,  0.01180916, -0.60956651,\n",
      "       -0.61568164,  2.79806772,  2.79734735])}, {'true_params': {'transition_matrix': array([[0.95, 0.05],\n",
      "       [0.05, 0.95]]), 'sigmas': array([1.49903277, 1.9059241 ]), 'mu': array([0.0936276 , 0.00199881]), 'phi': array([ 0.85303879, -0.86205266])}, 'estimated_params': array([ 0.01      ,  0.99      ,  0.23204267,  0.23532916, -0.16244568,\n",
      "       -0.16217094,  3.24690648,  3.2550922 ])}, {'true_params': {'transition_matrix': array([[0.95, 0.05],\n",
      "       [0.05, 0.95]]), 'sigmas': array([2.00656047, 0.66921572]), 'mu': array([ 0.07422871, -0.01712368]), 'phi': array([-0.68865963, -0.19465512])}, 'estimated_params': array([ 0.01      ,  0.99      ,  0.0308892 ,  0.03457133, -0.64378332,\n",
      "       -0.64345345,  1.57004676,  1.57289183])}, {'true_params': {'transition_matrix': array([[0.95, 0.05],\n",
      "       [0.05, 0.95]]), 'sigmas': array([1.24409058, 0.34554549]), 'mu': array([-0.05287996,  0.02717584]), 'phi': array([-0.64081966,  0.39371694])}, 'estimated_params': array([ 0.01      ,  0.99      ,  0.02765086,  0.02604265, -0.54126904,\n",
      "       -0.54098384,  0.97986122,  0.98206383])}, {'true_params': {'transition_matrix': array([[0.95, 0.05],\n",
      "       [0.05, 0.95]]), 'sigmas': array([1.09658731, 0.96663767]), 'mu': array([0.0993827 , 0.00998488]), 'phi': array([-0.33412373, -0.95804519])}, 'estimated_params': array([ 0.01      ,  0.99      ,  0.0707582 ,  0.06096048, -0.83549424,\n",
      "       -0.83707876,  1.17202902,  1.16650643])}, {'true_params': {'transition_matrix': array([[0.95, 0.05],\n",
      "       [0.05, 0.95]]), 'sigmas': array([0.32361655, 2.10350958]), 'mu': array([ 0.02848091, -0.0754051 ]), 'phi': array([ 0.66964803, -0.92462364])}, 'estimated_params': array([ 0.01      ,  0.99      ,  0.01005358,  0.02989203, -0.82013576,\n",
      "       -0.8289381 ,  1.99161829,  1.95665223])}, {'true_params': {'transition_matrix': array([[0.95, 0.05],\n",
      "       [0.05, 0.95]]), 'sigmas': array([0.71978493, 2.11009486]), 'mu': array([ 0.02765749, -0.05731932]), 'phi': array([ 0.91134617, -0.4353639 ])}, 'estimated_params': array([0.01      , 0.99      , 0.01653296, 0.0181829 , 0.14002927,\n",
      "       0.13695473, 2.12576696, 2.130099  ])}, {'true_params': {'transition_matrix': array([[0.95, 0.05],\n",
      "       [0.05, 0.95]]), 'sigmas': array([2.28451183, 2.3347065 ]), 'mu': array([-0.03707313,  0.04603883]), 'phi': array([ 0.17166959, -0.32166643])}, 'estimated_params': array([ 0.01      ,  0.99      , -0.02312955,  0.01195747, -0.0906749 ,\n",
      "       -0.09784763,  2.42291174,  2.3830185 ])}, {'true_params': {'transition_matrix': array([[0.95, 0.05],\n",
      "       [0.05, 0.95]]), 'sigmas': array([0.64951211, 0.70341782]), 'mu': array([0.0058168 , 0.09198808]), 'phi': array([-0.88919461,  0.74684638])}, 'estimated_params': array([ 0.01      ,  0.99      ,  0.23544628,  0.22504183, -0.13101158,\n",
      "       -0.1586199 ,  1.21659084,  1.19811923])}, {'true_params': {'transition_matrix': array([[0.95, 0.05],\n",
      "       [0.05, 0.95]]), 'sigmas': array([0.8858599 , 2.28989323]), 'mu': array([ 0.0689634 , -0.01416127]), 'phi': array([ 0.90566641, -0.72362935])}, 'estimated_params': array([ 0.01      ,  0.99      ,  0.22252012,  0.19714358, -0.09976549,\n",
      "       -0.09186759,  2.81289622,  2.80606697])}, {'true_params': {'transition_matrix': array([[0.95, 0.05],\n",
      "       [0.05, 0.95]]), 'sigmas': array([2.24226894, 2.56393589]), 'mu': array([ 0.02041611, -0.03404688]), 'phi': array([-0.87692295,  0.88526158])}, 'estimated_params': array([ 0.01      ,  0.99      , -0.03412865, -0.06367382,  0.096298  ,\n",
      "        0.09821651,  5.09443837,  5.09674   ])}, {'true_params': {'transition_matrix': array([[0.95, 0.05],\n",
      "       [0.05, 0.95]]), 'sigmas': array([1.68930752, 1.49342806]), 'mu': array([ 0.08596829, -0.0306802 ]), 'phi': array([0.9162298 , 0.49047808])}, 'estimated_params': array([0.01      , 0.99      , 0.03440572, 0.02900947, 0.85135709,\n",
      "       0.85104512, 1.69240905, 1.6950789 ])}, {'true_params': {'transition_matrix': array([[0.95, 0.05],\n",
      "       [0.05, 0.95]]), 'sigmas': array([1.49232318, 2.7350228 ]), 'mu': array([-0.00366018, -0.0854748 ]), 'phi': array([ 0.90577544, -0.4873644 ])}, 'estimated_params': array([ 0.01      ,  0.99      , -0.04121187, -0.02391246,  0.32643584,\n",
      "        0.31961209,  3.14647555,  3.14455933])}, {'true_params': {'transition_matrix': array([[0.95, 0.05],\n",
      "       [0.05, 0.95]]), 'sigmas': array([1.7831248 , 2.88059984]), 'mu': array([-0.01384326, -0.0898237 ]), 'phi': array([0.6845715 , 0.18132877])}, 'estimated_params': array([ 0.01      ,  0.99      , -0.01939311, -0.04243807,  0.38879328,\n",
      "        0.3901751 ,  2.5249212 ,  2.51061152])}, {'true_params': {'transition_matrix': array([[0.95, 0.05],\n",
      "       [0.05, 0.95]]), 'sigmas': array([0.12512956, 1.21209145]), 'mu': array([-0.04937645,  0.01843391]), 'phi': array([-0.39755593,  0.168597  ])}, 'estimated_params': array([ 1.00000000e-02,  9.90000000e-01, -2.23810831e-04, -5.80624944e-04,\n",
      "        1.54166858e-01,  1.52875919e-01,  9.01045482e-01,  9.03286955e-01])}, {'true_params': {'transition_matrix': array([[0.95, 0.05],\n",
      "       [0.05, 0.95]]), 'sigmas': array([2.82800161, 0.94462578]), 'mu': array([-0.04057837,  0.07995308]), 'phi': array([-0.457043  , -0.77036232])}, 'estimated_params': array([ 1.00000000e-02,  9.90000000e-01, -2.59825249e-03,  1.59105478e-03,\n",
      "       -5.33136914e-01, -5.28862929e-01,  2.19303230e+00,  2.19695787e+00])}, {'true_params': {'transition_matrix': array([[0.95, 0.05],\n",
      "       [0.05, 0.95]]), 'sigmas': array([1.07649078, 1.02526429]), 'mu': array([-0.06594542,  0.05148092]), 'phi': array([-0.33956939, -0.6768428 ])}, 'estimated_params': array([ 0.01      ,  0.99      , -0.01060271, -0.01516463, -0.53019851,\n",
      "       -0.53219672,  1.07211909,  1.07292201])}, {'true_params': {'transition_matrix': array([[0.95, 0.05],\n",
      "       [0.05, 0.95]]), 'sigmas': array([1.13867577, 2.7515142 ]), 'mu': array([-0.0553799 ,  0.04937512]), 'phi': array([-0.27409538,  0.40124583])}, 'estimated_params': array([0.01      , 0.99      , 0.03782824, 0.04998339, 0.28802974,\n",
      "       0.28816439, 2.15925354, 2.15916049])}, {'true_params': {'transition_matrix': array([[0.95, 0.05],\n",
      "       [0.05, 0.95]]), 'sigmas': array([2.1287742, 0.1630694]), 'mu': array([-0.09285826, -0.00225628]), 'phi': array([ 0.34236233, -0.21712218])}, 'estimated_params': array([ 0.01      ,  0.99      , -0.0276327 , -0.03479925,  0.31283105,\n",
      "        0.31177578,  1.55688907,  1.5583672 ])}, {'true_params': {'transition_matrix': array([[0.95, 0.05],\n",
      "       [0.05, 0.95]]), 'sigmas': array([0.86062239, 1.04113793]), 'mu': array([ 0.00868835, -0.09041786]), 'phi': array([ 0.50774367, -0.94942584])}, 'estimated_params': array([ 0.01      ,  0.99      , -0.02399282, -0.02705842, -0.7192557 ,\n",
      "       -0.7171179 ,  1.41607264,  1.41942929])}, {'true_params': {'transition_matrix': array([[0.95, 0.05],\n",
      "       [0.05, 0.95]]), 'sigmas': array([0.39677327, 1.19619583]), 'mu': array([-0.08359744, -0.01984823]), 'phi': array([-0.89008261,  0.3448603 ])}, 'estimated_params': array([ 0.01      ,  0.99      , -0.03501947, -0.03492116, -0.03487379,\n",
      "       -0.03466496,  1.10755549,  1.11031403])}, {'true_params': {'transition_matrix': array([[0.95, 0.05],\n",
      "       [0.05, 0.95]]), 'sigmas': array([2.41880776, 0.2795625 ]), 'mu': array([-0.02849394,  0.06049652]), 'phi': array([-0.04772303, -0.82356456])}, 'estimated_params': array([ 0.01      ,  0.99      , -0.01754449, -0.01718765, -0.18641063,\n",
      "       -0.18486922,  1.81946824,  1.82403057])}, {'true_params': {'transition_matrix': array([[0.95, 0.05],\n",
      "       [0.05, 0.95]]), 'sigmas': array([1.24932161, 2.70551377]), 'mu': array([0.09407353, 0.00492253]), 'phi': array([-0.17593736,  0.1713809 ])}, 'estimated_params': array([0.01      , 0.99      , 0.00982271, 0.01677956, 0.09347351,\n",
      "       0.09012919, 2.10181615, 2.10386424])}, {'true_params': {'transition_matrix': array([[0.95, 0.05],\n",
      "       [0.05, 0.95]]), 'sigmas': array([1.12539249, 2.30343874]), 'mu': array([ 0.06340206, -0.01447653]), 'phi': array([-0.30163755, -0.85444177])}, 'estimated_params': array([ 0.01      ,  0.99      ,  0.06168129,  0.07024252, -0.7604354 ,\n",
      "       -0.76076207,  1.86063238,  1.86040826])}, {'true_params': {'transition_matrix': array([[0.95, 0.05],\n",
      "       [0.05, 0.95]]), 'sigmas': array([0.47594509, 0.26939888]), 'mu': array([0.08810117, 0.02585218]), 'phi': array([-0.63042571,  0.73690046])}, 'estimated_params': array([ 0.01      ,  0.99      ,  0.0925505 ,  0.09328019, -0.13625998,\n",
      "       -0.13764622,  0.50147795,  0.50264132])}, {'true_params': {'transition_matrix': array([[0.95, 0.05],\n",
      "       [0.05, 0.95]]), 'sigmas': array([2.08316881, 1.98392107]), 'mu': array([ 0.058231  , -0.06814271]), 'phi': array([-0.23331793,  0.70572274])}, 'estimated_params': array([ 0.01      ,  0.99      , -0.07954267, -0.10658642,  0.36370687,\n",
      "        0.35802949,  2.31569932,  2.29094989])}, {'true_params': {'transition_matrix': array([[0.95, 0.05],\n",
      "       [0.05, 0.95]]), 'sigmas': array([0.59035646, 0.25143583]), 'mu': array([-0.08601658, -0.03142361]), 'phi': array([-0.8282858 ,  0.32123989])}, 'estimated_params': array([ 0.01      ,  0.99      , -0.09070556, -0.09196175, -0.72689219,\n",
      "       -0.72742171,  0.52296231,  0.52406257])}, {'true_params': {'transition_matrix': array([[0.95, 0.05],\n",
      "       [0.05, 0.95]]), 'sigmas': array([0.58087968, 2.41613431]), 'mu': array([-0.00231519, -0.08148344]), 'phi': array([-0.14486036, -0.81708955])}, 'estimated_params': array([ 0.01      ,  0.99      , -0.02693742, -0.0309602 , -0.75930734,\n",
      "       -0.7605575 ,  1.80573549,  1.80956079])}, {'true_params': {'transition_matrix': array([[0.95, 0.05],\n",
      "       [0.05, 0.95]]), 'sigmas': array([0.72616811, 2.15314172]), 'mu': array([ 0.0750792 , -0.03992323]), 'phi': array([ 0.2325962 , -0.48006754])}, 'estimated_params': array([ 0.01      ,  0.99      ,  0.06589233,  0.06779453, -0.37759165,\n",
      "       -0.37985583,  1.62392036,  1.62784742])}]\n"
     ]
    },
    {
     "name": "stderr",
     "output_type": "stream",
     "text": [
      "\n"
     ]
    }
   ],
   "source": [
    "import pandas as pd\n",
    "import numpy as np\n",
    "import importlib\n",
    "import Tools, EM\n",
    "from tqdm import tqdm\n",
    "import time\n",
    "\n",
    "from importlib import reload\n",
    "reload(Tools)\n",
    "\n",
    "from Tools import AR\n",
    "from importlib import reload\n",
    "reload(EM)\n",
    "from EM import AREM\n",
    "\n",
    "# sim = AR(n_states=2, num_series = 1,transition_diagonal=0.99,deterministic=True, sigma=[0.3, 0.3])\n",
    "# print(sim.mu)\n",
    "# print(sim.phi)\n",
    "# print(sim.sigmas)\n",
    "# sim.simulate()\n",
    "\n",
    "results = []\n",
    "# sim.plot_simulation(separate=True, cum=False)\n",
    "\n",
    "for i in tqdm(range(250), desc=\"Processing\", unit=\"iteration\"):\n",
    "    # Initialize and simulate data with the SV model\n",
    "    ar = AR(num_series=1, num_obs=10000, n_states=2)  # Adjust parameters as needed\n",
    "    ar.simulate()\n",
    "    # print(i)\n",
    "    # Fit the simulated data using the Base model (EM algorithm)\n",
    "    model = AREM(ar.data, max_iterations=100)  # Adjust initialization as needed\n",
    "    model.fit()\n",
    "    \n",
    "    # Extract true parameters and estimated results\n",
    "    true_params = {\n",
    "        'transition_matrix': ar.transition_matrix,\n",
    "        'sigmas': ar.sigmas,\n",
    "        'mu': ar.mu,  # Assuming mu is a simulated parameter of SV model\n",
    "        'phi': ar.phi,  # Assuming phi is a simulated parameter of SV model\n",
    "    }\n",
    "    # Assuming estimated_params are returned in a manner that includes mu and phi\n",
    "    estimated_params = model.result.x  # Placeholder for where results are stored, adjust as needed\n",
    "    \n",
    "    # Store the extracted data\n",
    "    results.append({\n",
    "        'true_params': true_params,\n",
    "        'estimated_params': estimated_params\n",
    "    })\n",
    "print(results)\n"
   ]
  },
  {
   "cell_type": "code",
   "execution_count": 2,
   "id": "92190e56-3171-474b-9052-627d45c198f6",
   "metadata": {},
   "outputs": [
    {
     "data": {
      "text/html": [
       "<div>\n",
       "<style scoped>\n",
       "    .dataframe tbody tr th:only-of-type {\n",
       "        vertical-align: middle;\n",
       "    }\n",
       "\n",
       "    .dataframe tbody tr th {\n",
       "        vertical-align: top;\n",
       "    }\n",
       "\n",
       "    .dataframe thead th {\n",
       "        text-align: right;\n",
       "    }\n",
       "</style>\n",
       "<table border=\"1\" class=\"dataframe\">\n",
       "  <thead>\n",
       "    <tr style=\"text-align: right;\">\n",
       "      <th></th>\n",
       "      <th>true_transition_00</th>\n",
       "      <th>true_transition_11</th>\n",
       "      <th>true_sigma_0</th>\n",
       "      <th>true_sigma_1</th>\n",
       "      <th>true_phi_0</th>\n",
       "      <th>true_phi_1</th>\n",
       "      <th>true_mu_0</th>\n",
       "      <th>true_mu_1</th>\n",
       "      <th>true_mu</th>\n",
       "      <th>true_phi</th>\n",
       "      <th>estimated_transition_00</th>\n",
       "      <th>estimated_transition_11</th>\n",
       "      <th>estimated_sigma_0</th>\n",
       "      <th>estimated_sigma_1</th>\n",
       "      <th>estimated_mu_0</th>\n",
       "      <th>estimated_mu_1</th>\n",
       "      <th>estimated_phi_0</th>\n",
       "      <th>estimated_phi_1</th>\n",
       "    </tr>\n",
       "  </thead>\n",
       "  <tbody>\n",
       "    <tr>\n",
       "      <th>0</th>\n",
       "      <td>0.95</td>\n",
       "      <td>0.95</td>\n",
       "      <td>2.152831</td>\n",
       "      <td>0.789057</td>\n",
       "      <td>-0.684804</td>\n",
       "      <td>0.604054</td>\n",
       "      <td>-0.091891</td>\n",
       "      <td>0.041537</td>\n",
       "      <td>[-0.09189077740320868, 0.04153722687247696]</td>\n",
       "      <td>[-0.6848043661464103, 0.6040541468180216]</td>\n",
       "      <td>0.01</td>\n",
       "      <td>0.99</td>\n",
       "      <td>0.014299</td>\n",
       "      <td>0.018428</td>\n",
       "      <td>-0.426904</td>\n",
       "      <td>-0.424184</td>\n",
       "      <td>1.854652</td>\n",
       "      <td>1.858185</td>\n",
       "    </tr>\n",
       "    <tr>\n",
       "      <th>1</th>\n",
       "      <td>0.95</td>\n",
       "      <td>0.95</td>\n",
       "      <td>1.107202</td>\n",
       "      <td>1.641835</td>\n",
       "      <td>0.251806</td>\n",
       "      <td>0.887103</td>\n",
       "      <td>-0.073159</td>\n",
       "      <td>0.015872</td>\n",
       "      <td>[-0.07315930723843163, 0.015872290632388195]</td>\n",
       "      <td>[0.25180577688013694, 0.8871028751030501]</td>\n",
       "      <td>0.01</td>\n",
       "      <td>0.99</td>\n",
       "      <td>-0.012081</td>\n",
       "      <td>-0.013114</td>\n",
       "      <td>0.789120</td>\n",
       "      <td>0.789489</td>\n",
       "      <td>1.494656</td>\n",
       "      <td>1.498323</td>\n",
       "    </tr>\n",
       "    <tr>\n",
       "      <th>2</th>\n",
       "      <td>0.95</td>\n",
       "      <td>0.95</td>\n",
       "      <td>0.235983</td>\n",
       "      <td>0.293451</td>\n",
       "      <td>-0.516709</td>\n",
       "      <td>0.041723</td>\n",
       "      <td>0.073843</td>\n",
       "      <td>0.011239</td>\n",
       "      <td>[0.07384270447295191, 0.011239489870952246]</td>\n",
       "      <td>[-0.516709103476005, 0.04172320054795686]</td>\n",
       "      <td>0.01</td>\n",
       "      <td>0.99</td>\n",
       "      <td>0.032309</td>\n",
       "      <td>0.033049</td>\n",
       "      <td>-0.222344</td>\n",
       "      <td>-0.222824</td>\n",
       "      <td>0.277660</td>\n",
       "      <td>0.278326</td>\n",
       "    </tr>\n",
       "    <tr>\n",
       "      <th>3</th>\n",
       "      <td>0.95</td>\n",
       "      <td>0.95</td>\n",
       "      <td>0.392953</td>\n",
       "      <td>0.228757</td>\n",
       "      <td>-0.543843</td>\n",
       "      <td>-0.845186</td>\n",
       "      <td>0.033606</td>\n",
       "      <td>-0.071545</td>\n",
       "      <td>[0.033605891891904965, -0.07154478132650317]</td>\n",
       "      <td>[-0.5438430987157212, -0.8451855562358099]</td>\n",
       "      <td>0.01</td>\n",
       "      <td>0.99</td>\n",
       "      <td>-0.006965</td>\n",
       "      <td>-0.005924</td>\n",
       "      <td>-0.673748</td>\n",
       "      <td>-0.675854</td>\n",
       "      <td>0.334972</td>\n",
       "      <td>0.335351</td>\n",
       "    </tr>\n",
       "    <tr>\n",
       "      <th>4</th>\n",
       "      <td>0.95</td>\n",
       "      <td>0.95</td>\n",
       "      <td>2.209455</td>\n",
       "      <td>2.857099</td>\n",
       "      <td>-0.862850</td>\n",
       "      <td>0.729861</td>\n",
       "      <td>0.089880</td>\n",
       "      <td>-0.077978</td>\n",
       "      <td>[0.08987967079181611, -0.07797797036422426]</td>\n",
       "      <td>[-0.8628497399195045, 0.7298610498901776]</td>\n",
       "      <td>0.01</td>\n",
       "      <td>0.99</td>\n",
       "      <td>-0.153374</td>\n",
       "      <td>-0.168378</td>\n",
       "      <td>-0.117217</td>\n",
       "      <td>-0.117218</td>\n",
       "      <td>4.289492</td>\n",
       "      <td>4.299112</td>\n",
       "    </tr>\n",
       "  </tbody>\n",
       "</table>\n",
       "</div>"
      ],
      "text/plain": [
       "   true_transition_00  true_transition_11  true_sigma_0  true_sigma_1  \\\n",
       "0                0.95                0.95      2.152831      0.789057   \n",
       "1                0.95                0.95      1.107202      1.641835   \n",
       "2                0.95                0.95      0.235983      0.293451   \n",
       "3                0.95                0.95      0.392953      0.228757   \n",
       "4                0.95                0.95      2.209455      2.857099   \n",
       "\n",
       "   true_phi_0  true_phi_1  true_mu_0  true_mu_1  \\\n",
       "0   -0.684804    0.604054  -0.091891   0.041537   \n",
       "1    0.251806    0.887103  -0.073159   0.015872   \n",
       "2   -0.516709    0.041723   0.073843   0.011239   \n",
       "3   -0.543843   -0.845186   0.033606  -0.071545   \n",
       "4   -0.862850    0.729861   0.089880  -0.077978   \n",
       "\n",
       "                                        true_mu  \\\n",
       "0   [-0.09189077740320868, 0.04153722687247696]   \n",
       "1  [-0.07315930723843163, 0.015872290632388195]   \n",
       "2   [0.07384270447295191, 0.011239489870952246]   \n",
       "3  [0.033605891891904965, -0.07154478132650317]   \n",
       "4   [0.08987967079181611, -0.07797797036422426]   \n",
       "\n",
       "                                     true_phi  estimated_transition_00  \\\n",
       "0   [-0.6848043661464103, 0.6040541468180216]                     0.01   \n",
       "1   [0.25180577688013694, 0.8871028751030501]                     0.01   \n",
       "2   [-0.516709103476005, 0.04172320054795686]                     0.01   \n",
       "3  [-0.5438430987157212, -0.8451855562358099]                     0.01   \n",
       "4   [-0.8628497399195045, 0.7298610498901776]                     0.01   \n",
       "\n",
       "   estimated_transition_11  estimated_sigma_0  estimated_sigma_1  \\\n",
       "0                     0.99           0.014299           0.018428   \n",
       "1                     0.99          -0.012081          -0.013114   \n",
       "2                     0.99           0.032309           0.033049   \n",
       "3                     0.99          -0.006965          -0.005924   \n",
       "4                     0.99          -0.153374          -0.168378   \n",
       "\n",
       "   estimated_mu_0  estimated_mu_1  estimated_phi_0  estimated_phi_1  \n",
       "0       -0.426904       -0.424184         1.854652         1.858185  \n",
       "1        0.789120        0.789489         1.494656         1.498323  \n",
       "2       -0.222344       -0.222824         0.277660         0.278326  \n",
       "3       -0.673748       -0.675854         0.334972         0.335351  \n",
       "4       -0.117217       -0.117218         4.289492         4.299112  "
      ]
     },
     "execution_count": 2,
     "metadata": {},
     "output_type": "execute_result"
    }
   ],
   "source": [
    "def create_dataframe(data):\n",
    "    rows = []\n",
    "    for item in data:\n",
    "        row = {\n",
    "            'true_transition_00': item['true_params']['transition_matrix'][0, 0],\n",
    "            'true_transition_11': item['true_params']['transition_matrix'][1, 1],\n",
    "            'true_sigma_0': item['true_params']['sigmas'][ 0],\n",
    "            'true_sigma_1': item['true_params']['sigmas'][ 1],\n",
    "            'true_phi_0': item['true_params']['phi'][0],\n",
    "            'true_phi_1': item['true_params']['phi'][1],\n",
    "            'true_mu_0': item['true_params']['mu'][0],\n",
    "            'true_mu_1': item['true_params']['mu'][1],\n",
    "            'true_mu': item['true_params']['mu'],  # Extract true mu\n",
    "            'true_phi': item['true_params']['phi'],  # Extract true phi\n",
    "            'estimated_transition_00': item['estimated_params'][0],\n",
    "            'estimated_transition_11': item['estimated_params'][1],\n",
    "            'estimated_sigma_0': item['estimated_params'][2],\n",
    "            'estimated_sigma_1': item['estimated_params'][3],\n",
    "            'estimated_mu_0': item['estimated_params'][4],  # Assuming this is the position of estimated mu\n",
    "            'estimated_mu_1': item['estimated_params'][5],  # Assuming this is the position of estimated mu\n",
    "            'estimated_phi_0': item['estimated_params'][6],\n",
    "            'estimated_phi_1': item['estimated_params'][7]  # Assuming this is the position of estimated phi\n",
    "        }\n",
    "        rows.append(row)\n",
    "    return pd.DataFrame(rows)\n",
    "\n",
    "# Generate the DataFrame with the extended structure\n",
    "df_large = create_dataframe(results)\n",
    "\n",
    "# Display the first few rows of the dataframe to confirm it's structured correctly\n",
    "df_large.head()\n"
   ]
  },
  {
   "cell_type": "code",
   "execution_count": 3,
   "id": "2ab84c08-6070-4c33-b6c3-87737dc345d0",
   "metadata": {},
   "outputs": [
    {
     "data": {
      "text/html": [
       "<div>\n",
       "<style scoped>\n",
       "    .dataframe tbody tr th:only-of-type {\n",
       "        vertical-align: middle;\n",
       "    }\n",
       "\n",
       "    .dataframe tbody tr th {\n",
       "        vertical-align: top;\n",
       "    }\n",
       "\n",
       "    .dataframe thead th {\n",
       "        text-align: right;\n",
       "    }\n",
       "</style>\n",
       "<table border=\"1\" class=\"dataframe\">\n",
       "  <thead>\n",
       "    <tr style=\"text-align: right;\">\n",
       "      <th></th>\n",
       "      <th>transition_diff_00</th>\n",
       "      <th>transition_diff_11</th>\n",
       "      <th>sigma_diff_max</th>\n",
       "      <th>sigma_diff_min</th>\n",
       "      <th>phi_diff_max</th>\n",
       "      <th>phi_diff_min</th>\n",
       "      <th>mu_diff_max</th>\n",
       "      <th>mu_diff_min</th>\n",
       "    </tr>\n",
       "  </thead>\n",
       "  <tbody>\n",
       "    <tr>\n",
       "      <th>0</th>\n",
       "      <td>0.94</td>\n",
       "      <td>-0.04</td>\n",
       "      <td>2.134403</td>\n",
       "      <td>0.774759</td>\n",
       "      <td>-1.254131</td>\n",
       "      <td>-2.539456</td>\n",
       "      <td>0.465721</td>\n",
       "      <td>0.335014</td>\n",
       "    </tr>\n",
       "    <tr>\n",
       "      <th>1</th>\n",
       "      <td>0.94</td>\n",
       "      <td>-0.04</td>\n",
       "      <td>1.653916</td>\n",
       "      <td>1.120315</td>\n",
       "      <td>-0.611220</td>\n",
       "      <td>-1.242850</td>\n",
       "      <td>-0.773617</td>\n",
       "      <td>-0.862280</td>\n",
       "    </tr>\n",
       "    <tr>\n",
       "      <th>2</th>\n",
       "      <td>0.94</td>\n",
       "      <td>-0.04</td>\n",
       "      <td>0.260402</td>\n",
       "      <td>0.203674</td>\n",
       "      <td>-0.236603</td>\n",
       "      <td>-0.794369</td>\n",
       "      <td>0.296187</td>\n",
       "      <td>0.234064</td>\n",
       "    </tr>\n",
       "    <tr>\n",
       "      <th>3</th>\n",
       "      <td>0.94</td>\n",
       "      <td>-0.04</td>\n",
       "      <td>0.398877</td>\n",
       "      <td>0.235722</td>\n",
       "      <td>-0.879194</td>\n",
       "      <td>-1.180158</td>\n",
       "      <td>0.707354</td>\n",
       "      <td>0.604310</td>\n",
       "    </tr>\n",
       "    <tr>\n",
       "      <th>4</th>\n",
       "      <td>0.94</td>\n",
       "      <td>-0.04</td>\n",
       "      <td>3.010473</td>\n",
       "      <td>2.377833</td>\n",
       "      <td>-3.569251</td>\n",
       "      <td>-5.152341</td>\n",
       "      <td>0.207096</td>\n",
       "      <td>0.039240</td>\n",
       "    </tr>\n",
       "  </tbody>\n",
       "</table>\n",
       "</div>"
      ],
      "text/plain": [
       "   transition_diff_00  transition_diff_11  sigma_diff_max  sigma_diff_min  \\\n",
       "0                0.94               -0.04        2.134403        0.774759   \n",
       "1                0.94               -0.04        1.653916        1.120315   \n",
       "2                0.94               -0.04        0.260402        0.203674   \n",
       "3                0.94               -0.04        0.398877        0.235722   \n",
       "4                0.94               -0.04        3.010473        2.377833   \n",
       "\n",
       "   phi_diff_max  phi_diff_min  mu_diff_max  mu_diff_min  \n",
       "0     -1.254131     -2.539456     0.465721     0.335014  \n",
       "1     -0.611220     -1.242850    -0.773617    -0.862280  \n",
       "2     -0.236603     -0.794369     0.296187     0.234064  \n",
       "3     -0.879194     -1.180158     0.707354     0.604310  \n",
       "4     -3.569251     -5.152341     0.207096     0.039240  "
      ]
     },
     "execution_count": 3,
     "metadata": {},
     "output_type": "execute_result"
    }
   ],
   "source": [
    "# Subtract estimated transitions from true transitions\n",
    "df_large['transition_diff_00'] = df_large['true_transition_00'] - df_large['estimated_transition_00']\n",
    "df_large['transition_diff_11'] = df_large['true_transition_11'] - df_large['estimated_transition_11']\n",
    "\n",
    "# For sigmas, subtract the largest estimated sigma from the largest true sigma, and the smallest from the smallest\n",
    "df_large['sigma_diff_max'] = df_large[['true_sigma_0', 'true_sigma_1']].max(axis=1) - df_large[['estimated_sigma_0', 'estimated_sigma_1']].max(axis=1)\n",
    "df_large['sigma_diff_min'] = df_large[['true_sigma_0', 'true_sigma_1']].min(axis=1) - df_large[['estimated_sigma_0', 'estimated_sigma_1']].min(axis=1)\n",
    "# For phi, subtract the largest estimated phi from the largest true phi, and the smallest from the smallest\n",
    "df_large['phi_diff_max'] = df_large[['true_phi_0', 'true_phi_1']].max(axis=1) - df_large[['estimated_phi_0', 'estimated_phi_1']].max(axis=1)\n",
    "df_large['phi_diff_min'] = df_large[['true_phi_0', 'true_phi_1']].min(axis=1) - df_large[['estimated_phi_0', 'estimated_phi_1']].min(axis=1)\n",
    "# For mu, subtract the largest estimated mu from the largest true mu, and the smallest from the smallest\n",
    "df_large['mu_diff_max'] = df_large[['true_mu_0', 'true_mu_1']].max(axis=1) - df_large[['estimated_mu_0', 'estimated_mu_1']].max(axis=1)\n",
    "df_large['mu_diff_min'] = df_large[['true_mu_0', 'true_mu_1']].min(axis=1) - df_large[['estimated_mu_0', 'estimated_mu_1']].min(axis=1)\n",
    "\n",
    "# # Subtract estimated mu and phi from true mu and phi\n",
    "# df_large['mu_diff'] = df_large['true_mu'] - df_large['estimated_mu']\n",
    "# df_large['phi_diff'] = df_large['true_phi'] - df_large['estimated_phi']\n",
    "\n",
    "# Display the first few rows of the updated dataframe to confirm the calculations\n",
    "df_large[['transition_diff_00', 'transition_diff_11', 'sigma_diff_max', 'sigma_diff_min', 'phi_diff_max', 'phi_diff_min','mu_diff_max', 'mu_diff_min']].head()\n"
   ]
  },
  {
   "cell_type": "code",
   "execution_count": 4,
   "id": "74b5ad99-494b-427e-a7ac-d401dbb15a3b",
   "metadata": {},
   "outputs": [
    {
     "data": {
      "image/png": "[encoded data removed]",
      "text/plain": [
       "<Figure size 1400x2000 with 8 Axes>"
      ]
     },
     "metadata": {},
     "output_type": "display_data"
    }
   ],
   "source": [
    "import matplotlib.pyplot as plt\n",
    "\n",
    "# Extend the plotting area to accommodate phi and mu histograms\n",
    "fig, axs = plt.subplots(4, 2, figsize=(14, 20))\n",
    "\n",
    "# Transition difference histograms\n",
    "axs[0, 0].hist(df_large['transition_diff_00'], bins=20, color='skyblue', edgecolor='black')\n",
    "axs[0, 0].set_title('Transition Difference 00')\n",
    "axs[0, 0].set_xlabel('Difference')\n",
    "axs[0, 0].set_ylabel('Frequency')\n",
    "\n",
    "axs[0, 1].hist(df_large['transition_diff_11'], bins=20, color='lightgreen', edgecolor='black')\n",
    "axs[0, 1].set_title('Transition Difference 11')\n",
    "axs[0, 1].set_xlabel('Difference')\n",
    "axs[0, 1].set_ylabel('Frequency')\n",
    "\n",
    "# Sigma difference histograms\n",
    "axs[1, 0].hist(df_large['sigma_diff_max'], bins=20, color='salmon', edgecolor='black')\n",
    "axs[1, 0].set_title('Sigma Max Difference')\n",
    "axs[1, 0].set_xlabel('Difference')\n",
    "axs[1, 0].set_ylabel('Frequency')\n",
    "\n",
    "axs[1, 1].hist(df_large['sigma_diff_min'], bins=20, color='gold', edgecolor='black')\n",
    "axs[1, 1].set_title('Sigma Min Difference')\n",
    "axs[1, 1].set_xlabel('Difference')\n",
    "axs[1, 1].set_ylabel('Frequency')\n",
    "\n",
    "# Phi difference histograms\n",
    "axs[2, 0].hist(df_large['phi_diff_max'], bins=20, color='purple', edgecolor='black')\n",
    "axs[2, 0].set_title('Phi Max Difference')\n",
    "axs[2, 0].set_xlabel('Difference')\n",
    "axs[2, 0].set_ylabel('Frequency')\n",
    "\n",
    "axs[2, 1].hist(df_large['phi_diff_min'], bins=20, color='orange', edgecolor='black')\n",
    "axs[2, 1].set_title('Phi Min Difference')\n",
    "axs[2, 1].set_xlabel('Difference')\n",
    "axs[2, 1].set_ylabel('Frequency')\n",
    "\n",
    "# Mu difference histograms\n",
    "axs[3, 0].hist(df_large['mu_diff_max'], bins=20, color='cyan', edgecolor='black')\n",
    "axs[3, 0].set_title('Mu Max Difference')\n",
    "axs[3, 0].set_xlabel('Difference')\n",
    "axs[3, 0].set_ylabel('Frequency')\n",
    "\n",
    "axs[3, 1].hist(df_large['mu_diff_min'], bins=20, color='magenta', edgecolor='black')\n",
    "axs[3, 1].set_title('Mu Min Difference')\n",
    "axs[3, 1].set_xlabel('Difference')\n",
    "axs[3, 1].set_ylabel('Frequency')\n",
    "\n",
    "plt.tight_layout()\n",
    "plt.savefig('2 AREM 250 Sim Separate Histograms.png')\n",
    "plt.show()\n"
   ]
  },
  {
   "cell_type": "code",
   "execution_count": 5,
   "id": "854c84f2-2cb7-43e4-a813-a9888932ca09",
   "metadata": {},
   "outputs": [
    {
     "data": {
      "image/png": "[encoded data removed]",
      "text/plain": [
       "<Figure size 2000x500 with 4 Axes>"
      ]
     },
     "metadata": {},
     "output_type": "display_data"
    }
   ],
   "source": [
    "fig, axs = plt.subplots(1, 4, figsize=(20, 5))\n",
    "\n",
    "# Combine transition differences into a single histogram\n",
    "transition_diffs_combined = pd.concat([df_large['transition_diff_00'], df_large['transition_diff_11']])\n",
    "axs[0].hist(transition_diffs_combined, bins=30, color='lightblue', edgecolor='black')\n",
    "axs[0].set_title('Combined Transition Differences')\n",
    "axs[0].set_xlabel('Difference')\n",
    "axs[0].set_ylabel('Frequency')\n",
    "\n",
    "# Combine sigma differences into a single histogram\n",
    "sigma_diffs_combined = pd.concat([df_large['sigma_diff_max'], df_large['sigma_diff_min']])\n",
    "axs[1].hist(sigma_diffs_combined, bins=30, color='peachpuff', edgecolor='black')\n",
    "axs[1].set_title('Combined Sigma Differences')\n",
    "axs[1].set_xlabel('Difference')\n",
    "axs[1].set_ylabel('Frequency')\n",
    "\n",
    "# Combine phi differences into a single histogram\n",
    "phi_diffs_combined = pd.concat([df_large['phi_diff_max'], df_large['phi_diff_min']])\n",
    "axs[2].hist(phi_diffs_combined, bins=30, color='purple', edgecolor='black')\n",
    "axs[2].set_title('Combined Phi Differences')\n",
    "axs[2].set_xlabel('Difference')\n",
    "axs[2].set_ylabel('Frequency')\n",
    "\n",
    "# Combine mu differences into a single histogram\n",
    "mu_diffs_combined = pd.concat([df_large['mu_diff_max'], df_large['mu_diff_min']])\n",
    "axs[3].hist(mu_diffs_combined, bins=30, color='cyan', edgecolor='black')\n",
    "axs[3].set_title('Combined Mu Differences')\n",
    "axs[3].set_xlabel('Difference')\n",
    "axs[3].set_ylabel('Frequency')\n",
    "\n",
    "plt.tight_layout()\n",
    "plt.savefig('2 AREM 250 Sim Combined Histograms.png')\n",
    "plt.show()"
   ]
  },
  {
   "cell_type": "code",
   "execution_count": null,
   "id": "b27a3a8a-2e37-4e87-ade4-57fc19325748",
   "metadata": {},
   "outputs": [],
   "source": []
  }
 ],
 "metadata": {
  "kernelspec": {
   "display_name": "Python 3 (ipykernel)",
   "language": "python",
   "name": "python3"
  },
  "language_info": {
   "codemirror_mode": {
    "name": "ipython",
    "version": 3
   },
   "file_extension": ".py",
   "mimetype": "text/x-python",
   "name": "python",
   "nbconvert_exporter": "python",
   "pygments_lexer": "ipython3",
   "version": "3.11.6"
  }
 },
 "nbformat": 4,
 "nbformat_minor": 5
}
