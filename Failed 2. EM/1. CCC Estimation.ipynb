{
 "cells": [
  {
   "cell_type": "markdown",
   "id": "6f7ccc7a-f3a0-415b-98aa-f111cb18fd71",
   "metadata": {},
   "source": [
    "# The CCC Model "
   ]
  },
  {
   "cell_type": "code",
   "execution_count": 1,
   "id": "c37bf914-d715-4dac-a025-d2795b2e14b5",
   "metadata": {},
   "outputs": [],
   "source": [
    "import numpy as np\n",
    "import pandas as pd\n",
    "import matplotlib.pyplot as plt\n",
    "import seaborn as sns\n",
    "from scipy.optimize import minimize\n",
    "\n",
    "def df_to_array(dataframe):\n",
    "    # Create Numpy Array\n",
    "    data_array = df.to_numpy().T\n",
    "    \n",
    "\n",
    "    # Get titles of columns for plotting\n",
    "    labels = df.columns.tolist()\n",
    "\n",
    "    return data_array, labels\n",
    "\n",
    "# Find the log-likelihood contributions of the univariate volatility\n",
    "def univariate_log_likelihood_contribution(x, sigma):\n",
    "    sigma = max(sigma, 1e-8)\n",
    "    return -0.5 * np.log(2 * np.pi) - np.log(sigma) - (x ** 2) / (2 * sigma ** 2)\n",
    "\n",
    "\n",
    "# Calculate the total log-likelihood of the univariate volatility\n",
    "def total_univariate_log_likelihood(GARCH_guess, x):\n",
    "    # Set Number of Observations\n",
    "    T = len(x)\n",
    "    \n",
    "    # Set Parameters\n",
    "    omega, alpha, beta = GARCH_guess\n",
    "    sigma = np.zeros(T)\n",
    "\n",
    "    # Set the Initial Sigma to be Total Unconditional Variance of data\n",
    "    sigma[0] = np.sqrt(np.var(x))\n",
    "\n",
    "    # Calculate sigma[t] for the described model\n",
    "    for t in range(1, T):\n",
    "        sigma[t] = omega + alpha * np.abs(x[t-1]) + beta * np.abs(sigma[t-1])\n",
    "\n",
    "    # Calculate the sum of the Log-Likelihood contributions\n",
    "    univariate_log_likelihood = sum(univariate_log_likelihood_contribution(x[t], sigma[t]) for t in range(T))\n",
    "\n",
    "    # Return the Negative Log-Likelihood\n",
    "    return -univariate_log_likelihood\n",
    "\n",
    "\n",
    "\n",
    "# Minimize - total log-likelihood of the univariate volatility\n",
    "def estimate_univariate_models(x):\n",
    "    # Initial Guess for omega, alpha, beta\n",
    "    GARCH_guess = [0.002, 0.2, 0.7]\n",
    "\n",
    "    # Minimize the Negative Log-Likelihood Function\n",
    "    result = minimize(fun=total_univariate_log_likelihood, x0=GARCH_guess, args=(x,), bounds=[(0, None), (0, 1), (0, 1)])\n",
    "    #print(f\"Estimated parameters: omega = {result.x[0]}, alpha = {result.x[1]}, beta = {result.x[2]}\")\n",
    "\n",
    "    # Set Parameters\n",
    "    result_parameters = result.x\n",
    "\n",
    "    # Set Variance-Covariance Hessian\n",
    "    result_hessian = result.hess_inv.todense()  \n",
    "\n",
    "    # Set Standard Errors\n",
    "    result_se = np.sqrt(np.diagonal(result_hessian))\n",
    "\n",
    "\n",
    "    # Return Parameters and Information\n",
    "    return result_parameters, result_hessian, result_se\n",
    "\n",
    "# Get an array of univariate model parameters for all timeseries\n",
    "def estimate_univariate_parameters(data, labels):\n",
    "    # Create list to store univariate parameters, hessians, and standard errors\n",
    "    univariate_parameters = []\n",
    "    # univariate_hessians = []\n",
    "    # univariate_standard_errors = []\n",
    "\n",
    "    # Iterate over each time series in 'data' and estimate parameters\n",
    "    for i in range(data.shape[0]):  # data.shape[1] gives the number of time series (columns) in 'data'\n",
    "        result_parameters, result_hessian, result_se = estimate_univariate_models(data[:, i])\n",
    "        univariate_parameters.append(result_parameters)\n",
    "        # univariate_hessians.append(result_hessian)\n",
    "        # univariate_standard_errors.append(result_se)\n",
    "        # Print the label and the estimated parameters for each time series\n",
    "        print(f\"Time Series: {labels[i]}, \\n    Estimated parameters: \\n \\t omega = {result_parameters[0]}, \\n \\t alpha = {result_parameters[1]}, \\n \\t beta = {result_parameters[2]}\")\n",
    "    # Convert the lists of results to numpy arrayst \n",
    "    univariate_parameters_array = np.array(univariate_parameters)\n",
    "    # univariate_hessians_array = np.array(univariate_hessians)\n",
    "    # univariate_standard_errors_array = np.array(univariate_standard_errors)\n",
    "\n",
    "    # Return the results\n",
    "    return univariate_parameters_array# univariate_hessians_array, univariate_standard_errors_array\n",
    "\n",
    "    "
   ]
  },
  {
   "cell_type": "markdown",
   "id": "14f5c4b9-375e-4088-a398-094d78c30d9a",
   "metadata": {},
   "source": [
    "# Prepare Data, and Univariate Estimates"
   ]
  },
  {
   "cell_type": "code",
   "execution_count": 2,
   "id": "9fabf39b-b044-471f-a90b-b3d942045fcf",
   "metadata": {},
   "outputs": [
    {
     "name": "stdout",
     "output_type": "stream",
     "text": [
      "[[-0.00865484  0.00226501 -0.00251695 ...  0.00284831  0.\n",
      "  -0.00186524]\n",
      " [-0.00760105  0.00380779 -0.00281574 ...  0.00180645  0.00037766\n",
      "  -0.00289917]\n",
      " [ 0.01528296 -0.00569469 -0.00492796 ...  0.01756456 -0.0072895\n",
      "  -0.00906078]\n",
      " [-0.01795057 -0.00179055 -0.00044814 ...  0.00541476  0.00611772\n",
      "   0.00267991]]\n",
      "Time Series: ACWI, \n",
      "    Estimated parameters: \n",
      " \t omega = 0.0, \n",
      " \t alpha = 0.3663792777250711, \n",
      " \t beta = 0.8268134282476823\n",
      "Time Series: SPY, \n",
      "    Estimated parameters: \n",
      " \t omega = 0.00408796966852865, \n",
      " \t alpha = 0.0, \n",
      " \t beta = 1.3139136833135784e-06\n",
      "Time Series: TLT, \n",
      "    Estimated parameters: \n",
      " \t omega = 0.002995631734691551, \n",
      " \t alpha = 0.0, \n",
      " \t beta = 0.10675106378009898\n",
      "Time Series: VWO, \n",
      "    Estimated parameters: \n",
      " \t omega = 0.005544037001901222, \n",
      " \t alpha = 0.0, \n",
      " \t beta = 0.0002017569351851837\n"
     ]
    },
    {
     "data": {
      "text/plain": [
       "array([[0.00000000e+00, 3.66379278e-01, 8.26813428e-01],\n",
       "       [4.08796967e-03, 0.00000000e+00, 1.31391368e-06],\n",
       "       [2.99563173e-03, 0.00000000e+00, 1.06751064e-01],\n",
       "       [5.54403700e-03, 0.00000000e+00, 2.01756935e-04]])"
      ]
     },
     "execution_count": 2,
     "metadata": {},
     "output_type": "execute_result"
    }
   ],
   "source": [
    "df = pd.read_csv('3.csv')\n",
    "\n",
    "data, labels = df_to_array(df)\n",
    "print(data)\n",
    "N, T= data.shape\n",
    "# Estimate Univariate Parameters\n",
    "univ_params = estimate_univariate_parameters(data, labels)\n",
    "N,T\n",
    "univ_params"
   ]
  },
  {
   "cell_type": "markdown",
   "id": "ee618f31-b558-4e5b-94b5-f1954a67c08a",
   "metadata": {},
   "source": [
    "# Setup of functions for estimation\n"
   ]
  },
  {
   "cell_type": "code",
   "execution_count": 3,
   "id": "74979170-5a0b-4890-ac9e-8d06c04b9882",
   "metadata": {},
   "outputs": [],
   "source": [
    "# Forms the Correlation Matrix from RSDC_correlation_guess\n",
    "def form_correlation_matrix(multi_guess):\n",
    "    # Determine the size of the matrix\n",
    "    n = int(np.sqrt(len(multi_guess) * 2)) + 1\n",
    "    if len(multi_guess) != n*(n-1)//2:\n",
    "        raise ValueError(\"Invalid number of parameters for any symmetric matrix.\")\n",
    "    \n",
    "    # Create an identity matrix of size n\n",
    "    matrix = np.eye(n)\n",
    "    \n",
    "    # Fill in the off-diagonal elements\n",
    "    param_index = 0\n",
    "    for i in range(n):\n",
    "        for j in range(i + 1, n):\n",
    "            matrix[i, j] = matrix[j, i] = multi_guess[param_index]\n",
    "            param_index += 1\n",
    "            \n",
    "    return matrix\n",
    "\n",
    "\n",
    "# Calculate the Standard Deviations, sigma, from Univariate Estimates\n",
    "    # This could be done outside of the objective function? \n",
    "def calculate_standard_deviations(data, univariate_estimates):\n",
    "    # Get Data Dimensions\n",
    "    N,T = data.shape\n",
    "\n",
    "    # Create Array for Standard Deviations\n",
    "    standard_deviations = np.zeros((T,N))\n",
    "\n",
    "    # Calculate Sigmas for each timeseries\n",
    "    for i in range(N):\n",
    "        # Unpack Univariate Estimates\n",
    "        omega, alpha, beta = univariate_estimates[i]\n",
    "\n",
    "        # Create array for Sigma values\n",
    "        sigma = np.zeros(T)\n",
    "\n",
    "        # Set first observation of Sigma to Sample Variance\n",
    "        sigma[0] = np.sqrt(np.var(data[:, i]))\n",
    "\n",
    "        # Calculate Sigma[t]\n",
    "        for t in range(1, T):\n",
    "            sigma[t] = omega + alpha * np.abs(data[i,t-1]) + beta * np.abs(sigma[t-1])\n",
    "\n",
    "        # Save Sigmas to Standard Deviation Array\n",
    "        standard_deviations[:, i] = sigma\n",
    "\n",
    "    # Return array of all Standard Deviations\n",
    "    return standard_deviations\n",
    "\n",
    "\n",
    "# Creates a Diagonal Matrix of (N x N), with Standard Deviations on Diagonal, and zeros off the Diagonal\n",
    "def create_diagonal_matrix(t, std_array):\n",
    "    \"\"\"\n",
    "    Creates an N x N diagonal matrix with standard deviations at time t on the diagonal,\n",
    "    and zeros elsewhere. Here, N is the number of time series.\n",
    "\n",
    "    :param t: Integer, the time index for which the diagonal matrix is created.\n",
    "    :param standard_deviations: List of numpy arrays, each array contains the standard deviations over time for a variable.\n",
    "    :return: Numpy array, an N x N diagonal matrix with the standard deviations at time t on the diagonal.\n",
    "    \"\"\"\n",
    "    # Extract the standard deviations at time t for each series\n",
    "    stds_at_t = np.array(std_array[t,:])\n",
    "    \n",
    "    # Create a diagonal matrix with these values\n",
    "    diagonal_matrix = np.diag(stds_at_t)\n",
    "    \n",
    "    return diagonal_matrix\n",
    "\n",
    "\n",
    "\n",
    "\n",
    "# Check if a Correlation Matrix is PSD, Elements in [-1,1], and symmetric.\n",
    "def check_correlation_matrix_is_valid(correlation_matrix):\n",
    "    # Check diagonal elements are all 1\n",
    "    if not np.all(np.diag(correlation_matrix) == 1):\n",
    "        return False, \"Not all diagonal elements are 1.\"\n",
    "    \n",
    "    # Check off-diagonal elements are between -1 and 1\n",
    "    if not np.all((correlation_matrix >= -1) & (correlation_matrix <= 1)):\n",
    "        return False, \"Not all off-diagonal elements are between -1 and 1.\"\n",
    "    \n",
    "    # Check if the matrix is positive semi-definite\n",
    "    # A matrix is positive semi-definite if all its eigenvalues are non-negative.\n",
    "    eigenvalues = np.linalg.eigvals(correlation_matrix)\n",
    "    if np.any(eigenvalues < -0.5):\n",
    "        print(eigenvalues)\n",
    "        return False, \"The matrix is not positive semi-definite.\"\n",
    "    \n",
    "    return True, \"The matrix meets all criteria.\"\n"
   ]
  },
  {
   "cell_type": "code",
   "execution_count": null,
   "id": "4c4710a5-f5c6-4cfc-a8a8-f85b8db878d6",
   "metadata": {},
   "outputs": [],
   "source": []
  },
  {
   "cell_type": "markdown",
   "id": "bc191cb5-0c23-47c1-9f84-c6934a84c255",
   "metadata": {},
   "source": [
    "# The Likelihood Functions\n"
   ]
  },
  {
   "cell_type": "code",
   "execution_count": 4,
   "id": "4de8b4da-03e7-4aaa-9556-02509d1a2a6f",
   "metadata": {},
   "outputs": [],
   "source": [
    "def ccc_likelihood_contribution(t, data, R, standard_deviations):\n",
    "    # What we need in the terms:\n",
    "    data = data.T\n",
    "    D = create_diagonal_matrix(t, standard_deviations)\n",
    "    # R is defined in Total CCC Likelihood \n",
    "    \n",
    "\n",
    "    # Linear Algebra\n",
    "    det_D = np.linalg.det(D)\n",
    "    inv_D = np.linalg.inv(D)\n",
    "    det_R = np.linalg.det(R)\n",
    "    inv_R = np.linalg.inv(R)\n",
    "\n",
    "    # The Shock Term\n",
    "    z = inv_D @ data[t]\n",
    "\n",
    "    # The Terms of the Log Likelihood Contribution\n",
    "    term_1 = N * np.log(2 * np.pi)\n",
    "    term_2 = 2 * np.log(det_D) \n",
    "    term_3 = np.log(det_R)\n",
    "    term_4 = z.T @ inv_R @ z\n",
    "\n",
    "    log_likelihood_contribution = -0.5 * (term_1 + term_2 + term_3 + term_4)\n",
    "    return log_likelihood_contribution\n",
    "\n",
    "def Hamilton_Filter(data,random_guesses, standard_deviations):\n",
    "    # Get Shape of Data\n",
    "    N, T = data.shape\n",
    "\n",
    "    # Form the Correlation Matrix\n",
    "    R = form_correlation_matrix(random_guesses)\n",
    "    # Array for Log-Likelihoods Contributions\n",
    "    log_likelihood_contributions = np.zeros(T)\n",
    "\n",
    "    # The For Loop\n",
    "    for t in range(T):\n",
    "        log_likelihood_contributions[t] = ccc_likelihood_contribution(t, data, R, standard_deviations)\n",
    "\n",
    "    negative_likelihood = - np.sum(log_likelihood_contributions)\n",
    "    #print(negative_likelihood)\n",
    "    # Return Negative Likelihood\n",
    "    return negative_likelihood   "
   ]
  },
  {
   "cell_type": "markdown",
   "id": "eac09d98-c2d6-4882-bd91-f63acff96edf",
   "metadata": {},
   "source": [
    "# Minimize"
   ]
  },
  {
   "cell_type": "code",
   "execution_count": 5,
   "id": "26dcc5b6-8f32-42f3-a5f7-3d6f428e3dc2",
   "metadata": {},
   "outputs": [],
   "source": [
    "def fit(data):\n",
    "    number_of_correlation_parameters = N * (N - 1) / 2\n",
    "    \n",
    "    random_guesses = np.random.uniform(-0.5, 0.5, int(number_of_correlation_parameters)).tolist()\n",
    "    m_bounds = []\n",
    "    m_bounds += [(-0.99, 0.99)] * int(number_of_correlation_parameters)\n",
    "\n",
    "    print(random_guesses)\n",
    "    standard_deviations = np.zeros((N,T))\n",
    "    \n",
    "    standard_deviations = calculate_standard_deviations(data, univ_params)\n",
    "    def objective_function(random_guesses):\n",
    "        return Hamilton_Filter(data,random_guesses, standard_deviations)\n",
    "    result = minimize(objective_function, random_guesses, bounds=m_bounds, method='L-BFGS-B')\n",
    "    return result\n",
    "\n"
   ]
  },
  {
   "cell_type": "code",
   "execution_count": 10,
   "id": "5231d219-8760-46af-ab1e-94564937abb4",
   "metadata": {},
   "outputs": [
    {
     "name": "stdout",
     "output_type": "stream",
     "text": [
      "[0.0024200948483696916, 0.3077191795238656, -0.08101486874128327, -0.01390825385788419, -0.30945934455272317, 0.3534973501224088]\n"
     ]
    },
    {
     "data": {
      "text/plain": [
       "  message: CONVERGENCE: REL_REDUCTION_OF_F_<=_FACTR*EPSMCH\n",
       "  success: True\n",
       "   status: 0\n",
       "      fun: -2679.5858588767214\n",
       "        x: [ 1.524e-01 -1.636e-03  1.238e-01 -9.198e-02  4.664e-01\n",
       "            -5.327e-02]\n",
       "      nit: 11\n",
       "      jac: [ 3.001e-03 -6.503e-03 -9.186e-03  9.368e-03  5.275e-03\n",
       "             1.819e-03]\n",
       "     nfev: 91\n",
       "     njev: 13\n",
       " hess_inv: <6x6 LbfgsInvHessProduct with dtype=float64>"
      ]
     },
     "execution_count": 10,
     "metadata": {},
     "output_type": "execute_result"
    }
   ],
   "source": [
    "fitted = fit(data)\n",
    "fitted"
   ]
  },
  {
   "cell_type": "code",
   "execution_count": 11,
   "id": "8c178e26-f1d7-44ba-9e88-827f524a2508",
   "metadata": {},
   "outputs": [
    {
     "data": {
      "text/plain": [
       "array([[ 1.        ,  0.15236583, -0.00163577,  0.12375298],\n",
       "       [ 0.15236583,  1.        , -0.09197732,  0.46640269],\n",
       "       [-0.00163577, -0.09197732,  1.        , -0.05327369],\n",
       "       [ 0.12375298,  0.46640269, -0.05327369,  1.        ]])"
      ]
     },
     "execution_count": 11,
     "metadata": {},
     "output_type": "execute_result"
    }
   ],
   "source": [
    "result_matrix = form_correlation_matrix(fitted.x)\n",
    "result_matrix"
   ]
  },
  {
   "cell_type": "code",
   "execution_count": 12,
   "id": "39d2b31b-a761-4234-8758-ad01ddaeec71",
   "metadata": {},
   "outputs": [
    {
     "name": "stdout",
     "output_type": "stream",
     "text": [
      "4\n"
     ]
    },
    {
     "data": {
      "image/png": "[encoded data removed]",
      "text/plain": [
       "<Figure size 1800x900 with 4 Axes>"
      ]
     },
     "metadata": {},
     "output_type": "display_data"
    }
   ],
   "source": [
    "def plot_heatmaps(df, result_matrix, labels):\n",
    "    # Calculate the correlation matrix for the DataFrame\n",
    "    corr_matrix = df.corr()\n",
    "    dims, dimz = result_matrix.shape\n",
    "    print(dims)\n",
    "    # Set up the matplotlib figure with subplots\n",
    "    fig, ax = plt.subplots(1, 2, figsize=(18, 9))\n",
    "    \n",
    "    # Plot the Unconditional Correlation heatmap\n",
    "    sns.heatmap(corr_matrix, ax=ax[0], annot=True, cmap='coolwarm')\n",
    "    ax[0].set_title('Unconditional Correlation')\n",
    "    \n",
    "    # Plot the Conditional Correlation heatmap\n",
    "    sns.heatmap(result_matrix, ax=ax[1], annot=True, cmap='coolwarm', xticklabels=labels, yticklabels=labels)\n",
    "    ax[1].set_title('Conditional Correlation')\n",
    "    \n",
    "    # Adjust layout for better appearance\n",
    "    plt.tight_layout()\n",
    "    \n",
    "    # Save the figure\n",
    "    plt.savefig(f'f Heatmaps {dims}.png')\n",
    "    \n",
    "    # Show the plot\n",
    "    plt.show()\n",
    "\n",
    "# Example usage (note: you need to have a DataFrame `df` and a `result_matrix` variable ready for this to work):\n",
    "# plot_side_by_side_heatmaps(df, result_matrix, labels)\n",
    "\n",
    "# This function assumes you have a DataFrame `df`, a result matrix `result_matrix`, and a list of labels `labels`.\n",
    "# Replace 'df', 'result_matrix', and 'labels' with your actual data variables when using this function.\n",
    "plot_heatmaps(df, result_matrix, labels)"
   ]
  },
  {
   "cell_type": "code",
   "execution_count": null,
   "id": "78e7e955-4a91-48f7-937b-d89be69ef779",
   "metadata": {},
   "outputs": [],
   "source": []
  }
 ],
 "metadata": {
  "kernelspec": {
   "display_name": "Python 3 (ipykernel)",
   "language": "python",
   "name": "python3"
  },
  "language_info": {
   "codemirror_mode": {
    "name": "ipython",
    "version": 3
   },
   "file_extension": ".py",
   "mimetype": "text/x-python",
   "name": "python",
   "nbconvert_exporter": "python",
   "pygments_lexer": "ipython3",
   "version": "3.11.6"
  }
 },
 "nbformat": 4,
 "nbformat_minor": 5
}
