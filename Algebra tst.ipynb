{
 "cells": [
  {
   "cell_type": "code",
   "execution_count": 4,
   "id": "fe0fc898-5fea-4c5e-9cf3-6aeef1db2fe6",
   "metadata": {},
   "outputs": [],
   "source": [
    "import numpy as np\n",
    "decimals = np.array([0.2, 0.2, 0.2, 0.2, 0.2])\n",
    "probs = np.ones(5)\n",
    "one = np.ones(5).T"
   ]
  },
  {
   "cell_type": "code",
   "execution_count": 19,
   "id": "867ea307-4b1c-489e-9a2f-02d7377ddfb3",
   "metadata": {},
   "outputs": [
    {
     "name": "stdout",
     "output_type": "stream",
     "text": [
      "[1. 1. 1. 1. 1.]\n"
     ]
    }
   ],
   "source": [
    "print(one)\n",
    "dots = one.dot(one)"
   ]
  },
  {
   "cell_type": "code",
   "execution_count": 20,
   "id": "fecbd2b3-0763-4b95-a763-9a9053e29ef4",
   "metadata": {},
   "outputs": [
    {
     "name": "stdout",
     "output_type": "stream",
     "text": [
      "[0.04 0.04 0.04 0.04 0.04]\n"
     ]
    }
   ],
   "source": [
    "print(decimals / dots)"
   ]
  },
  {
   "cell_type": "code",
   "execution_count": null,
   "id": "2638eb2d-885a-476a-9d54-e18e7eb390b9",
   "metadata": {},
   "outputs": [],
   "source": []
  },
  {
   "cell_type": "code",
   "execution_count": null,
   "id": "fe1183f7-2a48-48fa-8217-f4bf7acd47ac",
   "metadata": {},
   "outputs": [],
   "source": []
  },
  {
   "cell_type": "code",
   "execution_count": null,
   "id": "c8ff855b-080e-4721-b3af-b2b9034e9161",
   "metadata": {},
   "outputs": [],
   "source": []
  }
 ],
 "metadata": {
  "kernelspec": {
   "display_name": "Python 3 (ipykernel)",
   "language": "python",
   "name": "python3"
  },
  "language_info": {
   "codemirror_mode": {
    "name": "ipython",
    "version": 3
   },
   "file_extension": ".py",
   "mimetype": "text/x-python",
   "name": "python",
   "nbconvert_exporter": "python",
   "pygments_lexer": "ipython3",
   "version": "3.11.6"
  }
 },
 "nbformat": 4,
 "nbformat_minor": 5
}
