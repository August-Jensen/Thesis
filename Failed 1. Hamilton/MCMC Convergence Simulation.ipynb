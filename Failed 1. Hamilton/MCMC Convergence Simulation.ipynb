{
 "cells": [
  {
   "cell_type": "markdown",
   "id": "2f5d47a9-f3be-444e-9f91-c85904cb2943",
   "metadata": {},
   "source": [
    "# RSDC Estimator\n",
    "\n",
    "1. Import\n",
    "2. Function Overview\n",
    "\n",
    "\n",
    "Additional Outputs Provided by L-BFGS-B\n",
    "\n",
    "    fun: The value of the objective function evaluated at the optimal point. This gives you an idea of how well the model fits the data or the minimized loss.\n",
    "\n",
    "    jac: The gradient of the objective function at the optimal point. Ideally, this should be close to zero in all dimensions, indicating a minimum.\n",
    "\n",
    "    nit: The number of iterations taken to converge to the solution. This can give you an idea of the computational effort required.\n",
    "\n",
    "    status: An integer flag indicating whether the optimizer terminated successfully. A value of 0 indicates success.\n",
    "\n",
    "    message: A description of the cause of the termination. This can be useful for debugging or understanding why the optimization stopped.\n",
    "\n",
    "    success: A boolean flag indicating whether the optimization was successful."
   ]
  },
  {
   "cell_type": "code",
   "execution_count": null,
   "id": "7e7bedfc-76c9-48ab-af8d-dd52a7e5824a",
   "metadata": {},
   "outputs": [],
   "source": []
  },
  {
   "cell_type": "code",
   "execution_count": 6,
   "id": "dd14b096-ad9d-445c-8f27-2c0d20fd1a60",
   "metadata": {},
   "outputs": [
    {
     "name": "stdout",
     "output_type": "stream",
     "text": [
      "0.0\n",
      "0.0\n",
      "1.0\n",
      "3.0\n",
      "6.0\n",
      "10.0\n",
      "15.0\n",
      "21.0\n",
      "28.0\n",
      "36.0\n"
     ]
    }
   ],
   "source": [
    "def number_of_correlation_parameters(N):\n",
    "\t\"\"\"\n",
    "\tTakes the data.shape's N, \n",
    "\n",
    "\tReturns\tN*(N-1)/2\n",
    "\t\"\"\"\n",
    "\tnumber_of_correlation_parameters = N * (N - 1) / 2\n",
    "\t\n",
    "\treturn number_of_correlation_parameters\n",
    "\n",
    "for i in range(10):\n",
    "    x = number_of_correlation_parameters(i)\n",
    "    print(x)\n",
    "    "
   ]
  },
  {
   "cell_type": "code",
   "execution_count": null,
   "id": "0d94c7d3-3f64-47bb-be06-7a5f32250ff4",
   "metadata": {},
   "outputs": [],
   "source": []
  },
  {
   "cell_type": "code",
   "execution_count": null,
   "id": "250d5e4b-8600-484b-a6ad-8e14f168e08a",
   "metadata": {},
   "outputs": [],
   "source": []
  },
  {
   "cell_type": "code",
   "execution_count": null,
   "id": "77803fe9-3bd0-42bc-a9d1-11429f413b4c",
   "metadata": {},
   "outputs": [],
   "source": []
  },
  {
   "cell_type": "code",
   "execution_count": null,
   "id": "59eca5b3-51bd-46a2-accc-22069462b83f",
   "metadata": {},
   "outputs": [],
   "source": []
  },
  {
   "cell_type": "code",
   "execution_count": null,
   "id": "f404c37d-e4d9-4a89-bc1f-6af927205325",
   "metadata": {},
   "outputs": [],
   "source": []
  },
  {
   "cell_type": "code",
   "execution_count": null,
   "id": "bdab653a-ee88-4881-9c7f-38b538b95bbe",
   "metadata": {},
   "outputs": [],
   "source": []
  },
  {
   "cell_type": "code",
   "execution_count": null,
   "id": "6f8dce2d-9797-4319-9923-e6925a79c17c",
   "metadata": {},
   "outputs": [],
   "source": []
  }
 ],
 "metadata": {
  "kernelspec": {
   "display_name": "Python 3 (ipykernel)",
   "language": "python",
   "name": "python3"
  },
  "language_info": {
   "codemirror_mode": {
    "name": "ipython",
    "version": 3
   },
   "file_extension": ".py",
   "mimetype": "text/x-python",
   "name": "python",
   "nbconvert_exporter": "python",
   "pygments_lexer": "ipython3",
   "version": "3.11.6"
  }
 },
 "nbformat": 4,
 "nbformat_minor": 5
}
