{
 "cells": [
  {
   "cell_type": "code",
   "execution_count": 1,
   "id": "427ba791-d8bb-48c5-8edd-c9dab6743b85",
   "metadata": {},
   "outputs": [
    {
     "data": {
      "text/html": [
       "<div>\n",
       "<style scoped>\n",
       "    .dataframe tbody tr th:only-of-type {\n",
       "        vertical-align: middle;\n",
       "    }\n",
       "\n",
       "    .dataframe tbody tr th {\n",
       "        vertical-align: top;\n",
       "    }\n",
       "\n",
       "    .dataframe thead th {\n",
       "        text-align: right;\n",
       "    }\n",
       "</style>\n",
       "<table border=\"1\" class=\"dataframe\">\n",
       "  <thead>\n",
       "    <tr style=\"text-align: right;\">\n",
       "      <th></th>\n",
       "      <th>Returns 0</th>\n",
       "      <th>Returns 1</th>\n",
       "    </tr>\n",
       "  </thead>\n",
       "  <tbody>\n",
       "    <tr>\n",
       "      <th>0</th>\n",
       "      <td>0.068796</td>\n",
       "      <td>-0.032160</td>\n",
       "    </tr>\n",
       "    <tr>\n",
       "      <th>1</th>\n",
       "      <td>-0.248224</td>\n",
       "      <td>0.217680</td>\n",
       "    </tr>\n",
       "    <tr>\n",
       "      <th>2</th>\n",
       "      <td>0.081831</td>\n",
       "      <td>0.141665</td>\n",
       "    </tr>\n",
       "    <tr>\n",
       "      <th>3</th>\n",
       "      <td>0.350879</td>\n",
       "      <td>-0.188800</td>\n",
       "    </tr>\n",
       "    <tr>\n",
       "      <th>4</th>\n",
       "      <td>0.114939</td>\n",
       "      <td>0.001599</td>\n",
       "    </tr>\n",
       "    <tr>\n",
       "      <th>...</th>\n",
       "      <td>...</td>\n",
       "      <td>...</td>\n",
       "    </tr>\n",
       "    <tr>\n",
       "      <th>995</th>\n",
       "      <td>0.989360</td>\n",
       "      <td>0.053908</td>\n",
       "    </tr>\n",
       "    <tr>\n",
       "      <th>996</th>\n",
       "      <td>-0.078147</td>\n",
       "      <td>0.094260</td>\n",
       "    </tr>\n",
       "    <tr>\n",
       "      <th>997</th>\n",
       "      <td>-0.043065</td>\n",
       "      <td>-0.106958</td>\n",
       "    </tr>\n",
       "    <tr>\n",
       "      <th>998</th>\n",
       "      <td>-0.966198</td>\n",
       "      <td>0.003422</td>\n",
       "    </tr>\n",
       "    <tr>\n",
       "      <th>999</th>\n",
       "      <td>-0.168490</td>\n",
       "      <td>-0.078871</td>\n",
       "    </tr>\n",
       "  </tbody>\n",
       "</table>\n",
       "<p>1000 rows × 2 columns</p>\n",
       "</div>"
      ],
      "text/plain": [
       "     Returns 0  Returns 1\n",
       "0     0.068796  -0.032160\n",
       "1    -0.248224   0.217680\n",
       "2     0.081831   0.141665\n",
       "3     0.350879  -0.188800\n",
       "4     0.114939   0.001599\n",
       "..         ...        ...\n",
       "995   0.989360   0.053908\n",
       "996  -0.078147   0.094260\n",
       "997  -0.043065  -0.106958\n",
       "998  -0.966198   0.003422\n",
       "999  -0.168490  -0.078871\n",
       "\n",
       "[1000 rows x 2 columns]"
      ]
     },
     "execution_count": 1,
     "metadata": {},
     "output_type": "execute_result"
    }
   ],
   "source": [
    "from Tools import RSDC as RSDCsim\n",
    "import numpy as np\n",
    "import pandas as pd\n",
    "from scipy.stats import norm\n",
    "import Libraries.Hmm \n",
    "import Tools \n",
    "import time\n",
    "\n",
    "# Start timing\n",
    "# start_time = time.time()\n",
    "# reload(EM)\n",
    "# from EM import Base\n",
    "O = 1000\n",
    "K = 2\n",
    "N = 2\n",
    "\n",
    "sim = RSDCsim(n_states=N, K_series = K, num_obs = O, rho=[-0.5, 0.6], omega =[0.1, 0.05], alpha=[0.1, 0.2], beta=[0.8, 0.6], transition_diagonal=0.99, deterministic=True) #sigmas = [[0,0]]\n",
    "sim.simulate()\n",
    "df = sim.data\n",
    "sim.parameters = np.zeros((sim.n_states, 3))\n",
    "sim.parameters[:,0] = sim.omega\n",
    "sim.parameters[:,1] = sim.alpha\n",
    "sim.parameters[:,2] = sim.beta\n",
    "df"
   ]
  },
  {
   "cell_type": "code",
   "execution_count": 2,
   "id": "1bd6ce1b-2da6-4fc5-ad75-b2f54a063abe",
   "metadata": {},
   "outputs": [
    {
     "data": {
      "text/plain": [
       "array([[0.1 , 0.1 , 0.8 ],\n",
       "       [0.05, 0.2 , 0.6 ]])"
      ]
     },
     "execution_count": 2,
     "metadata": {},
     "output_type": "execute_result"
    }
   ],
   "source": [
    "sim.parameters"
   ]
  },
  {
   "cell_type": "code",
   "execution_count": 3,
   "id": "91c097ed-da8f-4b1a-b549-38ac16933182",
   "metadata": {},
   "outputs": [
    {
     "name": "stderr",
     "output_type": "stream",
     "text": [
      "Fitting Model:  26%|███████                    | 26/100 [00:03<00:10,  7.00it/s]\n"
     ]
    },
    {
     "name": "stdout",
     "output_type": "stream",
     "text": [
      "The model converged!\n",
      "[-0.94075537 -0.04998588]\n"
     ]
    },
    {
     "name": "stderr",
     "output_type": "stream",
     "text": [
      "Fitting Model:   9%|██▌                         | 9/100 [00:01<00:16,  5.40it/s]"
     ]
    },
    {
     "name": "stdout",
     "output_type": "stream",
     "text": [
      "The model converged!\n",
      "[0.51638438 0.51616029]\n"
     ]
    },
    {
     "name": "stderr",
     "output_type": "stream",
     "text": [
      "\n",
      "Fitting Model:  17%|████▌                      | 17/100 [00:02<00:13,  6.06it/s]\n"
     ]
    },
    {
     "name": "stdout",
     "output_type": "stream",
     "text": [
      "The model converged!\n",
      "[-0.81606825  0.29958114]\n"
     ]
    },
    {
     "name": "stderr",
     "output_type": "stream",
     "text": [
      "Fitting Model:  21%|█████▋                     | 21/100 [00:03<00:12,  6.25it/s]\n"
     ]
    },
    {
     "name": "stdout",
     "output_type": "stream",
     "text": [
      "The model converged!\n",
      "[-0.60058176 -0.60108205]\n"
     ]
    },
    {
     "name": "stderr",
     "output_type": "stream",
     "text": [
      "Fitting Model:  26%|███████                    | 26/100 [00:04<00:12,  6.16it/s]\n"
     ]
    },
    {
     "name": "stdout",
     "output_type": "stream",
     "text": [
      "The model converged!\n",
      "[-0.8485787   0.23817056]\n"
     ]
    },
    {
     "name": "stderr",
     "output_type": "stream",
     "text": [
      "Fitting Model:  12%|███▏                       | 12/100 [00:02<00:15,  5.68it/s]\n"
     ]
    },
    {
     "name": "stdout",
     "output_type": "stream",
     "text": [
      "The model converged!\n",
      "[-0.92783987  0.2421737 ]\n"
     ]
    },
    {
     "name": "stderr",
     "output_type": "stream",
     "text": [
      "Fitting Model:  25%|██████▊                    | 25/100 [00:04<00:12,  5.89it/s]\n"
     ]
    },
    {
     "name": "stdout",
     "output_type": "stream",
     "text": [
      "The model converged!\n",
      "[-0.63685823  0.96633611]\n"
     ]
    },
    {
     "name": "stderr",
     "output_type": "stream",
     "text": [
      "Fitting Model: 100%|██████████████████████████| 100/100 [00:16<00:00,  6.06it/s]\n"
     ]
    },
    {
     "name": "stdout",
     "output_type": "stream",
     "text": [
      "[-0.44469056 -0.36344428]\n"
     ]
    },
    {
     "name": "stderr",
     "output_type": "stream",
     "text": [
      "Fitting Model:   9%|██▌                         | 9/100 [00:01<00:17,  5.11it/s]\n"
     ]
    },
    {
     "ename": "KeyboardInterrupt",
     "evalue": "",
     "output_type": "error",
     "traceback": [
      "\u001b[0;31m---------------------------------------------------------------------------\u001b[0m",
      "\u001b[0;31mKeyboardInterrupt\u001b[0m                         Traceback (most recent call last)",
      "Cell \u001b[0;32mIn[3], line 42\u001b[0m\n\u001b[1;32m     40\u001b[0m \u001b[38;5;28;01mfor\u001b[39;00m i \u001b[38;5;129;01min\u001b[39;00m \u001b[38;5;28mrange\u001b[39m(n_iterations):\n\u001b[1;32m     41\u001b[0m     sim, simulated_data, sim_param \u001b[38;5;241m=\u001b[39m simulate_RSDC()\n\u001b[0;32m---> 42\u001b[0m     model, estimated_params \u001b[38;5;241m=\u001b[39m \u001b[43mestimate_RSDCEM\u001b[49m\u001b[43m(\u001b[49m\u001b[43msimulated_data\u001b[49m\u001b[43m,\u001b[49m\u001b[43m \u001b[49m\u001b[43mN\u001b[49m\u001b[38;5;241;43m=\u001b[39;49m\u001b[43mN\u001b[49m\u001b[43m,\u001b[49m\u001b[43m \u001b[49m\u001b[43muni_params\u001b[49m\u001b[38;5;241;43m=\u001b[39;49m\u001b[43msim_param\u001b[49m\u001b[43m)\u001b[49m\n\u001b[1;32m     43\u001b[0m     \u001b[38;5;28mprint\u001b[39m(estimated_params)\n\u001b[1;32m     44\u001b[0m     \u001b[38;5;66;03m# Calculate differences\u001b[39;00m\n",
      "Cell \u001b[0;32mIn[3], line 29\u001b[0m, in \u001b[0;36mestimate_RSDCEM\u001b[0;34m(simulated_data, N, uni_params)\u001b[0m\n\u001b[1;32m     25\u001b[0m \u001b[38;5;28;01mdef\u001b[39;00m \u001b[38;5;21mestimate_RSDCEM\u001b[39m(simulated_data,N, uni_params):\n\u001b[1;32m     26\u001b[0m     \u001b[38;5;66;03m# Estimate the RSDC model using RSDCEM\u001b[39;00m\n\u001b[1;32m     27\u001b[0m     \u001b[38;5;66;03m# Return estimated rho values\u001b[39;00m\n\u001b[1;32m     28\u001b[0m     model \u001b[38;5;241m=\u001b[39m RSDC(simulated_data, n_states\u001b[38;5;241m=\u001b[39mN, univariate_parameters\u001b[38;5;241m=\u001b[39muni_params, max_iterations\u001b[38;5;241m=\u001b[39m\u001b[38;5;241m100\u001b[39m)\n\u001b[0;32m---> 29\u001b[0m     \u001b[43mmodel\u001b[49m\u001b[38;5;241;43m.\u001b[39;49m\u001b[43mfit\u001b[49m\u001b[43m(\u001b[49m\u001b[43m)\u001b[49m\n\u001b[1;32m     30\u001b[0m     \u001b[38;5;28;01mreturn\u001b[39;00m model, model\u001b[38;5;241m.\u001b[39mparameters\n",
      "File \u001b[0;32m~/code/jupyter/Thesis/Projects/Libraries/Hmm.py:143\u001b[0m, in \u001b[0;36mBase.fit\u001b[0;34m(self)\u001b[0m\n\u001b[1;32m    139\u001b[0m \u001b[38;5;28;01mdef\u001b[39;00m \u001b[38;5;21mfit\u001b[39m(\u001b[38;5;28mself\u001b[39m):\n\u001b[1;32m    140\u001b[0m     \u001b[38;5;66;03m# Run the EM for loop\u001b[39;00m\n\u001b[1;32m    141\u001b[0m     \u001b[38;5;28;01mfor\u001b[39;00m iteration \u001b[38;5;129;01min\u001b[39;00m tqdm(\u001b[38;5;28mrange\u001b[39m(\u001b[38;5;28mself\u001b[39m\u001b[38;5;241m.\u001b[39mmax_iterations), desc\u001b[38;5;241m=\u001b[39m\u001b[38;5;124m'\u001b[39m\u001b[38;5;124mFitting Model\u001b[39m\u001b[38;5;124m'\u001b[39m):\n\u001b[1;32m    142\u001b[0m         \u001b[38;5;66;03m# Run the E-Step\u001b[39;00m\n\u001b[0;32m--> 143\u001b[0m         \u001b[38;5;28;43mself\u001b[39;49m\u001b[38;5;241;43m.\u001b[39;49m\u001b[43mE_Step\u001b[49m\u001b[43m(\u001b[49m\u001b[43m)\u001b[49m\n\u001b[1;32m    145\u001b[0m         \u001b[38;5;66;03m# Run the M-Step\u001b[39;00m\n\u001b[1;32m    146\u001b[0m         \u001b[38;5;28mself\u001b[39m\u001b[38;5;241m.\u001b[39mM_Step()\n",
      "File \u001b[0;32m~/code/jupyter/Thesis/Projects/Libraries/Hmm.py:161\u001b[0m, in \u001b[0;36mBase.E_Step\u001b[0;34m(self)\u001b[0m\n\u001b[1;32m    158\u001b[0m \u001b[38;5;28mself\u001b[39m\u001b[38;5;241m.\u001b[39mget_densities()\n\u001b[1;32m    160\u001b[0m \u001b[38;5;66;03m# Forward Pass\u001b[39;00m\n\u001b[0;32m--> 161\u001b[0m \u001b[38;5;28;43mself\u001b[39;49m\u001b[38;5;241;43m.\u001b[39;49m\u001b[43mforward_pass\u001b[49m\u001b[43m(\u001b[49m\u001b[43m)\u001b[49m\n\u001b[1;32m    163\u001b[0m \u001b[38;5;66;03m# Backward Pass\u001b[39;00m\n\u001b[1;32m    164\u001b[0m \u001b[38;5;28mself\u001b[39m\u001b[38;5;241m.\u001b[39mbackward_pass()\n",
      "File \u001b[0;32m~/code/jupyter/Thesis/Projects/Libraries/Hmm.py:244\u001b[0m, in \u001b[0;36mBase.forward_pass\u001b[0;34m(self)\u001b[0m\n\u001b[1;32m    242\u001b[0m     \u001b[38;5;66;03m# Scale forward_probabilities values to prevent underflow\u001b[39;00m\n\u001b[1;32m    243\u001b[0m     scale_factors[t] \u001b[38;5;241m=\u001b[39m \u001b[38;5;241m1.0\u001b[39m \u001b[38;5;241m/\u001b[39m np\u001b[38;5;241m.\u001b[39msum(forward_probabilities[:, t], axis\u001b[38;5;241m=\u001b[39m\u001b[38;5;241m0\u001b[39m)\n\u001b[0;32m--> 244\u001b[0m     forward_probabilities[:, t] \u001b[38;5;241m*\u001b[39m\u001b[38;5;241m=\u001b[39m scale_factors[t, np\u001b[38;5;241m.\u001b[39mnewaxis]\n\u001b[1;32m    246\u001b[0m \u001b[38;5;28mself\u001b[39m\u001b[38;5;241m.\u001b[39mforward_probabilities \u001b[38;5;241m=\u001b[39m forward_probabilities\n\u001b[1;32m    247\u001b[0m \u001b[38;5;28mself\u001b[39m\u001b[38;5;241m.\u001b[39mscale_factors \u001b[38;5;241m=\u001b[39m scale_factors\n",
      "\u001b[0;31mKeyboardInterrupt\u001b[0m: "
     ]
    }
   ],
   "source": [
    "from Libraries.Hmm import RSDC \n",
    "# reload(EM)\n",
    "# from EM import Base\n",
    "O = 10000\n",
    "K = 2\n",
    "N = 2\n",
    "\n",
    "import numpy as np\n",
    "import pandas as pd\n",
    "import matplotlib.pyplot as plt\n",
    "\n",
    "    # Placeholder for your simulation and estimation functions\n",
    "    # Since I can't run your specific RSDC and RSDCEM classes, I'm using placeholders\n",
    "\n",
    "def simulate_RSDC():\n",
    "    sim = RSDCsim(n_states=N, K_series = K, num_obs = O, rho=[-0.5, 0.6], omega =[0.1, 0.05], alpha=[0.1, 0.2], beta=[0.8, 0.6], transition_diagonal=0.99, deterministic=True)\n",
    "    sim.simulate()\n",
    "    sim_param = np.zeros((sim.n_states, 3))\n",
    "    sim_param[:,0] = sim.omega\n",
    "    sim_param[:,1] = sim.alpha\n",
    "    sim_param[:,2] = sim.beta\n",
    "    simulated_data = sim.data\n",
    "    return sim, simulated_data, sim_param\n",
    "    \n",
    "def estimate_RSDCEM(simulated_data,N, uni_params):\n",
    "    # Estimate the RSDC model using RSDCEM\n",
    "    # Return estimated rho values\n",
    "    model = RSDC(simulated_data, n_states=N, univariate_parameters=uni_params, max_iterations=100)\n",
    "    model.fit()\n",
    "    return model, model.parameters\n",
    "\n",
    "# Initialize lists to store the differences\n",
    "\n",
    "n_iterations = 100\n",
    "plot_every = 1\n",
    "smallest_plus_half = np.zeros(n_iterations)\n",
    "largest_minus_six_tenths = np.zeros(n_iterations)\n",
    "sum_smallest_largest = np.zeros(n_iterations)\n",
    "\n",
    "for i in range(n_iterations):\n",
    "    sim, simulated_data, sim_param = simulate_RSDC()\n",
    "    model, estimated_params = estimate_RSDCEM(simulated_data, N=N, uni_params=sim_param)\n",
    "    print(estimated_params)\n",
    "    # Calculate differences\n",
    "    smallest_value = np.min(estimated_params[:])\n",
    "    largest_value = np.max(estimated_params[:])\n",
    "\n",
    "    smallest_plus_half[i] = smallest_value + 0.5\n",
    "    largest_minus_six_tenths[i] = largest_value - 0.6\n",
    "    sum_smallest_largest[i] = smallest_plus_half[i] + largest_minus_six_tenths[i]\n",
    "\n",
    "    if (i + 1) % plot_every == 0:\n",
    "        plt.figure(figsize=(15, 5))  # Adjust the figure size as needed\n",
    "    \n",
    "\n",
    "    \n",
    "        # Plot 1: Smallest rho difference + 0.5\n",
    "        plt.subplot(1, 3, 1)\n",
    "        plt.hist(smallest_plus_half, bins=30, color='blue', alpha=0.7)\n",
    "        plt.title('Smallest Rho Diff + 0.5')\n",
    "    \n",
    "        # Plot 2: Largest rho difference - 0.6\n",
    "        plt.subplot(1, 3, 2)\n",
    "        plt.hist(largest_minus_six_tenths, bins=30, color='red', alpha=0.7)\n",
    "        plt.title('Largest Rho Diff - 0.6')\n",
    "    \n",
    "        # Plot 3: Sum of Smallest + Largest Rho Differences\n",
    "        plt.subplot(1, 3, 3)\n",
    "        plt.hist(sum_smallest_largest, bins=30, color='green', alpha=0.7)\n",
    "        plt.title('Sum of Smallest + Largest Rho Diff')\n",
    "    \n",
    "        plt.tight_layout()\n",
    "        plt.savefig(f'RSDC Convergence, iteration {i+1}.png')\n",
    "        plt.close()\n"
   ]
  },
  {
   "cell_type": "code",
   "execution_count": null,
   "id": "bfcec246-beb3-4b2e-b013-a279ceb2374d",
   "metadata": {},
   "outputs": [],
   "source": []
  },
  {
   "cell_type": "code",
   "execution_count": null,
   "id": "4bcc3a58-9f11-48dd-86e5-6cd18367e248",
   "metadata": {},
   "outputs": [],
   "source": []
  }
 ],
 "metadata": {
  "kernelspec": {
   "display_name": "Python 3 (ipykernel)",
   "language": "python",
   "name": "python3"
  },
  "language_info": {
   "codemirror_mode": {
    "name": "ipython",
    "version": 3
   },
   "file_extension": ".py",
   "mimetype": "text/x-python",
   "name": "python",
   "nbconvert_exporter": "python",
   "pygments_lexer": "ipython3",
   "version": "3.11.6"
  }
 },
 "nbformat": 4,
 "nbformat_minor": 5
}
