{
 "cells": [
  {
   "cell_type": "code",
   "execution_count": 1,
   "metadata": {},
   "outputs": [],
   "source": [
    "#Importing packages we need\n",
    "from numpy import genfromtxt #This is used to loading a csv-file as a numpy array\n",
    "import numpy as np\n",
    "import scipy.optimize as opt #used to numerically optimize\n",
    "import matplotlib.pyplot as plt #pyplot is used to plot the data\n",
    "import pandas as pd\n",
    "from matplotlib import cm"
   ]
  },
  {
   "cell_type": "code",
   "execution_count": 2,
   "metadata": {},
   "outputs": [],
   "source": [
    "#Loading data (here we use the data we simulated in our earlier script)\n",
    "\n",
    "#Locate my folder\n",
    "my_folder='C:/Users/vjule/OneDrive/Dokumenter/Diverse/Cornell/Courses/PhD_seminar_Market_microstructure_NRE5060/My_project/Data/'\n",
    "\n",
    "x_val = genfromtxt(my_folder+'GARCH11sim.csv', delimiter=',') #loading the csv data and storing it as a np array"
   ]
  },
  {
   "cell_type": "code",
   "execution_count": 10,
   "metadata": {},
   "outputs": [],
   "source": [
    "def ARCH11_filter(omega, alpha,x_values): #function to find sigma^2 from observations\n",
    "    T=len(x_values)\n",
    "    \n",
    "    #Define the series sigma^2_t (sigma2) as empty variables we assign values to later. \n",
    "    sigma2=np.empty(T)\n",
    "    \n",
    "    sigma2[0]=1\n",
    "    \n",
    "    for t in range(1,T):\n",
    "        sigma2[t]=omega + alpha*x_values[t-1]**2\n",
    "    \n",
    "    return sigma2\n",
    "\n",
    "def ARCH11_likelihood(omega,alpha):\n",
    "    \n",
    "    sigma2=ARCH11_filter(omega, alpha, x_val)\n",
    "    \n",
    "    LogL=-np.sum(-np.log(sigma2)-x_val**2/sigma2) #Constants have been removed from the expression\n",
    "    #Note we take the expression and multiply with (-1) as we are going to minimize the function in the optimization\n",
    "    \n",
    "    return LogL\n",
    "\n",
    "def optim(theta): #defining an optimization function that can change on parameters omega and alpha\n",
    "    ome,alp=theta\n",
    "    return ARCH11_likelihood(ome, alp)"
   ]
  },
  {
   "cell_type": "code",
   "execution_count": 11,
   "metadata": {},
   "outputs": [],
   "source": [
    "theta0=np.array([0.25,2]) #initial guesses\n",
    "res=opt.minimize(optim, theta0, bounds=((0.0001,None),(0,None)))"
   ]
  },
  {
   "cell_type": "code",
   "execution_count": 14,
   "metadata": {},
   "outputs": [],
   "source": [
    "#Now computing Standard errors\n",
    "v_hessian=res.hess_inv.todense() #retrieves the negative inverse hessian matrix (note we have minimized the negative log likelihood function)\n",
    "se_hessian=np.sqrt(np.diagonal(v_hessian))"
   ]
  },
  {
   "cell_type": "code",
   "execution_count": 19,
   "metadata": {},
   "outputs": [],
   "source": [
    "#res.x gives the parameter estimate(s)\n",
    "omega_hat=res.x[0]\n",
    "alpha_hat=res.x[1] "
   ]
  },
  {
   "cell_type": "code",
   "execution_count": 20,
   "metadata": {},
   "outputs": [
    {
     "name": "stdout",
     "output_type": "stream",
     "text": [
      "Estimates are given by with std. errors in ():\n",
      "omega_hat= 0.9080608657571719 (0.047396575848710626)  -> T-val=19.15878625189492\n",
      "alpha_hat= 0.5578816484391389 (0.04652641332333561)  -> T-val=11.990643778237036\n",
      "Maximized log-likelihood (without constants) 1453.4997891749692\n"
     ]
    }
   ],
   "source": [
    "print('Estimates are given by with std. errors in ():')\n",
    "print('omega_hat= '+str(omega_hat)+' (' +str(se_hessian[0])+')'+' ' ' -> T-val=' +str(omega_hat/se_hessian[0])+'' )\n",
    "print('alpha_hat= '+str(alpha_hat)+' (' +str(se_hessian[1])+')'+' ' ' -> T-val=' +str(alpha_hat/se_hessian[1])+'' )\n",
    "print('Maximized log-likelihood (without constants) ' +str(ARCH11_likelihood(omega_hat,alpha_hat)))"
   ]
  },
  {
   "cell_type": "code",
   "execution_count": null,
   "metadata": {},
   "outputs": [],
   "source": []
  }
 ],
 "metadata": {
  "kernelspec": {
   "display_name": "Python 3 (ipykernel)",
   "language": "python",
   "name": "python3"
  },
  "language_info": {
   "codemirror_mode": {
    "name": "ipython",
    "version": 3
   },
   "file_extension": ".py",
   "mimetype": "text/x-python",
   "name": "python",
   "nbconvert_exporter": "python",
   "pygments_lexer": "ipython3",
   "version": "3.11.6"
  }
 },
 "nbformat": 4,
 "nbformat_minor": 4
}
