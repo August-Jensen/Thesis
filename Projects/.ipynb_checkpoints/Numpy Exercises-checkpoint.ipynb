{
 "cells": [
  {
   "cell_type": "markdown",
   "id": "9eed7421-631a-43ae-b993-2237cbd74e03",
   "metadata": {},
   "source": [
    "Vector dot product: Compute the dot product of two vectors a and b.\n"
   ]
  },
  {
   "cell_type": "code",
   "execution_count": 48,
   "id": "20a830f6-7e24-431a-98e9-6283d9fa2191",
   "metadata": {},
   "outputs": [
    {
     "name": "stdout",
     "output_type": "stream",
     "text": [
      "32\n",
      "32\n"
     ]
    }
   ],
   "source": [
    "\n",
    "import numpy as np\n",
    "a = np.array([1, 2, 3])\n",
    "b = np.array([4, 5, 6])\n",
    "c = np.einsum('i,i', a, b)\n",
    "print(c)\n",
    "print(a.dot(b))\n"
   ]
  },
  {
   "cell_type": "markdown",
   "id": "b5c1f080-0800-4eb2-8dab-d10749be62dc",
   "metadata": {},
   "source": [
    "\n",
    "Matrix-vector multiplication: Multiply a matrix A by a vector b.\n"
   ]
  },
  {
   "cell_type": "code",
   "execution_count": 49,
   "id": "e0731ff1-c55e-4a1d-8f94-03ae8e827080",
   "metadata": {},
   "outputs": [
    {
     "name": "stdout",
     "output_type": "stream",
     "text": [
      "[17 39]\n"
     ]
    },
    {
     "data": {
      "text/plain": [
       "array([17, 39])"
      ]
     },
     "execution_count": 49,
     "metadata": {},
     "output_type": "execute_result"
    }
   ],
   "source": [
    "\n",
    "A = np.array([[1, 2], [3, 4]])\n",
    "b = np.array([5, 6])\n",
    "c = np.einsum('aj,j->a', A, b)\n",
    "print(c)\n",
    "A @ b\n"
   ]
  },
  {
   "cell_type": "markdown",
   "id": "ae25dd40-07f8-4694-9f59-faecd7b2abad",
   "metadata": {},
   "source": [
    "\n",
    "Matrix-matrix multiplication: Multiply two matrices A and B.\n"
   ]
  },
  {
   "cell_type": "code",
   "execution_count": 51,
   "id": "504ddc07-d179-4e03-834a-f4ad480df08c",
   "metadata": {},
   "outputs": [
    {
     "name": "stdout",
     "output_type": "stream",
     "text": [
      "[[19 22]\n",
      " [43 50]]\n"
     ]
    },
    {
     "data": {
      "text/plain": [
       "array([[19, 22],\n",
       "       [43, 50]])"
      ]
     },
     "execution_count": 51,
     "metadata": {},
     "output_type": "execute_result"
    }
   ],
   "source": [
    "\n",
    "A = np.array([[1, 2], [3, 4]])\n",
    "B = np.array([[5, 6], [7, 8]])\n",
    "c = np.einsum('ij,jk->ik', A, B)\n",
    "print(c)\n",
    "A @ B"
   ]
  },
  {
   "cell_type": "markdown",
   "id": "4bdddc74-2fa8-4317-833a-9028ac234a72",
   "metadata": {},
   "source": [
    "\n",
    "\n",
    "Element-wise multiplication and sum: Multiply two vectors a and b element-wise and then sum the result.\n"
   ]
  },
  {
   "cell_type": "code",
   "execution_count": 53,
   "id": "7862ac7b-a5d1-4a53-b710-f42c9debbaef",
   "metadata": {},
   "outputs": [
    {
     "name": "stdout",
     "output_type": "stream",
     "text": [
      "32\n"
     ]
    }
   ],
   "source": [
    "\n",
    "a = np.array([1, 2, 3])\n",
    "b = np.array([4, 5, 6])\n",
    "\n",
    "c = np.einsum('j,j->', a, b)\n",
    "print(c)\n"
   ]
  },
  {
   "cell_type": "markdown",
   "id": "2f66bd6c-5d61-4e51-84eb-75593a1604e5",
   "metadata": {},
   "source": [
    "\n",
    "Transpose of a matrix: Find the transpose of matrix A.A = np.array([[1, 2], [3, 4]])\n"
   ]
  },
  {
   "cell_type": "code",
   "execution_count": 54,
   "id": "1c44c0b5-6881-4dbd-8183-95f9e4719cb7",
   "metadata": {},
   "outputs": [
    {
     "name": "stdout",
     "output_type": "stream",
     "text": [
      "[[1 3]\n",
      " [2 4]]\n"
     ]
    },
    {
     "data": {
      "text/plain": [
       "array([[1, 3],\n",
       "       [2, 4]])"
      ]
     },
     "execution_count": 54,
     "metadata": {},
     "output_type": "execute_result"
    }
   ],
   "source": [
    "\n",
    "\n",
    "A = np.array([[1, 2], [3, 4]])\n",
    "c = np.einsum('ij->ji', A)\n",
    "print(c)\n",
    "A.T\n"
   ]
  },
  {
   "cell_type": "markdown",
   "id": "5ae01957-78c2-41b3-8631-c823822c4409",
   "metadata": {},
   "source": [
    "\n",
    "Trace of a matrix: Compute the trace of a square matrix A.\n"
   ]
  },
  {
   "cell_type": "code",
   "execution_count": 55,
   "id": "a04ae4d0-ff2f-4173-800a-d9f54bdab254",
   "metadata": {},
   "outputs": [
    {
     "name": "stdout",
     "output_type": "stream",
     "text": [
      "[ 5 25]\n"
     ]
    },
    {
     "data": {
      "text/plain": [
       "5"
      ]
     },
     "execution_count": 55,
     "metadata": {},
     "output_type": "execute_result"
    }
   ],
   "source": [
    "\n",
    "A = np.array([[1, 2], [3, 4]])\n",
    "c = np.einsum('aj,aj->a', A, A)\n",
    "print(c)\n",
    "np.trace(A)\n"
   ]
  },
  {
   "cell_type": "markdown",
   "id": "ca5291ae-1f64-44c7-873a-afa6d6064249",
   "metadata": {},
   "source": [
    "\n",
    "Diagonal of a matrix: Extract the diagonal of a matrix A.\n"
   ]
  },
  {
   "cell_type": "code",
   "execution_count": 59,
   "id": "213f40f7-c1e1-4b58-af8b-f15b03ad8455",
   "metadata": {},
   "outputs": [
    {
     "data": {
      "text/plain": [
       "5"
      ]
     },
     "execution_count": 59,
     "metadata": {},
     "output_type": "execute_result"
    }
   ],
   "source": [
    "\n",
    "A = np.array([[1, 2], [3, 4]])\n",
    "b = np.einsum('ii->',A)\n",
    "b"
   ]
  },
  {
   "cell_type": "markdown",
   "id": "fb5f0de6-a65e-43ff-af78-6c29708ed79d",
   "metadata": {},
   "source": [
    "Sum over rows of a matrix: Sum each row of matrix A."
   ]
  },
  {
   "cell_type": "code",
   "execution_count": 62,
   "id": "986626e3-b354-42b7-a744-68cf95386509",
   "metadata": {},
   "outputs": [
    {
     "data": {
      "text/plain": [
       "array([ 6, 15])"
      ]
     },
     "execution_count": 62,
     "metadata": {},
     "output_type": "execute_result"
    }
   ],
   "source": [
    "A = np.array([[1, 2, 3], [4, 5, 6]])\n",
    "b = np.einsum('ij->i',A)\n",
    "b"
   ]
  },
  {
   "cell_type": "markdown",
   "id": "ca340fa7-4feb-4569-84c9-4b5ab1cce83f",
   "metadata": {},
   "source": [
    "Sum over columns of a matrix: Sum each column of matrix A."
   ]
  },
  {
   "cell_type": "code",
   "execution_count": 63,
   "id": "e1b86325-5121-4aef-bfac-ef2000070b2e",
   "metadata": {},
   "outputs": [
    {
     "data": {
      "text/plain": [
       "array([5, 7, 9])"
      ]
     },
     "execution_count": 63,
     "metadata": {},
     "output_type": "execute_result"
    }
   ],
   "source": [
    "A = np.array([[1, 2, 3], [4, 5, 6]])\n",
    "b = np.einsum('ij->j',A)\n",
    "b"
   ]
  },
  {
   "cell_type": "markdown",
   "id": "0c710957-9f29-411d-87de-4acdf79e7637",
   "metadata": {},
   "source": [
    "Column-wise multiplication of a matrix by a vector: Multiply each column of matrix A by a vector b."
   ]
  },
  {
   "cell_type": "code",
   "execution_count": 68,
   "id": "5df11547-f643-40a1-93b8-21868c4508f2",
   "metadata": {},
   "outputs": [
    {
     "data": {
      "text/plain": [
       "array([[ 1,  4,  9],\n",
       "       [ 4, 10, 18]])"
      ]
     },
     "execution_count": 68,
     "metadata": {},
     "output_type": "execute_result"
    }
   ],
   "source": [
    "A = np.array([[1, 2, 3], [4, 5, 6]])\n",
    "b = np.array([1, 2, 3])\n",
    "c = np.einsum('ij,j->ij',A,b)\n",
    "c"
   ]
  },
  {
   "cell_type": "markdown",
   "id": "8ee72453-7435-4bd5-bf67-cbb6ee53150d",
   "metadata": {},
   "source": [
    "Outer product of two vectors: Compute the outer product of vectors a and b."
   ]
  },
  {
   "cell_type": "code",
   "execution_count": 25,
   "id": "22e41253-ce74-4bba-8563-d655961d24ae",
   "metadata": {},
   "outputs": [
    {
     "data": {
      "text/plain": [
       "array([[ 3,  4,  5],\n",
       "       [ 6,  8, 10]])"
      ]
     },
     "execution_count": 25,
     "metadata": {},
     "output_type": "execute_result"
    }
   ],
   "source": [
    "a = np.array([1, 2])\n",
    "b = np.array([3, 4, 5])\n",
    "c = np.einsum('i,j->ij', a, b)\n",
    "c"
   ]
  },
  {
   "cell_type": "markdown",
   "id": "4d4aa90a-e5ca-4313-9be1-ac165e3f940c",
   "metadata": {},
   "source": [
    "Matrix-matrix element-wise multiplication: Perform element-wise multiplication of matrices A and B."
   ]
  },
  {
   "cell_type": "code",
   "execution_count": 33,
   "id": "d0103430-963b-4acd-85b9-7230170c83e1",
   "metadata": {},
   "outputs": [
    {
     "data": {
      "text/plain": [
       "array([[ 5, 12],\n",
       "       [21, 32]])"
      ]
     },
     "execution_count": 33,
     "metadata": {},
     "output_type": "execute_result"
    }
   ],
   "source": [
    "A = np.array([[1, 2], [3, 4]])\n",
    "B = np.array([[5, 6], [7, 8]])\n",
    "\n",
    "c = np.einsum('ij,ij->ij', A, B)\n",
    "c"
   ]
  },
  {
   "cell_type": "markdown",
   "id": "9d4d97eb-d991-4c5a-be45-0ae1fc1307dc",
   "metadata": {},
   "source": [
    "Batch matrix-vector multiplication: Given a stack of matrices A and a vector b, multiply each matrix by b."
   ]
  },
  {
   "cell_type": "code",
   "execution_count": 39,
   "id": "9e5520e8-7908-40e6-89c4-88a924b191b5",
   "metadata": {},
   "outputs": [
    {
     "data": {
      "text/plain": [
       "array([[ 5, 11],\n",
       "       [17, 23]])"
      ]
     },
     "execution_count": 39,
     "metadata": {},
     "output_type": "execute_result"
    }
   ],
   "source": [
    "A = np.array([[[1, 2], [3, 4]], [[5, 6], [7, 8]]])\n",
    "b = np.array([1, 2])\n",
    "c = np.einsum('ijk,k->ij',A,b)\n",
    "c"
   ]
  },
  {
   "cell_type": "markdown",
   "id": "83cbb67d-1f72-4018-858a-b41172d5c3d3",
   "metadata": {},
   "source": [
    "Sum of matrices: Compute the sum of two matrices A and B."
   ]
  },
  {
   "cell_type": "code",
   "execution_count": 41,
   "id": "8093bce4-661a-4c62-a0af-20ac919825bd",
   "metadata": {},
   "outputs": [
    {
     "data": {
      "text/plain": [
       "array([[ 5, 12],\n",
       "       [21, 32]])"
      ]
     },
     "execution_count": 41,
     "metadata": {},
     "output_type": "execute_result"
    }
   ],
   "source": [
    "A = np.array([[1, 2], [3, 4]])\n",
    "B = np.array([[5, 6], [7, 8]])\n",
    "\n",
    "c = np.einsum('ij,ij->ij',A,B)\n",
    "c"
   ]
  },
  {
   "cell_type": "markdown",
   "id": "171da433-320e-4a93-8994-8cbe01b0663b",
   "metadata": {},
   "source": [
    "Column-wise sum and then multiply by a vector: Sum each column of matrix A, and then multiply the result by vector b."
   ]
  },
  {
   "cell_type": "code",
   "execution_count": 46,
   "id": "cf7a960d-e1b2-4978-be37-186d90fe6a3a",
   "metadata": {},
   "outputs": [
    {
     "data": {
      "text/plain": [
       "array([ 5, 14, 27])"
      ]
     },
     "execution_count": 46,
     "metadata": {},
     "output_type": "execute_result"
    }
   ],
   "source": [
    "A = np.array([[1, 2, 3], [4, 5, 6]])\n",
    "b = np.array([1, 2, 3])\n",
    "\n",
    "c = np.einsum('ij->j',A)\n",
    "d = np.einsum('j,j->j', c,b)\n",
    "d"
   ]
  },
  {
   "cell_type": "markdown",
   "id": "ba51def2-364a-47ad-96ed-c60fe1675211",
   "metadata": {},
   "source": [
    "3D tensor times a vector: Multiply a 3D tensor T by a vector b, summing over the second axis of T."
   ]
  },
  {
   "cell_type": "code",
   "execution_count": 73,
   "id": "0a2fa57e-51d6-495d-af18-35ba03eff78b",
   "metadata": {},
   "outputs": [
    {
     "data": {
      "text/plain": [
       "array([[ 5, 11],\n",
       "       [17, 23],\n",
       "       [29, 35]])"
      ]
     },
     "execution_count": 73,
     "metadata": {},
     "output_type": "execute_result"
    }
   ],
   "source": [
    "T = np.array([[[1, 2], [3, 4]], [[5, 6], [7, 8]], [[9, 10], [11, 12]]])\n",
    "b = np.array([1, 2])\n",
    "c = np.einsum('ijk,k->ij',T,b)\n",
    "T.shape\n",
    "# c = np.einsum()\n",
    "c"
   ]
  },
  {
   "cell_type": "markdown",
   "id": "32a37269-0397-43a9-8032-ba30d69d2658",
   "metadata": {},
   "source": [
    "Batch matrix-matrix multiplication: Given two stacks of matrices A and B, perform matrix multiplication for each corresponding pair."
   ]
  },
  {
   "cell_type": "code",
   "execution_count": 78,
   "id": "987b6c15-d9b3-4631-a2f5-74474f55b463",
   "metadata": {},
   "outputs": [
    {
     "data": {
      "text/plain": [
       "array([[[ 1,  2],\n",
       "        [ 3,  4]],\n",
       "\n",
       "       [[11, 11],\n",
       "        [15, 15]]])"
      ]
     },
     "execution_count": 78,
     "metadata": {},
     "output_type": "execute_result"
    }
   ],
   "source": [
    "A = np.array([[[1, 2], [3, 4]], [[5, 6], [7, 8]]])\n",
    "B = np.array([[[1, 0], [0, 1]], [[1, 1], [1, 1]]])\n",
    "\n",
    "c = np.einsum('ijk,ikl->ijl',A,B)\n",
    "c#"
   ]
  },
  {
   "cell_type": "markdown",
   "id": "45d35871-769f-42c5-a220-7500e0e731b6",
   "metadata": {},
   "source": [
    "Transpose each matrix in a stack: Given a stack of matrices A, transpose each individual matrix."
   ]
  },
  {
   "cell_type": "code",
   "execution_count": 80,
   "id": "f2485094-e4a6-47d8-87bb-5ee144d08a71",
   "metadata": {},
   "outputs": [
    {
     "data": {
      "text/plain": [
       "array([[[1, 3],\n",
       "        [2, 4]],\n",
       "\n",
       "       [[5, 7],\n",
       "        [6, 8]]])"
      ]
     },
     "execution_count": 80,
     "metadata": {},
     "output_type": "execute_result"
    }
   ],
   "source": [
    "A = np.array([[[1, 2], [3, 4]], [[5, 6], [7, 8]]])\n",
    "\n",
    "c = np.einsum('ijk->ikj',A)\n",
    "c"
   ]
  },
  {
   "cell_type": "markdown",
   "id": "b40b2528-dc23-49ad-9b04-594014c879d5",
   "metadata": {},
   "source": [
    "Inner product of vectors in a 3D array: Compute the inner product of vectors along the last axis of a 3D array T.\n"
   ]
  },
  {
   "cell_type": "code",
   "execution_count": 84,
   "id": "5fc1708a-2d72-4a03-8f5c-9a7236728927",
   "metadata": {},
   "outputs": [
    {
     "data": {
      "text/plain": [
       "array([[  5,  25],\n",
       "       [ 61, 113],\n",
       "       [181, 265]])"
      ]
     },
     "execution_count": 84,
     "metadata": {},
     "output_type": "execute_result"
    }
   ],
   "source": [
    "T = np.array([[[1, 2], [3, 4]], [[5, 6], [7, 8]], [[9, 10], [11, 12]]])\n",
    "T.shape\n",
    "\n",
    "\n",
    "c = np.einsum('abc,abc->ab', T,T)\n",
    "c"
   ]
  },
  {
   "cell_type": "markdown",
   "id": "b12d6ed8-e478-4f1b-867d-44e5b72bac5b",
   "metadata": {},
   "source": [
    "Sum over an axis of a 3D tensor: Sum a 3D tensor T over its second axis."
   ]
  },
  {
   "cell_type": "code",
   "execution_count": 89,
   "id": "2a05b093-d6ca-40d1-bad7-2b601f8437a4",
   "metadata": {},
   "outputs": [
    {
     "data": {
      "text/plain": [
       "array([[ 5,  7,  9],\n",
       "       [17, 19, 21],\n",
       "       [29, 31, 33]])"
      ]
     },
     "execution_count": 89,
     "metadata": {},
     "output_type": "execute_result"
    }
   ],
   "source": [
    "T = np.array([[[1, 2, 3], [4, 5, 6]], [[7, 8, 9], [10, 11, 12]], [[13, 14, 15], [16, 17, 18]]])\n",
    "\n",
    "c = np.einsum('ijk->ik', T)\n",
    "c"
   ]
  },
  {
   "cell_type": "markdown",
   "id": "7f26dfbd-a74e-4306-a510-a4c481c0833c",
   "metadata": {},
   "source": [
    "Matrix diagonal and sum over one axis: Given a square matrix A, extract its diagonal and then sum over the diagonal.\n",
    "\n"
   ]
  },
  {
   "cell_type": "code",
   "execution_count": 91,
   "id": "bfec3d4c-d34c-49b7-89eb-187fc6418454",
   "metadata": {},
   "outputs": [
    {
     "data": {
      "text/plain": [
       "15"
      ]
     },
     "execution_count": 91,
     "metadata": {},
     "output_type": "execute_result"
    }
   ],
   "source": [
    "A = np.array([[1, 2, 3], [4, 5, 6], [7, 8, 9]])\n",
    "\n",
    "c = np.einsum('ii',A)\n",
    "c"
   ]
  },
  {
   "cell_type": "markdown",
   "id": "94725c76-9613-44b3-b59d-4ea9694e7bc2",
   "metadata": {},
   "source": [
    "Contract two 3D tensors: Given tensors T1 and T2, contract them over the second axis of T1 and the first axis of T2.\n",
    "    4D tensor contraction: Given a 4D tensor T and a matrix A, contract T with A over the last axis of T and the first axis of A.\n",
    "    Sum along multiple axes of a 4D tensor: Sum a 4D tensor T along its second and third axes.\n",
    "    Generalized inner product between 3D tensors: Compute the generalized inner product between two 3D tensors T1 and T2, summing over the last axis of T1 and the second-to-last axis of T2."
   ]
  },
  {
   "cell_type": "code",
   "execution_count": 92,
   "id": "d693684f-d1e4-47d3-83d9-9cf677ab24d0",
   "metadata": {},
   "outputs": [
    {
     "data": {
      "text/plain": [
       "array([[[ 3,  3],\n",
       "        [ 7,  7]],\n",
       "\n",
       "       [[22, 22],\n",
       "        [30, 30]]])"
      ]
     },
     "execution_count": 92,
     "metadata": {},
     "output_type": "execute_result"
    }
   ],
   "source": [
    "T1 = np.array([[[1, 2], [3, 4]], [[5, 6], [7, 8]]])\n",
    "T2 = np.array([[[1, 1], [1, 1]], [[2, 2], [2, 2]]])\n",
    "\n",
    "c = np.einsum('ijk,ikl->ijl',T1, T2)\n",
    "c"
   ]
  },
  {
   "cell_type": "markdown",
   "id": "b31b3d59-eebe-4c07-87af-12578d5efa03",
   "metadata": {},
   "source": [
    "4D tensor contraction: Given a 4D tensor T and a matrix A, contract T with A over the last axis of T and the first axis of A.\n"
   ]
  },
  {
   "cell_type": "code",
   "execution_count": null,
   "id": "f860df6c-c903-4674-b8f5-347904faf748",
   "metadata": {},
   "outputs": [],
   "source": [
    "T = np.random.rand(2, 2, 2, 3)  # Example with random elements\n",
    "A = np.array([[1, 2, 3], [4, 5, 6]])\n",
    "\n",
    "c = np.einsum()\n",
    "c"
   ]
  },
  {
   "cell_type": "markdown",
   "id": "a9e4c758-f428-4ea9-bf97-1be3f59c1fd9",
   "metadata": {},
   "source": [
    "Sum along multiple axes of a 4D tensor: Sum a 4D tensor T along its second and third axes."
   ]
  },
  {
   "cell_type": "code",
   "execution_count": 106,
   "id": "fba3158f-befa-477d-9156-a1d547e6c4fd",
   "metadata": {},
   "outputs": [
    {
     "data": {
      "text/plain": [
       "array([[2.0617308 , 2.11156498, 2.68644253],\n",
       "       [1.85110925, 1.32717668, 1.33201609]])"
      ]
     },
     "execution_count": 106,
     "metadata": {},
     "output_type": "execute_result"
    }
   ],
   "source": [
    "T = np.random.rand(2, 2, 2, 3)  # Example with random elements\n",
    "A = np.array([[1, 2, 3], [4, 5, 6]])\n",
    "c = np.einsum('ijkl->il', T)\n",
    "c\n"
   ]
  },
  {
   "cell_type": "markdown",
   "id": "ce875843-456b-408c-a083-45b1d69b5042",
   "metadata": {},
   "source": [
    "Generalized inner product between 3D tensors: Compute the generalized inner product between two 3D tensors T1 and T2, summing over the last axis of T1 and the second-to-last axis of T2."
   ]
  },
  {
   "cell_type": "code",
   "execution_count": 109,
   "id": "f4ec584e-6954-4dfd-a751-f88df4bdda8e",
   "metadata": {},
   "outputs": [
    {
     "data": {
      "text/plain": [
       "array([[[ 3,  3],\n",
       "        [ 7,  7]],\n",
       "\n",
       "       [[22, 22],\n",
       "        [30, 30]]])"
      ]
     },
     "execution_count": 109,
     "metadata": {},
     "output_type": "execute_result"
    }
   ],
   "source": [
    "T1 = np.array([[[1, 2], [3, 4]], [[5, 6], [7, 8]]])\n",
    "T2 = np.array([[[1, 1], [1, 1]], [[2, 2], [2, 2]]])\n",
    "c = np.einsum('ijk,ilk->ijl',T1,T2)\n",
    "c"
   ]
  },
  {
   "cell_type": "code",
   "execution_count": null,
   "id": "4a432243-cda8-4b0e-97e5-b4c1f999105c",
   "metadata": {},
   "outputs": [],
   "source": []
  },
  {
   "cell_type": "code",
   "execution_count": null,
   "id": "20beec1e-964c-45d1-a7ac-0f8fc6c20187",
   "metadata": {},
   "outputs": [],
   "source": []
  },
  {
   "cell_type": "code",
   "execution_count": null,
   "id": "da9bec5e-422d-413a-80ac-bf7d713fc8c1",
   "metadata": {},
   "outputs": [],
   "source": []
  }
 ],
 "metadata": {
  "kernelspec": {
   "display_name": "Python 3 (ipykernel)",
   "language": "python",
   "name": "python3"
  },
  "language_info": {
   "codemirror_mode": {
    "name": "ipython",
    "version": 3
   },
   "file_extension": ".py",
   "mimetype": "text/x-python",
   "name": "python",
   "nbconvert_exporter": "python",
   "pygments_lexer": "ipython3",
   "version": "3.11.6"
  }
 },
 "nbformat": 4,
 "nbformat_minor": 5
}
