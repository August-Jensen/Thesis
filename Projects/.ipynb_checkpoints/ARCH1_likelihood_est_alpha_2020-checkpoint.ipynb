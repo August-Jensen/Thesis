{
 "cells": [
  {
   "cell_type": "code",
   "execution_count": 21,
   "metadata": {},
   "outputs": [],
   "source": [
    "#Importing packages we need\n",
    "from numpy import genfromtxt #This is used to loading a csv-file as a numpy array\n",
    "import numpy as np\n",
    "import scipy.optimize as opt #used to numerically optimize\n",
    "import matplotlib.pyplot as plt #pyplot is used to plot the data\n",
    "import pandas as pd\n",
    "from matplotlib import cm"
   ]
  },
  {
   "cell_type": "code",
   "execution_count": 22,
   "metadata": {},
   "outputs": [],
   "source": [
    "#Loading data (here we use the data we simulated in our earlier script)\n",
    "\n",
    "#Locate my folder -insert your own folder here (remember Python dont understand spaces so use underscore '_')\n",
    "my_folder='C:/Users/xxx'\n",
    "x_val = genfromtxt(my_folder+'ARCH1sim.csv', delimiter=',') #loading the csv data and storing it as a np array"
   ]
  },
  {
   "cell_type": "code",
   "execution_count": 23,
   "metadata": {},
   "outputs": [],
   "source": [
    "def ARCH11_filter(omega, alpha,x_values): #function to find sigma^2 from observations\n",
    "    T=len(x_values)\n",
    "    \n",
    "    #Define the series sigma^2_t (sigma2) as empty variables we assign values to later. \n",
    "    sigma2=np.empty(T)\n",
    "    \n",
    "    sigma2[0]=1\n",
    "    \n",
    "    for t in range(1,T):\n",
    "        sigma2[t]=omega + alpha*x_values[t-1]**2\n",
    "    \n",
    "    return sigma2\n",
    "\n",
    "def ARCH11_likelihood(omega,alpha):\n",
    "    \n",
    "    sigma2=ARCH11_filter(omega, alpha, x_val)\n",
    "    \n",
    "    LogL=-np.sum(-np.log(sigma2)-x_val**2/sigma2) #Constants have been removed from the expression\n",
    "    #Note we take the expression and multiply with (-1) as we are going to minimize the function in the optimization\n",
    "    \n",
    "    return LogL\n",
    "\n",
    "def optim(alpha): #defining an optimization function that only can change on alpha\n",
    "    omega,alp=([1,alpha]) #Omega fixed to 1\n",
    "    return ARCH11_likelihood(omega, alp)"
   ]
  },
  {
   "cell_type": "code",
   "execution_count": 24,
   "metadata": {},
   "outputs": [],
   "source": [
    "alpha0=np.array([0.25]) #initial guesses\n",
    "res=opt.minimize(optim, alpha0, bounds=((0,None),))"
   ]
  },
  {
   "cell_type": "code",
   "execution_count": 26,
   "metadata": {},
   "outputs": [],
   "source": [
    "#Now computing Standard errors\n",
    "v_hessian=res.hess_inv.todense() #retrieves the negative inverse hessian matrix (note we have minimized the negative log likelihood function)\n",
    "se_hessian=np.sqrt(np.diagonal(v_hessian))"
   ]
  },
  {
   "cell_type": "code",
   "execution_count": 29,
   "metadata": {},
   "outputs": [],
   "source": [
    "alpha_hat=res.x[0] #res.x gives the parameter estimate(s)"
   ]
  },
  {
   "cell_type": "code",
   "execution_count": 46,
   "metadata": {},
   "outputs": [
    {
     "name": "stdout",
     "output_type": "stream",
     "text": [
      "Estimates are given by with std. errors in ():\n",
      "alpha_hat= 0.5132359781625773 (0.03956991017217168)  -> T-val=12.970359951019566\n",
      "Maximized log-likelihood (without constants) 1455.1838643511683\n"
     ]
    }
   ],
   "source": [
    "print('Estimates are given by with std. errors in ():')\n",
    "print('alpha_hat= '+str(alpha_hat)+' (' +str(se_hessian[0])+')'+' ' ' -> T-val=' +str(alpha_hat/se_hessian[0])+'' )\n",
    "print('Maximized log-likelihood (without constants) ' +str(ARCH11_likelihood(1,alpha_hat)))\n"
   ]
  },
  {
   "cell_type": "code",
   "execution_count": null,
   "metadata": {},
   "outputs": [],
   "source": []
  }
 ],
 "metadata": {
  "kernelspec": {
   "display_name": "Python 3",
   "language": "python",
   "name": "python3"
  },
  "language_info": {
   "codemirror_mode": {
    "name": "ipython",
    "version": 3
   },
   "file_extension": ".py",
   "mimetype": "text/x-python",
   "name": "python",
   "nbconvert_exporter": "python",
   "pygments_lexer": "ipython3",
   "version": "3.7.4"
  }
 },
 "nbformat": 4,
 "nbformat_minor": 4
}
