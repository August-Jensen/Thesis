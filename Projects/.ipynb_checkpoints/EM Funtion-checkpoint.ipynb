{
 "cells": [
  {
   "cell_type": "code",
   "execution_count": 33,
   "id": "a11a020f-869c-4dc8-b187-c7aeb7fdef7c",
   "metadata": {},
   "outputs": [],
   "source": [
    "from Tools import AR as ARsim\n",
    "import numpy as np\n",
    "import pandas as pd\n",
    "from scipy.stats import norm\n",
    "\n",
    "def create_transition_matrix(n_states, diagonal):\n",
    "    \"\"\"Create an N-dimensional transition matrix with a specified diagonal value.\"\"\"\n",
    "    matrix_1 = diagonal * np.eye(n_states)\n",
    "    matrix_2 = (1 - diagonal) * (np.ones((n_states, n_states)) - np.eye(n_states)) / (n_states - 1)\n",
    "    transition_matrix = matrix_1 + matrix_2\n",
    "    return transition_matrix\n",
    "\n",
    "def df_to_array(dataframe):\n",
    "    \"\"\"Convert a DataFrame to a NumPy array without transposing.\"\"\"\n",
    "    data_array = dataframe.to_numpy()  # No transpose here\n",
    "    return data_array\n",
    "\n",
    "def get_parameters(data, n_states=4):\n",
    "    \"\"\"Estimate parameters for each state based on the single time series data.\"\"\"\n",
    "    # Assuming the data is a 1D array\n",
    "    overall_mean = np.mean(data)\n",
    "    overall_std = np.std(data)\n",
    "    \n",
    "    params = np.zeros((n_states, 3))  # mu, phi (set to 0), sigma\n",
    "    \n",
    "    # Example strategy: distribute mu around the overall mean, and sigma as variations of overall std\n",
    "    for state in range(n_states):\n",
    "        params[state, 0] = overall_mean + np.random.uniform(-1, 1) * overall_std * 0.1  # mu\n",
    "        params[state, 2] = overall_std * (1 + np.random.uniform(-0.1, 0.1))  # sigma\n",
    "    \n",
    "    return params\n",
    "\n",
    "def get_densities(data, params):\n",
    "    n_states = params.shape[0]\n",
    "    T = len(data)\n",
    "    # Initialize densities array\n",
    "    densities = np.zeros((n_states, T))\n",
    "    \n",
    "    # Extract parameters for vectorized computation\n",
    "    mu = params[:, 0]  # Shape (n_states,)\n",
    "    sigma = params[:, 2]  # Shape (n_states,)\n",
    "    \n",
    "    # Ensure sigma > 0 to avoid division by zero\n",
    "    sigma = np.clip(sigma, 1e-6, np.inf)\n",
    "    \n",
    "    # Reshape data to align for broadcasting\n",
    "    # Data reshaped to (1, T) to broadcast over states\n",
    "    X = data.reshape(1, T)  # Shape now (1, T)\n",
    "    \n",
    "    # Calculate densities using Gaussian PDF formula, vectorized across states\n",
    "    # mu reshaped to (n_states, 1) and sigma reshaped to (n_states, 1) for broadcasting\n",
    "    densities = (1. / (sigma[:, np.newaxis] * np.sqrt(2 * np.pi))) * np.exp(-0.5 * ((X - mu[:, np.newaxis]) / sigma[:, np.newaxis]) ** 2) + 1e-6\n",
    "    \n",
    "    return densities\n",
    "def scaled_forward_backward(densities, transition_matrix):\n",
    "    n_states, T = densities.shape\n",
    "    alpha = np.zeros((n_states, T))\n",
    "    beta = np.zeros((n_states, T))\n",
    "    scale_factors = np.zeros(T)\n",
    "    \n",
    "    # Forward Pass\n",
    "    alpha[:, 0] = densities[:, 0]\n",
    "    scale_factors[0] = 1.0 / np.sum(alpha[:, 0])\n",
    "    alpha[:, 0] *= scale_factors[0]\n",
    "    \n",
    "    for t in range(1, T):\n",
    "        alpha[:, t] = np.dot(transition_matrix.T, alpha[:, t-1]) * densities[:, t]  # Using np.dot for clarity\n",
    "        scale_factors[t] = 1.0 / np.sum(alpha[:, t])\n",
    "        alpha[:, t] *= scale_factors[t]\n",
    "    \n",
    "    # Backward Pass\n",
    "    beta[:, T-1] = scale_factors[T-1]\n",
    "    \n",
    "    for t in range(T-2, -1, -1):\n",
    "        beta[:, t] = np.dot(transition_matrix, densities[:, t+1] * beta[:, t+1])\n",
    "        beta[:, t] *= scale_factors[t]\n",
    "    \n",
    "    return alpha, beta, scale_factors\n",
    "\n",
    "import numpy as np\n",
    "\n",
    "def calculate_smoothed_probabilities(alpha, beta, transition_matrix, densities):\n",
    "    T = alpha.shape[1]\n",
    "    N = alpha.shape[0]\n",
    "    \n",
    "    # Smoothed state probabilities\n",
    "    gamma = (alpha * beta) / np.sum(alpha * beta, axis=0)\n",
    "    \n",
    "    # Preallocate xi array\n",
    "    xi = np.zeros((N, N, T-1))\n",
    "    \n",
    "    # Calculate xi for t in [0, T-2] (since it involves t and t+1)\n",
    "    for t in range(T-1):\n",
    "        xi_denominator = np.sum(alpha[:, t].reshape(-1, 1) * transition_matrix * densities[:, t+1] * beta[:, t+1], axis=(0, 1))\n",
    "        xi[:, :, t] = (alpha[:, t].reshape(-1, 1) * transition_matrix * densities[:, t+1] * beta[:, t+1].reshape(1, -1)) / xi_denominator\n",
    "    \n",
    "    return gamma, xi\n",
    "import numpy as np\n",
    "def update_initial_and_transition_matrices(gamma, xi):\n",
    "    \"\"\"\n",
    "    Update initial state probabilities and transition matrix based on smoothed probabilities.\n",
    "    \n",
    "    Parameters:\n",
    "    - gamma: Smoothed state probabilities with shape (N, T), where N is the number of states and T is the number of time steps.\n",
    "    - xi: Smoothed transition probabilities with shape (N, N, T-1).\n",
    "    \n",
    "    Returns:\n",
    "    - initial_state_probabilities: Updated initial state probabilities based on gamma.\n",
    "    - transition_matrix: Updated and normalized transition matrix based on xi.\n",
    "    \"\"\"\n",
    "    N, T = gamma.shape\n",
    "    \n",
    "    # Initial state probabilities are simply the smoothed probabilities at t=0\n",
    "    initial_state_probabilities = gamma[:, 0]\n",
    "    \n",
    "    # Sum xi across time to get cumulative transitions, then average by T-1 (number of transitions)\n",
    "    transition_matrix = np.sum(xi, axis=2) / (T-1)\n",
    "    \n",
    "    # Normalize the rows of the transition matrix to sum to 1\n",
    "    transition_matrix = transition_matrix / transition_matrix.sum(axis=1, keepdims=True)\n",
    "    \n",
    "    return initial_state_probabilities, transition_matrix\n",
    "import numpy as np\n",
    "\n",
    "import numpy as np\n",
    "\n",
    "def calculate_parameters(data, smoothed_states):\n",
    "    N, T = smoothed_states.shape\n",
    "    params = np.zeros((N, 3))  # Initializing for mu, phi, sigma\n",
    "    \n",
    "    if data.ndim > 1:\n",
    "        data = data.flatten()  # Ensure data is 1D\n",
    "    \n",
    "    for state in range(N):\n",
    "        weights = smoothed_states[state, :]\n",
    "        \n",
    "        if weights.ndim > 1 or data.ndim > 1:\n",
    "            print(\"Unexpected array dimensions:\", weights.ndim, data.ndim)\n",
    "            continue\n",
    "        \n",
    "        # Calculate weighted mean (mu)\n",
    "        weighted_sum = np.dot(weights, data)\n",
    "        total_weight = weights.sum()\n",
    "        mu = weighted_sum / total_weight if total_weight > 0 else 0\n",
    "\n",
    "        # Initialize sums for phi calculation\n",
    "        phi_numerator, phi_denominator = 0.0, 0.0\n",
    "        for t in range(1, T):  # Start from 1 since we use x[t-1]\n",
    "            x_t = data[t] - mu\n",
    "            x_t_minus_1 = data[t-1] - mu\n",
    "            phi_numerator += weights[t] * x_t * x_t_minus_1\n",
    "            phi_denominator += weights[t] * x_t_minus_1**2\n",
    "        \n",
    "        # Calculate phi\n",
    "        phi = phi_numerator / phi_denominator if phi_denominator > 0 else 0\n",
    "\n",
    "        # Weighted calculation for sigma (standard deviation)\n",
    "        weighted_variance = np.dot(weights, (data - mu)**2) / total_weight if total_weight > 0 else 0\n",
    "        sigma = np.sqrt(weighted_variance) if weighted_variance > 0 else 0\n",
    "\n",
    "        # Assign calculated parameters for the current state\n",
    "        params[state, :] = mu, phi, sigma\n",
    "\n",
    "    return params\n",
    "\n",
    "\n",
    "def calculate_log_likelihood(scale_factors):\n",
    "    \"\"\"\n",
    "    Calculate the log likelihood of the observed data given the model.\n",
    "    \n",
    "    Parameters:\n",
    "    - scale_factors: Scaling factors from the forward pass, a 1D NumPy array of length T.\n",
    "    \n",
    "    Returns:\n",
    "    - log_likelihood: The log likelihood of the observed data.\n",
    "    \"\"\"\n",
    "    log_likelihood = np.sum(np.log(scale_factors))\n",
    "    return log_likelihood\n"
   ]
  },
  {
   "cell_type": "code",
   "execution_count": 43,
   "id": "d3ea4c41-53b2-4311-b2a8-e4e8d938da03",
   "metadata": {},
   "outputs": [
    {
     "name": "stdout",
     "output_type": "stream",
     "text": [
      "Elapsed time: 0.22591 seconds\n"
     ]
    }
   ],
   "source": [
    "import time \n",
    "# Start timing\n",
    "start_time = time.time()\n",
    "# reload(EM)\n",
    "# from EM import Base\n",
    "O = 10000\n",
    "K = 1\n",
    "N = 4\n",
    "# phi_vals = np.zeros((K,N))\n",
    "sim = ARsim(n_states=N, K_series = K, num_obs = O, transition_diagonal=0.99, deterministic=True) #sigmas = [[0,0]]\n",
    "sim.simulate()\n",
    "df = sim.data\n",
    "transition_guess=0.95\n",
    "n_states=4\n",
    "max_iterations=100 \n",
    "tolerance=1e-5\n",
    "# End timing\n",
    "end_time = time.time()\n",
    "\n",
    "# Calculate elapsed time\n",
    "elapsed_time = end_time - start_time\n",
    "\n",
    "# Print elapsed time with 5 digits after the decimal point\n",
    "print(f\"Elapsed time: {elapsed_time:.5f} seconds\")"
   ]
  },
  {
   "cell_type": "code",
   "execution_count": null,
   "id": "c3e9713e-adcb-4554-b7fa-0608eef1abe4",
   "metadata": {},
   "outputs": [],
   "source": [
    "# data = df_to_array(df)  # Step 1\n",
    "# transition_matrix = create_transition_matrix(n_states, transition_guess)  # Provided Step 2\n",
    "# print(transition_matrix)\n",
    "# parameters = get_parameters(data, n_states)  # Step 4\n",
    "# densities = get_densities(data, parameters)  # Step 5\n",
    "# alpha, beta, scale_factors = scaled_forward_backward(densities, transition_matrix)  # Step 6\n"
   ]
  },
  {
   "cell_type": "code",
   "execution_count": 44,
   "id": "3aa25587-8ec8-4993-8f76-c52a6952b319",
   "metadata": {},
   "outputs": [
    {
     "name": "stdout",
     "output_type": "stream",
     "text": [
      "Elapsed time: 0.33401 seconds\n",
      "[[ 0.28164239  0.          3.80752741]\n",
      " [ 0.46357408  0.          4.08037936]\n",
      " [-0.06551516  0.          3.9111272 ]\n",
      " [ 0.48173064  0.          4.05625343]]\n",
      "[[ 4.13047625e-03  3.43802598e-01  1.61011740e+00]\n",
      " [ 6.19405176e-01  6.49726367e-01  6.64193403e+00]\n",
      " [-3.93170540e-01  5.79946291e-01  2.84933975e+00]\n",
      " [ 5.47213375e-01  6.28909858e-01  5.51044860e+00]]\n"
     ]
    }
   ],
   "source": [
    "import time\n",
    "\n",
    "# Start timing\n",
    "start_time = time.time()\n",
    "\n",
    "# Place the code you want to time here\n",
    "# Example dummy operation: a loop that runs for a bit\n",
    "\n",
    "data = df_to_array(df)  # Step 1\n",
    "transition_matrix = create_transition_matrix(n_states, transition_guess)  # Provided Step 2\n",
    "# print(transition_matrix)\n",
    "parameters = get_parameters(data, n_states)  # Step 4\n",
    "\n",
    "densities = get_densities(data, parameters)  # Step 5\n",
    "alpha, beta, scale_factors = scaled_forward_backward(densities, transition_matrix)  # Step 6\n",
    "smoothed_states, smoothed_transitions = calculate_smoothed_probabilities(alpha, beta, transition_matrix, densities)\n",
    "initial_state_probabilities, updated_transition_matrix = update_initial_and_transition_matrices(smoothed_states, smoothed_transitions )\n",
    "param_2 = calculate_parameters(data, smoothed_states)\n",
    "ll = calculate_log_likelihood(scale_factors)\n",
    "# End timing\n",
    "end_time = time.time()\n",
    "\n",
    "# Calculate elapsed time\n",
    "elapsed_time = end_time - start_time\n",
    "\n",
    "# Print elapsed time with 5 digits after the decimal point\n",
    "print(f\"Elapsed time: {elapsed_time:.5f} seconds\")\n",
    "print(parameters)\n",
    "print(param_2)"
   ]
  },
  {
   "cell_type": "code",
   "execution_count": 35,
   "id": "402b2e4e-1cd3-4449-899a-63fa5981a3a7",
   "metadata": {},
   "outputs": [
    {
     "data": {
      "text/plain": [
       "array([[ 0.07385399, -0.03076691,  0.02257723, -0.08622023]])"
      ]
     },
     "execution_count": 35,
     "metadata": {},
     "output_type": "execute_result"
    }
   ],
   "source": [
    "sim.mu"
   ]
  },
  {
   "cell_type": "code",
   "execution_count": 36,
   "id": "663c4cd3-51d4-41cf-8841-9d828826b47f",
   "metadata": {},
   "outputs": [
    {
     "data": {
      "text/plain": [
       "array([[ 0.11734787, -0.08414213,  0.49520133, -0.43830984]])"
      ]
     },
     "execution_count": 36,
     "metadata": {},
     "output_type": "execute_result"
    }
   ],
   "source": [
    "sim.phi"
   ]
  },
  {
   "cell_type": "code",
   "execution_count": 40,
   "id": "7257666e-1c81-4aa8-8d67-23c8929f693b",
   "metadata": {},
   "outputs": [
    {
     "data": {
      "text/plain": [
       "30478.76188413651"
      ]
     },
     "execution_count": 40,
     "metadata": {},
     "output_type": "execute_result"
    }
   ],
   "source": [
    "ll"
   ]
  },
  {
   "cell_type": "code",
   "execution_count": 32,
   "id": "5a627ac4-9497-4945-b3f7-ab650d0e2785",
   "metadata": {},
   "outputs": [
    {
     "data": {
      "text/plain": [
       "array([[6.94254857, 3.48141908, 5.4805273 , 2.34286827]])"
      ]
     },
     "execution_count": 32,
     "metadata": {},
     "output_type": "execute_result"
    }
   ],
   "source": [
    "sim.sigmas"
   ]
  },
  {
   "cell_type": "code",
   "execution_count": null,
   "id": "ff96afea-ad94-4a9c-bfa8-d8b6ee0a204c",
   "metadata": {},
   "outputs": [],
   "source": [
    "np.sum(updated_transition_matrix, axis=1)"
   ]
  },
  {
   "cell_type": "markdown",
   "id": "3f700dd4-ee1b-4f1e-b4be-be738626e065",
   "metadata": {},
   "source": [
    "# RSDC\n"
   ]
  },
  {
   "cell_type": "code",
   "execution_count": 45,
   "id": "2df37cb7-f921-411d-8857-16745f45025f",
   "metadata": {},
   "outputs": [
    {
     "name": "stderr",
     "output_type": "stream",
     "text": [
      "/tmp/ipykernel_45876/3829648888.py:20: DeprecationWarning: Conversion of an array with ndim > 0 to a scalar is deprecated, and will error in future. Ensure you extract a single element from your array before performing this operation. (Deprecated NumPy 1.25.)\n",
      "  std_series[t] = np.sqrt(omega + alpha * (data[t-1] - 0)**2 + beta * (std_series[t-1])**2)\n"
     ]
    }
   ],
   "source": [
    "import numpy as np\n",
    "\n",
    "def calculate_garch_std(data, omega, alpha, beta):\n",
    "    \"\"\"\n",
    "    Calculate the conditional standard deviation for each time point in a time series\n",
    "    using the GARCH(1,1) model parameters.\n",
    "\n",
    "    Parameters:\n",
    "    - data: 1D NumPy array of time series data.\n",
    "    - omega, alpha, beta: GARCH(1,1) model parameters.\n",
    "\n",
    "    Returns:\n",
    "    - std_series: 1D NumPy array of conditional standard deviations.\n",
    "    \"\"\"\n",
    "    T = len(data)\n",
    "    std_series = np.zeros(T)\n",
    "    std_series[0] = np.sqrt(omega / (1 - alpha - beta))  # Initial standard deviation\n",
    "    \n",
    "    for t in range(1, T):\n",
    "        std_series[t] = np.sqrt(omega + alpha * (data[t-1] - 0)**2 + beta * (std_series[t-1])**2)\n",
    "    \n",
    "    return std_series\n",
    "def calculate_standardized_residuals(data, std_series):\n",
    "    \"\"\"\n",
    "    Calculate the standardized residuals for a time series given\n",
    "    the conditional standard deviations from a GARCH(1,1) model.\n",
    "\n",
    "    Parameters:\n",
    "    - data: 1D NumPy array of time series data.\n",
    "    - std_series: 1D NumPy array of conditional standard deviations.\n",
    "\n",
    "    Returns:\n",
    "    - standardized_residuals: 1D NumPy array of standardized residuals.\n",
    "    \"\"\"\n",
    "    standardized_residuals = data / std_series\n",
    "    return standardized_residuals\n",
    "\n",
    "# Example parameters\n",
    "omega = 0.0001\n",
    "alpha = 0.05\n",
    "beta = 0.94\n",
    "\n",
    "# Calculate conditional standard deviations\n",
    "std_series = calculate_garch_std(data, omega, alpha, beta)\n",
    "\n",
    "# Calculate standardized residuals\n",
    "standardized_residuals = calculate_standardized_residuals(data, std_series)\n",
    "\n"
   ]
  },
  {
   "cell_type": "code",
   "execution_count": null,
   "id": "8df30068-7168-4bab-aeef-af275e335c1a",
   "metadata": {},
   "outputs": [],
   "source": []
  },
  {
   "cell_type": "code",
   "execution_count": null,
   "id": "3f3a1e7a-c03d-453f-8d55-004f9912e664",
   "metadata": {},
   "outputs": [],
   "source": []
  },
  {
   "cell_type": "code",
   "execution_count": null,
   "id": "6b9fb5d4-30d9-434d-a3ad-6bf9ca29b82a",
   "metadata": {},
   "outputs": [],
   "source": []
  },
  {
   "cell_type": "code",
   "execution_count": null,
   "id": "60583bff-29ed-4cd3-a18a-fe6d33bc6b82",
   "metadata": {},
   "outputs": [],
   "source": []
  },
  {
   "cell_type": "code",
   "execution_count": null,
   "id": "6e6ca663-fea6-46ad-b201-8f7545bff714",
   "metadata": {},
   "outputs": [],
   "source": []
  }
 ],
 "metadata": {
  "kernelspec": {
   "display_name": "Python 3 (ipykernel)",
   "language": "python",
   "name": "python3"
  },
  "language_info": {
   "codemirror_mode": {
    "name": "ipython",
    "version": 3
   },
   "file_extension": ".py",
   "mimetype": "text/x-python",
   "name": "python",
   "nbconvert_exporter": "python",
   "pygments_lexer": "ipython3",
   "version": "3.11.6"
  }
 },
 "nbformat": 4,
 "nbformat_minor": 5
}
