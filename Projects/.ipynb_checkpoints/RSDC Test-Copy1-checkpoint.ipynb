{
 "cells": [
  {
   "cell_type": "markdown",
   "id": "f6696e6a-9fec-4cef-8dd0-aec6b7b1f359",
   "metadata": {},
   "source": [
    "# RSDC\n",
    "Structure:\n",
    "1. Simulate data\n",
    "2. Original Estimation Functions\n",
    "3. Expectation Functions\n",
    "4. Uniting functions\n",
    "\n"
   ]
  },
  {
   "cell_type": "code",
   "execution_count": 1,
   "id": "9624eacc-0b14-4d1a-bc74-8f72bf0c0ead",
   "metadata": {},
   "outputs": [],
   "source": [
    "import numpy as np\n",
    "import time\n",
    "from tqdm import tqdm"
   ]
  },
  {
   "cell_type": "markdown",
   "id": "27418fde-62b2-41c5-89d6-72a83dfb6e97",
   "metadata": {},
   "source": [
    "## Simulation\n",
    "***\n"
   ]
  },
  {
   "cell_type": "code",
   "execution_count": 9,
   "id": "5e48ff95-58e4-4fa3-a8a1-953a69bac722",
   "metadata": {},
   "outputs": [],
   "source": [
    "def simulate_data(K,T, parameters, transition_matrix, cholesky):\n",
    "    # Initialize arrays to store the processes and variances\n",
    "    processes = np.zeros((K, T))\n",
    "    variances = np.zeros((K, T))\n",
    "    states = np.zeros((T))\n",
    "    innovations = np.zeros((K, T))\n",
    "    drift = 0.00032\n",
    "    # Initial variance (can be set equal to the long-term variance)\n",
    "    variances[:, 0] = parameters[:, 0] / (1 - parameters[:, 1] - parameters[:, 2])\n",
    "    states[0] = 0\n",
    "    # Simulate the GARCH processes\n",
    "    for t in range(1, T):\n",
    "        state = int(states[t-1])\n",
    "        current_state = np.random.choice(a=[0,1], p=transition_matrix[state])\n",
    "        states[t] = current_state\n",
    "        \n",
    "        # Simulate standard normal innovations\n",
    "        z = np.random.normal(0, 1, K)\n",
    "        # Apply the Cholesky decomposition to introduce correlation\n",
    "        correlated_z = cholesky[current_state,:,:] @ z\n",
    "        # Update the variance\n",
    "        variances[:, t] = parameters[:, 0] + parameters[:, 1] * (processes[:, t-1]**2) + parameters[:, 2] * variances[:, t-1]\n",
    "        # Calculate the process values\n",
    "        processes[:, t] = np.sqrt(variances[:, t]) * correlated_z[:] + drift\n",
    "    return processes, states, variances, innovations\n",
    "\n",
    "def cholesky_form(matrix, N, K):\n",
    "    cholesky = np.zeros((N, K, K))\n",
    "    for n in range(N):\n",
    "        cholesky[n,:,:] = np.linalg.cholesky(true_correlation_matrix[n,:,:])\n",
    "\n",
    "    return cholesky\n",
    "import numpy as np\n",
    "def vectorized_simulate_data(K, T, parameters, transition_matrix, cholesky):\n",
    "    # Pre-allocate arrays\n",
    "    processes = np.zeros((K, T))\n",
    "    variances = np.zeros((K, T))\n",
    "    states = np.zeros(T, dtype=int)\n",
    "    innovations = np.random.normal(0, 1, (K, T))  # Pre-generate all innovations    \n",
    "    # Initial variance\n",
    "    variances[:, 0] = parameters[:, 0] / (1 - parameters[:, 1] - parameters[:, 2])\n",
    "    \n",
    "    # Simulate states with a Markov chain\n",
    "    # This part is inherently sequential but let's try to minimize the loop's impact.\n",
    "    for t in range(1, T):\n",
    "        states[t] = np.random.choice([0, 1, 2, 3], p=transition_matrix[states[t-1]])\n",
    "    \n",
    "    # Vectorize the correlation application using pre-simulated innovations\n",
    "    # Note: This approach changes the structure slightly, as we need to correlate all innovations first and then select based on state\n",
    "    correlated_innovations = np.zeros((K, T))\n",
    "    for state in range(transition_matrix.shape[0]):\n",
    "        # Find indices where this state occurs\n",
    "        state_indices = np.where(states == state)[0]\n",
    "        if len(state_indices) > 0:\n",
    "            for i in state_indices:\n",
    "                correlated_innovations[:, i] = cholesky[state] @ innovations[:, i]\n",
    "    \n",
    "    # Update variances and processes in a vectorized way\n",
    "    for t in range(1, T):\n",
    "        variances[:, t] = parameters[:, 0] + parameters[:, 1] * (processes[:, t-1]**2) + parameters[:, 2] * variances[:, t-1]\n",
    "        processes[:, t] = np.sqrt(variances[:, t]) * correlated_innovations[:, t] \n",
    "    \n",
    "    return processes, states, variances, innovations\n",
    "\n",
    "def optimized_simulate_data(K, T, parameters, transition_matrix, cholesky):\n",
    "    # Pre-allocate arrays\n",
    "    processes = np.zeros((K, T))\n",
    "    states = np.zeros(T, dtype=int)\n",
    "    variances = np.zeros((K, T))\n",
    "    \n",
    "    # Pre-generate all innovations now assuming independence, correlate them later in loop\n",
    "    innovations = np.random.normal(0, 1, (K, T))  \n",
    "    \n",
    "    # Initial variance\n",
    "    variances[:, 0] = parameters[:, 0] / (1 - parameters[:, 1] - parameters[:, 2])\n",
    "    \n",
    "    # Simulate states with a Markov chain\n",
    "    for t in range(1, T):\n",
    "        states[t] = np.random.choice([0, 1, 2, 3], p=transition_matrix[states[t-1]])\n",
    "    \n",
    "    # Update variances and processes, applying Cholesky based on state\n",
    "    for t in range(1, T):\n",
    "        # Select the current state and apply Cholesky decomposition to the innovations for correlation\n",
    "        state = states[t]\n",
    "        correlated_innovations = cholesky[state] @ innovations[:, t]\n",
    "        \n",
    "        # Update variances\n",
    "        variances[:, t] = parameters[:, 0] + parameters[:, 1] * (processes[:, t-1]**2) + parameters[:, 2] * variances[:, t-1]\n",
    "        \n",
    "        # Update processes\n",
    "        processes[:, t] = np.sqrt(variances[:, t]) * correlated_innovations\n",
    "    \n",
    "    return processes, states\n",
    "\n",
    "def ultra_optimized_simulate_data(K, T, parameters, transition_matrix, cholesky):\n",
    "    # Pre-allocate arrays\n",
    "    processes = np.zeros((K, T))\n",
    "    states = np.zeros(T, dtype=int)\n",
    "    variances = np.zeros((K, T))\n",
    "    \n",
    "    # Initial variance and innovations are pre-calculated outside the loop\n",
    "    variances[:, 0] = parameters[:, 0] / (1 - parameters[:, 1] - parameters[:, 2])\n",
    "    innovations = np.random.normal(0, 1, (K, T)) \n",
    "    \n",
    "    # Simulate states with a Markov chain, remains sequential due to dependencies\n",
    "    for t in range(1, T):\n",
    "        states[t] = np.random.choice([0, 1, 2, 3], p=transition_matrix[states[t-1]])\n",
    "\n",
    "    # Pre-compute Cholesky-applied innovations to minimize operations inside the loop\n",
    "    cholesky_innovations = np.array([cholesky[state] @ innovations for state in states]).transpose((1, 2, 0))\n",
    "    \n",
    "    # Loop for process and variance update\n",
    "    for t in range(1, T):\n",
    "        state = states[t]\n",
    "        # Use pre-computed Cholesky innovations\n",
    "        correlated_innovations = cholesky_innovations[:, :, t]\n",
    "        variances[:, t] = parameters[:, 0] + parameters[:, 1] * (processes[:, t-1]**2) + parameters[:, 2] * variances[:, t-1]\n",
    "        processes[:, t] = np.sqrt(variances[:, t]) * correlated_innovations\n",
    "    \n",
    "    return processes, states"
   ]
  },
  {
   "cell_type": "code",
   "execution_count": 10,
   "id": "0c049bda-de10-4875-ab7b-334472faeab0",
   "metadata": {},
   "outputs": [],
   "source": [
    "univariate_parameters = np.array([[0.05, 0.15, 0.75],\n",
    "                      [0.1, 0.25, 0.6],\n",
    "                      [0.15, 0.15, 0.8],\n",
    "                      [0.2, 0.3, 0.65]])\n",
    "# true_correlation_matrix = np.array([[[1, 0.7],[0.7,1]],[[1, -0.6],[-0.6, 1]]])\n",
    "true_correlation_matrix = np.array([\n",
    "    # High correlations\n",
    "    [[1, 0.8, 0.7, 0.6],\n",
    "     [0.8, 1, 0.65, 0.55],\n",
    "     [0.7, 0.65, 1, 0.5],\n",
    "     [0.6, 0.55, 0.5, 1]],\n",
    "    \n",
    "    # Low correlations\n",
    "    [[1, 0.1, 0.15, 0.05],\n",
    "     [0.1, 1, 0.2, 0.1],\n",
    "     [0.15, 0.2, 1, 0.12],\n",
    "     [0.05, 0.1, 0.12, 1]],\n",
    "    \n",
    "    # Negative correlations\n",
    "    [[1, -0.5, -0.4, -0.3],\n",
    "     [-0.5, 1, -0.2, -0.1],\n",
    "     [-0.4, -0.2, 1, -0.25],\n",
    "     [-0.3, -0.1, -0.25, 1]],\n",
    "    \n",
    "    # In between\n",
    "    [[1, 0.4, -0.3, 0.2],\n",
    "     [0.4, 1, 0.25, -0.2],\n",
    "     [-0.3, 0.25, 1, 0.15],\n",
    "     [0.2, -0.2, 0.15, 1]]\n",
    "])\n",
    "diagonal = 0.995\n",
    "N = 4\n",
    "K = 4\n",
    "true_transition_matrix = diagonal * np.eye(N) + (1-diagonal) * (np.ones((N,N)) - np.eye(N,N)) / (N - 1)\n",
    "\n",
    "cholesky = cholesky_form(true_correlation_matrix, N, K)\n",
    "\n",
    "# Number of observations\n",
    "T = 100000\n",
    "# start_time = time.time()\n",
    "\n",
    "# data, states, variances, innovations = simulate_data(K,T, univariate_parameters, true_transition_matrix, cholesky)\n",
    "\n",
    "# # End timing\n",
    "# end_time = time.time()\n",
    "\n",
    "# # Calculate elapsed time\n",
    "# elapsed_time = end_time - start_time\n",
    "\n",
    "# # Print elapsed time with 5 digits after the decimal point\n",
    "# print(f\"Elapsed time: {elapsed_time:.5f} seconds\")\n",
    "\n"
   ]
  },
  {
   "cell_type": "code",
   "execution_count": 69,
   "id": "1569edb1-ac62-4da7-8f04-efcd487dc067",
   "metadata": {},
   "outputs": [
    {
     "name": "stdout",
     "output_type": "stream",
     "text": [
      "Elapsed time: 3.27241 seconds\n"
     ]
    }
   ],
   "source": [
    "\n"
   ]
  },
  {
   "cell_type": "code",
   "execution_count": 4,
   "id": "1da102a9-f289-46fe-9c66-012bae23ec36",
   "metadata": {},
   "outputs": [
    {
     "name": "stdout",
     "output_type": "stream",
     "text": [
      "Elapsed time: 3.34573 seconds\n"
     ]
    }
   ],
   "source": [
    "\n",
    "\n",
    "start_time = time.time()\n",
    "\n",
    "data, states = optimized_simulate_data(K,T, univariate_parameters, true_transition_matrix, cholesky)\n",
    "\n",
    "# End timing\n",
    "end_time = time.time()\n",
    "\n",
    "# Calculate elapsed time\n",
    "elapsed_time = end_time - start_time\n",
    "\n",
    "# Print elapsed time with 5 digits after the decimal point\n",
    "print(f\"Elapsed time: {elapsed_time:.5f} seconds\")\n"
   ]
  },
  {
   "cell_type": "code",
   "execution_count": 9,
   "id": "ce583a40-6747-4f88-8c46-278a122f63e8",
   "metadata": {},
   "outputs": [],
   "source": [
    "\n",
    "\n",
    "# start_time = time.time()\n",
    "\n",
    "# data, states = ultra_optimized_simulate_data(K,T, univariate_parameters, true_transition_matrix, cholesky)\n",
    "\n",
    "# # End timing\n",
    "# end_time = time.time()\n",
    "\n",
    "# # Calculate elapsed time\n",
    "# elapsed_time = end_time - start_time\n",
    "\n",
    "# # Print elapsed time with 5 digits after the decimal point\n",
    "# print(f\"Elapsed time: {elapsed_time:.5f} seconds\")\n"
   ]
  },
  {
   "cell_type": "markdown",
   "id": "2811dcc2-22e1-456e-94d5-1fef74a66347",
   "metadata": {},
   "source": [
    "## Original Estimation Functions\n",
    "\n"
   ]
  },
  {
   "cell_type": "code",
   "execution_count": 11,
   "id": "66cbc5d8-25ac-4d6f-ae15-bb027db00993",
   "metadata": {},
   "outputs": [],
   "source": [
    "\n",
    "def calculate_standard_deviations(data, univariate_parameters):\n",
    "    K,T = data.shape\n",
    "    sigmas = np.zeros((K,T))\n",
    "    sigmas[:,0] = np.var(data, axis=1)\n",
    "    for t in range(1, T):\n",
    "        sigmas[:,t] = univariate_parameters[:,0] + univariate_parameters[:, 1] * data[:, t-1]**2 + univariate_parameters[:, 2] * sigmas[:, t-1]    \n",
    "    return np.sqrt(sigmas)\n",
    "\n",
    "def calculate_residuals(data, sigma):\n",
    "    return data / sigma\n",
    "\n",
    "\n",
    "\n",
    "def form_states(states, N, T):\n",
    "    # Ensure states are integers within the correct range\n",
    "    states = np.clip(states.astype(int), 0, N-1)\n",
    "    \n",
    "    # Initialize the state array with zeros\n",
    "    state_array = np.zeros((N, T))\n",
    "    \n",
    "    # Mark ones for active states\n",
    "    for t, state in enumerate(states):\n",
    "        state_array[state, t] = 1\n",
    "    \n",
    "    return state_array\n",
    "\n",
    "import numpy as np\n",
    "\n",
    "def generate_initial_correlation_matrices(N, K):\n",
    "    # Create an array to hold the correlation matrices\n",
    "    correlation_matrices = np.zeros((N, K, K))\n",
    "    \n",
    "    # Define the pattern of off-diagonal values based on N\n",
    "    off_diagonal_values = np.linspace(-0.1, 0.1 * N, N)\n",
    "    \n",
    "    for i in range(N):\n",
    "        # Fill the diagonal with 1s\n",
    "        np.fill_diagonal(correlation_matrices[i], 1)\n",
    "        \n",
    "        # Fill the off-diagonal elements with the specified pattern\n",
    "        np.fill_diagonal(correlation_matrices[i, :, 1:], off_diagonal_values[i])\n",
    "        np.fill_diagonal(correlation_matrices[i, 1:, :], off_diagonal_values[i])\n",
    "        \n",
    "        # Ensure the matrix is symmetric\n",
    "        correlation_matrices[i] = (correlation_matrices[i] + correlation_matrices[i].T) / 2\n",
    "\n",
    "    for i in range(N):\n",
    "        correlation_matrices[i] = cholesky_scale(correlation_matrices[i])\n",
    "    \n",
    "    return correlation_matrices\n",
    "\n",
    "    \n",
    "def cholesky_scale(matrix):\n",
    "    # K, E = matrix.shape\n",
    "    # P = np.linalg.cholesky(matrix)\n",
    "    # for j in range(K):\n",
    "    #     sum = np.sum(P[j, :j] ** 2)\n",
    "    #     P[j,j] = np.sqrt(1-sum) if 1 - sum > 0 else 0\n",
    "    # scaled = np.dot(P, P.T)\n",
    "    # return scaled\n",
    "    # def diagonal_matrix_operations(self, matrix):\n",
    "    # Step 1: Extract the diagonal of the matrix\n",
    "    diag_elements = np.diag(matrix)\n",
    "    \n",
    "    # Step 2: Create a new diagonal matrix from these elements\n",
    "    diag_matrix = np.diag(diag_elements)\n",
    "    \n",
    "    # Step 3: Take the square root of the diagonal elements\n",
    "    sqrt_diag_matrix = np.sqrt(diag_matrix)\n",
    "    \n",
    "    # Step 4: Compute the inverse of the matrix\n",
    "    # Since it's a diagonal matrix, we can invert it by inverting each non-zero diagonal element\n",
    "    inverse_matrix = np.linalg.inv(sqrt_diag_matrix)\n",
    "    \n",
    "    return inverse_matrix\n"
   ]
  },
  {
   "cell_type": "code",
   "execution_count": null,
   "id": "45455502-5271-4765-9f84-4ea04ae96779",
   "metadata": {},
   "outputs": [],
   "source": []
  },
  {
   "cell_type": "markdown",
   "id": "c56f13d5-4c4a-44c7-b225-647f6b52d08a",
   "metadata": {},
   "source": [
    "## Expectation Functions\n",
    "***\n",
    "**Initial State**\n",
    "\n",
    "**Calculate Densities**\n",
    "\n",
    "**Forward Pass**\n",
    "\n",
    "**Backward Pass**\n",
    "\n",
    "**Smoothed Probabilities**\n",
    "\n",
    "**Estimate Transition Probabilities**"
   ]
  },
  {
   "cell_type": "code",
   "execution_count": 6,
   "id": "b496cfa8-0819-4b3f-818e-9c466ed4150b",
   "metadata": {},
   "outputs": [],
   "source": [
    "def initial_state(N):\n",
    "    # Initial_state = 1/N\n",
    "    initial_states = np.ones(N) / N\n",
    "    return initial_states\n",
    "    \n",
    "def get_densities(N, K, T, standard_deviations, correlation_matrices, residuals):\n",
    "    # Calculate Inverse and Determinant of the correlation matrix R\n",
    "    det_R = np.zeros(N)\n",
    "    inv_R = np.zeros((N,K,K))\n",
    "    for n in range(N):\n",
    "        det_R[n] = np.linalg.det(correlation_matrices[n,:,:])\n",
    "        inv_R[n,:,:] = np.linalg.inv(correlation_matrices[n,:,:])\n",
    "    # Use log for the determinant part to avoid overflow\n",
    "    log_determinants = np.sum(np.log(standard_deviations), axis=0)\n",
    "    \n",
    "    # Initial log densities\n",
    "    initial_log_densities = np.ones((N, T)) * K * np.log(2 * np.pi)\n",
    "    \n",
    "    # Combine initial log densities and log determinants\n",
    "    log_densities = initial_log_densities + log_determinants[np.newaxis, :]\n",
    "    \n",
    "    # Adjust log_densities for broadcasting\n",
    "    det_R_adjusted = det_R[:, np.newaxis]\n",
    "    \n",
    "    # Calculate z_t @ R_inv @ z_t' in a numerically stable manner\n",
    "    intermediate_result = np.einsum('nkl,lt->nkt', inv_R, residuals)\n",
    "    final_result = np.einsum('nkt,kt->nt', intermediate_result, residuals)\n",
    "    \n",
    "    # Combine to update log densities\n",
    "    log_densities += -0.5 * (det_R_adjusted + final_result)\n",
    "    \n",
    "    # Convert log densities to densities safely\n",
    "    max_log_densities = np.max(log_densities, axis=0, keepdims=True)\n",
    "    densities = np.exp(log_densities - max_log_densities)\n",
    "    return det_R, inv_R, densities\n",
    "\n",
    "def forward_pass(N, T, initial_states, densities, transition_matrix):\n",
    "    # Initialize forward probabilities & Scale factors\n",
    "    forward_probabilities = np.zeros((N, T))\n",
    "    scale_factors = np.zeros(T)\n",
    "\n",
    "    # Set observation 0\n",
    "    forward_probabilities[:, 0] = initial_states * densities[:,0]\n",
    "    scale_factors[0] = 1.0 / np.sum(forward_probabilities[:, 0], axis = 0)\n",
    "    forward_probabilities[:,0] *= scale_factors[0, np.newaxis]\n",
    "\n",
    "    # Loop through all T\n",
    "    for t in range(1, T):\n",
    "        forward_probabilities[:, t] = np.dot(forward_probabilities[:,t-1], transition_matrix) * densities[:,t]\n",
    "        scale_factors[t] = 1.0 / np.sum(forward_probabilities[:, t], axis = 0)\n",
    "        forward_probabilities[:,t] *= scale_factors[t, np.newaxis]\n",
    "    # Return Scales and forward probabilities\n",
    "    return forward_probabilities, scale_factors\n",
    "\n",
    "def backward_pass(N, T, scale_factors, transition_matrix, densities):\n",
    "    # Initialize Backward probabilitiy array\n",
    "    backward_probabilities = np.zeros((N, T))\n",
    "\n",
    "    # set observation 0\n",
    "    backward_probabilities[:, T-1] = 1.0 * scale_factors[T-1, np.newaxis]\n",
    "\n",
    "    # Loop from T-2 to -1\n",
    "    for t in range(T-2, -1, -1):\n",
    "        backward_probabilities[:,t] = np.dot(transition_matrix, (densities[:,t+1] * backward_probabilities[:, t+1]))\n",
    "        \n",
    "        # Scale to prevent underflow\n",
    "        backward_probabilities[:,t] *= scale_factors[t, np.newaxis]\n",
    "    return backward_probabilities\n",
    "\n",
    "def calculate_smoothed_probabilities(forward_probabilities, backward_probabilities, transition_matrix, densities):\n",
    "    # Smoothed State probabilities\n",
    "    numerator = forward_probabilities * backward_probabilities\n",
    "    denominator = numerator.sum(axis=0, keepdims=True)\n",
    "    u_hat = numerator / denominator\n",
    "\n",
    "    # Initial state probabilities\n",
    "    delta = u_hat[:,0]\n",
    "\n",
    "    # Precompute smoothed transitions\n",
    "    a = np.roll(forward_probabilities, shift=1, axis=1)\n",
    "    a[:,0] = 0 # Set initial to 0 as there is no t-1 for the first element\n",
    "    \n",
    "    # Einsum over the precomputed\n",
    "    numerator = np.einsum('jt,jk,kt,kt->jkt', a, transition_matrix, densities, backward_probabilities)\n",
    "    denominator = numerator.sum(axis=(0,1), keepdims=True) + 1e-6 # Sum over both J and K for normalization\n",
    "    v_hat = numerator / denominator\n",
    "\n",
    "    # Return\n",
    "    return delta, u_hat, v_hat\n",
    "    \n",
    "def estimate_transition_matrix(v_hat):\n",
    "    f_ij = np.sum(v_hat, axis=2)\n",
    "    f_ii = np.sum(f_ij, axis=0)\n",
    "    transition_matrix = f_ij / f_ii\n",
    "    return transition_matrix.T\n",
    "\n"
   ]
  },
  {
   "cell_type": "markdown",
   "id": "9db987c9-0d96-485a-838e-9758090e2e42",
   "metadata": {},
   "source": [
    "## Maximization Functions\n",
    "**Calculate Log Likelihood**\n",
    "\n",
    "**Estimate Model Parameters**"
   ]
  },
  {
   "cell_type": "code",
   "execution_count": 7,
   "id": "5d9a594a-9f5d-4419-84ca-ab137dd228ea",
   "metadata": {},
   "outputs": [],
   "source": [
    "def calculate_log_likelihood(N, scales):\n",
    "    # ll = np.log(np.sum(alpha[:,-1]))\n",
    "    ll = np.sum(np.log(scales))\n",
    "    return ll\n",
    "def estimate_model_parameters(residuals,states):\n",
    "    K, T = residuals.shape\n",
    "    sum_states = np.sum(states, axis=-1)\n",
    "    sum_states_reshaped = sum_states[:, np.newaxis, np.newaxis]\n",
    "    correlation_matrix = np.sum(np.einsum('it,jt,nt->nijt', residuals, residuals, states), axis=-1) / sum_states_reshaped\n",
    "    return correlation_matrix"
   ]
  },
  {
   "cell_type": "markdown",
   "id": "a9fa5a09-b2a5-433b-a6c9-ff98ff3210cc",
   "metadata": {},
   "source": [
    "## Uniting Functions"
   ]
  },
  {
   "cell_type": "code",
   "execution_count": 18,
   "id": "488f94d3-6554-49a2-bf6b-8edb62e07d9f",
   "metadata": {},
   "outputs": [],
   "source": [
    "def form_transition_matrix(N):\n",
    "    diagonal = 0.98\n",
    "    transition_matrix = diagonal * np.eye(N) + (1-diagonal) * (np.ones((N,N)) - np.eye(N,N)) / (N - 1)\n",
    "    return transition_matrix\n",
    "def setup(N, data, univariate_parameters):\n",
    "    initial_states = initial_state(N)\n",
    "    standard_deviations = calculate_standard_deviations(data, univariate_parameters)\n",
    "    residuals = calculate_residuals(data, standard_deviations)\n",
    "    correlation_matrix = generate_initial_correlation_matrices(N, K)\n",
    "    transition_matrix = form_transition_matrix(N)\n",
    "    return initial_states, standard_deviations, residuals, correlation_matrix, transition_matrix\n",
    "    \n",
    "def e_step(N, K, T, standard_deviations, correlation_matrix, residuals, initial_states,transition_matrix):\n",
    "    # Get the densities for the data \n",
    "    det_R, inv_R, densities = get_densities(N, K, T, standard_deviations, correlation_matrix, residuals)\n",
    "\n",
    "    # Forward Pass\n",
    "    alpha, scales = forward_pass(N, T, initial_states, densities, transition_matrix)\n",
    "\n",
    "    # Backward Pass\n",
    "    beta = backward_pass(N, T, scales, transition_matrix, densities)\n",
    "\n",
    "    # Smoothed Probabilities\n",
    "    initial_states, u_hat, v_hat = calculate_smoothed_probabilities(alpha, beta, transition_matrix, densities)\n",
    "\n",
    "    # Estimate Transition Matrix\n",
    "    estimated_transition = estimate_transition_matrix(v_hat)\n",
    "\n",
    "    # Return\n",
    "    return initial_states, densities, u_hat, v_hat, estimated_transition, alpha, beta,scales\n",
    "    \n",
    "def m_step(N, K, alpha, residuals, u_hat,scales):\n",
    "    current_likelihood = calculate_log_likelihood(N, scales)\n",
    "    matrix = estimate_model_parameters(residuals,u_hat)\n",
    "    correlation_matrix = np.zeros((N, K, K)) \n",
    "    D_matrix = np.zeros((K, K)) \n",
    "    for i in range(N):\n",
    "        D_matrix = cholesky_scale(matrix[i,:,:])\n",
    "        correlation_matrix[i,:,:] = D_matrix @ matrix[i,:,:] @ D_matrix\n",
    "    \n",
    "    return current_likelihood, correlation_matrix\n",
    "\n",
    "def fit(data, univariate_parameters, num_states, max_it = 200, tol = 1e-7):\n",
    "    K, T = data.shape\n",
    "    N = num_states\n",
    "    max_iterations = max_it\n",
    "    initial_states, standard_deviations, residuals, correlation_matrix, transition_matrix = setup(N, data, univariate_parameters)\n",
    "    tolerance = tol\n",
    "    log_likelihood_history = np.zeros(max_iterations)\n",
    "    for i in tqdm(range(max_iterations)):\n",
    "        # E step\n",
    "        initial_states, densities, u_hat, v_hat, transition_matrix, alpha, beta, scales = e_step(N, K, T, standard_deviations, correlation_matrix, residuals, initial_states,transition_matrix)\n",
    "\n",
    "        # M step\n",
    "        current_likelihood, correlation_matrix = m_step(N, K, alpha, residuals, u_hat, scales)\n",
    "        # print(current_likelihood)\n",
    "        # print(correlation_matrix)\n",
    "        # Track\n",
    "        log_likelihood_history[i] = current_likelihood\n",
    "\n",
    "        # Break\n",
    "        if i > 1 and np.abs(log_likelihood_history[i] - log_likelihood_history[i-1]) < tolerance:\n",
    "            print(f'Model Converged at iteration:  {i}')\n",
    "            break\n",
    "\n",
    "    return correlation_matrix, transition_matrix, log_likelihood_history, u_hat, standard_deviations"
   ]
  },
  {
   "cell_type": "code",
   "execution_count": 12,
   "id": "9515a769-aff2-4709-a54c-5d5fa3df7bae",
   "metadata": {},
   "outputs": [
    {
     "name": "stdout",
     "output_type": "stream",
     "text": [
      "Elapsed time: 3.71922 seconds\n"
     ]
    }
   ],
   "source": [
    "start_time = time.time()\n",
    "\n",
    "data, states, variances, innovations = vectorized_simulate_data(K,T, univariate_parameters, true_transition_matrix, cholesky)\n",
    "# data += 0.0032\n",
    "# End timing\n",
    "end_time = time.time()\n",
    "\n",
    "# Calculate elapsed time\n",
    "elapsed_time = end_time - start_time\n",
    "\n",
    "# Print elapsed time with 5 digits after the decimal point\n",
    "print(f\"Elapsed time: {elapsed_time:.5f} seconds\")"
   ]
  },
  {
   "cell_type": "markdown",
   "id": "7424f577-2000-45d5-b86b-0a87580473d4",
   "metadata": {},
   "source": [
    "## Running\n"
   ]
  },
  {
   "cell_type": "code",
   "execution_count": 19,
   "id": "5f1d8863-32f4-427d-8a21-45fcc5bf5d72",
   "metadata": {
    "scrolled": true
   },
   "outputs": [
    {
     "name": "stderr",
     "output_type": "stream",
     "text": [
      "  1%|▍                                          | 2/200 [00:04<07:32,  2.28s/it]"
     ]
    },
    {
     "name": "stdout",
     "output_type": "stream",
     "text": [
      "Model Converged at iteration:  2\n",
      "Elapsed time: 5.05833 seconds\n"
     ]
    },
    {
     "name": "stderr",
     "output_type": "stream",
     "text": [
      "\n"
     ]
    }
   ],
   "source": [
    "start_time = time.time()\n",
    "\n",
    "correlation_matrix, transition_matrix, log_hist, u_hat, standard_deviations = fit(data, univariate_parameters, num_states=4)\n",
    "# End timing\n",
    "end_time = time.time()\n",
    "\n",
    "# Calculate elapsed time\n",
    "elapsed_time = end_time - start_time\n",
    "\n",
    "# Print elapsed time with 5 digits after the decimal point\n",
    "print(f\"Elapsed time: {elapsed_time:.5f} seconds\")\n"
   ]
  },
  {
   "cell_type": "code",
   "execution_count": 20,
   "id": "e60a200b-6d31-4c4f-82df-b9c190a9601a",
   "metadata": {},
   "outputs": [
    {
     "data": {
      "text/plain": [
       "array([[0.98      , 0.00666667, 0.00666667, 0.00666667],\n",
       "       [0.00666667, 0.98      , 0.00666667, 0.00666667],\n",
       "       [0.00666667, 0.00666667, 0.98      , 0.00666667],\n",
       "       [0.00666667, 0.00666667, 0.00666667, 0.98      ]])"
      ]
     },
     "execution_count": 20,
     "metadata": {},
     "output_type": "execute_result"
    }
   ],
   "source": [
    "transition_matrix\n"
   ]
  },
  {
   "cell_type": "code",
   "execution_count": 21,
   "id": "f6623881-21b6-494a-bd85-d9c0170ae764",
   "metadata": {},
   "outputs": [
    {
     "data": {
      "text/plain": [
       "array([[[1.        , 0.19669576, 0.05057735, 0.14129966],\n",
       "        [0.19669576, 1.        , 0.22929361, 0.10086975],\n",
       "        [0.05057735, 0.22929361, 1.        , 0.13591584],\n",
       "        [0.14129966, 0.10086975, 0.13591584, 1.        ]],\n",
       "\n",
       "       [[1.        , 0.19669576, 0.05057735, 0.14129966],\n",
       "        [0.19669576, 1.        , 0.22929361, 0.10086975],\n",
       "        [0.05057735, 0.22929361, 1.        , 0.13591584],\n",
       "        [0.14129966, 0.10086975, 0.13591584, 1.        ]],\n",
       "\n",
       "       [[1.        , 0.19669576, 0.05057735, 0.14129966],\n",
       "        [0.19669576, 1.        , 0.22929361, 0.10086975],\n",
       "        [0.05057735, 0.22929361, 1.        , 0.13591584],\n",
       "        [0.14129966, 0.10086975, 0.13591584, 1.        ]],\n",
       "\n",
       "       [[1.        , 0.19669576, 0.05057735, 0.14129966],\n",
       "        [0.19669576, 1.        , 0.22929361, 0.10086975],\n",
       "        [0.05057735, 0.22929361, 1.        , 0.13591584],\n",
       "        [0.14129966, 0.10086975, 0.13591584, 1.        ]]])"
      ]
     },
     "execution_count": 21,
     "metadata": {},
     "output_type": "execute_result"
    }
   ],
   "source": [
    "correlation_matrix"
   ]
  },
  {
   "cell_type": "code",
   "execution_count": 81,
   "id": "0d5b2bce-d912-45de-aba9-31be64a01efa",
   "metadata": {},
   "outputs": [
    {
     "data": {
      "text/plain": [
       "array([[[ 1.  ,  0.8 ,  0.7 ,  0.6 ],\n",
       "        [ 0.8 ,  1.  ,  0.65,  0.55],\n",
       "        [ 0.7 ,  0.65,  1.  ,  0.5 ],\n",
       "        [ 0.6 ,  0.55,  0.5 ,  1.  ]],\n",
       "\n",
       "       [[ 1.  , -0.5 , -0.4 , -0.3 ],\n",
       "        [-0.5 ,  1.  , -0.2 , -0.1 ],\n",
       "        [-0.4 , -0.2 ,  1.  , -0.25],\n",
       "        [-0.3 , -0.1 , -0.25,  1.  ]]])"
      ]
     },
     "execution_count": 81,
     "metadata": {},
     "output_type": "execute_result"
    }
   ],
   "source": [
    "true_correlation_matrix"
   ]
  },
  {
   "cell_type": "code",
   "execution_count": 53,
   "id": "c1c0734f-631b-4434-8fa4-7921273bdc45",
   "metadata": {},
   "outputs": [
    {
     "data": {
      "text/plain": [
       "array([[[ 1.        , -0.50528933, -0.40164783, -0.29862521],\n",
       "        [-0.50528933,  1.        , -0.19099551, -0.09718858],\n",
       "        [-0.40164783, -0.19099551,  1.        , -0.25007096],\n",
       "        [-0.29862521, -0.09718858, -0.25007096,  1.        ]],\n",
       "\n",
       "       [[ 1.        ,  0.79849507,  0.69384282,  0.59280949],\n",
       "        [ 0.79849507,  1.        ,  0.64178554,  0.54052371],\n",
       "        [ 0.69384282,  0.64178554,  1.        ,  0.48680949],\n",
       "        [ 0.59280949,  0.54052371,  0.48680949,  1.        ]]])"
      ]
     },
     "execution_count": 53,
     "metadata": {},
     "output_type": "execute_result"
    }
   ],
   "source": [
    "# matrix = correlation_matrix\n",
    "# correlation_matrix = np.zeros((N, K, K)) \n",
    "# for i in range(N):\n",
    "#     correlation_matrix[i,:,:] = cholesky_scale(matrix[i,:,:])\n",
    "\n",
    "# correlation_matrix"
   ]
  },
  {
   "cell_type": "code",
   "execution_count": 74,
   "id": "48bfc2bd-2bf6-43c5-9215-b1a5f54c50ca",
   "metadata": {},
   "outputs": [
    {
     "data": {
      "text/plain": [
       "array([[[ 0.        , -0.0026282 , -0.00194793,  0.00277151],\n",
       "        [-0.0026282 ,  0.        ,  0.00485691, -0.00316477],\n",
       "        [-0.00194793,  0.00485691,  0.        ,  0.00373596],\n",
       "        [ 0.00277151, -0.00316477,  0.00373596,  0.        ]],\n",
       "\n",
       "       [[ 0.        ,  0.00065598,  0.00167779,  0.00400165],\n",
       "        [ 0.00065598,  0.        ,  0.00102901,  0.00013285],\n",
       "        [ 0.00167779,  0.00102901,  0.        ,  0.00010103],\n",
       "        [ 0.00400165,  0.00013285,  0.00010103,  0.        ]]])"
      ]
     },
     "execution_count": 74,
     "metadata": {},
     "output_type": "execute_result"
    }
   ],
   "source": [
    "v = correlation_matrix\n",
    "v[0] = v[0] - true_correlation_matrix[1] \n",
    "v[1] = v[1] - true_correlation_matrix[0] \n",
    "v"
   ]
  },
  {
   "cell_type": "markdown",
   "id": "9d8130a9-c6d6-4ba5-ac26-8329ecd758bd",
   "metadata": {},
   "source": [
    "# Portfolio Optimization\n"
   ]
  },
  {
   "cell_type": "code",
   "execution_count": 82,
   "id": "d1189ea8-3623-4afc-aa30-747c607e29f5",
   "metadata": {},
   "outputs": [
    {
     "data": {
      "text/plain": [
       "(array([[ 0.11009239, -0.06192533, -0.10188585, -0.08141419],\n",
       "        [-0.06192533,  0.13907379, -0.05727139, -0.02925381],\n",
       "        [-0.10188585, -0.05727139,  0.60051452, -0.15626528],\n",
       "        [-0.08141419, -0.02925381, -0.15626528,  0.64358013]]),\n",
       " array([[0.13016308, 0.11715158, 0.21593038, 0.18983532],\n",
       "        [0.11715158, 0.1658054 , 0.22646909, 0.1967414 ],\n",
       "        [0.21593038, 0.22646909, 0.73492277, 0.37812164],\n",
       "        [0.18983532, 0.1967414 , 0.37812164, 0.77836979]]),\n",
       " array([[0.12012774, 0.02761312, 0.05702227, 0.05421057],\n",
       "        [0.02761312, 0.1524396 , 0.08459885, 0.08374379],\n",
       "        [0.05702227, 0.08459885, 0.66771864, 0.11092818],\n",
       "        [0.05421057, 0.08374379, 0.11092818, 0.71097496]]))"
      ]
     },
     "execution_count": 82,
     "metadata": {},
     "output_type": "execute_result"
    }
   ],
   "source": [
    "corr_1 = correlation_matrix[0]\n",
    "corr_2 = correlation_matrix[1]\n",
    "\n",
    "std_1 = np.mean(standard_deviations * u_hat[0], axis=1)\n",
    "std_2 = np.mean(standard_deviations * u_hat[1], axis=1)\n",
    "\n",
    "diag_1 = np.diag(std_1)\n",
    "diag_2 = np.diag(std_2)\n",
    "cov_1 = diag_1 @ corr_1 @ diag_1\n",
    "cov_2 = diag_2 @ corr_2 @ diag_2\n",
    "cov = (cov_1 + cov_2) / 2\n",
    "cov_1, cov_2, cov\n"
   ]
  },
  {
   "cell_type": "code",
   "execution_count": 86,
   "id": "03f0681d-95f2-4d22-8aae-aa4167c672bb",
   "metadata": {},
   "outputs": [
    {
     "name": "stdout",
     "output_type": "stream",
     "text": [
      "Returns Combined :  \n",
      "[ 0.351  0.399 -0.462  1.013]\n",
      "Returns in state 1:  \n",
      "[ 0.201  0.203 -0.48   0.954]\n",
      "Returns in state 2:  \n",
      "[0.15  0.196 0.018 0.059]\n",
      "Optimal Weigts Combined :  \n",
      "[55.754 40.453  1.802  1.991]\n",
      "Optimal Weigts in state 1:  \n",
      "[43.519 31.219 14.115 11.147]\n",
      "Optimal Weigts in state 2:  \n",
      "[78.9 21.1 -0.  -0. ]\n",
      "28.328999999999997 7.156999999999999 35.696\n"
     ]
    },
    {
     "data": {
      "text/plain": [
       "0.00326"
      ]
     },
     "execution_count": 86,
     "metadata": {},
     "output_type": "execute_result"
    }
   ],
   "source": [
    "import numpy as np\n",
    "from numpy.linalg import inv\n",
    "import cvxpy as cp\n",
    "\n",
    "# def optimize_portfolio(cov_matrix, expected_returns, target_return):\n",
    "#     \"\"\"\n",
    "#     Finds the optimal portfolio weights using Markowitz optimization.\n",
    "    \n",
    "#     Parameters:\n",
    "#     - cov_matrix: A covariance matrix of asset returns.\n",
    "#     - expected_returns: An array of expected returns for each asset.\n",
    "#     - target_return: The target return for the portfolio.\n",
    "    \n",
    "#     Returns:\n",
    "#     - A tuple (weights, risk), where 'weights' is an array of optimal asset weights, and 'risk' is the portfolio risk (standard deviation).\n",
    "#     \"\"\"\n",
    "#     num_assets = len(expected_returns)\n",
    "    \n",
    "#     # Define the optimization variables\n",
    "#     weights = cp.Variable(num_assets)\n",
    "    \n",
    "#     # Define the objective function (minimize portfolio variance)\n",
    "#     portfolio_variance = cp.quad_form(weights, cov_matrix)\n",
    "#     objective = cp.Minimize(portfolio_variance)\n",
    "    \n",
    "#     # Define the constraints\n",
    "#     constraints = [\n",
    "#         cp.sum(weights) == 1,  # Sum of weights must be 1\n",
    "#         weights >= 0,          # No short selling\n",
    "#         cp.matmul(weights, expected_returns) >= target_return  # Target return constraint\n",
    "#     ]\n",
    "    \n",
    "#     # Define and solve the problem\n",
    "#     problem = cp.Problem(objective, constraints)\n",
    "#     problem.solve()\n",
    "    \n",
    "#     # Extract the optimal weights and calculate portfolio risk\n",
    "#     optimal_weights = weights.value\n",
    "#     portfolio_risk = cp.sqrt(portfolio_variance).value\n",
    "    \n",
    "#     return optimal_weights, portfolio_risk\n",
    "def optimize_portfolio(cov_matrix, expected_returns, target_return):\n",
    "    \"\"\"\n",
    "    Finds the optimal portfolio weights using Markowitz optimization.\n",
    "    \n",
    "    Parameters:\n",
    "    - cov_matrix: A covariance matrix of asset returns.\n",
    "    - expected_returns: An array of expected returns for each asset.\n",
    "    - target_return: The target return for the portfolio.\n",
    "    \n",
    "    Returns:\n",
    "    - A tuple (weights, risk), where 'weights' is an array of optimal asset weights, and 'risk' is the portfolio risk (standard deviation).\n",
    "    \"\"\"\n",
    "    num_assets = len(expected_returns)\n",
    "    \n",
    "    # Define the optimization variables\n",
    "    weights = cp.Variable(num_assets)\n",
    "    \n",
    "    # Ensure covariance matrix is positive semidefinite\n",
    "    cov_matrix = np.asmatrix(cov_matrix)\n",
    "    if not np.all(np.linalg.eigvals(cov_matrix) >= 0):\n",
    "        raise ValueError(\"Covariance matrix is not positive semidefinite.\")\n",
    "    \n",
    "    # Define the objective function (minimize portfolio variance)\n",
    "    portfolio_variance = cp.quad_form(weights, cov_matrix)\n",
    "    objective = cp.Minimize(portfolio_variance)\n",
    "    \n",
    "    # Define the constraints\n",
    "    constraints = [\n",
    "        cp.sum(weights) == 1,  # Sum of weights must be 1\n",
    "        weights >= 0,          # No short selling\n",
    "        cp.matmul(weights, expected_returns) >= target_return  # Target return constraint\n",
    "    ]\n",
    "    \n",
    "    # Define and solve the problem\n",
    "    problem = cp.Problem(objective, constraints)\n",
    "    \n",
    "    # Solve the problem\n",
    "    problem.solve()\n",
    "\n",
    "    # Check if the problem is solved successfully\n",
    "    if problem.status not in [\"infeasible\", \"unbounded\"]:\n",
    "        # Assuming problem is solved successfully\n",
    "        optimal_weights = weights.value\n",
    "        portfolio_risk = cp.sqrt(portfolio_variance).value\n",
    "    else:\n",
    "        # Handle cases where the problem is infeasible or unbounded\n",
    "        print(\"Problem could not be solved: \", problem.status)\n",
    "        optimal_weights = None\n",
    "        portfolio_risk = None\n",
    "    \n",
    "    return optimal_weights, portfolio_risk\n",
    " # Correct matrix multiplication for covariance\n",
    "\n",
    "mu_1 = np.mean(data * u_hat[0], axis=1)  # Expected returns vector\n",
    "mu_2 = np.mean(data * u_hat[1], axis=1)  # Expected returns vector\n",
    "mu = np.mean((data * u_hat[0] + data * u_hat[1]),axis=1)\n",
    "mu_p = 0.001  # Target return\n",
    "print(f'Returns Combined :  \\n{np.round(mu, 5) * 100}')\n",
    "print(f'Returns in state 1:  \\n{np.round(mu_1, 5) * 100}')\n",
    "print(f'Returns in state 2:  \\n{np.round(mu_2, 5) * 100}')\n",
    "\n",
    "\n",
    "optimal_weights_1, portfolio_risk_1 = optimize_portfolio(cov_1, mu_1, mu_p)\n",
    "optimal_weights_2, portfolio_risk_2 = optimize_portfolio(cov_2, mu_2, mu_p)\n",
    "optimal_weights, portfolio_risk = optimize_portfolio(cov, mu, mu_p)\n",
    "print(f'Optimal Weigts Combined :  \\n{np.round(optimal_weights, 5) * 100}')\n",
    "print(f'Optimal Weigts in state 1:  \\n{np.round(optimal_weights_1, 5) * 100}')\n",
    "print(f'Optimal Weigts in state 2:  \\n{np.round(optimal_weights_2, 5) * 100}')\n",
    "print(np.round(portfolio_risk, 5) * 100, np.round(portfolio_risk_1, 5) * 100, np.round(portfolio_risk_2, 5) * 100)\n",
    "retun = optimal_weights * mu\n",
    "mean_return = np.mean(retun)\n",
    "sharpe = mean_return / portfolio_risk\n",
    "np.round(sharpe, 5) "
   ]
  },
  {
   "cell_type": "code",
   "execution_count": null,
   "id": "f3623b59-2b05-416a-8ea1-23be54db6f72",
   "metadata": {},
   "outputs": [],
   "source": []
  },
  {
   "cell_type": "code",
   "execution_count": null,
   "id": "0bdce28d-770e-4e9c-803d-c70a4e20ceb6",
   "metadata": {},
   "outputs": [],
   "source": []
  },
  {
   "cell_type": "code",
   "execution_count": null,
   "id": "5267d2fd-9b26-4ea7-97f7-6fa99a981140",
   "metadata": {},
   "outputs": [],
   "source": []
  },
  {
   "cell_type": "code",
   "execution_count": null,
   "id": "071b9d1b-874e-4906-a720-8d14f18d2523",
   "metadata": {},
   "outputs": [],
   "source": []
  },
  {
   "cell_type": "code",
   "execution_count": null,
   "id": "2f5af0d0-0285-4c34-a85a-61c398699620",
   "metadata": {},
   "outputs": [],
   "source": []
  },
  {
   "cell_type": "code",
   "execution_count": null,
   "id": "19337ebc-30d4-49b5-914e-99898d5306f5",
   "metadata": {},
   "outputs": [],
   "source": []
  },
  {
   "cell_type": "code",
   "execution_count": null,
   "id": "548b9d80-7df6-4e04-91ba-76dca803c28c",
   "metadata": {},
   "outputs": [],
   "source": []
  },
  {
   "cell_type": "code",
   "execution_count": 13,
   "id": "fdb5e565-ab1a-4ade-90aa-adff3e3ba236",
   "metadata": {},
   "outputs": [
    {
     "name": "stderr",
     "output_type": "stream",
     "text": [
      "/home/august/.venvs/jupyter/lib/python3.11/site-packages/seaborn/_oldcore.py:1498: FutureWarning: is_categorical_dtype is deprecated and will be removed in a future version. Use isinstance(dtype, CategoricalDtype) instead\n",
      "  if pd.api.types.is_categorical_dtype(vector):\n",
      "/home/august/.venvs/jupyter/lib/python3.11/site-packages/seaborn/_oldcore.py:1498: FutureWarning: is_categorical_dtype is deprecated and will be removed in a future version. Use isinstance(dtype, CategoricalDtype) instead\n",
      "  if pd.api.types.is_categorical_dtype(vector):\n",
      "/home/august/.venvs/jupyter/lib/python3.11/site-packages/seaborn/_oldcore.py:1119: FutureWarning: use_inf_as_na option is deprecated and will be removed in a future version. Convert inf values to NaN before operating instead.\n",
      "  with pd.option_context('mode.use_inf_as_na', True):\n",
      "/home/august/.venvs/jupyter/lib/python3.11/site-packages/seaborn/_oldcore.py:1119: FutureWarning: use_inf_as_na option is deprecated and will be removed in a future version. Convert inf values to NaN before operating instead.\n",
      "  with pd.option_context('mode.use_inf_as_na', True):\n"
     ]
    },
    {
     "data": {
      "text/plain": [
       "<function matplotlib.pyplot.show(close=None, block=None)>"
      ]
     },
     "execution_count": 13,
     "metadata": {},
     "output_type": "execute_result"
    },
    {
     "data": {
      "image/png": "[encoded data removed]",
      "text/plain": [
       "<Figure size 1000x600 with 1 Axes>"
      ]
     },
     "metadata": {},
     "output_type": "display_data"
    }
   ],
   "source": [
    "import matplotlib.pyplot as plt\n",
    "import seaborn as sns\n",
    "import numpy as np\n",
    "# Plotting\n",
    "num_states = 2\n",
    "\n",
    "# Setting up the seaborn style for aesthetics\n",
    "sns.set(style=\"whitegrid\")\n",
    "\n",
    "plt.figure(figsize=(10, 6))\n",
    "\n",
    "# Assuming u_hat and states are provided and correct in their dimensions:\n",
    "# u_hat is assumed to be a 2D array with dimensions (N, T), where we are interested in N=0 across all T.\n",
    "# states is assumed to be an array of length T.\n",
    "\n",
    "# Utilize seaborn with pastel colors and plot only for N=0\n",
    "sns.set(style=\"whitegrid\")\n",
    "sns.lineplot(u_hat[0,:], color=\"gray\", linewidth=2.5, label='u_hat[0]')\n",
    "\n",
    "# Shading based on states with pastel colors, without redefining n or altering u_hat and states\n",
    "pastel_colors = sns.color_palette(\"pastel\", n_colors=num_states)\n",
    "for state in range(num_states):\n",
    "    plt.fill_between(range(len(states)), 0, 1, where=(states == state), color=pastel_colors[state], alpha=0.5, label=f'State {state}')\n",
    "\n",
    "plt.ylim(0, 1)  # Ensuring the y-axis is between 0 and 1\n",
    "plt.title('u_hat[0] with States Shading (Pastel) - Corrected')\n",
    "plt.xlabel('Observation')\n",
    "plt.ylabel('u_hat Value')\n",
    "plt.legend(loc='upper right')\n",
    "plt.tight_layout()\n",
    "plt.savefig('smoothed_true.png')\n",
    "plt.show"
   ]
  },
  {
   "cell_type": "markdown",
   "id": "42ebf4c6-5494-41f4-bde2-0a8e724700e8",
   "metadata": {},
   "source": [
    "# Convergence Testing\n",
    "\n"
   ]
  },
  {
   "cell_type": "code",
   "execution_count": 14,
   "id": "efe856cc-b2d8-4466-b249-f070b655603b",
   "metadata": {
    "scrolled": true
   },
   "outputs": [],
   "source": [
    "# import matplotlib.pyplot as plt\n",
    "# univariate_parameters = np.array([[0.05, 0.15, 0.75],\n",
    "#                       [0.1, 0.25, 0.6] ])#,\n",
    "#                       # [0.15, 0.15, 0.8],\n",
    "#                       # [0.2, 0.3, 0.65]])\n",
    "# true_correlation_matrix = np.array([[[1, 0.7],[0.7,1]],[[1, -0.6],[-0.6, 1]]])\n",
    "# diagonal = 0.99\n",
    "# N = 2\n",
    "# K = 2\n",
    "# true_transition_matrix = diagonal * np.eye(N) + (1-diagonal) * (np.ones((N,N)) - np.eye(N,N)) / (N - 1)\n",
    "\n",
    "# cholesky = cholesky_form(true_correlation_matrix, N, K)\n",
    "\n",
    "# # Number of observations\n",
    "# T = 10000\n",
    "# iterations = 10000\n",
    "# plot_every = 10\n",
    "\n",
    "# max_rho = []\n",
    "# min_rho = []\n",
    "# trans_diff = []\n",
    "\n",
    "# for iteration in range(iterations):\n",
    "#     # Simulate data\n",
    "#     data, states, variances, innovations = simulate_data(K, T, univariate_parameters, true_transition_matrix, cholesky)\n",
    "    \n",
    "#     # Fit model\n",
    "#     correlation_matrix, transition_matrix, log_hist = fit(data, univariate_parameters, num_states=2)\n",
    "\n",
    "#     values = np.zeros(2)\n",
    "#     # Analyze correlation matrices\n",
    "#     for i in range(N):\n",
    "#         values[i] = correlation_matrix[i][np.triu_indices(K, 1)]\n",
    "\n",
    "\n",
    "\n",
    "#     max = np.max(values)\n",
    "#     min = np.min(values)\n",
    "#     max_rho.append(max - 0.7)\n",
    "#     min_rho.append(min + 0.6)\n",
    "#     # Analyze transition matrices\n",
    "#     trans_diff.extend(np.diag(transition_matrix) - 0.99)\n",
    "    \n",
    "#     # Plot if condition is met\n",
    "#     if (iteration + 1) % plot_every == 0:\n",
    "#         plt.figure(figsize=(10, 4))\n",
    "#         plt.subplot(1, 3, 1)\n",
    "#         plt.hist(max_rho, color='skyblue', label='Max Rho')\n",
    "#         plt.title('Max Rho')\n",
    "#         plt.subplot(1, 3, 2)\n",
    "#         plt.hist(min_rho, color='salmon', label='Min Rho')\n",
    "#         plt.title('Min Rho')\n",
    "#         plt.subplot(1, 3, 3)\n",
    "#         plt.hist(trans_diff, color='lightgreen', label='Transition Diff')\n",
    "#         plt.title('Transition Diff')\n",
    "#         plt.tight_layout()\n",
    "#         plt.savefig(f'RSDC test iteration {iteration}.png')\n",
    "#         plt.close()\n",
    "# # data, states, variances, innovations = simulate_data(K,T, univariate_parameters, true_transition_matrix, cholesky)\n",
    "\n",
    "# # correlation_matrix, transition_matrix, log_hist, u_hat = fit(data, univariate_parameters, num_states=2)"
   ]
  },
  {
   "cell_type": "code",
   "execution_count": 15,
   "id": "01f93256-c776-42ba-a3a4-d7186ca68a09",
   "metadata": {},
   "outputs": [
    {
     "ename": "NameError",
     "evalue": "name 'densities' is not defined",
     "output_type": "error",
     "traceback": [
      "\u001b[0;31m---------------------------------------------------------------------------\u001b[0m",
      "\u001b[0;31mNameError\u001b[0m                                 Traceback (most recent call last)",
      "Cell \u001b[0;32mIn[15], line 1\u001b[0m\n\u001b[0;32m----> 1\u001b[0m \u001b[43mdensities\u001b[49m\u001b[38;5;241m.\u001b[39mshape,np\u001b[38;5;241m.\u001b[39mmax(densities), np\u001b[38;5;241m.\u001b[39mmin(densities), densities\n",
      "\u001b[0;31mNameError\u001b[0m: name 'densities' is not defined"
     ]
    }
   ],
   "source": [
    "densities.shape,np.max(densities), np.min(densities), densities"
   ]
  },
  {
   "cell_type": "code",
   "execution_count": null,
   "id": "90a78e35-4793-4caa-8953-10eab0a5bee1",
   "metadata": {},
   "outputs": [],
   "source": [
    "asdf"
   ]
  },
  {
   "cell_type": "code",
   "execution_count": null,
   "id": "c1806ed8-0ff9-45c2-b477-3156bb0c4a38",
   "metadata": {},
   "outputs": [],
   "source": []
  },
  {
   "cell_type": "code",
   "execution_count": null,
   "id": "c637e440-40f8-4557-83c9-20b996cd40e1",
   "metadata": {},
   "outputs": [],
   "source": []
  },
  {
   "cell_type": "code",
   "execution_count": null,
   "id": "f8f70f2b-cb34-4d9e-a4e4-6d3879d7d3f8",
   "metadata": {},
   "outputs": [],
   "source": [
    "np.sum(estimated_transition, axis=1)"
   ]
  },
  {
   "cell_type": "code",
   "execution_count": null,
   "id": "58ceb9eb-9971-4895-b842-38958142bbda",
   "metadata": {},
   "outputs": [],
   "source": [
    "\n"
   ]
  },
  {
   "cell_type": "code",
   "execution_count": null,
   "id": "d4b8272f-fd83-4d2d-b6d2-75065e0627b1",
   "metadata": {},
   "outputs": [],
   "source": [
    "alpha, beta"
   ]
  },
  {
   "cell_type": "code",
   "execution_count": null,
   "id": "4fb46308-6c1d-421c-8f96-886833cd7a19",
   "metadata": {},
   "outputs": [],
   "source": [
    "initial_states, u_hat, v_hat"
   ]
  },
  {
   "cell_type": "code",
   "execution_count": null,
   "id": "e3fd30e3-74f5-4814-8de5-8d1d508887c4",
   "metadata": {},
   "outputs": [],
   "source": [
    "estimated_transition"
   ]
  },
  {
   "cell_type": "code",
   "execution_count": null,
   "id": "dc0b51a7-9aa3-4f70-9dd1-d2cd7d376e90",
   "metadata": {},
   "outputs": [],
   "source": [
    "\n",
    "start_time = time.time()\n",
    "\n",
    "\n",
    "standard_deviations = calculate_standard_deviations(data, parameters)\n",
    "residuals = calculate_residuals(data, standard_deviations)\n",
    "true_states = form_states(states, N, T)\n",
    "correlation_matrix = estimate_model_parameters(res, true_states)\n",
    "scaled = np.zeros((N, K, K))\n",
    "for n in range(N):\n",
    "    scaled[n,:,:] = cholesky_scale(correlation_matrix[n,:,:])\n",
    "\n",
    "\n",
    "print(scaled)\n",
    "# End timing\n",
    "end_time = time.time()\n",
    "\n",
    "# Calculate elapsed time\n",
    "elapsed_time = end_time - start_time\n",
    "\n",
    "# Print elapsed time with 5 digits after the decimal point\n",
    "print(f\"Elapsed time: {elapsed_time:.5f} seconds\")\n"
   ]
  },
  {
   "cell_type": "code",
   "execution_count": null,
   "id": "42147427-0a91-42c7-bccd-1f1325df56d0",
   "metadata": {},
   "outputs": [],
   "source": []
  },
  {
   "cell_type": "code",
   "execution_count": null,
   "id": "e04c7b44-13d7-478c-9498-9ed8f010db7c",
   "metadata": {},
   "outputs": [],
   "source": []
  },
  {
   "cell_type": "code",
   "execution_count": null,
   "id": "87f2d866-84ca-47f7-a06f-5e167c0c90ba",
   "metadata": {},
   "outputs": [],
   "source": [
    "correlation_matrix"
   ]
  },
  {
   "cell_type": "code",
   "execution_count": null,
   "id": "760bd6fb-5664-4a86-be05-beee0a0b2e5f",
   "metadata": {},
   "outputs": [],
   "source": [
    "scaled"
   ]
  },
  {
   "cell_type": "code",
   "execution_count": null,
   "id": "2ac51218-c858-4bfb-81e4-dd4ec6cdecff",
   "metadata": {},
   "outputs": [],
   "source": [
    "true_correlation_matrix"
   ]
  },
  {
   "cell_type": "code",
   "execution_count": null,
   "id": "a41c3d9b-27b0-4758-9ebd-fcb1bb7a6113",
   "metadata": {},
   "outputs": [],
   "source": []
  },
  {
   "cell_type": "code",
   "execution_count": null,
   "id": "3e0cbba4-2085-4f0e-b955-d89676881697",
   "metadata": {},
   "outputs": [],
   "source": [
    "transition_matrix"
   ]
  }
 ],
 "metadata": {
  "kernelspec": {
   "display_name": "Python 3 (ipykernel)",
   "language": "python",
   "name": "python3"
  },
  "language_info": {
   "codemirror_mode": {
    "name": "ipython",
    "version": 3
   },
   "file_extension": ".py",
   "mimetype": "text/x-python",
   "name": "python",
   "nbconvert_exporter": "python",
   "pygments_lexer": "ipython3",
   "version": "3.11.6"
  }
 },
 "nbformat": 4,
 "nbformat_minor": 5
}
