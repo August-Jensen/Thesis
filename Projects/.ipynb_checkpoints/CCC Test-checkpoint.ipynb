{
 "cells": [
  {
   "cell_type": "markdown",
   "id": "f6696e6a-9fec-4cef-8dd0-aec6b7b1f359",
   "metadata": {},
   "source": [
    "# CCC"
   ]
  },
  {
   "cell_type": "code",
   "execution_count": 40,
   "id": "8890c262-b0db-49fe-a35e-433ac011f57c",
   "metadata": {},
   "outputs": [
    {
     "name": "stdout",
     "output_type": "stream",
     "text": [
      "[[ 0.          0.42528722 -0.53439054  0.49239163 -1.13032801]\n",
      " [ 0.          1.0303869   0.58196213  1.95808    -0.07943012]\n",
      " [ 0.          0.10280952 -1.51931545 -0.17959675 -2.14417318]]\n",
      "Elapsed time: 11.23085 seconds\n"
     ]
    }
   ],
   "source": [
    "import time\n",
    "import numpy as np\n",
    "\n",
    "start_time = time.time()\n",
    "parameters = np.array([[0.05, 0.15, 0.75],\n",
    "                      [0.1, 0.25, 0.6],\n",
    "                      [0.15, 0.20, 0.7]])\n",
    "\n",
    "correlation_matrix =  np.array([[[1, 0.6, 0.4],\n",
    "                                 [0.6, 1, -0.3],\n",
    "                                 [0.4, -0.3, 1]]])\n",
    "\n",
    "\n",
    "decomp = np.linalg.cholesky(correlation_matrix)\n",
    "decomp\n",
    "# Number of observations\n",
    "T = 1000000\n",
    "K = correlation_matrix.shape[1]\n",
    "# Initialize arrays to store the processes and variances\n",
    "processes = np.zeros((K, T))\n",
    "variances = np.zeros((K, T))\n",
    "innovations = np.zeros((K, T))\n",
    "\n",
    "# Initial variance (can be set equal to the long-term variance)\n",
    "variances[:, 0] = parameters[:, 0] / (1 - parameters[:, 1] - parameters[:, 2])\n",
    "\n",
    "# Simulate the GARCH processes\n",
    "for t in range(1, T):\n",
    "    # Simulate standard normal innovations\n",
    "    z = np.random.normal(0, 1, K)\n",
    "    # Apply the Cholesky decomposition to introduce correlation\n",
    "    correlated_z = decomp @ z\n",
    "    # Update the variance\n",
    "    variances[:, t] = parameters[:, 0] + parameters[:, 1] * (processes[:, t-1]**2) + parameters[:, 2] * variances[:, t-1]\n",
    "    # Calculate the process values\n",
    "    processes[:, t] = np.sqrt(variances[:, t]) * correlated_z[:]\n",
    "\n",
    "# Output the first few values to check\n",
    "print(processes[:, :5])\n",
    "\n",
    "# End timing\n",
    "end_time = time.time()\n",
    "\n",
    "# Calculate elapsed time\n",
    "elapsed_time = end_time - start_time\n",
    "\n",
    "# Print elapsed time with 5 digits after the decimal point\n",
    "print(f\"Elapsed time: {elapsed_time:.5f} seconds\")\n"
   ]
  },
  {
   "cell_type": "code",
   "execution_count": 41,
   "id": "58ceb9eb-9971-4895-b842-38958142bbda",
   "metadata": {},
   "outputs": [
    {
     "name": "stdout",
     "output_type": "stream",
     "text": [
      "[[ 1.          0.60050138  0.40071723]\n",
      " [ 0.60050138  1.         -0.29918457]\n",
      " [ 0.40071723 -0.29918457  1.        ]]\n",
      "Elapsed time: 4.59983 seconds\n"
     ]
    }
   ],
   "source": [
    "def standard_deviations(data, univariate_parameters):\n",
    "    K,T = data.shape\n",
    "    sigmas = np.zeros((K,T))\n",
    "    sigmas[:,0] = np.var(data, axis=1)\n",
    "    for t in range(1, T):\n",
    "        sigmas[:,t] = univariate_parameters[:,0] + univariate_parameters[:, 1] * data[:, t-1]**2 + univariate_parameters[:, 2] * sigmas[:, t-1]    \n",
    "    return np.sqrt(sigmas)\n",
    "\n",
    "def calculate_res(data, sigma):\n",
    "    return data / sigma\n",
    "\n",
    "def density(residuals):\n",
    "    K, T = residuals.shape\n",
    "    correlation_matrix = np.sum(np.einsum('it,jt->ijt', residuals, residuals), axis=-1) / T\n",
    "    return correlation_matrix\n",
    "    \n",
    "def cholesky_scale(matrix):\n",
    "    K, E = matrix.shape\n",
    "    P = np.linalg.cholesky(matrix)\n",
    "    for j in range(K):\n",
    "        sum = np.sum(P[j, :j] ** 2)\n",
    "        P[j,j] = np.sqrt(1-sum) if 1 - sum > 0 else 0\n",
    "    scaled = np.dot(P, P.T)\n",
    "    return scaled\n",
    "\n",
    "\n",
    "\n",
    "\n",
    "start_time = time.time()\n",
    "\n",
    "\n",
    "std = standard_deviations(processes, parameters)\n",
    "res = calculate_res(processes, std)\n",
    "correlation_matrix = density(res)\n",
    "scaled = cholesky_scale(correlation_matrix)\n",
    "print(scaled)\n",
    "# End timing\n",
    "end_time = time.time()\n",
    "\n",
    "# Calculate elapsed time\n",
    "elapsed_time = end_time - start_time\n",
    "\n",
    "# Print elapsed time with 5 digits after the decimal point\n",
    "print(f\"Elapsed time: {elapsed_time:.5f} seconds\")\n"
   ]
  },
  {
   "cell_type": "markdown",
   "id": "7424f577-2000-45d5-b86b-0a87580473d4",
   "metadata": {},
   "source": [
    "# Multi state\n"
   ]
  },
  {
   "cell_type": "code",
   "execution_count": 55,
   "id": "dc0b51a7-9aa3-4f70-9dd1-d2cd7d376e90",
   "metadata": {},
   "outputs": [
    {
     "name": "stdout",
     "output_type": "stream",
     "text": [
      "Elapsed time: 4.41460 seconds\n"
     ]
    }
   ],
   "source": [
    "import time\n",
    "import numpy as np\n",
    "\n",
    "start_time = time.time()\n",
    "parameters = np.array([[0.05, 0.15, 0.75],\n",
    "                      [0.1, 0.25, 0.6],\n",
    "                      [0.15, 0.20, 0.7]])\n",
    "\n",
    "correlation_matrix =  np.array([[[1, 0.6, 0.4],[0.6, 1, -0.3],[0.4, -0.3, 1]],\n",
    "                               [[1, -0.6, 0.2],[-0.6, 1, 0.3],[0.2, 0.3, 1]],\n",
    "                               [[1, 0.9, -0.4],[0.9, 1, -0.1],[-0.4, -0.1, 1]]])\n",
    "diagonal = 0.99\n",
    "N = 3\n",
    "K = 3\n",
    "transition_matrix = diagonal * np.eye(N) + (1-diagonal) * (np.ones((N,N)) - np.eye(N,N)) / (N - 1)\n",
    "decomp = np.zeros((N, K, K))\n",
    "for n in range(N):\n",
    "    decomp[n,:,:] = choleski_form(correlation_matrix[n,:,:])\n",
    "\n",
    "\n",
    "# Number of observations\n",
    "T = 100000\n",
    "\n",
    "# Initialize arrays to store the processes and variances\n",
    "processes = np.zeros((K, T))\n",
    "variances = np.zeros((K, T))\n",
    "states = np.zeros((T))\n",
    "innovations = np.zeros((K, T))\n",
    "\n",
    "# Initial variance (can be set equal to the long-term variance)\n",
    "variances[:, 0] = parameters[:, 0] / (1 - parameters[:, 1] - parameters[:, 2])\n",
    "states[0] = 0\n",
    "# Simulate the GARCH processes\n",
    "for t in range(1, T):\n",
    "    state = int(states[t-1])\n",
    "    current_state = np.random.choice(a=[0,1,2], p=transition_matrix[state])\n",
    "    states[t] = current_state\n",
    "    \n",
    "    # Simulate standard normal innovations\n",
    "    z = np.random.normal(0, 1, K)\n",
    "    # Apply the Cholesky decomposition to introduce correlation\n",
    "    correlated_z = decomp[current_state,:,:] @ z\n",
    "    # Update the variance\n",
    "    variances[:, t] = parameters[:, 0] + parameters[:, 1] * (processes[:, t-1]**2) + parameters[:, 2] * variances[:, t-1]\n",
    "    # Calculate the process values\n",
    "    processes[:, t] = np.sqrt(variances[:, t]) * correlated_z[:]\n",
    "\n",
    "\n",
    "\n",
    "\n",
    "\n",
    "\n",
    "\n",
    "\n",
    "\n",
    "\n",
    "\n",
    "# End timing\n",
    "end_time = time.time()\n",
    "\n",
    "# Calculate elapsed time\n",
    "elapsed_time = end_time - start_time\n",
    "\n",
    "# Print elapsed time with 5 digits after the decimal point\n",
    "print(f\"Elapsed time: {elapsed_time:.5f} seconds\")\n"
   ]
  },
  {
   "cell_type": "code",
   "execution_count": null,
   "id": "42147427-0a91-42c7-bccd-1f1325df56d0",
   "metadata": {},
   "outputs": [],
   "source": []
  },
  {
   "cell_type": "code",
   "execution_count": 47,
   "id": "e04c7b44-13d7-478c-9498-9ed8f010db7c",
   "metadata": {},
   "outputs": [
    {
     "name": "stdout",
     "output_type": "stream",
     "text": [
      "[[1.         0.52716372 0.36040094]\n",
      " [0.52716372 1.         0.06942311]\n",
      " [0.36040094 0.06942311 1.        ]]\n",
      "Elapsed time: 0.00339 seconds\n"
     ]
    }
   ],
   "source": [
    "def choleski_form(matrix):\n",
    "    return np.linalg.cholesky(matrix)\n",
    "def standard_deviations(data, univariate_parameters):\n",
    "    K,T = data.shape\n",
    "    sigmas = np.zeros((K,T))\n",
    "    sigmas[:,0] = np.var(data, axis=1)\n",
    "    for t in range(1, T):\n",
    "        sigmas[:,t] = univariate_parameters[:,0] + univariate_parameters[:, 1] * data[:, t-1]**2 + univariate_parameters[:, 2] * sigmas[:, t-1]    \n",
    "    return np.sqrt(sigmas)\n",
    "\n",
    "def calculate_res(data, sigma):\n",
    "    return data / sigma\n",
    "\n",
    "def density(residuals):\n",
    "    K, T = residuals.shape\n",
    "    correlation_matrix = np.sum(np.einsum('it,jt->ijt', residuals, residuals), axis=-1) / T\n",
    "    return correlation_matrix\n",
    "    \n",
    "def cholesky_scale(matrix):\n",
    "    K, E = matrix.shape\n",
    "    P = np.linalg.cholesky(matrix)\n",
    "    for j in range(K):\n",
    "        sum = np.sum(P[j, :j] ** 2)\n",
    "        P[j,j] = np.sqrt(1-sum) if 1 - sum > 0 else 0\n",
    "    scaled = np.dot(P, P.T)\n",
    "    return scaled\n",
    "\n",
    "\n",
    "\n",
    "\n",
    "start_time = time.time()\n",
    "\n",
    "\n",
    "std = standard_deviations(processes, parameters)\n",
    "res = calculate_res(processes, std)\n",
    "correlation_matrix = density(res)\n",
    "scaled = cholesky_scale(correlation_matrix)\n",
    "print(scaled)\n",
    "# End timing\n",
    "end_time = time.time()\n",
    "\n",
    "# Calculate elapsed time\n",
    "elapsed_time = end_time - start_time\n",
    "\n",
    "# Print elapsed time with 5 digits after the decimal point\n",
    "print(f\"Elapsed time: {elapsed_time:.5f} seconds\")\n"
   ]
  },
  {
   "cell_type": "code",
   "execution_count": 43,
   "id": "87f2d866-84ca-47f7-a06f-5e167c0c90ba",
   "metadata": {},
   "outputs": [
    {
     "data": {
      "text/plain": [
       "array([[0.99 , 0.005, 0.005],\n",
       "       [0.005, 0.99 , 0.005],\n",
       "       [0.005, 0.005, 0.99 ]])"
      ]
     },
     "execution_count": 43,
     "metadata": {},
     "output_type": "execute_result"
    }
   ],
   "source": [
    "transition_matrix"
   ]
  },
  {
   "cell_type": "code",
   "execution_count": null,
   "id": "a41c3d9b-27b0-4758-9ebd-fcb1bb7a6113",
   "metadata": {},
   "outputs": [],
   "source": []
  },
  {
   "cell_type": "code",
   "execution_count": null,
   "id": "3e0cbba4-2085-4f0e-b955-d89676881697",
   "metadata": {},
   "outputs": [],
   "source": []
  }
 ],
 "metadata": {
  "kernelspec": {
   "display_name": "Python 3 (ipykernel)",
   "language": "python",
   "name": "python3"
  },
  "language_info": {
   "codemirror_mode": {
    "name": "ipython",
    "version": 3
   },
   "file_extension": ".py",
   "mimetype": "text/x-python",
   "name": "python",
   "nbconvert_exporter": "python",
   "pygments_lexer": "ipython3",
   "version": "3.11.6"
  }
 },
 "nbformat": 4,
 "nbformat_minor": 5
}
