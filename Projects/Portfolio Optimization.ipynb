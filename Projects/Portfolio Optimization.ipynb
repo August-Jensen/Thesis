{
 "cells": [
  {
   "cell_type": "markdown",
   "id": "f6696e6a-9fec-4cef-8dd0-aec6b7b1f359",
   "metadata": {},
   "source": [
    "# RSDC\n",
    "Structure:\n",
    "1. Simulate data\n",
    "2. Original Estimation Functions\n",
    "3. Expectation Functions\n",
    "4. Uniting functions\n",
    "\n"
   ]
  },
  {
   "cell_type": "code",
   "execution_count": 2,
   "id": "9624eacc-0b14-4d1a-bc74-8f72bf0c0ead",
   "metadata": {},
   "outputs": [],
   "source": [
    "import numpy as np\n",
    "import time\n",
    "from scipy.stats import t, norm\n",
    "import pandas as pd\n",
    "from arch import arch_model\n",
    "from tqdm import tqdm\n",
    "import numpy as np\n",
    "import pandas as pd\n",
    "import yfinance as yf\n",
    "import matplotlib.pyplot as plt\n",
    "from scipy.optimize import minimize\n",
    "from scipy.stats import norm\n",
    "from scipy.stats import skew, kurtosis\n",
    "from scipy.stats.mstats import gmean\n"
   ]
  },
  {
   "cell_type": "markdown",
   "id": "27418fde-62b2-41c5-89d6-72a83dfb6e97",
   "metadata": {},
   "source": [
    "## Simulation\n",
    "***\n"
   ]
  },
  {
   "cell_type": "code",
   "execution_count": 66,
   "id": "5e48ff95-58e4-4fa3-a8a1-953a69bac722",
   "metadata": {},
   "outputs": [],
   "source": [
    "def simulate_data(K,T, parameters, transition_matrix, cholesky):\n",
    "    # Initialize arrays to store the processes and variances\n",
    "    processes = np.zeros((K, T))\n",
    "    variances = np.zeros((K, T))\n",
    "    states = np.zeros((T))\n",
    "    innovations = np.zeros((K, T))\n",
    "    \n",
    "    # Initial variance (can be set equal to the long-term variance)\n",
    "    variances[:, 0] = parameters[:, 0] / (1 - parameters[:, 1] - parameters[:, 2])\n",
    "    states[0] = 0\n",
    "    # Simulate the GARCH processes\n",
    "    for t in range(1, T):\n",
    "        state = int(states[t-1])\n",
    "        current_state = np.random.choice(a=[0,1], p=transition_matrix[state])\n",
    "        states[t] = current_state\n",
    "        \n",
    "        # Simulate standard normal innovations\n",
    "        z = np.random.normal(0, 1, K)\n",
    "        # Apply the Cholesky decomposition to introduce correlation\n",
    "        correlated_z = cholesky[current_state,:,:] @ z\n",
    "        # Update the variance\n",
    "        variances[:, t] = parameters[:, 0] + parameters[:, 1] * (processes[:, t-1]**2) + parameters[:, 2] * variances[:, t-1]\n",
    "        # Calculate the process values\n",
    "        processes[:, t] = np.sqrt(variances[:, t]) * correlated_z[:]\n",
    "    return processes, states, variances, innovations\n",
    "\n",
    "def cholesky_form(matrix, N, K):\n",
    "    cholesky = np.zeros((N, K, K))\n",
    "    for n in range(N):\n",
    "        cholesky[n,:,:] = np.linalg.cholesky(true_correlation_matrix[n,:,:])\n",
    "\n",
    "    return cholesky\n",
    "import numpy as np\n",
    "def vectorized_simulate_data(K, T, parameters, transition_matrix, cholesky):\n",
    "    # Pre-allocate arrays\n",
    "    processes = np.zeros((K, T))\n",
    "    variances = np.zeros((K, T))\n",
    "    states = np.zeros(T, dtype=int)\n",
    "    innovations = np.random.normal(0, 1, (K, T))  # Pre-generate all innovations\n",
    "    \n",
    "    # Initial variance\n",
    "    variances[:, 0] = parameters[:, 0] / (1 - parameters[:, 1] - parameters[:, 2])\n",
    "    \n",
    "    # Simulate states with a Markov chain\n",
    "    # This part is inherently sequential but let's try to minimize the loop's impact.\n",
    "    for t in range(1, T):\n",
    "        states[t] = np.random.choice([0, 1], p=transition_matrix[states[t-1]])\n",
    "    \n",
    "    # Vectorize the correlation application using pre-simulated innovations\n",
    "    # Note: This approach changes the structure slightly, as we need to correlate all innovations first and then select based on state\n",
    "    correlated_innovations = np.zeros((K, T))\n",
    "    for state in range(transition_matrix.shape[0]):\n",
    "        # Find indices where this state occurs\n",
    "        state_indices = np.where(states == state)[0]\n",
    "        if len(state_indices) > 0:\n",
    "            for i in state_indices:\n",
    "                correlated_innovations[:, i] = cholesky[state] @ innovations[:, i]\n",
    "    \n",
    "    # Update variances and processes in a vectorized way\n",
    "    for t in range(1, T):\n",
    "        variances[:, t] = parameters[:, 0] + parameters[:, 1] * (processes[:, t-1]**2) + parameters[:, 2] * variances[:, t-1]\n",
    "        processes[:, t] = np.sqrt(variances[:, t]) * correlated_innovations[:, t]\n",
    "    \n",
    "    return processes, states, variances, innovations\n",
    "\n",
    "def optimized_simulate_data(K, T, parameters, transition_matrix, cholesky):\n",
    "    # Pre-allocate arrays\n",
    "    processes = np.zeros((K, T))\n",
    "    states = np.zeros(T, dtype=int)\n",
    "    variances = np.zeros((K, T))\n",
    "    \n",
    "    # Pre-generate all innovations now assuming independence, correlate them later in loop\n",
    "    innovations = np.random.normal(0, 1, (K, T))  \n",
    "    \n",
    "    # Initial variance\n",
    "    variances[:, 0] = parameters[:, 0] / (1 - parameters[:, 1] - parameters[:, 2])\n",
    "    \n",
    "    # Simulate states with a Markov chain\n",
    "    for t in range(1, T):\n",
    "        states[t] = np.random.choice([0, 1], p=transition_matrix[states[t-1]])\n",
    "    \n",
    "    # Update variances and processes, applying Cholesky based on state\n",
    "    for t in range(1, T):\n",
    "        # Select the current state and apply Cholesky decomposition to the innovations for correlation\n",
    "        state = states[t]\n",
    "        correlated_innovations = cholesky[state] @ innovations[:, t]\n",
    "        \n",
    "        # Update variances\n",
    "        variances[:, t] = parameters[:, 0] + parameters[:, 1] * (processes[:, t-1]**2) + parameters[:, 2] * variances[:, t-1]\n",
    "        \n",
    "        # Update processes\n",
    "        processes[:, t] = np.sqrt(variances[:, t]) * correlated_innovations\n",
    "    \n",
    "    return processes, states\n",
    "\n",
    "def ultra_optimized_simulate_data(K, T, parameters, transition_matrix, cholesky):\n",
    "    # Pre-allocate arrays\n",
    "    processes = np.zeros((K, T))\n",
    "    states = np.zeros(T, dtype=int)\n",
    "    variances = np.zeros((K, T))\n",
    "    \n",
    "    # Initial variance and innovations are pre-calculated outside the loop\n",
    "    variances[:, 0] = parameters[:, 0] / (1 - parameters[:, 1] - parameters[:, 2])\n",
    "    innovations = np.random.normal(0, 1, (K, T)) \n",
    "    \n",
    "    # Simulate states with a Markov chain, remains sequential due to dependencies\n",
    "    for t in range(1, T):\n",
    "        states[t] = np.random.choice([0, 1], p=transition_matrix[states[t-1]])\n",
    "\n",
    "    # Pre-compute Cholesky-applied innovations to minimize operations inside the loop\n",
    "    cholesky_innovations = np.array([cholesky[state] @ innovations for state in states]).transpose((1, 2, 0))\n",
    "    \n",
    "    # Loop for process and variance update\n",
    "    for t in range(1, T):\n",
    "        state = states[t]\n",
    "        # Use pre-computed Cholesky innovations\n",
    "        correlated_innovations = cholesky_innovations[:, :, t]\n",
    "        variances[:, t] = parameters[:, 0] + parameters[:, 1] * (processes[:, t-1]**2) + parameters[:, 2] * variances[:, t-1]\n",
    "        processes[:, t] = np.sqrt(variances[:, t]) * correlated_innovations\n",
    "    \n",
    "    return processes, states\n",
    "\n",
    "\n",
    "def calculate_standard_deviations(data, univariate_parameters):\n",
    "    K,T = data.shape\n",
    "    sigmas = np.zeros((K,T))\n",
    "    sigmas[:,0] = np.var(data, axis=1)\n",
    "    for t in range(1, T):\n",
    "        sigmas[:,t] = univariate_parameters[:,0] + univariate_parameters[:, 1] * data[:, t-1]**2 + univariate_parameters[:, 2] * sigmas[:, t-1]    \n",
    "    return np.sqrt(sigmas)\n",
    "\n",
    "def calculate_residuals(data, sigma):\n",
    "    return data / sigma\n",
    "\n",
    "\n",
    "\n",
    "def form_states(states, N, T):\n",
    "    # Ensure states are integers within the correct range\n",
    "    states = np.clip(states.astype(int), 0, N-1)\n",
    "    \n",
    "    # Initialize the state array with zeros\n",
    "    state_array = np.zeros((N, T))\n",
    "    \n",
    "    # Mark ones for active states\n",
    "    for t, state in enumerate(states):\n",
    "        state_array[state, t] = 1\n",
    "    \n",
    "    return state_array\n",
    "def estimate_correlation_from_residuals(residuals):\n",
    "    \"\"\"\n",
    "    Estimates a correlation matrix from the residuals.\n",
    "    \"\"\"\n",
    "    # Compute the covariance matrix from residuals\n",
    "    covariance_matrix = np.cov(residuals)\n",
    "    # Normalize the covariance matrix to get the correlation matrix\n",
    "    std_dev = np.sqrt(np.diag(covariance_matrix))\n",
    "    correlation_matrix = covariance_matrix / np.outer(std_dev, std_dev)\n",
    "    return correlation_matrix\n",
    "\n",
    "def scale_correlation_matrix(correlation_matrix, scale_factor):\n",
    "    \"\"\"\n",
    "    Scales the off-diagonal elements of the correlation matrix by a factor.\n",
    "    \"\"\"\n",
    "    scaled_matrix = correlation_matrix.copy()\n",
    "    np.fill_diagonal(scaled_matrix, 1)  # Ensure diagonals are 1\n",
    "    for i in range(scaled_matrix.shape[0]):\n",
    "        for j in range(i + 1, scaled_matrix.shape[1]):\n",
    "            # Scale off-diagonal elements\n",
    "            scaled_matrix[i, j] = scaled_matrix[i, j] * scale_factor\n",
    "            scaled_matrix[j, i] = scaled_matrix[j, i] * scale_factor\n",
    "    return scaled_matrix\n",
    "\n",
    "# def generate_initial_correlation_matrices(N, K, residuals):\n",
    "#     \"\"\"\n",
    "#     Generates N correlation matrices, where the first is estimated from residuals\n",
    "#     and subsequent matrices are scaled versions of the first.\n",
    "#     \"\"\"\n",
    "#     correlation_matrices = np.zeros((N, K, K))\n",
    "#     # Estimate the initial correlation matrix from residuals\n",
    "#     base_correlation_matrix = estimate_correlation_from_residuals(residuals)\n",
    "#     correlation_matrices[0] = base_correlation_matrix\n",
    "#     # Scale for subsequent matrices\n",
    "#     for i in range(1, N):\n",
    "#         scale_factor = 1 + (i * 0.01)  # Example scaling: increment by 1% per state\n",
    "#         correlation_matrices[i] = scale_correlation_matrix(base_correlation_matrix, scale_factor)\n",
    "    \n",
    "#     return correlation_matrices\n",
    "def generate_initial_correlation_matrices(N, K, residuals):\n",
    "    # Create an array to hold the correlation matrices\n",
    "    correlation_matrices = np.zeros((N, K, K))\n",
    "    \n",
    "    # Define the pattern of off-diagonal values based on N\n",
    "    off_diagonal_values = np.linspace(0.2, -0.01 * N, N)\n",
    "    \n",
    "    for i in range(N):\n",
    "        # Fill the diagonal with 1s\n",
    "        np.fill_diagonal(correlation_matrices[i], 1)\n",
    "        \n",
    "        # Fill the off-diagonal elements with the specified pattern\n",
    "        np.fill_diagonal(correlation_matrices[i, :, 1:], off_diagonal_values[i])\n",
    "        np.fill_diagonal(correlation_matrices[i, 1:, :], off_diagonal_values[i])\n",
    "        \n",
    "        # Ensure the matrix is symmetric\n",
    "        correlation_matrices[i] = (correlation_matrices[i] + correlation_matrices[i].T) / 2\n",
    "\n",
    "    for i in range(N):\n",
    "        correlation_matrices[i] = cholesky_scale(correlation_matrices[i])\n",
    "    print(correlation_matrices)\n",
    "    return correlation_matrices\n",
    "\n",
    "\n",
    "def initial_state(N):\n",
    "    # Initial_state = 1/N\n",
    "    initial_states = np.ones(N) / N\n",
    "    return initial_states\n",
    "    \n",
    "def get_densities(N, K, T, standard_deviations, correlation_matrices, residuals):\n",
    "    # Calculate Inverse and Determinant of the correlation matrix R\n",
    "    det_R = np.zeros(N)\n",
    "    inv_R = np.zeros((N,K,K))\n",
    "    for n in range(N):\n",
    "        det_R[n] = np.linalg.det(correlation_matrices[n,:,:])\n",
    "        inv_R[n,:,:] = np.linalg.inv(correlation_matrices[n,:,:])\n",
    "    # Use log for the determinant part to avoid overflow\n",
    "    log_determinants = np.sum(np.log(standard_deviations), axis=0)\n",
    "    \n",
    "    # Initial log densities\n",
    "    initial_log_densities = np.ones((N, T)) * K * np.log(2 * np.pi)\n",
    "    \n",
    "    # Combine initial log densities and log determinants\n",
    "    log_densities = initial_log_densities + log_determinants[np.newaxis, :]\n",
    "    \n",
    "    # Adjust log_densities for broadcasting\n",
    "    det_R_adjusted = det_R[:, np.newaxis]\n",
    "    \n",
    "    # Calculate z_t @ R_inv @ z_t' in a numerically stable manner\n",
    "    intermediate_result = np.einsum('nkl,lt->nkt', inv_R, residuals)\n",
    "    final_result = np.einsum('nkt,kt->nt', intermediate_result, residuals)\n",
    "    \n",
    "    # Combine to update log densities\n",
    "    log_densities += -0.5 * (det_R_adjusted + final_result)\n",
    "    \n",
    "    # Convert log densities to densities safely\n",
    "    max_log_densities = np.max(log_densities, axis=0, keepdims=True)\n",
    "    densities = np.exp(log_densities - max_log_densities)\n",
    "    return det_R, inv_R, densities\n",
    "\n",
    "def forward_pass(N, T, initial_states, densities, transition_matrix):\n",
    "    # Initialize forward probabilities & Scale factors\n",
    "    forward_probabilities = np.zeros((N, T))\n",
    "    scale_factors = np.zeros(T)\n",
    "\n",
    "    # Set observation 0\n",
    "    forward_probabilities[:, 0] = initial_states * densities[:,0]\n",
    "    scale_factors[0] = 1.0 / np.sum(forward_probabilities[:, 0], axis = 0)\n",
    "    forward_probabilities[:,0] *= scale_factors[0, np.newaxis]\n",
    "\n",
    "    # Loop through all T\n",
    "    for t in range(1, T):\n",
    "        forward_probabilities[:, t] = np.dot(forward_probabilities[:,t-1], transition_matrix) * densities[:,t]\n",
    "        scale_factors[t] = 1.0 / np.sum(forward_probabilities[:, t], axis = 0)\n",
    "        forward_probabilities[:,t] *= scale_factors[t, np.newaxis]\n",
    "    # Return Scales and forward probabilities\n",
    "    return forward_probabilities, scale_factors\n",
    "\n",
    "def backward_pass(N, T, scale_factors, transition_matrix, densities):\n",
    "    # Initialize Backward probabilitiy array\n",
    "    backward_probabilities = np.zeros((N, T))\n",
    "\n",
    "    # set observation 0\n",
    "    backward_probabilities[:, T-1] = 1.0 * scale_factors[T-1, np.newaxis]\n",
    "\n",
    "    # Loop from T-2 to -1\n",
    "    for t in range(T-2, -1, -1):\n",
    "        backward_probabilities[:,t] = np.dot(transition_matrix, (densities[:,t+1] * backward_probabilities[:, t+1]))\n",
    "        \n",
    "        # Scale to prevent underflow\n",
    "        backward_probabilities[:,t] *= scale_factors[t, np.newaxis]\n",
    "    return backward_probabilities\n",
    "\n",
    "def calculate_smoothed_probabilities(forward_probabilities, backward_probabilities, transition_matrix, densities):\n",
    "    # Smoothed State probabilities\n",
    "    numerator = forward_probabilities * backward_probabilities\n",
    "    denominator = numerator.sum(axis=0, keepdims=True)\n",
    "    u_hat = numerator / denominator\n",
    "\n",
    "    # Initial state probabilities\n",
    "    delta = u_hat[:,0]\n",
    "\n",
    "    # Precompute smoothed transitions\n",
    "    a = np.roll(forward_probabilities, shift=1, axis=1)\n",
    "    a[:,0] = 0 # Set initial to 0 as there is no t-1 for the first element\n",
    "    \n",
    "    # Einsum over the precomputed\n",
    "    numerator = np.einsum('jt,jk,kt,kt->jkt', a, transition_matrix, densities, backward_probabilities)\n",
    "    denominator = numerator.sum(axis=(0,1), keepdims=True) + 1e-6 # Sum over both J and K for normalization\n",
    "    v_hat = numerator / denominator\n",
    "\n",
    "    # Return\n",
    "    return delta, u_hat, v_hat\n",
    "\n",
    "\n",
    "def calculate_log_likelihood(N, scale_factors):\n",
    "    # ll = np.log(np.sum(alpha[:,-1]))\n",
    "    ll = np.sum(np.log(scale_factors)) #  np.sum(alpha[:,-1])\n",
    "    return ll\n",
    "def estimate_model_parameters(residuals,states):\n",
    "    K, T = residuals.shape\n",
    "    sum_states = np.sum(states, axis=-1)\n",
    "    sum_states_reshaped = sum_states[:, np.newaxis, np.newaxis]\n",
    "    correlation_matrix = np.sum(np.einsum('it,jt,nt->nijt', residuals, residuals, states), axis=-1) / sum_states_reshaped\n",
    "    # Regularization: Add a small value to the diagonal\n",
    "    epsilon = 1e-6  # Small positive value\n",
    "    for n in range(correlation_matrix.shape[0]):\n",
    "        np.fill_diagonal(correlation_matrix[n], correlation_matrix[n].diagonal() + epsilon)\n",
    "    \n",
    "    return correlation_matrix\n",
    "\n",
    "def form_transition_matrix(N):\n",
    "    diagonal = 0.98\n",
    "    transition_matrix = diagonal * np.eye(N) + (1-diagonal) * (np.ones((N,N)) - np.eye(N,N)) / (N - 1)\n",
    "    return transition_matrix\n",
    "    \n",
    "def setup(N, data, univariate_parameters):\n",
    "    initial_states = initial_state(N)\n",
    "    standard_deviations = calculate_standard_deviations(data, univariate_parameters)\n",
    "    residuals = calculate_residuals(data, standard_deviations)\n",
    "    correlation_matrix = generate_initial_correlation_matrices(N, K, residuals)\n",
    "    transition_matrix = form_transition_matrix(N)\n",
    "    return initial_states, standard_deviations, residuals, correlation_matrix, transition_matrix\n",
    "\n",
    "\n",
    "\n",
    "def diagonal_matrix_operations(matrix):\n",
    "    # Step 1: Extract the diagonal of the matrix\n",
    "    diag_elements = np.diag(matrix)\n",
    "    \n",
    "    # Step 2: Create a new diagonal matrix from these elements\n",
    "    diag_matrix = np.diag(diag_elements)\n",
    "    \n",
    "    # Step 3: Take the square root of the diagonal elements\n",
    "    sqrt_diag_matrix = np.sqrt(diag_matrix)\n",
    "    \n",
    "    # Step 4: Compute the inverse of the matrix\n",
    "    # Since it's a diagonal matrix, we can invert it by inverting each non-zero diagonal element\n",
    "    inverse_matrix = np.linalg.inv(sqrt_diag_matrix)\n",
    "    \n",
    "    return inverse_matrix\n",
    "\n",
    "# Example matrix\n",
    "matrix_example = np.array([[1, 2, 3],\n",
    "                           [4, 5, 6],\n",
    "                           [7, 8, 9]])\n",
    "\n",
    "# Function call\n",
    "inverse_matrix_result = diagonal_matrix_operations(matrix_example)\n",
    "\n",
    "inverse_matrix_result\n",
    "\n",
    "# from scipy.stats import t, norm\n",
    "\n",
    "# def normalize_residuals_t_to_normal(data, standard_deviations, univariate_parameters):\n",
    "#     K, T = data.shape\n",
    "#     normalized_residuals = np.zeros((K, T))\n",
    "    \n",
    "#     for k in range(K):\n",
    "#         nu = univariate_parameters[k, -1]  # Last column for degrees of freedom\n",
    "#         # Calculate original residuals\n",
    "#         original_residuals = (data[k, :] - 0) / standard_deviations[k, :]  # Assuming mean 0 for simplicity\n",
    "#         # Transform residuals from t-distribution to standard normal\n",
    "#         p = t.cdf(original_residuals, df=nu)\n",
    "#         normalized_residuals[k, :] = norm.ppf(p)\n",
    "        \n",
    "#     return normalized_residuals\n",
    "\n",
    "# def setup(N, data, univariate_parameters):\n",
    "#     K, T = data.shape\n",
    "#     initial_states = initial_state(N)\n",
    "#     # Calculate standard deviations based on GARCH model\n",
    "#     standard_deviations = calculate_standard_deviations(data, univariate_parameters)\n",
    "    \n",
    "#     # Calculate original residuals based on standard deviations\n",
    "#     residuals = calculate_residuals(data, standard_deviations)\n",
    "    \n",
    "#     # Normalize residuals to be standard normal\n",
    "#     normalized_residuals = normalize_residuals_t_to_normal(data, standard_deviations, univariate_parameters)\n",
    "    \n",
    "#     # Generate correlation matrices based on normalized residuals\n",
    "#     correlation_matrix = generate_initial_correlation_matrices(N, K, normalized_residuals)\n",
    "    \n",
    "#     # Form transition matrix\n",
    "#     transition_matrix = form_transition_matrix(N)\n",
    "    \n",
    "#     return initial_states, standard_deviations, residuals, normalized_residuals, correlation_matrix, transition_matrix\n",
    "\n",
    "def e_step(N, K, T, standard_deviations, correlation_matrix, residuals, initial_states,transition_matrix):\n",
    "    # Get the densities for the data \n",
    "    det_R, inv_R, densities = get_densities(N, K, T, standard_deviations, correlation_matrix, residuals)\n",
    "\n",
    "    # Forward Pass\n",
    "    alpha, scales = forward_pass(N, T, initial_states, densities, transition_matrix)\n",
    "\n",
    "    # Backward Pass\n",
    "    beta = backward_pass(N, T, scales, transition_matrix, densities)\n",
    "\n",
    "    # Smoothed Probabilities\n",
    "    initial_states, u_hat, v_hat = calculate_smoothed_probabilities(alpha, beta, transition_matrix, densities)\n",
    "\n",
    "    # Estimate Transition Matrix\n",
    "    estimated_transition = estimate_transition_matrix(v_hat)\n",
    "\n",
    "    # Return\n",
    "    return initial_states, densities, u_hat, v_hat, estimated_transition, alpha, beta, scales\n",
    "    \n",
    "def m_step(N, K, scale_factors, residuals, u_hat):\n",
    "    current_likelihood = calculate_log_likelihood(N, scale_factors)\n",
    "    matrix = estimate_model_parameters(residuals,u_hat)\n",
    "    correlation_matrix = np.zeros((N, K, K)) \n",
    "    D_matrix = np.zeros((N, K, K)) \n",
    "    for i in range(N):\n",
    "        D_matrix = diagonal_matrix_operations(matrix[i,:,:])\n",
    "        correlation_matrix[i,:,:] = D_matrix @ matrix[i,:,:] @ D_matrix\n",
    "    # print(f'Correlation Matrix: \\n {correlation_matrix}')\n",
    "    return current_likelihood, correlation_matrix\n",
    "\n",
    "def fit(data, univariate_parameters, num_states, max_it = 200, tol = 1e-7):\n",
    "    K, T = data.shape\n",
    "    N = num_states\n",
    "    max_iterations = max_it\n",
    "    initial_states, standard_deviations, residuals, correlation_matrix, transition_matrix = setup(N, data, univariate_parameters)\n",
    "    # initial_states, standard_deviations, residuals, normalized_residuals, correlation_matrix, transition_matrix= setup(N, data, univariate_parameters)\n",
    "    tolerance = tol\n",
    "    log_likelihood_history = np.zeros(max_iterations)\n",
    "    for i in tqdm(range(max_iterations)):\n",
    "        # E step\n",
    "        initial_states, densities, u_hat, v_hat, transition_matrix, alpha, beta,scales = e_step(N, K, T, standard_deviations, correlation_matrix, residuals, initial_states,transition_matrix)\n",
    "\n",
    "        # M step\n",
    "        current_likelihood, correlation_matrix = m_step(N, K, scales, residuals, u_hat)\n",
    "        # print(current_likelihood)\n",
    "        # print(correlation_matrix)\n",
    "        # Track\n",
    "        log_likelihood_history[i] = current_likelihood\n",
    "\n",
    "        # Break\n",
    "        if i > 1 and np.abs(log_likelihood_history[i] - log_likelihood_history[i-1]) < tolerance:\n",
    "            print(f'Model Converged at iteration:  {i}')\n",
    "            break\n",
    "\n",
    "    return correlation_matrix, transition_matrix, log_likelihood_history, u_hat, standard_deviations\n",
    "\n",
    "\n",
    "def estimate_univariate(data):\n",
    "    K, T = data.shape\n",
    "    # Initialize an array to store the omega, alpha, and beta parameters for each series\n",
    "    params_array = np.zeros((K, 3))\n",
    "    \n",
    "    for k in range(K):\n",
    "        # Select the k-th series from the data\n",
    "        series = data[k, :]\n",
    "        \n",
    "        # Fit a GARCH(1,1) model to the series\n",
    "        model = arch_model(series, vol='Garch', p=1, q=1)\n",
    "        model_fit = model.fit(disp='off') # Set disp='off' to avoid printing the fit summary\n",
    "        \n",
    "        # Extract the parameters: omega (constant), alpha (ARCH), beta (GARCH)\n",
    "        omega = model_fit.params['omega']\n",
    "        alpha = model_fit.params['alpha[1]']\n",
    "        beta = model_fit.params['beta[1]']\n",
    "        \n",
    "        # Store the parameters in the params_array\n",
    "        params_array[k, :] = [omega, alpha, beta]\n",
    "        \n",
    "    return params_array\n",
    "    \n",
    "def cholesky_scale(matrix):\n",
    "    K, _ = matrix.shape\n",
    "    P = np.linalg.cholesky(matrix)\n",
    "    # for j in range(K):\n",
    "    #     # Compute the sum of squares of off-diagonal elements up to the diagonal\n",
    "    #     sum_of_squares = np.sum(P[j, :j] ** 2)\n",
    "    #     argument = max(1 - sum_of_squares, 0)\n",
    "    #     # Adjust the diagonal element\n",
    "    #     P[j, j] = np.sqrt(argument) if j > 0 else 1# P[j,j]\n",
    "    # No need to recompute the matrix as P is already the adjusted Cholesky decomposition\n",
    "    # return P\n",
    "\n",
    "    \n",
    "    K, E = matrix.shape\n",
    "    P = np.linalg.cholesky(matrix)\n",
    "    # print(f'P matrix: \\n {P}')\n",
    "    for j in range(K):\n",
    "        sum = np.sum(P[j, :j] ** 2)\n",
    "        P[j,j] = np.sqrt(1-sum) if 1 - sum > 0 else 0\n",
    "        if j==0:\n",
    "            P[j,j] = 1\n",
    "    scaled = np.dot(P, P.T)\n",
    "    # print(f'matrix Matrix \\n{matrix }')\n",
    "    # print(f'scaled Matrix \\n{scaled }')\n",
    "    return scaled\n",
    "    \n",
    "def estimate_transition_matrix(v_hat):\n",
    "    f_ij = np.sum(v_hat, axis=2)\n",
    "    f_ii = np.sum(f_ij, axis=0)\n",
    "    # print(f'f_ij: \\n{f_ij}')\n",
    "    # print(f'f_ii: \\n{f_ii}')\n",
    "    transition_matrix = f_ij / f_ii\n",
    "    print(f'Transition: \\n{transition_matrix}')\n",
    "    print(f'sum: \\n{np.sum(transition_matrix, axis=0)}')\n",
    "    return transition_matrix.T"
   ]
  },
  {
   "cell_type": "code",
   "execution_count": 84,
   "id": "0c049bda-de10-4875-ab7b-334472faeab0",
   "metadata": {},
   "outputs": [
    {
     "name": "stdout",
     "output_type": "stream",
     "text": [
      "[*********************100%%**********************]  2 of 2 completed\n",
      "[-4.03259214e-17 -2.92362930e-17]\n",
      "[*********************100%%**********************]  2 of 2 completed\n",
      "[[[ 1.    0.2 ]\n",
      "  [ 0.2   1.  ]]\n",
      "\n",
      " [[ 1.   -0.02]\n",
      "  [-0.02  1.  ]]]\n"
     ]
    },
    {
     "name": "stderr",
     "output_type": "stream",
     "text": [
      "  2%|▊                                          | 4/200 [00:00<00:05, 36.23it/s]"
     ]
    },
    {
     "name": "stdout",
     "output_type": "stream",
     "text": [
      "Transition: \n",
      "[[0.95500345 0.00771518]\n",
      " [0.04499655 0.99228482]]\n",
      "sum: \n",
      "[1. 1.]\n",
      "Transition: \n",
      "[[0.96530134 0.01069563]\n",
      " [0.03469866 0.98930437]]\n",
      "sum: \n",
      "[1. 1.]\n",
      "Transition: \n",
      "[[0.96748643 0.01452708]\n",
      " [0.03251357 0.98547292]]\n",
      "sum: \n",
      "[1. 1.]\n",
      "Transition: \n",
      "[[0.96852697 0.01811297]\n",
      " [0.03147303 0.98188703]]\n",
      "sum: \n",
      "[1. 1.]\n",
      "Transition: \n",
      "[[0.96928261 0.02119289]\n",
      " [0.03071739 0.97880711]]\n",
      "sum: \n",
      "[1. 1.]\n",
      "Transition: \n",
      "[[0.9698322  0.02382795]\n",
      " [0.0301678  0.97617205]]\n",
      "sum: \n",
      "[1. 1.]\n",
      "Transition: \n",
      "[[0.97025689 0.02619469]\n",
      " [0.02974311 0.97380531]]\n",
      "sum: \n",
      "[1. 1.]\n"
     ]
    },
    {
     "name": "stderr",
     "output_type": "stream",
     "text": [
      "  4%|█▋                                         | 8/200 [00:00<00:06, 29.98it/s]"
     ]
    },
    {
     "name": "stdout",
     "output_type": "stream",
     "text": [
      "Transition: \n",
      "[[0.97062414 0.0284834 ]\n",
      " [0.02937586 0.9715166 ]]\n",
      "sum: \n",
      "[1. 1.]\n",
      "Transition: \n",
      "[[0.97099896 0.03088067]\n",
      " [0.02900104 0.96911933]]\n",
      "sum: \n",
      "[1. 1.]\n",
      "Transition: \n",
      "[[0.97145545 0.03356803]\n",
      " [0.02854455 0.96643197]]\n",
      "sum: \n",
      "[1. 1.]\n"
     ]
    },
    {
     "name": "stderr",
     "output_type": "stream",
     "text": [
      "  6%|██▌                                       | 12/200 [00:00<00:06, 30.02it/s]"
     ]
    },
    {
     "name": "stdout",
     "output_type": "stream",
     "text": [
      "Transition: \n",
      "[[0.97207302 0.03671916]\n",
      " [0.02792698 0.96328084]]\n",
      "sum: \n",
      "[1. 1.]\n",
      "Transition: \n",
      "[[0.97291632 0.04052764]\n",
      " [0.02708368 0.95947236]]\n",
      "sum: \n",
      "[1. 1.]\n",
      "Transition: \n",
      "[[0.97403779 0.04529433]\n",
      " [0.02596221 0.95470567]]\n",
      "sum: \n",
      "[1. 1.]\n",
      "Transition: \n",
      "[[0.97552684 0.05156155]\n",
      " [0.02447316 0.94843845]]\n",
      "sum: \n",
      "[1. 1.]\n"
     ]
    },
    {
     "name": "stderr",
     "output_type": "stream",
     "text": [
      "  8%|███▎                                      | 16/200 [00:00<00:05, 31.94it/s]"
     ]
    },
    {
     "name": "stdout",
     "output_type": "stream",
     "text": [
      "Transition: \n",
      "[[0.97755931 0.06029661]\n",
      " [0.02244069 0.93970339]]\n",
      "sum: \n",
      "[1. 1.]\n",
      "Transition: \n",
      "[[0.98039247 0.07287613]\n",
      " [0.01960753 0.92712387]]\n",
      "sum: \n",
      "[1. 1.]\n",
      "Transition: \n",
      "[[0.98411902 0.09099285]\n",
      " [0.01588098 0.90900715]]\n",
      "sum: \n",
      "[1. 1.]\n",
      "Transition: \n",
      "[[0.98834917 0.11761717]\n",
      " [0.01165083 0.88238283]]\n",
      "sum: \n",
      "[1. 1.]\n"
     ]
    },
    {
     "name": "stderr",
     "output_type": "stream",
     "text": [
      " 10%|████▏                                     | 20/200 [00:00<00:05, 32.75it/s]"
     ]
    },
    {
     "name": "stdout",
     "output_type": "stream",
     "text": [
      "Transition: \n",
      "[[0.99232677 0.15563924]\n",
      " [0.00767323 0.84436076]]\n",
      "sum: \n",
      "[1. 1.]\n",
      "Transition: \n",
      "[[0.99539018 0.20818378]\n",
      " [0.00460982 0.79181622]]\n",
      "sum: \n",
      "[1. 1.]\n",
      "Transition: \n",
      "[[0.99725247 0.26576412]\n",
      " [0.00274753 0.73423588]]\n",
      "sum: \n",
      "[1. 1.]\n"
     ]
    },
    {
     "name": "stderr",
     "output_type": "stream",
     "text": [
      " 12%|█████                                     | 24/200 [00:00<00:05, 31.59it/s]"
     ]
    },
    {
     "name": "stdout",
     "output_type": "stream",
     "text": [
      "Transition: \n",
      "[[0.99820925 0.32841756]\n",
      " [0.00179075 0.67158244]]\n",
      "sum: \n",
      "[1. 1.]\n",
      "Transition: \n",
      "[[0.99868875 0.43644698]\n",
      " [0.00131125 0.56355302]]\n",
      "sum: \n",
      "[1. 1.]\n",
      "Transition: \n",
      "[[0.99895667 0.66005318]\n",
      " [0.00104333 0.33994682]]\n",
      "sum: \n",
      "[1. 1.]\n",
      "Transition: \n",
      "[[9.99164713e-01 8.83706638e-01]\n",
      " [8.35287145e-04 1.16293362e-01]]\n",
      "sum: \n",
      "[1. 1.]\n"
     ]
    },
    {
     "name": "stderr",
     "output_type": "stream",
     "text": [
      " 14%|█████▉                                    | 28/200 [00:00<00:05, 33.05it/s]"
     ]
    },
    {
     "name": "stdout",
     "output_type": "stream",
     "text": [
      "Transition: \n",
      "[[9.99326896e-01 9.81479267e-01]\n",
      " [6.73103572e-04 1.85207331e-02]]\n",
      "sum: \n",
      "[1. 1.]\n",
      "Transition: \n",
      "[[9.99400088e-01 9.98560026e-01]\n",
      " [5.99911791e-04 1.43997440e-03]]\n",
      "sum: \n",
      "[1. 1.]\n",
      "Transition: \n",
      "[[9.99987800e-01 9.99989463e-01]\n",
      " [1.21995931e-05 1.05372741e-05]]\n",
      "sum: \n",
      "[1. 1.]\n",
      "Transition: \n",
      "[[9.99999695e-01 9.99999770e-01]\n",
      " [3.04673202e-07 2.29978576e-07]]\n",
      "sum: \n",
      "[1. 1.]\n"
     ]
    },
    {
     "name": "stderr",
     "output_type": "stream",
     "text": [
      " 16%|██████▋                                   | 32/200 [00:01<00:05, 31.96it/s]"
     ]
    },
    {
     "name": "stdout",
     "output_type": "stream",
     "text": [
      "Transition: \n",
      "[[9.99999991e-01 9.99999991e-01]\n",
      " [8.95294264e-09 8.69555566e-09]]\n",
      "sum: \n",
      "[1. 1.]\n",
      "Transition: \n",
      "[[1.00000000e+00 1.00000000e+00]\n",
      " [2.91842261e-10 4.21414388e-10]]\n",
      "sum: \n",
      "[1. 1.]\n",
      "Transition: \n",
      "[[1.00000000e+00 1.00000000e+00]\n",
      " [1.01352565e-11 2.30298073e-11]]\n",
      "sum: \n",
      "[1. 1.]\n"
     ]
    },
    {
     "name": "stderr",
     "output_type": "stream",
     "text": [
      " 18%|███████▌                                  | 36/200 [00:01<00:05, 32.50it/s]"
     ]
    },
    {
     "name": "stdout",
     "output_type": "stream",
     "text": [
      "Transition: \n",
      "[[1.00000000e+00 1.00000000e+00]\n",
      " [3.67009784e-13 1.34685985e-12]]\n",
      "sum: \n",
      "[1. 1.]\n",
      "Transition: \n",
      "[[1.00000000e+00 1.00000000e+00]\n",
      " [1.36940904e-14 8.22676960e-14]]\n",
      "sum: \n",
      "[1. 1.]\n",
      "Transition: \n",
      "[[1.00000000e+00 1.00000000e+00]\n",
      " [5.22786574e-16 5.18056943e-15]]\n",
      "sum: \n",
      "[1. 1.]\n",
      "Transition: \n",
      "[[1.00000000e+00 1.00000000e+00]\n",
      " [2.03268956e-17 3.33763540e-16]]\n",
      "sum: \n",
      "[1. 1.]\n",
      "Transition: \n",
      "[[1.00000000e+00 1.00000000e+00]\n",
      " [8.02461587e-19 2.18922536e-17]]\n",
      "sum: \n",
      "[1. 1.]\n",
      "Transition: \n",
      "[[1.00000000e+00 1.00000000e+00]\n",
      " [3.20940683e-20 1.45712687e-18]]\n",
      "sum: \n",
      "[1. 1.]\n",
      "Transition: \n",
      "[[1.00000000e+00 1.00000000e+00]\n",
      " [1.29827808e-21 9.81852116e-20]]\n",
      "sum: \n",
      "[1. 1.]\n"
     ]
    },
    {
     "name": "stderr",
     "output_type": "stream",
     "text": [
      " 22%|█████████▏                                | 44/200 [00:01<00:04, 33.89it/s]"
     ]
    },
    {
     "name": "stdout",
     "output_type": "stream",
     "text": [
      "Transition: \n",
      "[[1.00000000e+00 1.00000000e+00]\n",
      " [5.30544942e-23 6.68645361e-21]]\n",
      "sum: \n",
      "[1. 1.]\n",
      "Transition: \n",
      "[[1.00000000e+00 1.00000000e+00]\n",
      " [2.18816959e-24 4.59611198e-22]]\n",
      "sum: \n",
      "[1. 1.]\n",
      "Transition: \n",
      "[[1.00000000e+00 1.00000000e+00]\n",
      " [9.10181634e-26 3.18569609e-23]]\n",
      "sum: \n",
      "[1. 1.]\n",
      "Transition: \n",
      "[[1.00000000e+00 1.00000000e+00]\n",
      " [3.81607166e-27 2.22487463e-24]]\n",
      "sum: \n",
      "[1. 1.]\n",
      "Transition: \n",
      "[[1.00000000e+00 1.00000000e+00]\n",
      " [1.61195669e-28 1.56470842e-25]]\n",
      "sum: \n",
      "[1. 1.]\n",
      "Transition: \n",
      "[[1.00000000e+00 1.00000000e+00]\n",
      " [6.85786451e-30 1.10759635e-26]]\n",
      "sum: \n",
      "[1. 1.]\n",
      "Transition: \n",
      "[[1.00000000e+00 1.00000000e+00]\n",
      " [2.93771051e-31 7.88834919e-28]]\n",
      "sum: \n",
      "[1. 1.]\n",
      "Transition: \n",
      "[[1.00000000e+00 1.00000000e+00]\n",
      " [1.26686291e-32 5.65090483e-29]]\n",
      "sum: \n",
      "[1. 1.]\n"
     ]
    },
    {
     "name": "stderr",
     "output_type": "stream",
     "text": [
      " 26%|██████████▉                               | 52/200 [00:01<00:04, 34.80it/s]"
     ]
    },
    {
     "name": "stdout",
     "output_type": "stream",
     "text": [
      "Transition: \n",
      "[[1.00000000e+00 1.00000000e+00]\n",
      " [5.49911560e-34 4.07076689e-30]]\n",
      "sum: \n",
      "[1. 1.]\n",
      "Transition: \n",
      "[[1.00000000e+00 1.00000000e+00]\n",
      " [2.40250361e-35 2.94838301e-31]]\n",
      "sum: \n",
      "[1. 1.]\n",
      "Transition: \n",
      "[[1.00000000e+00 1.00000000e+00]\n",
      " [1.05640383e-36 2.14676602e-32]]\n",
      "sum: \n",
      "[1. 1.]\n",
      "Transition: \n",
      "[[1.00000000e+00 1.00000000e+00]\n",
      " [4.67517124e-38 1.57123324e-33]]\n",
      "sum: \n",
      "[1. 1.]\n",
      "Transition: \n",
      "[[1.0000000e+00 1.0000000e+00]\n",
      " [2.0825393e-39 1.1559267e-34]]\n",
      "sum: \n",
      "[1. 1.]\n",
      "Transition: \n",
      "[[1.00000000e+00 1.00000000e+00]\n",
      " [9.33819652e-41 8.54766697e-36]]\n",
      "sum: \n",
      "[1. 1.]\n",
      "Transition: \n",
      "[[1.00000000e+00 1.00000000e+00]\n",
      " [4.21573052e-42 6.35332704e-37]]\n",
      "sum: \n",
      "[1. 1.]\n"
     ]
    },
    {
     "name": "stderr",
     "output_type": "stream",
     "text": [
      " 28%|███████████▊                              | 56/200 [00:01<00:04, 32.71it/s]"
     ]
    },
    {
     "name": "stdout",
     "output_type": "stream",
     "text": [
      "Transition: \n",
      "[[1.00000000e+00 1.00000000e+00]\n",
      " [1.91650262e-43 4.74694487e-38]]\n",
      "sum: \n",
      "[1. 1.]\n",
      "Transition: \n",
      "[[1.00000000e+00 1.00000000e+00]\n",
      " [8.77569705e-45 3.56552894e-39]]\n",
      "sum: \n",
      "[1. 1.]\n",
      "Transition: \n",
      "[[1.00000000e+00 1.00000000e+00]\n",
      " [4.04876333e-46 2.69266770e-40]]\n",
      "sum: \n",
      "[1. 1.]\n",
      "Transition: \n",
      "[[1.00000000e+00 1.00000000e+00]\n",
      " [1.88274332e-47 2.04483493e-41]]\n",
      "sum: \n",
      "[1. 1.]\n"
     ]
    },
    {
     "name": "stderr",
     "output_type": "stream",
     "text": [
      " 30%|████████████▌                             | 60/200 [00:01<00:04, 31.26it/s]"
     ]
    },
    {
     "name": "stdout",
     "output_type": "stream",
     "text": [
      "Transition: \n",
      "[[1.00000000e+00 1.00000000e+00]\n",
      " [8.82829175e-49 1.56183318e-42]]\n",
      "sum: \n",
      "[1. 1.]\n",
      "Transition: \n",
      "[[1.00000000e+00 1.00000000e+00]\n",
      " [4.17639078e-50 1.20009074e-43]]\n",
      "sum: \n",
      "[1. 1.]\n"
     ]
    },
    {
     "name": "stderr",
     "output_type": "stream",
     "text": [
      " 32%|█████████████▍                            | 64/200 [00:01<00:04, 31.30it/s]"
     ]
    },
    {
     "name": "stdout",
     "output_type": "stream",
     "text": [
      "Transition: \n",
      "[[1.00000000e+00 1.00000000e+00]\n",
      " [1.99445463e-51 9.27937099e-45]]\n",
      "sum: \n",
      "[1. 1.]\n",
      "Transition: \n",
      "[[1.00000000e+00 1.00000000e+00]\n",
      " [9.62162430e-53 7.22257702e-46]]\n",
      "sum: \n",
      "[1. 1.]\n",
      "Transition: \n",
      "[[1.00000000e+00 1.00000000e+00]\n",
      " [4.69273060e-54 5.66114666e-47]]\n",
      "sum: \n",
      "[1. 1.]\n",
      "Transition: \n",
      "[[1.00000000e+00 1.00000000e+00]\n",
      " [2.31613587e-55 4.47047434e-48]]\n",
      "sum: \n",
      "[1. 1.]\n",
      "Transition: \n",
      "[[1.00000000e+00 1.00000000e+00]\n",
      " [1.15807439e-56 3.55854078e-49]]\n",
      "sum: \n",
      "[1. 1.]\n",
      "Transition: \n",
      "[[1.00000000e+00 1.00000000e+00]\n",
      " [5.87339935e-58 2.85713894e-50]]\n",
      "sum: \n",
      "[1. 1.]\n",
      "Transition: \n",
      "[[1.00000000e+00 1.00000000e+00]\n",
      " [3.02589290e-59 2.31553376e-51]]\n",
      "sum: \n",
      "[1. 1.]\n"
     ]
    },
    {
     "name": "stderr",
     "output_type": "stream",
     "text": [
      " 36%|███████████████                           | 72/200 [00:02<00:03, 32.84it/s]"
     ]
    },
    {
     "name": "stdout",
     "output_type": "stream",
     "text": [
      "Transition: \n",
      "[[1.00000000e+00 1.00000000e+00]\n",
      " [1.58617998e-60 1.89586469e-52]]\n",
      "sum: \n",
      "[1. 1.]\n",
      "Transition: \n",
      "[[1.0000000e+00 1.0000000e+00]\n",
      " [8.4764317e-62 1.5698017e-53]]\n",
      "sum: \n",
      "[1. 1.]\n",
      "Transition: \n",
      "[[1.00000000e+00 1.00000000e+00]\n",
      " [4.62777172e-63 1.31610697e-54]]\n",
      "sum: \n",
      "[1. 1.]\n",
      "Transition: \n",
      "[[1.00000000e+00 1.00000000e+00]\n",
      " [2.58748466e-64 1.11885416e-55]]\n",
      "sum: \n",
      "[1. 1.]\n",
      "Transition: \n",
      "[[1.00000000e+00 1.00000000e+00]\n",
      " [1.48554738e-65 9.66128449e-57]]\n",
      "sum: \n",
      "[1. 1.]\n",
      "Transition: \n",
      "[[1.0000000e+00 1.0000000e+00]\n",
      " [8.7830495e-67 8.4908071e-58]]\n",
      "sum: \n",
      "[1. 1.]\n",
      "Transition: \n",
      "[[1.00000000e+00 1.00000000e+00]\n",
      " [5.36368669e-68 7.61246725e-59]]\n",
      "sum: \n",
      "[1. 1.]\n"
     ]
    },
    {
     "name": "stderr",
     "output_type": "stream",
     "text": [
      " 38%|███████████████▉                          | 76/200 [00:02<00:03, 32.29it/s]"
     ]
    },
    {
     "name": "stdout",
     "output_type": "stream",
     "text": [
      "Transition: \n",
      "[[1.00000000e+00 1.00000000e+00]\n",
      " [3.39365585e-69 6.98069918e-60]]\n",
      "sum: \n",
      "[1. 1.]\n",
      "Transition: \n",
      "[[1.00000000e+00 1.00000000e+00]\n",
      " [2.23124811e-70 6.56589154e-61]]\n",
      "sum: \n",
      "[1. 1.]\n",
      "Transition: \n",
      "[[1.00000000e+00 1.00000000e+00]\n",
      " [1.52860701e-71 6.35273741e-62]]\n",
      "sum: \n",
      "[1. 1.]\n",
      "Transition: \n",
      "[[1.00000000e+00 1.00000000e+00]\n",
      " [1.09384506e-72 6.34008751e-63]]\n",
      "sum: \n",
      "[1. 1.]\n",
      "Transition: \n",
      "[[1.00000000e+00 1.00000000e+00]\n",
      " [8.19205470e-74 6.54257711e-64]]\n",
      "sum: \n",
      "[1. 1.]\n"
     ]
    },
    {
     "name": "stderr",
     "output_type": "stream",
     "text": [
      " 40%|████████████████▊                         | 80/200 [00:02<00:03, 30.93it/s]"
     ]
    },
    {
     "name": "stdout",
     "output_type": "stream",
     "text": [
      "Transition: \n",
      "[[1.00000000e+00 1.00000000e+00]\n",
      " [6.43115142e-75 6.99461326e-65]]\n",
      "sum: \n",
      "[1. 1.]\n",
      "Transition: \n",
      "[[1.00000000e+00 1.00000000e+00]\n",
      " [5.29859816e-76 7.75779736e-66]]\n",
      "sum: \n",
      "[1. 1.]\n",
      "Transition: \n",
      "[[1.00000000e+00 1.00000000e+00]\n",
      " [4.58557693e-77 8.93369380e-67]]\n",
      "sum: \n",
      "[1. 1.]\n",
      "Transition: \n",
      "[[1.00000000e+00 1.00000000e+00]\n",
      " [4.17127516e-78 1.06853381e-67]]\n",
      "sum: \n",
      "[1. 1.]\n"
     ]
    },
    {
     "name": "stderr",
     "output_type": "stream",
     "text": [
      " 42%|█████████████████▋                        | 84/200 [00:02<00:04, 26.27it/s]"
     ]
    },
    {
     "name": "stdout",
     "output_type": "stream",
     "text": [
      "Transition: \n",
      "[[1.00000000e+00 1.00000000e+00]\n",
      " [3.99008145e-79 1.32735413e-68]]\n",
      "sum: \n",
      "[1. 1.]\n",
      "Transition: \n",
      "[[1.00000000e+00 1.00000000e+00]\n",
      " [4.01464662e-80 1.71188862e-69]]\n",
      "sum: \n",
      "[1. 1.]\n",
      "Transition: \n",
      "[[1.00000000e+00 1.00000000e+00]\n",
      " [4.24901680e-81 2.29092519e-70]]\n",
      "sum: \n",
      "[1. 1.]\n"
     ]
    },
    {
     "name": "stderr",
     "output_type": "stream",
     "text": [
      " 44%|██████████████████▍                       | 88/200 [00:02<00:04, 27.69it/s]"
     ]
    },
    {
     "name": "stdout",
     "output_type": "stream",
     "text": [
      "Transition: \n",
      "[[1.00000000e+00 1.00000000e+00]\n",
      " [4.72952948e-82 3.17894813e-71]]\n",
      "sum: \n",
      "[1. 1.]\n",
      "Transition: \n",
      "[[1.00000000e+00 1.00000000e+00]\n",
      " [5.53371369e-83 4.57017854e-72]]\n",
      "sum: \n",
      "[1. 1.]\n",
      "Transition: \n",
      "[[1.00000000e+00 1.00000000e+00]\n",
      " [6.80006069e-84 6.80072962e-73]]\n",
      "sum: \n",
      "[1. 1.]\n",
      "Transition: \n",
      "[[1.00000000e+00 1.00000000e+00]\n",
      " [8.76526441e-85 1.04640226e-73]]\n",
      "sum: \n",
      "[1. 1.]\n"
     ]
    },
    {
     "name": "stderr",
     "output_type": "stream",
     "text": [
      " 46%|███████████████████                       | 91/200 [00:02<00:03, 27.96it/s]"
     ]
    },
    {
     "name": "stdout",
     "output_type": "stream",
     "text": [
      "Transition: \n",
      "[[1.00000000e+00 1.00000000e+00]\n",
      " [1.18318868e-85 1.66286114e-74]]\n",
      "sum: \n",
      "[1. 1.]\n",
      "Transition: \n",
      "[[1.00000000e+00 1.00000000e+00]\n",
      " [1.66910760e-86 2.72557018e-75]]\n",
      "sum: \n",
      "[1. 1.]\n",
      "Transition: \n",
      "[[1.00000000e+00 1.00000000e+00]\n",
      " [2.45470799e-87 4.60112472e-76]]\n",
      "sum: \n",
      "[1. 1.]\n"
     ]
    },
    {
     "name": "stderr",
     "output_type": "stream",
     "text": [
      " 48%|███████████████████▉                      | 95/200 [00:03<00:03, 29.16it/s]"
     ]
    },
    {
     "name": "stdout",
     "output_type": "stream",
     "text": [
      "Transition: \n",
      "[[1.00000000e+00 1.00000000e+00]\n",
      " [3.75328836e-88 7.98673158e-77]]\n",
      "sum: \n",
      "[1. 1.]\n",
      "Transition: \n",
      "[[1.00000000e+00 1.00000000e+00]\n",
      " [5.94892061e-89 1.42300297e-77]]\n",
      "sum: \n",
      "[1. 1.]\n",
      "Transition: \n",
      "[[1.00000000e+00 1.00000000e+00]\n",
      " [9.74419504e-90 2.59753742e-78]]\n",
      "sum: \n",
      "[1. 1.]\n",
      "Transition: \n",
      "[[1.00000000e+00 1.00000000e+00]\n",
      " [1.64435582e-90 4.84839652e-79]]\n",
      "sum: \n",
      "[1. 1.]\n"
     ]
    },
    {
     "name": "stderr",
     "output_type": "stream",
     "text": [
      " 50%|████████████████████▊                     | 99/200 [00:03<00:03, 30.10it/s]"
     ]
    },
    {
     "name": "stdout",
     "output_type": "stream",
     "text": [
      "Transition: \n",
      "[[1.00000000e+00 1.00000000e+00]\n",
      " [2.85022545e-91 9.23569884e-80]]\n",
      "sum: \n",
      "[1. 1.]\n",
      "Transition: \n",
      "[[1.00000000e+00 1.00000000e+00]\n",
      " [5.05997805e-92 1.79203045e-80]]\n",
      "sum: \n",
      "[1. 1.]\n",
      "Transition: \n",
      "[[1.00000000e+00 1.00000000e+00]\n",
      " [9.17567677e-93 3.53528281e-81]]\n",
      "sum: \n",
      "[1. 1.]\n"
     ]
    },
    {
     "name": "stderr",
     "output_type": "stream",
     "text": [
      " 52%|█████████████████████                    | 103/200 [00:03<00:03, 30.74it/s]"
     ]
    },
    {
     "name": "stdout",
     "output_type": "stream",
     "text": [
      "Transition: \n",
      "[[1.00000000e+00 1.00000000e+00]\n",
      " [1.69541298e-93 7.07862023e-82]]\n",
      "sum: \n",
      "[1. 1.]\n",
      "Transition: \n",
      "[[1.00000000e+00 1.00000000e+00]\n",
      " [3.18484021e-94 1.43619460e-82]]\n",
      "sum: \n",
      "[1. 1.]\n",
      "Transition: \n",
      "[[1.00000000e+00 1.00000000e+00]\n",
      " [6.07015987e-95 2.94828597e-83]]\n",
      "sum: \n",
      "[1. 1.]\n",
      "Transition: \n",
      "[[1.00000000e+00 1.00000000e+00]\n",
      " [1.17174591e-95 6.11543736e-84]]\n",
      "sum: \n",
      "[1. 1.]\n"
     ]
    },
    {
     "name": "stderr",
     "output_type": "stream",
     "text": [
      " 54%|█████████████████████▉                   | 107/200 [00:03<00:02, 31.68it/s]"
     ]
    },
    {
     "name": "stdout",
     "output_type": "stream",
     "text": [
      "Transition: \n",
      "[[1.00000000e+00 1.00000000e+00]\n",
      " [2.28716180e-96 1.28013219e-84]]\n",
      "sum: \n",
      "[1. 1.]\n",
      "Transition: \n",
      "[[1.00000000e+00 1.00000000e+00]\n",
      " [4.50797222e-97 2.70131174e-85]]\n",
      "sum: \n",
      "[1. 1.]\n",
      "Transition: \n",
      "[[1.00000000e+00 1.00000000e+00]\n",
      " [8.96088606e-98 5.74066744e-86]]\n",
      "sum: \n",
      "[1. 1.]\n"
     ]
    },
    {
     "name": "stderr",
     "output_type": "stream",
     "text": [
      " 56%|██████████████████████▊                  | 111/200 [00:03<00:02, 30.90it/s]"
     ]
    },
    {
     "name": "stdout",
     "output_type": "stream",
     "text": [
      "Transition: \n",
      "[[1.00000000e+00 1.00000000e+00]\n",
      " [1.79447137e-98 1.22755520e-86]]\n",
      "sum: \n",
      "[1. 1.]\n",
      "Transition: \n",
      "[[1.00000000e+00 1.00000000e+00]\n",
      " [3.61682149e-99 2.63923146e-87]]\n",
      "sum: \n",
      "[1. 1.]\n",
      "Transition: \n",
      "[[1.00000000e+000 1.00000000e+000]\n",
      " [7.33100432e-100 5.70135417e-088]]\n",
      "sum: \n",
      "[1. 1.]\n",
      "Transition: \n",
      "[[1.00000000e+000 1.00000000e+000]\n",
      " [1.49324894e-100 1.23675664e-088]]\n",
      "sum: \n",
      "[1. 1.]\n",
      "Transition: \n",
      "[[1.00000000e+000 1.00000000e+000]\n",
      " [3.05463796e-101 2.69258380e-089]]\n",
      "sum: \n",
      "[1. 1.]\n",
      "Transition: \n",
      "[[1.00000000e+000 1.00000000e+000]\n",
      " [6.27202106e-102 5.88076611e-090]]\n",
      "sum: \n",
      "[1. 1.]\n",
      "Transition: \n",
      "[[1.00000000e+000 1.00000000e+000]\n",
      " [1.29201493e-102 1.28796451e-090]]\n",
      "sum: \n",
      "[1. 1.]\n"
     ]
    },
    {
     "name": "stderr",
     "output_type": "stream",
     "text": [
      " 57%|███████████████████████▌                 | 115/200 [00:03<00:02, 30.13it/s]"
     ]
    },
    {
     "name": "stdout",
     "output_type": "stream",
     "text": [
      "Transition: \n",
      "[[1.00000000e+000 1.00000000e+000]\n",
      " [2.66906119e-103 2.82765576e-091]]\n",
      "sum: \n",
      "[1. 1.]\n",
      "Transition: \n",
      "[[1.00000000e+000 1.00000000e+000]\n",
      " [5.52742065e-104 6.22111582e-092]]\n",
      "sum: \n",
      "[1. 1.]\n",
      "Transition: \n",
      "[[1.00000000e+000 1.00000000e+000]\n",
      " [1.14715419e-104 1.37123657e-092]]\n",
      "sum: \n",
      "[1. 1.]\n",
      "Transition: \n",
      "[[1.00000000e+000 1.00000000e+000]\n",
      " [2.38526359e-105 3.02730936e-093]]\n",
      "sum: \n",
      "[1. 1.]\n"
     ]
    },
    {
     "name": "stderr",
     "output_type": "stream",
     "text": [
      " 60%|████████████████████████▍                | 119/200 [00:03<00:02, 30.22it/s]"
     ]
    },
    {
     "name": "stdout",
     "output_type": "stream",
     "text": [
      "Transition: \n",
      "[[1.00000000e+000 1.00000000e+000]\n",
      " [4.96777240e-106 6.69287005e-094]]\n",
      "sum: \n",
      "[1. 1.]\n",
      "Transition: \n",
      "[[1.00000000e+000 1.00000000e+000]\n",
      " [1.03611174e-106 1.48149880e-094]]\n",
      "sum: \n",
      "[1. 1.]\n",
      "Transition: \n",
      "[[1.00000000e+000 1.00000000e+000]\n",
      " [2.16367315e-107 3.28288416e-095]]\n",
      "sum: \n",
      "[1. 1.]\n"
     ]
    },
    {
     "name": "stderr",
     "output_type": "stream",
     "text": [
      " 62%|█████████████████████████▏               | 123/200 [00:03<00:02, 32.48it/s]"
     ]
    },
    {
     "name": "stdout",
     "output_type": "stream",
     "text": [
      "Transition: \n",
      "[[1.00000000e+000 1.00000000e+000]\n",
      " [4.52321935e-108 7.28141556e-096]]\n",
      "sum: \n",
      "[1. 1.]\n",
      "Transition: \n",
      "[[1.00000000e+000 1.00000000e+000]\n",
      " [9.46486074e-109 1.61633092e-096]]\n",
      "sum: \n",
      "[1. 1.]\n",
      "Transition: \n",
      "[[1.00000000e+000 1.00000000e+000]\n",
      " [1.98216039e-109 3.59049021e-097]]\n",
      "sum: \n",
      "[1. 1.]\n",
      "Transition: \n",
      "[[1.00000000e+000 1.00000000e+000]\n",
      " [4.15408606e-110 7.98080622e-098]]\n",
      "sum: \n",
      "[1. 1.]\n",
      "Transition: \n",
      "[[1.00000000e+000 1.00000000e+000]\n",
      " [8.71132760e-111 1.77490421e-098]]\n",
      "sum: \n",
      "[1. 1.]\n",
      "Transition: \n",
      "[[1.00000000e+000 1.00000000e+000]\n",
      " [1.82780775e-111 3.94919132e-099]]\n",
      "sum: \n",
      "[1. 1.]\n"
     ]
    },
    {
     "name": "stderr",
     "output_type": "stream",
     "text": [
      " 64%|██████████████████████████▏              | 128/200 [00:04<00:02, 35.28it/s]"
     ]
    },
    {
     "name": "stdout",
     "output_type": "stream",
     "text": [
      "Transition: \n",
      "[[1.00000000e+000 1.00000000e+000]\n",
      " [3.83692767e-112 8.79063667e-100]]\n",
      "sum: \n",
      "[1. 1.]\n",
      "Transition: \n",
      "[[1.00000000e+000 1.00000000e+000]\n",
      " [8.05781238e-113 1.95744033e-100]]\n",
      "sum: \n",
      "[1. 1.]\n",
      "Transition: \n",
      "[[1.00000000e+000 1.00000000e+000]\n",
      " [1.69280930e-113 4.36006375e-101]]\n",
      "sum: \n",
      "[1. 1.]\n"
     ]
    },
    {
     "name": "stderr",
     "output_type": "stream",
     "text": [
      " 66%|███████████████████████████              | 132/200 [00:04<00:01, 34.67it/s]"
     ]
    },
    {
     "name": "stdout",
     "output_type": "stream",
     "text": [
      "Transition: \n",
      "[[1.00000000e+000 1.00000000e+000]\n",
      " [3.55742808e-114 9.71439723e-102]]\n",
      "sum: \n",
      "[1. 1.]\n",
      "Transition: \n",
      "[[1.00000000e+000 1.00000000e+000]\n",
      " [7.47797265e-115 2.16492281e-102]]\n",
      "sum: \n",
      "[1. 1.]\n",
      "Transition: \n",
      "[[1.00000000e+000 1.00000000e+000]\n",
      " [1.57230196e-115 4.82568846e-103]]\n",
      "sum: \n",
      "[1. 1.]\n",
      "Transition: \n",
      "[[1.00000000e+000 1.00000000e+000]\n",
      " [3.30657995e-116 1.07585789e-103]]\n",
      "sum: \n",
      "[1. 1.]\n"
     ]
    },
    {
     "name": "stderr",
     "output_type": "stream",
     "text": [
      " 68%|███████████████████████████▉             | 136/200 [00:04<00:01, 35.37it/s]"
     ]
    },
    {
     "name": "stdout",
     "output_type": "stream",
     "text": [
      "Transition: \n",
      "[[1.00000000e+000 1.00000000e+000]\n",
      " [6.95506911e-117 2.39893913e-104]]\n",
      "sum: \n",
      "[1. 1.]\n",
      "Transition: \n",
      "[[1.00000000e+000 1.00000000e+000]\n",
      " [1.46316420e-117 5.34987284e-105]]\n",
      "sum: \n",
      "[1. 1.]\n",
      "Transition: \n",
      "[[1.00000000e+000 1.00000000e+000]\n",
      " [3.07854163e-118 1.19321841e-105]]\n",
      "sum: \n",
      "[1. 1.]\n",
      "Transition: \n",
      "[[1.00000000e+000 1.00000000e+000]\n",
      " [6.47812939e-119 2.66159517e-106]]\n",
      "sum: \n",
      "[1. 1.]\n"
     ]
    },
    {
     "name": "stderr",
     "output_type": "stream",
     "text": [
      " 70%|████████████████████████████▋            | 140/200 [00:04<00:01, 35.84it/s]"
     ]
    },
    {
     "name": "stdout",
     "output_type": "stream",
     "text": [
      "Transition: \n",
      "[[1.00000000e+000 1.00000000e+000]\n",
      " [1.36332720e-119 5.93750244e-107]]\n",
      "sum: \n",
      "[1. 1.]\n",
      "Transition: \n",
      "[[1.00000000e+000 1.00000000e+000]\n",
      " [2.86939676e-120 1.32464732e-107]]\n",
      "sum: \n",
      "[1. 1.]\n",
      "Transition: \n",
      "[[1.00000000e+000 1.00000000e+000]\n",
      " [6.03970897e-121 2.95547276e-108]]\n",
      "sum: \n",
      "[1. 1.]\n",
      "Transition: \n",
      "[[1.00000000e+000 1.00000000e+000]\n",
      " [1.27136971e-121 6.59447189e-109]]\n",
      "sum: \n",
      "[1. 1.]\n"
     ]
    },
    {
     "name": "stderr",
     "output_type": "stream",
     "text": [
      " 72%|█████████████████████████████▌           | 144/200 [00:04<00:01, 36.63it/s]"
     ]
    },
    {
     "name": "stdout",
     "output_type": "stream",
     "text": [
      "Transition: \n",
      "[[1.00000000e+000 1.00000000e+000]\n",
      " [2.67641991e-122 1.47148580e-109]]\n",
      "sum: \n",
      "[1. 1.]\n",
      "Transition: \n",
      "[[1.00000000e+000 1.00000000e+000]\n",
      " [5.63455725e-123 3.28361466e-110]]\n",
      "sum: \n",
      "[1. 1.]\n",
      "Transition: \n",
      "[[1.00000000e+000 1.00000000e+000]\n",
      " [1.18627541e-123 7.32766801e-111]]\n",
      "sum: \n",
      "[1. 1.]\n",
      "Transition: \n",
      "[[1.00000000e+000 1.00000000e+000]\n",
      " [2.49763441e-124 1.63528946e-111]]\n",
      "sum: \n",
      "[1. 1.]\n"
     ]
    },
    {
     "name": "stderr",
     "output_type": "stream",
     "text": [
      " 74%|██████████████████████████████▌          | 149/200 [00:04<00:01, 38.71it/s]"
     ]
    },
    {
     "name": "stdout",
     "output_type": "stream",
     "text": [
      "Transition: \n",
      "[[1.00000000e+000 1.00000000e+000]\n",
      " [5.25881104e-125 3.64952877e-112]]\n",
      "sum: \n",
      "[1. 1.]\n",
      "Transition: \n",
      "[[1.00000000e+000 1.00000000e+000]\n",
      " [1.10728560e-125 8.14498985e-113]]\n",
      "sum: \n",
      "[1. 1.]\n",
      "Transition: \n",
      "[[1.00000000e+000 1.00000000e+000]\n",
      " [2.33154295e-126 1.81783484e-113]]\n",
      "sum: \n",
      "[1. 1.]\n",
      "Transition: \n",
      "[[1.00000000e+000 1.00000000e+000]\n",
      " [4.90950122e-127 4.05720657e-114]]\n",
      "sum: \n",
      "[1. 1.]\n",
      "Transition: \n",
      "[[1.00000000e+000 1.00000000e+000]\n",
      " [1.03380876e-127 9.05539738e-115]]\n",
      "sum: \n",
      "[1. 1.]\n"
     ]
    },
    {
     "name": "stderr",
     "output_type": "stream",
     "text": [
      " 77%|███████████████████████████████▌         | 154/200 [00:04<00:01, 39.21it/s]"
     ]
    },
    {
     "name": "stdout",
     "output_type": "stream",
     "text": [
      "Transition: \n",
      "[[1.00000000e+000 1.00000000e+000]\n",
      " [2.17696170e-128 2.02113172e-115]]\n",
      "sum: \n",
      "[1. 1.]\n",
      "Transition: \n",
      "[[1.00000000e+000 1.00000000e+000]\n",
      " [4.58424822e-129 4.51115321e-116]]\n",
      "sum: \n",
      "[1. 1.]\n",
      "Transition: \n",
      "[[1.00000000e+000 1.00000000e+000]\n",
      " [9.65364566e-130 1.00689838e-116]]\n",
      "sum: \n",
      "[1. 1.]\n"
     ]
    },
    {
     "name": "stderr",
     "output_type": "stream",
     "text": [
      " 79%|████████████████████████████████▍        | 158/200 [00:04<00:01, 37.59it/s]"
     ]
    },
    {
     "name": "stdout",
     "output_type": "stream",
     "text": [
      "Transition: \n",
      "[[1.00000000e+000 1.00000000e+000]\n",
      " [2.03291734e-130 2.24744025e-117]]\n",
      "sum: \n",
      "[1. 1.]\n",
      "Transition: \n",
      "[[1.00000000e+000 1.00000000e+000]\n",
      " [4.28107237e-131 5.01642765e-118]]\n",
      "sum: \n",
      "[1. 1.]\n",
      "Transition: \n",
      "[[1.00000000e+000 1.00000000e+000]\n",
      " [9.01548980e-132 1.11970685e-118]]\n",
      "sum: \n",
      "[1. 1.]\n",
      "Transition: \n",
      "[[1.00000000e+000 1.00000000e+000]\n",
      " [1.89858258e-132 2.49929243e-119]]\n",
      "sum: \n",
      "[1. 1.]\n",
      "Transition: \n",
      "[[1.00000000e+000 1.00000000e+000]\n",
      " [3.99827470e-133 5.57869202e-120]]\n",
      "sum: \n",
      "[1. 1.]\n",
      "Transition: \n",
      "[[1.00000000e+000 1.00000000e+000]\n",
      " [8.42012151e-134 1.24523106e-120]]\n",
      "sum: \n",
      "[1. 1.]\n",
      "Transition: \n",
      "[[1.00000000e+000 1.00000000e+000]\n",
      " [1.77323522e-134 2.77951781e-121]]\n",
      "sum: \n",
      "[1. 1.]\n"
     ]
    },
    {
     "name": "stderr",
     "output_type": "stream",
     "text": [
      " 81%|█████████████████████████████████▏       | 162/200 [00:04<00:01, 35.80it/s]"
     ]
    },
    {
     "name": "stdout",
     "output_type": "stream",
     "text": [
      "Transition: \n",
      "[[1.00000000e+000 1.00000000e+000]\n",
      " [3.73436111e-135 6.20426997e-122]]\n",
      "sum: \n",
      "[1. 1.]\n",
      "Transition: \n",
      "[[1.00000000e+000 1.00000000e+000]\n",
      " [7.86444344e-136 1.38488401e-122]]\n",
      "sum: \n",
      "[1. 1.]\n",
      "Transition: \n",
      "[[1.00000000e+000 1.00000000e+000]\n",
      " [1.65623201e-136 3.09127340e-123]]\n",
      "sum: \n",
      "[1. 1.]\n",
      "Transition: \n",
      "[[1.00000000e+000 1.00000000e+000]\n",
      " [3.48799348e-137 6.90021408e-124]]\n",
      "sum: \n",
      "[1. 1.]\n",
      "Transition: \n",
      "[[1.00000000e+000 1.00000000e+000]\n",
      " [7.34566797e-138 1.54024107e-124]]\n",
      "sum: \n",
      "[1. 1.]\n"
     ]
    },
    {
     "name": "stderr",
     "output_type": "stream",
     "text": [
      " 83%|██████████████████████████████████       | 166/200 [00:05<00:00, 36.11it/s]"
     ]
    },
    {
     "name": "stdout",
     "output_type": "stream",
     "text": [
      "Transition: \n",
      "[[1.00000000e+000 1.00000000e+000]\n",
      " [1.54699147e-138 3.43807779e-125]]\n",
      "sum: \n",
      "[1. 1.]\n",
      "Transition: \n",
      "[[1.00000000e+000 1.00000000e+000]\n",
      " [3.25795747e-139 7.67438262e-126]]\n",
      "sum: \n",
      "[1. 1.]\n",
      "Transition: \n",
      "[[1.00000000e+000 1.00000000e+000]\n",
      " [6.86125657e-140 1.71305716e-126]]\n",
      "sum: \n",
      "[1. 1.]\n"
     ]
    },
    {
     "name": "stderr",
     "output_type": "stream",
     "text": [
      " 85%|██████████████████████████████████▊      | 170/200 [00:05<00:00, 35.16it/s]"
     ]
    },
    {
     "name": "stdout",
     "output_type": "stream",
     "text": [
      "Transition: \n",
      "[[1.00000000e+000 1.00000000e+000]\n",
      " [1.44498244e-140 3.82384984e-127]]\n",
      "sum: \n",
      "[1. 1.]\n",
      "Transition: \n",
      "[[1.00000000e+000 1.00000000e+000]\n",
      " [3.04314084e-141 8.53552631e-128]]\n",
      "sum: \n",
      "[1. 1.]\n",
      "Transition: \n",
      "[[1.00000000e+000 1.00000000e+000]\n",
      " [6.40887849e-142 1.90528617e-128]]\n",
      "sum: \n",
      "[1. 1.]\n",
      "Transition: \n",
      "[[1.00000000e+000 1.00000000e+000]\n",
      " [1.34971620e-142 4.25295223e-129]]\n",
      "sum: \n",
      "[1. 1.]\n",
      "Transition: \n",
      "[[1.00000000e+000 1.00000000e+000]\n",
      " [2.84251828e-143 9.49338568e-130]]\n",
      "sum: \n",
      "[1. 1.]\n"
     ]
    },
    {
     "name": "stderr",
     "output_type": "stream",
     "text": [
      " 88%|███████████████████████████████████▉     | 175/200 [00:05<00:00, 36.62it/s]"
     ]
    },
    {
     "name": "stdout",
     "output_type": "stream",
     "text": [
      "Transition: \n",
      "[[1.00000000e+000 1.00000000e+000]\n",
      " [5.98638169e-144 2.11910284e-130]]\n",
      "sum: \n",
      "[1. 1.]\n",
      "Transition: \n",
      "[[1.00000000e+000 1.00000000e+000]\n",
      " [1.26074087e-144 4.73024019e-131]]\n",
      "sum: \n",
      "[1. 1.]\n",
      "Transition: \n",
      "[[1.00000000e+000 1.00000000e+000]\n",
      " [2.65514054e-145 1.05588002e-131]]\n",
      "sum: \n",
      "[1. 1.]\n"
     ]
    },
    {
     "name": "stderr",
     "output_type": "stream",
     "text": [
      " 90%|████████████████████████████████████▋    | 179/200 [00:05<00:00, 34.54it/s]"
     ]
    },
    {
     "name": "stdout",
     "output_type": "stream",
     "text": [
      "Transition: \n",
      "[[1.00000000e+000 1.00000000e+000]\n",
      " [5.59177150e-146 2.35692706e-132]]\n",
      "sum: \n",
      "[1. 1.]\n",
      "Transition: \n",
      "[[1.00000000e+000 1.00000000e+000]\n",
      " [1.17763719e-146 5.26111604e-133]]\n",
      "sum: \n",
      "[1. 1.]\n",
      "Transition: \n",
      "[[1.00000000e+000 1.00000000e+000]\n",
      " [2.48012616e-147 1.17438302e-133]]\n",
      "sum: \n",
      "[1. 1.]\n",
      "Transition: \n",
      "[[1.00000000e+000 1.00000000e+000]\n",
      " [5.22319431e-148 2.62145118e-134]]\n",
      "sum: \n",
      "[1. 1.]\n"
     ]
    },
    {
     "name": "stderr",
     "output_type": "stream",
     "text": [
      " 92%|█████████████████████████████████████▌   | 183/200 [00:05<00:00, 33.78it/s]"
     ]
    },
    {
     "name": "stdout",
     "output_type": "stream",
     "text": [
      "Transition: \n",
      "[[1.00000000e+000 1.00000000e+000]\n",
      " [1.10001528e-148 5.85159007e-135]]\n",
      "sum: \n",
      "[1. 1.]\n",
      "Transition: \n",
      "[[1.00000000e+000 1.00000000e+000]\n",
      " [2.31665503e-149 1.30618927e-135]]\n",
      "sum: \n",
      "[1. 1.]\n",
      "Transition: \n",
      "[[1.00000000e+000 1.00000000e+000]\n",
      " [4.87892468e-150 2.91567030e-136]]\n",
      "sum: \n",
      "[1. 1.]\n"
     ]
    },
    {
     "name": "stderr",
     "output_type": "stream",
     "text": [
      " 94%|██████████████████████████████████████▎  | 187/200 [00:05<00:00, 31.24it/s]"
     ]
    },
    {
     "name": "stdout",
     "output_type": "stream",
     "text": [
      "Transition: \n",
      "[[1.00000000e+000 1.00000000e+000]\n",
      " [1.02751210e-150 6.50834832e-137]]\n",
      "sum: \n",
      "[1. 1.]\n",
      "Transition: \n",
      "[[1.00000000e+000 1.00000000e+000]\n",
      " [2.16396308e-151 1.45279129e-137]]\n",
      "sum: \n",
      "[1. 1.]\n",
      "Transition: \n",
      "[[1.00000000e+000 1.00000000e+000]\n",
      " [4.55735454e-152 3.24291616e-138]]\n",
      "sum: \n",
      "[1. 1.]\n"
     ]
    },
    {
     "name": "stderr",
     "output_type": "stream",
     "text": [
      " 96%|███████████████████████████████████████▏ | 191/200 [00:05<00:00, 32.58it/s]"
     ]
    },
    {
     "name": "stdout",
     "output_type": "stream",
     "text": [
      "Transition: \n",
      "[[1.00000000e+000 1.00000000e+000]\n",
      " [9.59789161e-153 7.23882811e-139]]\n",
      "sum: \n",
      "[1. 1.]\n",
      "Transition: \n",
      "[[1.00000000e+000 1.00000000e+000]\n",
      " [2.02133788e-153 1.61584928e-139]]\n",
      "sum: \n",
      "[1. 1.]\n",
      "Transition: \n",
      "[[1.00000000e+000 1.00000000e+000]\n",
      " [4.25698413e-154 3.60689478e-140]]\n",
      "sum: \n",
      "[1. 1.]\n",
      "Transition: \n",
      "[[1.0000000e+000 1.0000000e+000]\n",
      " [8.9653074e-155 8.0513022e-141]]\n",
      "sum: \n",
      "[1. 1.]\n",
      "Transition: \n",
      "[[1.00000000e+000 1.00000000e+000]\n",
      " [1.88811469e-155 1.79720994e-141]]\n",
      "sum: \n",
      "[1. 1.]\n"
     ]
    },
    {
     "name": "stderr",
     "output_type": "stream",
     "text": [
      " 98%|███████████████████████████████████████▉ | 195/200 [00:05<00:00, 33.68it/s]"
     ]
    },
    {
     "name": "stdout",
     "output_type": "stream",
     "text": [
      "Transition: \n",
      "[[1.00000000e+000 1.00000000e+000]\n",
      " [3.97641393e-156 4.01172837e-142]]\n",
      "sum: \n",
      "[1. 1.]\n",
      "Transition: \n",
      "[[1.00000000e+000 1.00000000e+000]\n",
      " [8.37442168e-157 8.95497234e-143]]\n",
      "sum: \n",
      "[1. 1.]\n",
      "Transition: \n",
      "[[1.00000000e+000 1.00000000e+000]\n",
      " [1.76367308e-157 1.99892729e-143]]\n",
      "sum: \n",
      "[1. 1.]\n"
     ]
    },
    {
     "name": "stderr",
     "output_type": "stream",
     "text": [
      "100%|█████████████████████████████████████████| 200/200 [00:06<00:00, 32.91it/s]"
     ]
    },
    {
     "name": "stdout",
     "output_type": "stream",
     "text": [
      "Transition: \n",
      "[[1.00000000e+000 1.00000000e+000]\n",
      " [3.71433753e-158 4.46200200e-144]]\n",
      "sum: \n",
      "[1. 1.]\n",
      "Transition: \n",
      "[[1.00000000e+000 1.00000000e+000]\n",
      " [7.82248362e-159 9.96007341e-145]]\n",
      "sum: \n",
      "[1. 1.]\n",
      "Transition: \n",
      "[[1.00000000e+000 1.00000000e+000]\n",
      " [1.64743380e-159 2.22328598e-145]]\n",
      "sum: \n",
      "[1. 1.]\n",
      "Transition: \n",
      "[[1.00000000e+000 1.00000000e+000]\n",
      " [3.46953518e-160 4.96281552e-146]]\n",
      "sum: \n",
      "[1. 1.]\n",
      "Transition: \n",
      "[[1.00000000e+000 1.00000000e+000]\n",
      " [7.30692466e-161 1.10779893e-146]]\n",
      "sum: \n",
      "[1. 1.]\n"
     ]
    },
    {
     "name": "stderr",
     "output_type": "stream",
     "text": [
      "\n"
     ]
    }
   ],
   "source": [
    "import yfinance as yf\n",
    "import numpy as np\n",
    "import pandas as pd\n",
    "\n",
    "# Seleccionar Criterio de Optimización\n",
    "optimization_criterion = 'cvar'  # Cambia a 'sharpe', 'cvar', 'sortino' o 'variance' para optimizar esos criterios\n",
    "\n",
    "# Elegir Acciones por agregar al Protafolio y Seleccionar periodo de muestra\n",
    "symbols = ['ACWI', 'TLT',]#'DAX']#'MINV.L']# 'EURGBP=X', 'EURCAD=X', 'EURCHF=X']\n",
    "start_date = '2015-01-01'\n",
    "end_date = '2022-01-01'\n",
    "\n",
    "data = yf.download(symbols, start=start_date, end=end_date, interval='1d')['Adj Close']\n",
    "\n",
    "# Calcular los retornos\n",
    "returns = data.pct_change().dropna()\n",
    "\n",
    "data = returns.to_numpy().T * 100\n",
    "# print(data)\n",
    "means = np.mean(data, axis=1)\n",
    "data = data - means[:,np.newaxis]\n",
    "\n",
    "print( np.mean(data, axis=1))\n",
    "# # Define the list of stock symbols you're interested in\n",
    "\n",
    "# # Fetch the historical data\n",
    "datas = yf.download(symbols, start=start_date, end=end_date, interval='1d')['Adj Close']\n",
    "\n",
    "# # Calculate the log of the prices\n",
    "log_data = np.log(datas)\n",
    "dates = log_data.diff().dropna().index\n",
    "\n",
    "# # Calculate the first difference of the log data\n",
    "# log = log_data.diff().dropna().to_numpy()\n",
    "# data = log.T * 100 + 1e-6\n",
    "# print(data)\n",
    "# Convert to numpy array\n",
    "#log_returns_array = log_returns.to_numpy()\n",
    "\n",
    "#print(log_returns_array)\n",
    "# data = pd.read_csv('C2A.csv').to_numpy().T * 100\n",
    "K, T = data.shape\n",
    "N = 2\n",
    "univariate_parameters = estimate_univariate(data)\n",
    "\n",
    "correlation_matrix, transition_matrix, log_hist, u_hat, standard_deviations = fit(data, univariate_parameters, num_states=N, max_it=200)\n"
   ]
  },
  {
   "cell_type": "code",
   "execution_count": 72,
   "id": "b2a30163-b412-483d-8ec0-3160ad52e326",
   "metadata": {},
   "outputs": [
    {
     "data": {
      "text/plain": [
       "array([[0.03984285, 0.22431268, 0.74663135],\n",
       "       [0.0720774 , 0.11992251, 0.83973994],\n",
       "       [0.04143113, 0.10187286, 0.83678516]])"
      ]
     },
     "execution_count": 72,
     "metadata": {},
     "output_type": "execute_result"
    }
   ],
   "source": [
    "univariate_parameters"
   ]
  },
  {
   "cell_type": "code",
   "execution_count": 85,
   "id": "1569edb1-ac62-4da7-8f04-efcd487dc067",
   "metadata": {},
   "outputs": [
    {
     "data": {
      "image/png": "[encoded data removed]",
      "text/plain": [
       "<Figure size 1000x400 with 2 Axes>"
      ]
     },
     "metadata": {},
     "output_type": "display_data"
    }
   ],
   "source": [
    "import matplotlib.pyplot as plt\n",
    "import numpy as np\n",
    "\n",
    "\n",
    "# Create a plot for each time series of u_hat, plotted below each other\n",
    "fig, axs = plt.subplots(N, 1, figsize=(10, N * 2), sharex=True)\n",
    "\n",
    "for i in range(N): \n",
    "    axs[i].plot(dates, u_hat[i, :], label=f'State {i+1}', linestyle='-') # Use dates here\n",
    "    axs[i].set_ylim(0, 1)\n",
    "    axs[i].fill_between(dates, 0, u_hat[i, :], alpha=0.3)  # Use dates here\n",
    "    axs[i].legend(loc='upper left')\n",
    "    axs[i].set_ylabel(f'Probability')\n",
    "    axs[i].grid(True)\n",
    "\n",
    "axs[-1].set_xlabel('Time')\n",
    "plt.tight_layout()\n",
    "plt.savefig(f'Smoothed TLT.png')\n",
    "plt.show()\n",
    "\n"
   ]
  },
  {
   "cell_type": "code",
   "execution_count": null,
   "id": "23236fcb-1517-4e30-886a-c3bf987af2a0",
   "metadata": {},
   "outputs": [],
   "source": []
  },
  {
   "cell_type": "code",
   "execution_count": 74,
   "id": "1da102a9-f289-46fe-9c66-012bae23ec36",
   "metadata": {},
   "outputs": [
    {
     "data": {
      "text/plain": [
       "array([[0.98156993, 0.01843007],\n",
       "       [0.0295779 , 0.9704221 ]])"
      ]
     },
     "execution_count": 74,
     "metadata": {},
     "output_type": "execute_result"
    }
   ],
   "source": [
    "transition_matrix"
   ]
  },
  {
   "cell_type": "code",
   "execution_count": 76,
   "id": "2758e670-0079-492f-a4ea-5e9439b8c757",
   "metadata": {
    "scrolled": true
   },
   "outputs": [
    {
     "data": {
      "text/plain": [
       "array([[[ 1.        ,  0.77973156, -0.13274446],\n",
       "        [ 0.77973156,  1.        , -0.15722027],\n",
       "        [-0.13274446, -0.15722027,  1.        ]],\n",
       "\n",
       "       [[ 1.        ,  0.73252857, -0.59260476],\n",
       "        [ 0.73252857,  1.        , -0.4536792 ],\n",
       "        [-0.59260476, -0.4536792 ,  1.        ]]])"
      ]
     },
     "execution_count": 76,
     "metadata": {},
     "output_type": "execute_result"
    }
   ],
   "source": [
    "correlation_matrix"
   ]
  },
  {
   "cell_type": "code",
   "execution_count": 77,
   "id": "65d1635e-85c5-42f0-bafe-8b1c7d499ab7",
   "metadata": {},
   "outputs": [
    {
     "data": {
      "text/plain": [
       "(array([[ 0.31594523,  0.33657248, -0.03879176],\n",
       "        [ 0.33657248,  0.58973267, -0.06277016],\n",
       "        [-0.03879176, -0.06277016,  0.27029266]]),\n",
       " array([[ 0.12389003,  0.1237189 , -0.06212272],\n",
       "        [ 0.1237189 ,  0.23024309, -0.06483497],\n",
       "        [-0.06212272, -0.06483497,  0.08870217]]),\n",
       " array([[ 0.21991763,  0.23014569, -0.05045724],\n",
       "        [ 0.23014569,  0.40998788, -0.06380257],\n",
       "        [-0.05045724, -0.06380257,  0.17949742]]))"
      ]
     },
     "execution_count": 77,
     "metadata": {},
     "output_type": "execute_result"
    }
   ],
   "source": [
    "corr_1 = correlation_matrix[0]\n",
    "corr_2 = correlation_matrix[1]\n",
    "\n",
    "std_1 = np.mean(standard_deviations * u_hat[0], axis=1)\n",
    "std_2 = np.mean(standard_deviations * u_hat[1], axis=1)\n",
    "\n",
    "diag_1 = np.diag(std_1)\n",
    "diag_2 = np.diag(std_2)\n",
    "cov_1 = diag_1 @ corr_1 @ diag_1\n",
    "cov_2 = diag_2 @ corr_2 @ diag_2\n",
    "cov = (cov_1 + cov_2) / 2\n",
    "cov_1, cov_2, cov\n"
   ]
  },
  {
   "cell_type": "code",
   "execution_count": 78,
   "id": "ce583a40-6747-4f88-8c46-278a122f63e8",
   "metadata": {
    "scrolled": true
   },
   "outputs": [
    {
     "name": "stdout",
     "output_type": "stream",
     "text": [
      "Returns Combined :  \n",
      "[0.04800628 0.0301353  0.02129648]\n",
      "Returns in state 1:  \n",
      "[ 0.03468304  0.02077805 -0.01297087]\n",
      "Returns in state 2:  \n",
      "[0.01332324 0.00935726 0.03426735]\n",
      "Optimal Weigts Combined :  \n",
      "[0.44400349 0.01490086 0.54109565]\n",
      "Optimal Weigts in state 1:  \n",
      "[6.91881692e-01 6.38064513e-24 3.08118308e-01]\n",
      "Optimal Weigts in state 2:  \n",
      "[0.43289712 0.01475887 0.55234401]\n",
      "0.2716088541034018 0.40045530109889826 0.14541140640384248\n"
     ]
    },
    {
     "data": {
      "text/plain": [
       "0.04085216676770706"
      ]
     },
     "execution_count": 78,
     "metadata": {},
     "output_type": "execute_result"
    }
   ],
   "source": [
    "import numpy as np\n",
    "from numpy.linalg import inv\n",
    "import cvxpy as cp\n",
    "\n",
    "def optimize_portfolio(cov_matrix, expected_returns, target_return):\n",
    "    \"\"\"\n",
    "    Finds the optimal portfolio weights using Markowitz optimization.\n",
    "    \n",
    "    Parameters:\n",
    "    - cov_matrix: A covariance matrix of asset returns.\n",
    "    - expected_returns: An array of expected returns for each asset.\n",
    "    - target_return: The target return for the portfolio.\n",
    "    \n",
    "    Returns:\n",
    "    - A tuple (weights, risk), where 'weights' is an array of optimal asset weights, and 'risk' is the portfolio risk (standard deviation).\n",
    "    \"\"\"\n",
    "    num_assets = len(expected_returns)\n",
    "    \n",
    "    # Define the optimization variables\n",
    "    weights = cp.Variable(num_assets)\n",
    "    \n",
    "    # Define the objective function (minimize portfolio variance)\n",
    "    portfolio_variance = cp.quad_form(weights, cov_matrix)\n",
    "    objective = cp.Minimize(portfolio_variance)\n",
    "    \n",
    "    # Define the constraints\n",
    "    constraints = [\n",
    "        cp.sum(weights) == 1,  # Sum of weights must be 1\n",
    "        weights >= 0,          # No short selling\n",
    "        cp.matmul(weights, expected_returns) >= target_return  # Target return constraint\n",
    "    ]\n",
    "    \n",
    "    # Define and solve the problem\n",
    "    problem = cp.Problem(objective, constraints)\n",
    "    problem.solve()\n",
    "    \n",
    "    # Extract the optimal weights and calculate portfolio risk\n",
    "    optimal_weights = weights.value\n",
    "    portfolio_risk = cp.sqrt(portfolio_variance).value\n",
    "    \n",
    "    return optimal_weights, portfolio_risk\n",
    "\n",
    " # Correct matrix multiplication for covariance\n",
    "data =  data + means[:,np.newaxis]\n",
    "mu_1 = np.mean(data * u_hat[0], axis=1)  # Expected returns vector\n",
    "mu_2 = np.mean(data * u_hat[1], axis=1)  # Expected returns vector\n",
    "mu = np.mean((data * u_hat[0] + data * u_hat[1]),axis=1)\n",
    "mu_p = 0.02  # Target return\n",
    "print(f'Returns Combined :  \\n{mu}')\n",
    "print(f'Returns in state 1:  \\n{mu_1}')\n",
    "print(f'Returns in state 2:  \\n{mu_2}')\n",
    "\n",
    "\n",
    "optimal_weights_1, portfolio_risk_1 = optimize_portfolio(cov_1, mu_1, mu_p)\n",
    "optimal_weights_2, portfolio_risk_2 = optimize_portfolio(cov_2, mu_2, mu_p)\n",
    "optimal_weights, portfolio_risk = optimize_portfolio(cov, mu, mu_p)\n",
    "print(f'Optimal Weigts Combined :  \\n{optimal_weights}')\n",
    "print(f'Optimal Weigts in state 1:  \\n{optimal_weights_1}')\n",
    "print(f'Optimal Weigts in state 2:  \\n{optimal_weights_2}')\n",
    "print(portfolio_risk, portfolio_risk_1, portfolio_risk_2)\n",
    "retun = optimal_weights * mu\n",
    "mean_return = np.mean(retun)\n",
    "sharpe = mean_return / portfolio_risk\n",
    "sharpe"
   ]
  },
  {
   "cell_type": "code",
   "execution_count": null,
   "id": "02664a47-b87d-4d9f-8689-942ad183f2f6",
   "metadata": {},
   "outputs": [],
   "source": [
    "0.03555774455398615 / 0.017743666752914767 -1"
   ]
  },
  {
   "cell_type": "code",
   "execution_count": 79,
   "id": "a41fa3ae-c824-483c-a885-e32819a846a8",
   "metadata": {},
   "outputs": [
    {
     "data": {
      "text/plain": [
       "0.04085216676770706"
      ]
     },
     "execution_count": 79,
     "metadata": {},
     "output_type": "execute_result"
    }
   ],
   "source": [
    "sharpe = mean_return / portfolio_risk\n",
    "sharpe"
   ]
  },
  {
   "cell_type": "code",
   "execution_count": 112,
   "id": "690f5259-f897-45ad-92e9-1d6992b45509",
   "metadata": {},
   "outputs": [
    {
     "data": {
      "text/plain": [
       "(2, 2263)"
      ]
     },
     "execution_count": 112,
     "metadata": {},
     "output_type": "execute_result"
    }
   ],
   "source": [
    "data.shape"
   ]
  },
  {
   "cell_type": "code",
   "execution_count": 81,
   "id": "bded4ecb-f395-4607-81cb-26a946c3c06e",
   "metadata": {},
   "outputs": [],
   "source": [
    "import matplotlib.pyplot as plt\n",
    "import numpy as np\n",
    "import scipy.stats as stats\n",
    "\n"
   ]
  },
  {
   "cell_type": "code",
   "execution_count": 82,
   "id": "2bfc1e7b-81ff-4257-8bb7-ea1fcd47bed4",
   "metadata": {},
   "outputs": [
    {
     "data": {
      "image/png": "[encoded data removed]",
      "text/plain": [
       "<Figure size 1200x600 with 2 Axes>"
      ]
     },
     "metadata": {},
     "output_type": "display_data"
    }
   ],
   "source": [
    "# Example data array for demonstration, assuming it has the same shape as 'standard_deviations'.\n",
    "# This should be replaced with the actual 'data' array.\n",
    "\n",
    "# Calculating the residuals as standard_deviations/data\n",
    "residuals = (data-means[:,np.newaxis]) / standard_deviations\n",
    "residuals = residuals*standard_deviations\n",
    "fig, axs = plt.subplots(1, 2, figsize=(12, 6))\n",
    "\n",
    "for i in range(2):\n",
    "    # Histogram for each row of residuals\n",
    "    axs[i].hist(residuals[i], bins='auto', density=True, alpha=0.6, color='b')\n",
    "    axs[i].set_title(f\"Residuals Histogram {i+1}\")\n",
    "    # Fit and plot the normal distribution\n",
    "    mu, std = stats.norm.fit(residuals[i])\n",
    "    xmin, xmax = plt.xlim()\n",
    "    x = np.linspace(-5, 5, 100)#(xmin, xmax, 100)\n",
    "    p = stats.norm.pdf(x, mu, std)\n",
    "    axs[i].plot(x, p, 'k', linewidth=2)\n",
    "    title = f\"Fit results: mu = {mu:.2f}, std = {std:.2f}\"\n",
    "    axs[i].set_title(title)\n",
    "plt.tight_layout()\n",
    "plt.savefig('residuals.png')\n",
    "plt.show()\n"
   ]
  },
  {
   "cell_type": "code",
   "execution_count": null,
   "id": "401ed42c-dd4d-47fe-b842-08935d5d17a8",
   "metadata": {},
   "outputs": [],
   "source": []
  },
  {
   "cell_type": "code",
   "execution_count": null,
   "id": "6bd831ed-2a59-4faf-bf6b-84ec263fd43f",
   "metadata": {},
   "outputs": [],
   "source": []
  },
  {
   "cell_type": "code",
   "execution_count": null,
   "id": "c96682fa-22fe-48fd-a966-4a812a307708",
   "metadata": {},
   "outputs": [],
   "source": []
  },
  {
   "cell_type": "markdown",
   "id": "2811dcc2-22e1-456e-94d5-1fef74a66347",
   "metadata": {},
   "source": [
    "# CVXPY Optimization\n",
    "\n"
   ]
  },
  {
   "cell_type": "code",
   "execution_count": null,
   "id": "66cbc5d8-25ac-4d6f-ae15-bb027db00993",
   "metadata": {},
   "outputs": [],
   "source": [
    "# import cvxpy as cp\n",
    "# import numpy as np\n",
    "\n",
    "# # Number of assets\n",
    "# # Portfolio weights\n",
    "# x = cp.Variable(K)\n",
    "\n",
    "# # Portfolio return\n",
    "# portfolio_return = mu.T @ x\n",
    "\n",
    "# # Portfolio variance\n",
    "# portfolio_variance = cp.quad_form(x, cov)\n",
    "# import cvxpy as cp\n",
    "# import numpy as np\n",
    "\n",
    "# # Number of assets\n",
    "# # Portfolio weights\n",
    "# x = cp.Variable(K)\n",
    "\n",
    "# # Portfolio return\n",
    "# portfolio_return = mu.T @ x\n",
    "\n",
    "# # Portfolio variance\n",
    "# portfolio_variance = cp.quad_form(x, cov)\n",
    "\n",
    "# # Objective: Minimize portfolio variance\n",
    "# objective = cp.Minimize(portfolio_variance)\n",
    "\n",
    "# # Constraints\n",
    "# constraints = [cp.sum(x) == 1,  # Sum of weights is 1\n",
    "#                 x >= 0,         # No short selling\n",
    "#                 x <= 1,         # No leveraging\n",
    "#                 portfolio_return >= mu_p]  # Target return\n",
    "\n",
    "# # Problem\n",
    "# problem = cp.Problem(objective, constraints)\n",
    "\n",
    "# # Solve the problem\n",
    "# problem.solve()\n",
    "\n",
    "# # Optimized portfolio weights\n",
    "# x_value = x.value\n",
    "# x_value\n",
    "# # Objective: Minimize portfolio variance\n",
    "# objective = cp.Minimize(portfolio_variance)\n",
    "\n",
    "# # Constraints\n",
    "# constraints = [cp.sum(x) == 1,  # Sum of weights is 1\n",
    "#                 x >= 0,         # No short selling\n",
    "#                 x <= 1,         # No leveraging\n",
    "#                 portfolio_return >= mu_p]  # Target return\n",
    "\n",
    "# # Problem\n",
    "# problem = cp.Problem(objective, constraints)\n",
    "\n",
    "# # Solve the problem\n",
    "# problem.solve()\n",
    "\n",
    "# # Optimized portfolio weights\n",
    "# x_value = x.value\n",
    "# x_value"
   ]
  },
  {
   "cell_type": "code",
   "execution_count": null,
   "id": "45455502-5271-4765-9f84-4ea04ae96779",
   "metadata": {},
   "outputs": [],
   "source": []
  },
  {
   "cell_type": "markdown",
   "id": "c56f13d5-4c4a-44c7-b225-647f6b52d08a",
   "metadata": {},
   "source": [
    "## Sharpe Ratio\n",
    "***\n"
   ]
  },
  {
   "cell_type": "code",
   "execution_count": null,
   "id": "b496cfa8-0819-4b3f-818e-9c466ed4150b",
   "metadata": {},
   "outputs": [],
   "source": []
  },
  {
   "cell_type": "markdown",
   "id": "9db987c9-0d96-485a-838e-9758090e2e42",
   "metadata": {},
   "source": [
    "## Maximization Functions\n",
    "**Calculate Log Likelihood**\n",
    "\n",
    "**Estimate Model Parameters**"
   ]
  },
  {
   "cell_type": "code",
   "execution_count": null,
   "id": "5d9a594a-9f5d-4419-84ca-ab137dd228ea",
   "metadata": {},
   "outputs": [],
   "source": []
  },
  {
   "cell_type": "markdown",
   "id": "a9fa5a09-b2a5-433b-a6c9-ff98ff3210cc",
   "metadata": {},
   "source": [
    "## Uniting Functions"
   ]
  },
  {
   "cell_type": "code",
   "execution_count": null,
   "id": "488f94d3-6554-49a2-bf6b-8edb62e07d9f",
   "metadata": {},
   "outputs": [],
   "source": []
  },
  {
   "cell_type": "markdown",
   "id": "7424f577-2000-45d5-b86b-0a87580473d4",
   "metadata": {},
   "source": [
    "## Running\n"
   ]
  },
  {
   "cell_type": "code",
   "execution_count": null,
   "id": "5f1d8863-32f4-427d-8a21-45fcc5bf5d72",
   "metadata": {
    "scrolled": true
   },
   "outputs": [],
   "source": [
    "# start_time = time.time()\n",
    "\n",
    "# correlation_matrix, transition_matrix, log_hist, u_hat = fit(data, univariate_parameters, num_states=2)\n",
    "# # End timing\n",
    "# end_time = time.time()\n",
    "\n",
    "# # Calculate elapsed time\n",
    "# elapsed_time = end_time - start_time\n",
    "\n",
    "# # Print elapsed time with 5 digits after the decimal point\n",
    "# print(f\"Elapsed time: {elapsed_time:.5f} seconds\")\n"
   ]
  },
  {
   "cell_type": "code",
   "execution_count": null,
   "id": "e60a200b-6d31-4c4f-82df-b9c190a9601a",
   "metadata": {},
   "outputs": [],
   "source": [
    "transition_matrix\n"
   ]
  },
  {
   "cell_type": "code",
   "execution_count": null,
   "id": "fdb5e565-ab1a-4ade-90aa-adff3e3ba236",
   "metadata": {},
   "outputs": [],
   "source": []
  },
  {
   "cell_type": "markdown",
   "id": "42ebf4c6-5494-41f4-bde2-0a8e724700e8",
   "metadata": {},
   "source": [
    "# Convergence Testing\n",
    "\n"
   ]
  },
  {
   "cell_type": "code",
   "execution_count": null,
   "id": "efe856cc-b2d8-4466-b249-f070b655603b",
   "metadata": {},
   "outputs": [],
   "source": [
    "# import matplotlib.pyplot as plt\n",
    "# univariate_parameters = np.array([[0.05, 0.15, 0.75],\n",
    "#                       [0.1, 0.25, 0.6] ])#,\n",
    "#                       # [0.15, 0.15, 0.8],\n",
    "#                       # [0.2, 0.3, 0.65]])\n",
    "# true_correlation_matrix = np.array([[[1, 0.7],[0.7,1]],[[1, -0.6],[-0.6, 1]]])\n",
    "# diagonal = 0.99\n",
    "# N = 2\n",
    "# K = 2\n",
    "# true_transition_matrix = diagonal * np.eye(N) + (1-diagonal) * (np.ones((N,N)) - np.eye(N,N)) / (N - 1)\n",
    "\n",
    "# cholesky = cholesky_form(true_correlation_matrix, N, K)\n",
    "\n",
    "# # Number of observations\n",
    "# T = 10000\n",
    "# iterations = 10000\n",
    "# plot_every = 10\n",
    "\n",
    "# max_rho = []\n",
    "# min_rho = []\n",
    "# trans_diff = []\n",
    "\n",
    "# for iteration in range(iterations):\n",
    "#     # Simulate data\n",
    "#     data, states, variances, innovations = simulate_data(K, T, univariate_parameters, true_transition_matrix, cholesky)\n",
    "    \n",
    "#     # Fit model\n",
    "#     correlation_matrix, transition_matrix, log_hist = fit(data, univariate_parameters, num_states=2)\n",
    "\n",
    "#     values = np.zeros(2)\n",
    "#     # Analyze correlation matrices\n",
    "#     for i in range(N):\n",
    "#         values[i] = correlation_matrix[i][np.triu_indices(K, 1)]\n",
    "\n",
    "\n",
    "\n",
    "#     max = np.max(values)\n",
    "#     min = np.min(values)\n",
    "#     max_rho.append(max - 0.7)\n",
    "#     min_rho.append(min + 0.6)\n",
    "#     # Analyze transition matrices\n",
    "#     trans_diff.extend(np.diag(transition_matrix) - 0.99)\n",
    "    \n",
    "#     # Plot if condition is met\n",
    "#     if (iteration + 1) % plot_every == 0:\n",
    "#         plt.figure(figsize=(10, 4))\n",
    "#         plt.subplot(1, 3, 1)\n",
    "#         plt.hist(max_rho, color='skyblue', label='Max Rho')\n",
    "#         plt.title('Max Rho')\n",
    "#         plt.subplot(1, 3, 2)\n",
    "#         plt.hist(min_rho, color='salmon', label='Min Rho')\n",
    "#         plt.title('Min Rho')\n",
    "#         plt.subplot(1, 3, 3)\n",
    "#         plt.hist(trans_diff, color='lightgreen', label='Transition Diff')\n",
    "#         plt.title('Transition Diff')\n",
    "#         plt.tight_layout()\n",
    "#         plt.savefig(f'RSDC test iteration {iteration}.png')\n",
    "#         plt.close()\n",
    "# # data, states, variances, innovations = simulate_data(K,T, univariate_parameters, true_transition_matrix, cholesky)\n",
    "\n",
    "# # correlation_matrix, transition_matrix, log_hist, u_hat = fit(data, univariate_parameters, num_states=2)"
   ]
  },
  {
   "cell_type": "code",
   "execution_count": null,
   "id": "01f93256-c776-42ba-a3a4-d7186ca68a09",
   "metadata": {},
   "outputs": [],
   "source": [
    "# densities.shape,np.max(densities), np.min(densities), densities"
   ]
  },
  {
   "cell_type": "code",
   "execution_count": null,
   "id": "90a78e35-4793-4caa-8953-10eab0a5bee1",
   "metadata": {},
   "outputs": [],
   "source": []
  },
  {
   "cell_type": "code",
   "execution_count": null,
   "id": "c1806ed8-0ff9-45c2-b477-3156bb0c4a38",
   "metadata": {},
   "outputs": [],
   "source": []
  },
  {
   "cell_type": "code",
   "execution_count": null,
   "id": "c637e440-40f8-4557-83c9-20b996cd40e1",
   "metadata": {},
   "outputs": [],
   "source": []
  },
  {
   "cell_type": "code",
   "execution_count": null,
   "id": "f8f70f2b-cb34-4d9e-a4e4-6d3879d7d3f8",
   "metadata": {},
   "outputs": [],
   "source": [
    "# np.sum(estimated_transition, axis=1)"
   ]
  },
  {
   "cell_type": "code",
   "execution_count": null,
   "id": "58ceb9eb-9971-4895-b842-38958142bbda",
   "metadata": {},
   "outputs": [],
   "source": [
    "\n"
   ]
  },
  {
   "cell_type": "code",
   "execution_count": null,
   "id": "d4b8272f-fd83-4d2d-b6d2-75065e0627b1",
   "metadata": {},
   "outputs": [],
   "source": [
    "# alpha, beta"
   ]
  },
  {
   "cell_type": "code",
   "execution_count": null,
   "id": "4fb46308-6c1d-421c-8f96-886833cd7a19",
   "metadata": {},
   "outputs": [],
   "source": [
    "# initial_states, u_hat, v_hat"
   ]
  },
  {
   "cell_type": "code",
   "execution_count": null,
   "id": "e3fd30e3-74f5-4814-8de5-8d1d508887c4",
   "metadata": {},
   "outputs": [],
   "source": [
    "# estimated_transition"
   ]
  },
  {
   "cell_type": "code",
   "execution_count": null,
   "id": "dc0b51a7-9aa3-4f70-9dd1-d2cd7d376e90",
   "metadata": {},
   "outputs": [],
   "source": [
    "\n",
    "# start_time = time.time()\n",
    "\n",
    "\n",
    "# standard_deviations = calculate_standard_deviations(data, parameters)\n",
    "# residuals = calculate_residuals(data, standard_deviations)\n",
    "# true_states = form_states(states, N, T)\n",
    "# correlation_matrix = estimate_model_parameters(res, true_states)\n",
    "# scaled = np.zeros((N, K, K))\n",
    "# for n in range(N):\n",
    "#     scaled[n,:,:] = cholesky_scale(correlation_matrix[n,:,:])\n",
    "\n",
    "\n",
    "# print(scaled)\n",
    "# # End timing\n",
    "# end_time = time.time()\n",
    "\n",
    "# # Calculate elapsed time\n",
    "# elapsed_time = end_time - start_time\n",
    "\n",
    "# # Print elapsed time with 5 digits after the decimal point\n",
    "# print(f\"Elapsed time: {elapsed_time:.5f} seconds\")\n"
   ]
  },
  {
   "cell_type": "code",
   "execution_count": null,
   "id": "42147427-0a91-42c7-bccd-1f1325df56d0",
   "metadata": {},
   "outputs": [],
   "source": []
  },
  {
   "cell_type": "code",
   "execution_count": null,
   "id": "e04c7b44-13d7-478c-9498-9ed8f010db7c",
   "metadata": {},
   "outputs": [],
   "source": []
  },
  {
   "cell_type": "code",
   "execution_count": null,
   "id": "87f2d866-84ca-47f7-a06f-5e167c0c90ba",
   "metadata": {},
   "outputs": [],
   "source": [
    "correlation_matrix"
   ]
  },
  {
   "cell_type": "code",
   "execution_count": null,
   "id": "760bd6fb-5664-4a86-be05-beee0a0b2e5f",
   "metadata": {},
   "outputs": [],
   "source": [
    "scaled"
   ]
  },
  {
   "cell_type": "code",
   "execution_count": null,
   "id": "2ac51218-c858-4bfb-81e4-dd4ec6cdecff",
   "metadata": {},
   "outputs": [],
   "source": [
    "true_correlation_matrix"
   ]
  },
  {
   "cell_type": "code",
   "execution_count": null,
   "id": "a41c3d9b-27b0-4758-9ebd-fcb1bb7a6113",
   "metadata": {},
   "outputs": [],
   "source": []
  },
  {
   "cell_type": "code",
   "execution_count": null,
   "id": "3e0cbba4-2085-4f0e-b955-d89676881697",
   "metadata": {},
   "outputs": [],
   "source": []
  }
 ],
 "metadata": {
  "kernelspec": {
   "display_name": "Python 3 (ipykernel)",
   "language": "python",
   "name": "python3"
  },
  "language_info": {
   "codemirror_mode": {
    "name": "ipython",
    "version": 3
   },
   "file_extension": ".py",
   "mimetype": "text/x-python",
   "name": "python",
   "nbconvert_exporter": "python",
   "pygments_lexer": "ipython3",
   "version": "3.11.6"
  }
 },
 "nbformat": 4,
 "nbformat_minor": 5
}
