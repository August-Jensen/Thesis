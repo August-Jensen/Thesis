{
 "cells": [
  {
   "cell_type": "code",
   "execution_count": 15,
   "id": "0e0f4287-6f8d-4fbd-ab95-b34ad27feb5a",
   "metadata": {},
   "outputs": [],
   "source": [
    "import sys\n",
    "import importlib\n",
    "import Monty\n",
    "import Hmm\n",
    "import numpy as np\n",
    "import time\n",
    "import pandas as pd\n",
    "import datetime"
   ]
  },
  {
   "cell_type": "code",
   "execution_count": 2,
   "id": "2ed0fda6-9fda-464c-a1bb-d8e34df55715",
   "metadata": {},
   "outputs": [
    {
     "name": "stdout",
     "output_type": "stream",
     "text": [
      "[0.05 0.2 ]\n",
      "Parameters: [[0.05 0.15 0.75]\n",
      " [0.2  0.3  0.65]]\n",
      "[[[ 1.   0.7]\n",
      "  [ 0.7  1. ]]\n",
      "\n",
      " [[ 1.  -0.6]\n",
      "  [-0.6  1. ]]]\n"
     ]
    },
    {
     "data": {
      "text/plain": [
       "(      States  Returns 0  Returns 1\n",
       " 0        0.0   0.000000   0.000000\n",
       " 1        0.0   1.680755   2.844260\n",
       " 2        0.0   0.539622   0.136701\n",
       " 3        0.0   0.185730  -1.066155\n",
       " 4        0.0  -0.631993  -1.288831\n",
       " ...      ...        ...        ...\n",
       " 4995     0.0  -0.788140  -0.593977\n",
       " 4996     0.0   0.571812   1.035515\n",
       " 4997     0.0   0.370415   0.923889\n",
       " 4998     0.0   1.065304   0.451545\n",
       " 4999     0.0  -0.387163  -1.741666\n",
       " \n",
       " [5000 rows x 3 columns],\n",
       " array([[0.995, 0.005],\n",
       "        [0.005, 0.995]]))"
      ]
     },
     "execution_count": 2,
     "metadata": {},
     "output_type": "execute_result"
    }
   ],
   "source": [
    "# import importlib\n",
    "# importlib.reload(Monty)\n",
    "from Monty import SimRSDC\n",
    "from Hmm import Base\n",
    "\n",
    "univariate_parameters = np.array([[0.05, 0.15, 0.75],\n",
    "                      [0.2, 0.3, 0.65]])\n",
    "true_correlation_matrix = np.array([[[1, 0.7],[0.7,1]],[[1, -0.6],[-0.6, 1]]])\n",
    "\n",
    "# univariate_parameters = np.array([[0.05, 0.15, 0.75],\n",
    "#                       [0.1, 0.25, 0.6],\n",
    "#                       [0.15, 0.15, 0.8],\n",
    "#                       [0.2, 0.3, 0.65]])\n",
    "# true_correlation_matrix = np.array([\n",
    "#     # High correlations\n",
    "#     [[1, 0.8, 0.7, 0.6],\n",
    "#      [0.8, 1, 0.65, 0.55],\n",
    "#      [0.7, 0.65, 1, 0.5],\n",
    "#      [0.6, 0.55, 0.5, 1]],\n",
    "    \n",
    "#     # # Low correlations\n",
    "#     # [[1, 0.1, 0.15, 0.05],\n",
    "#     #  [0.1, 1, 0.2, 0.1],\n",
    "#     #  [0.15, 0.2, 1, 0.12],\n",
    "#     #  [0.05, 0.1, 0.12, 1]],\n",
    "    \n",
    "#     # Negative correlations\n",
    "#     [[1, -0.5, -0.4, -0.3],\n",
    "#      [-0.5, 1, -0.2, -0.1],\n",
    "#      [-0.4, -0.2, 1, -0.25],\n",
    "#      [-0.3, -0.1, -0.25, 1]],\n",
    "    \n",
    "#     # # In between\n",
    "#     # [[1, 0.4, -0.3, 0.2],\n",
    "#     #  [0.4, 1, 0.25, -0.2],\n",
    "#     #  [-0.3, 0.25, 1, 0.15],\n",
    "#     #  [0.2, -0.2, 0.15, 1]]\n",
    "# ])\n",
    "print(univariate_parameters[:,0])\n",
    "sim = SimRSDC(transition_diagonal=0.995, num_obs=5000, K_series=2, rho=true_correlation_matrix, omega=univariate_parameters[:,0], alpha=univariate_parameters[:,1], beta=univariate_parameters[:,2] )\n",
    "sim.simulate()\n",
    "print(sim.rho_matrix)\n",
    "sim.full_df, sim.transition_matrix"
   ]
  },
  {
   "cell_type": "code",
   "execution_count": 3,
   "id": "389c43ab-ac2a-49d4-87fc-a5a35771337d",
   "metadata": {},
   "outputs": [
    {
     "name": "stderr",
     "output_type": "stream",
     "text": [
      " 39%|████████████████▍                         | 39/100 [00:04<00:06,  9.58it/s]"
     ]
    },
    {
     "name": "stdout",
     "output_type": "stream",
     "text": [
      "Model Converged at iteration:  39\n"
     ]
    },
    {
     "name": "stderr",
     "output_type": "stream",
     "text": [
      "\n"
     ]
    }
   ],
   "source": [
    "sim.correlation_matrix\n",
    "\n",
    "model = Base(sim.data, univariate_parameters=univariate_parameters)\n",
    "model.fit()\n",
    "# print(model.transition_matrix)\n",
    "# model.e_step()\n",
    "# print(model.v_hat)\n",
    "# model.m_step()\n",
    "\n",
    "# model.get_densities()\n",
    "# # Forward \n",
    "# model.forward_pass()\n",
    "# # Backward \n",
    "# model.backward_pass()\n",
    "# # Smoothed \n",
    "# model.calculate_smoothed_probabilities()\n",
    "\n",
    "# model.estimate_transition_matrix()\n",
    "# model.transition_matrix\n",
    "\n",
    "# model.plot_true_smoothed(sim.full_df)\n",
    "# # model.plot_smoothed_probabilities()\n",
    "# model.plot_histories()"
   ]
  },
  {
   "cell_type": "code",
   "execution_count": 4,
   "id": "03b2c6ed-634d-4a94-952d-ee42d77aaee2",
   "metadata": {},
   "outputs": [],
   "source": [
    "importlib.reload(Hmm)\n",
    "from Hmm import Base\n",
    "\n",
    "model.numeric_corr()"
   ]
  },
  {
   "cell_type": "code",
   "execution_count": 5,
   "id": "13f67d76-9bd8-4804-81ef-6a636f62cd45",
   "metadata": {},
   "outputs": [
    {
     "data": {
      "text/plain": [
       "array([[[ 1.        , -0.56010932],\n",
       "        [-0.56010932,  1.        ]],\n",
       "\n",
       "       [[ 1.        ,  0.76740885],\n",
       "        [ 0.76740885,  1.        ]]])"
      ]
     },
     "execution_count": 5,
     "metadata": {},
     "output_type": "execute_result"
    }
   ],
   "source": [
    "model.new_correlation_matrix"
   ]
  },
  {
   "cell_type": "code",
   "execution_count": 6,
   "id": "7e8b3a8c-bf20-432c-ab62-354d879ceed3",
   "metadata": {},
   "outputs": [],
   "source": [
    "# model.plot_true_smoothed(sim.full_df)\n",
    "# # model.plot_smoothed_probabilities()\n",
    "# model.plot_histories()"
   ]
  },
  {
   "cell_type": "code",
   "execution_count": 7,
   "id": "1cc3cdca-0419-4e03-82db-618497630a9f",
   "metadata": {},
   "outputs": [
    {
     "data": {
      "text/plain": [
       "array([[[ 1.        , -0.63253918],\n",
       "        [-0.63253918,  1.        ]],\n",
       "\n",
       "       [[ 1.        ,  0.88246217],\n",
       "        [ 0.88246217,  1.        ]]])"
      ]
     },
     "execution_count": 7,
     "metadata": {},
     "output_type": "execute_result"
    }
   ],
   "source": [
    "model.correlation_matrix"
   ]
  },
  {
   "cell_type": "code",
   "execution_count": 8,
   "id": "5587699b-4708-4a44-8e44-d96072ea5287",
   "metadata": {},
   "outputs": [
    {
     "data": {
      "text/plain": [
       "array([[[ 1. ,  0.7],\n",
       "        [ 0.7,  1. ]],\n",
       "\n",
       "       [[ 1. , -0.6],\n",
       "        [-0.6,  1. ]]])"
      ]
     },
     "execution_count": 8,
     "metadata": {},
     "output_type": "execute_result"
    }
   ],
   "source": [
    "sim.correlation_matrix"
   ]
  },
  {
   "cell_type": "code",
   "execution_count": 9,
   "id": "8350df7f-7dd7-455c-878b-27313a29706b",
   "metadata": {},
   "outputs": [
    {
     "data": {
      "text/plain": [
       "array([[-0.04700794,  0.04700794],\n",
       "       [ 0.03512189, -0.03512189]])"
      ]
     },
     "execution_count": 9,
     "metadata": {},
     "output_type": "execute_result"
    }
   ],
   "source": [
    "model.transition_matrix - sim.transition_matrix"
   ]
  },
  {
   "cell_type": "code",
   "execution_count": 10,
   "id": "6fa6ef05-82f4-4a07-8add-d6e1a1cf2c1c",
   "metadata": {},
   "outputs": [
    {
     "name": "stdout",
     "output_type": "stream",
     "text": [
      "[[[0.         0.06740885]\n",
      "  [0.06740885 0.        ]]\n",
      "\n",
      " [[0.         0.03989068]\n",
      "  [0.03989068 0.        ]]]\n"
     ]
    }
   ],
   "source": [
    "from scipy.optimize import linear_sum_assignment\n",
    "\n",
    "def match_and_subtract(sim, est):\n",
    "    \"\"\"\n",
    "    Matches simulated and estimated correlation matrices across states to minimize error,\n",
    "    and returns the differences between matched estimated and simulated matrices.\n",
    "    \n",
    "    Parameters:\n",
    "    - sim: np.array with dimensions (n_states, K, K), simulated correlation matrices.\n",
    "    - est: np.array with dimensions (n_states, K, K), estimated correlation matrices.\n",
    "    \n",
    "    Returns:\n",
    "    - np.array with dimensions (n_states, K, K), differences of matched estimated and simulated matrices.\n",
    "    \"\"\"\n",
    "    n_states= sim.shape[0]\n",
    "    # Initialize the cost matrix\n",
    "    cost_matrix = np.zeros((n_states, n_states))\n",
    "    \n",
    "    # Calculate the cost matrix as the Frobenius norm of the difference between matrices\n",
    "    for i in range(n_states):\n",
    "        for j in range(n_states):\n",
    "            cost_matrix[i, j] = np.linalg.norm(sim[i] - est[j], 'fro')\n",
    "    \n",
    "    # Solve the assignment problem\n",
    "    sim_indices, est_indices = linear_sum_assignment(cost_matrix)\n",
    "    \n",
    "    # Calculate the differences for the best matching\n",
    "    matched_diff = np.array([est[j] - sim[i] for i, j in zip(sim_indices, est_indices)])\n",
    "    \n",
    "    return matched_diff\n",
    "#simul = np.array(sim.rho_matrix)\n",
    "matched = match_and_subtract(sim.correlation_matrix, model.new_correlation_matrix)\n",
    "print(matched)"
   ]
  },
  {
   "cell_type": "code",
   "execution_count": 11,
   "id": "7eeaae78-928a-4b2a-90ae-b14e707c4cc9",
   "metadata": {},
   "outputs": [
    {
     "data": {
      "text/plain": [
       "0.06740884861706464"
      ]
     },
     "execution_count": 11,
     "metadata": {},
     "output_type": "execute_result"
    }
   ],
   "source": [
    "np.max(matched)"
   ]
  },
  {
   "cell_type": "code",
   "execution_count": 12,
   "id": "bc892af6-080c-4e4c-b8b9-24d837afe679",
   "metadata": {},
   "outputs": [
    {
     "name": "stdout",
     "output_type": "stream",
     "text": [
      "1.332539179888906\n",
      "0.03253917988890598\n",
      "0.18246217162488687\n",
      "1.4824621716248867\n"
     ]
    }
   ],
   "source": [
    "a = model.correlation_matrix[0] -sim.correlation_matrix[0]\n",
    "b = model.correlation_matrix[0] -sim.correlation_matrix[1]\n",
    "c = model.correlation_matrix[1] -sim.correlation_matrix[0]\n",
    "d = model.correlation_matrix[1] -sim.correlation_matrix[1]\n",
    "print(np.max(np.abs(a)))\n",
    "print(np.max(np.abs(b)))\n",
    "print(np.max(np.abs(c)))\n",
    "print(np.max(np.abs(d)))\n"
   ]
  },
  {
   "cell_type": "code",
   "execution_count": null,
   "id": "c3b44bf7-4cd3-4165-bfb2-b32c26676904",
   "metadata": {},
   "outputs": [],
   "source": []
  },
  {
   "cell_type": "code",
   "execution_count": 13,
   "id": "b3e64980-6023-4fde-aec5-e945b70b22f2",
   "metadata": {},
   "outputs": [
    {
     "name": "stdout",
     "output_type": "stream",
     "text": [
      "Parameters: [[0.05 0.15 0.75]\n",
      " [0.1  0.25 0.6 ]]\n"
     ]
    },
    {
     "name": "stderr",
     "output_type": "stream",
     "text": [
      " 12%|█████                                     | 12/100 [00:02<00:19,  4.41it/s]"
     ]
    },
    {
     "name": "stdout",
     "output_type": "stream",
     "text": [
      "Model Converged at iteration:  12\n"
     ]
    },
    {
     "name": "stderr",
     "output_type": "stream",
     "text": [
      "\n",
      "/tmp/ipykernel_21807/3799469287.py:36: DeprecationWarning: Conversion of an array with ndim > 0 to a scalar is deprecated, and will error in future. Ensure you extract a single element from your array before performing this operation. (Deprecated NumPy 1.25.)\n",
      "  values[i] = model.new_correlation_matrix[i][np.triu_indices(K, 1)]\n"
     ]
    },
    {
     "name": "stdout",
     "output_type": "stream",
     "text": [
      "Parameters: [[0.05 0.15 0.75]\n",
      " [0.1  0.25 0.6 ]]\n"
     ]
    },
    {
     "name": "stderr",
     "output_type": "stream",
     "text": [
      " 11%|████▌                                     | 11/100 [00:02<00:22,  3.99it/s]"
     ]
    },
    {
     "name": "stdout",
     "output_type": "stream",
     "text": [
      "Model Converged at iteration:  11\n"
     ]
    },
    {
     "name": "stderr",
     "output_type": "stream",
     "text": [
      "\n",
      "/tmp/ipykernel_21807/3799469287.py:36: DeprecationWarning: Conversion of an array with ndim > 0 to a scalar is deprecated, and will error in future. Ensure you extract a single element from your array before performing this operation. (Deprecated NumPy 1.25.)\n",
      "  values[i] = model.new_correlation_matrix[i][np.triu_indices(K, 1)]\n"
     ]
    },
    {
     "name": "stdout",
     "output_type": "stream",
     "text": [
      "Parameters: [[0.05 0.15 0.75]\n",
      " [0.1  0.25 0.6 ]]\n"
     ]
    },
    {
     "name": "stderr",
     "output_type": "stream",
     "text": [
      " 11%|████▌                                     | 11/100 [00:02<00:20,  4.31it/s]"
     ]
    },
    {
     "name": "stdout",
     "output_type": "stream",
     "text": [
      "Model Converged at iteration:  11\n"
     ]
    },
    {
     "name": "stderr",
     "output_type": "stream",
     "text": [
      "\n",
      "/tmp/ipykernel_21807/3799469287.py:36: DeprecationWarning: Conversion of an array with ndim > 0 to a scalar is deprecated, and will error in future. Ensure you extract a single element from your array before performing this operation. (Deprecated NumPy 1.25.)\n",
      "  values[i] = model.new_correlation_matrix[i][np.triu_indices(K, 1)]\n"
     ]
    },
    {
     "name": "stdout",
     "output_type": "stream",
     "text": [
      "Parameters: [[0.05 0.15 0.75]\n",
      " [0.1  0.25 0.6 ]]\n"
     ]
    },
    {
     "name": "stderr",
     "output_type": "stream",
     "text": [
      " 14%|█████▉                                    | 14/100 [00:03<00:20,  4.20it/s]"
     ]
    },
    {
     "name": "stdout",
     "output_type": "stream",
     "text": [
      "Model Converged at iteration:  14\n"
     ]
    },
    {
     "name": "stderr",
     "output_type": "stream",
     "text": [
      "\n",
      "/tmp/ipykernel_21807/3799469287.py:36: DeprecationWarning: Conversion of an array with ndim > 0 to a scalar is deprecated, and will error in future. Ensure you extract a single element from your array before performing this operation. (Deprecated NumPy 1.25.)\n",
      "  values[i] = model.new_correlation_matrix[i][np.triu_indices(K, 1)]\n"
     ]
    },
    {
     "name": "stdout",
     "output_type": "stream",
     "text": [
      "Parameters: [[0.05 0.15 0.75]\n",
      " [0.1  0.25 0.6 ]]\n"
     ]
    },
    {
     "name": "stderr",
     "output_type": "stream",
     "text": [
      " 11%|████▌                                     | 11/100 [00:02<00:22,  3.88it/s]"
     ]
    },
    {
     "name": "stdout",
     "output_type": "stream",
     "text": [
      "Model Converged at iteration:  11\n"
     ]
    },
    {
     "name": "stderr",
     "output_type": "stream",
     "text": [
      "\n"
     ]
    },
    {
     "ename": "KeyboardInterrupt",
     "evalue": "",
     "output_type": "error",
     "traceback": [
      "\u001b[0;31m---------------------------------------------------------------------------\u001b[0m",
      "\u001b[0;31mKeyboardInterrupt\u001b[0m                         Traceback (most recent call last)",
      "Cell \u001b[0;32mIn[13], line 32\u001b[0m\n\u001b[1;32m     30\u001b[0m model \u001b[38;5;241m=\u001b[39m Base(sim\u001b[38;5;241m.\u001b[39mdata, univariate_parameters\u001b[38;5;241m=\u001b[39munivariate_parameters)\n\u001b[1;32m     31\u001b[0m model\u001b[38;5;241m.\u001b[39mfit()\n\u001b[0;32m---> 32\u001b[0m \u001b[43mmodel\u001b[49m\u001b[38;5;241;43m.\u001b[39;49m\u001b[43mnumeric_corr\u001b[49m\u001b[43m(\u001b[49m\u001b[43m)\u001b[49m\n\u001b[1;32m     33\u001b[0m values \u001b[38;5;241m=\u001b[39m np\u001b[38;5;241m.\u001b[39mzeros(\u001b[38;5;241m2\u001b[39m)\n\u001b[1;32m     34\u001b[0m \u001b[38;5;66;03m# Analyze correlation matrices\u001b[39;00m\n",
      "File \u001b[0;32m~/code/jupyter/Thesis/Projects/Libraries/Hmm.py:461\u001b[0m, in \u001b[0;36mBase.numeric_corr\u001b[0;34m(self)\u001b[0m\n\u001b[1;32m    456\u001b[0m bounds \u001b[38;5;241m=\u001b[39m [(\u001b[38;5;241m-\u001b[39m\u001b[38;5;241m0.99\u001b[39m, \u001b[38;5;241m0.99\u001b[39m) \u001b[38;5;28;01mfor\u001b[39;00m _ \u001b[38;5;129;01min\u001b[39;00m \u001b[38;5;28mrange\u001b[39m(\u001b[38;5;28mself\u001b[39m\u001b[38;5;241m.\u001b[39mnum_parameters \u001b[38;5;241m*\u001b[39m \u001b[38;5;28mself\u001b[39m\u001b[38;5;241m.\u001b[39mn_states)]\n\u001b[1;32m    460\u001b[0m \u001b[38;5;66;03m# Optimize for each state's correlation matrix\u001b[39;00m\n\u001b[0;32m--> 461\u001b[0m \u001b[38;5;28mself\u001b[39m\u001b[38;5;241m.\u001b[39mresult \u001b[38;5;241m=\u001b[39m \u001b[43mminimize\u001b[49m\u001b[43m(\u001b[49m\u001b[38;5;28;43mself\u001b[39;49m\u001b[38;5;241;43m.\u001b[39;49m\u001b[43mnegative_log_likelihood\u001b[49m\u001b[43m,\u001b[49m\u001b[43m \u001b[49m\u001b[43mflattened_parameters\u001b[49m\u001b[43m,\u001b[49m\n\u001b[1;32m    462\u001b[0m \u001b[43m                  \u001b[49m\u001b[43mmethod\u001b[49m\u001b[38;5;241;43m=\u001b[39;49m\u001b[38;5;124;43m'\u001b[39;49m\u001b[38;5;124;43mL-BFGS-B\u001b[39;49m\u001b[38;5;124;43m'\u001b[39;49m\u001b[43m,\u001b[49m\n\u001b[1;32m    463\u001b[0m \u001b[43m                  \u001b[49m\u001b[43mbounds\u001b[49m\u001b[38;5;241;43m=\u001b[39;49m\u001b[43mbounds\u001b[49m\u001b[43m)\u001b[49m  \u001b[38;5;66;03m# Or another suitable method\u001b[39;00m\n\u001b[1;32m    464\u001b[0m                   \u001b[38;5;66;03m# jac=True,  # If you provide the gradient\u001b[39;00m\n\u001b[1;32m    465\u001b[0m                   \u001b[38;5;66;03m# hess=True\u001b[39;00m\n\u001b[1;32m    466\u001b[0m                   \u001b[38;5;66;03m#options={'disp': True})  # If you provide the Hessian\u001b[39;00m\n\u001b[1;32m    467\u001b[0m \u001b[38;5;28mself\u001b[39m\u001b[38;5;241m.\u001b[39mnew_correlation_matrix \u001b[38;5;241m=\u001b[39m \u001b[38;5;28mself\u001b[39m\u001b[38;5;241m.\u001b[39mrebuild_matrices(\u001b[38;5;28mself\u001b[39m\u001b[38;5;241m.\u001b[39mresult\u001b[38;5;241m.\u001b[39mx)\n",
      "File \u001b[0;32m~/.venvs/jupyter/lib/python3.11/site-packages/scipy/optimize/_minimize.py:710\u001b[0m, in \u001b[0;36mminimize\u001b[0;34m(fun, x0, args, method, jac, hess, hessp, bounds, constraints, tol, callback, options)\u001b[0m\n\u001b[1;32m    707\u001b[0m     res \u001b[38;5;241m=\u001b[39m _minimize_newtoncg(fun, x0, args, jac, hess, hessp, callback,\n\u001b[1;32m    708\u001b[0m                              \u001b[38;5;241m*\u001b[39m\u001b[38;5;241m*\u001b[39moptions)\n\u001b[1;32m    709\u001b[0m \u001b[38;5;28;01melif\u001b[39;00m meth \u001b[38;5;241m==\u001b[39m \u001b[38;5;124m'\u001b[39m\u001b[38;5;124ml-bfgs-b\u001b[39m\u001b[38;5;124m'\u001b[39m:\n\u001b[0;32m--> 710\u001b[0m     res \u001b[38;5;241m=\u001b[39m \u001b[43m_minimize_lbfgsb\u001b[49m\u001b[43m(\u001b[49m\u001b[43mfun\u001b[49m\u001b[43m,\u001b[49m\u001b[43m \u001b[49m\u001b[43mx0\u001b[49m\u001b[43m,\u001b[49m\u001b[43m \u001b[49m\u001b[43margs\u001b[49m\u001b[43m,\u001b[49m\u001b[43m \u001b[49m\u001b[43mjac\u001b[49m\u001b[43m,\u001b[49m\u001b[43m \u001b[49m\u001b[43mbounds\u001b[49m\u001b[43m,\u001b[49m\n\u001b[1;32m    711\u001b[0m \u001b[43m                           \u001b[49m\u001b[43mcallback\u001b[49m\u001b[38;5;241;43m=\u001b[39;49m\u001b[43mcallback\u001b[49m\u001b[43m,\u001b[49m\u001b[43m \u001b[49m\u001b[38;5;241;43m*\u001b[39;49m\u001b[38;5;241;43m*\u001b[39;49m\u001b[43moptions\u001b[49m\u001b[43m)\u001b[49m\n\u001b[1;32m    712\u001b[0m \u001b[38;5;28;01melif\u001b[39;00m meth \u001b[38;5;241m==\u001b[39m \u001b[38;5;124m'\u001b[39m\u001b[38;5;124mtnc\u001b[39m\u001b[38;5;124m'\u001b[39m:\n\u001b[1;32m    713\u001b[0m     res \u001b[38;5;241m=\u001b[39m _minimize_tnc(fun, x0, args, jac, bounds, callback\u001b[38;5;241m=\u001b[39mcallback,\n\u001b[1;32m    714\u001b[0m                         \u001b[38;5;241m*\u001b[39m\u001b[38;5;241m*\u001b[39moptions)\n",
      "File \u001b[0;32m~/.venvs/jupyter/lib/python3.11/site-packages/scipy/optimize/_lbfgsb_py.py:307\u001b[0m, in \u001b[0;36m_minimize_lbfgsb\u001b[0;34m(fun, x0, args, jac, bounds, disp, maxcor, ftol, gtol, eps, maxfun, maxiter, iprint, callback, maxls, finite_diff_rel_step, **unknown_options)\u001b[0m\n\u001b[1;32m    304\u001b[0m     \u001b[38;5;28;01melse\u001b[39;00m:\n\u001b[1;32m    305\u001b[0m         iprint \u001b[38;5;241m=\u001b[39m disp\n\u001b[0;32m--> 307\u001b[0m sf \u001b[38;5;241m=\u001b[39m \u001b[43m_prepare_scalar_function\u001b[49m\u001b[43m(\u001b[49m\u001b[43mfun\u001b[49m\u001b[43m,\u001b[49m\u001b[43m \u001b[49m\u001b[43mx0\u001b[49m\u001b[43m,\u001b[49m\u001b[43m \u001b[49m\u001b[43mjac\u001b[49m\u001b[38;5;241;43m=\u001b[39;49m\u001b[43mjac\u001b[49m\u001b[43m,\u001b[49m\u001b[43m \u001b[49m\u001b[43margs\u001b[49m\u001b[38;5;241;43m=\u001b[39;49m\u001b[43margs\u001b[49m\u001b[43m,\u001b[49m\u001b[43m \u001b[49m\u001b[43mepsilon\u001b[49m\u001b[38;5;241;43m=\u001b[39;49m\u001b[43meps\u001b[49m\u001b[43m,\u001b[49m\n\u001b[1;32m    308\u001b[0m \u001b[43m                              \u001b[49m\u001b[43mbounds\u001b[49m\u001b[38;5;241;43m=\u001b[39;49m\u001b[43mnew_bounds\u001b[49m\u001b[43m,\u001b[49m\n\u001b[1;32m    309\u001b[0m \u001b[43m                              \u001b[49m\u001b[43mfinite_diff_rel_step\u001b[49m\u001b[38;5;241;43m=\u001b[39;49m\u001b[43mfinite_diff_rel_step\u001b[49m\u001b[43m)\u001b[49m\n\u001b[1;32m    311\u001b[0m func_and_grad \u001b[38;5;241m=\u001b[39m sf\u001b[38;5;241m.\u001b[39mfun_and_grad\n\u001b[1;32m    313\u001b[0m fortran_int \u001b[38;5;241m=\u001b[39m _lbfgsb\u001b[38;5;241m.\u001b[39mtypes\u001b[38;5;241m.\u001b[39mintvar\u001b[38;5;241m.\u001b[39mdtype\n",
      "File \u001b[0;32m~/.venvs/jupyter/lib/python3.11/site-packages/scipy/optimize/_optimize.py:383\u001b[0m, in \u001b[0;36m_prepare_scalar_function\u001b[0;34m(fun, x0, jac, args, bounds, epsilon, finite_diff_rel_step, hess)\u001b[0m\n\u001b[1;32m    379\u001b[0m     bounds \u001b[38;5;241m=\u001b[39m (\u001b[38;5;241m-\u001b[39mnp\u001b[38;5;241m.\u001b[39minf, np\u001b[38;5;241m.\u001b[39minf)\n\u001b[1;32m    381\u001b[0m \u001b[38;5;66;03m# ScalarFunction caches. Reuse of fun(x) during grad\u001b[39;00m\n\u001b[1;32m    382\u001b[0m \u001b[38;5;66;03m# calculation reduces overall function evaluations.\u001b[39;00m\n\u001b[0;32m--> 383\u001b[0m sf \u001b[38;5;241m=\u001b[39m \u001b[43mScalarFunction\u001b[49m\u001b[43m(\u001b[49m\u001b[43mfun\u001b[49m\u001b[43m,\u001b[49m\u001b[43m \u001b[49m\u001b[43mx0\u001b[49m\u001b[43m,\u001b[49m\u001b[43m \u001b[49m\u001b[43margs\u001b[49m\u001b[43m,\u001b[49m\u001b[43m \u001b[49m\u001b[43mgrad\u001b[49m\u001b[43m,\u001b[49m\u001b[43m \u001b[49m\u001b[43mhess\u001b[49m\u001b[43m,\u001b[49m\n\u001b[1;32m    384\u001b[0m \u001b[43m                    \u001b[49m\u001b[43mfinite_diff_rel_step\u001b[49m\u001b[43m,\u001b[49m\u001b[43m \u001b[49m\u001b[43mbounds\u001b[49m\u001b[43m,\u001b[49m\u001b[43m \u001b[49m\u001b[43mepsilon\u001b[49m\u001b[38;5;241;43m=\u001b[39;49m\u001b[43mepsilon\u001b[49m\u001b[43m)\u001b[49m\n\u001b[1;32m    386\u001b[0m \u001b[38;5;28;01mreturn\u001b[39;00m sf\n",
      "File \u001b[0;32m~/.venvs/jupyter/lib/python3.11/site-packages/scipy/optimize/_differentiable_functions.py:177\u001b[0m, in \u001b[0;36mScalarFunction.__init__\u001b[0;34m(self, fun, x0, args, grad, hess, finite_diff_rel_step, finite_diff_bounds, epsilon)\u001b[0m\n\u001b[1;32m    173\u001b[0m         \u001b[38;5;28mself\u001b[39m\u001b[38;5;241m.\u001b[39mg \u001b[38;5;241m=\u001b[39m approx_derivative(fun_wrapped, \u001b[38;5;28mself\u001b[39m\u001b[38;5;241m.\u001b[39mx, f0\u001b[38;5;241m=\u001b[39m\u001b[38;5;28mself\u001b[39m\u001b[38;5;241m.\u001b[39mf,\n\u001b[1;32m    174\u001b[0m                                    \u001b[38;5;241m*\u001b[39m\u001b[38;5;241m*\u001b[39mfinite_diff_options)\n\u001b[1;32m    176\u001b[0m \u001b[38;5;28mself\u001b[39m\u001b[38;5;241m.\u001b[39m_update_grad_impl \u001b[38;5;241m=\u001b[39m update_grad\n\u001b[0;32m--> 177\u001b[0m \u001b[38;5;28;43mself\u001b[39;49m\u001b[38;5;241;43m.\u001b[39;49m\u001b[43m_update_grad\u001b[49m\u001b[43m(\u001b[49m\u001b[43m)\u001b[49m\n\u001b[1;32m    179\u001b[0m \u001b[38;5;66;03m# Hessian Evaluation\u001b[39;00m\n\u001b[1;32m    180\u001b[0m \u001b[38;5;28;01mif\u001b[39;00m \u001b[38;5;28mcallable\u001b[39m(hess):\n",
      "File \u001b[0;32m~/.venvs/jupyter/lib/python3.11/site-packages/scipy/optimize/_differentiable_functions.py:256\u001b[0m, in \u001b[0;36mScalarFunction._update_grad\u001b[0;34m(self)\u001b[0m\n\u001b[1;32m    254\u001b[0m \u001b[38;5;28;01mdef\u001b[39;00m \u001b[38;5;21m_update_grad\u001b[39m(\u001b[38;5;28mself\u001b[39m):\n\u001b[1;32m    255\u001b[0m     \u001b[38;5;28;01mif\u001b[39;00m \u001b[38;5;129;01mnot\u001b[39;00m \u001b[38;5;28mself\u001b[39m\u001b[38;5;241m.\u001b[39mg_updated:\n\u001b[0;32m--> 256\u001b[0m         \u001b[38;5;28;43mself\u001b[39;49m\u001b[38;5;241;43m.\u001b[39;49m\u001b[43m_update_grad_impl\u001b[49m\u001b[43m(\u001b[49m\u001b[43m)\u001b[49m\n\u001b[1;32m    257\u001b[0m         \u001b[38;5;28mself\u001b[39m\u001b[38;5;241m.\u001b[39mg_updated \u001b[38;5;241m=\u001b[39m \u001b[38;5;28;01mTrue\u001b[39;00m\n",
      "File \u001b[0;32m~/.venvs/jupyter/lib/python3.11/site-packages/scipy/optimize/_differentiable_functions.py:173\u001b[0m, in \u001b[0;36mScalarFunction.__init__.<locals>.update_grad\u001b[0;34m()\u001b[0m\n\u001b[1;32m    171\u001b[0m \u001b[38;5;28mself\u001b[39m\u001b[38;5;241m.\u001b[39m_update_fun()\n\u001b[1;32m    172\u001b[0m \u001b[38;5;28mself\u001b[39m\u001b[38;5;241m.\u001b[39mngev \u001b[38;5;241m+\u001b[39m\u001b[38;5;241m=\u001b[39m \u001b[38;5;241m1\u001b[39m\n\u001b[0;32m--> 173\u001b[0m \u001b[38;5;28mself\u001b[39m\u001b[38;5;241m.\u001b[39mg \u001b[38;5;241m=\u001b[39m \u001b[43mapprox_derivative\u001b[49m\u001b[43m(\u001b[49m\u001b[43mfun_wrapped\u001b[49m\u001b[43m,\u001b[49m\u001b[43m \u001b[49m\u001b[38;5;28;43mself\u001b[39;49m\u001b[38;5;241;43m.\u001b[39;49m\u001b[43mx\u001b[49m\u001b[43m,\u001b[49m\u001b[43m \u001b[49m\u001b[43mf0\u001b[49m\u001b[38;5;241;43m=\u001b[39;49m\u001b[38;5;28;43mself\u001b[39;49m\u001b[38;5;241;43m.\u001b[39;49m\u001b[43mf\u001b[49m\u001b[43m,\u001b[49m\n\u001b[1;32m    174\u001b[0m \u001b[43m                           \u001b[49m\u001b[38;5;241;43m*\u001b[39;49m\u001b[38;5;241;43m*\u001b[39;49m\u001b[43mfinite_diff_options\u001b[49m\u001b[43m)\u001b[49m\n",
      "File \u001b[0;32m~/.venvs/jupyter/lib/python3.11/site-packages/scipy/optimize/_numdiff.py:505\u001b[0m, in \u001b[0;36mapprox_derivative\u001b[0;34m(fun, x0, method, rel_step, abs_step, f0, bounds, sparsity, as_linear_operator, args, kwargs)\u001b[0m\n\u001b[1;32m    502\u001b[0m     use_one_sided \u001b[38;5;241m=\u001b[39m \u001b[38;5;28;01mFalse\u001b[39;00m\n\u001b[1;32m    504\u001b[0m \u001b[38;5;28;01mif\u001b[39;00m sparsity \u001b[38;5;129;01mis\u001b[39;00m \u001b[38;5;28;01mNone\u001b[39;00m:\n\u001b[0;32m--> 505\u001b[0m     \u001b[38;5;28;01mreturn\u001b[39;00m \u001b[43m_dense_difference\u001b[49m\u001b[43m(\u001b[49m\u001b[43mfun_wrapped\u001b[49m\u001b[43m,\u001b[49m\u001b[43m \u001b[49m\u001b[43mx0\u001b[49m\u001b[43m,\u001b[49m\u001b[43m \u001b[49m\u001b[43mf0\u001b[49m\u001b[43m,\u001b[49m\u001b[43m \u001b[49m\u001b[43mh\u001b[49m\u001b[43m,\u001b[49m\n\u001b[1;32m    506\u001b[0m \u001b[43m                             \u001b[49m\u001b[43muse_one_sided\u001b[49m\u001b[43m,\u001b[49m\u001b[43m \u001b[49m\u001b[43mmethod\u001b[49m\u001b[43m)\u001b[49m\n\u001b[1;32m    507\u001b[0m \u001b[38;5;28;01melse\u001b[39;00m:\n\u001b[1;32m    508\u001b[0m     \u001b[38;5;28;01mif\u001b[39;00m \u001b[38;5;129;01mnot\u001b[39;00m issparse(sparsity) \u001b[38;5;129;01mand\u001b[39;00m \u001b[38;5;28mlen\u001b[39m(sparsity) \u001b[38;5;241m==\u001b[39m \u001b[38;5;241m2\u001b[39m:\n",
      "File \u001b[0;32m~/.venvs/jupyter/lib/python3.11/site-packages/scipy/optimize/_numdiff.py:576\u001b[0m, in \u001b[0;36m_dense_difference\u001b[0;34m(fun, x0, f0, h, use_one_sided, method)\u001b[0m\n\u001b[1;32m    574\u001b[0m     x \u001b[38;5;241m=\u001b[39m x0 \u001b[38;5;241m+\u001b[39m h_vecs[i]\n\u001b[1;32m    575\u001b[0m     dx \u001b[38;5;241m=\u001b[39m x[i] \u001b[38;5;241m-\u001b[39m x0[i]  \u001b[38;5;66;03m# Recompute dx as exactly representable number.\u001b[39;00m\n\u001b[0;32m--> 576\u001b[0m     df \u001b[38;5;241m=\u001b[39m \u001b[43mfun\u001b[49m\u001b[43m(\u001b[49m\u001b[43mx\u001b[49m\u001b[43m)\u001b[49m \u001b[38;5;241m-\u001b[39m f0\n\u001b[1;32m    577\u001b[0m \u001b[38;5;28;01melif\u001b[39;00m method \u001b[38;5;241m==\u001b[39m \u001b[38;5;124m'\u001b[39m\u001b[38;5;124m3-point\u001b[39m\u001b[38;5;124m'\u001b[39m \u001b[38;5;129;01mand\u001b[39;00m use_one_sided[i]:\n\u001b[1;32m    578\u001b[0m     x1 \u001b[38;5;241m=\u001b[39m x0 \u001b[38;5;241m+\u001b[39m h_vecs[i]\n",
      "File \u001b[0;32m~/.venvs/jupyter/lib/python3.11/site-packages/scipy/optimize/_numdiff.py:456\u001b[0m, in \u001b[0;36mapprox_derivative.<locals>.fun_wrapped\u001b[0;34m(x)\u001b[0m\n\u001b[1;32m    455\u001b[0m \u001b[38;5;28;01mdef\u001b[39;00m \u001b[38;5;21mfun_wrapped\u001b[39m(x):\n\u001b[0;32m--> 456\u001b[0m     f \u001b[38;5;241m=\u001b[39m np\u001b[38;5;241m.\u001b[39matleast_1d(\u001b[43mfun\u001b[49m\u001b[43m(\u001b[49m\u001b[43mx\u001b[49m\u001b[43m,\u001b[49m\u001b[43m \u001b[49m\u001b[38;5;241;43m*\u001b[39;49m\u001b[43margs\u001b[49m\u001b[43m,\u001b[49m\u001b[43m \u001b[49m\u001b[38;5;241;43m*\u001b[39;49m\u001b[38;5;241;43m*\u001b[39;49m\u001b[43mkwargs\u001b[49m\u001b[43m)\u001b[49m)\n\u001b[1;32m    457\u001b[0m     \u001b[38;5;28;01mif\u001b[39;00m f\u001b[38;5;241m.\u001b[39mndim \u001b[38;5;241m>\u001b[39m \u001b[38;5;241m1\u001b[39m:\n\u001b[1;32m    458\u001b[0m         \u001b[38;5;28;01mraise\u001b[39;00m \u001b[38;5;167;01mRuntimeError\u001b[39;00m(\u001b[38;5;124m\"\u001b[39m\u001b[38;5;124m`fun` return value has \u001b[39m\u001b[38;5;124m\"\u001b[39m\n\u001b[1;32m    459\u001b[0m                            \u001b[38;5;124m\"\u001b[39m\u001b[38;5;124mmore than 1 dimension.\u001b[39m\u001b[38;5;124m\"\u001b[39m)\n",
      "File \u001b[0;32m~/.venvs/jupyter/lib/python3.11/site-packages/scipy/optimize/_differentiable_functions.py:137\u001b[0m, in \u001b[0;36mScalarFunction.__init__.<locals>.fun_wrapped\u001b[0;34m(x)\u001b[0m\n\u001b[1;32m    133\u001b[0m \u001b[38;5;28mself\u001b[39m\u001b[38;5;241m.\u001b[39mnfev \u001b[38;5;241m+\u001b[39m\u001b[38;5;241m=\u001b[39m \u001b[38;5;241m1\u001b[39m\n\u001b[1;32m    134\u001b[0m \u001b[38;5;66;03m# Send a copy because the user may overwrite it.\u001b[39;00m\n\u001b[1;32m    135\u001b[0m \u001b[38;5;66;03m# Overwriting results in undefined behaviour because\u001b[39;00m\n\u001b[1;32m    136\u001b[0m \u001b[38;5;66;03m# fun(self.x) will change self.x, with the two no longer linked.\u001b[39;00m\n\u001b[0;32m--> 137\u001b[0m fx \u001b[38;5;241m=\u001b[39m \u001b[43mfun\u001b[49m\u001b[43m(\u001b[49m\u001b[43mnp\u001b[49m\u001b[38;5;241;43m.\u001b[39;49m\u001b[43mcopy\u001b[49m\u001b[43m(\u001b[49m\u001b[43mx\u001b[49m\u001b[43m)\u001b[49m\u001b[43m,\u001b[49m\u001b[43m \u001b[49m\u001b[38;5;241;43m*\u001b[39;49m\u001b[43margs\u001b[49m\u001b[43m)\u001b[49m\n\u001b[1;32m    138\u001b[0m \u001b[38;5;66;03m# Make sure the function returns a true scalar\u001b[39;00m\n\u001b[1;32m    139\u001b[0m \u001b[38;5;28;01mif\u001b[39;00m \u001b[38;5;129;01mnot\u001b[39;00m np\u001b[38;5;241m.\u001b[39misscalar(fx):\n",
      "File \u001b[0;32m~/code/jupyter/Thesis/Projects/Libraries/Hmm.py:500\u001b[0m, in \u001b[0;36mBase.negative_log_likelihood\u001b[0;34m(self, flattened_parameters)\u001b[0m\n\u001b[1;32m    497\u001b[0m     D_matrix \u001b[38;5;241m=\u001b[39m \u001b[38;5;28mself\u001b[39m\u001b[38;5;241m.\u001b[39mdiagonal_matrix_operations(matrix[i,:,:])\n\u001b[1;32m    498\u001b[0m     correlation_matrix[i,:,:] \u001b[38;5;241m=\u001b[39m \u001b[38;5;28mself\u001b[39m\u001b[38;5;241m.\u001b[39mcholesky_scale(D_matrix \u001b[38;5;241m@\u001b[39m matrix[i,:,:] \u001b[38;5;241m@\u001b[39m D_matrix)\n\u001b[0;32m--> 500\u001b[0m end_densities \u001b[38;5;241m=\u001b[39m \u001b[38;5;28;43mself\u001b[39;49m\u001b[38;5;241;43m.\u001b[39;49m\u001b[43mget_final_densities\u001b[49m\u001b[43m(\u001b[49m\u001b[43mcorrelation_matrix\u001b[49m\u001b[43m)\u001b[49m\n\u001b[1;32m    501\u001b[0m \u001b[38;5;66;03m# The log likelihood calculation\u001b[39;00m\n\u001b[1;32m    502\u001b[0m log_likelihood \u001b[38;5;241m=\u001b[39m np\u001b[38;5;241m.\u001b[39msum(\u001b[38;5;28mself\u001b[39m\u001b[38;5;241m.\u001b[39mu_hat \u001b[38;5;241m*\u001b[39m np\u001b[38;5;241m.\u001b[39mlog(end_densities \u001b[38;5;241m+\u001b[39m \u001b[38;5;241m1e-9\u001b[39m))\n",
      "File \u001b[0;32m~/code/jupyter/Thesis/Projects/Libraries/Hmm.py:549\u001b[0m, in \u001b[0;36mBase.get_final_densities\u001b[0;34m(self, correlation_matrix)\u001b[0m\n\u001b[1;32m    547\u001b[0m         exponent_part \u001b[38;5;241m=\u001b[39m \u001b[38;5;241m-\u001b[39m\u001b[38;5;241m0.5\u001b[39m \u001b[38;5;241m*\u001b[39m np\u001b[38;5;241m.\u001b[39mdot(z_t\u001b[38;5;241m.\u001b[39mT, np\u001b[38;5;241m.\u001b[39mdot(inv_R[n], z_t))\n\u001b[1;32m    548\u001b[0m         \u001b[38;5;66;03m# Calculate the density without log, note this could lead to underflow\u001b[39;00m\n\u001b[0;32m--> 549\u001b[0m         densities[n, t] \u001b[38;5;241m=\u001b[39m \u001b[43mnp\u001b[49m\u001b[38;5;241;43m.\u001b[39;49m\u001b[43mexp\u001b[49m\u001b[43m(\u001b[49m\u001b[43mexponent_part\u001b[49m\u001b[43m)\u001b[49m \u001b[38;5;241m/\u001b[39m np\u001b[38;5;241m.\u001b[39msqrt((\u001b[38;5;241m2\u001b[39m \u001b[38;5;241m*\u001b[39m np\u001b[38;5;241m.\u001b[39mpi) \u001b[38;5;241m*\u001b[39m\u001b[38;5;241m*\u001b[39m \u001b[38;5;28mself\u001b[39m\u001b[38;5;241m.\u001b[39mK \u001b[38;5;241m*\u001b[39m det_R[n])\n\u001b[1;32m    551\u001b[0m \u001b[38;5;28;01mreturn\u001b[39;00m densities\n",
      "\u001b[0;31mKeyboardInterrupt\u001b[0m: "
     ]
    }
   ],
   "source": [
    "import matplotlib.pyplot as plt\n",
    "univariate_parameters = np.array([[0.05, 0.15, 0.75],\n",
    "                      [0.1, 0.25, 0.6] ])#,\n",
    "                      # [0.15, 0.15, 0.8],\n",
    "                      # [0.2, 0.3, 0.65]])\n",
    "true_correlation_matrix = np.array([[[1, 0.7],[0.7,1]],[[1, -0.6],[-0.6, 1]]])\n",
    "diagonal = 0.99\n",
    "N = 2\n",
    "K = 2\n",
    "true_transition_matrix = diagonal * np.eye(N) + (1-diagonal) * (np.ones((N,N)) - np.eye(N,N)) / (N - 1)\n",
    "\n",
    "\n",
    "# Number of observations\n",
    "T = 10000\n",
    "iterations = 100\n",
    "plot_every = 10\n",
    "\n",
    "max_rho = []\n",
    "min_rho = []\n",
    "trans_diff = []\n",
    "\n",
    "start_time = time.time()\n",
    "\n",
    "\n",
    "\n",
    "for iteration in range(iterations):\n",
    "    start_iteration_time = time.time()\n",
    "    # Simulate data\n",
    "    sim = SimRSDC(transition_diagonal=0.99, num_obs=10000, K_series=2, rho=true_correlation_matrix, omega=univariate_parameters[:,0], alpha=univariate_parameters[:,1], beta=univariate_parameters[:,2] )\n",
    "    sim.simulate()\n",
    "    \n",
    "    # Fit model\n",
    "    model = Base(sim.data, univariate_parameters=univariate_parameters)\n",
    "    model.fit()\n",
    "    model.numeric_corr()\n",
    "    values = [[] for _ in range(N)]  # Create a list of empty lists for each state\n",
    "    \n",
    "    for i in range(N):\n",
    "        # Extract the off-diagonal values from the correlation matrix for state i\n",
    "        off_diagonals = model.new_correlation_matrix[i][np.triu_indices(K, 1)]\n",
    "        # Now, off_diagonals is an array of values\n",
    "        values[i].extend(off_diagonals)  # Use extend to add these values to the list\n",
    "    # Convert each list in values to a numpy array\n",
    "    values_arrays = [np.array(v) for v in values]\n",
    "    \n",
    "    # Example: Find the max and min off-diagonal value across all states\n",
    "    max_value = max(np.max(v) for v in values_arrays)\n",
    "    min_value = min(np.min(v) for v in values_arrays)\n",
    "    \n",
    "    max_rho.append(max_value - 0.7)\n",
    "    min_rho.append(min_value + 0.6)\n",
    "    # # Analyze correlation matrices\n",
    "    # for i in range(N):\n",
    "    #     values[i] = model.new_correlation_matrix[i][np.triu_indices(K, 1)]\n",
    "\n",
    "\n",
    "\n",
    "    # max = np.max(values)\n",
    "    # min = np.min(values)\n",
    "    # max_rho.append(max - 0.7)\n",
    "    # min_rho.append(min + 0.6)\n",
    "    # Analyze transition matrices\n",
    "    trans_diff.extend(np.diag(model.transition_matrix) - 0.99)\n",
    "\n",
    "        # End timing\n",
    "    end_iteration_time = time.time()\n",
    "    \n",
    "    # Calculate elapsed time\n",
    "    elapsed_iteration_time = end_iteration_time - start_iteration_time\n",
    "    # Calculate elapsed time\n",
    "    total_elapsed_time = end_iteration_time - start_time\n",
    "    hours, remainder = divmod(total_elapsed_time, 3600)\n",
    "    minutes, seconds = divmod(remainder, 60)\n",
    "    \n",
    "    # Format as HH:MM:SS, ensuring two digits for hours, minutes, and seconds\n",
    "    formatted_time = f\"{int(hours):02d}:{int(minutes):02d}:{int(seconds):02d}\"\n",
    "    \n",
    "    print(f'Current Iteration: {iteration}, Iteration Time: {elapsed_iteration_time:.5f}, Total Time {formatted_time}')\n",
    "    # Plot if condition is met\n",
    "    if (iteration + 1) % plot_every == 0:\n",
    "        plt.figure(figsize=(10, 4))\n",
    "        plt.subplot(1, 3, 1)\n",
    "        plt.hist(max_rho, color='skyblue', label='Max Rho')\n",
    "        plt.title('Max Rho')\n",
    "        plt.subplot(1, 3, 2)\n",
    "        plt.hist(min_rho, color='salmon', label='Min Rho')\n",
    "        plt.title('Min Rho')\n",
    "        plt.subplot(1, 3, 3)\n",
    "        plt.hist(trans_diff, color='lightgreen', label='Transition Diff')\n",
    "        plt.title('Transition Diff')\n",
    "        plt.tight_layout()\n",
    "        plt.savefig(f'2 RSDC test iteration {iteration}.png')\n",
    "        plt.close()\n",
    "# data, states, variances, innovations = simulate_data(K,T, univariate_parameters, true_transition_matrix, cholesky)\n",
    "\n",
    "# correlation_matrix, transition_matrix, log_hist, u_hat = fit(data, univariate_parameters, num_states=2)"
   ]
  }
 ],
 "metadata": {
  "kernelspec": {
   "display_name": "Python 3 (ipykernel)",
   "language": "python",
   "name": "python3"
  },
  "language_info": {
   "codemirror_mode": {
    "name": "ipython",
    "version": 3
   },
   "file_extension": ".py",
   "mimetype": "text/x-python",
   "name": "python",
   "nbconvert_exporter": "python",
   "pygments_lexer": "ipython3",
   "version": "3.11.6"
  }
 },
 "nbformat": 4,
 "nbformat_minor": 5
}
