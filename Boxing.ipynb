{
 "cells": [
  {
   "cell_type": "code",
   "execution_count": 11,
   "id": "7935eb57-d436-4c73-b1c3-9cce5a1c8272",
   "metadata": {},
   "outputs": [
    {
     "name": "stdout",
     "output_type": "stream",
     "text": [
      "Starting training simulation...\n"
     ]
    },
    {
     "name": "stdin",
     "output_type": "stream",
     "text": [
      "Select mode (1-4):  2\n",
      "How many strikes to simulate?  2\n"
     ]
    },
    {
     "name": "stdout",
     "output_type": "stream",
     "text": [
      "\u001b[31mCROSS\u001b[0m\n",
      "\u001b[31mL-HOOK\u001b[0m\n"
     ]
    }
   ],
   "source": [
    "import random\n",
    "import time\n",
    "from termcolor import colored\n",
    "\n",
    "# Define the strikes and their frequencies for the enemy\n",
    "strikes = {\n",
    "    \"Jab\": 40,\n",
    "    \"Cross\": 30,\n",
    "    \"L-Hook\": 20,\n",
    "    \"R-Hook\": 10,\n",
    "    \"L-Rip\": 5,\n",
    "    \"R-Rip\": 5,\n",
    "    \"L-UpperCut\": 5,\n",
    "    \"R-Uppercut\": 5\n",
    "}\n",
    "\n",
    "def choose_strike(strikes):\n",
    "    \"\"\"Randomly choose a strike based on the given frequencies.\"\"\"\n",
    "    population = list(strikes.keys())\n",
    "    weights = list(strikes.values())\n",
    "    return random.choices(population, weights=weights, k=1)[0]\n",
    "\n",
    "def display_strike(strike, color='red'):\n",
    "    \"\"\"Display the chosen strike in the specified color.\"\"\"\n",
    "    print(colored(strike.upper(), color))\n",
    "\n",
    "def simulate_mode(mode):\n",
    "    \"\"\"Simulate strikes based on the selected mode.\"\"\"\n",
    "    if mode in [1, 3]:\n",
    "        interval = 2 + random.uniform(0, 2)\n",
    "    elif mode in [2, 4]:\n",
    "        interval = 1 + random.uniform(0, 1)\n",
    "    \n",
    "    for_me = True if mode > 2 else False\n",
    "    color = 'blue' if for_me else 'red'\n",
    "    \n",
    "    strike = choose_strike(strikes)\n",
    "    display_strike(strike, color=color)\n",
    "    time.sleep(interval)\n",
    "\n",
    "# Example usage:\n",
    "if __name__ == \"__main__\":\n",
    "    print(\"Starting training simulation...\")\n",
    "    mode = int(input(\"Select mode (1-4): \"))\n",
    "    num_strikes = int(input(\"How many strikes to simulate? \"))\n",
    "    \n",
    "    for _ in range(num_strikes):\n",
    "        simulate_mode(mode)\n"
   ]
  },
  {
   "cell_type": "code",
   "execution_count": 14,
   "id": "b064ca1a-932c-4ccd-b817-287132f9335a",
   "metadata": {},
   "outputs": [],
   "source": [
    "import tkinter as tk\n",
    "import random\n",
    "import time\n",
    "import threading\n",
    "\n",
    "# Define the strikes and their frequencies for the enemy\n",
    "strikes = {\n",
    "    \"Jab\": 40,\n",
    "    \"Cross\": 30,\n",
    "    \"L-Hook\": 20,\n",
    "    \"R-Hook\": 10,\n",
    "    # \"L-Rip\": 5,\n",
    "    # \"R-Rip\": 5,\n",
    "    # \"L-UpperCut\": 5,\n",
    "    # \"R-Uppercut\": 5,\n",
    "}\n",
    "\n",
    "def choose_strike():\n",
    "    \"\"\"Randomly choose a strike based on the given frequencies.\"\"\"\n",
    "    population = list(strikes.keys())\n",
    "    weights = list(strikes.values())\n",
    "    return random.choices(population, weights=weights, k=1)[0]\n",
    "\n",
    "class BoxingTrainerApp:\n",
    "    def __init__(self, root):\n",
    "        self.root = root\n",
    "        self.root.title(\"Boxing Trainer\")\n",
    "        self.root.geometry(\"800x600\")\n",
    "        self.root.configure(bg='#383838')\n",
    "\n",
    "        self.strike_label = tk.Label(root, text=\"\", font=(\"Helvetica\", 84, \"bold\"), bg='#383838', fg='red')\n",
    "        self.strike_label.pack(expand=True)\n",
    "\n",
    "    def update_strike(self, mode):\n",
    "        if mode in [1, 3]:\n",
    "            interval = 2 + random.uniform(0, 2)\n",
    "        elif mode in [2, 4]:\n",
    "            interval = 0.5 + random.uniform(0, 1)\n",
    "        \n",
    "        for_me = random.choice([True, False]) if mode > 2 else False\n",
    "        color = 'blue' if for_me else 'red'\n",
    "        \n",
    "        strike = choose_strike()\n",
    "        self.strike_label.config(text=strike.upper(), fg=color)\n",
    "        self.strike_label.after(int(interval * 1000), lambda: self.update_strike(mode))\n",
    "\n",
    "def start_training(mode):\n",
    "    root = tk.Tk()\n",
    "    app = BoxingTrainerApp(root)\n",
    "    threading.Thread(target=lambda: app.update_strike(mode)).start()\n",
    "    root.mainloop()\n",
    "\n",
    "# To use the app, call start_training with the desired mode (1-4)\n",
    "start_training(1)\n"
   ]
  }
 ],
 "metadata": {
  "kernelspec": {
   "display_name": "Python 3 (ipykernel)",
   "language": "python",
   "name": "python3"
  },
  "language_info": {
   "codemirror_mode": {
    "name": "ipython",
    "version": 3
   },
   "file_extension": ".py",
   "mimetype": "text/x-python",
   "name": "python",
   "nbconvert_exporter": "python",
   "pygments_lexer": "ipython3",
   "version": "3.11.6"
  }
 },
 "nbformat": 4,
 "nbformat_minor": 5
}
