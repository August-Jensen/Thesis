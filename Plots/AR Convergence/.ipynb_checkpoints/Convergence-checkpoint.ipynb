{
 "cells": [
  {
   "cell_type": "code",
   "execution_count": 5,
   "id": "4bba6c4b-84fc-4a39-8a89-1d8adac501d5",
   "metadata": {},
   "outputs": [
    {
     "name": "stderr",
     "output_type": "stream",
     "text": [
      "100%|█████████████████████████████████████| 10000/10000 [02:35<00:00, 64.31it/s]\n"
     ]
    }
   ],
   "source": [
    "import numpy as np\n",
    "import matplotlib.pyplot as plt\n",
    "from scipy.optimize import minimize\n",
    "from scipy.stats import norm\n",
    "from tqdm import tqdm\n",
    "\n",
    "def simulate_AR1(phi, mu, sigma, T):\n",
    "    shocks = np.random.normal(0, sigma, T)\n",
    "    y = np.zeros(T)\n",
    "    y[0] = mu + shocks[0]\n",
    "    for t in range(1, T):\n",
    "        y[t] = mu + phi * (y[t-1] - mu) + shocks[t]\n",
    "    return y\n",
    "\n",
    "def log_likelihood(params, data):\n",
    "    mu, phi, sigma = params\n",
    "    T = len(data)\n",
    "    errors = data[1:] - mu - phi * (data[:-1] - mu)\n",
    "    # Implement the log of the normal PDF manually\n",
    "    log_lik = -np.sum(np.log(2 * np.pi * sigma**2) / 2 - (errors**2) / (2 * sigma**2))\n",
    "    return -log_lik  # Return the negative log likelihood for minimization\n",
    "\n",
    "\n",
    "def estimate_parameters(data):\n",
    "    initial_guess = [0, 0, 1]\n",
    "    result = minimize(log_likelihood, initial_guess, args=(data,), bounds=[(-0.1, 0.1), (-0.9, 0.9), (0.2, 2)])\n",
    "    return result.x, result.hess_inv  # Estimated parameters and inverse Hessian (for standard errors)\n",
    "\n",
    "N = 10000  # Number of simulations\n",
    "T = 10000  # Number of observations\n",
    "v = 100   # Plot every v iterations\n",
    "true_params = []\n",
    "est_params = []\n",
    "std_errors = []\n",
    "\n",
    "for p in tqdm(range(N)):\n",
    "    phi = np.random.uniform(-0.7, 0.7)\n",
    "    mu = np.random.uniform(-0.3, 0.3)\n",
    "    sigma = np.random.uniform(0.2, 2)\n",
    "    true_params.append((phi, mu, sigma))\n",
    "    \n",
    "    data = simulate_AR1(phi, mu, sigma, T)\n",
    "    \n",
    "    estimated, hess_inv = estimate_parameters(data)\n",
    "    est_params.append(estimated)\n",
    "    std_errors.append(np.sqrt(np.diag(hess_inv.todense())))\n",
    "    \n",
    "    if (p + 1) % v == 0:\n",
    "        # Convert lists to NumPy arrays for easier manipulation\n",
    "        true_params_np = np.array(true_params)\n",
    "        est_params_np = np.array(est_params)\n",
    "        std_errors_np = np.array(std_errors)\n",
    "\n",
    "        # Calculate differences between estimated and true parameters\n",
    "        param_diffs = est_params_np - true_params_np\n",
    "\n",
    "        # Plot histograms\n",
    "        fig, axes = plt.subplots(3, 2, figsize=(12, 9))\n",
    "        param_names = ['phi', 'mu', 'sigma']\n",
    "\n",
    "        for i in range(3):\n",
    "            axes[i, 0].hist(param_diffs[:, i], bins=20, alpha=0.75, label=f'{param_names[i]} diffs')\n",
    "            axes[i, 0].set_title(f'Estimated minus True {param_names[i]}')\n",
    "            axes[i, 0].legend()\n",
    "\n",
    "            axes[i, 1].hist(std_errors_np[:, i], bins=20, alpha=0.75, label=f'{param_names[i]} SE')\n",
    "            axes[i, 1].set_title(f'Standard Error of {param_names[i]}')\n",
    "            axes[i, 1].legend()\n",
    "\n",
    "        plt.tight_layout()\n",
    "        plt.savefig(f'DAR {p + 1} iteration.png')\n",
    "        plt.close(fig)  # Close the figure to avoid display issues in some environments\n"
   ]
  }
 ],
 "metadata": {
  "kernelspec": {
   "display_name": "Python 3 (ipykernel)",
   "language": "python",
   "name": "python3"
  },
  "language_info": {
   "codemirror_mode": {
    "name": "ipython",
    "version": 3
   },
   "file_extension": ".py",
   "mimetype": "text/x-python",
   "name": "python",
   "nbconvert_exporter": "python",
   "pygments_lexer": "ipython3",
   "version": "3.11.6"
  }
 },
 "nbformat": 4,
 "nbformat_minor": 5
}
