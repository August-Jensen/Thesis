{
 "cells": [
  {
   "cell_type": "code",
   "execution_count": 6,
   "id": "9b59b2ab-c0f7-40b2-bee0-4b7780df39cb",
   "metadata": {},
   "outputs": [
    {
     "name": "stdout",
     "output_type": "stream",
     "text": [
      "[*********************100%%**********************]  1 of 1 completed\n",
      "5033\n"
     ]
    },
    {
     "name": "stderr",
     "output_type": "stream",
     "text": [
      "/tmp/ipykernel_364191/2910117258.py:58: DeprecationWarning: Starting with ImageIO v3 the behavior of this function will switch to that of iio.v3.imread. To keep the current behavior (and make this warning disappear) use `import imageio.v2 as imageio` or call `imageio.v2.imread` directly.\n",
      "  images.append(imageio.imread(filename))\n"
     ]
    },
    {
     "name": "stdout",
     "output_type": "stream",
     "text": [
      "GIF created successfully.\n"
     ]
    }
   ],
   "source": [
    "import yfinance as yf\n",
    "import matplotlib.pyplot as plt\n",
    "import os\n",
    "import imageio\n",
    "\n",
    "# Download S&P 500 data\n",
    "sp500 = yf.download('^GSPC', start=\"2004-01-01\", end=\"2024-01-01\")\n",
    "length = len(sp500)\n",
    "print(length)\n",
    "\n",
    "# Directory for saving images\n",
    "os.makedirs('sp500_plots', exist_ok=True)\n",
    "\n",
    "# Metropolis theme background color\n",
    "bgcolor = '#fafafa'\n",
    "\n",
    "# Determine the center of the time series\n",
    "center = len(sp500) // 2\n",
    "half_window = 25\n",
    "numobs = 350\n",
    "\n",
    "# Loop to create and save plots\n",
    "for i in range(numobs):  # Adjust range as needed\n",
    "    window = 50 + i\n",
    "    start_idx = max(center - half_window - i // 2, 0)\n",
    "    end_idx = min(center + half_window + i // 2, len(sp500))\n",
    "\n",
    "    # Plotting\n",
    "    plt.figure(figsize=(10, 6))\n",
    "    ax = plt.gca()  # Get current axis\n",
    "    ax.set_facecolor(bgcolor)  # Set background color\n",
    "    plt.plot(sp500.iloc[start_idx:end_idx].Close, color='darkorange')  # Set line color to white for visibility\n",
    "\n",
    "    # Remove titles and axis labels\n",
    "    plt.title('')\n",
    "    plt.xlabel('')\n",
    "    plt.ylabel('')\n",
    "\n",
    "    # Remove axis\n",
    "    ax.spines['top'].set_visible(False)\n",
    "    ax.spines['right'].set_visible(False)\n",
    "    ax.spines['bottom'].set_visible(False)\n",
    "    ax.spines['left'].set_visible(False)\n",
    "\n",
    "    # Remove y-axis ticks\n",
    "    ax.yaxis.set_ticks_position('none') \n",
    "    ax.set_yticklabels([])\n",
    "\n",
    "    # Save plot\n",
    "    filename = f'sp500_plots/plot_{i:03d}.png'\n",
    "    plt.savefig(filename, facecolor=bgcolor)\n",
    "    plt.close()\n",
    "\n",
    "# Create GIF\n",
    "images = []\n",
    "for i in range(numobs):  # Adjust range as needed\n",
    "    filename = f'sp500_plots/plot_{i:03d}.png'\n",
    "    images.append(imageio.imread(filename))\n",
    "\n",
    "imageio.mimsave('Asp500_time_series_1.gif', images, duration=0.05)\n",
    "\n",
    "print(\"GIF created successfully.\")\n"
   ]
  }
 ],
 "metadata": {
  "kernelspec": {
   "display_name": "Python 3 (ipykernel)",
   "language": "python",
   "name": "python3"
  },
  "language_info": {
   "codemirror_mode": {
    "name": "ipython",
    "version": 3
   },
   "file_extension": ".py",
   "mimetype": "text/x-python",
   "name": "python",
   "nbconvert_exporter": "python",
   "pygments_lexer": "ipython3",
   "version": "3.11.6"
  }
 },
 "nbformat": 4,
 "nbformat_minor": 5
}
