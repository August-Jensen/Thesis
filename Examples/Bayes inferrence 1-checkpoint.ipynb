{
 "cells": [
  {
   "cell_type": "code",
   "execution_count": 1,
   "id": "37f87505-caac-46ff-8931-b218cc71c687",
   "metadata": {},
   "outputs": [
    {
     "name": "stdout",
     "output_type": "stream",
     "text": [
      "!!!!!!!!!!!!!!!!!!!!!!!!!!!!!!!!!!!!!!!!!!!!!!!!!!!!!!!!!!!!\n",
      "The imported Theano(-PyMC) module is broken.\n",
      "It was imported from _NamespacePath(['/home/august/.venvs/jupyter/lib/python3.11/site-packages/theano'])\n",
      "Try to uninstall/reinstall it after closing all active sessions/notebooks.\n",
      "Also see https://github.com/pymc-devs/pymc3/wiki for installation instructions.\n",
      "!!!!!!!!!!!!!!!!!!!!!!!!!!!!!!!!!!!!!!!!!!!!!!!!!!!!!!!!!!!!\n"
     ]
    },
    {
     "ename": "AttributeError",
     "evalue": "module 'theano' has no attribute 'config'",
     "output_type": "error",
     "traceback": [
      "\u001b[0;31m---------------------------------------------------------------------------\u001b[0m",
      "\u001b[0;31mAttributeError\u001b[0m                            Traceback (most recent call last)",
      "Cell \u001b[0;32mIn[1], line 1\u001b[0m\n\u001b[0;32m----> 1\u001b[0m \u001b[38;5;28;01mimport\u001b[39;00m \u001b[38;5;21;01mpymc3\u001b[39;00m \u001b[38;5;28;01mas\u001b[39;00m \u001b[38;5;21;01mpm\u001b[39;00m\n\u001b[1;32m      2\u001b[0m \u001b[38;5;28;01mimport\u001b[39;00m \u001b[38;5;21;01mnumpy\u001b[39;00m \u001b[38;5;28;01mas\u001b[39;00m \u001b[38;5;21;01mnp\u001b[39;00m\n\u001b[1;32m      4\u001b[0m n_states \u001b[38;5;241m=\u001b[39m \u001b[38;5;241m2\u001b[39m  \u001b[38;5;66;03m# number of states, e.g., high and low volatility\u001b[39;00m\n",
      "File \u001b[0;32m~/.venvs/jupyter/lib/python3.11/site-packages/pymc3/__init__.py:79\u001b[0m\n\u001b[1;32m     75\u001b[0m         \u001b[38;5;28;01mpass\u001b[39;00m\n\u001b[1;32m     78\u001b[0m _check_backend_version()\n\u001b[0;32m---> 79\u001b[0m \u001b[43m__set_compiler_flags\u001b[49m\u001b[43m(\u001b[49m\u001b[43m)\u001b[49m\n\u001b[1;32m     80\u001b[0m _hotfix_theano_printing()\n\u001b[1;32m     82\u001b[0m \u001b[38;5;28;01mfrom\u001b[39;00m \u001b[38;5;21;01mpymc3\u001b[39;00m \u001b[38;5;28;01mimport\u001b[39;00m gp, ode, sampling\n",
      "File \u001b[0;32m~/.venvs/jupyter/lib/python3.11/site-packages/pymc3/__init__.py:61\u001b[0m, in \u001b[0;36m__set_compiler_flags\u001b[0;34m()\u001b[0m\n\u001b[1;32m     59\u001b[0m \u001b[38;5;28;01mdef\u001b[39;00m \u001b[38;5;21m__set_compiler_flags\u001b[39m():\n\u001b[1;32m     60\u001b[0m     \u001b[38;5;66;03m# Workarounds for Theano compiler problems on various platforms\u001b[39;00m\n\u001b[0;32m---> 61\u001b[0m     current \u001b[38;5;241m=\u001b[39m \u001b[43mtheano\u001b[49m\u001b[38;5;241;43m.\u001b[39;49m\u001b[43mconfig\u001b[49m\u001b[38;5;241m.\u001b[39mgcc__cxxflags\n\u001b[1;32m     62\u001b[0m     theano\u001b[38;5;241m.\u001b[39mconfig\u001b[38;5;241m.\u001b[39mgcc__cxxflags \u001b[38;5;241m=\u001b[39m \u001b[38;5;124mf\u001b[39m\u001b[38;5;124m\"\u001b[39m\u001b[38;5;132;01m{\u001b[39;00mcurrent\u001b[38;5;132;01m}\u001b[39;00m\u001b[38;5;124m -Wno-c++11-narrowing\u001b[39m\u001b[38;5;124m\"\u001b[39m\n",
      "\u001b[0;31mAttributeError\u001b[0m: module 'theano' has no attribute 'config'"
     ]
    }
   ],
   "source": [
    "import pymc3 as pm\n",
    "import numpy as np\n",
    "\n",
    "n_states = 2  # number of states, e.g., high and low volatility\n",
    "n_observations = len(data)\n",
    "\n",
    "with pm.Model() as model:\n",
    "    # Transition probability\n",
    "    p = pm.Dirichlet('p', a=np.ones((n_states, n_states)), shape=(n_states, n_states))\n",
    "    \n",
    "    # Initial state probability\n",
    "    pi = pm.Dirichlet('pi', a=np.ones(n_states))\n",
    "\n",
    "    # Stochastic volatility in each state\n",
    "    sigma = pm.Exponential('sigma', 1.0, shape=n_states)\n",
    "\n",
    "    # State sequence\n",
    "    s = pm.Categorical('s', p=pi, shape=n_observations)\n",
    "\n",
    "    # Volatility process\n",
    "    volatility_process = sigma[s]\n",
    "\n",
    "    # Observation model\n",
    "    y = pm.Normal('y', mu=0, sd=volatility_process, observed=data)\n",
    "\n",
    "    # Sampling\n",
    "    trace = pm.sample(1000)\n"
   ]
  }
 ],
 "metadata": {
  "kernelspec": {
   "display_name": "Python 3 (ipykernel)",
   "language": "python",
   "name": "python3"
  },
  "language_info": {
   "codemirror_mode": {
    "name": "ipython",
    "version": 3
   },
   "file_extension": ".py",
   "mimetype": "text/x-python",
   "name": "python",
   "nbconvert_exporter": "python",
   "pygments_lexer": "ipython3",
   "version": "3.11.6"
  }
 },
 "nbformat": 4,
 "nbformat_minor": 5
}
