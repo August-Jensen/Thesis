{
 "cells": [
  {
   "cell_type": "code",
   "execution_count": 1,
   "id": "e2549eef-bc9f-4a6b-8ddb-2a96e0cf7e36",
   "metadata": {},
   "outputs": [],
   "source": [
    "import pandas as pd\n",
    "import numpy as np\n",
    "import yfinance as yf"
   ]
  },
  {
   "cell_type": "code",
   "execution_count": 21,
   "id": "873ce3da-43fd-4061-97b9-3b4897880583",
   "metadata": {},
   "outputs": [],
   "source": [
    "def get_stock_info(symbol):\n",
    "    stock = yf.Ticker(symbol)\n",
    "    info = stock.info\n",
    "    return info['symbol'], info['currency'], info['bid'], info['ask'],info['volume']\n",
    "\n",
    "def get_daily_price(symbol):\n",
    "    stock = yf.Ticker(symbol)\n",
    "    hist = stock.history(period='1y')\n",
    "    last_day = hist.index[-1]\n",
    "    closing_price = hist['Close'][last_day]\n",
    "    return closing_price, hist\n",
    "\n",
    "\n",
    "def get_data(frame):\n",
    "    for index, row in frame.iterrows():\n",
    "        symbol = row['symbol']\n",
    "        sym, curr, bid, ask = get_stock_info(symbol)\n",
    "        price, hist = get_daily_price(symbol)\n",
    "        print(sym, curr, bid, ask, price, ask-bid)\n",
    "        #print(hist)\n",
    "        \n",
    "df = pd.read_csv('portfolio.csv', sep=',')\n"
   ]
  },
  {
   "cell_type": "code",
   "execution_count": null,
   "id": "51678255-2101-41c0-9703-14000d54de3f",
   "metadata": {},
   "outputs": [],
   "source": []
  },
  {
   "cell_type": "code",
   "execution_count": 22,
   "id": "d8f7f156-a5c6-4661-98c5-e7b11f0fbc8e",
   "metadata": {},
   "outputs": [
    {
     "name": "stdout",
     "output_type": "stream",
     "text": [
      "MAJDKO.CO DKK 89.5 89.5 89.54000091552734 0.0\n",
      "MAJGO.CO DKK 96.26 96.42 96.26000213623047 0.1599999999999966\n",
      "SPISOKLA.CO DKK 130.0 130.25 130.0 0.25\n",
      "BAIKDOBA.CO DKK 85.94 86.02 85.94000244140625 0.0799999999999983\n",
      "DKIDKIX.CO DKK 155.15 155.45 155.5 0.29999999999998295\n",
      "XACTC25.CO DKK 176.52 176.84 176.6199951171875 0.3199999999999932\n",
      "IWDA.L USD 83.18 83.2 83.22000122070312 0.01999999999999602\n",
      "SSAC.L GBp 5654.0 5657.0 5661.40478515625 3.0\n",
      "XMME.L USD 49.44 49.47 49.459999084472656 0.030000000000001137\n",
      "MINV.L GBp 4598.0 4601.0 4598.2998046875 3.0\n",
      "WSML.L USD 6.222 6.232 6.2270002365112305 0.009999999999999787\n",
      "SPVIGAKL.CO DKK 142.15 146.0 143.10000610351562 3.8499999999999943\n",
      "SPIGLAMRIKL.CO DKK 137.4 137.55 137.39999389648438 0.15000000000000568\n",
      "SPIEMIKL.CO DKK 125.75 126.15 125.69999694824219 0.4000000000000057\n",
      "SPIEUCKL.CO DKK 154.1 154.75 155.0 0.6500000000000057\n",
      "SPIUSSKL.CO DKK 107.05 107.35 107.4000015258789 0.29999999999999716\n",
      "SPIC25KL.CO DKK 270.3 270.7 270.29998779296875 0.39999999999997726\n"
     ]
    }
   ],
   "source": [
    "get_data(df)\n"
   ]
  },
  {
   "cell_type": "code",
   "execution_count": null,
   "id": "54b1ccd6-4bb0-468d-99d5-7df876f32ab1",
   "metadata": {},
   "outputs": [],
   "source": []
  }
 ],
 "metadata": {
  "kernelspec": {
   "display_name": "Python 3 (ipykernel)",
   "language": "python",
   "name": "python3"
  },
  "language_info": {
   "codemirror_mode": {
    "name": "ipython",
    "version": 3
   },
   "file_extension": ".py",
   "mimetype": "text/x-python",
   "name": "python",
   "nbconvert_exporter": "python",
   "pygments_lexer": "ipython3",
   "version": "3.11.4"
  }
 },
 "nbformat": 4,
 "nbformat_minor": 5
}
