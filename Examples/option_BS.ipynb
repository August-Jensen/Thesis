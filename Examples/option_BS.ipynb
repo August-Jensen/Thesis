{
 "cells": [
  {
   "cell_type": "code",
   "execution_count": 4,
   "metadata": {},
   "outputs": [],
   "source": [
    "#Importing packages we need\n",
    "from numpy import genfromtxt #This is used to loading a csv-file as a numpy array\n",
    "import numpy as np\n",
    "import random\n",
    "import scipy.optimize as opt #used to numerically optimize\n",
    "import matplotlib.pyplot as plt #pyplot is used to plot the data\n",
    "import pandas as pd\n",
    "from matplotlib import cm\n",
    "import numdifftools as nd #Using this package to numerically approximate the hessian matrix\n",
    "import time #Used to measure time to run code\n",
    "from scipy.stats import norm"
   ]
  },
  {
   "cell_type": "code",
   "execution_count": 20,
   "metadata": {},
   "outputs": [],
   "source": [
    "def black_scholes_h_periods(vol,K,S,r,h): #h = T-t , vol = sigma\n",
    "    u=(np.log(K*np.exp(-(r-vol**2/2)*h))-np.log(S))/(vol*np.sqrt(h))\n",
    "    return S*norm.cdf(-u+vol*np.sqrt(h))-np.exp(-r*h)*K*norm.cdf(-u)"
   ]
  },
  {
   "cell_type": "code",
   "execution_count": 21,
   "metadata": {},
   "outputs": [],
   "source": [
    "#//Load data:\n",
    "#//Use observations from January 4, 2010 (row 15096 of the data set).\n",
    "folder='C:/Users/vjule/OneDrive/Dokumenter/skole/Kandidatfag/Financial_econometrics/Undervisning/Koder_ders_skal_konverteres/'\n",
    "data=np.genfromtxt(folder+'SP500.csv', delimiter=',',usecols=np.arange(0,4)) #loading in first 4 columns\n",
    "x=100*data[15097:, 3:4]"
   ]
  },
  {
   "cell_type": "code",
   "execution_count": 22,
   "metadata": {},
   "outputs": [],
   "source": [
    "#//Parameter values for the Black-Scholes formula:\n",
    "r= 0.003/251 #// Risk free interest rate of 0.3 percent per year converted into a daily rate.\tThe interest rate is divided by 251, which is roughly the number of trading days during a year.\n",
    "S_t = 1990.20# // Last traded price of the index on September 17, 2015\n",
    "K= 1950 #// Strike price\n",
    "h= 21#// Days until maturity of the option, i.e. T - t. 21 corresponds to the option expiring on October 16, 2015.\n",
    "#We rescale the returns the volatility has a correct scale\n",
    "x = x/100"
   ]
  },
  {
   "cell_type": "code",
   "execution_count": 37,
   "metadata": {},
   "outputs": [
    {
     "name": "stdout",
     "output_type": "stream",
     "text": [
      "sigma=0.010049554832608115, h=21, Price of underlying, S_t=1990.2, Strike=1950, Price=60.11225299489752\n"
     ]
    }
   ],
   "source": [
    "#//Compute the option price based on sample variance:\n",
    "vol = np.var(x)**0.5;   #// volatility estimate is based on the entire sample.\n",
    "print('sigma='+str(vol)+', h='+str(h)+', Price of underlying, S_t='+str(S_t)+', Strike='+str(K)+', Price='+str(black_scholes_h_periods(vol, K, S_t, r, h)))"
   ]
  },
  {
   "cell_type": "code",
   "execution_count": null,
   "metadata": {},
   "outputs": [],
   "source": []
  }
 ],
 "metadata": {
  "kernelspec": {
   "display_name": "Python 3",
   "language": "python",
   "name": "python3"
  },
  "language_info": {
   "codemirror_mode": {
    "name": "ipython",
    "version": 3
   },
   "file_extension": ".py",
   "mimetype": "text/x-python",
   "name": "python",
   "nbconvert_exporter": "python",
   "pygments_lexer": "ipython3",
   "version": "3.7.4"
  }
 },
 "nbformat": 4,
 "nbformat_minor": 4
}
