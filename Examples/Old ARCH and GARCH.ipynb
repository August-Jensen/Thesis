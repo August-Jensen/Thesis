{
 "cells": [
  {
   "cell_type": "code",
   "execution_count": 90,
   "id": "8966aa51-4620-446a-a7ca-14590f62bdf1",
   "metadata": {},
   "outputs": [
    {
     "name": "stdout",
     "output_type": "stream",
     "text": [
      "            index     Nordnet         log        diff         diff2\n",
      "count  297.000000  297.000000  297.000000  297.000000  2.970000e+02\n",
      "mean   149.000000  105.248177    4.656098    0.000231  6.873450e-05\n",
      "std     85.880731    2.212285    0.021247    0.008301  1.410092e-04\n",
      "min      1.000000   96.245901    4.566906   -0.033911  1.876653e-09\n",
      "25%     75.000000  104.086037    4.645218   -0.004078  4.502438e-06\n",
      "50%    149.000000  105.623666    4.659882    0.000739  2.261413e-05\n",
      "75%    223.000000  106.760027    4.670584    0.005223  7.225995e-05\n",
      "max    297.000000  109.773272    4.698417    0.019216  1.149945e-03\n",
      "     index     Nordnet       log      diff     diff2\n",
      "0        1  101.252510  4.617617  0.007460  0.000056\n",
      "1        2  102.732618  4.632130  0.014512  0.000211\n",
      "2        3  103.562703  4.640177  0.008048  0.000065\n",
      "3        4  104.513021  4.649312  0.009134  0.000083\n",
      "4        5  104.361796  4.647864 -0.001448  0.000002\n",
      "..     ...         ...       ...       ...       ...\n",
      "292    293  105.914792  4.662635  0.008373  0.000070\n",
      "293    294  106.172203  4.665062  0.002427  0.000006\n",
      "294    295  106.468202  4.667846  0.002784  0.000008\n",
      "295    296  107.357534  4.676165  0.008318  0.000069\n",
      "296    297  107.624566  4.678649  0.002484  0.000006\n",
      "\n",
      "[297 rows x 5 columns]\n"
     ]
    }
   ],
   "source": [
    "import pandas as pd\n",
    "import numpy as np\n",
    "import matplotlib\n",
    "matplotlib.use('TkAgg')\n",
    "import matplotlib.pyplot as plt\n",
    "import seaborn as sns\n",
    "from arch import arch_model\n",
    "from statsmodels.graphics.tsaplots import plot_acf\n",
    "df = pd.read_csv('Nordnet.csv')\n",
    "df['log'] = np.log(df['Nordnet'])\n",
    "df['diff'] = df['log'].diff()\n",
    "df['diff2'] = df['diff']**2\n",
    "df = df.dropna()\n",
    "df = df.reset_index()\n",
    "print(df.describe())\n",
    "print(df)"
   ]
  },
  {
   "cell_type": "code",
   "execution_count": 95,
   "id": "b7a55fde-2971-46de-a93c-eb78601d63df",
   "metadata": {},
   "outputs": [
    {
     "name": "stderr",
     "output_type": "stream",
     "text": [
      "/home/august/.venvs/jupyter/lib/python3.11/site-packages/seaborn/_oldcore.py:1498: FutureWarning: is_categorical_dtype is deprecated and will be removed in a future version. Use isinstance(dtype, CategoricalDtype) instead\n",
      "  if pd.api.types.is_categorical_dtype(vector):\n",
      "/home/august/.venvs/jupyter/lib/python3.11/site-packages/seaborn/_oldcore.py:1498: FutureWarning: is_categorical_dtype is deprecated and will be removed in a future version. Use isinstance(dtype, CategoricalDtype) instead\n",
      "  if pd.api.types.is_categorical_dtype(vector):\n",
      "/home/august/.venvs/jupyter/lib/python3.11/site-packages/seaborn/_oldcore.py:1119: FutureWarning: use_inf_as_na option is deprecated and will be removed in a future version. Convert inf values to NaN before operating instead.\n",
      "  with pd.option_context('mode.use_inf_as_na', True):\n",
      "/home/august/.venvs/jupyter/lib/python3.11/site-packages/seaborn/_oldcore.py:1119: FutureWarning: use_inf_as_na option is deprecated and will be removed in a future version. Convert inf values to NaN before operating instead.\n",
      "  with pd.option_context('mode.use_inf_as_na', True):\n"
     ]
    }
   ],
   "source": [
    "sns.lineplot(data=df, x='index',y='diff2' )\n",
    "plt.show()"
   ]
  },
  {
   "cell_type": "code",
   "execution_count": 77,
   "id": "44831353-a6ad-4bbf-9dba-4876844f1ab3",
   "metadata": {},
   "outputs": [],
   "source": [
    "plot_acf(df['diff2'])\n",
    "plt.show()"
   ]
  },
  {
   "cell_type": "code",
   "execution_count": 78,
   "id": "daba9463-8a4c-49ce-8a89-e76199a96689",
   "metadata": {},
   "outputs": [
    {
     "name": "stdout",
     "output_type": "stream",
     "text": [
      "Iteration:      1,   Func. Count:      4,   Neg. LLF: 780.4253137934859\n",
      "Iteration:      2,   Func. Count:     10,   Neg. LLF: 574.1443436822505\n",
      "Iteration:      3,   Func. Count:     13,   Neg. LLF: 573.3860458983135\n",
      "Iteration:      4,   Func. Count:     16,   Neg. LLF: 572.232678164283\n",
      "Iteration:      5,   Func. Count:     19,   Neg. LLF: 572.1490050998676\n",
      "Iteration:      6,   Func. Count:     22,   Neg. LLF: 572.1414722284827\n",
      "Iteration:      7,   Func. Count:     25,   Neg. LLF: 572.1414274983957\n",
      "Iteration:      8,   Func. Count:     27,   Neg. LLF: 572.1414292298082\n",
      "Optimization terminated successfully    (Exit mode 0)\n",
      "            Current function value: 572.1414274983957\n",
      "            Iterations: 8\n",
      "            Function evaluations: 27\n",
      "            Gradient evaluations: 8\n"
     ]
    },
    {
     "name": "stderr",
     "output_type": "stream",
     "text": [
      "/home/august/.venvs/jupyter/lib/python3.11/site-packages/arch/univariate/base.py:1894: FutureWarning: Series.__getitem__ treating keys as positions is deprecated. In a future version, integer keys will always be treated as labels (consistent with DataFrame behavior). To access a value by position, use `ser.iloc[pos]`\n",
      "  if isinstance(table_val[pos], (np.float64, float)):\n",
      "/home/august/.venvs/jupyter/lib/python3.11/site-packages/arch/univariate/base.py:1895: FutureWarning: Series.__getitem__ treating keys as positions is deprecated. In a future version, integer keys will always be treated as labels (consistent with DataFrame behavior). To access a value by position, use `ser.iloc[pos]`\n",
      "  assert isinstance(table_val[pos], float)\n",
      "/home/august/.venvs/jupyter/lib/python3.11/site-packages/arch/univariate/base.py:1896: FutureWarning: Series.__getitem__ treating keys as positions is deprecated. In a future version, integer keys will always be treated as labels (consistent with DataFrame behavior). To access a value by position, use `ser.iloc[pos]`\n",
      "  converted = format_float_fixed(table_val[pos], *formats[i])\n"
     ]
    },
    {
     "data": {
      "text/plain": [
       "                        Zero Mean - ARCH Model Results                        \n",
       "==============================================================================\n",
       "Dep. Variable:                  diff2   R-squared:                       0.000\n",
       "Mean Model:                 Zero Mean   Adj. R-squared:                  0.003\n",
       "Vol Model:                       ARCH   Log-Likelihood:               -572.141\n",
       "Distribution:                  Normal   AIC:                           1148.28\n",
       "Method:            Maximum Likelihood   BIC:                           1155.67\n",
       "                                        No. Observations:                  297\n",
       "Date:                Wed, Sep 20 2023   Df Residuals:                      297\n",
       "Time:                        09:23:10   Df Model:                            0\n",
       "                               Volatility Model                              \n",
       "=============================================================================\n",
       "                 coef    std err          t      P>|t|       95.0% Conf. Int.\n",
       "-----------------------------------------------------------------------------\n",
       "omega          2.7591      0.780      3.538  4.030e-04      [  1.231,  4.288]\n",
       "alpha[1]       0.0000  1.655e-02      0.000      1.000 [-3.243e-02,3.243e-02]\n",
       "=============================================================================\n",
       "\n",
       "Covariance estimator: robust\n",
       "ARCHModelResult, id: 0x7f675d3c7e50"
      ]
     },
     "execution_count": 78,
     "metadata": {},
     "output_type": "execute_result"
    }
   ],
   "source": [
    "model = arch_model(df['diff2'], mean='Zero', vol='ARCH', p=1)\n",
    "model.fit()"
   ]
  },
  {
   "cell_type": "code",
   "execution_count": 79,
   "id": "642201f2-85cf-44d4-866c-ea8bb6b906ee",
   "metadata": {},
   "outputs": [
    {
     "name": "stdout",
     "output_type": "stream",
     "text": [
      "Zero Mean(constant: no, no. of exog: 0, volatility: ARCH(p: 1), distribution: Normal distribution)\n"
     ]
    }
   ],
   "source": [
    "print(model)"
   ]
  },
  {
   "cell_type": "code",
   "execution_count": 103,
   "id": "fb20c56c-3c6a-426f-b3e0-58f13ab90116",
   "metadata": {},
   "outputs": [
    {
     "name": "stdout",
     "output_type": "stream",
     "text": [
      "Iteration:      1,   Func. Count:      5,   Neg. LLF: -2245.8872819331227\n",
      "Inequality constraints incompatible    (Exit mode 4)\n",
      "            Current function value: -2245.887281498298\n",
      "            Iterations: 1\n",
      "            Function evaluations: 5\n",
      "            Gradient evaluations: 1\n",
      "                     Constant Mean - GARCH Model Results                      \n",
      "==============================================================================\n",
      "Dep. Variable:                  diff2   R-squared:                       0.000\n",
      "Mean Model:             Constant Mean   Adj. R-squared:                  0.000\n",
      "Vol Model:                      GARCH   Log-Likelihood:                2245.89\n",
      "Distribution:                  Normal   AIC:                          -4483.77\n",
      "Method:            Maximum Likelihood   BIC:                          -4469.00\n",
      "                                        No. Observations:                  297\n",
      "Date:                Wed, Sep 20 2023   Df Residuals:                      296\n",
      "Time:                        09:35:23   Df Model:                            1\n",
      "                                 Mean Model                                 \n",
      "============================================================================\n",
      "                 coef    std err          t      P>|t|      95.0% Conf. Int.\n",
      "----------------------------------------------------------------------------\n",
      "mu         6.8734e-05  3.995e-07    172.038      0.000 [6.795e-05,6.952e-05]\n",
      "                              Volatility Model                              \n",
      "============================================================================\n",
      "                 coef    std err          t      P>|t|      95.0% Conf. Int.\n",
      "----------------------------------------------------------------------------\n",
      "omega      1.9817e-09  8.006e-12    247.531      0.000 [1.966e-09,1.997e-09]\n",
      "alpha[1]       0.1000  5.142e-02      1.945  5.181e-02  [-7.830e-04,  0.201]\n",
      "beta[1]        0.8000  4.526e-02     17.677  6.355e-70     [  0.711,  0.889]\n",
      "============================================================================\n",
      "\n",
      "Covariance estimator: robust\n",
      "WARNING: The optimizer did not indicate successful convergence. The message was Inequality constraints incompatible.\n",
      "See convergence_flag.\n",
      "\n"
     ]
    },
    {
     "name": "stderr",
     "output_type": "stream",
     "text": [
      "/home/august/.venvs/jupyter/lib/python3.11/site-packages/arch/univariate/base.py:311: DataScaleWarning: y is poorly scaled, which may affect convergence of the optimizer when\n",
      "estimating the model parameters. The scale of y is 1.982e-08. Parameter\n",
      "estimation work better when this value is between 1 and 1000. The recommended\n",
      "rescaling is 1e+04 * y.\n",
      "\n",
      "This warning can be disabled by either rescaling y before initializing the\n",
      "model or by setting rescale=False.\n",
      "\n",
      "  warnings.warn(\n",
      "/home/august/.venvs/jupyter/lib/python3.11/site-packages/arch/univariate/base.py:766: ConvergenceWarning: The optimizer returned code 4. The message is:\n",
      "Inequality constraints incompatible\n",
      "See scipy.optimize.fmin_slsqp for code meaning.\n",
      "\n",
      "  warnings.warn(\n",
      "/home/august/.venvs/jupyter/lib/python3.11/site-packages/arch/univariate/base.py:1894: FutureWarning: Series.__getitem__ treating keys as positions is deprecated. In a future version, integer keys will always be treated as labels (consistent with DataFrame behavior). To access a value by position, use `ser.iloc[pos]`\n",
      "  if isinstance(table_val[pos], (np.float64, float)):\n",
      "/home/august/.venvs/jupyter/lib/python3.11/site-packages/arch/univariate/base.py:1895: FutureWarning: Series.__getitem__ treating keys as positions is deprecated. In a future version, integer keys will always be treated as labels (consistent with DataFrame behavior). To access a value by position, use `ser.iloc[pos]`\n",
      "  assert isinstance(table_val[pos], float)\n",
      "/home/august/.venvs/jupyter/lib/python3.11/site-packages/arch/univariate/base.py:1896: FutureWarning: Series.__getitem__ treating keys as positions is deprecated. In a future version, integer keys will always be treated as labels (consistent with DataFrame behavior). To access a value by position, use `ser.iloc[pos]`\n",
      "  converted = format_float_fixed(table_val[pos], *formats[i])\n"
     ]
    }
   ],
   "source": [
    "from arch.univariate import ConstantMean, GARCH, Normal\n",
    "\n",
    "am = ConstantMean(df['diff2'])\n",
    "am.volatility = GARCH(1,0,1)\n",
    "am.distribution = Normal()\n",
    "res = am.fit()\n",
    "print(res.summary())\n"
   ]
  },
  {
   "cell_type": "code",
   "execution_count": null,
   "id": "e1c9158e-bcb6-4d3a-a446-2530f60666a7",
   "metadata": {},
   "outputs": [],
   "source": []
  },
  {
   "cell_type": "code",
   "execution_count": 105,
   "id": "3c776725-aabe-4d74-ad63-f6e266252efb",
   "metadata": {},
   "outputs": [
    {
     "name": "stdout",
     "output_type": "stream",
     "text": [
      "Iteration:      1,   Func. Count:      5,   Neg. LLF: -2320.7153423075515\n",
      "Inequality constraints incompatible    (Exit mode 4)\n",
      "            Current function value: -2320.715342519111\n",
      "            Iterations: 1\n",
      "            Function evaluations: 5\n",
      "            Gradient evaluations: 1\n"
     ]
    },
    {
     "name": "stderr",
     "output_type": "stream",
     "text": [
      "/home/august/.venvs/jupyter/lib/python3.11/site-packages/arch/univariate/base.py:311: DataScaleWarning: y is poorly scaled, which may affect convergence of the optimizer when\n",
      "estimating the model parameters. The scale of y is 1.982e-08. Parameter\n",
      "estimation work better when this value is between 1 and 1000. The recommended\n",
      "rescaling is 1e+04 * y.\n",
      "\n",
      "This warning can be disabled by either rescaling y before initializing the\n",
      "model or by setting rescale=False.\n",
      "\n",
      "  warnings.warn(\n",
      "/home/august/.venvs/jupyter/lib/python3.11/site-packages/arch/univariate/base.py:766: ConvergenceWarning: The optimizer returned code 4. The message is:\n",
      "Inequality constraints incompatible\n",
      "See scipy.optimize.fmin_slsqp for code meaning.\n",
      "\n",
      "  warnings.warn(\n",
      "/home/august/.venvs/jupyter/lib/python3.11/site-packages/arch/univariate/base.py:1894: FutureWarning: Series.__getitem__ treating keys as positions is deprecated. In a future version, integer keys will always be treated as labels (consistent with DataFrame behavior). To access a value by position, use `ser.iloc[pos]`\n",
      "  if isinstance(table_val[pos], (np.float64, float)):\n",
      "/home/august/.venvs/jupyter/lib/python3.11/site-packages/arch/univariate/base.py:1895: FutureWarning: Series.__getitem__ treating keys as positions is deprecated. In a future version, integer keys will always be treated as labels (consistent with DataFrame behavior). To access a value by position, use `ser.iloc[pos]`\n",
      "  assert isinstance(table_val[pos], float)\n",
      "/home/august/.venvs/jupyter/lib/python3.11/site-packages/arch/univariate/base.py:1896: FutureWarning: Series.__getitem__ treating keys as positions is deprecated. In a future version, integer keys will always be treated as labels (consistent with DataFrame behavior). To access a value by position, use `ser.iloc[pos]`\n",
      "  converted = format_float_fixed(table_val[pos], *formats[i])\n"
     ]
    },
    {
     "data": {
      "text/html": [
       "<table class=\"simpletable\">\n",
       "<caption>Zero Mean - GARCH Model Results</caption>\n",
       "<tr>\n",
       "  <th>Dep. Variable:</th>           <td>diff2</td>          <th>  R-squared:         </th>  <td>   0.000</td> \n",
       "</tr>\n",
       "<tr>\n",
       "  <th>Mean Model:</th>            <td>Zero Mean</td>        <th>  Adj. R-squared:    </th>  <td>   0.003</td> \n",
       "</tr>\n",
       "<tr>\n",
       "  <th>Vol Model:</th>               <td>GARCH</td>          <th>  Log-Likelihood:    </th> <td>   2320.72</td>\n",
       "</tr>\n",
       "<tr>\n",
       "  <th>Distribution:</th>  <td>Standardized Student's t</td> <th>  AIC:               </th> <td>  -4633.43</td>\n",
       "</tr>\n",
       "<tr>\n",
       "  <th>Method:</th>           <td>Maximum Likelihood</td>    <th>  BIC:               </th> <td>  -4618.66</td>\n",
       "</tr>\n",
       "<tr>\n",
       "  <th></th>                           <td></td>             <th>  No. Observations:  </th>     <td>297</td>   \n",
       "</tr>\n",
       "<tr>\n",
       "  <th>Date:</th>              <td>Wed, Sep 20 2023</td>     <th>  Df Residuals:      </th>     <td>297</td>   \n",
       "</tr>\n",
       "<tr>\n",
       "  <th>Time:</th>                  <td>09:35:35</td>         <th>  Df Model:          </th>      <td>0</td>    \n",
       "</tr>\n",
       "</table>\n",
       "<table class=\"simpletable\">\n",
       "<caption>Volatility Model</caption>\n",
       "<tr>\n",
       "      <td></td>        <th>coef</th>     <th>std err</th>      <th>t</th>       <th>P>|t|</th>      <th>95.0% Conf. Int.</th>   \n",
       "</tr>\n",
       "<tr>\n",
       "  <th>omega</th>    <td>4.9082e-10</td> <td>1.907e-05</td> <td>2.574e-05</td> <td>    1.000</td> <td>[-3.737e-05,3.737e-05]</td>\n",
       "</tr>\n",
       "<tr>\n",
       "  <th>alpha[1]</th> <td>    0.1000</td> <td>    0.455</td> <td>    0.220</td> <td>    0.826</td>    <td>[ -0.792,  0.992]</td>  \n",
       "</tr>\n",
       "<tr>\n",
       "  <th>beta[1]</th>  <td>    0.8800</td> <td>    0.332</td> <td>    2.654</td> <td>7.963e-03</td>    <td>[  0.230,  1.530]</td>  \n",
       "</tr>\n",
       "</table>\n",
       "<table class=\"simpletable\">\n",
       "<caption>Distribution</caption>\n",
       "<tr>\n",
       "   <td></td>     <th>coef</th>     <th>std err</th>      <th>t</th>       <th>P>|t|</th>      <th>95.0% Conf. Int.</th>   \n",
       "</tr>\n",
       "<tr>\n",
       "  <th>nu</th> <td>    4.3075</td> <td>  106.249</td> <td>4.054e-02</td> <td>    0.968</td> <td>[-2.039e+02,2.126e+02]</td>\n",
       "</tr>\n",
       "</table><br/><br/>Covariance estimator: robust<br/>WARNING: The optimizer did not indicate successful convergence. The message was Inequality constraints incompatible.<br/>See convergence_flag.<br/>"
      ],
      "text/latex": [
       "\\begin{center}\n",
       "\\begin{tabular}{lclc}\n",
       "\\toprule\n",
       "\\textbf{Dep. Variable:} &          diff2           & \\textbf{  R-squared:         } &     0.000   \\\\\n",
       "\\textbf{Mean Model:}    &        Zero Mean         & \\textbf{  Adj. R-squared:    } &     0.003   \\\\\n",
       "\\textbf{Vol Model:}     &          GARCH           & \\textbf{  Log-Likelihood:    } &    2320.72  \\\\\n",
       "\\textbf{Distribution:}  & Standardized Student's t & \\textbf{  AIC:               } &   -4633.43  \\\\\n",
       "\\textbf{Method:}        &    Maximum Likelihood    & \\textbf{  BIC:               } &   -4618.66  \\\\\n",
       "\\textbf{}               &                          & \\textbf{  No. Observations:  } &    297      \\\\\n",
       "\\textbf{Date:}          &     Wed, Sep 20 2023     & \\textbf{  Df Residuals:      } &    297      \\\\\n",
       "\\textbf{Time:}          &         09:35:35         & \\textbf{  Df Model:          } &     0       \\\\\n",
       "\\bottomrule\n",
       "\\end{tabular}\n",
       "\\begin{tabular}{lccccc}\n",
       "                  & \\textbf{coef} & \\textbf{std err} & \\textbf{t} & \\textbf{P$> |$t$|$} & \\textbf{95.0\\% Conf. Int.}  \\\\\n",
       "\\midrule\n",
       "\\textbf{omega}    &   4.9082e-10  &    1.907e-05     & 2.574e-05  &          1.000       &   [-3.737e-05,3.737e-05]    \\\\\n",
       "\\textbf{alpha[1]} &       0.1000  &        0.455     &     0.220  &          0.826       &     [ -0.792,  0.992]       \\\\\n",
       "\\textbf{beta[1]}  &       0.8800  &        0.332     &     2.654  &      7.963e-03       &     [  0.230,  1.530]       \\\\\n",
       "            & \\textbf{coef} & \\textbf{std err} & \\textbf{t} & \\textbf{P$> |$t$|$} & \\textbf{95.0\\% Conf. Int.}  \\\\\n",
       "\\midrule\n",
       "\\textbf{nu} &       4.3075  &      106.249     & 4.054e-02  &          0.968       &   [-2.039e+02,2.126e+02]    \\\\\n",
       "\\bottomrule\n",
       "\\end{tabular}\n",
       "%\\caption{Zero Mean - GARCH Model Results}\n",
       "\\end{center}\n",
       "\n",
       "Covariance estimator: robust \\newline\n",
       " WARNING: The optimizer did not indicate successful convergence. The message was Inequality constraints incompatible. \\newline\n",
       " See convergence_flag. \\newline\n",
       " "
      ],
      "text/plain": [
       "<class 'statsmodels.iolib.summary.Summary'>\n",
       "\"\"\"\n",
       "                          Zero Mean - GARCH Model Results                           \n",
       "====================================================================================\n",
       "Dep. Variable:                        diff2   R-squared:                       0.000\n",
       "Mean Model:                       Zero Mean   Adj. R-squared:                  0.003\n",
       "Vol Model:                            GARCH   Log-Likelihood:                2320.72\n",
       "Distribution:      Standardized Student's t   AIC:                          -4633.43\n",
       "Method:                  Maximum Likelihood   BIC:                          -4618.66\n",
       "                                              No. Observations:                  297\n",
       "Date:                      Wed, Sep 20 2023   Df Residuals:                      297\n",
       "Time:                              09:35:35   Df Model:                            0\n",
       "                               Volatility Model                              \n",
       "=============================================================================\n",
       "                 coef    std err          t      P>|t|       95.0% Conf. Int.\n",
       "-----------------------------------------------------------------------------\n",
       "omega      4.9082e-10  1.907e-05  2.574e-05      1.000 [-3.737e-05,3.737e-05]\n",
       "alpha[1]       0.1000      0.455      0.220      0.826      [ -0.792,  0.992]\n",
       "beta[1]        0.8800      0.332      2.654  7.963e-03      [  0.230,  1.530]\n",
       "                                 Distribution                                \n",
       "=============================================================================\n",
       "                 coef    std err          t      P>|t|       95.0% Conf. Int.\n",
       "-----------------------------------------------------------------------------\n",
       "nu             4.3075    106.249  4.054e-02      0.968 [-2.039e+02,2.126e+02]\n",
       "=============================================================================\n",
       "\n",
       "Covariance estimator: robust\n",
       "WARNING: The optimizer did not indicate successful convergence. The message was Inequality constraints incompatible.\n",
       "See convergence_flag.\n",
       "\n",
       "\"\"\""
      ]
     },
     "execution_count": 105,
     "metadata": {},
     "output_type": "execute_result"
    }
   ],
   "source": [
    "am = arch_model(df['diff2'], mean = 'Zero', vol='Garch', p=1, o=0, q=1, dist='StudentsT')\n",
    "# tgarch1_1 = am.fit(update_freq=5, disp = \"off\")\n",
    "# model = arch_model(, mean='Zero', vol='ARCH', p=1)\n",
    "# model.fit()\n",
    "res = am.fit()\n",
    "res.summary()"
   ]
  },
  {
   "cell_type": "code",
   "execution_count": null,
   "id": "e21ef367-c38c-46a2-9c4a-187cadcaab21",
   "metadata": {},
   "outputs": [],
   "source": []
  }
 ],
 "metadata": {
  "kernelspec": {
   "display_name": "Python 3 (ipykernel)",
   "language": "python",
   "name": "python3"
  },
  "language_info": {
   "codemirror_mode": {
    "name": "ipython",
    "version": 3
   },
   "file_extension": ".py",
   "mimetype": "text/x-python",
   "name": "python",
   "nbconvert_exporter": "python",
   "pygments_lexer": "ipython3",
   "version": "3.11.6"
  }
 },
 "nbformat": 4,
 "nbformat_minor": 5
}
