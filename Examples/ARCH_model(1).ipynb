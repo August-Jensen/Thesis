{
 "cells": [
  {
   "cell_type": "code",
   "execution_count": 1,
   "metadata": {},
   "outputs": [],
   "source": [
    "#Importing packages we need\n",
    "from numpy import genfromtxt #This is used to loading a csv-file as a numpy array\n",
    "import numpy as np\n",
    "import scipy.optimize as opt #used to numerically optimize\n",
    "import matplotlib.pyplot as plt #pyplot is used to plot the data\n",
    "import pandas as pd\n",
    "from matplotlib import cm\n",
    "import numdifftools as nd #Using this package to numerically approximate the hessian matrix\n",
    "import time #Used to measure time to run code\n",
    "from math import log"
   ]
  },
  {
   "cell_type": "code",
   "execution_count": 2,
   "metadata": {},
   "outputs": [],
   "source": [
    "#This function simulates a ARCH(1)-process with normal errors \n",
    "#sigma and alpha are the relevant parameters in the modelling of the volatility.\n",
    "def sim_ARCH1(omega, alpha, T):\n",
    "    \n",
    "    #Generating T random draws from a std. normal dist.\n",
    "    z=np.random.normal(loc=0.0, scale=1.0, size=T) #loc determined mean, scale is the std deviaion and size is the number of simulations\n",
    "    \n",
    "    #Define the series x_t and sigma^2_t (sigma2) as empty variables we assign values to later. \n",
    "    x=np.empty(T)\n",
    "    sigma2=np.empty(T)\n",
    "    \n",
    "    #Initiating x_0=0 and sigma2_0=1\n",
    "    sigma2[0]=omega/(1-alpha) #initiating sigma2 as its long run average  \n",
    "    x[0]=0\n",
    "    \n",
    "    #Simulating the ARCH(1) through a loop\n",
    "    for t in range(1,T):\n",
    "        sigma2[t]=omega+alpha*x[t-1]**2\n",
    "        x[t]=np.sqrt(sigma2[t])*z[t]\n",
    "        \n",
    "    return x #output is a series with returns (x)"
   ]
  },
  {
   "cell_type": "code",
   "execution_count": 22,
   "metadata": {},
   "outputs": [],
   "source": [
    "def ARCH1_filter(omega, alpha,x_values): #function to find sigma^2 from observations\n",
    "    T=len(x_values)\n",
    "    \n",
    "    #Define the series sigma^2_t (sigma2) as empty variables we assign values to later. \n",
    "    sigma2=np.empty(T)\n",
    "    \n",
    "    sigma2[0]=omega\n",
    "    \n",
    "    for t in range(1,T):\n",
    "        sigma2[t]=omega + alpha*x_values[t-1]**2\n",
    "    \n",
    "    return sigma2\n",
    "\n",
    "def ARCH1_likelihood(omega,alpha,x_values):\n",
    "    sigma2=ARCH1_filter(omega, alpha, x_values)\n",
    "    \n",
    "    LogL=np.sum(-0.5*np.log(sigma2)-0.5*x_values**2/sigma2) #note we have removed constant term\n",
    "    \n",
    "    return LogL\n",
    "\n",
    "def optim(theta): #defining an optimization function that can change on parameters theta=(omega, alpha)\n",
    "    ome,alp=theta\n",
    "    return -ARCH1_likelihood(ome, alp,x_values) #note we are minizing the optim function so we take the minus ARCH1_likelihood\n",
    "\n",
    "def ARCH1_likelihood_null(omega,alpha_null,x_values): #actually just a copy of the other likelihood function but hopefully highlights that we are optimizing with alpha fixed (under the null) and optimizing for both\n",
    "    sigma2=ARCH1_filter(omega, alpha_null, x_values)\n",
    "    \n",
    "    LogL=np.sum(-0.5*np.log(sigma2)-0.5*x_values**2/sigma2) #note we have removed constant term\n",
    "    \n",
    "    return LogL\n",
    "def optim_null(omega): #defining an optimization function that can now only change omega (i.e alpha_null is fixed)\n",
    "    ome=omega\n",
    "    return -ARCH1_likelihood_null(ome, alpha_null,x_values) #note we are minizing the optim function so we take the minus ARCH1_likelihood"
   ]
  },
  {
   "cell_type": "code",
   "execution_count": 23,
   "metadata": {},
   "outputs": [
    {
     "name": "stdout",
     "output_type": "stream",
     "text": [
      "Elapsed time (all computations)+--- 61.32831001281738 seconds ---\n"
     ]
    }
   ],
   "source": [
    "start_time = time.time() #starting the timer\n",
    "T=1000 #Sample length\n",
    "alpha0=0 #True value of ARCH parameter\n",
    "omega0=1 #True value of intercept in conditional variance equation\n",
    "theta0=np.array([omega0,alpha0]) #initial guesses for omega, alpha (makes computation faster to guess right initially)\n",
    "alpha_null=alpha0 #defining alpha null as the true parameter (could potentially also test wheter alpha_0=0 by setting alpha_null=0)\n",
    "theta0_null=np.array([omega0]) #initial guess for optimization of omega only (when alpha_null is fixed)\n",
    "\n",
    "M=1000 #number of monte carlo replications\n",
    "sim=np.empty([M,5]) #variable to store realisations\n",
    "z=np.random.normal(loc=0.0, scale=1.0, size=M) #loc determined mean, scale is the std deviaion and size is the number of simulations\n",
    "\n",
    "for i in range(M):\n",
    "    x_values=sim_ARCH1(omega0, alpha0, T)\n",
    "    res=opt.minimize(optim, theta0,method='SLSQP', bounds=((0.0001,None),(0,None))) #Compute ML estimate (theta_hat) from simulated x above\n",
    "    theta_hat=res.x #ML estimates (theta_hat=omega_hat,alpha_hat)\n",
    "    res_null=opt.minimize(optim_null, theta0_null,method='SLSQP', bounds=[(0.0001,None)]) #ML estimate of omega_hat (with alpha_null fixed)\n",
    "    omegahat_null=res_null.x[0] #Omega_hat estimate (under the null)\n",
    "    LR=2*(ARCH1_likelihood(theta_hat[0],theta_hat[1],x_values)-ARCH1_likelihood_null(omegahat_null,alpha_null,x_values)) #computing LR ratio\n",
    "    sim[i]=[theta_hat[1],LR,z[i],z[i]**2,max(z[i],0)**2] #note we only take alpha hat and not omega estimate\n",
    "print('Elapsed time (all computations)+'\"--- %s seconds ---\" % (time.time() - start_time)) #ending timer and printing timestamp"
   ]
  },
  {
   "cell_type": "code",
   "execution_count": 24,
   "metadata": {},
   "outputs": [
    {
     "name": "stdout",
     "output_type": "stream",
     "text": [
      "95-percentiles of (alphahat, LR, N(0,1), Chi2, HalfChi2) = [0.05175273 2.34024344 1.62214377 4.17366133 2.631387  ]\n"
     ]
    }
   ],
   "source": [
    "print(\"95-percentiles of (alphahat, LR, N(0,1), Chi2, HalfChi2) = \"+ str(np.quantile(sim,0.95, axis=0)))"
   ]
  }
 ],
 "metadata": {
  "kernelspec": {
   "display_name": "Python 3",
   "language": "python",
   "name": "python3"
  },
  "language_info": {
   "codemirror_mode": {
    "name": "ipython",
    "version": 3
   },
   "file_extension": ".py",
   "mimetype": "text/x-python",
   "name": "python",
   "nbconvert_exporter": "python",
   "pygments_lexer": "ipython3",
   "version": "3.7.4"
  }
 },
 "nbformat": 4,
 "nbformat_minor": 4
}
