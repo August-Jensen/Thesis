{
 "cells": [
  {
   "cell_type": "code",
   "execution_count": null,
   "id": "f4e22b7a-fe65-444a-8e53-587e60d58adf",
   "metadata": {},
   "outputs": [],
   "source": [
    "import pymc3 as pm\n",
    "import numpy as np\n",
    "import matplotlib.pyplot as plt\n",
    "\n",
    "# Parameters for the simulation\n",
    "n_steps = 1000  # Number of steps in the Brownian motion\n",
    "sigma = 1.0     # Standard deviation of the steps\n",
    "\n",
    "with pm.Model() as model_normal:\n",
    "    # Normal Brownian motion\n",
    "    step_sizes = pm.Normal(\"step_sizes\", mu=0, sigma=sigma, shape=n_steps)\n",
    "    brownian = pm.Deterministic(\"brownian\", pm.math.cumsum(step_sizes))\n",
    "\n",
    "    trace_normal = pm.sample_prior_predictive(samples=1)\n",
    "\n",
    "# Plotting the Normal Brownian motion\n",
    "plt.plot(trace_normal[\"brownian\"].T)\n",
    "plt.title(\"Normal Brownian Motion\")\n",
    "plt.xlabel(\"Time\")\n",
    "plt.ylabel(\"Position\")\n",
    "plt.show()\n"
   ]
  },
  {
   "cell_type": "code",
   "execution_count": null,
   "id": "8d2912f8-edea-4356-a906-496c8974fb8b",
   "metadata": {},
   "outputs": [],
   "source": []
  },
  {
   "cell_type": "code",
   "execution_count": null,
   "id": "058477c0-af05-4343-9361-19f3b252c063",
   "metadata": {},
   "outputs": [],
   "source": []
  },
  {
   "cell_type": "code",
   "execution_count": null,
   "id": "932a05b6-cdf5-48a4-8b2f-9c475b5a0fb0",
   "metadata": {},
   "outputs": [],
   "source": []
  },
  {
   "cell_type": "code",
   "execution_count": null,
   "id": "fd26675e-37f5-471c-a2cb-e2871957a9e6",
   "metadata": {},
   "outputs": [],
   "source": []
  }
 ],
 "metadata": {
  "kernelspec": {
   "display_name": "Python 3 (ipykernel)",
   "language": "python",
   "name": "python3"
  },
  "language_info": {
   "codemirror_mode": {
    "name": "ipython",
    "version": 3
   },
   "file_extension": ".py",
   "mimetype": "text/x-python",
   "name": "python",
   "nbconvert_exporter": "python",
   "pygments_lexer": "ipython3",
   "version": "3.11.6"
  }
 },
 "nbformat": 4,
 "nbformat_minor": 5
}
