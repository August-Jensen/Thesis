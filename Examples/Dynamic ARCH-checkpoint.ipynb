{
 "cells": [
  {
   "cell_type": "code",
   "execution_count": 4,
   "id": "71ebb4d0-1eae-4bae-ad36-16d38bff9977",
   "metadata": {},
   "outputs": [
    {
     "ename": "SyntaxError",
     "evalue": "invalid decimal literal (3367850832.py, line 40)",
     "output_type": "error",
     "traceback": [
      "\u001b[0;36m  Cell \u001b[0;32mIn[4], line 40\u001b[0;36m\u001b[0m\n\u001b[0;31m    sim_ARCH1N(0.5, 1,60.show()\u001b[0m\n\u001b[0m                        ^\u001b[0m\n\u001b[0;31mSyntaxError\u001b[0m\u001b[0;31m:\u001b[0m invalid decimal literal\n"
     ]
    }
   ],
   "source": [
    "# Importing necessary packages and defining the sim_ARCH1N function\n",
    "\n",
    "import numpy as np\n",
    "import pandas as pd\n",
    "import seaborn as sns\n",
    "from scipy.stats import norm\n",
    "def plotly_ARCH(alpha, sigma):\n",
    "    T = 1000\n",
    "    np.random.seed(1479)\n",
    "    x, sigma2, z = sim_ARCH1N(sigma, alpha, T)\n",
    "    t = np.arange(0, T, 1)\n",
    "    \n",
    "    # Create traces\n",
    "    fig = go.Figure()\n",
    "    \n",
    "    # Return (x_t) plot\n",
    "    fig.add_trace(go.Scatter(x=t, y=x, mode='lines', name='Return (x_t)', line=dict(color='blue')))\n",
    "    \n",
    "    # Cond.Var (Sigma^2_t) plot\n",
    "    fig.add_trace(go.Scatter(x=t, y=sigma2, mode='lines', name='Cond.Var (Sigma^2_t)', line=dict(color='red')))\n",
    "    \n",
    "    fig.update_layout(title='Return and cond. volatility with ARCH(1,1), (alpha,sigma) = ({},{})'.format(alpha,sigma),\n",
    "                      xaxis_title='Time',\n",
    "                      yaxis_title='Value')\n",
    "    \n",
    "    return fig\n",
    "\n",
    "def sim_ARCH1N(sigma, alpha, T):\n",
    "    z = np.random.normal(loc=0.0, scale=1.0, size=T)\n",
    "    x = np.empty(T)\n",
    "    sigma2 = np.empty(T)\n",
    "    sigma2[0] = sigma / (1 - alpha)\n",
    "    x[0] = 0\n",
    "    for t in range(1, T):\n",
    "        sigma2[t] = sigma + alpha * x[t-1]**2\n",
    "        x[t] = np.sqrt(sigma2[t]) * z[t]\n",
    "    return x, sigma2, z\n",
    "\n",
    "# Now, let's display the plot again.\n",
    "sim_ARCH1N(0.5, 1,60).show()\n"
   ]
  }
 ],
 "metadata": {
  "kernelspec": {
   "display_name": "Python 3 (ipykernel)",
   "language": "python",
   "name": "python3"
  },
  "language_info": {
   "codemirror_mode": {
    "name": "ipython",
    "version": 3
   },
   "file_extension": ".py",
   "mimetype": "text/x-python",
   "name": "python",
   "nbconvert_exporter": "python",
   "pygments_lexer": "ipython3",
   "version": "3.11.4"
  }
 },
 "nbformat": 4,
 "nbformat_minor": 5
}
