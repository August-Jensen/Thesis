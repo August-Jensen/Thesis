{
 "cells": [
  {
   "cell_type": "code",
   "execution_count": 5,
   "id": "b3060b54-e73c-4bd4-9e34-444540e12a6d",
   "metadata": {},
   "outputs": [
    {
     "name": "stdout",
     "output_type": "stream",
     "text": [
      "      Unnamed: 0        Date  SP500 - Price  SP500 - Log-Return  \\\n",
      "0            1-1  1950-01-04      16.850000                 NaN   \n",
      "1            2-1  1950-01-05      16.930000            0.004737   \n",
      "2            3-1  1950-01-06      16.980000            0.002949   \n",
      "3            4-1  1950-01-09      17.080000            0.005872   \n",
      "4            5-1  1950-01-10      17.030001           -0.002932   \n",
      "...          ...         ...            ...                 ...   \n",
      "16528    16529-1  2015-09-11    1961.050049            0.004477   \n",
      "16529    16530-1  2015-09-14    1953.030029           -0.004098   \n",
      "16530    16531-1  2015-09-15    1978.089966            0.012750   \n",
      "16531    16532-1  2015-09-16    1995.310059            0.008668   \n",
      "16532    16533-1  2015-09-17    1990.199951           -0.002564   \n",
      "\n",
      "       squared_log_ret  \n",
      "0                  NaN  \n",
      "1             0.000022  \n",
      "2             0.000009  \n",
      "3             0.000034  \n",
      "4             0.000009  \n",
      "...                ...  \n",
      "16528         0.000020  \n",
      "16529         0.000017  \n",
      "16530         0.000163  \n",
      "16531         0.000075  \n",
      "16532         0.000007  \n",
      "\n",
      "[16533 rows x 5 columns]\n"
     ]
    },
    {
     "name": "stderr",
     "output_type": "stream",
     "text": [
      "/home/august/.venvs/jupyter/lib/python3.11/site-packages/statsmodels/tsa/regime_switching/markov_autoregression.py:238: RuntimeWarning: divide by zero encountered in divide\n",
      "  -0.5 * resid**2 / variance - 0.5 * np.log(2 * np.pi * variance))\n",
      "/home/august/.venvs/jupyter/lib/python3.11/site-packages/statsmodels/tsa/regime_switching/markov_autoregression.py:238: RuntimeWarning: divide by zero encountered in log\n",
      "  -0.5 * resid**2 / variance - 0.5 * np.log(2 * np.pi * variance))\n",
      "/home/august/.venvs/jupyter/lib/python3.11/site-packages/statsmodels/tsa/regime_switching/markov_autoregression.py:238: RuntimeWarning: invalid value encountered in subtract\n",
      "  -0.5 * resid**2 / variance - 0.5 * np.log(2 * np.pi * variance))\n"
     ]
    },
    {
     "ename": "LinAlgError",
     "evalue": "SVD did not converge",
     "output_type": "error",
     "traceback": [
      "\u001b[0;31m---------------------------------------------------------------------------\u001b[0m",
      "\u001b[0;31mLinAlgError\u001b[0m                               Traceback (most recent call last)",
      "Cell \u001b[0;32mIn[5], line 25\u001b[0m\n\u001b[1;32m     22\u001b[0m     \u001b[38;5;28;01mreturn\u001b[39;00m results\n\u001b[1;32m     24\u001b[0m \u001b[38;5;66;03m# Fit the models with up to 5 lags\u001b[39;00m\n\u001b[0;32m---> 25\u001b[0m model_results \u001b[38;5;241m=\u001b[39m \u001b[43mfit_markov_ar\u001b[49m\u001b[43m(\u001b[49m\u001b[43mtime_series\u001b[49m\u001b[43m,\u001b[49m\u001b[43m \u001b[49m\u001b[38;5;241;43m5\u001b[39;49m\u001b[43m)\u001b[49m\n\u001b[1;32m     27\u001b[0m \u001b[38;5;66;03m# Perform likelihood ratio tests and choose the best model\u001b[39;00m\n\u001b[1;32m     28\u001b[0m best_lag \u001b[38;5;241m=\u001b[39m \u001b[38;5;241m0\u001b[39m\n",
      "Cell \u001b[0;32mIn[5], line 20\u001b[0m, in \u001b[0;36mfit_markov_ar\u001b[0;34m(time_series, max_lag)\u001b[0m\n\u001b[1;32m     18\u001b[0m \u001b[38;5;28;01mfor\u001b[39;00m lag \u001b[38;5;129;01min\u001b[39;00m \u001b[38;5;28mrange\u001b[39m(max_lag \u001b[38;5;241m+\u001b[39m \u001b[38;5;241m1\u001b[39m):\n\u001b[1;32m     19\u001b[0m     model \u001b[38;5;241m=\u001b[39m MarkovAutoregression(time_series, k_regimes\u001b[38;5;241m=\u001b[39m\u001b[38;5;241m2\u001b[39m, order\u001b[38;5;241m=\u001b[39mlag, switching_ar\u001b[38;5;241m=\u001b[39m\u001b[38;5;28;01mFalse\u001b[39;00m)\n\u001b[0;32m---> 20\u001b[0m     fit \u001b[38;5;241m=\u001b[39m \u001b[43mmodel\u001b[49m\u001b[38;5;241;43m.\u001b[39;49m\u001b[43mfit\u001b[49m\u001b[43m(\u001b[49m\u001b[43mdisp\u001b[49m\u001b[38;5;241;43m=\u001b[39;49m\u001b[38;5;28;43;01mFalse\u001b[39;49;00m\u001b[43m)\u001b[49m\n\u001b[1;32m     21\u001b[0m     results[lag] \u001b[38;5;241m=\u001b[39m fit\n\u001b[1;32m     22\u001b[0m \u001b[38;5;28;01mreturn\u001b[39;00m results\n",
      "File \u001b[0;32m~/.venvs/jupyter/lib/python3.11/site-packages/statsmodels/tsa/regime_switching/markov_switching.py:1114\u001b[0m, in \u001b[0;36mMarkovSwitching.fit\u001b[0;34m(self, start_params, transformed, cov_type, cov_kwds, method, maxiter, full_output, disp, callback, return_params, em_iter, search_reps, search_iter, search_scale, **kwargs)\u001b[0m\n\u001b[1;32m   1112\u001b[0m \u001b[38;5;66;03m# Get better start params through EM algorithm\u001b[39;00m\n\u001b[1;32m   1113\u001b[0m \u001b[38;5;28;01mif\u001b[39;00m em_iter \u001b[38;5;129;01mand\u001b[39;00m \u001b[38;5;129;01mnot\u001b[39;00m \u001b[38;5;28mself\u001b[39m\u001b[38;5;241m.\u001b[39mtvtp:\n\u001b[0;32m-> 1114\u001b[0m     start_params \u001b[38;5;241m=\u001b[39m \u001b[38;5;28;43mself\u001b[39;49m\u001b[38;5;241;43m.\u001b[39;49m\u001b[43m_fit_em\u001b[49m\u001b[43m(\u001b[49m\u001b[43mstart_params\u001b[49m\u001b[43m,\u001b[49m\u001b[43m \u001b[49m\u001b[43mtransformed\u001b[49m\u001b[38;5;241;43m=\u001b[39;49m\u001b[43mtransformed\u001b[49m\u001b[43m,\u001b[49m\n\u001b[1;32m   1115\u001b[0m \u001b[43m                                \u001b[49m\u001b[43mmaxiter\u001b[49m\u001b[38;5;241;43m=\u001b[39;49m\u001b[43mem_iter\u001b[49m\u001b[43m,\u001b[49m\u001b[43m \u001b[49m\u001b[43mtolerance\u001b[49m\u001b[38;5;241;43m=\u001b[39;49m\u001b[38;5;241;43m0\u001b[39;49m\u001b[43m,\u001b[49m\n\u001b[1;32m   1116\u001b[0m \u001b[43m                                \u001b[49m\u001b[43mreturn_params\u001b[49m\u001b[38;5;241;43m=\u001b[39;49m\u001b[38;5;28;43;01mTrue\u001b[39;49;00m\u001b[43m)\u001b[49m\n\u001b[1;32m   1117\u001b[0m     transformed \u001b[38;5;241m=\u001b[39m \u001b[38;5;28;01mTrue\u001b[39;00m\n\u001b[1;32m   1119\u001b[0m \u001b[38;5;28;01mif\u001b[39;00m transformed:\n",
      "File \u001b[0;32m~/.venvs/jupyter/lib/python3.11/site-packages/statsmodels/tsa/regime_switching/markov_switching.py:1206\u001b[0m, in \u001b[0;36mMarkovSwitching._fit_em\u001b[0;34m(self, start_params, transformed, cov_type, cov_kwds, maxiter, tolerance, full_output, return_params, **kwargs)\u001b[0m\n\u001b[1;32m   1204\u001b[0m delta \u001b[38;5;241m=\u001b[39m \u001b[38;5;241m0\u001b[39m\n\u001b[1;32m   1205\u001b[0m \u001b[38;5;28;01mwhile\u001b[39;00m i \u001b[38;5;241m<\u001b[39m maxiter \u001b[38;5;129;01mand\u001b[39;00m (i \u001b[38;5;241m<\u001b[39m \u001b[38;5;241m2\u001b[39m \u001b[38;5;129;01mor\u001b[39;00m (delta \u001b[38;5;241m>\u001b[39m tolerance)):\n\u001b[0;32m-> 1206\u001b[0m     out \u001b[38;5;241m=\u001b[39m \u001b[38;5;28;43mself\u001b[39;49m\u001b[38;5;241;43m.\u001b[39;49m\u001b[43m_em_iteration\u001b[49m\u001b[43m(\u001b[49m\u001b[43mparams\u001b[49m\u001b[43m[\u001b[49m\u001b[38;5;241;43m-\u001b[39;49m\u001b[38;5;241;43m1\u001b[39;49m\u001b[43m]\u001b[49m\u001b[43m)\u001b[49m\n\u001b[1;32m   1207\u001b[0m     llf\u001b[38;5;241m.\u001b[39mappend(out[\u001b[38;5;241m0\u001b[39m]\u001b[38;5;241m.\u001b[39mllf)\n\u001b[1;32m   1208\u001b[0m     params\u001b[38;5;241m.\u001b[39mappend(out[\u001b[38;5;241m1\u001b[39m])\n",
      "File \u001b[0;32m~/.venvs/jupyter/lib/python3.11/site-packages/statsmodels/tsa/regime_switching/markov_autoregression.py:260\u001b[0m, in \u001b[0;36mMarkovAutoregression._em_iteration\u001b[0;34m(self, params0)\u001b[0m\n\u001b[1;32m    258\u001b[0m coeffs \u001b[38;5;241m=\u001b[39m \u001b[38;5;28;01mNone\u001b[39;00m\n\u001b[1;32m    259\u001b[0m \u001b[38;5;28;01mif\u001b[39;00m \u001b[38;5;28mself\u001b[39m\u001b[38;5;241m.\u001b[39m_k_exog \u001b[38;5;241m>\u001b[39m \u001b[38;5;241m0\u001b[39m:\n\u001b[0;32m--> 260\u001b[0m     coeffs \u001b[38;5;241m=\u001b[39m \u001b[38;5;28;43mself\u001b[39;49m\u001b[38;5;241;43m.\u001b[39;49m\u001b[43m_em_exog\u001b[49m\u001b[43m(\u001b[49m\u001b[43mresult\u001b[49m\u001b[43m,\u001b[49m\u001b[43m \u001b[49m\u001b[38;5;28;43mself\u001b[39;49m\u001b[38;5;241;43m.\u001b[39;49m\u001b[43mendog\u001b[49m\u001b[43m,\u001b[49m\u001b[43m \u001b[49m\u001b[38;5;28;43mself\u001b[39;49m\u001b[38;5;241;43m.\u001b[39;49m\u001b[43mexog\u001b[49m\u001b[43m,\u001b[49m\n\u001b[1;32m    261\u001b[0m \u001b[43m                           \u001b[49m\u001b[38;5;28;43mself\u001b[39;49m\u001b[38;5;241;43m.\u001b[39;49m\u001b[43mparameters\u001b[49m\u001b[38;5;241;43m.\u001b[39;49m\u001b[43mswitching\u001b[49m\u001b[43m[\u001b[49m\u001b[38;5;124;43m'\u001b[39;49m\u001b[38;5;124;43mexog\u001b[39;49m\u001b[38;5;124;43m'\u001b[39;49m\u001b[43m]\u001b[49m\u001b[43m,\u001b[49m\u001b[43m \u001b[49m\u001b[43mtmp\u001b[49m\u001b[43m)\u001b[49m\n\u001b[1;32m    262\u001b[0m     \u001b[38;5;28;01mfor\u001b[39;00m i \u001b[38;5;129;01min\u001b[39;00m \u001b[38;5;28mrange\u001b[39m(\u001b[38;5;28mself\u001b[39m\u001b[38;5;241m.\u001b[39mk_regimes):\n\u001b[1;32m    263\u001b[0m         params1[\u001b[38;5;28mself\u001b[39m\u001b[38;5;241m.\u001b[39mparameters[i, \u001b[38;5;124m'\u001b[39m\u001b[38;5;124mexog\u001b[39m\u001b[38;5;124m'\u001b[39m]] \u001b[38;5;241m=\u001b[39m coeffs[i]\n",
      "File \u001b[0;32m~/.venvs/jupyter/lib/python3.11/site-packages/statsmodels/tsa/regime_switching/markov_regression.py:254\u001b[0m, in \u001b[0;36mMarkovRegression._em_exog\u001b[0;34m(self, result, endog, exog, switching, tmp)\u001b[0m\n\u001b[1;32m    251\u001b[0m         tmp_endog \u001b[38;5;241m=\u001b[39m tmp[i] \u001b[38;5;241m*\u001b[39m endog\n\u001b[1;32m    252\u001b[0m         tmp_exog \u001b[38;5;241m=\u001b[39m tmp[i][:, np\u001b[38;5;241m.\u001b[39mnewaxis] \u001b[38;5;241m*\u001b[39m switching_exog\n\u001b[1;32m    253\u001b[0m         coeffs[i, switching] \u001b[38;5;241m=\u001b[39m (\n\u001b[0;32m--> 254\u001b[0m             np\u001b[38;5;241m.\u001b[39mdot(\u001b[43mnp\u001b[49m\u001b[38;5;241;43m.\u001b[39;49m\u001b[43mlinalg\u001b[49m\u001b[38;5;241;43m.\u001b[39;49m\u001b[43mpinv\u001b[49m\u001b[43m(\u001b[49m\u001b[43mtmp_exog\u001b[49m\u001b[43m)\u001b[49m, tmp_endog))\n\u001b[1;32m    256\u001b[0m \u001b[38;5;28;01mreturn\u001b[39;00m coeffs\n",
      "File \u001b[0;32m~/.venvs/jupyter/lib/python3.11/site-packages/numpy/linalg/linalg.py:2022\u001b[0m, in \u001b[0;36mpinv\u001b[0;34m(a, rcond, hermitian)\u001b[0m\n\u001b[1;32m   2020\u001b[0m     \u001b[38;5;28;01mreturn\u001b[39;00m wrap(res)\n\u001b[1;32m   2021\u001b[0m a \u001b[38;5;241m=\u001b[39m a\u001b[38;5;241m.\u001b[39mconjugate()\n\u001b[0;32m-> 2022\u001b[0m u, s, vt \u001b[38;5;241m=\u001b[39m \u001b[43msvd\u001b[49m\u001b[43m(\u001b[49m\u001b[43ma\u001b[49m\u001b[43m,\u001b[49m\u001b[43m \u001b[49m\u001b[43mfull_matrices\u001b[49m\u001b[38;5;241;43m=\u001b[39;49m\u001b[38;5;28;43;01mFalse\u001b[39;49;00m\u001b[43m,\u001b[49m\u001b[43m \u001b[49m\u001b[43mhermitian\u001b[49m\u001b[38;5;241;43m=\u001b[39;49m\u001b[43mhermitian\u001b[49m\u001b[43m)\u001b[49m\n\u001b[1;32m   2024\u001b[0m \u001b[38;5;66;03m# discard small singular values\u001b[39;00m\n\u001b[1;32m   2025\u001b[0m cutoff \u001b[38;5;241m=\u001b[39m rcond[\u001b[38;5;241m.\u001b[39m\u001b[38;5;241m.\u001b[39m\u001b[38;5;241m.\u001b[39m, newaxis] \u001b[38;5;241m*\u001b[39m amax(s, axis\u001b[38;5;241m=\u001b[39m\u001b[38;5;241m-\u001b[39m\u001b[38;5;241m1\u001b[39m, keepdims\u001b[38;5;241m=\u001b[39m\u001b[38;5;28;01mTrue\u001b[39;00m)\n",
      "File \u001b[0;32m~/.venvs/jupyter/lib/python3.11/site-packages/numpy/linalg/linalg.py:1681\u001b[0m, in \u001b[0;36msvd\u001b[0;34m(a, full_matrices, compute_uv, hermitian)\u001b[0m\n\u001b[1;32m   1678\u001b[0m         gufunc \u001b[38;5;241m=\u001b[39m _umath_linalg\u001b[38;5;241m.\u001b[39msvd_n_s\n\u001b[1;32m   1680\u001b[0m signature \u001b[38;5;241m=\u001b[39m \u001b[38;5;124m'\u001b[39m\u001b[38;5;124mD->DdD\u001b[39m\u001b[38;5;124m'\u001b[39m \u001b[38;5;28;01mif\u001b[39;00m isComplexType(t) \u001b[38;5;28;01melse\u001b[39;00m \u001b[38;5;124m'\u001b[39m\u001b[38;5;124md->ddd\u001b[39m\u001b[38;5;124m'\u001b[39m\n\u001b[0;32m-> 1681\u001b[0m u, s, vh \u001b[38;5;241m=\u001b[39m \u001b[43mgufunc\u001b[49m\u001b[43m(\u001b[49m\u001b[43ma\u001b[49m\u001b[43m,\u001b[49m\u001b[43m \u001b[49m\u001b[43msignature\u001b[49m\u001b[38;5;241;43m=\u001b[39;49m\u001b[43msignature\u001b[49m\u001b[43m,\u001b[49m\u001b[43m \u001b[49m\u001b[43mextobj\u001b[49m\u001b[38;5;241;43m=\u001b[39;49m\u001b[43mextobj\u001b[49m\u001b[43m)\u001b[49m\n\u001b[1;32m   1682\u001b[0m u \u001b[38;5;241m=\u001b[39m u\u001b[38;5;241m.\u001b[39mastype(result_t, copy\u001b[38;5;241m=\u001b[39m\u001b[38;5;28;01mFalse\u001b[39;00m)\n\u001b[1;32m   1683\u001b[0m s \u001b[38;5;241m=\u001b[39m s\u001b[38;5;241m.\u001b[39mastype(_realType(result_t), copy\u001b[38;5;241m=\u001b[39m\u001b[38;5;28;01mFalse\u001b[39;00m)\n",
      "File \u001b[0;32m~/.venvs/jupyter/lib/python3.11/site-packages/numpy/linalg/linalg.py:121\u001b[0m, in \u001b[0;36m_raise_linalgerror_svd_nonconvergence\u001b[0;34m(err, flag)\u001b[0m\n\u001b[1;32m    120\u001b[0m \u001b[38;5;28;01mdef\u001b[39;00m \u001b[38;5;21m_raise_linalgerror_svd_nonconvergence\u001b[39m(err, flag):\n\u001b[0;32m--> 121\u001b[0m     \u001b[38;5;28;01mraise\u001b[39;00m LinAlgError(\u001b[38;5;124m\"\u001b[39m\u001b[38;5;124mSVD did not converge\u001b[39m\u001b[38;5;124m\"\u001b[39m)\n",
      "\u001b[0;31mLinAlgError\u001b[0m: SVD did not converge"
     ]
    }
   ],
   "source": [
    "import pandas as pd\n",
    "import numpy as np\n",
    "import statsmodels.api as sm\n",
    "from statsmodels.tsa.regime_switching.markov_autoregression import MarkovAutoregression\n",
    "import matplotlib.pyplot as plt\n",
    "\n",
    "# Load your CSV file\n",
    "file_path = 'SP500.csv'  # Replace with your CSV file path\n",
    "df = pd.read_csv(file_path)\n",
    "print(df)\n",
    "# Select the column with your time series data\n",
    "# Replace 'your_column_name' with the name of the column you want to analyze\n",
    "time_series = df['SP500 - Log-Return'].iloc[1:]\n",
    "\n",
    "# Define a function to fit the Markov switching AR model with different lags\n",
    "def fit_markov_ar(time_series, max_lag):\n",
    "    results = {}\n",
    "    for lag in range(max_lag + 1):\n",
    "        model = MarkovAutoregression(time_series, k_regimes=2, order=lag, switching_ar=False)\n",
    "        fit = model.fit(disp=False)\n",
    "        results[lag] = fit\n",
    "    return results\n",
    "\n",
    "# Fit the models with up to 5 lags\n",
    "model_results = fit_markov_ar(time_series, 5)\n",
    "\n",
    "# Perform likelihood ratio tests and choose the best model\n",
    "best_lag = 0\n",
    "best_model = model_results[0]\n",
    "for lag in range(1, 6):\n",
    "    lr_test = model_results[lag].likelihood_ratio_test(model_results[lag - 1])\n",
    "    p_value = lr_test[1]\n",
    "    if p_value < 0.05:  # Using 5% significance level\n",
    "        best_lag = lag\n",
    "        best_model = model_results[lag]\n",
    "    else:\n",
    "        break\n",
    "\n",
    "# Plotting the output\n",
    "plt.figure(figsize=(12, 6))\n",
    "plt.plot(time_series, label='Observed')\n",
    "plt.plot(best_model.fittedvalues, label='Fitted', color='red')\n",
    "plt.title(f'Markov Switching AR Model (Lag: {best_lag})')\n",
    "plt.legend()\n",
    "plt.show()\n"
   ]
  }
 ],
 "metadata": {
  "kernelspec": {
   "display_name": "Python 3 (ipykernel)",
   "language": "python",
   "name": "python3"
  },
  "language_info": {
   "codemirror_mode": {
    "name": "ipython",
    "version": 3
   },
   "file_extension": ".py",
   "mimetype": "text/x-python",
   "name": "python",
   "nbconvert_exporter": "python",
   "pygments_lexer": "ipython3",
   "version": "3.11.6"
  }
 },
 "nbformat": 4,
 "nbformat_minor": 5
}
