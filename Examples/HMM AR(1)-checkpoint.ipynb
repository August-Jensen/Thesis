{
 "cells": [
  {
   "cell_type": "code",
   "execution_count": 1,
   "metadata": {},
   "outputs": [],
   "source": [
    "#Importing packages we need\n",
    "import numpy as np\n",
    "import pandas as pd\n",
    "import matplotlib.pyplot as plt #pyplot is used to plot the data\n",
    "import scipy.optimize as opt #used to numerically optimize\n",
    "from datetime import time, timedelta, datetime\n",
    "import matplotlib.dates as mdates"
   ]
  },
  {
   "cell_type": "code",
   "execution_count": 2,
   "metadata": {},
   "outputs": [],
   "source": [
    "def GaussianDensity(y,m,s):\n",
    "    return np.exp(-0.5*np.log(np.pi)-0.5*np.log(s)-0.5*((y-m)**2)/s)"
   ]
  },
  {
   "cell_type": "code",
   "execution_count": 3,
   "metadata": {},
   "outputs": [
    {
     "name": "stdout",
     "output_type": "stream",
     "text": [
      "[[ 1.59160816]\n",
      " [ 0.31108326]\n",
      " [ 0.05453718]\n",
      " ...\n",
      " [ 1.27496879]\n",
      " [ 0.86677408]\n",
      " [-0.25643447]]\n",
      "Now transformed:\n",
      "[ 1.59160816  0.31108326  0.05453718 ...  1.27496879  0.86677408\n",
      " -0.25643447]\n"
     ]
    }
   ],
   "source": [
    "#getting data\n",
    "#Locate my folder\n",
    "data=np.genfromtxt('SP_500.csv', delimiter=',',usecols=np.arange(0,4)) #loading in first 4 columns\n",
    "y = data[15097:, 3:4]*100 # 100 times log-returns of the S&P 500 index. January 4, 2010 - till end\n",
    "print(y)\n",
    "print(\"Now transformed:\")\n",
    "y=y.T[0,:] #unpacking numpy array\n",
    "print(y)\n",
    "T = len(y) #length of time series"
   ]
  },
  {
   "cell_type": "code",
   "execution_count": 4,
   "metadata": {},
   "outputs": [],
   "source": [
    "# data = pd.read_csv('SP500.csv', sep=',')\n",
    "\n",
    "# data['Date'] = pd.to_datetime(data['Date'])\n",
    "# data = data.iloc[500:1000]\n",
    "# plt.figure(figsize=(15, 6))\n",
    "# plt.plot(data['Date'], data['Return'])\n",
    "# plt.xlabel('Year')\n",
    "# plt.ylabel('Returns')\n",
    "# plt.title('Daily Returns from 1950 to Present')\n",
    "\n",
    "# # Setting x-axis to show only the years\n",
    "# plt.gca().xaxis.set_major_locator(mdates.YearLocator())\n",
    "# plt.gca().xaxis.set_major_formatter(mdates.DateFormatter('%Y'))\n",
    "# plt.xticks(rotation=45)\n",
    "# plt.tight_layout()\n",
    "\n",
    "# plt.show()"
   ]
  },
  {
   "cell_type": "code",
   "execution_count": 5,
   "metadata": {},
   "outputs": [],
   "source": [
    "def likelihood(gamma):\n",
    "    #parameters\n",
    "    p00    = gamma[0]\n",
    "    p11    = gamma[1]\n",
    "    sigma2 = gamma[2:4]**2;\n",
    "    T      = len(y)\n",
    "    #//transition matrix\n",
    "    P = np.zeros([2,2])\n",
    "    P[0]=p00, 1-p11\n",
    "    P[1]=1-p00, p11\n",
    "\n",
    "    #//bookkeeping\n",
    "    xi_10      = np.zeros([2,T+1])\n",
    "    xi_11      = np.zeros([2,T])\n",
    "    xi_1T      = np.zeros([2,T])\n",
    "    lik        = np.zeros(T)\n",
    "\n",
    "    #//regression:\n",
    "    A  = np.vstack(((np.identity(2)-P),np.ones([1,2])))\n",
    "    pi_first = np.linalg.inv(A.T.dot(A)).dot(A.T)\n",
    "    pi_second=np.vstack((np.zeros([2,1]),np.ones([1,1])))\n",
    "    pi=pi_first.dot(pi_second)\n",
    "    xi_10[[0,1],0] = pi.T\n",
    "    print(f'Pi: {pi.T}')\n",
    "    #//forward filter recursion\n",
    "    eta=np.zeros(2)\n",
    "\n",
    "    for t in range(T):\n",
    "        #//state densities\n",
    "        eta[0]=GaussianDensity(y[t],0,sigma2[0])\n",
    "        eta[1]=GaussianDensity(y[t],0,sigma2[1])\n",
    "        \n",
    "        #likelihood\n",
    "        #print(np.log(xi_10[[0,1],t]))\n",
    "        lik[t]   = np.log(xi_10[0,t]*eta[0]+xi_10[1,t]*eta[1])\n",
    "        \n",
    "        #filtering\n",
    "        num0=eta[0]*xi_10[0,t]/(eta[0]*xi_10[0,t]+eta[1]*xi_10[1,t])\n",
    "        num1=eta[1]*xi_10[1,t]/(eta[0]*xi_10[0,t]+eta[1]*xi_10[1,t])\n",
    "\n",
    "        #prediction\n",
    "        xi_10[[0,1],t+1] = P.dot(xi_11[[0,1],t])\n",
    "    print(GaussianDensity(y[1],0,sigma2[0]))\n",
    "    return -np.sum(lik) #We wish to minimize the likelihood in our scipy opt function\n",
    "\n"
   ]
  },
  {
   "cell_type": "code",
   "execution_count": null,
   "metadata": {},
   "outputs": [],
   "source": []
  },
  {
   "cell_type": "code",
   "execution_count": 6,
   "metadata": {},
   "outputs": [
    {
     "data": {
      "text/plain": [
       "array([[ 0., -2.],\n",
       "       [-3., -3.],\n",
       "       [ 1.,  1.]])"
      ]
     },
     "execution_count": 6,
     "metadata": {},
     "output_type": "execute_result"
    }
   ],
   "source": [
    "    #//transition matrix\n",
    "#    P = np.zeros([2,2])\n",
    "P = np.array([[1,2], [3,4]])\n",
    "P\n",
    "#P[0,0]=p00\n",
    "#P[1,1]= p11\n",
    "np.vstack(((np.identity(2)-P),np.ones([1,2])))\n",
    "\n",
    "#(np.identity(2)-P),np.ones([1,2]).shape"
   ]
  },
  {
   "cell_type": "code",
   "execution_count": 7,
   "metadata": {},
   "outputs": [
    {
     "ename": "IndexError",
     "evalue": "only integers, slices (`:`), ellipsis (`...`), numpy.newaxis (`None`) and integer or boolean arrays are valid indices",
     "output_type": "error",
     "traceback": [
      "\u001b[0;31m---------------------------------------------------------------------------\u001b[0m",
      "\u001b[0;31mIndexError\u001b[0m                                Traceback (most recent call last)",
      "Cell \u001b[0;32mIn[7], line 1\u001b[0m\n\u001b[0;32m----> 1\u001b[0m y \u001b[38;5;241m=\u001b[39m \u001b[43mdata\u001b[49m\u001b[43m[\u001b[49m\u001b[38;5;124;43m'\u001b[39;49m\u001b[38;5;124;43mpct\u001b[39;49m\u001b[38;5;124;43m'\u001b[39;49m\u001b[43m]\u001b[49m\u001b[38;5;241m.\u001b[39mto_numpy()\n\u001b[1;32m      2\u001b[0m sigma2 \u001b[38;5;241m=\u001b[39m np\u001b[38;5;241m.\u001b[39mvar(y) \u001b[38;5;66;03m#used for initial guesses for sigma2 vals\u001b[39;00m\n\u001b[1;32m      3\u001b[0m Gamma0  \u001b[38;5;241m=\u001b[39mnp\u001b[38;5;241m.\u001b[39marray([\u001b[38;5;241m0.95\u001b[39m,\u001b[38;5;241m0.95\u001b[39m,np\u001b[38;5;241m.\u001b[39msqrt(\u001b[38;5;241m2\u001b[39m\u001b[38;5;241m*\u001b[39msigma2),np\u001b[38;5;241m.\u001b[39msqrt(\u001b[38;5;241m0.5\u001b[39m\u001b[38;5;241m*\u001b[39msigma2)]) \u001b[38;5;66;03m#initial guesses\u001b[39;00m\n",
      "\u001b[0;31mIndexError\u001b[0m: only integers, slices (`:`), ellipsis (`...`), numpy.newaxis (`None`) and integer or boolean arrays are valid indices"
     ]
    }
   ],
   "source": [
    "y = data['pct'].to_numpy()\n",
    "sigma2 = np.var(y) #used for initial guesses for sigma2 vals\n",
    "Gamma0  =np.array([0.95,0.95,np.sqrt(2*sigma2),np.sqrt(0.5*sigma2)]) #initial guesses\n",
    "res=opt.minimize(likelihood, Gamma0, method='L-BFGS-B',bounds=((0.001,0.9999),(0.001,0.9999),(0.01,None),(0.01,None))) #optimizing. We use L-BFGS-B as it allows for bounds and can compute the standard errors (from the inverse hessian) right away\n",
    "res.x\n",
    "v_hessian=res.hess_inv.todense() #retrieves the negative inverse hessian matrix (note we have minimized the negative log likelihood function)\n",
    "se_hessian=np.sqrt(np.diagonal(v_hessian))"
   ]
  },
  {
   "cell_type": "code",
   "execution_count": null,
   "metadata": {},
   "outputs": [],
   "source": [
    "#result of optimization\n",
    "Gamma_hat=res.x\n",
    "se=se_hessian\n",
    "print('P11='+str(Gamma_hat[0])+', std.errors='+str(se[0]))\n",
    "print('P22='+str(Gamma_hat[1])+', std.errors='+str(se[1]))\n",
    "print('h1='+str(Gamma_hat[2])+', std.errors='+str(se[2]))\n",
    "print('h2='+str(Gamma_hat[3])+', std.errors='+str(se[3]))"
   ]
  },
  {
   "cell_type": "code",
   "execution_count": null,
   "metadata": {},
   "outputs": [],
   "source": [
    "#Plotting returns and filtered probabilities\n",
    "gamma=Gamma_hat\n",
    "#parameters\n",
    "p00    = gamma[0]\n",
    "p11    = gamma[1]\n",
    "sigma2 = gamma[2:4]**2;\n",
    "T      = len(y)\n",
    "#//transition matrix\n",
    "P = np.zeros([2,2])\n",
    "P[0]=p00, 1-p11\n",
    "P[1]=1-p00, p11\n",
    "    \n",
    "#//bookkeeping\n",
    "xi_10      = np.zeros([2,T+1])\n",
    "xi_11      = np.zeros([2,T])\n",
    "xi_1T      = np.zeros([2,T])\n",
    "lik        = np.zeros(T)\n",
    "\n",
    "#//regression:\n",
    "A  = np.vstack(((np.identity(2)-P),np.ones([1,2])))\n",
    "pi_first = np.linalg.inv(A.T.dot(A)).dot(A.T)\n",
    "pi_second=np.vstack((np.zeros([2,1]),np.ones([1,1])))\n",
    "pi=pi_first.dot(pi_second)\n",
    "xi_10[[0,1],0] = pi.T\n",
    "#//forward filter recursion\n",
    "eta=np.zeros(2)\n",
    "for t in range(T):\n",
    "    #//state densities\n",
    "    eta[0]=GaussianDensity(y[t],0,sigma2[0])\n",
    "    eta[1]=GaussianDensity(y[t],0,sigma2[1])\n",
    "        \n",
    "    #likelihood\n",
    "    #print(np.log(xi_10[[0,1],t]))\n",
    "    lik[t]   = np.log(xi_10[0,t]*eta[0]+xi_10[1,t]*eta[1])\n",
    "        \n",
    "    #filtering\n",
    "    num0=eta[0]*xi_10[0,t]/(eta[0]*xi_10[0,t]+eta[1]*xi_10[1,t])\n",
    "    num1=eta[1]*xi_10[1,t]/(eta[0]*xi_10[0,t]+eta[1]*xi_10[1,t])\n",
    "    xi_11[[0,1],t] = num0,num1\n",
    "\n",
    "    #prediction\n",
    "    xi_10[[0,1],t+1] = P.dot(xi_11[[0,1],t])\n",
    "    \n",
    "    #Backward smoother (not needed for likelihood)\n",
    "    xi_1T[:,T-1]=xi_11[:,T-1]\n",
    "    for t in range(T-2,0,-1):\n",
    "        xi_1T[:,t]=xi_11[:,t]*(P.T.dot(xi_1T[:,t+1]/xi_10[:,t+1]))\n",
    "        \n",
    "vol=np.zeros(len(y))\n",
    "for i in range(T):\n",
    "    vol[i]=xi_11[[0],i]*sigma2[0]+ (1-xi_11[[0],i])*sigma2[1]"
   ]
  },
  {
   "cell_type": "code",
   "execution_count": null,
   "metadata": {},
   "outputs": [],
   "source": [
    "fig, ax=plt.subplots(2, figsize=(14,7))\n",
    "#fig.set_figheight=(9)\n",
    "#fig.set_figwidth=(16)\n",
    "fig.suptitle('log-return and filtered volatility')\n",
    "ax[0].plot(y,color='r')\n",
    "ax[1].plot(np.sqrt(vol))\n",
    "\n",
    "#Setting titles\n",
    "ax[0].title.set_text('Log-return, $x_t$')\n",
    "ax[1].title.set_text('Filtered volatility, $E[\\sigma_t|x_t,x_{t-1},...,x_1]$')\n"
   ]
  },
  {
   "cell_type": "code",
   "execution_count": null,
   "metadata": {},
   "outputs": [],
   "source": [
    "#Predicted state probability, Filtered state probability and smoothed state probability\n",
    "fig, ax=plt.subplots(3, figsize=(16,9))\n",
    "#fig.tight_layout() \n",
    "\n",
    "#Adjusting size between subplots\n",
    "fig.subplots_adjust(left=None, bottom=0.025, right=None, top=None, wspace=None, hspace=None)\n",
    "#default\n",
    "#left  = 0.125  # the left side of the subplots of the figure\n",
    "#right = 0.9    # the right side of the subplots of the figure\n",
    "#bottom = 0.1   # the bottom of the subplots of the figure\n",
    "#top = 0.9      # the top of the subplots of the figure\n",
    "#wspace = 0.2   # the amount of width reserved for blank space between subplots\n",
    "#hspace = 0.2   # the amount of height reserved for white space between subplots\n",
    "\n",
    "\n",
    "ax[0].plot(1-xi_10[0,:])\n",
    "ax[1].plot(1-xi_11[0,:])\n",
    "ax[2].plot(1-xi_1T[0,:])\n",
    "\n",
    "#Setting limits on x axis\n",
    "ax[0].set_xlim(0, T)\n",
    "ax[1].set_xlim(0, T)\n",
    "ax[2].set_xlim(0, T)\n",
    "\n",
    "#Setting titles\n",
    "ax[0].title.set_text('Predicted state probability, $P(s_t=1|x_{t-1},x_{t-2},...,x_{1})$')\n",
    "ax[1].title.set_text('Filtered state probability, $P(s_t=1|x_{t},x_{t-1},...,x_{1})$')\n",
    "ax[2].title.set_text('Smoothed state probability, $P(s_t=1|x_{T},x_{T-1},...,x_{1})$')\n",
    "\n",
    "#Setting lines at 0 and 1\n",
    "ax[0].axhline(0,color='black', linestyle=\"--\")\n",
    "ax[0].axhline(1,color='black', linestyle=\"--\")\n",
    "\n",
    "ax[1].axhline(0,color='black', linestyle=\"--\")\n",
    "ax[1].axhline(1,color='black', linestyle=\"--\")\n",
    "\n",
    "ax[2].axhline(0,color='black', linestyle=\"--\")\n",
    "ax[2].axhline(1,color='black', linestyle=\"--\")\n"
   ]
  },
  {
   "cell_type": "code",
   "execution_count": null,
   "metadata": {},
   "outputs": [],
   "source": []
  },
  {
   "cell_type": "code",
   "execution_count": null,
   "metadata": {},
   "outputs": [],
   "source": []
  },
  {
   "cell_type": "code",
   "execution_count": null,
   "metadata": {},
   "outputs": [],
   "source": []
  },
  {
   "cell_type": "code",
   "execution_count": null,
   "metadata": {},
   "outputs": [],
   "source": []
  },
  {
   "cell_type": "code",
   "execution_count": null,
   "metadata": {},
   "outputs": [],
   "source": []
  },
  {
   "cell_type": "code",
   "execution_count": null,
   "metadata": {},
   "outputs": [],
   "source": []
  },
  {
   "cell_type": "code",
   "execution_count": null,
   "metadata": {},
   "outputs": [],
   "source": []
  }
 ],
 "metadata": {
  "kernelspec": {
   "display_name": "Python 3 (ipykernel)",
   "language": "python",
   "name": "python3"
  },
  "language_info": {
   "codemirror_mode": {
    "name": "ipython",
    "version": 3
   },
   "file_extension": ".py",
   "mimetype": "text/x-python",
   "name": "python",
   "nbconvert_exporter": "python",
   "pygments_lexer": "ipython3",
   "version": "3.11.6"
  }
 },
 "nbformat": 4,
 "nbformat_minor": 4
}
