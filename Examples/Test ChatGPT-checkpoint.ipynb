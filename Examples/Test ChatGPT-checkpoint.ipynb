{
 "cells": [
  {
   "cell_type": "code",
   "execution_count": 2,
   "id": "5c2b7d98-51f5-4664-ac20-91a2c8ae75b4",
   "metadata": {},
   "outputs": [
    {
     "ename": "ModuleNotFoundError",
     "evalue": "No module named 'ExpectationMaximization'",
     "output_type": "error",
     "traceback": [
      "\u001b[0;31m---------------------------------------------------------------------------\u001b[0m",
      "\u001b[0;31mModuleNotFoundError\u001b[0m                       Traceback (most recent call last)",
      "Cell \u001b[0;32mIn[2], line 5\u001b[0m\n\u001b[1;32m      3\u001b[0m \u001b[38;5;28;01mimport\u001b[39;00m \u001b[38;5;21;01mpandas\u001b[39;00m \u001b[38;5;28;01mas\u001b[39;00m \u001b[38;5;21;01mpd\u001b[39;00m\n\u001b[1;32m      4\u001b[0m \u001b[38;5;28;01mimport\u001b[39;00m \u001b[38;5;21;01mmatplotlib\u001b[39;00m\u001b[38;5;21;01m.\u001b[39;00m\u001b[38;5;21;01mpyplot\u001b[39;00m \u001b[38;5;28;01mas\u001b[39;00m \u001b[38;5;21;01mplt\u001b[39;00m\n\u001b[0;32m----> 5\u001b[0m \u001b[38;5;28;01mimport\u001b[39;00m \u001b[38;5;21;01mExpectationMaximization\u001b[39;00m\n\u001b[1;32m      6\u001b[0m \u001b[38;5;66;03m# Download stock data\u001b[39;00m\n\u001b[1;32m      7\u001b[0m ticker \u001b[38;5;241m=\u001b[39m \u001b[38;5;124m'\u001b[39m\u001b[38;5;124mAAPL\u001b[39m\u001b[38;5;124m'\u001b[39m  \u001b[38;5;66;03m# Example: Apple Inc.\u001b[39;00m\n",
      "\u001b[0;31mModuleNotFoundError\u001b[0m: No module named 'ExpectationMaximization'"
     ]
    }
   ],
   "source": [
    "import yfinance as yf\n",
    "import numpy as np\n",
    "import pandas as pd\n",
    "import matplotlib.pyplot as plt\n",
    "\n",
    "# Download stock data\n",
    "ticker = 'AAPL'  # Example: Apple Inc.\n",
    "data = yf.download(ticker, start='2020-01-01', end='2020-03-01')['Close']\n",
    "\n",
    "# Transform the data: log and first difference\n",
    "log_data = np.log(data)\n",
    "diff_log_data = log_data.diff().dropna()*100\n",
    "\n",
    "# Plot the transformed data\n",
    "plt.figure(figsize=(14, 7))\n",
    "plt.plot(diff_log_data)\n",
    "plt.title(f'Log-Differenced Close Prices for {ticker}')\n",
    "plt.xlabel('Date')\n",
    "plt.ylabel('Log-Differenced Prices')\n",
    "plt.show()\n",
    "\n",
    "# Convert to numpy array for use with the SVModel\n",
    "transformed_data = diff_log_data.to_numpy()\n",
    "transformed_data.size\n"
   ]
  },
  {
   "cell_type": "code",
   "execution_count": 1,
   "id": "71a7d384-865b-4aed-b913-939e24e39b2f",
   "metadata": {},
   "outputs": [
    {
     "name": "stdout",
     "output_type": "stream",
     "text": [
      "Optimized Transition Matrix:\n",
      "[[0.33333333 0.33333333 0.33333333]\n",
      " [0.33333333 0.33333333 0.33333333]\n",
      " [0.33333333 0.33333333 0.33333334]]\n"
     ]
    }
   ],
   "source": [
    "import numpy as np\n",
    "from scipy.optimize import minimize\n",
    "\n",
    "# Define the transition matrix with variables to estimate\n",
    "# Initial guess for the transition probabilities\n",
    "initial_guess = np.array([0.1, 0.4, 0.5, # State 1 transitions to 1, 2, 3\n",
    "                          0.3, 0.3, 0.4, # State 2 transitions to 1, 2, 3\n",
    "                          0.2, 0.5, 0.3]) # State 3 transitions to 1, 2, 3\n",
    "\n",
    "# Define the likelihood function\n",
    "# This is a placeholder function; you'll replace it with your actual likelihood function\n",
    "def likelihood_function(transition_probs):\n",
    "    # Calculate likelihood based on transition_probs\n",
    "    # For the sake of example, this function just returns a dummy value\n",
    "    return -np.sum(transition_probs**2) # Normally, this would involve calculations based on observed data\n",
    "\n",
    "# Constraint: the rows of the transition matrix must sum to 1\n",
    "def row_sum_constraint(transition_probs):\n",
    "    return np.array([sum(transition_probs[0:3]) - 1,\n",
    "                     sum(transition_probs[3:6]) - 1,\n",
    "                     sum(transition_probs[6:9]) - 1])\n",
    "\n",
    "# Define the constraints and bounds for optimization\n",
    "constraints = ({'type': 'eq', 'fun': row_sum_constraint})\n",
    "bounds = [(0, 1)] * 9 # Each probability must be between 0 and 1\n",
    "\n",
    "# Perform the optimization to maximize the likelihood (minimize the negative likelihood)\n",
    "result = minimize(lambda x: -likelihood_function(x), initial_guess, method='SLSQP', bounds=bounds, constraints=constraints)\n",
    "\n",
    "# Reshape the result into a 3x3 transition matrix\n",
    "optimized_transition_matrix = result.x.reshape((3, 3))\n",
    "\n",
    "print(\"Optimized Transition Matrix:\")\n",
    "print(optimized_transition_matrix)\n"
   ]
  }
 ],
 "metadata": {
  "kernelspec": {
   "display_name": "Python 3 (ipykernel)",
   "language": "python",
   "name": "python3"
  },
  "language_info": {
   "codemirror_mode": {
    "name": "ipython",
    "version": 3
   },
   "file_extension": ".py",
   "mimetype": "text/x-python",
   "name": "python",
   "nbconvert_exporter": "python",
   "pygments_lexer": "ipython3",
   "version": "3.11.6"
  }
 },
 "nbformat": 4,
 "nbformat_minor": 5
}
