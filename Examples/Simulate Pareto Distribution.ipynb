{
 "cells": [
  {
   "cell_type": "code",
   "execution_count": 2,
   "id": "2d2de7d7-bb4b-4cab-9222-efde6208770e",
   "metadata": {},
   "outputs": [
    {
     "name": "stderr",
     "output_type": "stream",
     "text": [
      "/tmp/ipykernel_180632/3888270045.py:39: DeprecationWarning: Starting with ImageIO v3 the behavior of this function will switch to that of iio.v3.imread. To keep the current behavior (and make this warning disappear) use `import imageio.v2 as imageio` or call `imageio.v2.imread` directly.\n",
      "  images.append(imageio.imread(file_path))\n"
     ]
    }
   ],
   "source": [
    "import numpy as np\n",
    "import matplotlib.pyplot as plt\n",
    "import os\n",
    "import imageio\n",
    "\n",
    "#Draw observations\n",
    "\n",
    "def draw_pareto_observations(x_m, alpha, seed=0):\n",
    "    \"\"\"\n",
    "    Draws 1000 observations from a Pareto distribution with given parameters x_m and alpha.\n",
    "    Uses a fixed seed for reproducibility.\n",
    "    \"\"\"\n",
    "    np.random.seed(seed)\n",
    "    return (np.random.pareto(alpha, 100000) + 1) * x_m\n",
    "# Create plots and save\n",
    "\n",
    "\n",
    "def create_histograms(x_m, alpha_range):\n",
    "    if not os.path.exists('histograms'):\n",
    "        os.makedirs('histograms')\n",
    "\n",
    "    for alpha in alpha_range:\n",
    "        observations = draw_pareto_observations(x_m, alpha)\n",
    "        plt.hist(observations, bins=500, density=True)\n",
    "        plt.title(f'Pareto Distribution Histogram (alpha={alpha:.3f})')\n",
    "        plt.xlabel('Value')\n",
    "        plt.ylabel('Frequency')\n",
    "        plt.savefig(f'histograms/hist_{alpha:.3f}.png')\n",
    "        plt.close()\n",
    "# Create Gif\n",
    "\n",
    "\n",
    "def create_gif(image_folder, gif_name):\n",
    "    images = []\n",
    "    # Sort the files in reverse order so that it starts with the highest alpha value\n",
    "    for file_name in sorted(os.listdir(image_folder), reverse=True):\n",
    "        if file_name.endswith('.png'):\n",
    "            file_path = os.path.join(image_folder, file_name)\n",
    "            images.append(imageio.imread(file_path))\n",
    "    imageio.mimsave(gif_name, images, duration=0.1)\n",
    "# Parameters\n",
    "x_m = 1\n",
    "alpha_range = np.arange(5, 0.99, -0.01)\n",
    "\n",
    "# Create histograms\n",
    "create_histograms(x_m, alpha_range)\n",
    "\n",
    "# Create GIF\n",
    "create_gif('histograms', 'Pareto_dist_30.gif')\n"
   ]
  },
  {
   "cell_type": "code",
   "execution_count": 1,
   "id": "e315506f-7384-4776-bbf8-071d0d6a5b26",
   "metadata": {},
   "outputs": [
    {
     "name": "stderr",
     "output_type": "stream",
     "text": [
      "/tmp/ipykernel_180632/2587543330.py:14: DeprecationWarning: Starting with ImageIO v3 the behavior of this function will switch to that of iio.v3.imread. To keep the current behavior (and make this warning disappear) use `import imageio.v2 as imageio` or call `imageio.v2.imread` directly.\n",
      "  images.append(imageio.imread(file_path))\n"
     ]
    }
   ],
   "source": [
    "import os\n",
    "import imageio\n",
    "import numpy as np\n",
    "import matplotlib.pyplot as plt\n",
    "import os\n",
    "import imageio\n",
    "\n",
    "def create_gif(image_folder, gif_name):\n",
    "    images = []\n",
    "    # Sort the files in reverse order so that it starts with the highest alpha value\n",
    "    for file_name in sorted(os.listdir(image_folder), reverse=True):\n",
    "        if file_name.endswith('.png'):\n",
    "            file_path = os.path.join(image_folder, file_name)\n",
    "            images.append(imageio.imread(file_path))\n",
    "    imageio.mimsave(gif_name, images, duration=0.1)\n",
    "# Parameters\n",
    "# x_m = 1\n",
    "# alpha_range = np.arange(5, 0.99, -0.001)\n",
    "\n",
    "# # Create histograms\n",
    "# create_histograms(x_m, alpha_range)\n",
    "\n",
    "# Create GIF\n",
    "create_gif('histograms', 'Pareto_dist_300.gif')\n"
   ]
  },
  {
   "cell_type": "code",
   "execution_count": null,
   "id": "5f3448a7-768c-44b3-ab5c-36ffc32fae36",
   "metadata": {},
   "outputs": [],
   "source": []
  },
  {
   "cell_type": "code",
   "execution_count": null,
   "id": "8362709e-0147-48aa-a7bb-4c4052999005",
   "metadata": {},
   "outputs": [],
   "source": []
  }
 ],
 "metadata": {
  "kernelspec": {
   "display_name": "Python 3 (ipykernel)",
   "language": "python",
   "name": "python3"
  },
  "language_info": {
   "codemirror_mode": {
    "name": "ipython",
    "version": 3
   },
   "file_extension": ".py",
   "mimetype": "text/x-python",
   "name": "python",
   "nbconvert_exporter": "python",
   "pygments_lexer": "ipython3",
   "version": "3.11.6"
  }
 },
 "nbformat": 4,
 "nbformat_minor": 5
}
