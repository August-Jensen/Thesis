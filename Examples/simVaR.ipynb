{
 "cells": [
  {
   "cell_type": "code",
   "execution_count": 32,
   "metadata": {},
   "outputs": [],
   "source": [
    "#Importing packages we need\n",
    "from numpy import genfromtxt #This is used to loading a csv-file as a numpy array\n",
    "import numpy as np\n",
    "import random\n",
    "import scipy.optimize as opt #used to numerically optimize\n",
    "import matplotlib.pyplot as plt #pyplot is used to plot the data\n",
    "import pandas as pd\n",
    "from matplotlib import cm\n",
    "import numdifftools as nd #Using this package to numerically approximate the hessian matrix\n",
    "import time #Used to measure time to run code\n",
    "from scipy.stats import norm"
   ]
  },
  {
   "cell_type": "code",
   "execution_count": 51,
   "metadata": {},
   "outputs": [
    {
     "name": "stdout",
     "output_type": "stream",
     "text": [
      "Elapsed time (all computations)+--- 87.05097508430481 seconds ---\n"
     ]
    }
   ],
   "source": [
    "start_time = time.time()\n",
    "folder='Insert your path here! xD)'\n",
    "data=np.genfromtxt(folder+'SP500_from2012.csv', delimiter=',') #loading in dataset\n",
    "x = data[1:, 4:5] #100 times log-returns of the S&P 500 index from 2012\n",
    "x=x.T[0,:] #unpacking numpy array\n",
    "T=len(x)\n",
    "omega = 0.497556 #MLE of omega \n",
    "a = 0.208533 #//MLE of alpha\n",
    "alpha = 0.05\n",
    "loss=np.zeros(T-2)\n",
    "loss=-(x[1:T-1] + x[2:T]) #//future two-period loss\n",
    "M=10000 #number of monte carlo simulations\n",
    "temp1=np.zeros(M)\n",
    "temp2=-np.sqrt(np.var(x))*np.sqrt(2)*norm.ppf(alpha) #two period VaR for iid Gaussian returns\n",
    "\n",
    "VaR=np.zeros(T-2) #VaR variable\n",
    "VaR_Gauss=np.zeros(T-2) #VaR gaussian variable\n",
    "\n",
    "for i in range(T-2):\n",
    "    for j in range(M):\n",
    "        z=np.random.normal(loc=0.0, scale=1.0, size=2) #draw innovations from N(0,1)\n",
    "        r1=np.sqrt(omega+a*x[i]**2)*z[0] #//compute return at time i+1\n",
    "        r2=np.sqrt(omega+a*r1**2)*z[1] #//compute return at time i+2\n",
    "        temp1[j]=-(r1+r2)#//compute two-period loss\n",
    "    VaR[i]=np.quantile(temp1,1-alpha) #// compute (1-alpha) percentile of losses\n",
    "    VaR_Gauss[i]=temp2 #VaR under Gaussianity\n",
    "print('Elapsed time (all computations)+'\"--- %s seconds ---\" % (time.time() - start_time))"
   ]
  },
  {
   "cell_type": "code",
   "execution_count": 56,
   "metadata": {},
   "outputs": [],
   "source": [
    "#exporting to CSV file\n",
    "df=pd.DataFrame(loss, columns=[\"2_period_loss\"])\n",
    "df[\"2_period_VaR_Gauss\"]=VaR_Gauss\n",
    "df[\"2_period_VaR_ARCH\"]=VaR\n",
    "\n",
    "my_folder='Insert your path here! xD)'\n",
    "#my_folder='C:/Users/vjule/OneDrive/Dokumenter/skole/Kandidatfag/Financial_econometrics/Undervisning/Koder_ders_skal_konverteres/'\n",
    "df.to_csv(my_folder+\"simVaR.csv\")"
   ]
  }
 ],
 "metadata": {
  "kernelspec": {
   "display_name": "Python 3",
   "language": "python",
   "name": "python3"
  },
  "language_info": {
   "codemirror_mode": {
    "name": "ipython",
    "version": 3
   },
   "file_extension": ".py",
   "mimetype": "text/x-python",
   "name": "python",
   "nbconvert_exporter": "python",
   "pygments_lexer": "ipython3",
   "version": "3.7.4"
  }
 },
 "nbformat": 4,
 "nbformat_minor": 4
}
