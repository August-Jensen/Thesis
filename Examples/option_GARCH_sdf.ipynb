{
 "cells": [
  {
   "cell_type": "code",
   "execution_count": 43,
   "metadata": {},
   "outputs": [],
   "source": [
    "#Importing packages we need\n",
    "from numpy import genfromtxt #This is used to loading a csv-file as a numpy array\n",
    "import numpy as np\n",
    "import random\n",
    "import scipy.optimize as opt #used to numerically optimize\n",
    "import matplotlib.pyplot as plt #pyplot is used to plot the data\n",
    "import pandas as pd\n",
    "from matplotlib import cm\n",
    "import numdifftools as nd #Using this package to numerically approximate the hessian matrix\n",
    "import time #Used to measure time to run code\n",
    "from scipy.stats import norm"
   ]
  },
  {
   "cell_type": "code",
   "execution_count": 44,
   "metadata": {},
   "outputs": [],
   "source": [
    "#Defining all functions we need\n",
    "def sim_option_price_sdf(S_t, K, horizon, par, draws,r):\n",
    "    omega = par[0]\n",
    "    alpha = par[1]\n",
    "    beta = par[2]\n",
    "    gamma = par[3]\n",
    "\n",
    "    S_T = np.zeros(draws)\n",
    "    temp = np.zeros(draws)\n",
    "    \n",
    "    T = len(x)\n",
    "    \n",
    "    #//sigma2 sequence until time t\n",
    "    sigma2 = np.ones(T)\n",
    "    #//mu sequence until time t\n",
    "    mu = np.ones(T)\n",
    "    \n",
    "    sigma2[0] = np.var(x) #//Initial value. Other values could be chosen. Also the code could be modified such that the initial conditional volatility is a parameter to be estimated.\n",
    "    mu[0]=gamma\n",
    "    \n",
    "    for t in range(1,T):\n",
    "        mu[t]=gamma\n",
    "        sigma2[t]=omega+alpha*(x[t-1]-mu[t-1])**2+beta*sigma2[t-1]\n",
    "        \n",
    "    #//simulation of price paths and paths of the SDF\n",
    "    for i in range(draws):\n",
    "        ret = np.zeros(horizon) #//return sequence\n",
    "        theta =np.zeros(horizon) #//theta sequence\n",
    "        sdf =np.zeros(horizon) #//sdf sequence\n",
    "        m =np.zeros(horizon) #//mu sequence\n",
    "        s = sigma2[-1] #//estimate of sigma_t^2 with t the time of the last observation\n",
    "        s = omega + alpha*(x[-1]-mu[-1])**2 + beta*s  #//estimate of sigma_{t+1}^2 with t the time of the last observation\n",
    "        for j in range(horizon):\n",
    "            m[j]=gamma\n",
    "            theta[j]=(r-m[j])/s-1/2 #//estimate of theta_t\n",
    "            ret[j] =mu[j]+np.sqrt(s)*np.random.normal(loc=0.0, scale=1.0, size=1)[0] #simulated return\n",
    "            sdf[j]= np.exp(theta[j]*ret[j])/np.exp((1+theta[j])*m[j]+(1+theta[j])**2*s/2) #simulated sdf, i.e. m_{t,t+1}\n",
    "            s=omega + alpha*(ret[j]-mu[j])**2 + beta*s #//estimate of sigma_t+1^2 [i.e. sigma2 at time j+1]\n",
    "        rsum=np.sum(ret) #//accumulated return over the horizon\n",
    "        S_T[i] = S_t*np.exp(rsum) #//simulated price at the expiration date of the option (i.e. at the end of the horizon)\n",
    "        prodsdf = np.prod(sdf)  #//simulated sdf for discounting payoffs occuring at the expiration date, i.e. m_{t,T}\n",
    "        temp[i]=prodsdf*(S_T[i]-K)*int(S_T[i]>K) #//m_{t,T}*max(S_T-K,0)\n",
    "    return np.mean(temp)\n",
    "def black_scholes_h_periods(vol,K,S,r,h): #h = T-t , vol = sigma\n",
    "    u=(np.log(K*np.exp(-(r-vol**2/2)*h))-np.log(S))/(vol*np.sqrt(h))\n",
    "    return S*norm.cdf(-u+vol*np.sqrt(h))-np.exp(-r*h)*K*norm.cdf(-u)\n",
    "\n",
    "def GARCH11_filter(par,x): #function to find sigma^2 from observations\n",
    "    T=len(x)\n",
    "    omega = par[0]\n",
    "    alpha = par[1]\n",
    "    beta = par[2]\n",
    "    gamma = par[3]\n",
    "    #Define the series sigma^2_t (sigma2) as empty variables we assign values to later. \n",
    "    sigma2=np.empty(T)\n",
    "    mu=np.zeros(T)\n",
    "    sigma2[:]=np.nan #making all values NaN so we can check for errors afterwards\n",
    "    \n",
    "    sigma2[0]=np.var(x)\n",
    "    mu[0]=gamma\n",
    "    #sigma2[0]=sigma_bar/(1-alpha-beta) - Should normally use this expression but when we optimize the sigma2 might turn negative leading to errors\n",
    "    \n",
    "    for t in range(1,T):\n",
    "        mu[t]=gamma #//Note that the mu sequence could be something else. E.g. could include AR term. Parameters and expressions for mu have to be adjusted accordingly.\n",
    "        sigma2[t]=omega + alpha*(x[t-1]-mu[t-1])**2+beta*sigma2[t-1]\n",
    "    \n",
    "    return sigma2,mu\n",
    "\n",
    "def GARCH11_likelihood(par):\n",
    "    \n",
    "    sigma2,mu=GARCH11_filter(par,x)\n",
    "    \n",
    "    LogL=-np.sum(-np.log(sigma2)-(x-mu)**2/sigma2)\n",
    "    \n",
    "    return LogL\n",
    "\n",
    "def optim(Par):\n",
    "    par=Par\n",
    "    return GARCH11_likelihood(par)"
   ]
  },
  {
   "cell_type": "code",
   "execution_count": 45,
   "metadata": {},
   "outputs": [],
   "source": [
    "folder='Insert your path here! xD)'\n",
    "data=np.genfromtxt(folder+'SP500.csv', delimiter=',',usecols=np.arange(0,4)) #loading in first 4 columns\n",
    "x = data[15097:, 3:4]*100 #100 times log-returns of the S&P 500 index. January 4, 2010 - November 28, 2014\n",
    "x=x.T[0,:] #unpacking numpy array"
   ]
  },
  {
   "cell_type": "code",
   "execution_count": 46,
   "metadata": {},
   "outputs": [],
   "source": [
    "#GARCH Estimation\n",
    "#Maximization\n",
    "Par0=np.array([0.1,0.5,0.6,0]) #initial guesses\n",
    "res=opt.minimize(optim, Par0, method='SLSQP',bounds=((0.0001,None),(0,None),(0,1),(None,None)))"
   ]
  },
  {
   "cell_type": "code",
   "execution_count": 47,
   "metadata": {},
   "outputs": [
    {
     "data": {
      "text/plain": [
       "array([0.04136765, 0.14644764, 0.81185233, 0.07278178])"
      ]
     },
     "execution_count": 47,
     "metadata": {},
     "output_type": "execute_result"
    }
   ],
   "source": [
    "par=res.x #Assigning results from optimization to \"Par\"\n",
    "par"
   ]
  },
  {
   "cell_type": "code",
   "execution_count": 48,
   "metadata": {},
   "outputs": [
    {
     "name": "stdout",
     "output_type": "stream",
     "text": [
      "Price based on SDF, (Zhu and Ling, 2015) = 62.13782042836884\n"
     ]
    }
   ],
   "source": [
    "#//We rescale the returns the volatility has a correct scale\n",
    "x = x/100\n",
    "#//We rescale the estimate of gamma and omega such that the conditional mean and volatility have a correct scale\n",
    "par[0] = par[0]/100**2 #//omega\n",
    "par[3] = par[3]/100 #//gamma\n",
    "r= 0.003/251 #// Risk free interest rate of 0.3 percent per year converted into a daily rate.\tThe interest rate is divided by 251, which is roughly the number of trading days during a year.\n",
    "S_t = 1990.20# // Last traded price of the index on September 17, 2015\n",
    "K= 1950 #// Strike price\n",
    "h= 21#// Days until maturity of the option, i.e. T - t. 21 corresponds to the option expiring on October 16, 2015.\n",
    "#//We rescale the returns the volatility has a correct scale\n",
    "B=100000 #//number of draws for simulations\n",
    "print('Price based on SDF, (Zhu and Ling, 2015) = '+str(sim_option_price_sdf(S_t, K, h, par, B,r)))"
   ]
  },
  {
   "cell_type": "code",
   "execution_count": 49,
   "metadata": {},
   "outputs": [],
   "source": [
    "strikes=np.array([1650,1700,1750,1800,1850,1900,1950, 2000,2050 ,2100, 2150, 2200])\n",
    "prices  = np.array([335.2, 286.2, 237.8, 190.5, 144.95, 102.1, 63.45, 31.3, 10.0, 1.6, 0.3, 0.1])\n",
    "numpr=len(strikes) #number of prices we need to compute\n",
    "pbs = np.zeros(numpr) #//array for prices based on BS formula\n",
    "pgarch = np.zeros(numpr) #//array for prices based on GARCH\n",
    "vol=np.var(x)**0.5"
   ]
  },
  {
   "cell_type": "code",
   "execution_count": 50,
   "metadata": {},
   "outputs": [
    {
     "name": "stdout",
     "output_type": "stream",
     "text": [
      "Elapsed time (all computations)+--- 415.189071893692 seconds ---\n"
     ]
    }
   ],
   "source": [
    "start_time = time.time()\n",
    "for i in range(numpr):\n",
    "    pbs[i]=black_scholes_h_periods(vol, strikes[i], S_t, r, h) # //price based on BS\n",
    "    pgarch[i]=sim_option_price_sdf(S_t, strikes[i], h, par, B,r) #//price based on GARCH\n",
    "print('Elapsed time (all computations)+'\"--- %s seconds ---\" % (time.time() - start_time))"
   ]
  },
  {
   "cell_type": "code",
   "execution_count": 51,
   "metadata": {},
   "outputs": [],
   "source": [
    "Results=pd.DataFrame(strikes,columns=['Strikes']) #creating a dataframe to present results nicely"
   ]
  },
  {
   "cell_type": "code",
   "execution_count": 52,
   "metadata": {},
   "outputs": [],
   "source": [
    "Results['Mkt. Prices']=prices\n",
    "Results['BS Prices']=pbs\n",
    "Results['GARCH Prices']=pgarch"
   ]
  },
  {
   "cell_type": "code",
   "execution_count": 53,
   "metadata": {},
   "outputs": [
    {
     "data": {
      "text/html": [
       "<div>\n",
       "<style scoped>\n",
       "    .dataframe tbody tr th:only-of-type {\n",
       "        vertical-align: middle;\n",
       "    }\n",
       "\n",
       "    .dataframe tbody tr th {\n",
       "        vertical-align: top;\n",
       "    }\n",
       "\n",
       "    .dataframe thead th {\n",
       "        text-align: right;\n",
       "    }\n",
       "</style>\n",
       "<table border=\"1\" class=\"dataframe\">\n",
       "  <thead>\n",
       "    <tr style=\"text-align: right;\">\n",
       "      <th></th>\n",
       "      <th>Strikes</th>\n",
       "      <th>Mkt. Prices</th>\n",
       "      <th>BS Prices</th>\n",
       "      <th>GARCH Prices</th>\n",
       "    </tr>\n",
       "  </thead>\n",
       "  <tbody>\n",
       "    <tr>\n",
       "      <td>0</td>\n",
       "      <td>1650</td>\n",
       "      <td>335.20</td>\n",
       "      <td>340.614516</td>\n",
       "      <td>340.744421</td>\n",
       "    </tr>\n",
       "    <tr>\n",
       "      <td>1</td>\n",
       "      <td>1700</td>\n",
       "      <td>286.20</td>\n",
       "      <td>290.633225</td>\n",
       "      <td>290.857165</td>\n",
       "    </tr>\n",
       "    <tr>\n",
       "      <td>2</td>\n",
       "      <td>1750</td>\n",
       "      <td>237.80</td>\n",
       "      <td>240.704948</td>\n",
       "      <td>241.369245</td>\n",
       "    </tr>\n",
       "    <tr>\n",
       "      <td>3</td>\n",
       "      <td>1800</td>\n",
       "      <td>190.50</td>\n",
       "      <td>191.094072</td>\n",
       "      <td>192.120780</td>\n",
       "    </tr>\n",
       "    <tr>\n",
       "      <td>4</td>\n",
       "      <td>1850</td>\n",
       "      <td>144.95</td>\n",
       "      <td>142.758165</td>\n",
       "      <td>144.416391</td>\n",
       "    </tr>\n",
       "    <tr>\n",
       "      <td>5</td>\n",
       "      <td>1900</td>\n",
       "      <td>102.10</td>\n",
       "      <td>97.958817</td>\n",
       "      <td>100.104088</td>\n",
       "    </tr>\n",
       "    <tr>\n",
       "      <td>6</td>\n",
       "      <td>1950</td>\n",
       "      <td>63.45</td>\n",
       "      <td>60.112253</td>\n",
       "      <td>62.281101</td>\n",
       "    </tr>\n",
       "    <tr>\n",
       "      <td>7</td>\n",
       "      <td>2000</td>\n",
       "      <td>31.30</td>\n",
       "      <td>32.185450</td>\n",
       "      <td>34.034541</td>\n",
       "    </tr>\n",
       "    <tr>\n",
       "      <td>8</td>\n",
       "      <td>2050</td>\n",
       "      <td>10.00</td>\n",
       "      <td>14.753750</td>\n",
       "      <td>16.391705</td>\n",
       "    </tr>\n",
       "    <tr>\n",
       "      <td>9</td>\n",
       "      <td>2100</td>\n",
       "      <td>1.60</td>\n",
       "      <td>5.720934</td>\n",
       "      <td>7.564411</td>\n",
       "    </tr>\n",
       "    <tr>\n",
       "      <td>10</td>\n",
       "      <td>2150</td>\n",
       "      <td>0.30</td>\n",
       "      <td>1.865810</td>\n",
       "      <td>3.242918</td>\n",
       "    </tr>\n",
       "    <tr>\n",
       "      <td>11</td>\n",
       "      <td>2200</td>\n",
       "      <td>0.10</td>\n",
       "      <td>0.511380</td>\n",
       "      <td>1.498055</td>\n",
       "    </tr>\n",
       "  </tbody>\n",
       "</table>\n",
       "</div>"
      ],
      "text/plain": [
       "    Strikes  Mkt. Prices   BS Prices  GARCH Prices\n",
       "0      1650       335.20  340.614516    340.744421\n",
       "1      1700       286.20  290.633225    290.857165\n",
       "2      1750       237.80  240.704948    241.369245\n",
       "3      1800       190.50  191.094072    192.120780\n",
       "4      1850       144.95  142.758165    144.416391\n",
       "5      1900       102.10   97.958817    100.104088\n",
       "6      1950        63.45   60.112253     62.281101\n",
       "7      2000        31.30   32.185450     34.034541\n",
       "8      2050        10.00   14.753750     16.391705\n",
       "9      2100         1.60    5.720934      7.564411\n",
       "10     2150         0.30    1.865810      3.242918\n",
       "11     2200         0.10    0.511380      1.498055"
      ]
     },
     "execution_count": 53,
     "metadata": {},
     "output_type": "execute_result"
    }
   ],
   "source": [
    "Results"
   ]
  },
  {
   "cell_type": "code",
   "execution_count": 54,
   "metadata": {},
   "outputs": [
    {
     "name": "stdout",
     "output_type": "stream",
     "text": [
      "average absolute relative pricing error, GARCH 0.023168541263506353\n",
      "average absolute relative pricing error, BS 0.022944046697527375\n"
     ]
    }
   ],
   "source": [
    "print('average absolute relative pricing error, GARCH '+str(abs((Results['Mkt. Prices'][0:8]-Results['GARCH Prices'][0:8])/Results['Mkt. Prices'][0:8]).mean())) #ignoring out of money options i.e Strike ov 2100 and higher\n",
    "print('average absolute relative pricing error, BS '+str(abs((Results['Mkt. Prices'][0:8]-Results['BS Prices'][0:8])/Results['Mkt. Prices'][0:8]).mean())) #ignoring out of money options i.e Strike ov 2100 and higher"
   ]
  },
  {
   "cell_type": "code",
   "execution_count": null,
   "metadata": {},
   "outputs": [],
   "source": []
  },
  {
   "cell_type": "code",
   "execution_count": null,
   "metadata": {},
   "outputs": [],
   "source": []
  }
 ],
 "metadata": {
  "kernelspec": {
   "display_name": "Python 3",
   "language": "python",
   "name": "python3"
  },
  "language_info": {
   "codemirror_mode": {
    "name": "ipython",
    "version": 3
   },
   "file_extension": ".py",
   "mimetype": "text/x-python",
   "name": "python",
   "nbconvert_exporter": "python",
   "pygments_lexer": "ipython3",
   "version": "3.7.4"
  }
 },
 "nbformat": 4,
 "nbformat_minor": 4
}
