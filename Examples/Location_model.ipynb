{
 "cells": [
  {
   "cell_type": "code",
   "execution_count": 1,
   "metadata": {},
   "outputs": [],
   "source": [
    "#Importing packages we need\n",
    "from numpy import genfromtxt #This is used to loading a csv-file as a numpy array\n",
    "import numpy as np\n",
    "import scipy.optimize as opt #used to numerically optimize\n",
    "import matplotlib.pyplot as plt #pyplot is used to plot the data\n",
    "import pandas as pd\n",
    "from matplotlib import cm\n",
    "import numdifftools as nd #Using this package to numerically approximate the hessian matrix\n",
    "import time #Used to measure time to run code"
   ]
  },
  {
   "cell_type": "code",
   "execution_count": 2,
   "metadata": {},
   "outputs": [
    {
     "name": "stdout",
     "output_type": "stream",
     "text": [
      "Elapsed time (all computations)+--- 0.23822832107543945 seconds ---\n"
     ]
    }
   ],
   "source": [
    "start_time = time.time()\n",
    "T=2000 #Sample length\n",
    "theta0=0 #True value parameter\n",
    "\n",
    "M=2000 #Number of monte carlo replications\n",
    "sim=np.empty([M,5]) #variable to store realisations\n",
    "z=np.random.normal(loc=0.0, scale=1.0, size=M) #loc determined mean, scale is the std deviaion and size is the number of simulations\n",
    "\n",
    "for t in range(M):\n",
    "    x=np.random.normal(loc=0.0, scale=1.0, size=T) +theta0\n",
    "    theta_hat=max(np.average(x),0) #compute constrained ML estimate, i.e max(sample average, 0)\n",
    "    LR=2*(np.sum(-(x-theta_hat)**2/2)-np.sum(-(x-theta0)**2/2)) #Compute likelihood ratio statistics for testing theta_hat=theta0\n",
    "    sim[t]=[theta_hat,LR,z[t],z[t]**2,max(z[t],0)**2]\n",
    "print('Elapsed time (all computations)+'\"--- %s seconds ---\" % (time.time() - start_time))"
   ]
  },
  {
   "cell_type": "code",
   "execution_count": 3,
   "metadata": {},
   "outputs": [
    {
     "name": "stdout",
     "output_type": "stream",
     "text": [
      "95-percentiles of (thetahat, LR, N(0,1), Chi2, HalfChi2) = [0.03725726 2.77621028 1.66577721 4.12867083 2.7748193 ]\n"
     ]
    }
   ],
   "source": [
    "print(\"95-percentiles of (thetahat, LR, N(0,1), Chi2, HalfChi2) = \"+ str(np.quantile(sim,0.95, axis=0)))"
   ]
  },
  {
   "cell_type": "code",
   "execution_count": 29,
   "metadata": {},
   "outputs": [],
   "source": [
    "#Now storing the values as a pandas dataframe and save it as a csv file\n",
    "#Choose folder where you store the CSV file - NOTE: Python does not understand space in file path (Use underscore,_,!!)\n",
    "#Furthermore use notation 'C:/Users/' for the path\n",
    "df=pd.DataFrame(sim, columns=[\"thetahat\",\"LR\", \"N(0,1)\", \"Chi2\",\"HalfChi2\"])\n",
    "my_folder='Insert your path here! xD)'\n",
    "df.to_csv(my_folder+\"simlocation.csv\")"
   ]
  },
  {
   "cell_type": "code",
   "execution_count": null,
   "metadata": {},
   "outputs": [],
   "source": []
  },
  {
   "cell_type": "code",
   "execution_count": null,
   "metadata": {},
   "outputs": [],
   "source": []
  }
 ],
 "metadata": {
  "kernelspec": {
   "display_name": "Python 3",
   "language": "python",
   "name": "python3"
  },
  "language_info": {
   "codemirror_mode": {
    "name": "ipython",
    "version": 3
   },
   "file_extension": ".py",
   "mimetype": "text/x-python",
   "name": "python",
   "nbconvert_exporter": "python",
   "pygments_lexer": "ipython3",
   "version": "3.7.4"
  }
 },
 "nbformat": 4,
 "nbformat_minor": 4
}
